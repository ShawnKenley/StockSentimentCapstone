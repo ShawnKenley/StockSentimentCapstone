{
 "cells": [
  {
   "cell_type": "markdown",
   "id": "ef56aefa",
   "metadata": {},
   "source": [
    "# Importing Packages and Datasets"
   ]
  },
  {
   "cell_type": "code",
   "execution_count": 1,
   "id": "fe69ea8c",
   "metadata": {},
   "outputs": [],
   "source": [
    "import pandas as pd\n",
    "import numpy as np"
   ]
  },
  {
   "cell_type": "code",
   "execution_count": 2,
   "id": "a880d128",
   "metadata": {},
   "outputs": [],
   "source": [
    "Prices = pd.read_csv(\"GLO.csv\")"
   ]
  },
  {
   "cell_type": "code",
   "execution_count": 3,
   "id": "76738d61",
   "metadata": {},
   "outputs": [],
   "source": [
    "# from datetime import datetime\n",
    "\n",
    "# def to_date(DataFrame):\n",
    "#     DataFrame['Date'] = [datetime.strptime(x, '%B %d, %Y %I:%M:%S %p').strftime('%m/%d/%y') for x in DataFrame['Date_Time']]\n",
    "#     DataFrame['Date'] = pd.to_datetime(DataFrame['Date'])"
   ]
  },
  {
   "cell_type": "code",
   "execution_count": 4,
   "id": "b90980ff",
   "metadata": {},
   "outputs": [],
   "source": [
    "# investa_df = pd.read_csv(\"Investagrams_DataFrame.csv\")\n",
    "# investa_df['Stock_Code'] = investa_df['Stock_Code'].str.strip()\n",
    "# investa_df['Date_Time'] = investa_df['Date_Time'].replace(u'\\xa0', u'').str.strip()"
   ]
  },
  {
   "cell_type": "code",
   "execution_count": 5,
   "id": "6181e173",
   "metadata": {},
   "outputs": [],
   "source": [
    "# to_date(investa_df)\n",
    "# investa_df = investa_df[['Links', 'Date']]"
   ]
  },
  {
   "cell_type": "code",
   "execution_count": 6,
   "id": "b72c163f",
   "metadata": {},
   "outputs": [],
   "source": [
    "#news_df = pd.read_csv(\"all_news_edit_2.csv\").drop(columns='Unnamed: 0')"
   ]
  },
  {
   "cell_type": "code",
   "execution_count": 7,
   "id": "1ea113ce",
   "metadata": {},
   "outputs": [],
   "source": [
    "#news_df = news_df.merge(investa_df, how='left', left_on='Link', right_on='Links')"
   ]
  },
  {
   "cell_type": "code",
   "execution_count": 8,
   "id": "38bd1ac5",
   "metadata": {
    "scrolled": true
   },
   "outputs": [],
   "source": [
    "# news_df['Date_x'].fillna(news_df['Date_y'], inplace=True)\n",
    "# news_df.rename(columns={'Date_x': 'Date'}, inplace=True)\n",
    "# news_df = news_df.drop(columns = ['Links', 'Date_y'])"
   ]
  },
  {
   "cell_type": "code",
   "execution_count": 9,
   "id": "3637a1e0",
   "metadata": {},
   "outputs": [],
   "source": [
    "# news_df.to_csv('complete_dates_all_news.csv', index=False)"
   ]
  },
  {
   "cell_type": "code",
   "execution_count": 10,
   "id": "c40f11d3",
   "metadata": {},
   "outputs": [],
   "source": [
    "news_df = pd.read_csv(\"complete_dates_all_news.csv\")"
   ]
  },
  {
   "cell_type": "code",
   "execution_count": 11,
   "id": "efe3d63c",
   "metadata": {},
   "outputs": [],
   "source": [
    "#news_df"
   ]
  },
  {
   "cell_type": "code",
   "execution_count": 12,
   "id": "d678fca6",
   "metadata": {},
   "outputs": [],
   "source": [
    "#news_df['stock'].value_counts().head(10)"
   ]
  },
  {
   "cell_type": "code",
   "execution_count": 13,
   "id": "a8501029",
   "metadata": {},
   "outputs": [],
   "source": [
    "#news_df['stock'] = news_df['stock'].replace({'PSEi': 'PSEI', 'PSE': 'PSEI'})"
   ]
  },
  {
   "cell_type": "code",
   "execution_count": 14,
   "id": "1383bfa4",
   "metadata": {},
   "outputs": [],
   "source": [
    "#values = ['PSEI','AC','MER','GLO','SMC','SM','ABS','PAL','BPI','BDO']\n",
    "#conditions = list(map(news_df['stock'].str.contains, values))\n",
    "#news_df['stock-rename'] = np.select(conditions, values, 'other')"
   ]
  },
  {
   "cell_type": "code",
   "execution_count": 15,
   "id": "d773980e",
   "metadata": {},
   "outputs": [],
   "source": [
    "#for_plot = news_df['stock-rename'].value_counts()\n",
    "#for_plot"
   ]
  },
  {
   "cell_type": "code",
   "execution_count": 16,
   "id": "15a78a2a",
   "metadata": {},
   "outputs": [],
   "source": [
    "#for_plot.plot(kind=\"bar\")"
   ]
  },
  {
   "cell_type": "code",
   "execution_count": 17,
   "id": "c955928d",
   "metadata": {},
   "outputs": [],
   "source": [
    "Stock_df = news_df[news_df['stock'] == 'GLO'].reset_index().drop(columns='index')"
   ]
  },
  {
   "cell_type": "code",
   "execution_count": 18,
   "id": "4d3105ae",
   "metadata": {},
   "outputs": [
    {
     "data": {
      "text/html": [
       "<div>\n",
       "<style scoped>\n",
       "    .dataframe tbody tr th:only-of-type {\n",
       "        vertical-align: middle;\n",
       "    }\n",
       "\n",
       "    .dataframe tbody tr th {\n",
       "        vertical-align: top;\n",
       "    }\n",
       "\n",
       "    .dataframe thead th {\n",
       "        text-align: right;\n",
       "    }\n",
       "</style>\n",
       "<table border=\"1\" class=\"dataframe\">\n",
       "  <thead>\n",
       "    <tr style=\"text-align: right;\">\n",
       "      <th></th>\n",
       "      <th>Date</th>\n",
       "      <th>Source</th>\n",
       "      <th>Body</th>\n",
       "      <th>Link</th>\n",
       "      <th>Title</th>\n",
       "      <th>stock</th>\n",
       "    </tr>\n",
       "  </thead>\n",
       "  <tbody>\n",
       "  </tbody>\n",
       "</table>\n",
       "</div>"
      ],
      "text/plain": [
       "Empty DataFrame\n",
       "Columns: [Date, Source, Body, Link, Title, stock]\n",
       "Index: []"
      ]
     },
     "execution_count": 18,
     "metadata": {},
     "output_type": "execute_result"
    }
   ],
   "source": [
    "Stock_df[Stock_df.Date.isnull()]"
   ]
  },
  {
   "cell_type": "markdown",
   "id": "daa40da7",
   "metadata": {},
   "source": [
    "# Text Preprocessing"
   ]
  },
  {
   "cell_type": "code",
   "execution_count": 19,
   "id": "02d17ae4",
   "metadata": {},
   "outputs": [
    {
     "name": "stderr",
     "output_type": "stream",
     "text": [
      "[nltk_data] Downloading package punkt to\n",
      "[nltk_data]     /Users/nillethmaeannvpontino/nltk_data...\n",
      "[nltk_data]   Package punkt is already up-to-date!\n",
      "[nltk_data] Downloading package stopwords to\n",
      "[nltk_data]     /Users/nillethmaeannvpontino/nltk_data...\n",
      "[nltk_data]   Package stopwords is already up-to-date!\n"
     ]
    }
   ],
   "source": [
    "import pandas as pd\n",
    "import numpy as np\n",
    "\n",
    "import contractions\n",
    "import string\n",
    "\n",
    "import nltk\n",
    "from nltk.tokenize import word_tokenize\n",
    "nltk.download('punkt')\n",
    "from nltk.corpus import stopwords\n",
    "nltk.download('stopwords')\n",
    "stop_words = set(stopwords.words('english'))\n",
    "\n",
    "import pysentiment2 as ps\n",
    "lm = ps.LM()\n",
    "hiv4 = ps.HIV4()"
   ]
  },
  {
   "cell_type": "code",
   "execution_count": 20,
   "id": "d8768c78",
   "metadata": {},
   "outputs": [],
   "source": [
    "def to_lowercase(text):\n",
    "  text = text.lower()\n",
    "  return text\n",
    "\n",
    "def fix_contractions(text):\n",
    "  text = contractions.fix(text)\n",
    "  return text\n",
    "\n",
    "    \n",
    "def lm_tokenize(text,\n",
    "                    keep_punct = False,\n",
    "                    keep_alnum = False,\n",
    "                    keep_stop = False):\n",
    "  \n",
    "  token_list = lm.tokenize(text)\n",
    "\n",
    "  if not keep_punct:\n",
    "    token_list = [token for token in token_list\n",
    "                  if token not in string.punctuation]\n",
    "\n",
    "  if not keep_alnum:\n",
    "    token_list = [token for token in token_list if token.isalpha()]\n",
    "  \n",
    "  if not keep_stop:\n",
    "    stop_words = set(stopwords.words('english'))\n",
    "    stop_words.discard('not')\n",
    "    token_list = [token for token in token_list if not token in stop_words]\n",
    "\n",
    "  return token_list\n",
    "\n",
    "########################################################################\n",
    "\n",
    "def lm_preprocess_text(text):\n",
    "    \n",
    "    text = to_lowercase(text) # lower case\n",
    "    text = fix_contractions(text) # replace contractions\n",
    "    \n",
    "    tokens = lm_tokenize(text, keep_punct = False,\n",
    "                    keep_alnum = False,\n",
    "                    keep_stop = False)\n",
    "        \n",
    "    return tokens"
   ]
  },
  {
   "cell_type": "markdown",
   "id": "746bb863",
   "metadata": {},
   "source": [
    "# Getting Sentiment Scores using Harvard IV dictionary"
   ]
  },
  {
   "cell_type": "code",
   "execution_count": 21,
   "id": "bf9fa2a5",
   "metadata": {},
   "outputs": [],
   "source": [
    "#harvard IV dictionary\n",
    "# def get_hiv4_score(DF1): #edit ['Bodies'] if diff col_name\n",
    "#     DF1['hiv4_tokens'] = DF1.apply(lambda row: hiv4_preprocess_text(row['Body']),axis=1)\n",
    "#     DF1['hiv4_score'] = [hiv4.get_score(x) for x in DF1['hiv4_tokens']]\n",
    "    \n",
    "#     # Iterate through the headlines and get the polarity scores\n",
    "#     hiv4_scores = DF1['hiv4_score'].tolist()\n",
    "    \n",
    "#     # Convert the 'scores' list of dicts into a DataFrame\n",
    "#     hiv4_scores_df = pd.DataFrame(hiv4_scores)\n",
    "    \n",
    "#     # Join the DataFrames of the news and the list of dicts\n",
    "#     DF1 = DF1.join(hiv4_scores_df, rsuffix='_hiv4')\n",
    "    \n",
    "#     #removing unnecessary columns \n",
    "#     DF1 = DF1.drop(columns=['Positive', 'Negative','hiv4_score','Subjectivity', 'hiv4_tokens'])\n",
    "    \n",
    "#     return DF1"
   ]
  },
  {
   "cell_type": "code",
   "execution_count": 22,
   "id": "649ce6b5",
   "metadata": {},
   "outputs": [],
   "source": [
    "#LM dictionary\n",
    "def get_lm_score(DF1): #edit ['Bodies'] if diff col_name\n",
    "    #consolidated['tokens'] = [lm.tokenize(x) for x in consolidated['Title']]\n",
    "    DF1['lm_tokens'] = DF1.apply(lambda row: lm_preprocess_text(row['Body']),axis=1)\n",
    "    DF1['lm_score'] = [lm.get_score(x) for x in DF1['lm_tokens']]\n",
    "\n",
    "    # Iterate through the headlines and get the polarity scores\n",
    "    lm_scores = DF1['lm_score'].tolist()\n",
    "\n",
    "    # Convert the 'scores' list of dicts into a DataFrame\n",
    "    lm_scores_df = pd.DataFrame(lm_scores)\n",
    "\n",
    "    # Join the DataFrames of the news and the list of dicts\n",
    "    DF1 = DF1.join(lm_scores_df, rsuffix='_right')\n",
    "    \n",
    "    #removing unnecessary columns \n",
    "    DF1 = DF1.drop(columns=['Positive', 'Negative','Subjectivity'])\n",
    "    \n",
    "    return DF1"
   ]
  },
  {
   "cell_type": "code",
   "execution_count": 23,
   "id": "ea6bf0a8",
   "metadata": {},
   "outputs": [
    {
     "data": {
      "text/html": [
       "<div>\n",
       "<style scoped>\n",
       "    .dataframe tbody tr th:only-of-type {\n",
       "        vertical-align: middle;\n",
       "    }\n",
       "\n",
       "    .dataframe tbody tr th {\n",
       "        vertical-align: top;\n",
       "    }\n",
       "\n",
       "    .dataframe thead th {\n",
       "        text-align: right;\n",
       "    }\n",
       "</style>\n",
       "<table border=\"1\" class=\"dataframe\">\n",
       "  <thead>\n",
       "    <tr style=\"text-align: right;\">\n",
       "      <th></th>\n",
       "      <th>Date</th>\n",
       "      <th>Source</th>\n",
       "      <th>Body</th>\n",
       "      <th>Link</th>\n",
       "      <th>Title</th>\n",
       "      <th>stock</th>\n",
       "      <th>lm_tokens</th>\n",
       "      <th>lm_score</th>\n",
       "      <th>Polarity</th>\n",
       "    </tr>\n",
       "  </thead>\n",
       "  <tbody>\n",
       "    <tr>\n",
       "      <th>0</th>\n",
       "      <td>7/13/21</td>\n",
       "      <td>Investagrams</td>\n",
       "      <td>Successful companies can be born in the toughe...</td>\n",
       "      <td>https://business.inquirer.net/327018/globe-pre...</td>\n",
       "      <td>Globe President and CEO Ernest Cu to businesse...</td>\n",
       "      <td>GLO</td>\n",
       "      <td>[success, compani, toughest, time, learn, pivo...</td>\n",
       "      <td>{'Positive': 23, 'Negative': 6, 'Polarity': 0....</td>\n",
       "      <td>0.586207</td>\n",
       "    </tr>\n",
       "    <tr>\n",
       "      <th>1</th>\n",
       "      <td>7/13/21</td>\n",
       "      <td>Investagrams</td>\n",
       "      <td>Globe and its partners have provided connectiv...</td>\n",
       "      <td>https://business.inquirer.net/326984/call-of-d...</td>\n",
       "      <td>Call of duty: 1,500 COVID-19 medical frontline...</td>\n",
       "      <td>GLO</td>\n",
       "      <td>[globe, partner, provid, connect, support, med...</td>\n",
       "      <td>{'Positive': 11, 'Negative': 8, 'Polarity': 0....</td>\n",
       "      <td>0.157895</td>\n",
       "    </tr>\n",
       "    <tr>\n",
       "      <th>2</th>\n",
       "      <td>2021-07-13 00:00:00</td>\n",
       "      <td>Investagrams</td>\n",
       "      <td>LISTED telecommunications firm Globe Telecom, ...</td>\n",
       "      <td>https://www.bworldonline.com/globe-boosts-conn...</td>\n",
       "      <td>Globe boosts connectivity in 3 hospitals - Bus...</td>\n",
       "      <td>GLO</td>\n",
       "      <td>[list, telecommun, firm, globe, telecom, partn...</td>\n",
       "      <td>{'Positive': 4, 'Negative': 6, 'Polarity': -0....</td>\n",
       "      <td>-0.200000</td>\n",
       "    </tr>\n",
       "    <tr>\n",
       "      <th>3</th>\n",
       "      <td>7/12/21</td>\n",
       "      <td>Investagrams</td>\n",
       "      <td>Industry giant Globe Telecom sealed more partn...</td>\n",
       "      <td>https://business.inquirer.net/326915/globe-cli...</td>\n",
       "      <td>Globe clinches new 5G roaming partnerships in ...</td>\n",
       "      <td>GLO</td>\n",
       "      <td>[industri, giant, globe, telecom, partnership,...</td>\n",
       "      <td>{'Positive': 8, 'Negative': 7, 'Polarity': 0.0...</td>\n",
       "      <td>0.066667</td>\n",
       "    </tr>\n",
       "    <tr>\n",
       "      <th>4</th>\n",
       "      <td>2021-07-12 00:00:00</td>\n",
       "      <td>Investagrams</td>\n",
       "      <td>AGGRESSIVE fifth generation (5G) technology ex...</td>\n",
       "      <td>https://www.bworldonline.com/globe-telecoms-ag...</td>\n",
       "      <td>Globe Telecom’s ‘aggressive’ 5G expansion lure...</td>\n",
       "      <td>GLO</td>\n",
       "      <td>[aggress, gener, g, technolog, expans, drove, ...</td>\n",
       "      <td>{'Positive': 4, 'Negative': 0, 'Polarity': 0.9...</td>\n",
       "      <td>1.000000</td>\n",
       "    </tr>\n",
       "    <tr>\n",
       "      <th>...</th>\n",
       "      <td>...</td>\n",
       "      <td>...</td>\n",
       "      <td>...</td>\n",
       "      <td>...</td>\n",
       "      <td>...</td>\n",
       "      <td>...</td>\n",
       "      <td>...</td>\n",
       "      <td>...</td>\n",
       "      <td>...</td>\n",
       "    </tr>\n",
       "    <tr>\n",
       "      <th>587</th>\n",
       "      <td>10/14/20</td>\n",
       "      <td>Manila Bulletin</td>\n",
       "      <td>Despite the pandemic, Globe Telecom Inc. has u...</td>\n",
       "      <td>https://mb.com.ph/2020/10/14/globe-exceeds-net...</td>\n",
       "      <td>Globe exceeds network upgrade forecast</td>\n",
       "      <td>GLO</td>\n",
       "      <td>[despit, pandem, globe, telecom, upgrad, perce...</td>\n",
       "      <td>{'Positive': 5, 'Negative': 4, 'Polarity': 0.1...</td>\n",
       "      <td>0.111111</td>\n",
       "    </tr>\n",
       "    <tr>\n",
       "      <th>588</th>\n",
       "      <td>11/29/20</td>\n",
       "      <td>Manila Bulletin</td>\n",
       "      <td>Globe Telecom Inc., one of the largest cloud u...</td>\n",
       "      <td>https://mb.com.ph/2020/11/29/globe-acquires-cl...</td>\n",
       "      <td>Globe acquires cloud-based services provider</td>\n",
       "      <td>GLO</td>\n",
       "      <td>[globe, telecom, largest, user, offici, comple...</td>\n",
       "      <td>{'Positive': 9, 'Negative': 4, 'Polarity': 0.3...</td>\n",
       "      <td>0.384615</td>\n",
       "    </tr>\n",
       "    <tr>\n",
       "      <th>589</th>\n",
       "      <td>5/3/21</td>\n",
       "      <td>Manila Bulletin</td>\n",
       "      <td>Despite quarantine challenges, Globe Telecom I...</td>\n",
       "      <td>https://mb.com.ph/2021/05/03/globe-q1-5gs-cell...</td>\n",
       "      <td>Globe: Q1 5G cellsite targets on track</td>\n",
       "      <td>GLO</td>\n",
       "      <td>[despit, quarantin, challeng, globe, telecom, ...</td>\n",
       "      <td>{'Positive': 2, 'Negative': 2, 'Polarity': 0.0...</td>\n",
       "      <td>0.000000</td>\n",
       "    </tr>\n",
       "    <tr>\n",
       "      <th>590</th>\n",
       "      <td>10/10/20</td>\n",
       "      <td>Manila Bulletin</td>\n",
       "      <td>Globe Telecom Inc. will install at least 800 c...</td>\n",
       "      <td>https://mb.com.ph/2020/10/10/globe-telecom-ins...</td>\n",
       "      <td>Globe Telecom Installing 800 cell sites this year</td>\n",
       "      <td>GLO</td>\n",
       "      <td>[globe, telecom, instal, cell, end, network, e...</td>\n",
       "      <td>{'Positive': 3, 'Negative': 1, 'Polarity': 0.4...</td>\n",
       "      <td>0.500000</td>\n",
       "    </tr>\n",
       "    <tr>\n",
       "      <th>591</th>\n",
       "      <td>11/23/20</td>\n",
       "      <td>Manila Bulletin</td>\n",
       "      <td>Globe Telecom Inc. today (November 23) reporte...</td>\n",
       "      <td>https://mb.com.ph/2020/11/23/globe-modernizes-...</td>\n",
       "      <td>Globe modernizes service in 115 barangays</td>\n",
       "      <td>GLO</td>\n",
       "      <td>[globe, telecom, today, report, modern, servic...</td>\n",
       "      <td>{'Positive': 5, 'Negative': 0, 'Polarity': 0.9...</td>\n",
       "      <td>1.000000</td>\n",
       "    </tr>\n",
       "  </tbody>\n",
       "</table>\n",
       "<p>592 rows × 9 columns</p>\n",
       "</div>"
      ],
      "text/plain": [
       "                    Date           Source  \\\n",
       "0                7/13/21     Investagrams   \n",
       "1                7/13/21     Investagrams   \n",
       "2    2021-07-13 00:00:00     Investagrams   \n",
       "3                7/12/21     Investagrams   \n",
       "4    2021-07-12 00:00:00     Investagrams   \n",
       "..                   ...              ...   \n",
       "587             10/14/20  Manila Bulletin   \n",
       "588             11/29/20  Manila Bulletin   \n",
       "589               5/3/21  Manila Bulletin   \n",
       "590             10/10/20  Manila Bulletin   \n",
       "591             11/23/20  Manila Bulletin   \n",
       "\n",
       "                                                  Body  \\\n",
       "0    Successful companies can be born in the toughe...   \n",
       "1    Globe and its partners have provided connectiv...   \n",
       "2    LISTED telecommunications firm Globe Telecom, ...   \n",
       "3    Industry giant Globe Telecom sealed more partn...   \n",
       "4    AGGRESSIVE fifth generation (5G) technology ex...   \n",
       "..                                                 ...   \n",
       "587  Despite the pandemic, Globe Telecom Inc. has u...   \n",
       "588  Globe Telecom Inc., one of the largest cloud u...   \n",
       "589  Despite quarantine challenges, Globe Telecom I...   \n",
       "590  Globe Telecom Inc. will install at least 800 c...   \n",
       "591  Globe Telecom Inc. today (November 23) reporte...   \n",
       "\n",
       "                                                  Link  \\\n",
       "0    https://business.inquirer.net/327018/globe-pre...   \n",
       "1    https://business.inquirer.net/326984/call-of-d...   \n",
       "2    https://www.bworldonline.com/globe-boosts-conn...   \n",
       "3    https://business.inquirer.net/326915/globe-cli...   \n",
       "4    https://www.bworldonline.com/globe-telecoms-ag...   \n",
       "..                                                 ...   \n",
       "587  https://mb.com.ph/2020/10/14/globe-exceeds-net...   \n",
       "588  https://mb.com.ph/2020/11/29/globe-acquires-cl...   \n",
       "589  https://mb.com.ph/2021/05/03/globe-q1-5gs-cell...   \n",
       "590  https://mb.com.ph/2020/10/10/globe-telecom-ins...   \n",
       "591  https://mb.com.ph/2020/11/23/globe-modernizes-...   \n",
       "\n",
       "                                                 Title stock  \\\n",
       "0    Globe President and CEO Ernest Cu to businesse...   GLO   \n",
       "1    Call of duty: 1,500 COVID-19 medical frontline...   GLO   \n",
       "2    Globe boosts connectivity in 3 hospitals - Bus...   GLO   \n",
       "3    Globe clinches new 5G roaming partnerships in ...   GLO   \n",
       "4    Globe Telecom’s ‘aggressive’ 5G expansion lure...   GLO   \n",
       "..                                                 ...   ...   \n",
       "587             Globe exceeds network upgrade forecast   GLO   \n",
       "588       Globe acquires cloud-based services provider   GLO   \n",
       "589             Globe: Q1 5G cellsite targets on track   GLO   \n",
       "590  Globe Telecom Installing 800 cell sites this year   GLO   \n",
       "591          Globe modernizes service in 115 barangays   GLO   \n",
       "\n",
       "                                             lm_tokens  \\\n",
       "0    [success, compani, toughest, time, learn, pivo...   \n",
       "1    [globe, partner, provid, connect, support, med...   \n",
       "2    [list, telecommun, firm, globe, telecom, partn...   \n",
       "3    [industri, giant, globe, telecom, partnership,...   \n",
       "4    [aggress, gener, g, technolog, expans, drove, ...   \n",
       "..                                                 ...   \n",
       "587  [despit, pandem, globe, telecom, upgrad, perce...   \n",
       "588  [globe, telecom, largest, user, offici, comple...   \n",
       "589  [despit, quarantin, challeng, globe, telecom, ...   \n",
       "590  [globe, telecom, instal, cell, end, network, e...   \n",
       "591  [globe, telecom, today, report, modern, servic...   \n",
       "\n",
       "                                              lm_score  Polarity  \n",
       "0    {'Positive': 23, 'Negative': 6, 'Polarity': 0....  0.586207  \n",
       "1    {'Positive': 11, 'Negative': 8, 'Polarity': 0....  0.157895  \n",
       "2    {'Positive': 4, 'Negative': 6, 'Polarity': -0.... -0.200000  \n",
       "3    {'Positive': 8, 'Negative': 7, 'Polarity': 0.0...  0.066667  \n",
       "4    {'Positive': 4, 'Negative': 0, 'Polarity': 0.9...  1.000000  \n",
       "..                                                 ...       ...  \n",
       "587  {'Positive': 5, 'Negative': 4, 'Polarity': 0.1...  0.111111  \n",
       "588  {'Positive': 9, 'Negative': 4, 'Polarity': 0.3...  0.384615  \n",
       "589  {'Positive': 2, 'Negative': 2, 'Polarity': 0.0...  0.000000  \n",
       "590  {'Positive': 3, 'Negative': 1, 'Polarity': 0.4...  0.500000  \n",
       "591  {'Positive': 5, 'Negative': 0, 'Polarity': 0.9...  1.000000  \n",
       "\n",
       "[592 rows x 9 columns]"
      ]
     },
     "execution_count": 23,
     "metadata": {},
     "output_type": "execute_result"
    }
   ],
   "source": [
    "get_lm_score(Stock_df)"
   ]
  },
  {
   "cell_type": "markdown",
   "id": "f036a6d2",
   "metadata": {},
   "source": [
    "## Get Date from col Date_time"
   ]
  },
  {
   "cell_type": "code",
   "execution_count": 24,
   "id": "ff228264",
   "metadata": {},
   "outputs": [],
   "source": [
    "from datetime import datetime\n",
    "\n",
    "def to_date(DataFrame):\n",
    "    #DataFrame['Date'] = [datetime.strptime(x, '%B %d, %Y %I:%M:%S %p').strftime('%m/%d/%y') for x in DataFrame['Date_Time']]\n",
    "    DataFrame['Date'] = pd.to_datetime(DataFrame['Date'])"
   ]
  },
  {
   "cell_type": "markdown",
   "id": "c6a61d1c",
   "metadata": {},
   "source": [
    "## changing weekend dates to following mondays"
   ]
  },
  {
   "cell_type": "code",
   "execution_count": 25,
   "id": "e91629b9",
   "metadata": {},
   "outputs": [],
   "source": [
    "from datetime import datetime, timedelta\n",
    "\n",
    "def wkend_to_monday(input_date_col):\n",
    "    no_wkend = []\n",
    "    for d in input_date_col:\n",
    "        weekno = d.weekday()\n",
    "        if weekno == 5: #saturday + 2 days\n",
    "            no_wkend.append(d + timedelta(days = 2))\n",
    "        elif weekno == 6: #saturday + 1 day\n",
    "            no_wkend.append(d + timedelta(days = 1))\n",
    "        else:\n",
    "            no_wkend.append(d)\n",
    "\n",
    "    input_date_col = pd.to_datetime(no_wkend)"
   ]
  },
  {
   "cell_type": "markdown",
   "id": "dc3f85e4",
   "metadata": {},
   "source": [
    "## date reduction with polarity aggregations"
   ]
  },
  {
   "cell_type": "code",
   "execution_count": 26,
   "id": "7815e1fe",
   "metadata": {},
   "outputs": [],
   "source": [
    "#Date Reduction\n",
    "#Creating new_df with single dates\n",
    "#code->  GLO_mean_score = pd.DataFrame(GLO_score['Date'].unique(), columns=['Date'])"
   ]
  },
  {
   "cell_type": "code",
   "execution_count": 27,
   "id": "2f27d124",
   "metadata": {
    "scrolled": true
   },
   "outputs": [],
   "source": [
    "#Mean of Scores\n",
    "#DataFrame = new_df with single dates\n",
    "def get_mean_SS(DataFrame, DF2): #edit ['Date'] and/or ['Polarity'] if diff col_name\n",
    "    mean_score = []\n",
    "    for sd in DF2['Date']:\n",
    "        mean_score.append(DataFrame[DataFrame['Date'] == sd]['Polarity'].mean())\n",
    "\n",
    "    DF2['Mean_Score'] = mean_score"
   ]
  },
  {
   "cell_type": "code",
   "execution_count": 28,
   "id": "1182c6ed",
   "metadata": {},
   "outputs": [],
   "source": [
    "#Percentage of Positive News Sentiment\n",
    "#DataFrame = new_df with single dates\n",
    "def get_percent_pos_SS(DataFrame, DF2): #edit ['Date'] and/or ['Polarity'] if diff col_name\n",
    "    percent_pos_sent = []\n",
    "    for sd in DF2['Date']:\n",
    "        date_data = DataFrame[DataFrame['Date'] == sd]\n",
    "        num_pos = len(date_data[date_data['Polarity'] > 0]) #sentiment score  >0   or   >=0\n",
    "        percent_pos_sent.append(num_pos/len(date_data))\n",
    "\n",
    "    DF2['Percent_of_PosSent'] = percent_pos_sent"
   ]
  },
  {
   "cell_type": "markdown",
   "id": "67a6d669",
   "metadata": {},
   "source": [
    "## Daily Stock Price Change"
   ]
  },
  {
   "cell_type": "code",
   "execution_count": 29,
   "id": "3a094225",
   "metadata": {},
   "outputs": [],
   "source": [
    "#Daily Stock Price Change\n",
    "def day_price_change(df_histprice):\n",
    "    df_histprice['Price_Change'] = (df_histprice[' Close']-df_histprice[' Open'])/df_histprice[' Open']"
   ]
  },
  {
   "cell_type": "markdown",
   "id": "2f884b13",
   "metadata": {},
   "source": [
    "# Combining Prices with Sentiment Score"
   ]
  },
  {
   "cell_type": "code",
   "execution_count": 30,
   "id": "e1d53789",
   "metadata": {},
   "outputs": [],
   "source": [
    "#equate with output_df\n",
    "def combine_prices_SS(df_histprice, df_SS):\n",
    "    df_histprice['Date'] = pd.to_datetime(df_histprice['Date'])\n",
    "    output_df = df_histprice.merge(df_SS, how='left', on = 'Date').ffill().bfill()\n",
    "    \n",
    "    return output_df"
   ]
  },
  {
   "cell_type": "markdown",
   "id": "a196cd68",
   "metadata": {},
   "source": [
    "---"
   ]
  },
  {
   "cell_type": "code",
   "execution_count": 31,
   "id": "96679c1b",
   "metadata": {},
   "outputs": [],
   "source": [
    "def df_for_plot(DataFrame, df_histprice):\n",
    "    \n",
    "    #Process with Article_df\n",
    "    DataFrame = get_lm_score(DataFrame)\n",
    "    \n",
    "    to_date(DataFrame)\n",
    "\n",
    "    #wkend_to_monday(input_date_col)\n",
    "    wkend_to_monday(DataFrame['Date'])\n",
    "\n",
    "    #Creating new_df with single dates\n",
    "    DF2 = pd.DataFrame(DataFrame['Date'].unique(), columns=['Date'])\n",
    "\n",
    "    get_mean_SS(DataFrame, DF2)\n",
    "\n",
    "    get_percent_pos_SS(DataFrame, DF2)\n",
    "\n",
    "    #########################################\n",
    "    #Process with Price_df\n",
    "    day_price_change(df_histprice)\n",
    "\n",
    "    ##########################################\n",
    "    #Combining Prices with Sentiment Scores\n",
    "    #combine_prices_SS(df_histprice, df_SS, output_df)\n",
    "    output_df = combine_prices_SS(df_histprice, DF2)\n",
    "    \n",
    "    return output_df"
   ]
  },
  {
   "cell_type": "code",
   "execution_count": 32,
   "id": "5b7a5527",
   "metadata": {
    "scrolled": true
   },
   "outputs": [],
   "source": [
    "forplot = df_for_plot(Stock_df, Prices)\n",
    "forplot = forplot.sort_values(by=['Date']).reset_index(drop=True)"
   ]
  },
  {
   "cell_type": "code",
   "execution_count": 33,
   "id": "13a0d9ec",
   "metadata": {},
   "outputs": [
    {
     "data": {
      "text/html": [
       "<div>\n",
       "<style scoped>\n",
       "    .dataframe tbody tr th:only-of-type {\n",
       "        vertical-align: middle;\n",
       "    }\n",
       "\n",
       "    .dataframe tbody tr th {\n",
       "        vertical-align: top;\n",
       "    }\n",
       "\n",
       "    .dataframe thead th {\n",
       "        text-align: right;\n",
       "    }\n",
       "</style>\n",
       "<table border=\"1\" class=\"dataframe\">\n",
       "  <thead>\n",
       "    <tr style=\"text-align: right;\">\n",
       "      <th></th>\n",
       "      <th>Date</th>\n",
       "      <th>Open</th>\n",
       "      <th>High</th>\n",
       "      <th>Low</th>\n",
       "      <th>Close</th>\n",
       "      <th>Volume</th>\n",
       "      <th>Price_Change</th>\n",
       "      <th>Mean_Score</th>\n",
       "      <th>Percent_of_PosSent</th>\n",
       "    </tr>\n",
       "  </thead>\n",
       "  <tbody>\n",
       "    <tr>\n",
       "      <th>0</th>\n",
       "      <td>2019-01-02</td>\n",
       "      <td>1920.0</td>\n",
       "      <td>1920.0</td>\n",
       "      <td>1890.0</td>\n",
       "      <td>1900.0</td>\n",
       "      <td>6610</td>\n",
       "      <td>-0.010417</td>\n",
       "      <td>-0.500000</td>\n",
       "      <td>0.0</td>\n",
       "    </tr>\n",
       "    <tr>\n",
       "      <th>1</th>\n",
       "      <td>2019-01-03</td>\n",
       "      <td>1900.0</td>\n",
       "      <td>1905.0</td>\n",
       "      <td>1885.0</td>\n",
       "      <td>1889.0</td>\n",
       "      <td>28555</td>\n",
       "      <td>-0.005789</td>\n",
       "      <td>-0.500000</td>\n",
       "      <td>0.0</td>\n",
       "    </tr>\n",
       "    <tr>\n",
       "      <th>2</th>\n",
       "      <td>2019-01-04</td>\n",
       "      <td>1885.0</td>\n",
       "      <td>1913.0</td>\n",
       "      <td>1872.0</td>\n",
       "      <td>1872.0</td>\n",
       "      <td>13870</td>\n",
       "      <td>-0.006897</td>\n",
       "      <td>-0.500000</td>\n",
       "      <td>0.0</td>\n",
       "    </tr>\n",
       "    <tr>\n",
       "      <th>3</th>\n",
       "      <td>2019-01-07</td>\n",
       "      <td>1873.0</td>\n",
       "      <td>1936.0</td>\n",
       "      <td>1860.0</td>\n",
       "      <td>1860.0</td>\n",
       "      <td>26780</td>\n",
       "      <td>-0.006941</td>\n",
       "      <td>-0.500000</td>\n",
       "      <td>0.0</td>\n",
       "    </tr>\n",
       "    <tr>\n",
       "      <th>4</th>\n",
       "      <td>2019-01-08</td>\n",
       "      <td>1880.0</td>\n",
       "      <td>1899.0</td>\n",
       "      <td>1860.0</td>\n",
       "      <td>1860.0</td>\n",
       "      <td>30960</td>\n",
       "      <td>-0.010638</td>\n",
       "      <td>-0.500000</td>\n",
       "      <td>0.0</td>\n",
       "    </tr>\n",
       "    <tr>\n",
       "      <th>...</th>\n",
       "      <td>...</td>\n",
       "      <td>...</td>\n",
       "      <td>...</td>\n",
       "      <td>...</td>\n",
       "      <td>...</td>\n",
       "      <td>...</td>\n",
       "      <td>...</td>\n",
       "      <td>...</td>\n",
       "      <td>...</td>\n",
       "    </tr>\n",
       "    <tr>\n",
       "      <th>613</th>\n",
       "      <td>2021-07-12</td>\n",
       "      <td>1965.0</td>\n",
       "      <td>1989.0</td>\n",
       "      <td>1953.0</td>\n",
       "      <td>1983.0</td>\n",
       "      <td>95555</td>\n",
       "      <td>0.009160</td>\n",
       "      <td>0.377778</td>\n",
       "      <td>1.0</td>\n",
       "    </tr>\n",
       "    <tr>\n",
       "      <th>614</th>\n",
       "      <td>2021-07-13</td>\n",
       "      <td>1978.0</td>\n",
       "      <td>1987.0</td>\n",
       "      <td>1972.0</td>\n",
       "      <td>1979.0</td>\n",
       "      <td>83865</td>\n",
       "      <td>0.000506</td>\n",
       "      <td>0.136025</td>\n",
       "      <td>0.5</td>\n",
       "    </tr>\n",
       "    <tr>\n",
       "      <th>615</th>\n",
       "      <td>2021-07-14</td>\n",
       "      <td>1976.0</td>\n",
       "      <td>1979.0</td>\n",
       "      <td>1971.0</td>\n",
       "      <td>1974.0</td>\n",
       "      <td>36060</td>\n",
       "      <td>-0.001012</td>\n",
       "      <td>0.136025</td>\n",
       "      <td>0.5</td>\n",
       "    </tr>\n",
       "    <tr>\n",
       "      <th>616</th>\n",
       "      <td>2021-07-15</td>\n",
       "      <td>1974.0</td>\n",
       "      <td>1978.0</td>\n",
       "      <td>1933.0</td>\n",
       "      <td>1933.0</td>\n",
       "      <td>45870</td>\n",
       "      <td>-0.020770</td>\n",
       "      <td>0.136025</td>\n",
       "      <td>0.5</td>\n",
       "    </tr>\n",
       "    <tr>\n",
       "      <th>617</th>\n",
       "      <td>2021-07-16</td>\n",
       "      <td>1950.0</td>\n",
       "      <td>1950.0</td>\n",
       "      <td>1933.0</td>\n",
       "      <td>1941.0</td>\n",
       "      <td>45340</td>\n",
       "      <td>-0.004615</td>\n",
       "      <td>0.136025</td>\n",
       "      <td>0.5</td>\n",
       "    </tr>\n",
       "  </tbody>\n",
       "</table>\n",
       "<p>618 rows × 9 columns</p>\n",
       "</div>"
      ],
      "text/plain": [
       "          Date    Open    High     Low   Close   Volume  Price_Change  \\\n",
       "0   2019-01-02  1920.0  1920.0  1890.0  1900.0     6610     -0.010417   \n",
       "1   2019-01-03  1900.0  1905.0  1885.0  1889.0    28555     -0.005789   \n",
       "2   2019-01-04  1885.0  1913.0  1872.0  1872.0    13870     -0.006897   \n",
       "3   2019-01-07  1873.0  1936.0  1860.0  1860.0    26780     -0.006941   \n",
       "4   2019-01-08  1880.0  1899.0  1860.0  1860.0    30960     -0.010638   \n",
       "..         ...     ...     ...     ...     ...      ...           ...   \n",
       "613 2021-07-12  1965.0  1989.0  1953.0  1983.0    95555      0.009160   \n",
       "614 2021-07-13  1978.0  1987.0  1972.0  1979.0    83865      0.000506   \n",
       "615 2021-07-14  1976.0  1979.0  1971.0  1974.0    36060     -0.001012   \n",
       "616 2021-07-15  1974.0  1978.0  1933.0  1933.0    45870     -0.020770   \n",
       "617 2021-07-16  1950.0  1950.0  1933.0  1941.0    45340     -0.004615   \n",
       "\n",
       "     Mean_Score  Percent_of_PosSent  \n",
       "0     -0.500000                 0.0  \n",
       "1     -0.500000                 0.0  \n",
       "2     -0.500000                 0.0  \n",
       "3     -0.500000                 0.0  \n",
       "4     -0.500000                 0.0  \n",
       "..          ...                 ...  \n",
       "613    0.377778                 1.0  \n",
       "614    0.136025                 0.5  \n",
       "615    0.136025                 0.5  \n",
       "616    0.136025                 0.5  \n",
       "617    0.136025                 0.5  \n",
       "\n",
       "[618 rows x 9 columns]"
      ]
     },
     "execution_count": 33,
     "metadata": {},
     "output_type": "execute_result"
    }
   ],
   "source": [
    "forplot"
   ]
  },
  {
   "cell_type": "code",
   "execution_count": 34,
   "id": "a76b742c",
   "metadata": {
    "scrolled": false
   },
   "outputs": [
    {
     "data": {
      "text/html": [
       "<div>\n",
       "<style scoped>\n",
       "    .dataframe tbody tr th:only-of-type {\n",
       "        vertical-align: middle;\n",
       "    }\n",
       "\n",
       "    .dataframe tbody tr th {\n",
       "        vertical-align: top;\n",
       "    }\n",
       "\n",
       "    .dataframe thead th {\n",
       "        text-align: right;\n",
       "    }\n",
       "</style>\n",
       "<table border=\"1\" class=\"dataframe\">\n",
       "  <thead>\n",
       "    <tr style=\"text-align: right;\">\n",
       "      <th></th>\n",
       "      <th>Open</th>\n",
       "      <th>High</th>\n",
       "      <th>Low</th>\n",
       "      <th>Close</th>\n",
       "      <th>Volume</th>\n",
       "      <th>Price_Change</th>\n",
       "      <th>Mean_Score</th>\n",
       "      <th>Percent_of_PosSent</th>\n",
       "    </tr>\n",
       "  </thead>\n",
       "  <tbody>\n",
       "    <tr>\n",
       "      <th>Open</th>\n",
       "      <td>1.000000</td>\n",
       "      <td>0.978109</td>\n",
       "      <td>0.983585</td>\n",
       "      <td>0.958679</td>\n",
       "      <td>0.108032</td>\n",
       "      <td>-0.091310</td>\n",
       "      <td>0.048734</td>\n",
       "      <td>0.101236</td>\n",
       "    </tr>\n",
       "    <tr>\n",
       "      <th>High</th>\n",
       "      <td>0.978109</td>\n",
       "      <td>1.000000</td>\n",
       "      <td>0.973671</td>\n",
       "      <td>0.982603</td>\n",
       "      <td>0.153124</td>\n",
       "      <td>0.069536</td>\n",
       "      <td>0.029133</td>\n",
       "      <td>0.077384</td>\n",
       "    </tr>\n",
       "    <tr>\n",
       "      <th>Low</th>\n",
       "      <td>0.983585</td>\n",
       "      <td>0.973671</td>\n",
       "      <td>1.000000</td>\n",
       "      <td>0.973907</td>\n",
       "      <td>0.079766</td>\n",
       "      <td>0.014585</td>\n",
       "      <td>0.041435</td>\n",
       "      <td>0.100976</td>\n",
       "    </tr>\n",
       "    <tr>\n",
       "      <th>Close</th>\n",
       "      <td>0.958679</td>\n",
       "      <td>0.982603</td>\n",
       "      <td>0.973907</td>\n",
       "      <td>1.000000</td>\n",
       "      <td>0.126114</td>\n",
       "      <td>0.194818</td>\n",
       "      <td>0.031493</td>\n",
       "      <td>0.085508</td>\n",
       "    </tr>\n",
       "    <tr>\n",
       "      <th>Volume</th>\n",
       "      <td>0.108032</td>\n",
       "      <td>0.153124</td>\n",
       "      <td>0.079766</td>\n",
       "      <td>0.126114</td>\n",
       "      <td>1.000000</td>\n",
       "      <td>0.071000</td>\n",
       "      <td>-0.058224</td>\n",
       "      <td>-0.006003</td>\n",
       "    </tr>\n",
       "    <tr>\n",
       "      <th>Price_Change</th>\n",
       "      <td>-0.091310</td>\n",
       "      <td>0.069536</td>\n",
       "      <td>0.014585</td>\n",
       "      <td>0.194818</td>\n",
       "      <td>0.071000</td>\n",
       "      <td>1.000000</td>\n",
       "      <td>-0.061924</td>\n",
       "      <td>-0.056378</td>\n",
       "    </tr>\n",
       "    <tr>\n",
       "      <th>Mean_Score</th>\n",
       "      <td>0.048734</td>\n",
       "      <td>0.029133</td>\n",
       "      <td>0.041435</td>\n",
       "      <td>0.031493</td>\n",
       "      <td>-0.058224</td>\n",
       "      <td>-0.061924</td>\n",
       "      <td>1.000000</td>\n",
       "      <td>0.823353</td>\n",
       "    </tr>\n",
       "    <tr>\n",
       "      <th>Percent_of_PosSent</th>\n",
       "      <td>0.101236</td>\n",
       "      <td>0.077384</td>\n",
       "      <td>0.100976</td>\n",
       "      <td>0.085508</td>\n",
       "      <td>-0.006003</td>\n",
       "      <td>-0.056378</td>\n",
       "      <td>0.823353</td>\n",
       "      <td>1.000000</td>\n",
       "    </tr>\n",
       "  </tbody>\n",
       "</table>\n",
       "</div>"
      ],
      "text/plain": [
       "                        Open      High       Low     Close    Volume  \\\n",
       " Open               1.000000  0.978109  0.983585  0.958679  0.108032   \n",
       " High               0.978109  1.000000  0.973671  0.982603  0.153124   \n",
       " Low                0.983585  0.973671  1.000000  0.973907  0.079766   \n",
       " Close              0.958679  0.982603  0.973907  1.000000  0.126114   \n",
       " Volume             0.108032  0.153124  0.079766  0.126114  1.000000   \n",
       "Price_Change       -0.091310  0.069536  0.014585  0.194818  0.071000   \n",
       "Mean_Score          0.048734  0.029133  0.041435  0.031493 -0.058224   \n",
       "Percent_of_PosSent  0.101236  0.077384  0.100976  0.085508 -0.006003   \n",
       "\n",
       "                    Price_Change  Mean_Score  Percent_of_PosSent  \n",
       " Open                  -0.091310    0.048734            0.101236  \n",
       " High                   0.069536    0.029133            0.077384  \n",
       " Low                    0.014585    0.041435            0.100976  \n",
       " Close                  0.194818    0.031493            0.085508  \n",
       " Volume                 0.071000   -0.058224           -0.006003  \n",
       "Price_Change            1.000000   -0.061924           -0.056378  \n",
       "Mean_Score             -0.061924    1.000000            0.823353  \n",
       "Percent_of_PosSent     -0.056378    0.823353            1.000000  "
      ]
     },
     "execution_count": 34,
     "metadata": {},
     "output_type": "execute_result"
    }
   ],
   "source": [
    "forplot.corr()"
   ]
  },
  {
   "cell_type": "code",
   "execution_count": 35,
   "id": "6f530d26",
   "metadata": {},
   "outputs": [],
   "source": [
    "to_roll_list = [' Close', 'Price_Change','Mean_Score', 'Percent_of_PosSent']\n",
    "roll_col = ['Close_roll', 'Price_Change_roll', 'Mean_Score_roll', 'Percent_of_PosSent_roll']\n",
    "\n",
    "for i in range(len(to_roll_list)):\n",
    "    forplot[roll_col[i]] = forplot[to_roll_list[i]].rolling(5, min_periods=1).mean()"
   ]
  },
  {
   "cell_type": "code",
   "execution_count": 36,
   "id": "a8f3964c",
   "metadata": {},
   "outputs": [
    {
     "data": {
      "text/plain": [
       "Index(['Date', ' Open', ' High', ' Low', ' Close', ' Volume', 'Price_Change',\n",
       "       'Mean_Score', 'Percent_of_PosSent', 'Close_roll', 'Price_Change_roll',\n",
       "       'Mean_Score_roll', 'Percent_of_PosSent_roll'],\n",
       "      dtype='object')"
      ]
     },
     "execution_count": 36,
     "metadata": {},
     "output_type": "execute_result"
    }
   ],
   "source": [
    "forplot.columns"
   ]
  },
  {
   "cell_type": "markdown",
   "id": "a1607199",
   "metadata": {},
   "source": [
    "---"
   ]
  },
  {
   "cell_type": "markdown",
   "id": "9c8ef590",
   "metadata": {},
   "source": [
    "# Time Series Plotting"
   ]
  },
  {
   "cell_type": "code",
   "execution_count": 37,
   "id": "346940f0",
   "metadata": {
    "scrolled": false
   },
   "outputs": [
    {
     "data": {
      "text/html": [
       "\n",
       "<div id=\"altair-viz-1e3185967ae84698a2acb9d8717748fe\"></div>\n",
       "<script type=\"text/javascript\">\n",
       "  (function(spec, embedOpt){\n",
       "    let outputDiv = document.currentScript.previousElementSibling;\n",
       "    if (outputDiv.id !== \"altair-viz-1e3185967ae84698a2acb9d8717748fe\") {\n",
       "      outputDiv = document.getElementById(\"altair-viz-1e3185967ae84698a2acb9d8717748fe\");\n",
       "    }\n",
       "    const paths = {\n",
       "      \"vega\": \"https://cdn.jsdelivr.net/npm//vega@5?noext\",\n",
       "      \"vega-lib\": \"https://cdn.jsdelivr.net/npm//vega-lib?noext\",\n",
       "      \"vega-lite\": \"https://cdn.jsdelivr.net/npm//vega-lite@4.8.1?noext\",\n",
       "      \"vega-embed\": \"https://cdn.jsdelivr.net/npm//vega-embed@6?noext\",\n",
       "    };\n",
       "\n",
       "    function loadScript(lib) {\n",
       "      return new Promise(function(resolve, reject) {\n",
       "        var s = document.createElement('script');\n",
       "        s.src = paths[lib];\n",
       "        s.async = true;\n",
       "        s.onload = () => resolve(paths[lib]);\n",
       "        s.onerror = () => reject(`Error loading script: ${paths[lib]}`);\n",
       "        document.getElementsByTagName(\"head\")[0].appendChild(s);\n",
       "      });\n",
       "    }\n",
       "\n",
       "    function showError(err) {\n",
       "      outputDiv.innerHTML = `<div class=\"error\" style=\"color:red;\">${err}</div>`;\n",
       "      throw err;\n",
       "    }\n",
       "\n",
       "    function displayChart(vegaEmbed) {\n",
       "      vegaEmbed(outputDiv, spec, embedOpt)\n",
       "        .catch(err => showError(`Javascript Error: ${err.message}<br>This usually means there's a typo in your chart specification. See the javascript console for the full traceback.`));\n",
       "    }\n",
       "\n",
       "    if(typeof define === \"function\" && define.amd) {\n",
       "      requirejs.config({paths});\n",
       "      require([\"vega-embed\"], displayChart, err => showError(`Error loading script: ${err.message}`));\n",
       "    } else if (typeof vegaEmbed === \"function\") {\n",
       "      displayChart(vegaEmbed);\n",
       "    } else {\n",
       "      loadScript(\"vega\")\n",
       "        .then(() => loadScript(\"vega-lite\"))\n",
       "        .then(() => loadScript(\"vega-embed\"))\n",
       "        .catch(showError)\n",
       "        .then(() => displayChart(vegaEmbed));\n",
       "    }\n",
       "  })({\"config\": {\"view\": {\"continuousWidth\": 400, \"continuousHeight\": 300}}, \"repeat\": {\"column\": [\"Date\"], \"row\": [\" Close\", \"Mean_Score_roll\"]}, \"spec\": {\"data\": {\"name\": \"data-782eab08da07a7ec39e105bfded9db6c\"}, \"mark\": \"line\", \"encoding\": {\"x\": {\"type\": \"temporal\", \"field\": {\"repeat\": \"column\"}}, \"y\": {\"type\": \"quantitative\", \"field\": {\"repeat\": \"row\"}, \"scale\": {\"zero\": false}}}, \"height\": 200, \"selection\": {\"selector001\": {\"type\": \"interval\", \"bind\": \"scales\", \"encodings\": [\"x\"]}}, \"width\": 700}, \"$schema\": \"https://vega.github.io/schema/vega-lite/v4.8.1.json\", \"datasets\": {\"data-782eab08da07a7ec39e105bfded9db6c\": [{\"Date\": \"2019-01-02T00:00:00\", \" Open\": 1920.0, \" High\": 1920.0, \" Low\": 1890.0, \" Close\": 1900.0, \" Volume\": 6610, \"Price_Change\": -0.010416666666666666, \"Mean_Score\": -0.49999987500003124, \"Percent_of_PosSent\": 0.0, \"Close_roll\": 1900.0, \"Price_Change_roll\": -0.010416666666666666, \"Mean_Score_roll\": -0.49999987500003124, \"Percent_of_PosSent_roll\": 0.0}, {\"Date\": \"2019-01-03T00:00:00\", \" Open\": 1900.0, \" High\": 1905.0, \" Low\": 1885.0, \" Close\": 1889.0, \" Volume\": 28555, \"Price_Change\": -0.005789473684210527, \"Mean_Score\": -0.49999987500003124, \"Percent_of_PosSent\": 0.0, \"Close_roll\": 1894.5, \"Price_Change_roll\": -0.008103070175438596, \"Mean_Score_roll\": -0.49999987500003124, \"Percent_of_PosSent_roll\": 0.0}, {\"Date\": \"2019-01-04T00:00:00\", \" Open\": 1885.0, \" High\": 1913.0, \" Low\": 1872.0, \" Close\": 1872.0, \" Volume\": 13870, \"Price_Change\": -0.006896551724137931, \"Mean_Score\": -0.49999987500003124, \"Percent_of_PosSent\": 0.0, \"Close_roll\": 1887.0, \"Price_Change_roll\": -0.0077008973583383745, \"Mean_Score_roll\": -0.49999987500003124, \"Percent_of_PosSent_roll\": 0.0}, {\"Date\": \"2019-01-07T00:00:00\", \" Open\": 1873.0, \" High\": 1936.0, \" Low\": 1860.0, \" Close\": 1860.0, \" Volume\": 26780, \"Price_Change\": -0.0069407367859049655, \"Mean_Score\": -0.49999987500003124, \"Percent_of_PosSent\": 0.0, \"Close_roll\": 1880.25, \"Price_Change_roll\": -0.007510857215230022, \"Mean_Score_roll\": -0.49999987500003124, \"Percent_of_PosSent_roll\": 0.0}, {\"Date\": \"2019-01-08T00:00:00\", \" Open\": 1880.0, \" High\": 1899.0, \" Low\": 1860.0, \" Close\": 1860.0, \" Volume\": 30960, \"Price_Change\": -0.010638297872340425, \"Mean_Score\": -0.49999987500003124, \"Percent_of_PosSent\": 0.0, \"Close_roll\": 1876.2, \"Price_Change_roll\": -0.008136345346652103, \"Mean_Score_roll\": -0.49999987500003124, \"Percent_of_PosSent_roll\": 0.0}, {\"Date\": \"2019-01-09T00:00:00\", \" Open\": 1890.0, \" High\": 1935.0, \" Low\": 1861.0, \" Close\": 1930.0, \" Volume\": 53305, \"Price_Change\": 0.021164021164021163, \"Mean_Score\": -0.49999987500003124, \"Percent_of_PosSent\": 0.0, \"Close_roll\": 1882.2, \"Price_Change_roll\": -0.0018202077805145379, \"Mean_Score_roll\": -0.49999987500003124, \"Percent_of_PosSent_roll\": 0.0}, {\"Date\": \"2019-01-10T00:00:00\", \" Open\": 1930.0, \" High\": 2020.0, \" Low\": 1920.0, \" Close\": 2020.0, \" Volume\": 59135, \"Price_Change\": 0.046632124352331605, \"Mean_Score\": 0.9999998333333611, \"Percent_of_PosSent\": 1.0, \"Close_roll\": 1908.4, \"Price_Change_roll\": 0.008664111826793889, \"Mean_Score_roll\": -0.19999993333335275, \"Percent_of_PosSent_roll\": 0.2}, {\"Date\": \"2019-01-11T00:00:00\", \" Open\": 2000.0, \" High\": 2016.0, \" Low\": 1960.0, \" Close\": 2016.0, \" Volume\": 28240, \"Price_Change\": 0.008, \"Mean_Score\": 0.9999998333333611, \"Percent_of_PosSent\": 1.0, \"Close_roll\": 1937.2, \"Price_Change_roll\": 0.011643422171621474, \"Mean_Score_roll\": 0.10000000833332567, \"Percent_of_PosSent_roll\": 0.4}, {\"Date\": \"2019-01-14T00:00:00\", \" Open\": 2016.0, \" High\": 2100.0, \" Low\": 1990.0, \" Close\": 2060.0, \" Volume\": 88165, \"Price_Change\": 0.021825396825396824, \"Mean_Score\": 0.9999998333333611, \"Percent_of_PosSent\": 1.0, \"Close_roll\": 1977.2, \"Price_Change_roll\": 0.017396648893881834, \"Mean_Score_roll\": 0.3999999500000041, \"Percent_of_PosSent_roll\": 0.6}, {\"Date\": \"2019-01-15T00:00:00\", \" Open\": 2060.0, \" High\": 2094.0, \" Low\": 2038.0, \" Close\": 2086.0, \" Volume\": 40780, \"Price_Change\": 0.01262135922330097, \"Mean_Score\": 0.9999998333333611, \"Percent_of_PosSent\": 1.0, \"Close_roll\": 2022.4, \"Price_Change_roll\": 0.02204858031301011, \"Mean_Score_roll\": 0.6999998916666825, \"Percent_of_PosSent_roll\": 0.8}, {\"Date\": \"2019-01-16T00:00:00\", \" Open\": 2086.0, \" High\": 2086.0, \" Low\": 2036.0, \" Close\": 2038.0, \" Volume\": 13080, \"Price_Change\": -0.023010546500479387, \"Mean_Score\": 0.9999998333333611, \"Percent_of_PosSent\": 1.0, \"Close_roll\": 2044.0, \"Price_Change_roll\": 0.01321366678011, \"Mean_Score_roll\": 0.9999998333333611, \"Percent_of_PosSent_roll\": 1.0}, {\"Date\": \"2019-01-17T00:00:00\", \" Open\": 2040.0, \" High\": 2100.0, \" Low\": 2040.0, \" Close\": 2080.0, \" Volume\": 59330, \"Price_Change\": 0.0196078431372549, \"Mean_Score\": -0.6249999609375024, \"Percent_of_PosSent\": 0.0, \"Close_roll\": 2056.0, \"Price_Change_roll\": 0.00780881053709466, \"Mean_Score_roll\": 0.6749998744791884, \"Percent_of_PosSent_roll\": 0.8}, {\"Date\": \"2019-01-18T00:00:00\", \" Open\": 2062.0, \" High\": 2096.0, \" Low\": 2062.0, \" Close\": 2092.0, \" Volume\": 28355, \"Price_Change\": 0.014548981571290009, \"Mean_Score\": -0.6249999609375024, \"Percent_of_PosSent\": 0.0, \"Close_roll\": 2071.2, \"Price_Change_roll\": 0.009118606851352662, \"Mean_Score_roll\": 0.3499999156250157, \"Percent_of_PosSent_roll\": 0.6}, {\"Date\": \"2019-01-21T00:00:00\", \" Open\": 2092.0, \" High\": 2098.0, \" Low\": 2060.0, \" Close\": 2080.0, \" Volume\": 14750, \"Price_Change\": -0.0057361376673040155, \"Mean_Score\": -0.6249999609375024, \"Percent_of_PosSent\": 0.0, \"Close_roll\": 2075.2, \"Price_Change_roll\": 0.0036062999528124946, \"Mean_Score_roll\": 0.02499995677084297, \"Percent_of_PosSent_roll\": 0.4}, {\"Date\": \"2019-01-22T00:00:00\", \" Open\": 2080.0, \" High\": 2094.0, \" Low\": 2052.0, \" Close\": 2094.0, \" Volume\": 21855, \"Price_Change\": 0.006730769230769231, \"Mean_Score\": 0.33333329629630043, \"Percent_of_PosSent\": 1.0, \"Close_roll\": 2076.8, \"Price_Change_roll\": 0.002428181954306147, \"Mean_Score_roll\": -0.10833335063656917, \"Percent_of_PosSent_roll\": 0.4}, {\"Date\": \"2019-01-23T00:00:00\", \" Open\": 2088.0, \" High\": 2110.0, \" Low\": 2060.0, \" Close\": 2100.0, \" Volume\": 55630, \"Price_Change\": 0.005747126436781609, \"Mean_Score\": 0.33333329629630043, \"Percent_of_PosSent\": 1.0, \"Close_roll\": 2089.2, \"Price_Change_roll\": 0.008179716541758347, \"Mean_Score_roll\": -0.2416666580439813, \"Percent_of_PosSent_roll\": 0.4}, {\"Date\": \"2019-01-24T00:00:00\", \" Open\": 2100.0, \" High\": 2132.0, \" Low\": 2096.0, \" Close\": 2116.0, \" Volume\": 70255, \"Price_Change\": 0.007619047619047619, \"Mean_Score\": 0.02631578808864273, \"Percent_of_PosSent\": 0.5, \"Close_roll\": 2096.4, \"Price_Change_roll\": 0.005781957438116889, \"Mean_Score_roll\": -0.11140350823875225, \"Percent_of_PosSent_roll\": 0.5}, {\"Date\": \"2019-01-25T00:00:00\", \" Open\": 2100.0, \" High\": 2130.0, \" Low\": 2092.0, \" Close\": 2120.0, \" Volume\": 43830, \"Price_Change\": 0.009523809523809525, \"Mean_Score\": 0.02631578808864273, \"Percent_of_PosSent\": 0.5, \"Close_roll\": 2102.0, \"Price_Change_roll\": 0.004776923028620793, \"Mean_Score_roll\": 0.01885964156647678, \"Percent_of_PosSent_roll\": 0.6}, {\"Date\": \"2019-01-28T00:00:00\", \" Open\": 2120.0, \" High\": 2160.0, \" Low\": 2118.0, \" Close\": 2142.0, \" Volume\": 51785, \"Price_Change\": 0.010377358490566037, \"Mean_Score\": 0.02631578808864273, \"Percent_of_PosSent\": 0.5, \"Close_roll\": 2114.4, \"Price_Change_roll\": 0.007999622260194803, \"Mean_Score_roll\": 0.1491227913717058, \"Percent_of_PosSent_roll\": 0.7}, {\"Date\": \"2019-01-29T00:00:00\", \" Open\": 2142.0, \" High\": 2154.0, \" Low\": 2112.0, \" Close\": 2150.0, \" Volume\": 31875, \"Price_Change\": 0.003734827264239029, \"Mean_Score\": 0.1428571224489825, \"Percent_of_PosSent\": 1.0, \"Close_roll\": 2125.6, \"Price_Change_roll\": 0.007400433866888762, \"Mean_Score_roll\": 0.11102755660224221, \"Percent_of_PosSent_roll\": 0.7}, {\"Date\": \"2019-01-30T00:00:00\", \" Open\": 2110.0, \" High\": 2148.0, \" Low\": 2070.0, \" Close\": 2086.0, \" Volume\": 42660, \"Price_Change\": -0.011374407582938388, \"Mean_Score\": -0.2380952040816375, \"Percent_of_PosSent\": 0.0, \"Close_roll\": 2122.8, \"Price_Change_roll\": 0.0039761270629447626, \"Mean_Score_roll\": -0.0032581434733453705, \"Percent_of_PosSent_roll\": 0.5}, {\"Date\": \"2019-01-31T00:00:00\", \" Open\": 2084.0, \" High\": 2086.0, \" Low\": 2020.0, \" Close\": 2020.0, \" Volume\": 92925, \"Price_Change\": -0.030710172744721688, \"Mean_Score\": -0.24999996875000394, \"Percent_of_PosSent\": 0.0, \"Close_roll\": 2103.6, \"Price_Change_roll\": -0.003689717009809098, \"Mean_Score_roll\": -0.0585212948410747, \"Percent_of_PosSent_roll\": 0.4}, {\"Date\": \"2019-02-01T00:00:00\", \" Open\": 2020.0, \" High\": 2090.0, \" Low\": 2020.0, \" Close\": 2070.0, \" Volume\": 32170, \"Price_Change\": 0.024752475247524754, \"Mean_Score\": -0.9999996250001562, \"Percent_of_PosSent\": 0.0, \"Close_roll\": 2093.6, \"Price_Change_roll\": -0.0006439838650660522, \"Mean_Score_roll\": -0.2637843774588345, \"Percent_of_PosSent_roll\": 0.3}, {\"Date\": \"2019-02-04T00:00:00\", \" Open\": 2060.0, \" High\": 2068.0, \" Low\": 2020.0, \" Close\": 2030.0, \" Volume\": 54815, \"Price_Change\": -0.014563106796116505, \"Mean_Score\": -0.9999996250001562, \"Percent_of_PosSent\": 0.0, \"Close_roll\": 2071.2, \"Price_Change_roll\": -0.005632076922402561, \"Mean_Score_roll\": -0.4690474600765942, \"Percent_of_PosSent_roll\": 0.2}, {\"Date\": \"2019-02-06T00:00:00\", \" Open\": 2048.0, \" High\": 2118.0, \" Low\": 2018.0, \" Close\": 2018.0, \" Volume\": 20240, \"Price_Change\": -0.0146484375, \"Mean_Score\": -0.9999996250001562, \"Percent_of_PosSent\": 0.0, \"Close_roll\": 2044.8, \"Price_Change_roll\": -0.009308729875250367, \"Mean_Score_roll\": -0.697618809566422, \"Percent_of_PosSent_roll\": 0.0}, {\"Date\": \"2019-02-07T00:00:00\", \" Open\": 2022.0, \" High\": 2050.0, \" Low\": 2004.0, \" Close\": 2016.0, \" Volume\": 37480, \"Price_Change\": -0.002967359050445104, \"Mean_Score\": 0.0, \"Percent_of_PosSent\": 0.0, \"Close_roll\": 2030.8, \"Price_Change_roll\": -0.00762732016875171, \"Mean_Score_roll\": -0.6499997687500945, \"Percent_of_PosSent_roll\": 0.0}, {\"Date\": \"2019-02-08T00:00:00\", \" Open\": 2010.0, \" High\": 2034.0, \" Low\": 2002.0, \" Close\": 2030.0, \" Volume\": 25755, \"Price_Change\": 0.009950248756218905, \"Mean_Score\": 0.0, \"Percent_of_PosSent\": 0.0, \"Close_roll\": 2032.8, \"Price_Change_roll\": 0.0005047641314364088, \"Mean_Score_roll\": -0.5999997750000936, \"Percent_of_PosSent_roll\": 0.0}, {\"Date\": \"2019-02-11T00:00:00\", \" Open\": 2020.0, \" High\": 2040.0, \" Low\": 1980.0, \" Close\": 1980.0, \" Volume\": 36970, \"Price_Change\": -0.019801980198019802, \"Mean_Score\": 0.0, \"Percent_of_PosSent\": 0.0, \"Close_roll\": 2014.8, \"Price_Change_roll\": -0.008406126957672502, \"Mean_Score_roll\": -0.39999985000006244, \"Percent_of_PosSent_roll\": 0.0}, {\"Date\": \"2019-02-12T00:00:00\", \" Open\": 1983.0, \" High\": 2014.0, \" Low\": 1956.0, \" Close\": 1956.0, \" Volume\": 38525, \"Price_Change\": -0.01361573373676248, \"Mean_Score\": 0.0, \"Percent_of_PosSent\": 0.0, \"Close_roll\": 2000.0, \"Price_Change_roll\": -0.008216652345801698, \"Mean_Score_roll\": -0.19999992500003122, \"Percent_of_PosSent_roll\": 0.0}, {\"Date\": \"2019-02-13T00:00:00\", \" Open\": 1968.0, \" High\": 1972.0, \" Low\": 1920.0, \" Close\": 1920.0, \" Volume\": 41850, \"Price_Change\": -0.024390243902439025, \"Mean_Score\": 0.4285713673469475, \"Percent_of_PosSent\": 1.0, \"Close_roll\": 1980.4, \"Price_Change_roll\": -0.010165013626289503, \"Mean_Score_roll\": 0.08571427346938951, \"Percent_of_PosSent_roll\": 0.2}, {\"Date\": \"2019-02-14T00:00:00\", \" Open\": 1988.0, \" High\": 1989.0, \" Low\": 1908.0, \" Close\": 1908.0, \" Volume\": 20410, \"Price_Change\": -0.04024144869215292, \"Mean_Score\": 0.161764679822668, \"Percent_of_PosSent\": 0.5, \"Close_roll\": 1958.8, \"Price_Change_roll\": -0.017619831554631066, \"Mean_Score_roll\": 0.1180672094339231, \"Percent_of_PosSent_roll\": 0.3}, {\"Date\": \"2019-02-15T00:00:00\", \" Open\": 1930.0, \" High\": 1983.0, \" Low\": 1890.0, \" Close\": 1890.0, \" Volume\": 33925, \"Price_Change\": -0.02072538860103627, \"Mean_Score\": 0.161764679822668, \"Percent_of_PosSent\": 0.5, \"Close_roll\": 1930.8, \"Price_Change_roll\": -0.0237549590260821, \"Mean_Score_roll\": 0.1504201453984567, \"Percent_of_PosSent_roll\": 0.4}, {\"Date\": \"2019-02-18T00:00:00\", \" Open\": 1900.0, \" High\": 1938.0, \" Low\": 1880.0, \" Close\": 1880.0, \" Volume\": 80920, \"Price_Change\": -0.010526315789473684, \"Mean_Score\": 0.161764679822668, \"Percent_of_PosSent\": 0.5, \"Close_roll\": 1910.8, \"Price_Change_roll\": -0.02189982614437288, \"Mean_Score_roll\": 0.1827730813629903, \"Percent_of_PosSent_roll\": 0.5}, {\"Date\": \"2019-02-19T00:00:00\", \" Open\": 1880.0, \" High\": 1900.0, \" Low\": 1851.0, \" Close\": 1851.0, \" Volume\": 57795, \"Price_Change\": -0.015425531914893617, \"Mean_Score\": 0.7368415927982845, \"Percent_of_PosSent\": 1.0, \"Close_roll\": 1889.8, \"Price_Change_roll\": -0.022261785779999106, \"Mean_Score_roll\": 0.33014139992264724, \"Percent_of_PosSent_roll\": 0.7}, {\"Date\": \"2019-02-20T00:00:00\", \" Open\": 1860.0, \" High\": 1905.0, \" Low\": 1855.0, \" Close\": 1866.0, \" Volume\": 68195, \"Price_Change\": 0.0032258064516129032, \"Mean_Score\": 0.7368415927982845, \"Percent_of_PosSent\": 1.0, \"Close_roll\": 1879.0, \"Price_Change_roll\": -0.01673857570918872, \"Mean_Score_roll\": 0.39179544501291463, \"Percent_of_PosSent_roll\": 0.7}, {\"Date\": \"2019-02-21T00:00:00\", \" Open\": 1899.0, \" High\": 1899.0, \" Low\": 1871.0, \" Close\": 1890.0, \" Volume\": 61780, \"Price_Change\": -0.004739336492890996, \"Mean_Score\": 0.7368415927982845, \"Percent_of_PosSent\": 1.0, \"Close_roll\": 1875.4, \"Price_Change_roll\": -0.009638153269336334, \"Mean_Score_roll\": 0.506810827608038, \"Percent_of_PosSent_roll\": 0.8}, {\"Date\": \"2019-02-22T00:00:00\", \" Open\": 1889.0, \" High\": 1907.0, \" Low\": 1889.0, \" Close\": 1901.0, \" Volume\": 19350, \"Price_Change\": 0.006352567496029645, \"Mean_Score\": 0.7368415927982845, \"Percent_of_PosSent\": 1.0, \"Close_roll\": 1877.6, \"Price_Change_roll\": -0.004222562049923151, \"Mean_Score_roll\": 0.6218262102031612, \"Percent_of_PosSent_roll\": 0.9}, {\"Date\": \"2019-02-26T00:00:00\", \" Open\": 1919.0, \" High\": 1919.0, \" Low\": 1862.0, \" Close\": 1900.0, \" Volume\": 40995, \"Price_Change\": -0.009900990099009901, \"Mean_Score\": 0.7368415927982845, \"Percent_of_PosSent\": 1.0, \"Close_roll\": 1881.6, \"Price_Change_roll\": -0.004097496911830395, \"Mean_Score_roll\": 0.7368415927982845, \"Percent_of_PosSent_roll\": 1.0}, {\"Date\": \"2019-02-27T00:00:00\", \" Open\": 1900.0, \" High\": 1911.0, \" Low\": 1885.0, \" Close\": 1896.0, \" Volume\": 37005, \"Price_Change\": -0.002105263157894737, \"Mean_Score\": 0.6969696619222545, \"Percent_of_PosSent\": 1.0, \"Close_roll\": 1890.6, \"Price_Change_roll\": -0.0014334431604306186, \"Mean_Score_roll\": 0.7288672066230786, \"Percent_of_PosSent_roll\": 1.0}, {\"Date\": \"2019-02-28T00:00:00\", \" Open\": 1896.0, \" High\": 1900.0, \" Low\": 1862.0, \" Close\": 1900.0, \" Volume\": 58605, \"Price_Change\": 0.002109704641350211, \"Mean_Score\": 0.6969696619222545, \"Percent_of_PosSent\": 1.0, \"Close_roll\": 1897.4, \"Price_Change_roll\": -0.001656663522483157, \"Mean_Score_roll\": 0.7208928204478726, \"Percent_of_PosSent_roll\": 1.0}, {\"Date\": \"2019-03-01T00:00:00\", \" Open\": 1900.0, \" High\": 1909.0, \" Low\": 1880.0, \" Close\": 1903.0, \" Volume\": 32450, \"Price_Change\": 0.0015789473684210526, \"Mean_Score\": 0.6969696619222545, \"Percent_of_PosSent\": 1.0, \"Close_roll\": 1900.0, \"Price_Change_roll\": -0.0003930067502207474, \"Mean_Score_roll\": 0.7129184342726665, \"Percent_of_PosSent_roll\": 1.0}, {\"Date\": \"2019-03-04T00:00:00\", \" Open\": 1890.0, \" High\": 1890.0, \" Low\": 1863.0, \" Close\": 1870.0, \" Volume\": 53805, \"Price_Change\": -0.010582010582010581, \"Mean_Score\": 0.6969696619222545, \"Percent_of_PosSent\": 1.0, \"Close_roll\": 1893.8, \"Price_Change_roll\": -0.0037799223658287933, \"Mean_Score_roll\": 0.7049440480974606, \"Percent_of_PosSent_roll\": 1.0}, {\"Date\": \"2019-03-05T00:00:00\", \" Open\": 1868.0, \" High\": 1899.0, \" Low\": 1868.0, \" Close\": 1879.0, \" Volume\": 23530, \"Price_Change\": 0.005888650963597431, \"Mean_Score\": 0.6969696619222545, \"Percent_of_PosSent\": 1.0, \"Close_roll\": 1889.6, \"Price_Change_roll\": -0.0006219941533073264, \"Mean_Score_roll\": 0.6969696619222545, \"Percent_of_PosSent_roll\": 1.0}, {\"Date\": \"2019-03-06T00:00:00\", \" Open\": 1899.0, \" High\": 1899.0, \" Low\": 1875.0, \" Close\": 1879.0, \" Volume\": 26435, \"Price_Change\": -0.010531858873091101, \"Mean_Score\": 0.6969696619222545, \"Percent_of_PosSent\": 1.0, \"Close_roll\": 1886.2, \"Price_Change_roll\": -0.0023073132963465992, \"Mean_Score_roll\": 0.6969696619222545, \"Percent_of_PosSent_roll\": 1.0}, {\"Date\": \"2019-03-07T00:00:00\", \" Open\": 1908.0, \" High\": 1917.0, \" Low\": 1878.0, \" Close\": 1912.0, \" Volume\": 23680, \"Price_Change\": 0.0020964360587002098, \"Mean_Score\": 0.6969696619222545, \"Percent_of_PosSent\": 1.0, \"Close_roll\": 1888.6, \"Price_Change_roll\": -0.0023099670128765995, \"Mean_Score_roll\": 0.6969696619222545, \"Percent_of_PosSent_roll\": 1.0}, {\"Date\": \"2019-03-08T00:00:00\", \" Open\": 1913.0, \" High\": 1936.0, \" Low\": 1913.0, \" Close\": 1923.0, \" Volume\": 11290, \"Price_Change\": 0.005227391531625719, \"Mean_Score\": 0.6969696619222545, \"Percent_of_PosSent\": 1.0, \"Close_roll\": 1892.6, \"Price_Change_roll\": -0.0015802781802356659, \"Mean_Score_roll\": 0.6969696619222545, \"Percent_of_PosSent_roll\": 1.0}, {\"Date\": \"2019-03-11T00:00:00\", \" Open\": 1923.0, \" High\": 1925.0, \" Low\": 1900.0, \" Close\": 1900.0, \" Volume\": 27290, \"Price_Change\": -0.011960478419136765, \"Mean_Score\": 0.6969696619222545, \"Percent_of_PosSent\": 1.0, \"Close_roll\": 1898.6, \"Price_Change_roll\": -0.0018559717476609027, \"Mean_Score_roll\": 0.6969696619222545, \"Percent_of_PosSent_roll\": 1.0}, {\"Date\": \"2019-03-12T00:00:00\", \" Open\": 1890.0, \" High\": 1910.0, \" Low\": 1865.0, \" Close\": 1878.0, \" Volume\": 35130, \"Price_Change\": -0.006349206349206349, \"Mean_Score\": 0.6969696619222545, \"Percent_of_PosSent\": 1.0, \"Close_roll\": 1898.4, \"Price_Change_roll\": -0.004303543210221658, \"Mean_Score_roll\": 0.6969696619222545, \"Percent_of_PosSent_roll\": 1.0}, {\"Date\": \"2019-03-13T00:00:00\", \" Open\": 1905.0, \" High\": 1905.0, \" Low\": 1851.0, \" Close\": 1851.0, \" Volume\": 44120, \"Price_Change\": -0.028346456692913385, \"Mean_Score\": 0.6969696619222545, \"Percent_of_PosSent\": 1.0, \"Close_roll\": 1892.8, \"Price_Change_roll\": -0.007866462774186114, \"Mean_Score_roll\": 0.6969696619222545, \"Percent_of_PosSent_roll\": 1.0}, {\"Date\": \"2019-03-14T00:00:00\", \" Open\": 1900.0, \" High\": 1930.0, \" Low\": 1860.0, \" Close\": 1930.0, \" Volume\": 26470, \"Price_Change\": 0.015789473684210527, \"Mean_Score\": 0.6969696619222545, \"Percent_of_PosSent\": 1.0, \"Close_roll\": 1896.4, \"Price_Change_roll\": -0.005127855249084052, \"Mean_Score_roll\": 0.6969696619222545, \"Percent_of_PosSent_roll\": 1.0}, {\"Date\": \"2019-03-15T00:00:00\", \" Open\": 1929.0, \" High\": 1947.0, \" Low\": 1896.0, \" Close\": 1916.0, \" Volume\": 179480, \"Price_Change\": -0.00673924313115604, \"Mean_Score\": 0.49480891782501196, \"Percent_of_PosSent\": 1.0, \"Close_roll\": 1895.0, \"Price_Change_roll\": -0.007521182181640404, \"Mean_Score_roll\": 0.656537513102806, \"Percent_of_PosSent_roll\": 1.0}, {\"Date\": \"2019-03-18T00:00:00\", \" Open\": 1906.0, \" High\": 1962.0, \" Low\": 1906.0, \" Close\": 1960.0, \" Volume\": 30425, \"Price_Change\": 0.02833158447009444, \"Mean_Score\": 0.49480891782501196, \"Percent_of_PosSent\": 1.0, \"Close_roll\": 1907.0, \"Price_Change_roll\": 0.0005372303962058372, \"Mean_Score_roll\": 0.6161053642833575, \"Percent_of_PosSent_roll\": 1.0}, {\"Date\": \"2019-03-19T00:00:00\", \" Open\": 1940.0, \" High\": 1987.0, \" Low\": 1940.0, \" Close\": 1987.0, \" Volume\": 32780, \"Price_Change\": 0.02422680412371134, \"Mean_Score\": 0.49480891782501196, \"Percent_of_PosSent\": 1.0, \"Close_roll\": 1928.8, \"Price_Change_roll\": 0.006652432490789376, \"Mean_Score_roll\": 0.5756732154639089, \"Percent_of_PosSent_roll\": 1.0}, {\"Date\": \"2019-03-20T00:00:00\", \" Open\": 1972.0, \" High\": 1979.0, \" Low\": 1937.0, \" Close\": 1937.0, \" Volume\": 14330, \"Price_Change\": -0.017748478701825558, \"Mean_Score\": 0.49480891782501196, \"Percent_of_PosSent\": 1.0, \"Close_roll\": 1946.0, \"Price_Change_roll\": 0.008772028089006942, \"Mean_Score_roll\": 0.5352410666444605, \"Percent_of_PosSent_roll\": 1.0}, {\"Date\": \"2019-03-21T00:00:00\", \" Open\": 1936.0, \" High\": 1980.0, \" Low\": 1936.0, \" Close\": 1972.0, \" Volume\": 18790, \"Price_Change\": 0.01859504132231405, \"Mean_Score\": 0.34999999125000025, \"Percent_of_PosSent\": 1.0, \"Close_roll\": 1954.4, \"Price_Change_roll\": 0.009333141616627646, \"Mean_Score_roll\": 0.4658471325100096, \"Percent_of_PosSent_roll\": 1.0}, {\"Date\": \"2019-03-22T00:00:00\", \" Open\": 1972.0, \" High\": 1996.0, \" Low\": 1951.0, \" Close\": 1996.0, \" Volume\": 23970, \"Price_Change\": 0.012170385395537525, \"Mean_Score\": 0.6666661481486502, \"Percent_of_PosSent\": 1.0, \"Close_roll\": 1970.4, \"Price_Change_roll\": 0.01311506732196636, \"Mean_Score_roll\": 0.5002185785747373, \"Percent_of_PosSent_roll\": 1.0}, {\"Date\": \"2019-03-25T00:00:00\", \" Open\": 1990.0, \" High\": 1999.0, \" Low\": 1930.0, \" Close\": 1999.0, \" Volume\": 22300, \"Price_Change\": 0.004522613065326633, \"Mean_Score\": 0.8235292927335851, \"Percent_of_PosSent\": 1.0, \"Close_roll\": 1978.2, \"Price_Change_roll\": 0.008353273041012797, \"Mean_Score_roll\": 0.5659626535564519, \"Percent_of_PosSent_roll\": 1.0}, {\"Date\": \"2019-03-26T00:00:00\", \" Open\": 1996.0, \" High\": 1998.0, \" Low\": 1941.0, \" Close\": 1947.0, \" Volume\": 25400, \"Price_Change\": -0.024549098196392786, \"Mean_Score\": 0.8235292927335851, \"Percent_of_PosSent\": 1.0, \"Close_roll\": 1970.2, \"Price_Change_roll\": -0.0014019074230080275, \"Mean_Score_roll\": 0.6317067285381666, \"Percent_of_PosSent_roll\": 1.0}, {\"Date\": \"2019-03-27T00:00:00\", \" Open\": 1945.0, \" High\": 1990.0, \" Low\": 1939.0, \" Close\": 1945.0, \" Volume\": 12350, \"Price_Change\": 0.0, \"Mean_Score\": 0.8235292927335851, \"Percent_of_PosSent\": 1.0, \"Close_roll\": 1971.8, \"Price_Change_roll\": 0.002147788317357084, \"Mean_Score_roll\": 0.6974508035198812, \"Percent_of_PosSent_roll\": 1.0}, {\"Date\": \"2019-03-28T00:00:00\", \" Open\": 1940.0, \" High\": 1977.0, \" Low\": 1910.0, \" Close\": 1950.0, \" Volume\": 13130, \"Price_Change\": 0.005154639175257732, \"Mean_Score\": 0.8235292927335851, \"Percent_of_PosSent\": 1.0, \"Close_roll\": 1967.4, \"Price_Change_roll\": -0.0005402921120541795, \"Mean_Score_roll\": 0.7921566638165982, \"Percent_of_PosSent_roll\": 1.0}, {\"Date\": \"2019-03-29T00:00:00\", \" Open\": 1950.0, \" High\": 1979.0, \" Low\": 1930.0, \" Close\": 1938.0, \" Volume\": 34500, \"Price_Change\": -0.006153846153846154, \"Mean_Score\": 0.8235292927335851, \"Percent_of_PosSent\": 1.0, \"Close_roll\": 1955.8, \"Price_Change_roll\": -0.004205138421930915, \"Mean_Score_roll\": 0.823529292733585, \"Percent_of_PosSent_roll\": 1.0}, {\"Date\": \"2019-04-01T00:00:00\", \" Open\": 1938.0, \" High\": 1950.0, \" Low\": 1910.0, \" Close\": 1918.0, \" Volume\": 14910, \"Price_Change\": -0.010319917440660475, \"Mean_Score\": 0.0, \"Percent_of_PosSent\": 0.0, \"Close_roll\": 1939.6, \"Price_Change_roll\": -0.007173644523128337, \"Mean_Score_roll\": 0.6588234341868681, \"Percent_of_PosSent_roll\": 0.8}, {\"Date\": \"2019-04-02T00:00:00\", \" Open\": 1918.0, \" High\": 1929.0, \" Low\": 1901.0, \" Close\": 1922.0, \" Volume\": 15080, \"Price_Change\": 0.0020855057351407717, \"Mean_Score\": 0.0, \"Percent_of_PosSent\": 0.0, \"Close_roll\": 1934.6, \"Price_Change_roll\": -0.0018467237368216254, \"Mean_Score_roll\": 0.4941175756401511, \"Percent_of_PosSent_roll\": 0.6}, {\"Date\": \"2019-04-03T00:00:00\", \" Open\": 1922.0, \" High\": 1955.0, \" Low\": 1895.0, \" Close\": 1955.0, \" Volume\": 27260, \"Price_Change\": 0.01716961498439126, \"Mean_Score\": 0.0, \"Percent_of_PosSent\": 0.0, \"Close_roll\": 1936.6, \"Price_Change_roll\": 0.0015871992600566265, \"Mean_Score_roll\": 0.32941171709343403, \"Percent_of_PosSent_roll\": 0.4}, {\"Date\": \"2019-04-04T00:00:00\", \" Open\": 1935.0, \" High\": 1955.0, \" Low\": 1912.0, \" Close\": 1920.0, \" Volume\": 32575, \"Price_Change\": -0.007751937984496124, \"Mean_Score\": 0.9999999285714337, \"Percent_of_PosSent\": 1.0, \"Close_roll\": 1930.6, \"Price_Change_roll\": -0.0009941161718941447, \"Mean_Score_roll\": 0.3647058442610038, \"Percent_of_PosSent_roll\": 0.4}, {\"Date\": \"2019-04-05T00:00:00\", \" Open\": 1943.0, \" High\": 1943.0, \" Low\": 1908.0, \" Close\": 1908.0, \" Volume\": 15565, \"Price_Change\": -0.018013381369016986, \"Mean_Score\": 0.9999999285714337, \"Percent_of_PosSent\": 1.0, \"Close_roll\": 1924.6, \"Price_Change_roll\": -0.0033660232149283114, \"Mean_Score_roll\": 0.39999997142857346, \"Percent_of_PosSent_roll\": 0.4}, {\"Date\": \"2019-04-08T00:00:00\", \" Open\": 1908.0, \" High\": 1936.0, \" Low\": 1900.0, \" Close\": 1923.0, \" Volume\": 23010, \"Price_Change\": 0.007861635220125786, \"Mean_Score\": 0.9999999285714337, \"Percent_of_PosSent\": 1.0, \"Close_roll\": 1925.6, \"Price_Change_roll\": 0.000270287317228941, \"Mean_Score_roll\": 0.5999999571428603, \"Percent_of_PosSent_roll\": 0.6}, {\"Date\": \"2019-04-10T00:00:00\", \" Open\": 1923.0, \" High\": 1923.0, \" Low\": 1900.0, \" Close\": 1910.0, \" Volume\": 39640, \"Price_Change\": -0.006760270410816433, \"Mean_Score\": 0.9999999285714337, \"Percent_of_PosSent\": 1.0, \"Close_roll\": 1923.2, \"Price_Change_roll\": -0.0014988679119625, \"Mean_Score_roll\": 0.7999999428571469, \"Percent_of_PosSent_roll\": 0.8}, {\"Date\": \"2019-04-11T00:00:00\", \" Open\": 1910.0, \" High\": 1920.0, \" Low\": 1894.0, \" Close\": 1894.0, \" Volume\": 19650, \"Price_Change\": -0.008376963350785341, \"Mean_Score\": 0.0, \"Percent_of_PosSent\": 0.0, \"Close_roll\": 1911.0, \"Price_Change_roll\": -0.00660818357899782, \"Mean_Score_roll\": 0.7999999428571469, \"Percent_of_PosSent_roll\": 0.8}, {\"Date\": \"2019-04-12T00:00:00\", \" Open\": 1894.0, \" High\": 1920.0, \" Low\": 1890.0, \" Close\": 1890.0, \" Volume\": 19140, \"Price_Change\": -0.0021119324181626186, \"Mean_Score\": -0.99999980000004, \"Percent_of_PosSent\": 0.0, \"Close_roll\": 1905.0, \"Price_Change_roll\": -0.005480182465731119, \"Mean_Score_roll\": 0.3999999971428522, \"Percent_of_PosSent_roll\": 0.6}, {\"Date\": \"2019-04-15T00:00:00\", \" Open\": 1891.0, \" High\": 1915.0, \" Low\": 1879.0, \" Close\": 1884.0, \" Volume\": 21655, \"Price_Change\": -0.0037017451084082496, \"Mean_Score\": -0.99999950000025, \"Percent_of_PosSent\": 0.0, \"Close_roll\": 1900.2, \"Price_Change_roll\": -0.002617855213609371, \"Mean_Score_roll\": 1.1142851550349774e-07, \"Percent_of_PosSent_roll\": 0.4}, {\"Date\": \"2019-04-16T00:00:00\", \" Open\": 1884.0, \" High\": 1910.0, \" Low\": 1866.0, \" Close\": 1866.0, \" Volume\": 22450, \"Price_Change\": -0.009554140127388535, \"Mean_Score\": -0.99999950000025, \"Percent_of_PosSent\": 0.0, \"Close_roll\": 1888.8, \"Price_Change_roll\": -0.006101010283112235, \"Mean_Score_roll\": -0.39999977428582123, \"Percent_of_PosSent_roll\": 0.2}, {\"Date\": \"2019-04-17T00:00:00\", \" Open\": 1866.0, \" High\": 1905.0, \" Low\": 1865.0, \" Close\": 1865.0, \" Volume\": 15535, \"Price_Change\": -0.0005359056806002144, \"Mean_Score\": -0.99999950000025, \"Percent_of_PosSent\": 0.0, \"Close_roll\": 1879.8, \"Price_Change_roll\": -0.004856137337068992, \"Mean_Score_roll\": -0.799999660000158, \"Percent_of_PosSent_roll\": 0.0}, {\"Date\": \"2019-04-22T00:00:00\", \" Open\": 1865.0, \" High\": 1890.0, \" Low\": 1859.0, \" Close\": 1878.0, \" Volume\": 9405, \"Price_Change\": 0.006970509383378016, \"Mean_Score\": -0.99999950000025, \"Percent_of_PosSent\": 0.0, \"Close_roll\": 1876.6, \"Price_Change_roll\": -0.0017866427902363206, \"Mean_Score_roll\": -0.9999995600002081, \"Percent_of_PosSent_roll\": 0.0}, {\"Date\": \"2019-04-23T00:00:00\", \" Open\": 1860.0, \" High\": 1864.0, \" Low\": 1830.0, \" Close\": 1830.0, \" Volume\": 51425, \"Price_Change\": -0.016129032258064516, \"Mean_Score\": -0.99999950000025, \"Percent_of_PosSent\": 0.0, \"Close_roll\": 1864.6, \"Price_Change_roll\": -0.0045900627582167, \"Mean_Score_roll\": -0.99999950000025, \"Percent_of_PosSent_roll\": 0.0}, {\"Date\": \"2019-04-24T00:00:00\", \" Open\": 1831.0, \" High\": 1874.0, \" Low\": 1790.0, \" Close\": 1790.0, \" Volume\": 71455, \"Price_Change\": -0.02239213544511196, \"Mean_Score\": 0.4285713673469475, \"Percent_of_PosSent\": 1.0, \"Close_roll\": 1845.8, \"Price_Change_roll\": -0.008328140825557443, \"Mean_Score_roll\": -0.7142853265308104, \"Percent_of_PosSent_roll\": 0.2}, {\"Date\": \"2019-04-25T00:00:00\", \" Open\": 1790.0, \" High\": 1837.0, \" Low\": 1755.0, \" Close\": 1780.0, \" Volume\": 53280, \"Price_Change\": -0.00558659217877095, \"Mean_Score\": 0.4285713673469475, \"Percent_of_PosSent\": 1.0, \"Close_roll\": 1828.6, \"Price_Change_roll\": -0.007534631235833926, \"Mean_Score_roll\": -0.42857115306137095, \"Percent_of_PosSent_roll\": 0.4}, {\"Date\": \"2019-04-26T00:00:00\", \" Open\": 1780.0, \" High\": 1780.0, \" Low\": 1762.0, \" Close\": 1766.0, \" Volume\": 36495, \"Price_Change\": -0.007865168539325843, \"Mean_Score\": 0.3124999804687512, \"Percent_of_PosSent\": 0.5, \"Close_roll\": 1808.8, \"Price_Change_roll\": -0.009000483807579052, \"Mean_Score_roll\": -0.16607125696757072, \"Percent_of_PosSent_roll\": 0.5}, {\"Date\": \"2019-04-29T00:00:00\", \" Open\": 1771.0, \" High\": 1840.0, \" Low\": 1771.0, \" Close\": 1800.0, \" Volume\": 40465, \"Price_Change\": 0.01637492941840768, \"Mean_Score\": 0.7499999531250029, \"Percent_of_PosSent\": 1.0, \"Close_roll\": 1793.2, \"Price_Change_roll\": -0.007119599800573117, \"Mean_Score_roll\": 0.18392863365747983, \"Percent_of_PosSent_roll\": 0.7}, {\"Date\": \"2019-04-30T00:00:00\", \" Open\": 1802.0, \" High\": 1829.0, \" Low\": 1780.0, \" Close\": 1780.0, \" Volume\": 35080, \"Price_Change\": -0.01220865704772475, \"Mean_Score\": 0.7499999531250029, \"Percent_of_PosSent\": 1.0, \"Close_roll\": 1783.2, \"Price_Change_roll\": -0.006335524758505166, \"Mean_Score_roll\": 0.5339285242825305, \"Percent_of_PosSent_roll\": 0.9}, {\"Date\": \"2019-05-02T00:00:00\", \" Open\": 1790.0, \" High\": 1810.0, \" Low\": 1790.0, \" Close\": 1799.0, \" Volume\": 41010, \"Price_Change\": 0.005027932960893855, \"Mean_Score\": 0.7499999531250029, \"Percent_of_PosSent\": 1.0, \"Close_roll\": 1785.0, \"Price_Change_roll\": -0.0008515110773040027, \"Mean_Score_roll\": 0.5982142414381415, \"Percent_of_PosSent_roll\": 0.9}, {\"Date\": \"2019-05-03T00:00:00\", \" Open\": 1804.0, \" High\": 1828.0, \" Low\": 1796.0, \" Close\": 1800.0, \" Volume\": 70210, \"Price_Change\": -0.0022172949002217295, \"Mean_Score\": 0.5555551975312003, \"Percent_of_PosSent\": 1.0, \"Close_roll\": 1789.0, \"Price_Change_roll\": -0.00017765162159415863, \"Mean_Score_roll\": 0.623611007474992, \"Percent_of_PosSent_roll\": 0.9}, {\"Date\": \"2019-05-06T00:00:00\", \" Open\": 1839.0, \" High\": 1865.0, \" Low\": 1838.0, \" Close\": 1865.0, \" Volume\": 60855, \"Price_Change\": 0.014138118542686243, \"Mean_Score\": 0.5555551975312003, \"Percent_of_PosSent\": 1.0, \"Close_roll\": 1808.8, \"Price_Change_roll\": 0.004223005794808258, \"Mean_Score_roll\": 0.6722220508874819, \"Percent_of_PosSent_roll\": 1.0}, {\"Date\": \"2019-05-07T00:00:00\", \" Open\": 1868.0, \" High\": 1998.0, \" Low\": 1868.0, \" Close\": 1990.0, \" Volume\": 174715, \"Price_Change\": 0.06531049250535331, \"Mean_Score\": 0.0, \"Percent_of_PosSent\": 0.0, \"Close_roll\": 1846.8, \"Price_Change_roll\": 0.014010118412197386, \"Mean_Score_roll\": 0.5222220602624812, \"Percent_of_PosSent_roll\": 0.8}, {\"Date\": \"2019-05-08T00:00:00\", \" Open\": 1999.0, \" High\": 2000.0, \" Low\": 1961.0, \" Close\": 1999.0, \" Volume\": 130400, \"Price_Change\": 0.0, \"Mean_Score\": 0.0, \"Percent_of_PosSent\": 0.0, \"Close_roll\": 1890.6, \"Price_Change_roll\": 0.01645184982174234, \"Mean_Score_roll\": 0.37222206963748067, \"Percent_of_PosSent_roll\": 0.6}, {\"Date\": \"2019-05-09T00:00:00\", \" Open\": 1988.0, \" High\": 2010.0, \" Low\": 1972.0, \" Close\": 1999.0, \" Volume\": 101190, \"Price_Change\": 0.005533199195171026, \"Mean_Score\": 0.9999999333333378, \"Percent_of_PosSent\": 1.0, \"Close_roll\": 1930.6, \"Price_Change_roll\": 0.01655290306859777, \"Mean_Score_roll\": 0.42222206567914766, \"Percent_of_PosSent_roll\": 0.6}, {\"Date\": \"2019-05-10T00:00:00\", \" Open\": 2000.0, \" High\": 2012.0, \" Low\": 1975.0, \" Close\": 1995.0, \" Volume\": 90365, \"Price_Change\": -0.0025, \"Mean_Score\": 0.9999999333333378, \"Percent_of_PosSent\": 1.0, \"Close_roll\": 1969.6, \"Price_Change_roll\": 0.01649636204864212, \"Mean_Score_roll\": 0.5111110128395752, \"Percent_of_PosSent_roll\": 0.6}, {\"Date\": \"2019-05-14T00:00:00\", \" Open\": 2000.0, \" High\": 2012.0, \" Low\": 1975.0, \" Close\": 1998.0, \" Volume\": 105330, \"Price_Change\": -0.001, \"Mean_Score\": 0.9999999333333378, \"Percent_of_PosSent\": 1.0, \"Close_roll\": 1996.2, \"Price_Change_roll\": 0.013468738340104869, \"Mean_Score_roll\": 0.5999999600000028, \"Percent_of_PosSent_roll\": 0.6}, {\"Date\": \"2019-05-15T00:00:00\", \" Open\": 1995.0, \" High\": 2018.0, \" Low\": 1981.0, \" Close\": 1985.0, \" Volume\": 61555, \"Price_Change\": -0.005012531328320802, \"Mean_Score\": 0.9999999333333378, \"Percent_of_PosSent\": 1.0, \"Close_roll\": 1995.2, \"Price_Change_roll\": -0.0005958664266299551, \"Mean_Score_roll\": 0.7999999466666703, \"Percent_of_PosSent_roll\": 0.8}, {\"Date\": \"2019-05-16T00:00:00\", \" Open\": 1945.0, \" High\": 1984.0, \" Low\": 1930.0, \" Close\": 1950.0, \" Volume\": 39885, \"Price_Change\": 0.002570694087403599, \"Mean_Score\": -0.199999960000008, \"Percent_of_PosSent\": 0.0, \"Close_roll\": 1985.4, \"Price_Change_roll\": -8.172760914923532e-05, \"Mean_Score_roll\": 0.7599999546666687, \"Percent_of_PosSent_roll\": 0.8}, {\"Date\": \"2019-05-17T00:00:00\", \" Open\": 1930.0, \" High\": 2000.0, \" Low\": 1930.0, \" Close\": 1999.0, \" Volume\": 76295, \"Price_Change\": 0.035751295336787565, \"Mean_Score\": -0.199999960000008, \"Percent_of_PosSent\": 0.0, \"Close_roll\": 1985.4, \"Price_Change_roll\": 0.005961891619174073, \"Mean_Score_roll\": 0.5199999759999995, \"Percent_of_PosSent_roll\": 0.6}, {\"Date\": \"2019-05-20T00:00:00\", \" Open\": 1987.0, \" High\": 2022.0, \" Low\": 1974.0, \" Close\": 2018.0, \" Volume\": 39425, \"Price_Change\": 0.01560140915953699, \"Mean_Score\": -0.199999960000008, \"Percent_of_PosSent\": 0.0, \"Close_roll\": 1990.0, \"Price_Change_roll\": 0.009582173451081472, \"Mean_Score_roll\": 0.27999999733333036, \"Percent_of_PosSent_roll\": 0.4}, {\"Date\": \"2019-05-21T00:00:00\", \" Open\": 2018.0, \" High\": 2114.0, \" Low\": 2000.0, \" Close\": 2114.0, \" Volume\": 134350, \"Price_Change\": 0.04757185332011893, \"Mean_Score\": 0.33333322222225925, \"Percent_of_PosSent\": 1.0, \"Close_roll\": 2013.2, \"Price_Change_roll\": 0.019296544115105257, \"Mean_Score_roll\": 0.1466666551111146, \"Percent_of_PosSent_roll\": 0.4}, {\"Date\": \"2019-05-22T00:00:00\", \" Open\": 2070.0, \" High\": 2152.0, \" Low\": 2070.0, \" Close\": 2150.0, \" Volume\": 88375, \"Price_Change\": 0.03864734299516908, \"Mean_Score\": 0.0142856743367481, \"Percent_of_PosSent\": 0.25, \"Close_roll\": 2046.2, \"Price_Change_roll\": 0.028028518979803234, \"Mean_Score_roll\": -0.050476196688203336, \"Percent_of_PosSent_roll\": 0.25}, {\"Date\": \"2019-05-23T00:00:00\", \" Open\": 2100.0, \" High\": 2150.0, \" Low\": 2090.0, \" Close\": 2100.0, \" Volume\": 94195, \"Price_Change\": 0.0, \"Mean_Score\": 0.0142856743367481, \"Percent_of_PosSent\": 0.25, \"Close_roll\": 2076.2, \"Price_Change_roll\": 0.027514380162322515, \"Mean_Score_roll\": -0.007619069820852115, \"Percent_of_PosSent_roll\": 0.3}, {\"Date\": \"2019-05-24T00:00:00\", \" Open\": 2050.0, \" High\": 2102.0, \" Low\": 2050.0, \" Close\": 2088.0, \" Volume\": 73395, \"Price_Change\": 0.018536585365853658, \"Mean_Score\": 0.0142856743367481, \"Percent_of_PosSent\": 0.25, \"Close_roll\": 2094.0, \"Price_Change_roll\": 0.02407143816813573, \"Mean_Score_roll\": 0.035238057046499106, \"Percent_of_PosSent_roll\": 0.35}, {\"Date\": \"2019-05-27T00:00:00\", \" Open\": 2062.0, \" High\": 2110.0, \" Low\": 2062.0, \" Close\": 2080.0, \" Volume\": 31290, \"Price_Change\": 0.008729388942774006, \"Mean_Score\": -0.4999999375000079, \"Percent_of_PosSent\": 0.0, \"Close_roll\": 2106.4, \"Price_Change_roll\": 0.022697034124783133, \"Mean_Score_roll\": -0.024761938453500866, \"Percent_of_PosSent_roll\": 0.35}, {\"Date\": \"2019-05-28T00:00:00\", \" Open\": 2064.0, \" High\": 2168.0, \" Low\": 2064.0, \" Close\": 2112.0, \" Volume\": 199340, \"Price_Change\": 0.023255813953488372, \"Mean_Score\": -0.4999999375000079, \"Percent_of_PosSent\": 0.0, \"Close_roll\": 2106.0, \"Price_Change_roll\": 0.017833826251457026, \"Mean_Score_roll\": -0.1914285703979543, \"Percent_of_PosSent_roll\": 0.15}, {\"Date\": \"2019-05-29T00:00:00\", \" Open\": 2140.0, \" High\": 2186.0, \" Low\": 2134.0, \" Close\": 2176.0, \" Volume\": 61135, \"Price_Change\": 0.016822429906542057, \"Mean_Score\": 0.2857142653061239, \"Percent_of_PosSent\": 1.0, \"Close_roll\": 2111.2, \"Price_Change_roll\": 0.01346884363373162, \"Mean_Score_roll\": -0.13714285220407912, \"Percent_of_PosSent_roll\": 0.3}, {\"Date\": \"2019-05-30T00:00:00\", \" Open\": 2192.0, \" High\": 2230.0, \" Low\": 2128.0, \" Close\": 2210.0, \" Volume\": 81405, \"Price_Change\": 0.008211678832116789, \"Mean_Score\": 0.2857142653061239, \"Percent_of_PosSent\": 1.0, \"Close_roll\": 2133.2, \"Price_Change_roll\": 0.015111179400154976, \"Mean_Score_roll\": -0.08285713401020396, \"Percent_of_PosSent_roll\": 0.45}, {\"Date\": \"2019-05-31T00:00:00\", \" Open\": 2220.0, \" High\": 2238.0, \" Low\": 2170.0, \" Close\": 2170.0, \" Volume\": 82375, \"Price_Change\": -0.02252252252252252, \"Mean_Score\": 0.27930400612625295, \"Percent_of_PosSent\": 1.0, \"Close_roll\": 2149.6, \"Price_Change_roll\": 0.006899357822479741, \"Mean_Score_roll\": -0.02985346765230299, \"Percent_of_PosSent_roll\": 0.6}, {\"Date\": \"2019-06-03T00:00:00\", \" Open\": 2170.0, \" High\": 2260.0, \" Low\": 2166.0, \" Close\": 2260.0, \" Volume\": 72535, \"Price_Change\": 0.041474654377880185, \"Mean_Score\": 0.27930400612625295, \"Percent_of_PosSent\": 1.0, \"Close_roll\": 2185.6, \"Price_Change_roll\": 0.013448410909500977, \"Mean_Score_roll\": 0.12600732107294918, \"Percent_of_PosSent_roll\": 0.8}, {\"Date\": \"2019-06-04T00:00:00\", \" Open\": 2268.0, \" High\": 2298.0, \" Low\": 2202.0, \" Close\": 2294.0, \" Volume\": 98100, \"Price_Change\": 0.01146384479717813, \"Mean_Score\": 0.27930400612625295, \"Percent_of_PosSent\": 1.0, \"Close_roll\": 2222.0, \"Price_Change_roll\": 0.011090017078238928, \"Mean_Score_roll\": 0.2818681097982013, \"Percent_of_PosSent_roll\": 1.0}, {\"Date\": \"2019-06-06T00:00:00\", \" Open\": 2294.0, \" High\": 2308.0, \" Low\": 2250.0, \" Close\": 2274.0, \" Volume\": 50600, \"Price_Change\": -0.008718395815170008, \"Mean_Score\": 0.27930400612625295, \"Percent_of_PosSent\": 1.0, \"Close_roll\": 2241.6, \"Price_Change_roll\": 0.0059818519338965155, \"Mean_Score_roll\": 0.28058605796222713, \"Percent_of_PosSent_roll\": 1.0}, {\"Date\": \"2019-06-07T00:00:00\", \" Open\": 2230.0, \" High\": 2272.0, \" Low\": 2230.0, \" Close\": 2240.0, \" Volume\": 30235, \"Price_Change\": 0.004484304932735426, \"Mean_Score\": 0.27930400612625295, \"Percent_of_PosSent\": 1.0, \"Close_roll\": 2247.6, \"Price_Change_roll\": 0.005236377154020243, \"Mean_Score_roll\": 0.27930400612625295, \"Percent_of_PosSent_roll\": 1.0}, {\"Date\": \"2019-06-10T00:00:00\", \" Open\": 2234.0, \" High\": 2244.0, \" Low\": 2226.0, \" Close\": 2226.0, \" Volume\": 11005, \"Price_Change\": -0.0035810205908683975, \"Mean_Score\": 0.9999990000010001, \"Percent_of_PosSent\": 1.0, \"Close_roll\": 2258.8, \"Price_Change_roll\": 0.009024677540351068, \"Mean_Score_roll\": 0.42344300490120246, \"Percent_of_PosSent_roll\": 1.0}, {\"Date\": \"2019-06-11T00:00:00\", \" Open\": 2230.0, \" High\": 2244.0, \" Low\": 2200.0, \" Close\": 2200.0, \" Volume\": 47025, \"Price_Change\": -0.013452914798206279, \"Mean_Score\": 0.9999990000010001, \"Percent_of_PosSent\": 1.0, \"Close_roll\": 2246.8, \"Price_Change_roll\": -0.001960836294866225, \"Mean_Score_roll\": 0.5675820036761519, \"Percent_of_PosSent_roll\": 1.0}, {\"Date\": \"2019-06-13T00:00:00\", \" Open\": 2238.0, \" High\": 2274.0, \" Low\": 2172.0, \" Close\": 2220.0, \" Volume\": 91470, \"Price_Change\": -0.00804289544235925, \"Mean_Score\": 0.9999990000010001, \"Percent_of_PosSent\": 1.0, \"Close_roll\": 2232.0, \"Price_Change_roll\": -0.0058621843427737, \"Mean_Score_roll\": 0.7117210024511011, \"Percent_of_PosSent_roll\": 1.0}, {\"Date\": \"2019-06-14T00:00:00\", \" Open\": 2230.0, \" High\": 2240.0, \" Low\": 2190.0, \" Close\": 2220.0, \" Volume\": 53835, \"Price_Change\": -0.004484304932735426, \"Mean_Score\": 0.9999990000010001, \"Percent_of_PosSent\": 1.0, \"Close_roll\": 2221.2, \"Price_Change_roll\": -0.005015366166286785, \"Mean_Score_roll\": 0.8558600012260508, \"Percent_of_PosSent_roll\": 1.0}, {\"Date\": \"2019-06-17T00:00:00\", \" Open\": 2202.0, \" High\": 2238.0, \" Low\": 2122.0, \" Close\": 2162.0, \" Volume\": 33015, \"Price_Change\": -0.018165304268846504, \"Mean_Score\": 0.0, \"Percent_of_PosSent\": 0.0, \"Close_roll\": 2205.6, \"Price_Change_roll\": -0.00954528800660317, \"Mean_Score_roll\": 0.7999992000008, \"Percent_of_PosSent_roll\": 0.8}, {\"Date\": \"2019-06-18T00:00:00\", \" Open\": 2144.0, \" High\": 2200.0, \" Low\": 2144.0, \" Close\": 2200.0, \" Volume\": 33680, \"Price_Change\": 0.026119402985074626, \"Mean_Score\": 0.3714285107483095, \"Percent_of_PosSent\": 1.0, \"Close_roll\": 2200.4, \"Price_Change_roll\": -0.003605203291414565, \"Mean_Score_roll\": 0.6742851021502619, \"Percent_of_PosSent_roll\": 0.8}, {\"Date\": \"2019-06-19T00:00:00\", \" Open\": 2220.0, \" High\": 2260.0, \" Low\": 2202.0, \" Close\": 2260.0, \" Volume\": 61520, \"Price_Change\": 0.018018018018018018, \"Mean_Score\": 0.33333322222225925, \"Percent_of_PosSent\": 1.0, \"Close_roll\": 2212.4, \"Price_Change_roll\": 0.0026889832718302933, \"Mean_Score_roll\": 0.5409519465945138, \"Percent_of_PosSent_roll\": 0.8}, {\"Date\": \"2019-06-20T00:00:00\", \" Open\": 2260.0, \" High\": 2260.0, \" Low\": 2208.0, \" Close\": 2214.0, \" Volume\": 39960, \"Price_Change\": -0.020353982300884955, \"Mean_Score\": 0.3282051116765296, \"Percent_of_PosSent\": 0.6666666666666666, \"Close_roll\": 2211.2, \"Price_Change_roll\": 0.0002267659001251518, \"Mean_Score_roll\": 0.4065931689296197, \"Percent_of_PosSent_roll\": 0.7333333333333333}, {\"Date\": \"2019-06-21T00:00:00\", \" Open\": 2228.0, \" High\": 2230.0, \" Low\": 2204.0, \" Close\": 2230.0, \" Volume\": 48175, \"Price_Change\": 0.0008976660682226212, \"Mean_Score\": 0.3282051116765296, \"Percent_of_PosSent\": 0.6666666666666666, \"Close_roll\": 2213.2, \"Price_Change_roll\": 0.0013031601003167617, \"Mean_Score_roll\": 0.2722343912647256, \"Percent_of_PosSent_roll\": 0.6666666666666666}, {\"Date\": \"2019-06-24T00:00:00\", \" Open\": 2218.0, \" High\": 2230.0, \" Low\": 2182.0, \" Close\": 2208.0, \" Volume\": 37315, \"Price_Change\": -0.004508566275924256, \"Mean_Score\": 0.9115383798117341, \"Percent_of_PosSent\": 1.0, \"Close_roll\": 2222.4, \"Price_Change_roll\": 0.004034507698901212, \"Mean_Score_roll\": 0.45454206722707247, \"Percent_of_PosSent_roll\": 0.8666666666666666}, {\"Date\": \"2019-06-25T00:00:00\", \" Open\": 2208.0, \" High\": 2228.0, \" Low\": 2192.0, \" Close\": 2200.0, \" Volume\": 39070, \"Price_Change\": -0.0036231884057971015, \"Mean_Score\": 0.9115383798117341, \"Percent_of_PosSent\": 1.0, \"Close_roll\": 2222.4, \"Price_Change_roll\": -0.0019140105792731343, \"Mean_Score_roll\": 0.5625640410397573, \"Percent_of_PosSent_roll\": 0.8666666666666666}, {\"Date\": \"2019-06-26T00:00:00\", \" Open\": 2210.0, \" High\": 2268.0, \" Low\": 2202.0, \" Close\": 2260.0, \" Volume\": 56000, \"Price_Change\": 0.02262443438914027, \"Mean_Score\": 0.9115383798117341, \"Percent_of_PosSent\": 1.0, \"Close_roll\": 2222.4, \"Price_Change_roll\": -0.0009927273050486837, \"Mean_Score_roll\": 0.6782050725576523, \"Percent_of_PosSent_roll\": 0.8666666666666666}, {\"Date\": \"2019-06-27T00:00:00\", \" Open\": 2240.0, \" High\": 2280.0, \" Low\": 2240.0, \" Close\": 2280.0, \" Volume\": 64360, \"Price_Change\": 0.017857142857142856, \"Mean_Score\": 0.9115383798117341, \"Percent_of_PosSent\": 1.0, \"Close_roll\": 2235.6, \"Price_Change_roll\": 0.006649497726556879, \"Mean_Score_roll\": 0.7948717261846932, \"Percent_of_PosSent_roll\": 0.9333333333333333}, {\"Date\": \"2019-06-28T00:00:00\", \" Open\": 2260.0, \" High\": 2270.0, \" Low\": 2232.0, \" Close\": 2262.0, \" Volume\": 135600, \"Price_Change\": 0.0008849557522123894, \"Mean_Score\": 0.9115383798117341, \"Percent_of_PosSent\": 1.0, \"Close_roll\": 2242.0, \"Price_Change_roll\": 0.006646955663354832, \"Mean_Score_roll\": 0.9115383798117342, \"Percent_of_PosSent_roll\": 1.0}, {\"Date\": \"2019-07-01T00:00:00\", \" Open\": 2262.0, \" High\": 2268.0, \" Low\": 2224.0, \" Close\": 2230.0, \" Volume\": 44705, \"Price_Change\": -0.014146772767462422, \"Mean_Score\": 0.9115383798117341, \"Percent_of_PosSent\": 1.0, \"Close_roll\": 2246.4, \"Price_Change_roll\": 0.004719314365047199, \"Mean_Score_roll\": 0.911538379811734, \"Percent_of_PosSent_roll\": 1.0}, {\"Date\": \"2019-07-02T00:00:00\", \" Open\": 2254.0, \" High\": 2270.0, \" Low\": 2214.0, \" Close\": 2220.0, \" Volume\": 41340, \"Price_Change\": -0.015084294587400177, \"Mean_Score\": 0.6835016161276127, \"Percent_of_PosSent\": 1.0, \"Close_roll\": 2250.4, \"Price_Change_roll\": 0.002427093128726584, \"Mean_Score_roll\": 0.8659310270749099, \"Percent_of_PosSent_roll\": 1.0}, {\"Date\": \"2019-07-03T00:00:00\", \" Open\": 2216.0, \" High\": 2238.0, \" Low\": 2214.0, \" Close\": 2236.0, \" Volume\": 56875, \"Price_Change\": 0.009025270758122744, \"Mean_Score\": 0.6835016161276127, \"Percent_of_PosSent\": 1.0, \"Close_roll\": 2245.6, \"Price_Change_roll\": -0.00029273959747692127, \"Mean_Score_roll\": 0.8203236743380856, \"Percent_of_PosSent_roll\": 1.0}, {\"Date\": \"2019-07-04T00:00:00\", \" Open\": 2236.0, \" High\": 2276.0, \" Low\": 2234.0, \" Close\": 2258.0, \" Volume\": 56690, \"Price_Change\": 0.009838998211091235, \"Mean_Score\": 0.6835016161276127, \"Percent_of_PosSent\": 1.0, \"Close_roll\": 2241.2, \"Price_Change_roll\": -0.0018963685266872453, \"Mean_Score_roll\": 0.7747163216012612, \"Percent_of_PosSent_roll\": 1.0}, {\"Date\": \"2019-07-05T00:00:00\", \" Open\": 2260.0, \" High\": 2260.0, \" Low\": 2236.0, \" Close\": 2258.0, \" Volume\": 32970, \"Price_Change\": -0.0008849557522123894, \"Mean_Score\": 0.9999998989899094, \"Percent_of_PosSent\": 1.0, \"Close_roll\": 2240.4, \"Price_Change_roll\": -0.002250350827572201, \"Mean_Score_roll\": 0.7924086254368963, \"Percent_of_PosSent_roll\": 1.0}, {\"Date\": \"2019-07-08T00:00:00\", \" Open\": 2262.0, \" High\": 2262.0, \" Low\": 2178.0, \" Close\": 2196.0, \" Volume\": 34545, \"Price_Change\": -0.029177718832891247, \"Mean_Score\": 0.9999998989899094, \"Percent_of_PosSent\": 1.0, \"Close_roll\": 2233.6, \"Price_Change_roll\": -0.005256540040657965, \"Mean_Score_roll\": 0.8101009292725314, \"Percent_of_PosSent_roll\": 1.0}, {\"Date\": \"2019-07-09T00:00:00\", \" Open\": 2164.0, \" High\": 2164.0, \" Low\": 2112.0, \" Close\": 2132.0, \" Volume\": 62390, \"Price_Change\": -0.014787430683918669, \"Mean_Score\": 0.33333327777778704, \"Percent_of_PosSent\": 1.0, \"Close_roll\": 2216.0, \"Price_Change_roll\": -0.005197167259961664, \"Mean_Score_roll\": 0.7400672616025663, \"Percent_of_PosSent_roll\": 1.0}, {\"Date\": \"2019-07-10T00:00:00\", \" Open\": 2132.0, \" High\": 2174.0, \" Low\": 2132.0, \" Close\": 2174.0, \" Volume\": 64300, \"Price_Change\": 0.019699812382739212, \"Mean_Score\": 0.33333327777778704, \"Percent_of_PosSent\": 1.0, \"Close_roll\": 2203.6, \"Price_Change_roll\": -0.00306225893503837, \"Mean_Score_roll\": 0.6700335939326012, \"Percent_of_PosSent_roll\": 1.0}, {\"Date\": \"2019-07-11T00:00:00\", \" Open\": 2172.0, \" High\": 2220.0, \" Low\": 2152.0, \" Close\": 2200.0, \" Volume\": 83625, \"Price_Change\": 0.01289134438305709, \"Mean_Score\": 0.33333327777778704, \"Percent_of_PosSent\": 1.0, \"Close_roll\": 2192.0, \"Price_Change_roll\": -0.002451789700645199, \"Mean_Score_roll\": 0.5999999262626361, \"Percent_of_PosSent_roll\": 1.0}, {\"Date\": \"2019-07-12T00:00:00\", \" Open\": 2200.0, \" High\": 2240.0, \" Low\": 2112.0, \" Close\": 2200.0, \" Volume\": 38080, \"Price_Change\": 0.0, \"Mean_Score\": 0.33333327777778704, \"Percent_of_PosSent\": 1.0, \"Close_roll\": 2180.4, \"Price_Change_roll\": -0.0022747985502027217, \"Mean_Score_roll\": 0.4666666020202115, \"Percent_of_PosSent_roll\": 1.0}, {\"Date\": \"2019-07-15T00:00:00\", \" Open\": 2184.0, \" High\": 2242.0, \" Low\": 2184.0, \" Close\": 2232.0, \" Volume\": 76655, \"Price_Change\": 0.02197802197802198, \"Mean_Score\": -0.9999990000010001, \"Percent_of_PosSent\": 0.0, \"Close_roll\": 2187.6, \"Price_Change_roll\": 0.007956349611979923, \"Mean_Score_roll\": 0.06666682222202962, \"Percent_of_PosSent_roll\": 0.8}, {\"Date\": \"2019-07-16T00:00:00\", \" Open\": 2240.0, \" High\": 2246.0, \" Low\": 2140.0, \" Close\": 2140.0, \" Volume\": 54560, \"Price_Change\": -0.044642857142857144, \"Mean_Score\": -0.9999990000010001, \"Percent_of_PosSent\": 0.0, \"Close_roll\": 2189.2, \"Price_Change_roll\": 0.0019852643201922287, \"Mean_Score_roll\": -0.1999996333337278, \"Percent_of_PosSent_roll\": 0.6}, {\"Date\": \"2019-07-17T00:00:00\", \" Open\": 2142.0, \" High\": 2208.0, \" Low\": 2142.0, \" Close\": 2180.0, \" Volume\": 19070, \"Price_Change\": 0.017740429505135387, \"Mean_Score\": 0.33666663811666947, \"Percent_of_PosSent\": 1.0, \"Close_roll\": 2190.4, \"Price_Change_roll\": 0.0015933877446714637, \"Mean_Score_roll\": -0.1993329612659513, \"Percent_of_PosSent_roll\": 0.6}, {\"Date\": \"2019-07-18T00:00:00\", \" Open\": 2212.0, \" High\": 2232.0, \" Low\": 2182.0, \" Close\": 2230.0, \" Volume\": 50580, \"Price_Change\": 0.0081374321880651, \"Mean_Score\": 0.33666663811666947, \"Percent_of_PosSent\": 1.0, \"Close_roll\": 2196.4, \"Price_Change_roll\": 0.0006426053056730656, \"Mean_Score_roll\": -0.1986662891981748, \"Percent_of_PosSent_roll\": 0.6}, {\"Date\": \"2019-07-19T00:00:00\", \" Open\": 2238.0, \" High\": 2260.0, \" Low\": 2220.0, \" Close\": 2244.0, \" Volume\": 94360, \"Price_Change\": 0.002680965147453083, \"Mean_Score\": 0.33666663811666947, \"Percent_of_PosSent\": 1.0, \"Close_roll\": 2205.2, \"Price_Change_roll\": 0.0011787983351636822, \"Mean_Score_roll\": -0.19799961713039832, \"Percent_of_PosSent_roll\": 0.6}, {\"Date\": \"2019-07-22T00:00:00\", \" Open\": 2212.0, \" High\": 2238.0, \" Low\": 2204.0, \" Close\": 2216.0, \" Volume\": 18860, \"Price_Change\": 0.0018083182640144665, \"Mean_Score\": 0.33666663811666947, \"Percent_of_PosSent\": 1.0, \"Close_roll\": 2202.0, \"Price_Change_roll\": -0.00285514240763782, \"Mean_Score_roll\": 0.06933351049313556, \"Percent_of_PosSent_roll\": 0.8}, {\"Date\": \"2019-07-23T00:00:00\", \" Open\": 2180.0, \" High\": 2214.0, \" Low\": 2180.0, \" Close\": 2180.0, \" Volume\": 17355, \"Price_Change\": 0.0, \"Mean_Score\": 0.35294116608996573, \"Percent_of_PosSent\": 1.0, \"Close_roll\": 2210.0, \"Price_Change_roll\": 0.006073429020933607, \"Mean_Score_roll\": 0.3399215437113287, \"Percent_of_PosSent_roll\": 1.0}, {\"Date\": \"2019-07-24T00:00:00\", \" Open\": 2180.0, \" High\": 2200.0, \" Low\": 2174.0, \" Close\": 2190.0, \" Volume\": 32240, \"Price_Change\": 0.0045871559633027525, \"Mean_Score\": 0.35294116608996573, \"Percent_of_PosSent\": 1.0, \"Close_roll\": 2212.0, \"Price_Change_roll\": 0.0034427743125670803, \"Mean_Score_roll\": 0.343176449305988, \"Percent_of_PosSent_roll\": 1.0}, {\"Date\": \"2019-07-25T00:00:00\", \" Open\": 2200.0, \" High\": 2236.0, \" Low\": 2176.0, \" Close\": 2236.0, \" Volume\": 68780, \"Price_Change\": 0.016363636363636365, \"Mean_Score\": 0.35294116608996573, \"Percent_of_PosSent\": 1.0, \"Close_roll\": 2213.2, \"Price_Change_roll\": 0.005088015147681334, \"Mean_Score_roll\": 0.3464313549006472, \"Percent_of_PosSent_roll\": 1.0}, {\"Date\": \"2019-07-26T00:00:00\", \" Open\": 2234.0, \" High\": 2236.0, \" Low\": 2204.0, \" Close\": 2220.0, \" Volume\": 37345, \"Price_Change\": -0.006266786034019696, \"Mean_Score\": 0.35294116608996573, \"Percent_of_PosSent\": 1.0, \"Close_roll\": 2208.4, \"Price_Change_roll\": 0.0032984649113867773, \"Mean_Score_roll\": 0.3496862604953065, \"Percent_of_PosSent_roll\": 1.0}, {\"Date\": \"2019-07-29T00:00:00\", \" Open\": 2210.0, \" High\": 2260.0, \" Low\": 2190.0, \" Close\": 2260.0, \" Volume\": 26095, \"Price_Change\": 0.02262443438914027, \"Mean_Score\": 0.35294116608996573, \"Percent_of_PosSent\": 1.0, \"Close_roll\": 2217.2, \"Price_Change_roll\": 0.007461688136411938, \"Mean_Score_roll\": 0.35294116608996573, \"Percent_of_PosSent_roll\": 1.0}, {\"Date\": \"2019-07-30T00:00:00\", \" Open\": 2200.0, \" High\": 2244.0, \" Low\": 2190.0, \" Close\": 2190.0, \" Volume\": 36335, \"Price_Change\": -0.004545454545454545, \"Mean_Score\": 0.35294116608996573, \"Percent_of_PosSent\": 1.0, \"Close_roll\": 2219.2, \"Price_Change_roll\": 0.00655259722732103, \"Mean_Score_roll\": 0.35294116608996573, \"Percent_of_PosSent_roll\": 1.0}, {\"Date\": \"2019-07-31T00:00:00\", \" Open\": 2192.0, \" High\": 2216.0, \" Low\": 2148.0, \" Close\": 2148.0, \" Volume\": 90425, \"Price_Change\": -0.020072992700729927, \"Mean_Score\": 0.2499999875000006, \"Percent_of_PosSent\": 0.5, \"Close_roll\": 2210.8, \"Price_Change_roll\": 0.0016205674945144939, \"Mean_Score_roll\": 0.33235293037197267, \"Percent_of_PosSent_roll\": 0.9}, {\"Date\": \"2019-08-01T00:00:00\", \" Open\": 2152.0, \" High\": 2152.0, \" Low\": 2060.0, \" Close\": 2098.0, \" Volume\": 49005, \"Price_Change\": -0.02509293680297398, \"Mean_Score\": 0.0, \"Percent_of_PosSent\": 0.0, \"Close_roll\": 2183.2, \"Price_Change_roll\": -0.006670747138807576, \"Mean_Score_roll\": 0.26176469715397954, \"Percent_of_PosSent_roll\": 0.7}, {\"Date\": \"2019-08-02T00:00:00\", \" Open\": 2098.0, \" High\": 2116.0, \" Low\": 2058.0, \" Close\": 2100.0, \" Volume\": 26305, \"Price_Change\": 0.0009532888465204957, \"Mean_Score\": 0.49999950000050003, \"Percent_of_PosSent\": 0.5, \"Close_roll\": 2159.2, \"Price_Change_roll\": -0.0052267321626995366, \"Mean_Score_roll\": 0.2911763639360864, \"Percent_of_PosSent_roll\": 0.6}, {\"Date\": \"2019-08-05T00:00:00\", \" Open\": 2100.0, \" High\": 2100.0, \" Low\": 1984.0, \" Close\": 1984.0, \" Volume\": 63700, \"Price_Change\": -0.05523809523809524, \"Mean_Score\": 0.49999950000050003, \"Percent_of_PosSent\": 0.5, \"Close_roll\": 2104.0, \"Price_Change_roll\": -0.020799238088146637, \"Mean_Score_roll\": 0.3205880307181933, \"Percent_of_PosSent_roll\": 0.5}, {\"Date\": \"2019-08-06T00:00:00\", \" Open\": 1980.0, \" High\": 1990.0, \" Low\": 1935.0, \" Close\": 1954.0, \" Volume\": 54710, \"Price_Change\": -0.013131313131313131, \"Mean_Score\": -0.199999960000008, \"Percent_of_PosSent\": 0.0, \"Close_roll\": 2056.8, \"Price_Change_roll\": -0.022516409805318355, \"Mean_Score_roll\": 0.20999980550019853, \"Percent_of_PosSent_roll\": 0.3}, {\"Date\": \"2019-08-07T00:00:00\", \" Open\": 1980.0, \" High\": 1994.0, \" Low\": 1943.0, \" Close\": 1960.0, \" Volume\": 38660, \"Price_Change\": -0.010101010101010102, \"Mean_Score\": 0.22424240233241818, \"Percent_of_PosSent\": 1.0, \"Close_roll\": 2019.2, \"Price_Change_roll\": -0.02052201328537439, \"Mean_Score_roll\": 0.20484828846668207, \"Percent_of_PosSent_roll\": 0.4}, {\"Date\": \"2019-08-08T00:00:00\", \" Open\": 1980.0, \" High\": 2030.0, \" Low\": 1971.0, \" Close\": 1971.0, \" Volume\": 92355, \"Price_Change\": -0.004545454545454545, \"Mean_Score\": 0.4999999375000079, \"Percent_of_PosSent\": 1.0, \"Close_roll\": 1993.8, \"Price_Change_roll\": -0.016412516833870502, \"Mean_Score_roll\": 0.3048482759666836, \"Percent_of_PosSent_roll\": 0.6}, {\"Date\": \"2019-08-09T00:00:00\", \" Open\": 1973.0, \" High\": 2022.0, \" Low\": 1950.0, \" Close\": 1950.0, \" Volume\": 27180, \"Price_Change\": -0.011657374556512924, \"Mean_Score\": 0.4999999375000079, \"Percent_of_PosSent\": 1.0, \"Close_roll\": 1963.8, \"Price_Change_roll\": -0.018934649514477188, \"Mean_Score_roll\": 0.30484836346658517, \"Percent_of_PosSent_roll\": 0.7}, {\"Date\": \"2019-08-13T00:00:00\", \" Open\": 1976.0, \" High\": 1976.0, \" Low\": 1891.0, \" Close\": 1965.0, \" Volume\": 87545, \"Price_Change\": -0.005566801619433198, \"Mean_Score\": 0.4999999375000079, \"Percent_of_PosSent\": 1.0, \"Close_roll\": 1960.0, \"Price_Change_roll\": -0.00900039079074478, \"Mean_Score_roll\": 0.3048484509664868, \"Percent_of_PosSent_roll\": 0.8}, {\"Date\": \"2019-08-14T00:00:00\", \" Open\": 1955.0, \" High\": 2000.0, \" Low\": 1910.0, \" Close\": 1959.0, \" Volume\": 44115, \"Price_Change\": 0.0020460358056265983, \"Mean_Score\": 0.4999999375000079, \"Percent_of_PosSent\": 1.0, \"Close_roll\": 1961.0, \"Price_Change_roll\": -0.005964921003356832, \"Mean_Score_roll\": 0.4448484304664899, \"Percent_of_PosSent_roll\": 1.0}, {\"Date\": \"2019-08-15T00:00:00\", \" Open\": 1960.0, \" High\": 1980.0, \" Low\": 1910.0, \" Close\": 1960.0, \" Volume\": 46675, \"Price_Change\": 0.0, \"Mean_Score\": 0.4999999375000079, \"Percent_of_PosSent\": 1.0, \"Close_roll\": 1961.0, \"Price_Change_roll\": -0.003944718983154813, \"Mean_Score_roll\": 0.4999999375000079, \"Percent_of_PosSent_roll\": 1.0}, {\"Date\": \"2019-08-16T00:00:00\", \" Open\": 1960.0, \" High\": 1988.0, \" Low\": 1915.0, \" Close\": 1915.0, \" Volume\": 48505, \"Price_Change\": -0.02295918367346939, \"Mean_Score\": 0.7333332844444478, \"Percent_of_PosSent\": 1.0, \"Close_roll\": 1949.8, \"Price_Change_roll\": -0.007627464808757781, \"Mean_Score_roll\": 0.5466666068888959, \"Percent_of_PosSent_roll\": 1.0}, {\"Date\": \"2019-08-19T00:00:00\", \" Open\": 1918.0, \" High\": 1948.0, \" Low\": 1880.0, \" Close\": 1900.0, \" Volume\": 59080, \"Price_Change\": -0.009384775808133473, \"Mean_Score\": 0.899999793333393, \"Percent_of_PosSent\": 1.0, \"Close_roll\": 1939.8, \"Price_Change_roll\": -0.0071729450590818904, \"Mean_Score_roll\": 0.6266665780555728, \"Percent_of_PosSent_roll\": 1.0}, {\"Date\": \"2019-08-20T00:00:00\", \" Open\": 1930.0, \" High\": 1930.0, \" Low\": 1883.0, \" Close\": 1900.0, \" Volume\": 59930, \"Price_Change\": -0.015544041450777202, \"Mean_Score\": 0.8989898292717448, \"Percent_of_PosSent\": 1.0, \"Close_roll\": 1926.8, \"Price_Change_roll\": -0.009168393025350692, \"Mean_Score_roll\": 0.7064645564099202, \"Percent_of_PosSent_roll\": 1.0}, {\"Date\": \"2019-08-22T00:00:00\", \" Open\": 1900.0, \" High\": 1939.0, \" Low\": 1894.0, \" Close\": 1900.0, \" Volume\": 97455, \"Price_Change\": 0.0, \"Mean_Score\": 0.0, \"Percent_of_PosSent\": 0.0, \"Close_roll\": 1915.0, \"Price_Change_roll\": -0.009577600186476012, \"Mean_Score_roll\": 0.6064645689099187, \"Percent_of_PosSent_roll\": 0.8}, {\"Date\": \"2019-08-23T00:00:00\", \" Open\": 1890.0, \" High\": 1900.0, \" Low\": 1890.0, \" Close\": 1899.0, \" Volume\": 47525, \"Price_Change\": 0.004761904761904762, \"Mean_Score\": 0.0, \"Percent_of_PosSent\": 0.0, \"Close_roll\": 1902.8, \"Price_Change_roll\": -0.00862521923409506, \"Mean_Score_roll\": 0.5064645814099171, \"Percent_of_PosSent_roll\": 0.6}, {\"Date\": \"2019-08-27T00:00:00\", \" Open\": 1899.0, \" High\": 1919.0, \" Low\": 1880.0, \" Close\": 1880.0, \" Volume\": 114375, \"Price_Change\": -0.010005265929436546, \"Mean_Score\": 0.33333322222225925, \"Percent_of_PosSent\": 1.0, \"Close_roll\": 1895.8, \"Price_Change_roll\": -0.00603443568528849, \"Mean_Score_roll\": 0.42646456896547935, \"Percent_of_PosSent_roll\": 0.6}, {\"Date\": \"2019-08-28T00:00:00\", \" Open\": 1909.0, \" High\": 1909.0, \" Low\": 1880.0, \" Close\": 1900.0, \" Volume\": 34140, \"Price_Change\": -0.004714510214772132, \"Mean_Score\": -0.1999999900000005, \"Percent_of_PosSent\": 0.0, \"Close_roll\": 1895.8, \"Price_Change_roll\": -0.0051003825666162215, \"Mean_Score_roll\": 0.2064646122988007, \"Percent_of_PosSent_roll\": 0.4}, {\"Date\": \"2019-08-29T00:00:00\", \" Open\": 1900.0, \" High\": 1924.0, \" Low\": 1890.0, \" Close\": 1924.0, \" Volume\": 36325, \"Price_Change\": 0.01263157894736842, \"Mean_Score\": -0.1999999900000005, \"Percent_of_PosSent\": 0.0, \"Close_roll\": 1900.6, \"Price_Change_roll\": 0.0005347415130129024, \"Mean_Score_roll\": -0.013333351555548345, \"Percent_of_PosSent_roll\": 0.2}, {\"Date\": \"2019-08-30T00:00:00\", \" Open\": 1901.0, \" High\": 2030.0, \" Low\": 1901.0, \" Close\": 2030.0, \" Volume\": 97255, \"Price_Change\": 0.067859021567596, \"Mean_Score\": -0.1999999900000005, \"Percent_of_PosSent\": 0.0, \"Close_roll\": 1926.6, \"Price_Change_roll\": 0.014106545826532101, \"Mean_Score_roll\": -0.05333334955554845, \"Percent_of_PosSent_roll\": 0.2}, {\"Date\": \"2019-09-02T00:00:00\", \" Open\": 1951.0, \" High\": 2010.0, \" Low\": 1951.0, \" Close\": 2010.0, \" Volume\": 22585, \"Price_Change\": 0.030240902101486417, \"Mean_Score\": -0.1999999900000005, \"Percent_of_PosSent\": 0.0, \"Close_roll\": 1948.8, \"Price_Change_roll\": 0.019202345294448434, \"Mean_Score_roll\": -0.09333334755554853, \"Percent_of_PosSent_roll\": 0.2}, {\"Date\": \"2019-09-03T00:00:00\", \" Open\": 2008.0, \" High\": 2008.0, \" Low\": 1972.0, \" Close\": 1988.0, \" Volume\": 13660, \"Price_Change\": -0.0099601593625498, \"Mean_Score\": -0.1999999900000005, \"Percent_of_PosSent\": 0.0, \"Close_roll\": 1970.4, \"Price_Change_roll\": 0.01921136660782578, \"Mean_Score_roll\": -0.1999999900000005, \"Percent_of_PosSent_roll\": 0.0}, {\"Date\": \"2019-09-04T00:00:00\", \" Open\": 1998.0, \" High\": 1998.0, \" Low\": 1922.0, \" Close\": 1922.0, \" Volume\": 46705, \"Price_Change\": -0.03803803803803804, \"Mean_Score\": -0.1999999900000005, \"Percent_of_PosSent\": 0.0, \"Close_roll\": 1974.8, \"Price_Change_roll\": 0.012546661043172602, \"Mean_Score_roll\": -0.19999999000000052, \"Percent_of_PosSent_roll\": 0.0}, {\"Date\": \"2019-09-05T00:00:00\", \" Open\": 1925.0, \" High\": 1939.0, \" Low\": 1900.0, \" Close\": 1900.0, \" Volume\": 71855, \"Price_Change\": -0.012987012987012988, \"Mean_Score\": -0.1999999900000005, \"Percent_of_PosSent\": 0.0, \"Close_roll\": 1970.0, \"Price_Change_roll\": 0.0074229426562963195, \"Mean_Score_roll\": -0.19999999000000052, \"Percent_of_PosSent_roll\": 0.0}, {\"Date\": \"2019-09-06T00:00:00\", \" Open\": 1950.0, \" High\": 1954.0, \" Low\": 1910.0, \" Close\": 1947.0, \" Volume\": 33120, \"Price_Change\": -0.0015384615384615385, \"Mean_Score\": -0.1999999900000005, \"Percent_of_PosSent\": 0.0, \"Close_roll\": 1953.4, \"Price_Change_roll\": -0.006456553964915191, \"Mean_Score_roll\": -0.1999999900000005, \"Percent_of_PosSent_roll\": 0.0}, {\"Date\": \"2019-09-09T00:00:00\", \" Open\": 1947.0, \" High\": 1980.0, \" Low\": 1937.0, \" Close\": 1980.0, \" Volume\": 29055, \"Price_Change\": 0.01694915254237288, \"Mean_Score\": -0.1999999900000005, \"Percent_of_PosSent\": 0.0, \"Close_roll\": 1947.4, \"Price_Change_roll\": -0.009114903876737896, \"Mean_Score_roll\": -0.1999999900000005, \"Percent_of_PosSent_roll\": 0.0}, {\"Date\": \"2019-09-10T00:00:00\", \" Open\": 1960.0, \" High\": 1985.0, \" Low\": 1960.0, \" Close\": 1970.0, \" Volume\": 30525, \"Price_Change\": 0.00510204081632653, \"Mean_Score\": -0.1999999900000005, \"Percent_of_PosSent\": 0.0, \"Close_roll\": 1943.8, \"Price_Change_roll\": -0.006102463840962631, \"Mean_Score_roll\": -0.19999999000000052, \"Percent_of_PosSent_roll\": 0.0}, {\"Date\": \"2019-09-11T00:00:00\", \" Open\": 1970.0, \" High\": 1990.0, \" Low\": 1935.0, \" Close\": 1940.0, \" Volume\": 50800, \"Price_Change\": -0.015228426395939087, \"Mean_Score\": -0.1999999900000005, \"Percent_of_PosSent\": 0.0, \"Close_roll\": 1947.4, \"Price_Change_roll\": -0.0015405415125428403, \"Mean_Score_roll\": -0.19999999000000052, \"Percent_of_PosSent_roll\": 0.0}, {\"Date\": \"2019-09-12T00:00:00\", \" Open\": 1935.0, \" High\": 1966.0, \" Low\": 1935.0, \" Close\": 1935.0, \" Volume\": 14790, \"Price_Change\": 0.0, \"Mean_Score\": -0.1999999900000005, \"Percent_of_PosSent\": 0.0, \"Close_roll\": 1954.4, \"Price_Change_roll\": 0.0010568610848597573, \"Mean_Score_roll\": -0.1999999900000005, \"Percent_of_PosSent_roll\": 0.0}, {\"Date\": \"2019-09-13T00:00:00\", \" Open\": 1938.0, \" High\": 1969.0, \" Low\": 1938.0, \" Close\": 1968.0, \" Volume\": 25825, \"Price_Change\": 0.015479876160990712, \"Mean_Score\": 0.6444444088888909, \"Percent_of_PosSent\": 0.6666666666666666, \"Close_roll\": 1958.6, \"Price_Change_roll\": 0.004460528624750207, \"Mean_Score_roll\": -0.031111110222222217, \"Percent_of_PosSent_roll\": 0.13333333333333333}, {\"Date\": \"2019-09-16T00:00:00\", \" Open\": 1955.0, \" High\": 1961.0, \" Low\": 1930.0, \" Close\": 1949.0, \" Volume\": 24025, \"Price_Change\": -0.003069053708439898, \"Mean_Score\": 0.0, \"Percent_of_PosSent\": 0.0, \"Close_roll\": 1952.4, \"Price_Change_roll\": 0.0004568873745876517, \"Mean_Score_roll\": 0.008888887777777882, \"Percent_of_PosSent_roll\": 0.13333333333333333}, {\"Date\": \"2019-09-17T00:00:00\", \" Open\": 1931.0, \" High\": 1970.0, \" Low\": 1931.0, \" Close\": 1970.0, \" Volume\": 35570, \"Price_Change\": 0.02019678922837908, \"Mean_Score\": 0.0, \"Percent_of_PosSent\": 0.0, \"Close_roll\": 1952.4, \"Price_Change_roll\": 0.0034758370569981612, \"Mean_Score_roll\": 0.04888888577777798, \"Percent_of_PosSent_roll\": 0.13333333333333333}, {\"Date\": \"2019-09-18T00:00:00\", \" Open\": 1969.0, \" High\": 1969.0, \" Low\": 1935.0, \" Close\": 1935.0, \" Volume\": 18990, \"Price_Change\": -0.017267648552564754, \"Mean_Score\": 0.0, \"Percent_of_PosSent\": 0.0, \"Close_roll\": 1951.4, \"Price_Change_roll\": 0.003067992625673027, \"Mean_Score_roll\": 0.08888888377777808, \"Percent_of_PosSent_roll\": 0.13333333333333333}, {\"Date\": \"2019-09-19T00:00:00\", \" Open\": 1945.0, \" High\": 1945.0, \" Low\": 1890.0, \" Close\": 1890.0, \" Volume\": 92025, \"Price_Change\": -0.028277634961439587, \"Mean_Score\": 0.0, \"Percent_of_PosSent\": 0.0, \"Close_roll\": 1942.4, \"Price_Change_roll\": -0.0025875343666148893, \"Mean_Score_roll\": 0.12888888177777819, \"Percent_of_PosSent_roll\": 0.13333333333333333}, {\"Date\": \"2019-09-20T00:00:00\", \" Open\": 1900.0, \" High\": 1924.0, \" Low\": 1892.0, \" Close\": 1910.0, \" Volume\": 62160, \"Price_Change\": 0.005263157894736842, \"Mean_Score\": 0.0, \"Percent_of_PosSent\": 0.0, \"Close_roll\": 1930.8, \"Price_Change_roll\": -0.0046308780198656635, \"Mean_Score_roll\": 0.0, \"Percent_of_PosSent_roll\": 0.0}, {\"Date\": \"2019-09-23T00:00:00\", \" Open\": 1910.0, \" High\": 1910.0, \" Low\": 1884.0, \" Close\": 1884.0, \" Volume\": 15495, \"Price_Change\": -0.013612565445026177, \"Mean_Score\": 0.0, \"Percent_of_PosSent\": 0.0, \"Close_roll\": 1917.8, \"Price_Change_roll\": -0.00673958036718292, \"Mean_Score_roll\": 0.0, \"Percent_of_PosSent_roll\": 0.0}, {\"Date\": \"2019-09-24T00:00:00\", \" Open\": 1892.0, \" High\": 1892.0, \" Low\": 1826.0, \" Close\": 1826.0, \" Volume\": 57960, \"Price_Change\": -0.03488372093023256, \"Mean_Score\": 0.0, \"Percent_of_PosSent\": 0.0, \"Close_roll\": 1889.0, \"Price_Change_roll\": -0.017755682398905247, \"Mean_Score_roll\": 0.0, \"Percent_of_PosSent_roll\": 0.0}, {\"Date\": \"2019-09-25T00:00:00\", \" Open\": 1860.0, \" High\": 1878.0, \" Low\": 1832.0, \" Close\": 1853.0, \" Volume\": 38765, \"Price_Change\": -0.003763440860215054, \"Mean_Score\": -0.028985526517534055, \"Percent_of_PosSent\": 0.5, \"Close_roll\": 1872.6, \"Price_Change_roll\": -0.015054840860435306, \"Mean_Score_roll\": -0.005797105303506811, \"Percent_of_PosSent_roll\": 0.1}, {\"Date\": \"2019-09-26T00:00:00\", \" Open\": 1845.0, \" High\": 1869.0, \" Low\": 1827.0, \" Close\": 1857.0, \" Volume\": 63940, \"Price_Change\": 0.0065040650406504065, \"Mean_Score\": 0.5555554938271674, \"Percent_of_PosSent\": 1.0, \"Close_roll\": 1866.0, \"Price_Change_roll\": -0.008098500860017307, \"Mean_Score_roll\": 0.10531399346192667, \"Percent_of_PosSent_roll\": 0.3}, {\"Date\": \"2019-09-27T00:00:00\", \" Open\": 1868.0, \" High\": 1869.0, \" Low\": 1833.0, \" Close\": 1835.0, \" Volume\": 63215, \"Price_Change\": -0.017665952890792293, \"Mean_Score\": 0.5555554938271674, \"Percent_of_PosSent\": 1.0, \"Close_roll\": 1851.0, \"Price_Change_roll\": -0.012684323017123134, \"Mean_Score_roll\": 0.21642509222736014, \"Percent_of_PosSent_roll\": 0.5}, {\"Date\": \"2019-09-30T00:00:00\", \" Open\": 1835.0, \" High\": 1859.0, \" Low\": 1827.0, \" Close\": 1830.0, \" Volume\": 31260, \"Price_Change\": -0.0027247956403269754, \"Mean_Score\": 0.24999996875000394, \"Percent_of_PosSent\": 1.0, \"Close_roll\": 1840.2, \"Price_Change_roll\": -0.010506769056183295, \"Mean_Score_roll\": 0.2664250859773609, \"Percent_of_PosSent_roll\": 0.7}, {\"Date\": \"2019-10-01T00:00:00\", \" Open\": 1830.0, \" High\": 1834.0, \" Low\": 1826.0, \" Close\": 1828.0, \" Volume\": 22840, \"Price_Change\": -0.001092896174863388, \"Mean_Score\": -0.23809520011338475, \"Percent_of_PosSent\": 0.0, \"Close_roll\": 1840.6, \"Price_Change_roll\": -0.003748604105109461, \"Mean_Score_roll\": 0.21880604595468398, \"Percent_of_PosSent_roll\": 0.7}, {\"Date\": \"2019-10-02T00:00:00\", \" Open\": 1826.0, \" High\": 1826.0, \" Low\": 1785.0, \" Close\": 1793.0, \" Volume\": 59395, \"Price_Change\": -0.018072289156626505, \"Mean_Score\": -0.23809520011338475, \"Percent_of_PosSent\": 0.0, \"Close_roll\": 1828.6, \"Price_Change_roll\": -0.006610373764391751, \"Mean_Score_roll\": 0.17698411123551386, \"Percent_of_PosSent_roll\": 0.6}, {\"Date\": \"2019-10-03T00:00:00\", \" Open\": 1800.0, \" High\": 1800.0, \" Low\": 1756.0, \" Close\": 1770.0, \" Volume\": 19515, \"Price_Change\": -0.016666666666666666, \"Mean_Score\": -0.23809520011338475, \"Percent_of_PosSent\": 0.0, \"Close_roll\": 1811.2, \"Price_Change_roll\": -0.011244520105855168, \"Mean_Score_roll\": 0.018253972447403417, \"Percent_of_PosSent_roll\": 0.4}, {\"Date\": \"2019-10-04T00:00:00\", \" Open\": 1770.0, \" High\": 1783.0, \" Low\": 1765.0, \" Close\": 1783.0, \" Volume\": 31875, \"Price_Change\": 0.007344632768361582, \"Mean_Score\": -0.24999993750001562, \"Percent_of_PosSent\": 0.0, \"Close_roll\": 1800.8, \"Price_Change_roll\": -0.006242402974024392, \"Mean_Score_roll\": -0.14285711381803318, \"Percent_of_PosSent_roll\": 0.2}, {\"Date\": \"2019-10-07T00:00:00\", \" Open\": 1784.0, \" High\": 1799.0, \" Low\": 1784.0, \" Close\": 1798.0, \" Volume\": 14925, \"Price_Change\": 0.007847533632286996, \"Mean_Score\": -0.24999993750001562, \"Percent_of_PosSent\": 0.0, \"Close_roll\": 1794.4, \"Price_Change_roll\": -0.004127937119501598, \"Mean_Score_roll\": -0.2428570950680371, \"Percent_of_PosSent_roll\": 0.0}, {\"Date\": \"2019-10-08T00:00:00\", \" Open\": 1800.0, \" High\": 1819.0, \" Low\": 1791.0, \" Close\": 1794.0, \" Volume\": 29725, \"Price_Change\": -0.0033333333333333335, \"Mean_Score\": 0.6363636074380178, \"Percent_of_PosSent\": 1.0, \"Close_roll\": 1787.6, \"Price_Change_roll\": -0.004576024551195586, \"Mean_Score_roll\": -0.06796533355775661, \"Percent_of_PosSent_roll\": 0.2}, {\"Date\": \"2019-10-09T00:00:00\", \" Open\": 1798.0, \" High\": 1818.0, \" Low\": 1789.0, \" Close\": 1810.0, \" Volume\": 36370, \"Price_Change\": 0.006674082313681869, \"Mean_Score\": 0.6363636074380178, \"Percent_of_PosSent\": 1.0, \"Close_roll\": 1791.0, \"Price_Change_roll\": 0.0003732497428660886, \"Mean_Score_roll\": 0.1069264279525239, \"Percent_of_PosSent_roll\": 0.4}, {\"Date\": \"2019-10-10T00:00:00\", \" Open\": 1806.0, \" High\": 1816.0, \" Low\": 1806.0, \" Close\": 1813.0, \" Volume\": 28860, \"Price_Change\": 0.003875968992248062, \"Mean_Score\": 0.6363636074380178, \"Percent_of_PosSent\": 1.0, \"Close_roll\": 1799.6, \"Price_Change_roll\": 0.0044817768746490344, \"Mean_Score_roll\": 0.28181818946280435, \"Percent_of_PosSent_roll\": 0.6}, {\"Date\": \"2019-10-11T00:00:00\", \" Open\": 1820.0, \" High\": 1823.0, \" Low\": 1812.0, \" Close\": 1818.0, \" Volume\": 17100, \"Price_Change\": -0.001098901098901099, \"Mean_Score\": 0.6363636074380178, \"Percent_of_PosSent\": 1.0, \"Close_roll\": 1806.6, \"Price_Change_roll\": 0.002793070101196498, \"Mean_Score_roll\": 0.45909089845041107, \"Percent_of_PosSent_roll\": 0.8}, {\"Date\": \"2019-10-14T00:00:00\", \" Open\": 1820.0, \" High\": 1855.0, \" Low\": 1820.0, \" Close\": 1844.0, \" Volume\": 23575, \"Price_Change\": 0.013186813186813187, \"Mean_Score\": 0.6363636074380178, \"Percent_of_PosSent\": 1.0, \"Close_roll\": 1815.8, \"Price_Change_roll\": 0.003860926012101737, \"Mean_Score_roll\": 0.6363636074380178, \"Percent_of_PosSent_roll\": 1.0}, {\"Date\": \"2019-10-15T00:00:00\", \" Open\": 1845.0, \" High\": 1845.0, \" Low\": 1826.0, \" Close\": 1838.0, \" Volume\": 44880, \"Price_Change\": -0.003794037940379404, \"Mean_Score\": 0.6363636074380178, \"Percent_of_PosSent\": 1.0, \"Close_roll\": 1824.6, \"Price_Change_roll\": 0.0037687850906925223, \"Mean_Score_roll\": 0.6363636074380178, \"Percent_of_PosSent_roll\": 1.0}, {\"Date\": \"2019-10-16T00:00:00\", \" Open\": 1837.0, \" High\": 1870.0, \" Low\": 1836.0, \" Close\": 1840.0, \" Volume\": 77485, \"Price_Change\": 0.001633097441480675, \"Mean_Score\": 0.6363636074380178, \"Percent_of_PosSent\": 1.0, \"Close_roll\": 1830.6, \"Price_Change_roll\": 0.0027605881162522834, \"Mean_Score_roll\": 0.6363636074380177, \"Percent_of_PosSent_roll\": 1.0}, {\"Date\": \"2019-10-17T00:00:00\", \" Open\": 1840.0, \" High\": 1875.0, \" Low\": 1840.0, \" Close\": 1870.0, \" Volume\": 40030, \"Price_Change\": 0.016304347826086956, \"Mean_Score\": 0.13311081505626082, \"Percent_of_PosSent\": 0.3333333333333333, \"Close_roll\": 1842.0, \"Price_Change_roll\": 0.005246263883020063, \"Mean_Score_roll\": 0.5357130489616664, \"Percent_of_PosSent_roll\": 0.8666666666666666}, {\"Date\": \"2019-10-18T00:00:00\", \" Open\": 1871.0, \" High\": 1878.0, \" Low\": 1870.0, \" Close\": 1875.0, \" Volume\": 85515, \"Price_Change\": 0.002137894174238375, \"Mean_Score\": 0.13311081505626082, \"Percent_of_PosSent\": 0.3333333333333333, \"Close_roll\": 1853.4, \"Price_Change_roll\": 0.005893622937647957, \"Mean_Score_roll\": 0.43506249048531503, \"Percent_of_PosSent_roll\": 0.7333333333333333}, {\"Date\": \"2019-10-21T00:00:00\", \" Open\": 1879.0, \" High\": 1890.0, \" Low\": 1867.0, \" Close\": 1890.0, \" Volume\": 14775, \"Price_Change\": 0.005854177754124534, \"Mean_Score\": 0.13311081505626082, \"Percent_of_PosSent\": 0.3333333333333333, \"Close_roll\": 1862.6, \"Price_Change_roll\": 0.004427095851110227, \"Mean_Score_roll\": 0.3344119320089636, \"Percent_of_PosSent_roll\": 0.6}, {\"Date\": \"2019-10-22T00:00:00\", \" Open\": 1890.0, \" High\": 1900.0, \" Low\": 1873.0, \" Close\": 1896.0, \" Volume\": 23825, \"Price_Change\": 0.0031746031746031746, \"Mean_Score\": 0.13311081505626082, \"Percent_of_PosSent\": 0.3333333333333333, \"Close_roll\": 1874.2, \"Price_Change_roll\": 0.005820824074106742, \"Mean_Score_roll\": 0.2337613735326122, \"Percent_of_PosSent_roll\": 0.4666666666666666}, {\"Date\": \"2019-10-23T00:00:00\", \" Open\": 1880.0, \" High\": 1920.0, \" Low\": 1880.0, \" Close\": 1920.0, \" Volume\": 48935, \"Price_Change\": 0.02127659574468085, \"Mean_Score\": 0.13311081505626082, \"Percent_of_PosSent\": 0.3333333333333333, \"Close_roll\": 1890.2, \"Price_Change_roll\": 0.009749523734746777, \"Mean_Score_roll\": 0.13311081505626082, \"Percent_of_PosSent_roll\": 0.3333333333333333}, {\"Date\": \"2019-10-24T00:00:00\", \" Open\": 1918.0, \" High\": 1920.0, \" Low\": 1901.0, \" Close\": 1920.0, \" Volume\": 39330, \"Price_Change\": 0.0010427528675703858, \"Mean_Score\": 0.13311081505626082, \"Percent_of_PosSent\": 0.3333333333333333, \"Close_roll\": 1900.2, \"Price_Change_roll\": 0.006697204743043464, \"Mean_Score_roll\": 0.13311081505626082, \"Percent_of_PosSent_roll\": 0.3333333333333333}, {\"Date\": \"2019-10-25T00:00:00\", \" Open\": 1902.0, \" High\": 1915.0, \" Low\": 1891.0, \" Close\": 1915.0, \" Volume\": 35130, \"Price_Change\": 0.006834910620399579, \"Mean_Score\": 0.13311081505626082, \"Percent_of_PosSent\": 0.3333333333333333, \"Close_roll\": 1908.2, \"Price_Change_roll\": 0.007636608032275704, \"Mean_Score_roll\": 0.13311081505626082, \"Percent_of_PosSent_roll\": 0.3333333333333333}, {\"Date\": \"2019-10-28T00:00:00\", \" Open\": 1901.0, \" High\": 1901.0, \" Low\": 1865.0, \" Close\": 1865.0, \" Volume\": 33450, \"Price_Change\": -0.01893740136770121, \"Mean_Score\": 0.36666664972222296, \"Percent_of_PosSent\": 1.0, \"Close_roll\": 1903.2, \"Price_Change_roll\": 0.0026782922079105556, \"Mean_Score_roll\": 0.17982198198945323, \"Percent_of_PosSent_roll\": 0.4666666666666666}, {\"Date\": \"2019-10-29T00:00:00\", \" Open\": 1865.0, \" High\": 1865.0, \" Low\": 1843.0, \" Close\": 1850.0, \" Volume\": 80240, \"Price_Change\": -0.00804289544235925, \"Mean_Score\": 0.36666664972222296, \"Percent_of_PosSent\": 1.0, \"Close_roll\": 1894.0, \"Price_Change_roll\": 0.0004347924845180703, \"Mean_Score_roll\": 0.22653314892264564, \"Percent_of_PosSent_roll\": 0.6}, {\"Date\": \"2019-10-30T00:00:00\", \" Open\": 1843.0, \" High\": 1850.0, \" Low\": 1835.0, \" Close\": 1835.0, \" Volume\": 38745, \"Price_Change\": -0.004340748779164406, \"Mean_Score\": 0.36666664972222296, \"Percent_of_PosSent\": 1.0, \"Close_roll\": 1877.0, \"Price_Change_roll\": -0.004688676420250981, \"Mean_Score_roll\": 0.2732443158558381, \"Percent_of_PosSent_roll\": 0.7333333333333333}, {\"Date\": \"2019-10-31T00:00:00\", \" Open\": 1844.0, \" High\": 1850.0, \" Low\": 1820.0, \" Close\": 1824.0, \" Volume\": 28230, \"Price_Change\": -0.010845986984815618, \"Mean_Score\": 0.36666664972222296, \"Percent_of_PosSent\": 1.0, \"Close_roll\": 1857.8, \"Price_Change_roll\": -0.007066424390728182, \"Mean_Score_roll\": 0.3199554827890305, \"Percent_of_PosSent_roll\": 0.8666666666666668}, {\"Date\": \"2019-11-04T00:00:00\", \" Open\": 1840.0, \" High\": 1860.0, \" Low\": 1834.0, \" Close\": 1846.0, \" Volume\": 50690, \"Price_Change\": 0.003260869565217391, \"Mean_Score\": 0.36666664972222296, \"Percent_of_PosSent\": 1.0, \"Close_roll\": 1844.0, \"Price_Change_roll\": -0.007781232601764619, \"Mean_Score_roll\": 0.36666664972222296, \"Percent_of_PosSent_roll\": 1.0}, {\"Date\": \"2019-11-05T00:00:00\", \" Open\": 1863.0, \" High\": 1879.0, \" Low\": 1855.0, \" Close\": 1868.0, \" Volume\": 66540, \"Price_Change\": 0.0026838432635534087, \"Mean_Score\": 0.7416666187847254, \"Percent_of_PosSent\": 1.0, \"Close_roll\": 1844.6, \"Price_Change_roll\": -0.003456983675513695, \"Mean_Score_roll\": 0.4416666435347235, \"Percent_of_PosSent_roll\": 1.0}, {\"Date\": \"2019-11-06T00:00:00\", \" Open\": 1880.0, \" High\": 1886.0, \" Low\": 1824.0, \" Close\": 1824.0, \" Volume\": 30380, \"Price_Change\": -0.029787234042553193, \"Mean_Score\": 0.7416666187847254, \"Percent_of_PosSent\": 1.0, \"Close_roll\": 1839.4, \"Price_Change_roll\": -0.007805851395552484, \"Mean_Score_roll\": 0.516666637347224, \"Percent_of_PosSent_roll\": 1.0}, {\"Date\": \"2019-11-07T00:00:00\", \" Open\": 1860.0, \" High\": 1870.0, \" Low\": 1844.0, \" Close\": 1870.0, \" Volume\": 16580, \"Price_Change\": 0.005376344086021506, \"Mean_Score\": 0.8888883456795171, \"Percent_of_PosSent\": 1.0, \"Close_roll\": 1846.4, \"Price_Change_roll\": -0.005862432822515301, \"Mean_Score_roll\": 0.6211109765386827, \"Percent_of_PosSent_roll\": 1.0}, {\"Date\": \"2019-11-08T00:00:00\", \" Open\": 1887.0, \" High\": 1915.0, \" Low\": 1868.0, \" Close\": 1900.0, \" Volume\": 38070, \"Price_Change\": 0.00688924218335983, \"Mean_Score\": 0.9999990000010001, \"Percent_of_PosSent\": 1.0, \"Close_roll\": 1861.6, \"Price_Change_roll\": -0.0023153869888802117, \"Mean_Score_roll\": 0.7477774465944382, \"Percent_of_PosSent_roll\": 1.0}, {\"Date\": \"2019-11-11T00:00:00\", \" Open\": 1905.0, \" High\": 1929.0, \" Low\": 1870.0, \" Close\": 1870.0, \" Volume\": 25445, \"Price_Change\": -0.01837270341207349, \"Mean_Score\": 0.33888885826038423, \"Percent_of_PosSent\": 0.5, \"Close_roll\": 1866.4, \"Price_Change_roll\": -0.006642101584338388, \"Mean_Score_roll\": 0.7422218883020705, \"Percent_of_PosSent_roll\": 0.9}, {\"Date\": \"2019-11-12T00:00:00\", \" Open\": 1918.0, \" High\": 1918.0, \" Low\": 1881.0, \" Close\": 1910.0, \" Volume\": 20060, \"Price_Change\": -0.004171011470281543, \"Mean_Score\": 0.33888885826038423, \"Percent_of_PosSent\": 0.5, \"Close_roll\": 1874.8, \"Price_Change_roll\": -0.008013072531105378, \"Mean_Score_roll\": 0.6616663361972023, \"Percent_of_PosSent_roll\": 0.8}, {\"Date\": \"2019-11-13T00:00:00\", \" Open\": 1908.0, \" High\": 1909.0, \" Low\": 1865.0, \" Close\": 1870.0, \" Volume\": 52990, \"Price_Change\": -0.019916142557651992, \"Mean_Score\": 0.33888885826038423, \"Percent_of_PosSent\": 0.5, \"Close_roll\": 1884.0, \"Price_Change_roll\": -0.006038854234125137, \"Mean_Score_roll\": 0.581110784092334, \"Percent_of_PosSent_roll\": 0.7}, {\"Date\": \"2019-11-14T00:00:00\", \" Open\": 1874.0, \" High\": 1929.0, \" Low\": 1874.0, \" Close\": 1928.0, \" Volume\": 34320, \"Price_Change\": 0.0288153681963714, \"Mean_Score\": 0.8888887422839831, \"Percent_of_PosSent\": 1.0, \"Close_roll\": 1895.6, \"Price_Change_roll\": -0.0013510494120551595, \"Mean_Score_roll\": 0.5811108634132272, \"Percent_of_PosSent_roll\": 0.7}, {\"Date\": \"2019-11-15T00:00:00\", \" Open\": 1935.0, \" High\": 1935.0, \" Low\": 1904.0, \" Close\": 1917.0, \" Volume\": 32380, \"Price_Change\": -0.009302325581395349, \"Mean_Score\": 0.14285713265306196, \"Percent_of_PosSent\": 1.0, \"Close_roll\": 1899.0, \"Price_Change_roll\": -0.004589362965006194, \"Mean_Score_roll\": 0.40968248994363954, \"Percent_of_PosSent_roll\": 0.7}, {\"Date\": \"2019-11-18T00:00:00\", \" Open\": 1917.0, \" High\": 1919.0, \" Low\": 1881.0, \" Close\": 1910.0, \" Volume\": 20495, \"Price_Change\": -0.0036515388628064684, \"Mean_Score\": 0.14285713265306196, \"Percent_of_PosSent\": 1.0, \"Close_roll\": 1907.0, \"Price_Change_roll\": -0.0016451300551527902, \"Mean_Score_roll\": 0.37047614482217506, \"Percent_of_PosSent_roll\": 0.8}, {\"Date\": \"2019-11-19T00:00:00\", \" Open\": 1910.0, \" High\": 1954.0, \" Low\": 1910.0, \" Close\": 1929.0, \" Volume\": 51840, \"Price_Change\": 0.009947643979057591, \"Mean_Score\": 0.8999998766666846, \"Percent_of_PosSent\": 1.0, \"Close_roll\": 1910.8, \"Price_Change_roll\": 0.0011786010347150367, \"Mean_Score_roll\": 0.4826983485034352, \"Percent_of_PosSent_roll\": 0.9}, {\"Date\": \"2019-11-20T00:00:00\", \" Open\": 1900.0, \" High\": 1917.0, \" Low\": 1885.0, \" Close\": 1900.0, \" Volume\": 33345, \"Price_Change\": 0.0, \"Mean_Score\": 0.7999999200000081, \"Percent_of_PosSent\": 1.0, \"Close_roll\": 1916.8, \"Price_Change_roll\": 0.005161829546245435, \"Mean_Score_roll\": 0.5749205608513599, \"Percent_of_PosSent_roll\": 1.0}, {\"Date\": \"2019-11-21T00:00:00\", \" Open\": 1907.0, \" High\": 1948.0, \" Low\": 1901.0, \" Close\": 1937.0, \" Volume\": 97940, \"Price_Change\": 0.015731515469323543, \"Mean_Score\": 0.7999999200000081, \"Percent_of_PosSent\": 1.0, \"Close_roll\": 1918.6, \"Price_Change_roll\": 0.0025450590008358636, \"Mean_Score_roll\": 0.557142796394565, \"Percent_of_PosSent_roll\": 1.0}, {\"Date\": \"2019-11-22T00:00:00\", \" Open\": 1937.0, \" High\": 1950.0, \" Low\": 1910.0, \" Close\": 1942.0, \" Volume\": 44580, \"Price_Change\": 0.002581311306143521, \"Mean_Score\": 0.7999999200000081, \"Percent_of_PosSent\": 1.0, \"Close_roll\": 1923.6, \"Price_Change_roll\": 0.004921786378343637, \"Mean_Score_roll\": 0.6885713538639541, \"Percent_of_PosSent_roll\": 1.0}, {\"Date\": \"2019-11-25T00:00:00\", \" Open\": 1935.0, \" High\": 1945.0, \" Low\": 1905.0, \" Close\": 1945.0, \" Volume\": 28650, \"Price_Change\": 0.00516795865633075, \"Mean_Score\": 0.7999999200000081, \"Percent_of_PosSent\": 1.0, \"Close_roll\": 1930.6, \"Price_Change_roll\": 0.00668568588217108, \"Mean_Score_roll\": 0.8199999113333434, \"Percent_of_PosSent_roll\": 1.0}, {\"Date\": \"2019-11-26T00:00:00\", \" Open\": 1945.0, \" High\": 1950.0, \" Low\": 1900.0, \" Close\": 1950.0, \" Volume\": 100935, \"Price_Change\": 0.002570694087403599, \"Mean_Score\": 0.7999999200000081, \"Percent_of_PosSent\": 1.0, \"Close_roll\": 1934.8, \"Price_Change_roll\": 0.005210295903840282, \"Mean_Score_roll\": 0.7999999200000081, \"Percent_of_PosSent_roll\": 1.0}, {\"Date\": \"2019-11-27T00:00:00\", \" Open\": 1930.0, \" High\": 1947.0, \" Low\": 1894.0, \" Close\": 1894.0, \" Volume\": 37720, \"Price_Change\": -0.01865284974093264, \"Mean_Score\": 0.7999999200000081, \"Percent_of_PosSent\": 1.0, \"Close_roll\": 1933.6, \"Price_Change_roll\": 0.0014797259556537546, \"Mean_Score_roll\": 0.7999999200000081, \"Percent_of_PosSent_roll\": 1.0}, {\"Date\": \"2019-11-28T00:00:00\", \" Open\": 1897.0, \" High\": 1930.0, \" Low\": 1897.0, \" Close\": 1930.0, \" Volume\": 23630, \"Price_Change\": 0.01739588824459673, \"Mean_Score\": 0.14285713265306196, \"Percent_of_PosSent\": 1.0, \"Close_roll\": 1932.2, \"Price_Change_roll\": 0.001812600510708392, \"Mean_Score_roll\": 0.6685713625306189, \"Percent_of_PosSent_roll\": 1.0}, {\"Date\": \"2019-11-29T00:00:00\", \" Open\": 1900.0, \" High\": 1940.0, \" Low\": 1900.0, \" Close\": 1940.0, \" Volume\": 39520, \"Price_Change\": 0.021052631578947368, \"Mean_Score\": 0.14285713265306196, \"Percent_of_PosSent\": 1.0, \"Close_roll\": 1931.8, \"Price_Change_roll\": 0.005506864565269161, \"Mean_Score_roll\": 0.5371428050612296, \"Percent_of_PosSent_roll\": 1.0}, {\"Date\": \"2019-12-02T00:00:00\", \" Open\": 1944.0, \" High\": 1980.0, \" Low\": 1933.0, \" Close\": 1980.0, \" Volume\": 60055, \"Price_Change\": 0.018518518518518517, \"Mean_Score\": -0.16666665277777895, \"Percent_of_PosSent\": 0.0, \"Close_roll\": 1938.8, \"Price_Change_roll\": 0.008176976537706715, \"Mean_Score_roll\": 0.3438094905056722, \"Percent_of_PosSent_roll\": 0.8}, {\"Date\": \"2019-12-03T00:00:00\", \" Open\": 1979.0, \" High\": 1980.0, \" Low\": 1931.0, \" Close\": 1980.0, \" Volume\": 38385, \"Price_Change\": 0.0005053057099545225, \"Mean_Score\": -0.16666665277777895, \"Percent_of_PosSent\": 0.0, \"Close_roll\": 1944.8, \"Price_Change_roll\": 0.0077638988622168986, \"Mean_Score_roll\": 0.1504761759501148, \"Percent_of_PosSent_roll\": 0.6}, {\"Date\": \"2019-12-04T00:00:00\", \" Open\": 1980.0, \" High\": 1980.0, \" Low\": 1934.0, \" Close\": 1934.0, \" Volume\": 29915, \"Price_Change\": -0.023232323232323233, \"Mean_Score\": -0.16666665277777895, \"Percent_of_PosSent\": 0.0, \"Close_roll\": 1952.8, \"Price_Change_roll\": 0.006848004163938781, \"Mean_Score_roll\": -0.04285713860544259, \"Percent_of_PosSent_roll\": 0.4}, {\"Date\": \"2019-12-05T00:00:00\", \" Open\": 1935.0, \" High\": 1970.0, \" Low\": 1935.0, \" Close\": 1935.0, \" Volume\": 23210, \"Price_Change\": 0.0, \"Mean_Score\": -0.16666665277777895, \"Percent_of_PosSent\": 0.0, \"Close_roll\": 1953.8, \"Price_Change_roll\": 0.003368826515019436, \"Mean_Score_roll\": -0.10476189569161076, \"Percent_of_PosSent_roll\": 0.2}, {\"Date\": \"2019-12-06T00:00:00\", \" Open\": 1934.0, \" High\": 1950.0, \" Low\": 1934.0, \" Close\": 1944.0, \" Volume\": 9400, \"Price_Change\": 0.005170630816959669, \"Mean_Score\": -0.16666665277777895, \"Percent_of_PosSent\": 0.0, \"Close_roll\": 1954.6, \"Price_Change_roll\": 0.0001924263626218961, \"Mean_Score_roll\": -0.16666665277777898, \"Percent_of_PosSent_roll\": 0.0}, {\"Date\": \"2019-12-09T00:00:00\", \" Open\": 1944.0, \" High\": 1944.0, \" Low\": 1934.0, \" Close\": 1937.0, \" Volume\": 7135, \"Price_Change\": -0.00360082304526749, \"Mean_Score\": 0.7499996439396738, \"Percent_of_PosSent\": 0.75, \"Close_roll\": 1946.0, \"Price_Change_roll\": -0.004231441950135305, \"Mean_Score_roll\": 0.016666606565711596, \"Percent_of_PosSent_roll\": 0.15}, {\"Date\": \"2019-12-10T00:00:00\", \" Open\": 1931.0, \" High\": 1946.0, \" Low\": 1930.0, \" Close\": 1930.0, \" Volume\": 12185, \"Price_Change\": -0.0005178663904712584, \"Mean_Score\": 0.7499996439396738, \"Percent_of_PosSent\": 0.75, \"Close_roll\": 1936.0, \"Price_Change_roll\": -0.004436076370220462, \"Mean_Score_roll\": 0.19999986590920216, \"Percent_of_PosSent_roll\": 0.3}, {\"Date\": \"2019-12-11T00:00:00\", \" Open\": 1936.0, \" High\": 1980.0, \" Low\": 1933.0, \" Close\": 1980.0, \" Volume\": 27260, \"Price_Change\": 0.022727272727272728, \"Mean_Score\": 0.7499996439396738, \"Percent_of_PosSent\": 0.75, \"Close_roll\": 1945.2, \"Price_Change_roll\": 0.0047558428216987305, \"Mean_Score_roll\": 0.3833331252526927, \"Percent_of_PosSent_roll\": 0.45}, {\"Date\": \"2019-12-12T00:00:00\", \" Open\": 1940.0, \" High\": 1965.0, \" Low\": 1934.0, \" Close\": 1934.0, \" Volume\": 60305, \"Price_Change\": -0.003092783505154639, \"Mean_Score\": 0.7499996439396738, \"Percent_of_PosSent\": 0.75, \"Close_roll\": 1945.0, \"Price_Change_roll\": 0.004137286120667803, \"Mean_Score_roll\": 0.5666663845961832, \"Percent_of_PosSent_roll\": 0.6}, {\"Date\": \"2019-12-13T00:00:00\", \" Open\": 1978.0, \" High\": 1980.0, \" Low\": 1940.0, \" Close\": 1978.0, \" Volume\": 38855, \"Price_Change\": 0.0, \"Mean_Score\": 0.7499996439396738, \"Percent_of_PosSent\": 0.75, \"Close_roll\": 1951.8, \"Price_Change_roll\": 0.0031031599572758687, \"Mean_Score_roll\": 0.7499996439396738, \"Percent_of_PosSent_roll\": 0.75}, {\"Date\": \"2019-12-16T00:00:00\", \" Open\": 1978.0, \" High\": 1978.0, \" Low\": 1935.0, \" Close\": 1935.0, \" Volume\": 21660, \"Price_Change\": -0.021739130434782608, \"Mean_Score\": 0.7499996439396738, \"Percent_of_PosSent\": 0.75, \"Close_roll\": 1951.4, \"Price_Change_roll\": -0.0005245015206271547, \"Mean_Score_roll\": 0.7499996439396739, \"Percent_of_PosSent_roll\": 0.75}, {\"Date\": \"2019-12-17T00:00:00\", \" Open\": 1935.0, \" High\": 1980.0, \" Low\": 1935.0, \" Close\": 1980.0, \" Volume\": 30800, \"Price_Change\": 0.023255813953488372, \"Mean_Score\": 0.7499996439396738, \"Percent_of_PosSent\": 0.75, \"Close_roll\": 1961.4, \"Price_Change_roll\": 0.004230234548164772, \"Mean_Score_roll\": 0.7499996439396738, \"Percent_of_PosSent_roll\": 0.75}, {\"Date\": \"2019-12-18T00:00:00\", \" Open\": 1980.0, \" High\": 2042.0, \" Low\": 1945.0, \" Close\": 2042.0, \" Volume\": 80120, \"Price_Change\": 0.031313131313131314, \"Mean_Score\": 0.49999987500003124, \"Percent_of_PosSent\": 1.0, \"Close_roll\": 1973.8, \"Price_Change_roll\": 0.005947406265336489, \"Mean_Score_roll\": 0.6999996901517453, \"Percent_of_PosSent_roll\": 0.8}, {\"Date\": \"2019-12-19T00:00:00\", \" Open\": 2000.0, \" High\": 2038.0, \" Low\": 1975.0, \" Close\": 2000.0, \" Volume\": 29920, \"Price_Change\": 0.0, \"Mean_Score\": 0.49999987500003124, \"Percent_of_PosSent\": 1.0, \"Close_roll\": 1987.0, \"Price_Change_roll\": 0.0065659629663674165, \"Mean_Score_roll\": 0.6499997363638167, \"Percent_of_PosSent_roll\": 0.85}, {\"Date\": \"2019-12-20T00:00:00\", \" Open\": 2040.0, \" High\": 2044.0, \" Low\": 2000.0, \" Close\": 2016.0, \" Volume\": 172845, \"Price_Change\": -0.011764705882352941, \"Mean_Score\": 0.49999987500003124, \"Percent_of_PosSent\": 1.0, \"Close_roll\": 1994.6, \"Price_Change_roll\": 0.0042130217898968285, \"Mean_Score_roll\": 0.5999997825758883, \"Percent_of_PosSent_roll\": 0.9}, {\"Date\": \"2019-12-23T00:00:00\", \" Open\": 2012.0, \" High\": 2030.0, \" Low\": 1996.0, \" Close\": 2012.0, \" Volume\": 31625, \"Price_Change\": 0.0, \"Mean_Score\": 0.49999987500003124, \"Percent_of_PosSent\": 1.0, \"Close_roll\": 2010.0, \"Price_Change_roll\": 0.00856084787685335, \"Mean_Score_roll\": 0.5499998287879598, \"Percent_of_PosSent_roll\": 0.95}, {\"Date\": \"2019-12-26T00:00:00\", \" Open\": 2016.0, \" High\": 2016.0, \" Low\": 1986.0, \" Close\": 1997.0, \" Volume\": 12270, \"Price_Change\": -0.009424603174603174, \"Mean_Score\": 0.49999987500003124, \"Percent_of_PosSent\": 1.0, \"Close_roll\": 2013.4, \"Price_Change_roll\": 0.0020247644512350403, \"Mean_Score_roll\": 0.49999987500003124, \"Percent_of_PosSent_roll\": 1.0}, {\"Date\": \"2019-12-27T00:00:00\", \" Open\": 1998.0, \" High\": 2030.0, \" Low\": 1998.0, \" Close\": 2020.0, \" Volume\": 35090, \"Price_Change\": 0.011011011011011011, \"Mean_Score\": 0.49999987500003124, \"Percent_of_PosSent\": 1.0, \"Close_roll\": 2009.0, \"Price_Change_roll\": -0.00203565960918902, \"Mean_Score_roll\": 0.49999987500003124, \"Percent_of_PosSent_roll\": 1.0}, {\"Date\": \"2020-01-02T00:00:00\", \" Open\": 2000.0, \" High\": 2048.0, \" Low\": 1990.0, \" Close\": 2048.0, \" Volume\": 18055, \"Price_Change\": 0.024, \"Mean_Score\": 0.49999987500003124, \"Percent_of_PosSent\": 1.0, \"Close_roll\": 2018.6, \"Price_Change_roll\": 0.0027643403908109805, \"Mean_Score_roll\": 0.49999987500003124, \"Percent_of_PosSent_roll\": 1.0}, {\"Date\": \"2020-01-03T00:00:00\", \" Open\": 2026.0, \" High\": 2030.0, \" Low\": 2002.0, \" Close\": 2020.0, \" Volume\": 30520, \"Price_Change\": -0.0029615004935834156, \"Mean_Score\": 0.49999987500003124, \"Percent_of_PosSent\": 1.0, \"Close_roll\": 2019.4, \"Price_Change_roll\": 0.004524981468564886, \"Mean_Score_roll\": 0.49999987500003124, \"Percent_of_PosSent_roll\": 1.0}, {\"Date\": \"2020-01-06T00:00:00\", \" Open\": 2004.0, \" High\": 2044.0, \" Low\": 1996.0, \" Close\": 2034.0, \" Volume\": 9630, \"Price_Change\": 0.014970059880239521, \"Mean_Score\": -0.7499999062500118, \"Percent_of_PosSent\": 0.0, \"Close_roll\": 2023.8, \"Price_Change_roll\": 0.00751899344461279, \"Mean_Score_roll\": 0.24999991875002267, \"Percent_of_PosSent_roll\": 0.8}, {\"Date\": \"2020-01-07T00:00:00\", \" Open\": 2026.0, \" High\": 2034.0, \" Low\": 2008.0, \" Close\": 2008.0, \" Volume\": 40395, \"Price_Change\": -0.008884501480750246, \"Mean_Score\": -0.7499999062500118, \"Percent_of_PosSent\": 0.0, \"Close_roll\": 2026.0, \"Price_Change_roll\": 0.007627013783383374, \"Mean_Score_roll\": -3.749998593871595e-08, \"Percent_of_PosSent_roll\": 0.6}, {\"Date\": \"2020-01-08T00:00:00\", \" Open\": 2010.0, \" High\": 2024.0, \" Low\": 2002.0, \" Close\": 2020.0, \" Volume\": 30980, \"Price_Change\": 0.004975124378109453, \"Mean_Score\": -0.7499999062500118, \"Percent_of_PosSent\": 0.0, \"Close_roll\": 2026.0, \"Price_Change_roll\": 0.006419836456803063, \"Mean_Score_roll\": -0.24999999374999454, \"Percent_of_PosSent_roll\": 0.4}, {\"Date\": \"2020-01-09T00:00:00\", \" Open\": 2010.0, \" High\": 2032.0, \" Low\": 2004.0, \" Close\": 2030.0, \" Volume\": 37870, \"Price_Change\": 0.009950248756218905, \"Mean_Score\": -0.7499999062500118, \"Percent_of_PosSent\": 0.0, \"Close_roll\": 2022.4, \"Price_Change_roll\": 0.0036098862080468446, \"Mean_Score_roll\": -0.49999995000000313, \"Percent_of_PosSent_roll\": 0.2}, {\"Date\": \"2020-01-10T00:00:00\", \" Open\": 2030.0, \" High\": 2030.0, \" Low\": 1980.0, \" Close\": 1980.0, \" Volume\": 119775, \"Price_Change\": -0.024630541871921183, \"Mean_Score\": -0.7499999062500118, \"Percent_of_PosSent\": 0.0, \"Close_roll\": 2014.4, \"Price_Change_roll\": -0.0007239220676207088, \"Mean_Score_roll\": -0.7499999062500118, \"Percent_of_PosSent_roll\": 0.0}, {\"Date\": \"2020-01-14T00:00:00\", \" Open\": 1980.0, \" High\": 2048.0, \" Low\": 1978.0, \" Close\": 2042.0, \" Volume\": 85795, \"Price_Change\": 0.031313131313131314, \"Mean_Score\": -0.7499999062500118, \"Percent_of_PosSent\": 0.0, \"Close_roll\": 2016.0, \"Price_Change_roll\": 0.0025446922189576496, \"Mean_Score_roll\": -0.7499999062500118, \"Percent_of_PosSent_roll\": 0.0}, {\"Date\": \"2020-01-15T00:00:00\", \" Open\": 1996.0, \" High\": 2066.0, \" Low\": 1996.0, \" Close\": 2062.0, \" Volume\": 93230, \"Price_Change\": 0.033066132264529056, \"Mean_Score\": -0.7499999062500118, \"Percent_of_PosSent\": 0.0, \"Close_roll\": 2026.8, \"Price_Change_roll\": 0.01093481896801351, \"Mean_Score_roll\": -0.7499999062500118, \"Percent_of_PosSent_roll\": 0.0}, {\"Date\": \"2020-01-16T00:00:00\", \" Open\": 2062.0, \" High\": 2062.0, \" Low\": 2004.0, \" Close\": 2044.0, \" Volume\": 54105, \"Price_Change\": -0.008729388942774006, \"Mean_Score\": -0.7499999062500118, \"Percent_of_PosSent\": 0.0, \"Close_roll\": 2031.6, \"Price_Change_roll\": 0.008193916303836818, \"Mean_Score_roll\": -0.7499999062500118, \"Percent_of_PosSent_roll\": 0.0}, {\"Date\": \"2020-01-17T00:00:00\", \" Open\": 2050.0, \" High\": 2098.0, \" Low\": 2036.0, \" Close\": 2098.0, \" Volume\": 29495, \"Price_Change\": 0.023414634146341463, \"Mean_Score\": 0.0, \"Percent_of_PosSent\": 0.0, \"Close_roll\": 2045.2, \"Price_Change_roll\": 0.01088679338186133, \"Mean_Score_roll\": -0.5999999250000094, \"Percent_of_PosSent_roll\": 0.0}, {\"Date\": \"2020-01-20T00:00:00\", \" Open\": 2084.0, \" High\": 2084.0, \" Low\": 2042.0, \" Close\": 2046.0, \" Volume\": 61615, \"Price_Change\": -0.018234165067178502, \"Mean_Score\": 0.0, \"Percent_of_PosSent\": 0.0, \"Close_roll\": 2058.4, \"Price_Change_roll\": 0.012166068742809868, \"Mean_Score_roll\": -0.44999994375000707, \"Percent_of_PosSent_roll\": 0.0}, {\"Date\": \"2020-01-21T00:00:00\", \" Open\": 2046.0, \" High\": 2046.0, \" Low\": 2026.0, \" Close\": 2036.0, \" Volume\": 33275, \"Price_Change\": -0.004887585532746823, \"Mean_Score\": 0.0, \"Percent_of_PosSent\": 0.0, \"Close_roll\": 2057.2, \"Price_Change_roll\": 0.004925925373634238, \"Mean_Score_roll\": -0.2999999625000047, \"Percent_of_PosSent_roll\": 0.0}, {\"Date\": \"2020-01-22T00:00:00\", \" Open\": 2008.0, \" High\": 2056.0, \" Low\": 1973.0, \" Close\": 1973.0, \" Volume\": 94275, \"Price_Change\": -0.01743027888446215, \"Mean_Score\": 0.0, \"Percent_of_PosSent\": 0.0, \"Close_roll\": 2039.4, \"Price_Change_roll\": -0.005173356856164003, \"Mean_Score_roll\": -0.14999998125000233, \"Percent_of_PosSent_roll\": 0.0}, {\"Date\": \"2020-01-23T00:00:00\", \" Open\": 1980.0, \" High\": 2028.0, \" Low\": 1972.0, \" Close\": 2004.0, \" Volume\": 30270, \"Price_Change\": 0.012121212121212121, \"Mean_Score\": 0.0, \"Percent_of_PosSent\": 0.0, \"Close_roll\": 2031.4, \"Price_Change_roll\": -0.0010032366433667772, \"Mean_Score_roll\": 2.2204460492503132e-17, \"Percent_of_PosSent_roll\": 0.0}, {\"Date\": \"2020-01-24T00:00:00\", \" Open\": 2004.0, \" High\": 2048.0, \" Low\": 1990.0, \" Close\": 2004.0, \" Volume\": 17235, \"Price_Change\": 0.0, \"Mean_Score\": 0.9999998750000157, \"Percent_of_PosSent\": 1.0, \"Close_roll\": 2012.6, \"Price_Change_roll\": -0.005686163472635069, \"Mean_Score_roll\": 0.19999997500000316, \"Percent_of_PosSent_roll\": 0.2}, {\"Date\": \"2020-01-27T00:00:00\", \" Open\": 2004.0, \" High\": 2020.0, \" Low\": 1995.0, \" Close\": 2002.0, \" Volume\": 3210, \"Price_Change\": -0.000998003992015968, \"Mean_Score\": 0.9999998750000157, \"Percent_of_PosSent\": 1.0, \"Close_roll\": 2003.8, \"Price_Change_roll\": -0.002238931257602563, \"Mean_Score_roll\": 0.3999999500000063, \"Percent_of_PosSent_roll\": 0.4}, {\"Date\": \"2020-01-28T00:00:00\", \" Open\": 2000.0, \" High\": 2008.0, \" Low\": 1962.0, \" Close\": 1962.0, \" Volume\": 17075, \"Price_Change\": -0.019, \"Mean_Score\": 0.9999998750000157, \"Percent_of_PosSent\": 1.0, \"Close_roll\": 1989.0, \"Price_Change_roll\": -0.005061414151053198, \"Mean_Score_roll\": 0.5999999250000094, \"Percent_of_PosSent_roll\": 0.6}, {\"Date\": \"2020-01-29T00:00:00\", \" Open\": 1962.0, \" High\": 1998.0, \" Low\": 1960.0, \" Close\": 1970.0, \" Volume\": 14600, \"Price_Change\": 0.004077471967380225, \"Mean_Score\": 0.9999998750000157, \"Percent_of_PosSent\": 1.0, \"Close_roll\": 1988.4, \"Price_Change_roll\": -0.000759863980684723, \"Mean_Score_roll\": 0.7999999000000126, \"Percent_of_PosSent_roll\": 0.8}, {\"Date\": \"2020-01-30T00:00:00\", \" Open\": 1971.0, \" High\": 1996.0, \" Low\": 1960.0, \" Close\": 1960.0, \" Volume\": 14095, \"Price_Change\": -0.005580923389142567, \"Mean_Score\": 0.9999998750000157, \"Percent_of_PosSent\": 1.0, \"Close_roll\": 1979.6, \"Price_Change_roll\": -0.00430029108275566, \"Mean_Score_roll\": 0.9999998750000157, \"Percent_of_PosSent_roll\": 1.0}, {\"Date\": \"2020-01-31T00:00:00\", \" Open\": 1961.0, \" High\": 1995.0, \" Low\": 1890.0, \" Close\": 1890.0, \" Volume\": 53990, \"Price_Change\": -0.03620601733809281, \"Mean_Score\": 0.9999998750000157, \"Percent_of_PosSent\": 1.0, \"Close_roll\": 1956.8, \"Price_Change_roll\": -0.011541494550374223, \"Mean_Score_roll\": 0.9999998750000157, \"Percent_of_PosSent_roll\": 1.0}, {\"Date\": \"2020-02-03T00:00:00\", \" Open\": 1890.0, \" High\": 1900.0, \" Low\": 1862.0, \" Close\": 1900.0, \" Volume\": 20205, \"Price_Change\": 0.005291005291005291, \"Mean_Score\": 0.3461538184582534, \"Percent_of_PosSent\": 0.6666666666666666, \"Close_roll\": 1936.4, \"Price_Change_roll\": -0.010283692693769973, \"Mean_Score_roll\": 0.8692306636916634, \"Percent_of_PosSent_roll\": 0.9333333333333333}, {\"Date\": \"2020-02-04T00:00:00\", \" Open\": 1920.0, \" High\": 1980.0, \" Low\": 1893.0, \" Close\": 1930.0, \" Volume\": 53740, \"Price_Change\": 0.005208333333333333, \"Mean_Score\": 0.3461538184582534, \"Percent_of_PosSent\": 0.6666666666666666, \"Close_roll\": 1930.0, \"Price_Change_roll\": -0.005442026027103305, \"Mean_Score_roll\": 0.7384614523833108, \"Percent_of_PosSent_roll\": 0.8666666666666666}, {\"Date\": \"2020-02-05T00:00:00\", \" Open\": 1960.0, \" High\": 1974.0, \" Low\": 1955.0, \" Close\": 1962.0, \" Volume\": 16320, \"Price_Change\": 0.0010204081632653062, \"Mean_Score\": 0.24999996875000394, \"Percent_of_PosSent\": 1.0, \"Close_roll\": 1928.4, \"Price_Change_roll\": -0.006053438787926289, \"Mean_Score_roll\": 0.5884614711333085, \"Percent_of_PosSent_roll\": 0.8666666666666666}, {\"Date\": \"2020-02-06T00:00:00\", \" Open\": 1963.0, \" High\": 1998.0, \" Low\": 1962.0, \" Close\": 1990.0, \" Volume\": 21935, \"Price_Change\": 0.013754457463066735, \"Mean_Score\": 0.0, \"Percent_of_PosSent\": 0.0, \"Close_roll\": 1934.4, \"Price_Change_roll\": -0.0021863626174844276, \"Mean_Score_roll\": 0.3884614961333053, \"Percent_of_PosSent_roll\": 0.6666666666666666}, {\"Date\": \"2020-02-07T00:00:00\", \" Open\": 1990.0, \" High\": 2008.0, \" Low\": 1970.0, \" Close\": 1980.0, \" Volume\": 30785, \"Price_Change\": -0.005025125628140704, \"Mean_Score\": 0.0, \"Percent_of_PosSent\": 0.0, \"Close_roll\": 1952.4, \"Price_Change_roll\": 0.004049815724505993, \"Mean_Score_roll\": 0.18846152113330217, \"Percent_of_PosSent_roll\": 0.4666666666666666}, {\"Date\": \"2020-02-10T00:00:00\", \" Open\": 1980.0, \" High\": 1999.0, \" Low\": 1970.0, \" Close\": 1986.0, \" Volume\": 24800, \"Price_Change\": 0.0030303030303030303, \"Mean_Score\": 0.33333322222225925, \"Percent_of_PosSent\": 1.0, \"Close_roll\": 1969.6, \"Price_Change_roll\": 0.0035976752723655423, \"Mean_Score_roll\": 0.18589740188610332, \"Percent_of_PosSent_roll\": 0.5333333333333334}, {\"Date\": \"2020-02-11T00:00:00\", \" Open\": 1993.0, \" High\": 2006.0, \" Low\": 1986.0, \" Close\": 2006.0, \" Volume\": 21230, \"Price_Change\": 0.006522829904666332, \"Mean_Score\": 0.33333322222225925, \"Percent_of_PosSent\": 1.0, \"Close_roll\": 1984.8, \"Price_Change_roll\": 0.0038605745866321416, \"Mean_Score_roll\": 0.18333328263890453, \"Percent_of_PosSent_roll\": 0.6}, {\"Date\": \"2020-02-12T00:00:00\", \" Open\": 1999.0, \" High\": 2000.0, \" Low\": 1965.0, \" Close\": 2000.0, \" Volume\": 42775, \"Price_Change\": 0.0005002501250625312, \"Mean_Score\": 0.9999998333333611, \"Percent_of_PosSent\": 1.0, \"Close_roll\": 1992.4, \"Price_Change_roll\": 0.0037565429789915864, \"Mean_Score_roll\": 0.3333332555555759, \"Percent_of_PosSent_roll\": 0.6}, {\"Date\": \"2020-02-13T00:00:00\", \" Open\": 2008.0, \" High\": 2008.0, \" Low\": 1990.0, \" Close\": 1996.0, \" Volume\": 15630, \"Price_Change\": -0.00597609561752988, \"Mean_Score\": 0.9999998333333611, \"Percent_of_PosSent\": 1.0, \"Close_roll\": 1993.6, \"Price_Change_roll\": -0.00018956763712773671, \"Mean_Score_roll\": 0.5333332222222482, \"Percent_of_PosSent_roll\": 0.8}, {\"Date\": \"2020-02-14T00:00:00\", \" Open\": 2006.0, \" High\": 2006.0, \" Low\": 1944.0, \" Close\": 1944.0, \" Volume\": 32555, \"Price_Change\": -0.03090727816550349, \"Mean_Score\": 0.9999998333333611, \"Percent_of_PosSent\": 1.0, \"Close_roll\": 1986.4, \"Price_Change_roll\": -0.005365998144600294, \"Mean_Score_roll\": 0.7333331888889203, \"Percent_of_PosSent_roll\": 1.0}, {\"Date\": \"2020-02-17T00:00:00\", \" Open\": 1948.0, \" High\": 1968.0, \" Low\": 1936.0, \" Close\": 1936.0, \" Volume\": 9560, \"Price_Change\": -0.006160164271047228, \"Mean_Score\": 0.9999998333333611, \"Percent_of_PosSent\": 1.0, \"Close_roll\": 1976.4, \"Price_Change_roll\": -0.007204091604870346, \"Mean_Score_roll\": 0.8666665111111407, \"Percent_of_PosSent_roll\": 1.0}, {\"Date\": \"2020-02-18T00:00:00\", \" Open\": 1964.0, \" High\": 1964.0, \" Low\": 1936.0, \" Close\": 1937.0, \" Volume\": 33050, \"Price_Change\": -0.01374745417515275, \"Mean_Score\": 0.0, \"Percent_of_PosSent\": 0.0, \"Close_roll\": 1962.6, \"Price_Change_roll\": -0.011258148420834163, \"Mean_Score_roll\": 0.799999866666689, \"Percent_of_PosSent_roll\": 0.8}, {\"Date\": \"2020-02-19T00:00:00\", \" Open\": 1935.0, \" High\": 1949.0, \" Low\": 1918.0, \" Close\": 1919.0, \" Volume\": 30440, \"Price_Change\": -0.008268733850129198, \"Mean_Score\": 0.0, \"Percent_of_PosSent\": 0.0, \"Close_roll\": 1946.4, \"Price_Change_roll\": -0.013011945215872508, \"Mean_Score_roll\": 0.5999999000000167, \"Percent_of_PosSent_roll\": 0.6}, {\"Date\": \"2020-02-20T00:00:00\", \" Open\": 1919.0, \" High\": 1925.0, \" Low\": 1895.0, \" Close\": 1895.0, \" Volume\": 32910, \"Price_Change\": -0.012506513809275664, \"Mean_Score\": 0.0, \"Percent_of_PosSent\": 0.0, \"Close_roll\": 1926.2, \"Price_Change_roll\": -0.014318028854221666, \"Mean_Score_roll\": 0.39999993333334444, \"Percent_of_PosSent_roll\": 0.39999999999999997}, {\"Date\": \"2020-02-21T00:00:00\", \" Open\": 1896.0, \" High\": 1929.0, \" Low\": 1889.0, \" Close\": 1889.0, \" Volume\": 51895, \"Price_Change\": -0.003691983122362869, \"Mean_Score\": 0.0, \"Percent_of_PosSent\": 0.0, \"Close_roll\": 1915.2, \"Price_Change_roll\": -0.00887496984559354, \"Mean_Score_roll\": 0.19999996666667225, \"Percent_of_PosSent_roll\": 0.2}, {\"Date\": \"2020-02-24T00:00:00\", \" Open\": 1885.0, \" High\": 1917.0, \" Low\": 1880.0, \" Close\": 1881.0, \" Volume\": 44595, \"Price_Change\": -0.002122015915119363, \"Mean_Score\": 0.0, \"Percent_of_PosSent\": 0.0, \"Close_roll\": 1904.2, \"Price_Change_roll\": -0.008067340174407968, \"Mean_Score_roll\": 2.2204460492503132e-17, \"Percent_of_PosSent_roll\": 0.0}, {\"Date\": \"2020-02-26T00:00:00\", \" Open\": 1864.0, \" High\": 1914.0, \" Low\": 1809.0, \" Close\": 1826.0, \" Volume\": 116015, \"Price_Change\": -0.0203862660944206, \"Mean_Score\": 0.0, \"Percent_of_PosSent\": 0.0, \"Close_roll\": 1882.0, \"Price_Change_roll\": -0.009395102558261537, \"Mean_Score_roll\": 2.2204460492503132e-17, \"Percent_of_PosSent_roll\": 0.0}, {\"Date\": \"2020-02-27T00:00:00\", \" Open\": 1826.0, \" High\": 1863.0, \" Low\": 1812.0, \" Close\": 1830.0, \" Volume\": 42560, \"Price_Change\": 0.002190580503833516, \"Mean_Score\": 0.33333322222225925, \"Percent_of_PosSent\": 1.0, \"Close_roll\": 1864.2, \"Price_Change_roll\": -0.0073032396874689945, \"Mean_Score_roll\": 0.06666664444445188, \"Percent_of_PosSent_roll\": 0.2}, {\"Date\": \"2020-02-28T00:00:00\", \" Open\": 1829.0, \" High\": 1829.0, \" Low\": 1779.0, \" Close\": 1779.0, \" Volume\": 89350, \"Price_Change\": -0.02733734281027884, \"Mean_Score\": 0.33333322222225925, \"Percent_of_PosSent\": 1.0, \"Close_roll\": 1841.0, \"Price_Change_roll\": -0.010269405487669631, \"Mean_Score_roll\": 0.13333328888890372, \"Percent_of_PosSent_roll\": 0.4}, {\"Date\": \"2020-03-02T00:00:00\", \" Open\": 1780.0, \" High\": 1829.0, \" Low\": 1742.0, \" Close\": 1800.0, \" Volume\": 83045, \"Price_Change\": 0.011235955056179775, \"Mean_Score\": 0.33333322222225925, \"Percent_of_PosSent\": 1.0, \"Close_roll\": 1823.2, \"Price_Change_roll\": -0.007283817851961101, \"Mean_Score_roll\": 0.19999993333335558, \"Percent_of_PosSent_roll\": 0.6}, {\"Date\": \"2020-03-03T00:00:00\", \" Open\": 1878.0, \" High\": 1878.0, \" Low\": 1817.0, \" Close\": 1830.0, \" Volume\": 46110, \"Price_Change\": -0.025559105431309903, \"Mean_Score\": 0.16666665277777895, \"Percent_of_PosSent\": 1.0, \"Close_roll\": 1813.0, \"Price_Change_roll\": -0.011971235755199209, \"Mean_Score_roll\": 0.23333326388891135, \"Percent_of_PosSent_roll\": 0.8}, {\"Date\": \"2020-03-04T00:00:00\", \" Open\": 1830.0, \" High\": 1854.0, \" Low\": 1817.0, \" Close\": 1850.0, \" Volume\": 42950, \"Price_Change\": 0.01092896174863388, \"Mean_Score\": 0.16666665277777895, \"Percent_of_PosSent\": 1.0, \"Close_roll\": 1817.8, \"Price_Change_roll\": -0.0057081901865883135, \"Mean_Score_roll\": 0.26666659444446716, \"Percent_of_PosSent_roll\": 1.0}, {\"Date\": \"2020-03-05T00:00:00\", \" Open\": 1850.0, \" High\": 1889.0, \" Low\": 1841.0, \" Close\": 1841.0, \" Volume\": 45250, \"Price_Change\": -0.004864864864864865, \"Mean_Score\": 0.16666665277777895, \"Percent_of_PosSent\": 1.0, \"Close_roll\": 1820.0, \"Price_Change_roll\": -0.00711927926032799, \"Mean_Score_roll\": 0.2333332805555711, \"Percent_of_PosSent_roll\": 1.0}, {\"Date\": \"2020-03-06T00:00:00\", \" Open\": 1825.0, \" High\": 1841.0, \" Low\": 1819.0, \" Close\": 1831.0, \" Volume\": 26235, \"Price_Change\": 0.0032876712328767125, \"Mean_Score\": -0.599999880000024, \"Percent_of_PosSent\": 0.0, \"Close_roll\": 1830.4, \"Price_Change_roll\": -0.0009942764516968788, \"Mean_Score_roll\": 0.04666666011111444, \"Percent_of_PosSent_roll\": 0.8}, {\"Date\": \"2020-03-09T00:00:00\", \" Open\": 1818.0, \" High\": 1821.0, \" Low\": 1750.0, \" Close\": 1750.0, \" Volume\": 27545, \"Price_Change\": -0.0374037403740374, \"Mean_Score\": -0.599999880000024, \"Percent_of_PosSent\": 0.0, \"Close_roll\": 1820.4, \"Price_Change_roll\": -0.010722215537740314, \"Mean_Score_roll\": -0.13999996033334222, \"Percent_of_PosSent_roll\": 0.6}, {\"Date\": \"2020-03-10T00:00:00\", \" Open\": 1751.0, \" High\": 1751.0, \" Low\": 1702.0, \" Close\": 1732.0, \" Volume\": 59705, \"Price_Change\": -0.010850942318675044, \"Mean_Score\": -0.599999880000024, \"Percent_of_PosSent\": 0.0, \"Close_roll\": 1800.8, \"Price_Change_roll\": -0.007780582915213344, \"Mean_Score_roll\": -0.29333326688890277, \"Percent_of_PosSent_roll\": 0.4}, {\"Date\": \"2020-03-11T00:00:00\", \" Open\": 1736.0, \" High\": 1783.0, \" Low\": 1736.0, \" Close\": 1750.0, \" Volume\": 28470, \"Price_Change\": 0.008064516129032258, \"Mean_Score\": -0.599999880000024, \"Percent_of_PosSent\": 0.0, \"Close_roll\": 1780.8, \"Price_Change_roll\": -0.008353472039133666, \"Mean_Score_roll\": -0.44666657344446337, \"Percent_of_PosSent_roll\": 0.2}, {\"Date\": \"2020-03-12T00:00:00\", \" Open\": 1750.0, \" High\": 1779.0, \" Low\": 1702.0, \" Close\": 1739.0, \" Volume\": 115820, \"Price_Change\": -0.006285714285714286, \"Mean_Score\": -0.599999880000024, \"Percent_of_PosSent\": 0.0, \"Close_roll\": 1760.4, \"Price_Change_roll\": -0.008637641923303551, \"Mean_Score_roll\": -0.599999880000024, \"Percent_of_PosSent_roll\": 0.0}, {\"Date\": \"2020-03-13T00:00:00\", \" Open\": 1690.0, \" High\": 1853.0, \" Low\": 1590.0, \" Close\": 1830.0, \" Volume\": 158395, \"Price_Change\": 0.08284023668639054, \"Mean_Score\": -0.599999880000024, \"Percent_of_PosSent\": 0.0, \"Close_roll\": 1760.2, \"Price_Change_roll\": 0.0072728711673992145, \"Mean_Score_roll\": -0.599999880000024, \"Percent_of_PosSent_roll\": 0.0}, {\"Date\": \"2020-03-16T00:00:00\", \" Open\": 1792.0, \" High\": 1920.0, \" Low\": 1681.0, \" Close\": 1920.0, \" Volume\": 94525, \"Price_Change\": 0.07142857142857142, \"Mean_Score\": 0.0, \"Percent_of_PosSent\": 0.0, \"Close_roll\": 1794.2, \"Price_Change_roll\": 0.02903933352792098, \"Mean_Score_roll\": -0.47999990400001913, \"Percent_of_PosSent_roll\": 0.0}, {\"Date\": \"2020-03-19T00:00:00\", \" Open\": 1740.0, \" High\": 1899.0, \" Low\": 1706.0, \" Close\": 1745.0, \" Volume\": 107305, \"Price_Change\": 0.0028735632183908046, \"Mean_Score\": 0.7142856632653098, \"Percent_of_PosSent\": 1.0, \"Close_roll\": 1796.8, \"Price_Change_roll\": 0.03178423463533415, \"Mean_Score_roll\": -0.2171427953469524, \"Percent_of_PosSent_roll\": 0.2}, {\"Date\": \"2020-03-20T00:00:00\", \" Open\": 1745.0, \" High\": 1769.0, \" Low\": 1650.0, \" Close\": 1658.0, \" Volume\": 102600, \"Price_Change\": -0.0498567335243553, \"Mean_Score\": 0.7142856632653098, \"Percent_of_PosSent\": 1.0, \"Close_roll\": 1778.4, \"Price_Change_roll\": 0.020199984704656636, \"Mean_Score_roll\": 0.04571431330611435, \"Percent_of_PosSent_roll\": 0.4}, {\"Date\": \"2020-03-23T00:00:00\", \" Open\": 1650.0, \" High\": 1850.0, \" Low\": 1650.0, \" Close\": 1850.0, \" Volume\": 85175, \"Price_Change\": 0.12121212121212122, \"Mean_Score\": -0.23809521863189914, \"Percent_of_PosSent\": 0.0, \"Close_roll\": 1800.6, \"Price_Change_roll\": 0.045699551804223734, \"Mean_Score_roll\": 0.11809524557973931, \"Percent_of_PosSent_roll\": 0.4}, {\"Date\": \"2020-03-24T00:00:00\", \" Open\": 1840.0, \" High\": 1890.0, \" Low\": 1760.0, \" Close\": 1816.0, \" Volume\": 64945, \"Price_Change\": -0.013043478260869565, \"Mean_Score\": -0.23809521863189914, \"Percent_of_PosSent\": 0.0, \"Close_roll\": 1797.8, \"Price_Change_roll\": 0.026522808814771714, \"Mean_Score_roll\": 0.1904761778533643, \"Percent_of_PosSent_roll\": 0.4}, {\"Date\": \"2020-03-25T00:00:00\", \" Open\": 1837.0, \" High\": 1885.0, \" Low\": 1820.0, \" Close\": 1840.0, \" Volume\": 46540, \"Price_Change\": 0.001633097441480675, \"Mean_Score\": -0.23809521863189914, \"Percent_of_PosSent\": 0.0, \"Close_roll\": 1781.8, \"Price_Change_roll\": 0.012563714017353567, \"Mean_Score_roll\": 0.14285713412698448, \"Percent_of_PosSent_roll\": 0.4}, {\"Date\": \"2020-03-26T00:00:00\", \" Open\": 1840.0, \" High\": 1980.0, \" Low\": 1840.0, \" Close\": 1930.0, \" Volume\": 123430, \"Price_Change\": 0.04891304347826087, \"Mean_Score\": 0.16666668055554515, \"Percent_of_PosSent\": 0.3333333333333333, \"Close_roll\": 1818.8, \"Price_Change_roll\": 0.02177161006932758, \"Mean_Score_roll\": 0.033333337585031535, \"Percent_of_PosSent_roll\": 0.26666666666666666}, {\"Date\": \"2020-03-27T00:00:00\", \" Open\": 1950.0, \" High\": 1976.0, \" Low\": 1908.0, \" Close\": 1949.0, \" Volume\": 95365, \"Price_Change\": -0.0005128205128205128, \"Mean_Score\": 0.16666668055554515, \"Percent_of_PosSent\": 0.3333333333333333, \"Close_roll\": 1877.0, \"Price_Change_roll\": 0.031640392671634536, \"Mean_Score_roll\": -0.0761904589569214, \"Percent_of_PosSent_roll\": 0.13333333333333333}, {\"Date\": \"2020-03-30T00:00:00\", \" Open\": 1910.0, \" High\": 1949.0, \" Low\": 1910.0, \" Close\": 1912.0, \" Volume\": 56105, \"Price_Change\": 0.0010471204188481676, \"Mean_Score\": 0.16666668055554515, \"Percent_of_PosSent\": 0.3333333333333333, \"Close_roll\": 1889.4, \"Price_Change_roll\": 0.007607392512979929, \"Mean_Score_roll\": 0.00476192088056746, \"Percent_of_PosSent_roll\": 0.2}, {\"Date\": \"2020-03-31T00:00:00\", \" Open\": 1916.0, \" High\": 1949.0, \" Low\": 1913.0, \" Close\": 1930.0, \" Volume\": 77700, \"Price_Change\": 0.007306889352818371, \"Mean_Score\": 0.16666668055554515, \"Percent_of_PosSent\": 0.3333333333333333, \"Close_roll\": 1912.2, \"Price_Change_roll\": 0.011677466035717515, \"Mean_Score_roll\": 0.08571430071805633, \"Percent_of_PosSent_roll\": 0.26666666666666666}, {\"Date\": \"2020-04-01T00:00:00\", \" Open\": 1912.0, \" High\": 2000.0, \" Low\": 1912.0, \" Close\": 2000.0, \" Volume\": 79425, \"Price_Change\": 0.04602510460251046, \"Mean_Score\": 0.16666668055554515, \"Percent_of_PosSent\": 0.3333333333333333, \"Close_roll\": 1944.2, \"Price_Change_roll\": 0.020555867467923473, \"Mean_Score_roll\": 0.16666668055554518, \"Percent_of_PosSent_roll\": 0.3333333333333333}, {\"Date\": \"2020-04-02T00:00:00\", \" Open\": 2000.0, \" High\": 2000.0, \" Low\": 1973.0, \" Close\": 2000.0, \" Volume\": 52545, \"Price_Change\": 0.0, \"Mean_Score\": 0.16666668055554515, \"Percent_of_PosSent\": 0.3333333333333333, \"Close_roll\": 1958.2, \"Price_Change_roll\": 0.010773258772271298, \"Mean_Score_roll\": 0.16666668055554518, \"Percent_of_PosSent_roll\": 0.3333333333333333}, {\"Date\": \"2020-04-03T00:00:00\", \" Open\": 2006.0, \" High\": 2050.0, \" Low\": 1978.0, \" Close\": 2050.0, \" Volume\": 109870, \"Price_Change\": 0.02193419740777667, \"Mean_Score\": 0.16666668055554515, \"Percent_of_PosSent\": 0.3333333333333333, \"Close_roll\": 1978.4, \"Price_Change_roll\": 0.015262662356390733, \"Mean_Score_roll\": 0.16666668055554518, \"Percent_of_PosSent_roll\": 0.3333333333333333}, {\"Date\": \"2020-04-06T00:00:00\", \" Open\": 2050.0, \" High\": 2300.0, \" Low\": 2050.0, \" Close\": 2300.0, \" Volume\": 116125, \"Price_Change\": 0.12195121951219512, \"Mean_Score\": 0.16666668055554515, \"Percent_of_PosSent\": 0.3333333333333333, \"Close_roll\": 2056.0, \"Price_Change_roll\": 0.03944348217506012, \"Mean_Score_roll\": 0.16666668055554518, \"Percent_of_PosSent_roll\": 0.3333333333333333}, {\"Date\": \"2020-04-07T00:00:00\", \" Open\": 2280.0, \" High\": 2280.0, \" Low\": 2130.0, \" Close\": 2194.0, \" Volume\": 90795, \"Price_Change\": -0.037719298245614034, \"Mean_Score\": 0.13333304000032534, \"Percent_of_PosSent\": 0.3333333333333333, \"Close_roll\": 2108.8, \"Price_Change_roll\": 0.03043824465537364, \"Mean_Score_roll\": 0.15999995244450121, \"Percent_of_PosSent_roll\": 0.3333333333333333}, {\"Date\": \"2020-04-08T00:00:00\", \" Open\": 2186.0, \" High\": 2186.0, \" Low\": 2104.0, \" Close\": 2160.0, \" Volume\": 80825, \"Price_Change\": -0.011893870082342177, \"Mean_Score\": -0.16923075852071065, \"Percent_of_PosSent\": 0.5, \"Close_roll\": 2140.8, \"Price_Change_roll\": 0.018854449718403114, \"Mean_Score_roll\": 0.09282046462925005, \"Percent_of_PosSent_roll\": 0.36666666666666664}, {\"Date\": \"2020-04-13T00:00:00\", \" Open\": 2200.0, \" High\": 2238.0, \" Low\": 2160.0, \" Close\": 2224.0, \" Volume\": 54465, \"Price_Change\": 0.01090909090909091, \"Mean_Score\": 0.9999998571428775, \"Percent_of_PosSent\": 1.0, \"Close_roll\": 2185.6, \"Price_Change_roll\": 0.021036267900221294, \"Mean_Score_roll\": 0.25948709994671654, \"Percent_of_PosSent_roll\": 0.5}, {\"Date\": \"2020-04-14T00:00:00\", \" Open\": 2220.0, \" High\": 2258.0, \" Low\": 2200.0, \" Close\": 2230.0, \" Volume\": 117540, \"Price_Change\": 0.0045045045045045045, \"Mean_Score\": 0.9999998571428775, \"Percent_of_PosSent\": 1.0, \"Close_roll\": 2221.6, \"Price_Change_roll\": 0.017550329319566866, \"Mean_Score_roll\": 0.426153735264183, \"Percent_of_PosSent_roll\": 0.6333333333333333}, {\"Date\": \"2020-04-15T00:00:00\", \" Open\": 2206.0, \" High\": 2242.0, \" Low\": 2170.0, \" Close\": 2206.0, \" Volume\": 145220, \"Price_Change\": 0.0, \"Mean_Score\": 0.9999998571428775, \"Percent_of_PosSent\": 1.0, \"Close_roll\": 2202.8, \"Price_Change_roll\": -0.00683991458287216, \"Mean_Score_roll\": 0.5928203705816495, \"Percent_of_PosSent_roll\": 0.7666666666666666}, {\"Date\": \"2020-04-16T00:00:00\", \" Open\": 2190.0, \" High\": 2190.0, \" Low\": 2100.0, \" Close\": 2100.0, \" Volume\": 107800, \"Price_Change\": -0.0410958904109589, \"Mean_Score\": 0.9999998571428775, \"Percent_of_PosSent\": 1.0, \"Close_roll\": 2184.0, \"Price_Change_roll\": -0.0075152330159411335, \"Mean_Score_roll\": 0.76615373401016, \"Percent_of_PosSent_roll\": 0.9}, {\"Date\": \"2020-04-17T00:00:00\", \" Open\": 2150.0, \" High\": 2230.0, \" Low\": 2100.0, \" Close\": 2230.0, \" Volume\": 51470, \"Price_Change\": 0.037209302325581395, \"Mean_Score\": 0.9999998571428775, \"Percent_of_PosSent\": 1.0, \"Close_roll\": 2198.0, \"Price_Change_roll\": 0.0023054014656435804, \"Mean_Score_roll\": 0.9999998571428776, \"Percent_of_PosSent_roll\": 1.0}, {\"Date\": \"2020-04-20T00:00:00\", \" Open\": 2220.0, \" High\": 2220.0, \" Low\": 2154.0, \" Close\": 2180.0, \" Volume\": 37850, \"Price_Change\": -0.018018018018018018, \"Mean_Score\": 0.9999998571428775, \"Percent_of_PosSent\": 1.0, \"Close_roll\": 2189.2, \"Price_Change_roll\": -0.0034800203197782043, \"Mean_Score_roll\": 0.9999998571428776, \"Percent_of_PosSent_roll\": 1.0}, {\"Date\": \"2020-04-21T00:00:00\", \" Open\": 2160.0, \" High\": 2176.0, \" Low\": 2106.0, \" Close\": 2106.0, \" Volume\": 49340, \"Price_Change\": -0.025, \"Mean_Score\": 0.5076753259209821, \"Percent_of_PosSent\": 0.75, \"Close_roll\": 2164.4, \"Price_Change_roll\": -0.009380921220679106, \"Mean_Score_roll\": 0.9015349508984984, \"Percent_of_PosSent_roll\": 0.95}, {\"Date\": \"2020-04-22T00:00:00\", \" Open\": 2096.0, \" High\": 2192.0, \" Low\": 2096.0, \" Close\": 2168.0, \" Volume\": 69205, \"Price_Change\": 0.03435114503816794, \"Mean_Score\": 0.5076753259209821, \"Percent_of_PosSent\": 0.75, \"Close_roll\": 2156.8, \"Price_Change_roll\": -0.002510692213045518, \"Mean_Score_roll\": 0.8030700446541192, \"Percent_of_PosSent_roll\": 0.9}, {\"Date\": \"2020-04-23T00:00:00\", \" Open\": 2200.0, \" High\": 2220.0, \" Low\": 2174.0, \" Close\": 2200.0, \" Volume\": 47735, \"Price_Change\": 0.0, \"Mean_Score\": 0.5076753259209821, \"Percent_of_PosSent\": 0.75, \"Close_roll\": 2176.8, \"Price_Change_roll\": 0.005708485869146263, \"Mean_Score_roll\": 0.7046051384097403, \"Percent_of_PosSent_roll\": 0.85}, {\"Date\": \"2020-04-24T00:00:00\", \" Open\": 2200.0, \" High\": 2216.0, \" Low\": 2172.0, \" Close\": 2208.0, \" Volume\": 54135, \"Price_Change\": 0.0036363636363636364, \"Mean_Score\": 0.5076753259209821, \"Percent_of_PosSent\": 0.75, \"Close_roll\": 2172.4, \"Price_Change_roll\": -0.0010061018686972891, \"Mean_Score_roll\": 0.6061402321653613, \"Percent_of_PosSent_roll\": 0.8}, {\"Date\": \"2020-04-27T00:00:00\", \" Open\": 2208.0, \" High\": 2248.0, \" Low\": 2156.0, \" Close\": 2210.0, \" Volume\": 62340, \"Price_Change\": 0.0009057971014492754, \"Mean_Score\": 0.5076753259209821, \"Percent_of_PosSent\": 0.75, \"Close_roll\": 2178.4, \"Price_Change_roll\": 0.0027786611551961693, \"Mean_Score_roll\": 0.5076753259209821, \"Percent_of_PosSent_roll\": 0.75}, {\"Date\": \"2020-04-28T00:00:00\", \" Open\": 2210.0, \" High\": 2268.0, \" Low\": 2210.0, \" Close\": 2258.0, \" Volume\": 23120, \"Price_Change\": 0.02171945701357466, \"Mean_Score\": 0.5076753259209821, \"Percent_of_PosSent\": 0.75, \"Close_roll\": 2208.8, \"Price_Change_roll\": 0.012122552557911103, \"Mean_Score_roll\": 0.5076753259209821, \"Percent_of_PosSent_roll\": 0.75}, {\"Date\": \"2020-04-29T00:00:00\", \" Open\": 2258.0, \" High\": 2258.0, \" Low\": 2186.0, \" Close\": 2230.0, \" Volume\": 26950, \"Price_Change\": -0.012400354295837024, \"Mean_Score\": 0.6124999204687632, \"Percent_of_PosSent\": 1.0, \"Close_roll\": 2221.2, \"Price_Change_roll\": 0.0027722526911101095, \"Mean_Score_roll\": 0.5286402448305383, \"Percent_of_PosSent_roll\": 0.8}, {\"Date\": \"2020-04-30T00:00:00\", \" Open\": 2250.0, \" High\": 2256.0, \" Low\": 2196.0, \" Close\": 2196.0, \" Volume\": 64440, \"Price_Change\": -0.024, \"Mean_Score\": -0.07692307100591762, \"Percent_of_PosSent\": 0.0, \"Close_roll\": 2220.4, \"Price_Change_roll\": -0.0020277473088898905, \"Mean_Score_roll\": 0.41172056544515845, \"Percent_of_PosSent_roll\": 0.65}, {\"Date\": \"2020-05-04T00:00:00\", \" Open\": 2196.0, \" High\": 2258.0, \" Low\": 2182.0, \" Close\": 2258.0, \" Volume\": 38705, \"Price_Change\": 0.028233151183970857, \"Mean_Score\": -0.07692307100591762, \"Percent_of_PosSent\": 0.0, \"Close_roll\": 2230.4, \"Price_Change_roll\": 0.0028916102006315537, \"Mean_Score_roll\": 0.29480088605977844, \"Percent_of_PosSent_roll\": 0.5}, {\"Date\": \"2020-05-05T00:00:00\", \" Open\": 2214.0, \" High\": 2300.0, \" Low\": 2214.0, \" Close\": 2300.0, \" Volume\": 73225, \"Price_Change\": 0.03884372177055104, \"Mean_Score\": -0.07692307100591762, \"Percent_of_PosSent\": 0.0, \"Close_roll\": 2248.4, \"Price_Change_roll\": 0.010479195134451906, \"Mean_Score_roll\": 0.1778812066743985, \"Percent_of_PosSent_roll\": 0.35}, {\"Date\": \"2020-05-06T00:00:00\", \" Open\": 2296.0, \" High\": 2296.0, \" Low\": 2230.0, \" Close\": 2242.0, \" Volume\": 82890, \"Price_Change\": -0.023519163763066203, \"Mean_Score\": -0.07692307100591762, \"Percent_of_PosSent\": 0.0, \"Close_roll\": 2245.2, \"Price_Change_roll\": 0.0014314709791237335, \"Mean_Score_roll\": 0.06096152728901857, \"Percent_of_PosSent_roll\": 0.2}, {\"Date\": \"2020-05-07T00:00:00\", \" Open\": 2242.0, \" High\": 2258.0, \" Low\": 2202.0, \" Close\": 2202.0, \" Volume\": 89210, \"Price_Change\": -0.01784121320249777, \"Mean_Score\": 0.10434472065295053, \"Percent_of_PosSent\": 1.0, \"Close_roll\": 2239.6, \"Price_Change_roll\": 0.0003432991977915842, \"Mean_Score_roll\": -0.04066951267414397, \"Percent_of_PosSent_roll\": 0.2}, {\"Date\": \"2020-05-08T00:00:00\", \" Open\": 2202.0, \" High\": 2240.0, \" Low\": 2150.0, \" Close\": 2150.0, \" Volume\": 103990, \"Price_Change\": -0.023614895549500452, \"Mean_Score\": 0.0, \"Percent_of_PosSent\": 0.0, \"Close_roll\": 2230.4, \"Price_Change_roll\": 0.0004203200878914938, \"Mean_Score_roll\": -0.02528489847296045, \"Percent_of_PosSent_roll\": 0.2}, {\"Date\": \"2020-05-11T00:00:00\", \" Open\": 2150.0, \" High\": 2202.0, \" Low\": 2080.0, \" Close\": 2080.0, \" Volume\": 108490, \"Price_Change\": -0.03255813953488372, \"Mean_Score\": -0.11111110185185272, \"Percent_of_PosSent\": 0.0, \"Close_roll\": 2194.8, \"Price_Change_roll\": -0.01173793805587942, \"Mean_Score_roll\": -0.03212250464214746, \"Percent_of_PosSent_roll\": 0.2}, {\"Date\": \"2020-05-12T00:00:00\", \" Open\": 2100.0, \" High\": 2160.0, \" Low\": 2062.0, \" Close\": 2130.0, \" Volume\": 103755, \"Price_Change\": 0.014285714285714285, \"Mean_Score\": -0.11111110185185272, \"Percent_of_PosSent\": 0.0, \"Close_roll\": 2160.8, \"Price_Change_roll\": -0.01664953955284677, \"Mean_Score_roll\": -0.03896011081133448, \"Percent_of_PosSent_roll\": 0.2}, {\"Date\": \"2020-05-13T00:00:00\", \" Open\": 2128.0, \" High\": 2150.0, \" Low\": 2104.0, \" Close\": 2104.0, \" Volume\": 63965, \"Price_Change\": -0.011278195488721804, \"Mean_Score\": -0.11111110185185272, \"Percent_of_PosSent\": 0.0, \"Close_roll\": 2133.2, \"Price_Change_roll\": -0.01420134589797789, \"Mean_Score_roll\": -0.0457977169805215, \"Percent_of_PosSent_roll\": 0.2}, {\"Date\": \"2020-05-14T00:00:00\", \" Open\": 2130.0, \" High\": 2182.0, \" Low\": 2112.0, \" Close\": 2170.0, \" Volume\": 113215, \"Price_Change\": 0.018779342723004695, \"Mean_Score\": -0.7999997733334009, \"Percent_of_PosSent\": 0.0, \"Close_roll\": 2126.8, \"Price_Change_roll\": -0.006877234712877399, \"Mean_Score_roll\": -0.22666661577779176, \"Percent_of_PosSent_roll\": 0.0}, {\"Date\": \"2020-05-15T00:00:00\", \" Open\": 2176.0, \" High\": 2242.0, \" Low\": 2176.0, \" Close\": 2220.0, \" Volume\": 72445, \"Price_Change\": 0.02022058823529412, \"Mean_Score\": -0.7999997733334009, \"Percent_of_PosSent\": 0.0, \"Close_roll\": 2140.8, \"Price_Change_roll\": 0.0018898620440815153, \"Mean_Score_roll\": -0.38666657044447195, \"Percent_of_PosSent_roll\": 0.0}, {\"Date\": \"2020-05-18T00:00:00\", \" Open\": 2224.0, \" High\": 2224.0, \" Low\": 2160.0, \" Close\": 2218.0, \" Volume\": 20585, \"Price_Change\": -0.002697841726618705, \"Mean_Score\": 0.39999996000000404, \"Percent_of_PosSent\": 1.0, \"Close_roll\": 2168.4, \"Price_Change_roll\": 0.007861921605734519, \"Mean_Score_roll\": -0.2844443580741006, \"Percent_of_PosSent_roll\": 0.2}, {\"Date\": \"2020-05-19T00:00:00\", \" Open\": 2220.0, \" High\": 2226.0, \" Low\": 2174.0, \" Close\": 2212.0, \" Volume\": 29305, \"Price_Change\": -0.0036036036036036037, \"Mean_Score\": 0.39999996000000404, \"Percent_of_PosSent\": 1.0, \"Close_roll\": 2184.8, \"Price_Change_roll\": 0.00428405802787094, \"Mean_Score_roll\": -0.18222214570372927, \"Percent_of_PosSent_roll\": 0.4}, {\"Date\": \"2020-05-20T00:00:00\", \" Open\": 2182.0, \" High\": 2276.0, \" Low\": 2182.0, \" Close\": 2276.0, \" Volume\": 90945, \"Price_Change\": 0.04307974335472044, \"Mean_Score\": -0.33333327777778704, \"Percent_of_PosSent\": 0.0, \"Close_roll\": 2219.2, \"Price_Change_roll\": 0.015155645796559388, \"Mean_Score_roll\": -0.2266665808889161, \"Percent_of_PosSent_roll\": 0.4}, {\"Date\": \"2020-05-21T00:00:00\", \" Open\": 2232.0, \" High\": 2280.0, \" Low\": 2232.0, \" Close\": 2270.0, \" Volume\": 103905, \"Price_Change\": 0.017025089605734768, \"Mean_Score\": -0.33333327777778704, \"Percent_of_PosSent\": 0.0, \"Close_roll\": 2239.2, \"Price_Change_roll\": 0.014804795173105404, \"Mean_Score_roll\": -0.13333328177779336, \"Percent_of_PosSent_roll\": 0.4}, {\"Date\": \"2020-05-22T00:00:00\", \" Open\": 2284.0, \" High\": 2290.0, \" Low\": 2200.0, \" Close\": 2232.0, \" Volume\": 91900, \"Price_Change\": -0.02276707530647986, \"Mean_Score\": 0.43333330777777934, \"Percent_of_PosSent\": 1.0, \"Close_roll\": 2241.6, \"Price_Change_roll\": 0.0062072624647506085, \"Mean_Score_roll\": 0.11333333444444268, \"Percent_of_PosSent_roll\": 0.6}, {\"Date\": \"2020-05-26T00:00:00\", \" Open\": 2220.0, \" High\": 2260.0, \" Low\": 2182.0, \" Close\": 2250.0, \" Volume\": 84020, \"Price_Change\": 0.013513513513513514, \"Mean_Score\": 0.43333330777777934, \"Percent_of_PosSent\": 1.0, \"Close_roll\": 2248.0, \"Price_Change_roll\": 0.009449533512777051, \"Mean_Score_roll\": 0.12000000399999775, \"Percent_of_PosSent_roll\": 0.6}, {\"Date\": \"2020-05-27T00:00:00\", \" Open\": 2274.0, \" High\": 2280.0, \" Low\": 2190.0, \" Close\": 2220.0, \" Volume\": 139440, \"Price_Change\": -0.023746701846965697, \"Mean_Score\": 0.43333330777777934, \"Percent_of_PosSent\": 1.0, \"Close_roll\": 2249.6, \"Price_Change_roll\": 0.005420913864104633, \"Mean_Score_roll\": 0.1266666735555528, \"Percent_of_PosSent_roll\": 0.6}, {\"Date\": \"2020-05-28T00:00:00\", \" Open\": 2220.0, \" High\": 2220.0, \" Low\": 2190.0, \" Close\": 2200.0, \" Volume\": 67095, \"Price_Change\": -0.009009009009009009, \"Mean_Score\": 0.6666665555555741, \"Percent_of_PosSent\": 1.0, \"Close_roll\": 2234.4, \"Price_Change_roll\": -0.004996836608641257, \"Mean_Score_roll\": 0.326666640222225, \"Percent_of_PosSent_roll\": 0.8}, {\"Date\": \"2020-05-29T00:00:00\", \" Open\": 2190.0, \" High\": 2294.0, \" Low\": 2180.0, \" Close\": 2294.0, \" Volume\": 596745, \"Price_Change\": 0.047488584474885846, \"Mean_Score\": 0.5147058459486762, \"Percent_of_PosSent\": 1.0, \"Close_roll\": 2239.2, \"Price_Change_roll\": 0.0010958623651889585, \"Mean_Score_roll\": 0.49627446496751765, \"Percent_of_PosSent_roll\": 1.0}, {\"Date\": \"2020-06-01T00:00:00\", \" Open\": 2260.0, \" High\": 2270.0, \" Low\": 2228.0, \" Close\": 2244.0, \" Volume\": 38165, \"Price_Change\": -0.007079646017699115, \"Mean_Score\": 0.5147058459486762, \"Percent_of_PosSent\": 1.0, \"Close_roll\": 2241.6, \"Price_Change_roll\": 0.004233348222945107, \"Mean_Score_roll\": 0.512548972601697, \"Percent_of_PosSent_roll\": 1.0}, {\"Date\": \"2020-06-02T00:00:00\", \" Open\": 2258.0, \" High\": 2258.0, \" Low\": 2180.0, \" Close\": 2192.0, \" Volume\": 154120, \"Price_Change\": -0.029229406554472984, \"Mean_Score\": -0.46666663555555765, \"Percent_of_PosSent\": 0.0, \"Close_roll\": 2230.0, \"Price_Change_roll\": -0.004315235790652192, \"Mean_Score_roll\": 0.3325489839350297, \"Percent_of_PosSent_roll\": 0.8}, {\"Date\": \"2020-06-03T00:00:00\", \" Open\": 2236.0, \" High\": 2250.0, \" Low\": 2174.0, \" Close\": 2176.0, \" Volume\": 102375, \"Price_Change\": -0.026833631484794274, \"Mean_Score\": -0.46666663555555765, \"Percent_of_PosSent\": 0.0, \"Close_roll\": 2221.2, \"Price_Change_roll\": -0.004932621718217908, \"Mean_Score_roll\": 0.15254899526836227, \"Percent_of_PosSent_roll\": 0.6}, {\"Date\": \"2020-06-04T00:00:00\", \" Open\": 2150.0, \" High\": 2200.0, \" Low\": 2130.0, \" Close\": 2200.0, \" Volume\": 113740, \"Price_Change\": 0.023255813953488372, \"Mean_Score\": -0.46666663555555765, \"Percent_of_PosSent\": 0.0, \"Close_roll\": 2221.2, \"Price_Change_roll\": 0.0015203428742815688, \"Mean_Score_roll\": -0.0741176429538641, \"Percent_of_PosSent_roll\": 0.4}, {\"Date\": \"2020-06-05T00:00:00\", \" Open\": 2200.0, \" High\": 2200.0, \" Low\": 2168.0, \" Close\": 2170.0, \" Volume\": 112210, \"Price_Change\": -0.013636363636363636, \"Mean_Score\": -0.46666663555555765, \"Percent_of_PosSent\": 0.0, \"Close_roll\": 2196.4, \"Price_Change_roll\": -0.010704646747968328, \"Mean_Score_roll\": -0.2703921392547109, \"Percent_of_PosSent_roll\": 0.2}, {\"Date\": \"2020-06-08T00:00:00\", \" Open\": 2170.0, \" High\": 2186.0, \" Low\": 2106.0, \" Close\": 2120.0, \" Volume\": 83580, \"Price_Change\": -0.02304147465437788, \"Mean_Score\": -0.46666663555555765, \"Percent_of_PosSent\": 0.0, \"Close_roll\": 2171.6, \"Price_Change_roll\": -0.013897012475304083, \"Mean_Score_roll\": -0.46666663555555765, \"Percent_of_PosSent_roll\": 0.0}, {\"Date\": \"2020-06-09T00:00:00\", \" Open\": 2120.0, \" High\": 2170.0, \" Low\": 2110.0, \" Close\": 2170.0, \" Volume\": 62675, \"Price_Change\": 0.02358490566037736, \"Mean_Score\": 0.9999997750000512, \"Percent_of_PosSent\": 1.0, \"Close_roll\": 2167.2, \"Price_Change_roll\": -0.0033341500323340128, \"Mean_Score_roll\": -0.17333335344443587, \"Percent_of_PosSent_roll\": 0.2}, {\"Date\": \"2020-06-10T00:00:00\", \" Open\": 2162.0, \" High\": 2174.0, \" Low\": 2122.0, \" Close\": 2160.0, \" Volume\": 70995, \"Price_Change\": -0.0009250693802035153, \"Mean_Score\": 0.9999997750000512, \"Percent_of_PosSent\": 1.0, \"Close_roll\": 2164.0, \"Price_Change_roll\": 0.0018475623885841398, \"Mean_Score_roll\": 0.11999992866668592, \"Percent_of_PosSent_roll\": 0.4}, {\"Date\": \"2020-06-11T00:00:00\", \" Open\": 2176.0, \" High\": 2218.0, \" Low\": 2140.0, \" Close\": 2218.0, \" Volume\": 59540, \"Price_Change\": 0.019301470588235295, \"Mean_Score\": -0.9999997500000625, \"Percent_of_PosSent\": 0.0, \"Close_roll\": 2167.6, \"Price_Change_roll\": 0.0010566937155335244, \"Mean_Score_roll\": 0.013333305777784932, \"Percent_of_PosSent_roll\": 0.4}, {\"Date\": \"2020-06-15T00:00:00\", \" Open\": 2220.0, \" High\": 2220.0, \" Low\": 2160.0, \" Close\": 2160.0, \" Volume\": 104630, \"Price_Change\": -0.02702702702702703, \"Mean_Score\": -0.9999997500000625, \"Percent_of_PosSent\": 0.0, \"Close_roll\": 2165.6, \"Price_Change_roll\": -0.0016214389625991547, \"Mean_Score_roll\": -0.093333317111116, \"Percent_of_PosSent_roll\": 0.4}, {\"Date\": \"2020-06-16T00:00:00\", \" Open\": 2160.0, \" High\": 2182.0, \" Low\": 2122.0, \" Close\": 2160.0, \" Volume\": 73315, \"Price_Change\": 0.0, \"Mean_Score\": -0.9999997500000625, \"Percent_of_PosSent\": 0.0, \"Close_roll\": 2173.6, \"Price_Change_roll\": 0.002986855968276422, \"Mean_Score_roll\": -0.19999994000001697, \"Percent_of_PosSent_roll\": 0.4}, {\"Date\": \"2020-06-17T00:00:00\", \" Open\": 2170.0, \" High\": 2204.0, \" Low\": 2160.0, \" Close\": 2186.0, \" Volume\": 53130, \"Price_Change\": 0.007373271889400922, \"Mean_Score\": -0.9999997500000625, \"Percent_of_PosSent\": 0.0, \"Close_roll\": 2176.8, \"Price_Change_roll\": -0.0002554707859188654, \"Mean_Score_roll\": -0.5999998450000397, \"Percent_of_PosSent_roll\": 0.2}, {\"Date\": \"2020-06-18T00:00:00\", \" Open\": 2190.0, \" High\": 2224.0, \" Low\": 2162.0, \" Close\": 2206.0, \" Volume\": 74305, \"Price_Change\": 0.0073059360730593605, \"Mean_Score\": -0.9999997500000625, \"Percent_of_PosSent\": 0.0, \"Close_roll\": 2186.0, \"Price_Change_roll\": 0.0013907303047337098, \"Mean_Score_roll\": -0.9999997500000625, \"Percent_of_PosSent_roll\": 0.0}, {\"Date\": \"2020-06-19T00:00:00\", \" Open\": 2200.0, \" High\": 2200.0, \" Low\": 2126.0, \" Close\": 2154.0, \" Volume\": 360295, \"Price_Change\": -0.02090909090909091, \"Mean_Score\": -0.9999997500000625, \"Percent_of_PosSent\": 0.0, \"Close_roll\": 2173.2, \"Price_Change_roll\": -0.006651381994731531, \"Mean_Score_roll\": -0.9999997500000625, \"Percent_of_PosSent_roll\": 0.0}, {\"Date\": \"2020-06-22T00:00:00\", \" Open\": 2156.0, \" High\": 2182.0, \" Low\": 2130.0, \" Close\": 2130.0, \" Volume\": 59650, \"Price_Change\": -0.012059369202226345, \"Mean_Score\": 0.5555555246913597, \"Percent_of_PosSent\": 1.0, \"Close_roll\": 2167.2, \"Price_Change_roll\": -0.003657850429771395, \"Mean_Score_roll\": -0.6888886950617781, \"Percent_of_PosSent_roll\": 0.2}, {\"Date\": \"2020-06-23T00:00:00\", \" Open\": 2132.0, \" High\": 2144.0, \" Low\": 2072.0, \" Close\": 2140.0, \" Volume\": 100675, \"Price_Change\": 0.00375234521575985, \"Mean_Score\": 0.36538454400889203, \"Percent_of_PosSent\": 1.0, \"Close_roll\": 2163.2, \"Price_Change_roll\": -0.0029073813866194245, \"Mean_Score_roll\": -0.4158118362599871, \"Percent_of_PosSent_roll\": 0.4}, {\"Date\": \"2020-06-24T00:00:00\", \" Open\": 2130.0, \" High\": 2130.0, \" Low\": 2082.0, \" Close\": 2094.0, \" Volume\": 54995, \"Price_Change\": -0.016901408450704224, \"Mean_Score\": 0.36538454400889203, \"Percent_of_PosSent\": 1.0, \"Close_roll\": 2144.8, \"Price_Change_roll\": -0.007762317454640453, \"Mean_Score_roll\": -0.14273497745819622, \"Percent_of_PosSent_roll\": 0.6}, {\"Date\": \"2020-06-25T00:00:00\", \" Open\": 2096.0, \" High\": 2096.0, \" Low\": 2050.0, \" Close\": 2058.0, \" Volume\": 74045, \"Price_Change\": -0.01812977099236641, \"Mean_Score\": 0.36538454400889203, \"Percent_of_PosSent\": 1.0, \"Close_roll\": 2115.2, \"Price_Change_roll\": -0.012849458867725608, \"Mean_Score_roll\": 0.13034188134359467, \"Percent_of_PosSent_roll\": 0.8}, {\"Date\": \"2020-06-26T00:00:00\", \" Open\": 2058.0, \" High\": 2130.0, \" Low\": 2050.0, \" Close\": 2130.0, \" Volume\": 63010, \"Price_Change\": 0.03498542274052478, \"Mean_Score\": 0.36538454400889203, \"Percent_of_PosSent\": 1.0, \"Close_roll\": 2110.4, \"Price_Change_roll\": -0.0016705561378024688, \"Mean_Score_roll\": 0.4034187401453856, \"Percent_of_PosSent_roll\": 1.0}, {\"Date\": \"2020-06-29T00:00:00\", \" Open\": 2110.0, \" High\": 2112.0, \" Low\": 2054.0, \" Close\": 2088.0, \" Volume\": 51585, \"Price_Change\": -0.01042654028436019, \"Mean_Score\": -0.33333322222225925, \"Percent_of_PosSent\": 0.0, \"Close_roll\": 2102.0, \"Price_Change_roll\": -0.0013439903542292377, \"Mean_Score_roll\": 0.2256409907626618, \"Percent_of_PosSent_roll\": 0.8}, {\"Date\": \"2020-06-30T00:00:00\", \" Open\": 2082.0, \" High\": 2100.0, \" Low\": 2060.0, \" Close\": 2070.0, \" Volume\": 124920, \"Price_Change\": -0.005763688760806916, \"Mean_Score\": -0.33333322222225925, \"Percent_of_PosSent\": 0.0, \"Close_roll\": 2088.0, \"Price_Change_roll\": -0.0032471971495425913, \"Mean_Score_roll\": 0.08589743751643156, \"Percent_of_PosSent_roll\": 0.6}, {\"Date\": \"2020-07-01T00:00:00\", \" Open\": 2100.0, \" High\": 2128.0, \" Low\": 2074.0, \" Close\": 2100.0, \" Volume\": 45385, \"Price_Change\": 0.0, \"Mean_Score\": 0.14285713265306196, \"Percent_of_PosSent\": 1.0, \"Close_roll\": 2089.2, \"Price_Change_roll\": 0.00013308454059825383, \"Mean_Score_roll\": 0.041391955245265524, \"Percent_of_PosSent_roll\": 0.6}, {\"Date\": \"2020-07-02T00:00:00\", \" Open\": 2100.0, \" High\": 2130.0, \" Low\": 2072.0, \" Close\": 2120.0, \" Volume\": 172030, \"Price_Change\": 0.009523809523809525, \"Mean_Score\": 0.2083332975694496, \"Percent_of_PosSent\": 0.5, \"Close_roll\": 2101.6, \"Price_Change_roll\": 0.005663800643833441, \"Mean_Score_roll\": 0.009981705957377041, \"Percent_of_PosSent_roll\": 0.5}, {\"Date\": \"2020-07-03T00:00:00\", \" Open\": 2130.0, \" High\": 2150.0, \" Low\": 2090.0, \" Close\": 2110.0, \" Volume\": 46745, \"Price_Change\": -0.009389671361502348, \"Mean_Score\": 0.0, \"Percent_of_PosSent\": 0.0, \"Close_roll\": 2097.6, \"Price_Change_roll\": -0.0032112181765719854, \"Mean_Score_roll\": -0.06309520284440137, \"Percent_of_PosSent_roll\": 0.3}, {\"Date\": \"2020-07-06T00:00:00\", \" Open\": 2120.0, \" High\": 2150.0, \" Low\": 2092.0, \" Close\": 2140.0, \" Volume\": 128895, \"Price_Change\": 0.009433962264150943, \"Mean_Score\": 0.0, \"Percent_of_PosSent\": 0.0, \"Close_roll\": 2108.0, \"Price_Change_roll\": 0.0007608823331302413, \"Mean_Score_roll\": 0.0035714416000504844, \"Percent_of_PosSent_roll\": 0.3}, {\"Date\": \"2020-07-07T00:00:00\", \" Open\": 2140.0, \" High\": 2146.0, \" Low\": 2062.0, \" Close\": 2062.0, \" Volume\": 80985, \"Price_Change\": -0.03644859813084112, \"Mean_Score\": 0.7499999062500118, \"Percent_of_PosSent\": 1.0, \"Close_roll\": 2106.4, \"Price_Change_roll\": -0.0053760995408766, \"Mean_Score_roll\": 0.2202380672945047, \"Percent_of_PosSent_roll\": 0.5}, {\"Date\": \"2020-07-08T00:00:00\", \" Open\": 2090.0, \" High\": 2110.0, \" Low\": 2064.0, \" Close\": 2096.0, \" Volume\": 73590, \"Price_Change\": 0.0028708133971291866, \"Mean_Score\": 0.7499999062500118, \"Percent_of_PosSent\": 1.0, \"Close_roll\": 2105.6, \"Price_Change_roll\": -0.004801936861450763, \"Mean_Score_roll\": 0.34166662201389464, \"Percent_of_PosSent_roll\": 0.5}, {\"Date\": \"2020-07-09T00:00:00\", \" Open\": 2100.0, \" High\": 2102.0, \" Low\": 2066.0, \" Close\": 2066.0, \" Volume\": 46665, \"Price_Change\": -0.01619047619047619, \"Mean_Score\": 0.7499999062500118, \"Percent_of_PosSent\": 1.0, \"Close_roll\": 2094.8, \"Price_Change_roll\": -0.009944794004307905, \"Mean_Score_roll\": 0.44999994375000707, \"Percent_of_PosSent_roll\": 0.6}, {\"Date\": \"2020-07-10T00:00:00\", \" Open\": 2092.0, \" High\": 2092.0, \" Low\": 2070.0, \" Close\": 2076.0, \" Volume\": 44640, \"Price_Change\": -0.0076481835564053535, \"Mean_Score\": 0.7499999062500118, \"Percent_of_PosSent\": 1.0, \"Close_roll\": 2088.0, \"Price_Change_roll\": -0.009596496443288506, \"Mean_Score_roll\": 0.5999999250000094, \"Percent_of_PosSent_roll\": 0.8}, {\"Date\": \"2020-07-13T00:00:00\", \" Open\": 2082.0, \" High\": 2090.0, \" Low\": 2068.0, \" Close\": 2080.0, \" Volume\": 32835, \"Price_Change\": -0.0009606147934678194, \"Mean_Score\": -0.32142849872450685, \"Percent_of_PosSent\": 0.0, \"Close_roll\": 2076.0, \"Price_Change_roll\": -0.011675411854812258, \"Mean_Score_roll\": 0.5357142252551081, \"Percent_of_PosSent_roll\": 0.8}, {\"Date\": \"2020-07-14T00:00:00\", \" Open\": 2080.0, \" High\": 2084.0, \" Low\": 2062.0, \" Close\": 2062.0, \" Volume\": 28710, \"Price_Change\": -0.008653846153846154, \"Mean_Score\": 0.5384614970414233, \"Percent_of_PosSent\": 1.0, \"Close_roll\": 2076.0, \"Price_Change_roll\": -0.006116461459413265, \"Mean_Score_roll\": 0.4934065434133904, \"Percent_of_PosSent_roll\": 0.8}, {\"Date\": \"2020-07-15T00:00:00\", \" Open\": 2072.0, \" High\": 2094.0, \" Low\": 1980.0, \" Close\": 2006.0, \" Volume\": 113080, \"Price_Change\": -0.03185328185328185, \"Mean_Score\": 0.5384614970414233, \"Percent_of_PosSent\": 1.0, \"Close_roll\": 2058.0, \"Price_Change_roll\": -0.013061280509495472, \"Mean_Score_roll\": 0.45109886157167267, \"Percent_of_PosSent_roll\": 0.8}, {\"Date\": \"2020-07-16T00:00:00\", \" Open\": 2030.0, \" High\": 2066.0, \" Low\": 2026.0, \" Close\": 2066.0, \" Volume\": 23545, \"Price_Change\": 0.017733990147783252, \"Mean_Score\": 0.5384614970414233, \"Percent_of_PosSent\": 1.0, \"Close_roll\": 2058.0, \"Price_Change_roll\": -0.006276387241843584, \"Mean_Score_roll\": 0.408791179729955, \"Percent_of_PosSent_roll\": 0.8}, {\"Date\": \"2020-07-17T00:00:00\", \" Open\": 2066.0, \" High\": 2078.0, \" Low\": 2038.0, \" Close\": 2078.0, \" Volume\": 48330, \"Price_Change\": 0.005808325266214908, \"Mean_Score\": 0.5384614970414233, \"Percent_of_PosSent\": 1.0, \"Close_roll\": 2058.4, \"Price_Change_roll\": -0.003585085477319532, \"Mean_Score_roll\": 0.3664834978882373, \"Percent_of_PosSent_roll\": 0.8}, {\"Date\": \"2020-07-20T00:00:00\", \" Open\": 2080.0, \" High\": 2126.0, \" Low\": 2080.0, \" Close\": 2114.0, \" Volume\": 41515, \"Price_Change\": 0.016346153846153847, \"Mean_Score\": 0.3846153550295881, \"Percent_of_PosSent\": 1.0, \"Close_roll\": 2065.2, \"Price_Change_roll\": -0.00012373174939519921, \"Mean_Score_roll\": 0.5076922686390564, \"Percent_of_PosSent_roll\": 1.0}, {\"Date\": \"2020-07-21T00:00:00\", \" Open\": 2110.0, \" High\": 2114.0, \" Low\": 2090.0, \" Close\": 2090.0, \" Volume\": 25880, \"Price_Change\": -0.009478672985781991, \"Mean_Score\": -0.33333322222225925, \"Percent_of_PosSent\": 0.0, \"Close_roll\": 2070.8, \"Price_Change_roll\": -0.0002886971157823666, \"Mean_Score_roll\": 0.33333332478631983, \"Percent_of_PosSent_roll\": 0.8}, {\"Date\": \"2020-07-22T00:00:00\", \" Open\": 2090.0, \" High\": 2130.0, \" Low\": 2090.0, \" Close\": 2110.0, \" Volume\": 64890, \"Price_Change\": 0.009569377990430622, \"Mean_Score\": -0.33333322222225925, \"Percent_of_PosSent\": 0.0, \"Close_roll\": 2091.6, \"Price_Change_roll\": 0.007995834852960128, \"Mean_Score_roll\": 0.15897438093358326, \"Percent_of_PosSent_roll\": 0.6}, {\"Date\": \"2020-07-23T00:00:00\", \" Open\": 2120.0, \" High\": 2120.0, \" Low\": 2030.0, \" Close\": 2116.0, \" Volume\": 47400, \"Price_Change\": -0.0018867924528301887, \"Mean_Score\": -0.33333322222225925, \"Percent_of_PosSent\": 0.0, \"Close_roll\": 2101.6, \"Price_Change_roll\": 0.0040716783328374395, \"Mean_Score_roll\": -0.015384562919153244, \"Percent_of_PosSent_roll\": 0.4}, {\"Date\": \"2020-07-24T00:00:00\", \" Open\": 2116.0, \" High\": 2116.0, \" Low\": 2054.0, \" Close\": 2090.0, \" Volume\": 22105, \"Price_Change\": -0.012287334593572778, \"Mean_Score\": -0.33333322222225925, \"Percent_of_PosSent\": 0.0, \"Close_roll\": 2104.0, \"Price_Change_roll\": 0.0004525463608799029, \"Mean_Score_roll\": -0.18974350677188975, \"Percent_of_PosSent_roll\": 0.2}, {\"Date\": \"2020-07-27T00:00:00\", \" Open\": 2100.0, \" High\": 2110.0, \" Low\": 2006.0, \" Close\": 2010.0, \" Volume\": 47340, \"Price_Change\": -0.04285714285714286, \"Mean_Score\": 0.07692307100591762, \"Percent_of_PosSent\": 1.0, \"Close_roll\": 2083.2, \"Price_Change_roll\": -0.011388112979779439, \"Mean_Score_roll\": -0.25128196357662386, \"Percent_of_PosSent_roll\": 0.2}, {\"Date\": \"2020-07-28T00:00:00\", \" Open\": 2000.0, \" High\": 2024.0, \" Low\": 1942.0, \" Close\": 2000.0, \" Volume\": 62200, \"Price_Change\": 0.0, \"Mean_Score\": -0.14814813091564, \"Percent_of_PosSent\": 0.3333333333333333, \"Close_roll\": 2065.2, \"Price_Change_roll\": -0.00949237838262304, \"Mean_Score_roll\": -0.2142449453153, \"Percent_of_PosSent_roll\": 0.26666666666666666}, {\"Date\": \"2020-07-29T00:00:00\", \" Open\": 2000.0, \" High\": 2026.0, \" Low\": 1991.0, \" Close\": 2020.0, \" Volume\": 20385, \"Price_Change\": 0.01, \"Mean_Score\": 0.4444444182716065, \"Percent_of_PosSent\": 1.0, \"Close_roll\": 2047.2, \"Price_Change_roll\": -0.009406253980709165, \"Mean_Score_roll\": -0.05868941721652685, \"Percent_of_PosSent_roll\": 0.4666666666666666}, {\"Date\": \"2020-07-30T00:00:00\", \" Open\": 2020.0, \" High\": 2078.0, \" Low\": 2008.0, \" Close\": 2064.0, \" Volume\": 126200, \"Price_Change\": 0.02178217821782178, \"Mean_Score\": 0.0, \"Percent_of_PosSent\": 0.0, \"Close_roll\": 2036.8, \"Price_Change_roll\": -0.004672459846578771, \"Mean_Score_roll\": 0.007977227227924998, \"Percent_of_PosSent_roll\": 0.4666666666666666}, {\"Date\": \"2020-08-03T00:00:00\", \" Open\": 2054.0, \" High\": 2054.0, \" Low\": 2004.0, \" Close\": 2014.0, \" Volume\": 51895, \"Price_Change\": -0.019474196689386564, \"Mean_Score\": 0.0, \"Percent_of_PosSent\": 0.0, \"Close_roll\": 2021.6, \"Price_Change_roll\": -0.006109832265741527, \"Mean_Score_roll\": 0.07464387167237685, \"Percent_of_PosSent_roll\": 0.4666666666666666}, {\"Date\": \"2020-08-04T00:00:00\", \" Open\": 2054.0, \" High\": 2080.0, \" Low\": 2028.0, \" Close\": 2070.0, \" Volume\": 86565, \"Price_Change\": 0.007789678675754625, \"Mean_Score\": -0.3333333111111126, \"Percent_of_PosSent\": 0.0, \"Close_roll\": 2033.6, \"Price_Change_roll\": 0.0040195320408379686, \"Mean_Score_roll\": -0.00740740475102919, \"Percent_of_PosSent_roll\": 0.26666666666666666}, {\"Date\": \"2020-08-05T00:00:00\", \" Open\": 2096.0, \" High\": 2116.0, \" Low\": 2094.0, \" Close\": 2106.0, \" Volume\": 70160, \"Price_Change\": 0.004770992366412214, \"Mean_Score\": -0.045454541322314426, \"Percent_of_PosSent\": 0.0, \"Close_roll\": 2054.8, \"Price_Change_roll\": 0.004973730514120411, \"Mean_Score_roll\": 0.013131313167635925, \"Percent_of_PosSent_roll\": 0.2}, {\"Date\": \"2020-08-06T00:00:00\", \" Open\": 2120.0, \" High\": 2124.0, \" Low\": 2106.0, \" Close\": 2118.0, \" Volume\": 66005, \"Price_Change\": -0.0009433962264150943, \"Mean_Score\": -0.1999999900000005, \"Percent_of_PosSent\": 0.0, \"Close_roll\": 2074.4, \"Price_Change_roll\": 0.0027850512688373926, \"Mean_Score_roll\": -0.11575756848668547, \"Percent_of_PosSent_roll\": 0.0}, {\"Date\": \"2020-08-07T00:00:00\", \" Open\": 2120.0, \" High\": 2158.0, \" Low\": 2102.0, \" Close\": 2120.0, \" Volume\": 49715, \"Price_Change\": 0.0, \"Mean_Score\": -0.06666666222222252, \"Percent_of_PosSent\": 0.0, \"Close_roll\": 2085.6, \"Price_Change_roll\": -0.0015713843747269638, \"Mean_Score_roll\": -0.12909090093113, \"Percent_of_PosSent_roll\": 0.0}, {\"Date\": \"2020-08-10T00:00:00\", \" Open\": 2110.0, \" High\": 2200.0, \" Low\": 2110.0, \" Close\": 2200.0, \" Volume\": 38720, \"Price_Change\": 0.04265402843601896, \"Mean_Score\": -0.16666665277777895, \"Percent_of_PosSent\": 0.0, \"Close_roll\": 2122.8, \"Price_Change_roll\": 0.010854260650354141, \"Mean_Score_roll\": -0.16242423148668578, \"Percent_of_PosSent_roll\": 0.0}, {\"Date\": \"2020-08-11T00:00:00\", \" Open\": 2198.0, \" High\": 2198.0, \" Low\": 2154.0, \" Close\": 2180.0, \" Volume\": 37170, \"Price_Change\": -0.00818926296633303, \"Mean_Score\": -0.16666665277777895, \"Percent_of_PosSent\": 0.0, \"Close_roll\": 2144.8, \"Price_Change_roll\": 0.0076584723219366106, \"Mean_Score_roll\": -0.12909089982001903, \"Percent_of_PosSent_roll\": 0.0}, {\"Date\": \"2020-08-12T00:00:00\", \" Open\": 2116.0, \" High\": 2172.0, \" Low\": 2116.0, \" Close\": 2164.0, \" Volume\": 43775, \"Price_Change\": 0.022684310018903593, \"Mean_Score\": -0.16666665277777895, \"Percent_of_PosSent\": 0.0, \"Close_roll\": 2156.4, \"Price_Change_roll\": 0.011241135852434886, \"Mean_Score_roll\": -0.15333332211111195, \"Percent_of_PosSent_roll\": 0.0}, {\"Date\": \"2020-08-13T00:00:00\", \" Open\": 2164.0, \" High\": 2164.0, \" Low\": 2108.0, \" Close\": 2148.0, \" Volume\": 57875, \"Price_Change\": -0.0073937153419593345, \"Mean_Score\": 0.49999987500003124, \"Percent_of_PosSent\": 1.0, \"Close_roll\": 2162.4, \"Price_Change_roll\": 0.009951072029326038, \"Mean_Score_roll\": -0.013333349111105609, \"Percent_of_PosSent_roll\": 0.2}, {\"Date\": \"2020-08-14T00:00:00\", \" Open\": 2112.0, \" High\": 2148.0, \" Low\": 2112.0, \" Close\": 2136.0, \" Volume\": 42365, \"Price_Change\": 0.011363636363636364, \"Mean_Score\": 0.49999987500003124, \"Percent_of_PosSent\": 1.0, \"Close_roll\": 2165.6, \"Price_Change_roll\": 0.01222379930205331, \"Mean_Score_roll\": 0.09999995833334516, \"Percent_of_PosSent_roll\": 0.4}, {\"Date\": \"2020-08-17T00:00:00\", \" Open\": 2136.0, \" High\": 2140.0, \" Low\": 2116.0, \" Close\": 2118.0, \" Volume\": 12945, \"Price_Change\": -0.008426966292134831, \"Mean_Score\": 0.49999987500003124, \"Percent_of_PosSent\": 1.0, \"Close_roll\": 2149.2, \"Price_Change_roll\": 0.002007600356422552, \"Mean_Score_roll\": 0.23333326388890718, \"Percent_of_PosSent_roll\": 0.6}, {\"Date\": \"2020-08-18T00:00:00\", \" Open\": 2148.0, \" High\": 2148.0, \" Low\": 2118.0, \" Close\": 2130.0, \" Volume\": 30890, \"Price_Change\": -0.008379888268156424, \"Mean_Score\": 0.6923076390532585, \"Percent_of_PosSent\": 1.0, \"Close_roll\": 2139.2, \"Price_Change_roll\": 0.0019694752960578736, \"Mean_Score_roll\": 0.4051281222551147, \"Percent_of_PosSent_roll\": 0.8}, {\"Date\": \"2020-08-19T00:00:00\", \" Open\": 2130.0, \" High\": 2148.0, \" Low\": 2130.0, \" Close\": 2130.0, \" Volume\": 37640, \"Price_Change\": 0.0, \"Mean_Score\": 0.7142856632653098, \"Percent_of_PosSent\": 1.0, \"Close_roll\": 2132.4, \"Price_Change_roll\": -0.0025673867077228452, \"Mean_Score_roll\": 0.5813185854637325, \"Percent_of_PosSent_roll\": 1.0}, {\"Date\": \"2020-08-20T00:00:00\", \" Open\": 2130.0, \" High\": 2138.0, \" Low\": 2102.0, \" Close\": 2112.0, \" Volume\": 40420, \"Price_Change\": -0.008450704225352112, \"Mean_Score\": -0.4666665881481622, \"Percent_of_PosSent\": 0.0, \"Close_roll\": 2125.2, \"Price_Change_roll\": -0.002778784484401401, \"Mean_Score_roll\": 0.3879852928340938, \"Percent_of_PosSent_roll\": 0.8}, {\"Date\": \"2020-08-24T00:00:00\", \" Open\": 2128.0, \" High\": 2128.0, \" Low\": 2098.0, \" Close\": 2100.0, \" Volume\": 38440, \"Price_Change\": -0.013157894736842105, \"Mean_Score\": -0.4666665881481622, \"Percent_of_PosSent\": 0.0, \"Close_roll\": 2118.0, \"Price_Change_roll\": -0.007683090704497094, \"Mean_Score_roll\": 0.19465200020445508, \"Percent_of_PosSent_roll\": 0.6}, {\"Date\": \"2020-08-25T00:00:00\", \" Open\": 2096.0, \" High\": 2114.0, \" Low\": 2070.0, \" Close\": 2110.0, \" Volume\": 43045, \"Price_Change\": 0.006679389312977099, \"Mean_Score\": -0.9999990000010001, \"Percent_of_PosSent\": 0.0, \"Close_roll\": 2116.4, \"Price_Change_roll\": -0.004661819583474709, \"Mean_Score_roll\": -0.10534777479575119, \"Percent_of_PosSent_roll\": 0.4}, {\"Date\": \"2020-08-26T00:00:00\", \" Open\": 2108.0, \" High\": 2140.0, \" Low\": 2076.0, \" Close\": 2130.0, \" Volume\": 32055, \"Price_Change\": 0.010436432637571158, \"Mean_Score\": -0.23188402735770272, \"Percent_of_PosSent\": 0.0, \"Close_roll\": 2116.4, \"Price_Change_roll\": -0.0008985554023291917, \"Mean_Score_roll\": -0.2901861080779434, \"Percent_of_PosSent_roll\": 0.2}, {\"Date\": \"2020-08-27T00:00:00\", \" Open\": 2140.0, \" High\": 2146.0, \" Low\": 2114.0, \" Close\": 2134.0, \" Volume\": 42770, \"Price_Change\": -0.002803738317757009, \"Mean_Score\": -0.23188402735770272, \"Percent_of_PosSent\": 0.0, \"Close_roll\": 2117.2, \"Price_Change_roll\": -0.0014593030658805934, \"Mean_Score_roll\": -0.47942004620254597, \"Percent_of_PosSent_roll\": 0.0}, {\"Date\": \"2020-08-28T00:00:00\", \" Open\": 2126.0, \" High\": 2132.0, \" Low\": 2082.0, \" Close\": 2088.0, \" Volume\": 133135, \"Price_Change\": -0.017873941674506115, \"Mean_Score\": -0.33333322222225925, \"Percent_of_PosSent\": 0.0, \"Close_roll\": 2112.4, \"Price_Change_roll\": -0.003343950555711394, \"Mean_Score_roll\": -0.4527533730173654, \"Percent_of_PosSent_roll\": 0.0}, {\"Date\": \"2020-09-01T00:00:00\", \" Open\": 2090.0, \" High\": 2126.0, \" Low\": 2030.0, \" Close\": 2030.0, \" Volume\": 78900, \"Price_Change\": -0.028708133971291867, \"Mean_Score\": -0.33333322222225925, \"Percent_of_PosSent\": 0.0, \"Close_roll\": 2098.4, \"Price_Change_roll\": -0.006453998402601346, \"Mean_Score_roll\": -0.4260866998321847, \"Percent_of_PosSent_roll\": 0.0}, {\"Date\": \"2020-09-02T00:00:00\", \" Open\": 2046.0, \" High\": 2068.0, \" Low\": 2036.0, \" Close\": 2050.0, \" Volume\": 30770, \"Price_Change\": 0.0019550342130987292, \"Mean_Score\": -0.33333322222225925, \"Percent_of_PosSent\": 0.0, \"Close_roll\": 2086.4, \"Price_Change_roll\": -0.00739886942257702, \"Mean_Score_roll\": -0.29275354427643663, \"Percent_of_PosSent_roll\": 0.0}, {\"Date\": \"2020-09-03T00:00:00\", \" Open\": 2050.0, \" High\": 2090.0, \" Low\": 2030.0, \" Close\": 2090.0, \" Volume\": 38920, \"Price_Change\": 0.01951219512195122, \"Mean_Score\": 0.36218486345314627, \"Percent_of_PosSent\": 1.0, \"Close_roll\": 2078.4, \"Price_Change_roll\": -0.005583716925701007, \"Mean_Score_roll\": -0.17393976611426684, \"Percent_of_PosSent_roll\": 0.2}, {\"Date\": \"2020-09-04T00:00:00\", \" Open\": 2088.0, \" High\": 2088.0, \" Low\": 2034.0, \" Close\": 2040.0, \" Volume\": 68320, \"Price_Change\": -0.022988505747126436, \"Mean_Score\": 0.6666665555555741, \"Percent_of_PosSent\": 1.0, \"Close_roll\": 2059.6, \"Price_Change_roll\": -0.009620670411574894, \"Mean_Score_roll\": 0.005770350468388541, \"Percent_of_PosSent_roll\": 0.4}, {\"Date\": \"2020-09-07T00:00:00\", \" Open\": 2046.0, \" High\": 2106.0, \" Low\": 2046.0, \" Close\": 2088.0, \" Volume\": 33800, \"Price_Change\": 0.020527859237536656, \"Mean_Score\": -0.24715908189404734, \"Percent_of_PosSent\": 0.0, \"Close_roll\": 2059.6, \"Price_Change_roll\": -0.0019403102291663393, \"Mean_Score_roll\": 0.023005178534030935, \"Percent_of_PosSent_roll\": 0.4}, {\"Date\": \"2020-09-08T00:00:00\", \" Open\": 2106.0, \" High\": 2130.0, \" Low\": 2090.0, \" Close\": 2120.0, \" Volume\": 31635, \"Price_Change\": 0.006647673314339981, \"Mean_Score\": -0.24715908189404734, \"Percent_of_PosSent\": 0.0, \"Close_roll\": 2077.6, \"Price_Change_roll\": 0.00513085122796003, \"Mean_Score_roll\": 0.04024000659967332, \"Percent_of_PosSent_roll\": 0.4}, {\"Date\": \"2020-09-09T00:00:00\", \" Open\": 2134.0, \" High\": 2134.0, \" Low\": 2090.0, \" Close\": 2132.0, \" Volume\": 21160, \"Price_Change\": -0.0009372071227741331, \"Mean_Score\": 0.19999998000000202, \"Percent_of_PosSent\": 1.0, \"Close_roll\": 2094.0, \"Price_Change_roll\": 0.004552402960785458, \"Mean_Score_roll\": 0.1469066470441256, \"Percent_of_PosSent_roll\": 0.6}, {\"Date\": \"2020-09-10T00:00:00\", \" Open\": 2130.0, \" High\": 2134.0, \" Low\": 2080.0, \" Close\": 2080.0, \" Volume\": 29750, \"Price_Change\": -0.023474178403755867, \"Mean_Score\": 0.8181817438016598, \"Percent_of_PosSent\": 1.0, \"Close_roll\": 2092.0, \"Price_Change_roll\": -0.00404487174435596, \"Mean_Score_roll\": 0.23810602311382825, \"Percent_of_PosSent_roll\": 0.6}, {\"Date\": \"2020-09-11T00:00:00\", \" Open\": 2080.0, \" High\": 2118.0, \" Low\": 2078.0, \" Close\": 2080.0, \" Volume\": 43230, \"Price_Change\": 0.0, \"Mean_Score\": 0.7499999062500118, \"Percent_of_PosSent\": 1.0, \"Close_roll\": 2100.0, \"Price_Change_roll\": 0.0005528294050693272, \"Mean_Score_roll\": 0.2547726932527158, \"Percent_of_PosSent_roll\": 0.6}, {\"Date\": \"2020-09-14T00:00:00\", \" Open\": 2076.0, \" High\": 2128.0, \" Low\": 2076.0, \" Close\": 2126.0, \" Volume\": 29650, \"Price_Change\": 0.024084778420038536, \"Mean_Score\": 0.8153408839989031, \"Percent_of_PosSent\": 1.0, \"Close_roll\": 2107.6, \"Price_Change_roll\": 0.0012642132415697032, \"Mean_Score_roll\": 0.46727268643130593, \"Percent_of_PosSent_roll\": 0.8}, {\"Date\": \"2020-09-15T00:00:00\", \" Open\": 2124.0, \" High\": 2124.0, \" Low\": 2064.0, \" Close\": 2074.0, \" Volume\": 32850, \"Price_Change\": -0.023540489642184557, \"Mean_Score\": 0.8153408839989031, \"Percent_of_PosSent\": 1.0, \"Close_roll\": 2098.4, \"Price_Change_roll\": -0.0047734193497352044, \"Mean_Score_roll\": 0.679772679609896, \"Percent_of_PosSent_roll\": 1.0}, {\"Date\": \"2020-09-16T00:00:00\", \" Open\": 2078.0, \" High\": 2080.0, \" Low\": 2062.0, \" Close\": 2062.0, \" Volume\": 30375, \"Price_Change\": -0.007699711260827719, \"Mean_Score\": 0.22580644432882438, \"Percent_of_PosSent\": 1.0, \"Close_roll\": 2084.4, \"Price_Change_roll\": -0.006125920177345921, \"Mean_Score_roll\": 0.6849339724756605, \"Percent_of_PosSent_roll\": 1.0}, {\"Date\": \"2020-09-17T00:00:00\", \" Open\": 2062.0, \" High\": 2100.0, \" Low\": 2054.0, \" Close\": 2090.0, \" Volume\": 40050, \"Price_Change\": 0.013579049466537343, \"Mean_Score\": 0.2333746810467034, \"Percent_of_PosSent\": 1.0, \"Close_roll\": 2086.4, \"Price_Change_roll\": 0.0012847253967127208, \"Mean_Score_roll\": 0.5679725599246692, \"Percent_of_PosSent_roll\": 1.0}, {\"Date\": \"2020-09-18T00:00:00\", \" Open\": 2098.0, \" High\": 2140.0, \" Low\": 2080.0, \" Close\": 2140.0, \" Volume\": 42110, \"Price_Change\": 0.02001906577693041, \"Mean_Score\": 0.9999990000010001, \"Percent_of_PosSent\": 1.0, \"Close_roll\": 2098.4, \"Price_Change_roll\": 0.005288538552098803, \"Mean_Score_roll\": 0.6179723786748669, \"Percent_of_PosSent_roll\": 1.0}, {\"Date\": \"2020-09-21T00:00:00\", \" Open\": 2118.0, \" High\": 2130.0, \" Low\": 2110.0, \" Close\": 2114.0, \" Volume\": 12615, \"Price_Change\": -0.0018885741265344666, \"Mean_Score\": 0.6666665555555741, \"Percent_of_PosSent\": 1.0, \"Close_roll\": 2096.0, \"Price_Change_roll\": 9.386804278420247e-05, \"Mean_Score_roll\": 0.588237512986201, \"Percent_of_PosSent_roll\": 1.0}, {\"Date\": \"2020-09-22T00:00:00\", \" Open\": 2114.0, \" High\": 2114.0, \" Low\": 2080.0, \" Close\": 2080.0, \" Volume\": 20830, \"Price_Change\": -0.01608325449385052, \"Mean_Score\": 0.1428571224489825, \"Percent_of_PosSent\": 1.0, \"Close_roll\": 2097.2, \"Price_Change_roll\": 0.0015853150724510095, \"Mean_Score_roll\": 0.45374076067621694, \"Percent_of_PosSent_roll\": 1.0}, {\"Date\": \"2020-09-23T00:00:00\", \" Open\": 2124.0, \" High\": 2124.0, \" Low\": 2082.0, \" Close\": 2100.0, \" Volume\": 29260, \"Price_Change\": -0.011299435028248588, \"Mean_Score\": 0.020707081459287218, \"Percent_of_PosSent\": 0.5, \"Close_roll\": 2104.8, \"Price_Change_roll\": 0.0008653703189668357, \"Mean_Score_roll\": 0.4127208881023095, \"Percent_of_PosSent_roll\": 0.9}, {\"Date\": \"2020-09-24T00:00:00\", \" Open\": 2090.0, \" High\": 2120.0, \" Low\": 2076.0, \" Close\": 2120.0, \" Volume\": 20915, \"Price_Change\": 0.014354066985645933, \"Mean_Score\": 0.7163636961441674, \"Percent_of_PosSent\": 1.0, \"Close_roll\": 2110.8, \"Price_Change_roll\": 0.0010203738227885536, \"Mean_Score_roll\": 0.5093186911218023, \"Percent_of_PosSent_roll\": 0.9}, {\"Date\": \"2020-09-25T00:00:00\", \" Open\": 2120.0, \" High\": 2136.0, \" Low\": 2090.0, \" Close\": 2120.0, \" Volume\": 45095, \"Price_Change\": 0.0, \"Mean_Score\": 0.05384611874261461, \"Percent_of_PosSent\": 0.25, \"Close_roll\": 2106.8, \"Price_Change_roll\": -0.0029834393325975286, \"Mean_Score_roll\": 0.32008811487012523, \"Percent_of_PosSent_roll\": 0.75}, {\"Date\": \"2020-09-28T00:00:00\", \" Open\": 2112.0, \" High\": 2112.0, \" Low\": 2086.0, \" Close\": 2086.0, \" Volume\": 19395, \"Price_Change\": -0.01231060606060606, \"Mean_Score\": 0.42690054927804727, \"Percent_of_PosSent\": 1.0, \"Close_roll\": 2101.2, \"Price_Change_roll\": -0.0050678457194118474, \"Mean_Score_roll\": 0.27213491361461983, \"Percent_of_PosSent_roll\": 0.75}, {\"Date\": \"2020-09-29T00:00:00\", \" Open\": 2088.0, \" High\": 2118.0, \" Low\": 2080.0, \" Close\": 2088.0, \" Volume\": 29785, \"Price_Change\": 0.0, \"Mean_Score\": 0.2640827885259063, \"Percent_of_PosSent\": 0.7777777777777778, \"Close_roll\": 2102.8, \"Price_Change_roll\": -0.0018511948206417432, \"Mean_Score_roll\": 0.2963800468300046, \"Percent_of_PosSent_roll\": 0.7055555555555555}, {\"Date\": \"2020-09-30T00:00:00\", \" Open\": 2098.0, \" High\": 2136.0, \" Low\": 2080.0, \" Close\": 2080.0, \" Volume\": 44815, \"Price_Change\": -0.008579599618684462, \"Mean_Score\": 0.0, \"Percent_of_PosSent\": 0.0, \"Close_roll\": 2098.8, \"Price_Change_roll\": -0.001307227738728918, \"Mean_Score_roll\": 0.29223863053814714, \"Percent_of_PosSent_roll\": 0.6055555555555555}, {\"Date\": \"2020-10-01T00:00:00\", \" Open\": 2080.0, \" High\": 2118.0, \" Low\": 2080.0, \" Close\": 2100.0, \" Volume\": 6665, \"Price_Change\": 0.009615384615384616, \"Mean_Score\": 0.0, \"Percent_of_PosSent\": 0.0, \"Close_roll\": 2094.8, \"Price_Change_roll\": -0.002254964212781181, \"Mean_Score_roll\": 0.14896589130931365, \"Percent_of_PosSent_roll\": 0.40555555555555556}, {\"Date\": \"2020-10-02T00:00:00\", \" Open\": 2112.0, \" High\": 2120.0, \" Low\": 2080.0, \" Close\": 2120.0, \" Volume\": 33985, \"Price_Change\": 0.003787878787878788, \"Mean_Score\": 0.5999998966666845, \"Percent_of_PosSent\": 1.0, \"Close_roll\": 2094.8, \"Price_Change_roll\": -0.0014973884552054238, \"Mean_Score_roll\": 0.25819664689412763, \"Percent_of_PosSent_roll\": 0.5555555555555556}, {\"Date\": \"2020-10-05T00:00:00\", \" Open\": 2124.0, \" High\": 2124.0, \" Low\": 2052.0, \" Close\": 2052.0, \" Volume\": 30455, \"Price_Change\": -0.03389830508474576, \"Mean_Score\": 0.5999998966666845, \"Percent_of_PosSent\": 1.0, \"Close_roll\": 2088.0, \"Price_Change_roll\": -0.005814928260033364, \"Mean_Score_roll\": 0.2928165163718551, \"Percent_of_PosSent_roll\": 0.5555555555555556}, {\"Date\": \"2020-10-06T00:00:00\", \" Open\": 2060.0, \" High\": 2100.0, \" Low\": 2040.0, \" Close\": 2040.0, \" Volume\": 26420, \"Price_Change\": -0.009708737864077669, \"Mean_Score\": 0.12614379147955734, \"Percent_of_PosSent\": 0.6666666666666666, \"Close_roll\": 2078.4, \"Price_Change_roll\": -0.007756675832848897, \"Mean_Score_roll\": 0.2652287169625853, \"Percent_of_PosSent_roll\": 0.5333333333333333}, {\"Date\": \"2020-10-07T00:00:00\", \" Open\": 2040.0, \" High\": 2084.0, \" Low\": 2000.0, \" Close\": 2000.0, \" Volume\": 56275, \"Price_Change\": -0.0196078431372549, \"Mean_Score\": 0.0, \"Percent_of_PosSent\": 0.0, \"Close_roll\": 2062.4, \"Price_Change_roll\": -0.009962324536562987, \"Mean_Score_roll\": 0.2652287169625853, \"Percent_of_PosSent_roll\": 0.5333333333333333}, {\"Date\": \"2020-10-08T00:00:00\", \" Open\": 2040.0, \" High\": 2070.0, \" Low\": 2010.0, \" Close\": 2052.0, \" Volume\": 55150, \"Price_Change\": 0.0058823529411764705, \"Mean_Score\": 0.0, \"Percent_of_PosSent\": 0.0, \"Close_roll\": 2052.8, \"Price_Change_roll\": -0.010708930871404615, \"Mean_Score_roll\": 0.2652287169625853, \"Percent_of_PosSent_roll\": 0.5333333333333333}, {\"Date\": \"2020-10-09T00:00:00\", \" Open\": 2070.0, \" High\": 2070.0, \" Low\": 2016.0, \" Close\": 2050.0, \" Volume\": 32735, \"Price_Change\": -0.00966183574879227, \"Mean_Score\": 0.0, \"Percent_of_PosSent\": 0.0, \"Close_roll\": 2038.8, \"Price_Change_roll\": -0.013398873778738826, \"Mean_Score_roll\": 0.1452287376292484, \"Percent_of_PosSent_roll\": 0.3333333333333333}, {\"Date\": \"2020-10-12T00:00:00\", \" Open\": 2050.0, \" High\": 2060.0, \" Low\": 2002.0, \" Close\": 2002.0, \" Volume\": 77050, \"Price_Change\": -0.023414634146341463, \"Mean_Score\": 0.3333333111111126, \"Percent_of_PosSent\": 1.0, \"Close_roll\": 2028.8, \"Price_Change_roll\": -0.011302139591057967, \"Mean_Score_roll\": 0.09189542051813401, \"Percent_of_PosSent_roll\": 0.3333333333333333}, {\"Date\": \"2020-10-13T00:00:00\", \" Open\": 2008.0, \" High\": 2048.0, \" Low\": 2002.0, \" Close\": 2002.0, \" Volume\": 42065, \"Price_Change\": -0.00298804780876494, \"Mean_Score\": 0.3333333111111126, \"Percent_of_PosSent\": 1.0, \"Close_roll\": 2021.2, \"Price_Change_roll\": -0.00995800157999542, \"Mean_Score_roll\": 0.13333332444444507, \"Percent_of_PosSent_roll\": 0.4}, {\"Date\": \"2020-10-14T00:00:00\", \" Open\": 2002.0, \" High\": 2044.0, \" Low\": 1996.0, \" Close\": 2010.0, \" Volume\": 83645, \"Price_Change\": 0.003996003996003996, \"Mean_Score\": 0.19191917334966002, \"Percent_of_PosSent\": 1.0, \"Close_roll\": 2023.2, \"Price_Change_roll\": -0.005237232153343643, \"Mean_Score_roll\": 0.17171715911437707, \"Percent_of_PosSent_roll\": 0.6}, {\"Date\": \"2020-10-15T00:00:00\", \" Open\": 2010.0, \" High\": 2028.0, \" Low\": 2002.0, \" Close\": 2010.0, \" Volume\": 59315, \"Price_Change\": 0.0, \"Mean_Score\": 0.39590955271283773, \"Percent_of_PosSent\": 0.5, \"Close_roll\": 2014.8, \"Price_Change_roll\": -0.006413702741578936, \"Mean_Score_roll\": 0.2508990696569446, \"Percent_of_PosSent_roll\": 0.7}, {\"Date\": \"2020-10-16T00:00:00\", \" Open\": 2022.0, \" High\": 2036.0, \" Low\": 1992.0, \" Close\": 1992.0, \" Volume\": 84550, \"Price_Change\": -0.01483679525222552, \"Mean_Score\": 0.39590955271283773, \"Percent_of_PosSent\": 0.5, \"Close_roll\": 2003.2, \"Price_Change_roll\": -0.007448694642265587, \"Mean_Score_roll\": 0.33008098019951215, \"Percent_of_PosSent_roll\": 0.8}, {\"Date\": \"2020-10-19T00:00:00\", \" Open\": 1998.0, \" High\": 2008.0, \" Low\": 1998.0, \" Close\": 2002.0, \" Volume\": 56810, \"Price_Change\": 0.002002002002002002, \"Mean_Score\": 0.39590955271283773, \"Percent_of_PosSent\": 0.5, \"Close_roll\": 2003.2, \"Price_Change_roll\": -0.0023653674125968934, \"Mean_Score_roll\": 0.3425962285198572, \"Percent_of_PosSent_roll\": 0.7}, {\"Date\": \"2020-10-20T00:00:00\", \" Open\": 2004.0, \" High\": 2016.0, \" Low\": 2000.0, \" Close\": 2006.0, \" Volume\": 74050, \"Price_Change\": 0.000998003992015968, \"Mean_Score\": -0.1151515022589546, \"Percent_of_PosSent\": 0.3333333333333333, \"Close_roll\": 2004.0, \"Price_Change_roll\": -0.0015681570524407116, \"Mean_Score_roll\": 0.2528992658458437, \"Percent_of_PosSent_roll\": 0.5666666666666667}, {\"Date\": \"2020-10-21T00:00:00\", \" Open\": 2028.0, \" High\": 2028.0, \" Low\": 2006.0, \" Close\": 2010.0, \" Volume\": 114020, \"Price_Change\": -0.008875739644970414, \"Mean_Score\": -0.1151515022589546, \"Percent_of_PosSent\": 0.3333333333333333, \"Close_roll\": 2004.0, \"Price_Change_roll\": -0.004142505780635594, \"Mean_Score_roll\": 0.19148513072412082, \"Percent_of_PosSent_roll\": 0.4333333333333333}, {\"Date\": \"2020-10-22T00:00:00\", \" Open\": 2014.0, \" High\": 2058.0, \" Low\": 2014.0, \" Close\": 2038.0, \" Volume\": 87975, \"Price_Change\": 0.011916583912611719, \"Mean_Score\": -0.1151515022589546, \"Percent_of_PosSent\": 0.3333333333333333, \"Close_roll\": 2009.6, \"Price_Change_roll\": -0.0017591889981132505, \"Mean_Score_roll\": 0.08927291972976234, \"Percent_of_PosSent_roll\": 0.4}, {\"Date\": \"2020-10-23T00:00:00\", \" Open\": 2060.0, \" High\": 2096.0, \" Low\": 2018.0, \" Close\": 2020.0, \" Volume\": 77775, \"Price_Change\": -0.019417475728155338, \"Mean_Score\": 0.16666661111112963, \"Percent_of_PosSent\": 0.5, \"Close_roll\": 2015.2, \"Price_Change_roll\": -0.002675325093299214, \"Mean_Score_roll\": 0.04342433140942074, \"Percent_of_PosSent_roll\": 0.4}, {\"Date\": \"2020-10-26T00:00:00\", \" Open\": 2040.0, \" High\": 2050.0, \" Low\": 2024.0, \" Close\": 2034.0, \" Volume\": 29435, \"Price_Change\": -0.0029411764705882353, \"Mean_Score\": 0.5921052243190239, \"Percent_of_PosSent\": 1.0, \"Close_roll\": 2021.6, \"Price_Change_roll\": -0.003663960787817261, \"Mean_Score_roll\": 0.08266346573065797, \"Percent_of_PosSent_roll\": 0.5}, {\"Date\": \"2020-10-27T00:00:00\", \" Open\": 2060.0, \" High\": 2080.0, \" Low\": 2040.0, \" Close\": 2050.0, \" Volume\": 89300, \"Price_Change\": -0.0048543689320388345, \"Mean_Score\": 0.5921052243190239, \"Percent_of_PosSent\": 1.0, \"Close_roll\": 2030.4, \"Price_Change_roll\": -0.0048344353726282215, \"Mean_Score_roll\": 0.2241148110462537, \"Percent_of_PosSent_roll\": 0.6333333333333333}, {\"Date\": \"2020-10-28T00:00:00\", \" Open\": 2080.0, \" High\": 2100.0, \" Low\": 2052.0, \" Close\": 2100.0, \" Volume\": 99525, \"Price_Change\": 0.009615384615384616, \"Mean_Score\": 0.5921052243190239, \"Percent_of_PosSent\": 1.0, \"Close_roll\": 2048.4, \"Price_Change_roll\": -0.0011362105205572157, \"Mean_Score_roll\": 0.36556615636184936, \"Percent_of_PosSent_roll\": 0.7666666666666667}, {\"Date\": \"2020-10-29T00:00:00\", \" Open\": 2060.0, \" High\": 2098.0, \" Low\": 2054.0, \" Close\": 2060.0, \" Volume\": 43425, \"Price_Change\": 0.0, \"Mean_Score\": 0.49999987500003124, \"Percent_of_PosSent\": 1.0, \"Close_roll\": 2052.8, \"Price_Change_roll\": -0.0035195273030795594, \"Mean_Score_roll\": 0.48859643181364654, \"Percent_of_PosSent_roll\": 0.9}, {\"Date\": \"2020-10-30T00:00:00\", \" Open\": 2060.0, \" High\": 2096.0, \" Low\": 2030.0, \" Close\": 2030.0, \" Volume\": 58950, \"Price_Change\": -0.014563106796116505, \"Mean_Score\": 0.49999987500003124, \"Percent_of_PosSent\": 1.0, \"Close_roll\": 2054.8, \"Price_Change_roll\": -0.0025486535166717927, \"Mean_Score_roll\": 0.5552630845914269, \"Percent_of_PosSent_roll\": 1.0}, {\"Date\": \"2020-11-03T00:00:00\", \" Open\": 2032.0, \" High\": 2082.0, \" Low\": 2012.0, \" Close\": 2020.0, \" Volume\": 56460, \"Price_Change\": -0.005905511811023622, \"Mean_Score\": 0.49999987500003124, \"Percent_of_PosSent\": 1.0, \"Close_roll\": 2052.0, \"Price_Change_roll\": -0.0031415205847588703, \"Mean_Score_roll\": 0.5368420147276283, \"Percent_of_PosSent_roll\": 1.0}, {\"Date\": \"2020-11-04T00:00:00\", \" Open\": 2044.0, \" High\": 2044.0, \" Low\": 2002.0, \" Close\": 2002.0, \" Volume\": 103295, \"Price_Change\": -0.02054794520547945, \"Mean_Score\": 0.0187590204893708, \"Percent_of_PosSent\": 0.6666666666666666, \"Close_roll\": 2042.4, \"Price_Change_roll\": -0.006280235839446993, \"Mean_Score_roll\": 0.4221727739616977, \"Percent_of_PosSent_roll\": 0.9333333333333333}, {\"Date\": \"2020-11-05T00:00:00\", \" Open\": 2034.0, \" High\": 2078.0, \" Low\": 2014.0, \" Close\": 2014.0, \" Volume\": 52595, \"Price_Change\": -0.00983284169124877, \"Mean_Score\": 0.7142856632653098, \"Percent_of_PosSent\": 1.0, \"Close_roll\": 2025.2, \"Price_Change_roll\": -0.01016988110077367, \"Mean_Score_roll\": 0.44660886175095493, \"Percent_of_PosSent_roll\": 0.9333333333333333}, {\"Date\": \"2020-11-06T00:00:00\", \" Open\": 2046.0, \" High\": 2076.0, \" Low\": 2018.0, \" Close\": 2068.0, \" Volume\": 111870, \"Price_Change\": 0.010752688172043012, \"Mean_Score\": 0.3333333148148158, \"Percent_of_PosSent\": 1.0, \"Close_roll\": 2026.8, \"Price_Change_roll\": -0.008019343466365068, \"Mean_Score_roll\": 0.4132755497139118, \"Percent_of_PosSent_roll\": 0.9333333333333333}, {\"Date\": \"2020-11-09T00:00:00\", \" Open\": 2072.0, \" High\": 2108.0, \" Low\": 2068.0, \" Close\": 2100.0, \" Volume\": 93910, \"Price_Change\": 0.013513513513513514, \"Mean_Score\": 0.3333333148148158, \"Percent_of_PosSent\": 1.0, \"Close_roll\": 2040.8, \"Price_Change_roll\": -0.002404019404439064, \"Mean_Score_roll\": 0.37994223767686874, \"Percent_of_PosSent_roll\": 0.9333333333333333}, {\"Date\": \"2020-11-10T00:00:00\", \" Open\": 2100.0, \" High\": 2102.0, \" Low\": 2020.0, \" Close\": 2030.0, \" Volume\": 109925, \"Price_Change\": -0.03333333333333333, \"Mean_Score\": 0.6568627075483809, \"Percent_of_PosSent\": 1.0, \"Close_roll\": 2042.8, \"Price_Change_roll\": -0.007889583708901006, \"Mean_Score_roll\": 0.41131480418653865, \"Percent_of_PosSent_roll\": 0.9333333333333333}, {\"Date\": \"2020-11-11T00:00:00\", \" Open\": 2044.0, \" High\": 2076.0, \" Low\": 2024.0, \" Close\": 2040.0, \" Volume\": 120015, \"Price_Change\": -0.0019569471624266144, \"Mean_Score\": 0.3666666281481522, \"Percent_of_PosSent\": 1.0, \"Close_roll\": 2050.4, \"Price_Change_roll\": -0.0041713841002904385, \"Mean_Score_roll\": 0.4808963257182949, \"Percent_of_PosSent_roll\": 1.0}, {\"Date\": \"2020-11-13T00:00:00\", \" Open\": 2060.0, \" High\": 2060.0, \" Low\": 1980.0, \" Close\": 1992.0, \" Volume\": 175465, \"Price_Change\": -0.03300970873786408, \"Mean_Score\": 0.3666666281481522, \"Percent_of_PosSent\": 1.0, \"Close_roll\": 2046.0, \"Price_Change_roll\": -0.0088067575096135, \"Mean_Score_roll\": 0.4113725186948634, \"Percent_of_PosSent_roll\": 1.0}, {\"Date\": \"2020-11-16T00:00:00\", \" Open\": 2012.0, \" High\": 2030.0, \" Low\": 1992.0, \" Close\": 2020.0, \" Volume\": 57170, \"Price_Change\": 0.003976143141153081, \"Mean_Score\": 0.2815249158052481, \"Percent_of_PosSent\": 1.0, \"Close_roll\": 2036.4, \"Price_Change_roll\": -0.010162066515791487, \"Mean_Score_roll\": 0.4010108388929499, \"Percent_of_PosSent_roll\": 1.0}, {\"Date\": \"2020-11-17T00:00:00\", \" Open\": 2006.0, \" High\": 2030.0, \" Low\": 2006.0, \" Close\": 2028.0, \" Volume\": 68965, \"Price_Change\": 0.010967098703888335, \"Mean_Score\": 0.29032257127991706, \"Percent_of_PosSent\": 1.0, \"Close_roll\": 2022.0, \"Price_Change_roll\": -0.010671349477716524, \"Mean_Score_roll\": 0.39240869018597013, \"Percent_of_PosSent_roll\": 1.0}, {\"Date\": \"2020-11-18T00:00:00\", \" Open\": 2020.0, \" High\": 2026.0, \" Low\": 2002.0, \" Close\": 2016.0, \" Volume\": 75775, \"Price_Change\": -0.0019801980198019802, \"Mean_Score\": 0.399999770000121, \"Percent_of_PosSent\": 0.5, \"Close_roll\": 2019.2, \"Price_Change_roll\": -0.004400722415010253, \"Mean_Score_roll\": 0.3410361026763181, \"Percent_of_PosSent_roll\": 0.9}, {\"Date\": \"2020-11-19T00:00:00\", \" Open\": 2018.0, \" High\": 2040.0, \" Low\": 2006.0, \" Close\": 2006.0, \" Volume\": 72635, \"Price_Change\": -0.005946481665014866, \"Mean_Score\": 0.23958330967882235, \"Percent_of_PosSent\": 0.5, \"Close_roll\": 2012.4, \"Price_Change_roll\": -0.005198629315527903, \"Mean_Score_roll\": 0.31561943898245215, \"Percent_of_PosSent_roll\": 0.8}, {\"Date\": \"2020-11-20T00:00:00\", \" Open\": 2026.0, \" High\": 2048.0, \" Low\": 2008.0, \" Close\": 2008.0, \" Volume\": 96810, \"Price_Change\": -0.008884501480750246, \"Mean_Score\": 0.41535347415081103, \"Percent_of_PosSent\": 1.0, \"Close_roll\": 2015.6, \"Price_Change_roll\": -0.0003735878641051356, \"Mean_Score_roll\": 0.32535680818298396, \"Percent_of_PosSent_roll\": 0.8}, {\"Date\": \"2020-11-23T00:00:00\", \" Open\": 2028.0, \" High\": 2050.0, \" Low\": 2014.0, \" Close\": 2048.0, \" Volume\": 61410, \"Price_Change\": 0.009861932938856016, \"Mean_Score\": 0.41535347415081103, \"Percent_of_PosSent\": 1.0, \"Close_roll\": 2021.2, \"Price_Change_roll\": 0.0008035700954354514, \"Mean_Score_roll\": 0.35212251985209647, \"Percent_of_PosSent_roll\": 0.8}, {\"Date\": \"2020-11-24T00:00:00\", \" Open\": 2046.0, \" High\": 2048.0, \" Low\": 2002.0, \" Close\": 2002.0, \" Volume\": 93980, \"Price_Change\": -0.021505376344086023, \"Mean_Score\": 0.24387805710331997, \"Percent_of_PosSent\": 1.0, \"Close_roll\": 2016.0, \"Price_Change_roll\": -0.00569092491415942, \"Mean_Score_roll\": 0.3428336170167771, \"Percent_of_PosSent_roll\": 0.8}, {\"Date\": \"2020-11-25T00:00:00\", \" Open\": 2018.0, \" High\": 2018.0, \" Low\": 1998.0, \" Close\": 2000.0, \" Volume\": 77890, \"Price_Change\": -0.008919722497522299, \"Mean_Score\": 0.24387805710331997, \"Percent_of_PosSent\": 1.0, \"Close_roll\": 2012.8, \"Price_Change_roll\": -0.007078829809703484, \"Mean_Score_roll\": 0.3116092744374169, \"Percent_of_PosSent_roll\": 0.9}, {\"Date\": \"2020-11-26T00:00:00\", \" Open\": 2000.0, \" High\": 2020.0, \" Low\": 2000.0, \" Close\": 2014.0, \" Volume\": 117545, \"Price_Change\": 0.007, \"Mean_Score\": 0.5777777169135867, \"Percent_of_PosSent\": 1.0, \"Close_roll\": 2014.4, \"Price_Change_roll\": -0.004489533476700511, \"Mean_Score_roll\": 0.3792481558843698, \"Percent_of_PosSent_roll\": 1.0}, {\"Date\": \"2020-11-27T00:00:00\", \" Open\": 2000.0, \" High\": 2014.0, \" Low\": 1948.0, \" Close\": 1948.0, \" Volume\": 532510, \"Price_Change\": -0.026, \"Mean_Score\": 0.24999996875000394, \"Percent_of_PosSent\": 1.0, \"Close_roll\": 2002.4, \"Price_Change_roll\": -0.007912633180550462, \"Mean_Score_roll\": 0.34617745480420836, \"Percent_of_PosSent_roll\": 1.0}, {\"Date\": \"2020-12-01T00:00:00\", \" Open\": 1950.0, \" High\": 1980.0, \" Low\": 1920.0, \" Close\": 1970.0, \" Volume\": 126220, \"Price_Change\": 0.010256410256410256, \"Mean_Score\": 0.04761903476946515, \"Percent_of_PosSent\": 0.5, \"Close_roll\": 1986.8, \"Price_Change_roll\": -0.007833737717039614, \"Mean_Score_roll\": 0.27263056692793913, \"Percent_of_PosSent_roll\": 0.9}, {\"Date\": \"2020-12-02T00:00:00\", \" Open\": 1972.0, \" High\": 2016.0, \" Low\": 1972.0, \" Close\": 2000.0, \" Volume\": 94425, \"Price_Change\": 0.014198782961460446, \"Mean_Score\": 0.07692307100591762, \"Percent_of_PosSent\": 1.0, \"Close_roll\": 1986.4, \"Price_Change_roll\": -0.00069290585593032, \"Mean_Score_roll\": 0.2392395697084587, \"Percent_of_PosSent_roll\": 0.9}, {\"Date\": \"2020-12-03T00:00:00\", \" Open\": 2010.0, \" High\": 2038.0, \" Low\": 1995.0, \" Close\": 2030.0, \" Volume\": 92825, \"Price_Change\": 0.009950248756218905, \"Mean_Score\": 0.599999880000024, \"Percent_of_PosSent\": 1.0, \"Close_roll\": 1992.4, \"Price_Change_roll\": 0.003081088394817921, \"Mean_Score_roll\": 0.3104639342877995, \"Percent_of_PosSent_roll\": 0.9}, {\"Date\": \"2020-12-04T00:00:00\", \" Open\": 2010.0, \" High\": 2046.0, \" Low\": 2010.0, \" Close\": 2046.0, \" Volume\": 52535, \"Price_Change\": 0.01791044776119403, \"Mean_Score\": 0.33126933149939236, \"Percent_of_PosSent\": 1.0, \"Close_roll\": 1998.8, \"Price_Change_roll\": 0.005263177947056727, \"Mean_Score_roll\": 0.26116225720496067, \"Percent_of_PosSent_roll\": 0.9}, {\"Date\": \"2020-12-07T00:00:00\", \" Open\": 2040.0, \" High\": 2052.0, \" Low\": 2024.0, \" Close\": 2040.0, \" Volume\": 72830, \"Price_Change\": 0.0, \"Mean_Score\": 0.585185156598081, \"Percent_of_PosSent\": 1.0, \"Close_roll\": 2017.2, \"Price_Change_roll\": 0.010463177947056725, \"Mean_Score_roll\": 0.3281992947745761, \"Percent_of_PosSent_roll\": 0.9}, {\"Date\": \"2020-12-09T00:00:00\", \" Open\": 2040.0, \" High\": 2050.0, \" Low\": 2024.0, \" Close\": 2046.0, \" Volume\": 50300, \"Price_Change\": 0.0029411764705882353, \"Mean_Score\": 0.17111110253827205, \"Percent_of_PosSent\": 1.0, \"Close_roll\": 2032.4, \"Price_Change_roll\": 0.009000131189892322, \"Mean_Score_roll\": 0.35289770832833744, \"Percent_of_PosSent_roll\": 1.0}, {\"Date\": \"2020-12-10T00:00:00\", \" Open\": 2046.0, \" High\": 2050.0, \" Low\": 2030.0, \" Close\": 2042.0, \" Volume\": 60180, \"Price_Change\": -0.0019550342130987292, \"Mean_Score\": 0.17111110253827205, \"Percent_of_PosSent\": 1.0, \"Close_roll\": 2040.8, \"Price_Change_roll\": 0.005769367754980487, \"Mean_Score_roll\": 0.3717353146348083, \"Percent_of_PosSent_roll\": 1.0}, {\"Date\": \"2020-12-11T00:00:00\", \" Open\": 2046.0, \" High\": 2056.0, \" Low\": 2024.0, \" Close\": 2036.0, \" Volume\": 69340, \"Price_Change\": -0.004887585532746823, \"Mean_Score\": 0.17111110253827205, \"Percent_of_PosSent\": 1.0, \"Close_roll\": 2042.0, \"Price_Change_roll\": 0.002801800897187342, \"Mean_Score_roll\": 0.28595755914245796, \"Percent_of_PosSent_roll\": 1.0}, {\"Date\": \"2020-12-14T00:00:00\", \" Open\": 2040.0, \" High\": 2050.0, \" Low\": 2030.0, \" Close\": 2038.0, \" Volume\": 38195, \"Price_Change\": -0.000980392156862745, \"Mean_Score\": 0.1274509688100741, \"Percent_of_PosSent\": 0.3333333333333333, \"Close_roll\": 2040.4, \"Price_Change_roll\": -0.0009763670864240138, \"Mean_Score_roll\": 0.24519388660459432, \"Percent_of_PosSent_roll\": 0.8666666666666666}, {\"Date\": \"2020-12-15T00:00:00\", \" Open\": 2040.0, \" High\": 2048.0, \" Low\": 1980.0, \" Close\": 2030.0, \" Volume\": 96550, \"Price_Change\": -0.004901960784313725, \"Mean_Score\": 0.39999996000000404, \"Percent_of_PosSent\": 1.0, \"Close_roll\": 2038.4, \"Price_Change_roll\": -0.001956759243286759, \"Mean_Score_roll\": 0.2081568472849789, \"Percent_of_PosSent_roll\": 0.8666666666666666}, {\"Date\": \"2020-12-16T00:00:00\", \" Open\": 2030.0, \" High\": 2040.0, \" Low\": 2000.0, \" Close\": 2000.0, \" Volume\": 97890, \"Price_Change\": -0.014778325123152709, \"Mean_Score\": 0.7499998687500239, \"Percent_of_PosSent\": 1.0, \"Close_roll\": 2029.2, \"Price_Change_roll\": -0.005500659562034948, \"Mean_Score_roll\": 0.32393460052732925, \"Percent_of_PosSent_roll\": 0.8666666666666666}, {\"Date\": \"2020-12-17T00:00:00\", \" Open\": 2010.0, \" High\": 2040.0, \" Low\": 2010.0, \" Close\": 2040.0, \" Volume\": 23270, \"Price_Change\": 0.014925373134328358, \"Mean_Score\": 0.7499998687500239, \"Percent_of_PosSent\": 1.0, \"Close_roll\": 2028.8, \"Price_Change_roll\": -0.00212457809254953, \"Mean_Score_roll\": 0.4397123537696796, \"Percent_of_PosSent_roll\": 0.8666666666666666}, {\"Date\": \"2020-12-18T00:00:00\", \" Open\": 2038.0, \" High\": 2100.0, \" Low\": 2012.0, \" Close\": 2100.0, \" Volume\": 198105, \"Price_Change\": 0.03042198233562316, \"Mean_Score\": 0.5833333090277788, \"Percent_of_PosSent\": 1.0, \"Close_roll\": 2041.6, \"Price_Change_roll\": 0.004937335481124466, \"Mean_Score_roll\": 0.522156795067581, \"Percent_of_PosSent_roll\": 0.8666666666666666}, {\"Date\": \"2020-12-21T00:00:00\", \" Open\": 2092.0, \" High\": 2092.0, \" Low\": 2040.0, \" Close\": 2060.0, \" Volume\": 24225, \"Price_Change\": -0.015296367112810707, \"Mean_Score\": -0.24999996875000394, \"Percent_of_PosSent\": 0.0, \"Close_roll\": 2046.0, \"Price_Change_roll\": 0.002074140489934874, \"Mean_Score_roll\": 0.4466666075555653, \"Percent_of_PosSent_roll\": 0.8}, {\"Date\": \"2020-12-22T00:00:00\", \" Open\": 2060.0, \" High\": 2060.0, \" Low\": 2022.0, \" Close\": 2034.0, \" Volume\": 39865, \"Price_Change\": -0.01262135922330097, \"Mean_Score\": -0.24999996875000394, \"Percent_of_PosSent\": 0.0, \"Close_roll\": 2046.8, \"Price_Change_roll\": 0.000530260802137425, \"Mean_Score_roll\": 0.31666662180556376, \"Percent_of_PosSent_roll\": 0.6}, {\"Date\": \"2020-12-23T00:00:00\", \" Open\": 2034.0, \" High\": 2058.0, \" Low\": 2010.0, \" Close\": 2010.0, \" Volume\": 42680, \"Price_Change\": -0.011799410029498525, \"Mean_Score\": 0.24999996875000394, \"Percent_of_PosSent\": 1.0, \"Close_roll\": 2048.8, \"Price_Change_roll\": 0.0011260438208682618, \"Mean_Score_roll\": 0.21666664180555978, \"Percent_of_PosSent_roll\": 0.6}, {\"Date\": \"2020-12-28T00:00:00\", \" Open\": 2022.0, \" High\": 2032.0, \" Low\": 2012.0, \" Close\": 2032.0, \" Volume\": 18315, \"Price_Change\": 0.004945598417408506, \"Mean_Score\": -0.9999997500000625, \"Percent_of_PosSent\": 0.0, \"Close_roll\": 2047.2, \"Price_Change_roll\": -0.0008699111225157086, \"Mean_Score_roll\": -0.13333328194445748, \"Percent_of_PosSent_roll\": 0.39999999999999997}, {\"Date\": \"2020-12-29T00:00:00\", \" Open\": 2032.0, \" High\": 2042.0, \" Low\": 2022.0, \" Close\": 2030.0, \" Volume\": 42755, \"Price_Change\": -0.000984251968503937, \"Mean_Score\": -0.9999997500000625, \"Percent_of_PosSent\": 0.0, \"Close_roll\": 2033.2, \"Price_Change_roll\": -0.007151157983341127, \"Mean_Score_roll\": -0.44999989375002575, \"Percent_of_PosSent_roll\": 0.2}, {\"Date\": \"2021-01-04T00:00:00\", \" Open\": 2030.0, \" High\": 2070.0, \" Low\": 2018.0, \" Close\": 2018.0, \" Volume\": 37670, \"Price_Change\": -0.005911330049261084, \"Mean_Score\": 0.33333329629630043, \"Percent_of_PosSent\": 1.0, \"Close_roll\": 2024.8, \"Price_Change_roll\": -0.005274150570631203, \"Mean_Score_roll\": -0.33333324074076487, \"Percent_of_PosSent_roll\": 0.4}, {\"Date\": \"2021-01-05T00:00:00\", \" Open\": 2020.0, \" High\": 2026.0, \" Low\": 2010.0, \" Close\": 2020.0, \" Volume\": 70200, \"Price_Change\": 0.0, \"Mean_Score\": 0.33333329629630043, \"Percent_of_PosSent\": 1.0, \"Close_roll\": 2022.0, \"Price_Change_roll\": -0.0027498787259710093, \"Mean_Score_roll\": -0.216666587731504, \"Percent_of_PosSent_roll\": 0.6}, {\"Date\": \"2021-01-06T00:00:00\", \" Open\": 2020.0, \" High\": 2020.0, \" Low\": 1997.0, \" Close\": 1997.0, \" Volume\": 58680, \"Price_Change\": -0.011386138613861386, \"Mean_Score\": 0.33333329629630043, \"Percent_of_PosSent\": 1.0, \"Close_roll\": 2019.4, \"Price_Change_roll\": -0.0026672244428435814, \"Mean_Score_roll\": -0.1999999222222447, \"Percent_of_PosSent_roll\": 0.6}, {\"Date\": \"2021-01-07T00:00:00\", \" Open\": 2010.0, \" High\": 2056.0, \" Low\": 2000.0, \" Close\": 2000.0, \" Volume\": 41020, \"Price_Change\": -0.004975124378109453, \"Mean_Score\": 0.33333329629630043, \"Percent_of_PosSent\": 1.0, \"Close_roll\": 2013.0, \"Price_Change_roll\": -0.004651369001947172, \"Mean_Score_roll\": 0.0666666870370279, \"Percent_of_PosSent_roll\": 0.8}, {\"Date\": \"2021-01-08T00:00:00\", \" Open\": 2020.0, \" High\": 2028.0, \" Low\": 2004.0, \" Close\": 2020.0, \" Volume\": 102040, \"Price_Change\": 0.0, \"Mean_Score\": 0.33333329629630043, \"Percent_of_PosSent\": 1.0, \"Close_roll\": 2011.0, \"Price_Change_roll\": -0.004454518608246386, \"Mean_Score_roll\": 0.3333332962963005, \"Percent_of_PosSent_roll\": 1.0}, {\"Date\": \"2021-01-11T00:00:00\", \" Open\": 2030.0, \" High\": 2094.0, \" Low\": 2030.0, \" Close\": 2040.0, \" Volume\": 113750, \"Price_Change\": 0.0049261083743842365, \"Mean_Score\": 0.33333329629630043, \"Percent_of_PosSent\": 1.0, \"Close_roll\": 2015.4, \"Price_Change_roll\": -0.002287030923517322, \"Mean_Score_roll\": 0.3333332962963005, \"Percent_of_PosSent_roll\": 1.0}, {\"Date\": \"2021-01-12T00:00:00\", \" Open\": 2046.0, \" High\": 2064.0, \" Low\": 2020.0, \" Close\": 2020.0, \" Volume\": 77145, \"Price_Change\": -0.01270772238514174, \"Mean_Score\": 0.9999997500000625, \"Percent_of_PosSent\": 1.0, \"Close_roll\": 2015.4, \"Price_Change_roll\": -0.004828575400545669, \"Mean_Score_roll\": 0.4666665870370529, \"Percent_of_PosSent_roll\": 1.0}, {\"Date\": \"2021-01-13T00:00:00\", \" Open\": 2050.0, \" High\": 2050.0, \" Low\": 2018.0, \" Close\": 2046.0, \" Volume\": 45180, \"Price_Change\": -0.001951219512195122, \"Mean_Score\": 0.49999987500003124, \"Percent_of_PosSent\": 1.0, \"Close_roll\": 2025.2, \"Price_Change_roll\": -0.002941591580212417, \"Mean_Score_roll\": 0.49999990277779904, \"Percent_of_PosSent_roll\": 1.0}, {\"Date\": \"2021-01-14T00:00:00\", \" Open\": 2026.0, \" High\": 2130.0, \" Low\": 2024.0, \" Close\": 2130.0, \" Volume\": 191380, \"Price_Change\": 0.05133267522211254, \"Mean_Score\": 0.599999880000024, \"Percent_of_PosSent\": 1.0, \"Close_roll\": 2051.2, \"Price_Change_roll\": 0.008319968339831983, \"Mean_Score_roll\": 0.5533332195185438, \"Percent_of_PosSent_roll\": 1.0}, {\"Date\": \"2021-01-15T00:00:00\", \" Open\": 2128.0, \" High\": 2128.0, \" Low\": 2090.0, \" Close\": 2100.0, \" Volume\": 33605, \"Price_Change\": -0.013157894736842105, \"Mean_Score\": 0.1428571224489825, \"Percent_of_PosSent\": 1.0, \"Close_roll\": 2067.2, \"Price_Change_roll\": 0.005688389392463559, \"Mean_Score_roll\": 0.5152379847490802, \"Percent_of_PosSent_roll\": 1.0}, {\"Date\": \"2021-01-18T00:00:00\", \" Open\": 2102.0, \" High\": 2118.0, \" Low\": 2100.0, \" Close\": 2100.0, \" Volume\": 25090, \"Price_Change\": -0.0009514747859181732, \"Mean_Score\": 0.1428571224489825, \"Percent_of_PosSent\": 1.0, \"Close_roll\": 2079.2, \"Price_Change_roll\": 0.0045128727604030775, \"Mean_Score_roll\": 0.47714274997961653, \"Percent_of_PosSent_roll\": 1.0}, {\"Date\": \"2021-01-19T00:00:00\", \" Open\": 2082.0, \" High\": 2106.0, \" Low\": 2060.0, \" Close\": 2060.0, \" Volume\": 78785, \"Price_Change\": -0.010566762728146013, \"Mean_Score\": 0.7313342811253661, \"Percent_of_PosSent\": 1.0, \"Close_roll\": 2087.2, \"Price_Change_roll\": 0.004941064691802223, \"Mean_Score_roll\": 0.4234096562046773, \"Percent_of_PosSent_roll\": 1.0}, {\"Date\": \"2021-01-20T00:00:00\", \" Open\": 2062.0, \" High\": 2120.0, \" Low\": 2060.0, \" Close\": 2100.0, \" Volume\": 51695, \"Price_Change\": 0.01842870999030068, \"Mean_Score\": 0.33333322222225925, \"Percent_of_PosSent\": 1.0, \"Close_roll\": 2098.0, \"Price_Change_roll\": 0.009017050592301384, \"Mean_Score_roll\": 0.390076325649123, \"Percent_of_PosSent_roll\": 1.0}, {\"Date\": \"2021-01-21T00:00:00\", \" Open\": 2100.0, \" High\": 2108.0, \" Low\": 2070.0, \" Close\": 2100.0, \" Volume\": 69900, \"Price_Change\": 0.0, \"Mean_Score\": 0.41666657986113353, \"Percent_of_PosSent\": 1.0, \"Close_roll\": 2092.0, \"Price_Change_roll\": -0.0012494844521211232, \"Mean_Score_roll\": 0.3534096656213448, \"Percent_of_PosSent_roll\": 1.0}, {\"Date\": \"2021-01-22T00:00:00\", \" Open\": 2100.0, \" High\": 2102.0, \" Low\": 2060.0, \" Close\": 2060.0, \" Volume\": 47890, \"Price_Change\": -0.01904761904761905, \"Mean_Score\": 0.9999996666667778, \"Percent_of_PosSent\": 1.0, \"Close_roll\": 2084.0, \"Price_Change_roll\": -0.002427429314276512, \"Mean_Score_roll\": 0.5248381744649039, \"Percent_of_PosSent_roll\": 1.0}, {\"Date\": \"2021-01-25T00:00:00\", \" Open\": 2062.0, \" High\": 2064.0, \" Low\": 2030.0, \" Close\": 2044.0, \" Volume\": 35065, \"Price_Change\": -0.008729388942774006, \"Mean_Score\": 0.17647057785467188, \"Percent_of_PosSent\": 1.0, \"Close_roll\": 2072.8, \"Price_Change_roll\": -0.003983012145647678, \"Mean_Score_roll\": 0.5315608655460418, \"Percent_of_PosSent_roll\": 1.0}, {\"Date\": \"2021-01-26T00:00:00\", \" Open\": 2044.0, \" High\": 2044.0, \" Low\": 2010.0, \" Close\": 2010.0, \" Volume\": 43055, \"Price_Change\": -0.016634050880626222, \"Mean_Score\": 0.17647057785467188, \"Percent_of_PosSent\": 1.0, \"Close_roll\": 2062.8, \"Price_Change_roll\": -0.00519646977614372, \"Mean_Score_roll\": 0.4205881248919029, \"Percent_of_PosSent_roll\": 1.0}, {\"Date\": \"2021-01-27T00:00:00\", \" Open\": 2018.0, \" High\": 2020.0, \" Low\": 1998.0, \" Close\": 2004.0, \" Volume\": 72845, \"Price_Change\": -0.006937561942517344, \"Mean_Score\": 0.17647057785467188, \"Percent_of_PosSent\": 1.0, \"Close_roll\": 2043.6, \"Price_Change_roll\": -0.010269724162707324, \"Mean_Score_roll\": 0.3892155960183854, \"Percent_of_PosSent_roll\": 1.0}, {\"Date\": \"2021-01-28T00:00:00\", \" Open\": 2004.0, \" High\": 2014.0, \" Low\": 1995.0, \" Close\": 2014.0, \" Volume\": 64500, \"Price_Change\": 0.00499001996007984, \"Mean_Score\": 0.17647057785467188, \"Percent_of_PosSent\": 1.0, \"Close_roll\": 2026.4, \"Price_Change_roll\": -0.009271720170691358, \"Mean_Score_roll\": 0.34117639561709306, \"Percent_of_PosSent_roll\": 1.0}, {\"Date\": \"2021-01-29T00:00:00\", \" Open\": 2000.0, \" High\": 2014.0, \" Low\": 1941.0, \" Close\": 1941.0, \" Volume\": 161185, \"Price_Change\": -0.0295, \"Mean_Score\": 0.17647057785467188, \"Percent_of_PosSent\": 1.0, \"Close_roll\": 2002.6, \"Price_Change_roll\": -0.011362196361167547, \"Mean_Score_roll\": 0.17647057785467193, \"Percent_of_PosSent_roll\": 1.0}, {\"Date\": \"2021-02-01T00:00:00\", \" Open\": 1985.0, \" High\": 2020.0, \" Low\": 1984.0, \" Close\": 2020.0, \" Volume\": 36260, \"Price_Change\": 0.017632241813602016, \"Mean_Score\": 0.17647057785467188, \"Percent_of_PosSent\": 1.0, \"Close_roll\": 1997.8, \"Price_Change_roll\": -0.006089870209892342, \"Mean_Score_roll\": 0.17647057785467193, \"Percent_of_PosSent_roll\": 1.0}, {\"Date\": \"2021-02-02T00:00:00\", \" Open\": 2018.0, \" High\": 2046.0, \" Low\": 2000.0, \" Close\": 2046.0, \" Volume\": 49530, \"Price_Change\": 0.013875123885034688, \"Mean_Score\": 0.6754385599671713, \"Percent_of_PosSent\": 1.0, \"Close_roll\": 2005.0, \"Price_Change_roll\": 1.1964743239839537e-05, \"Mean_Score_roll\": 0.2762641742771718, \"Percent_of_PosSent_roll\": 1.0}, {\"Date\": \"2021-02-03T00:00:00\", \" Open\": 2044.0, \" High\": 2044.0, \" Low\": 2002.0, \" Close\": 2002.0, \" Volume\": 73340, \"Price_Change\": -0.02054794520547945, \"Mean_Score\": 0.99999950000025, \"Percent_of_PosSent\": 1.0, \"Close_roll\": 2004.6, \"Price_Change_roll\": -0.002710111909352582, \"Mean_Score_roll\": 0.44096995870628747, \"Percent_of_PosSent_roll\": 1.0}, {\"Date\": \"2021-02-04T00:00:00\", \" Open\": 2010.0, \" High\": 2020.0, \" Low\": 2006.0, \" Close\": 2012.0, \" Volume\": 19875, \"Price_Change\": 0.0009950248756218905, \"Mean_Score\": 0.599999880000024, \"Percent_of_PosSent\": 1.0, \"Close_roll\": 2004.2, \"Price_Change_roll\": -0.003509110926244172, \"Mean_Score_roll\": 0.5256758191353579, \"Percent_of_PosSent_roll\": 1.0}, {\"Date\": \"2021-02-05T00:00:00\", \" Open\": 2012.0, \" High\": 2040.0, \" Low\": 2010.0, \" Close\": 2026.0, \" Volume\": 43245, \"Price_Change\": 0.006958250497017893, \"Mean_Score\": 0.599999880000024, \"Percent_of_PosSent\": 1.0, \"Close_roll\": 2021.2, \"Price_Change_roll\": 0.003782539173159406, \"Mean_Score_roll\": 0.6103816795644283, \"Percent_of_PosSent_roll\": 1.0}, {\"Date\": \"2021-02-08T00:00:00\", \" Open\": 2026.0, \" High\": 2030.0, \" Low\": 2016.0, \" Close\": 2020.0, \" Volume\": 38970, \"Price_Change\": -0.0029615004935834156, \"Mean_Score\": 0.599999880000024, \"Percent_of_PosSent\": 1.0, \"Close_roll\": 2021.2, \"Price_Change_roll\": -0.00033620928827767974, \"Mean_Score_roll\": 0.6950875399934987, \"Percent_of_PosSent_roll\": 1.0}, {\"Date\": \"2021-02-09T00:00:00\", \" Open\": 2020.0, \" High\": 2026.0, \" Low\": 2000.0, \" Close\": 2000.0, \" Volume\": 54445, \"Price_Change\": -0.009900990099009901, \"Mean_Score\": -0.13333329777778502, \"Percent_of_PosSent\": 0.5, \"Close_roll\": 2012.0, \"Price_Change_roll\": -0.005091432085086597, \"Mean_Score_roll\": 0.5333331684445074, \"Percent_of_PosSent_roll\": 0.9}, {\"Date\": \"2021-02-10T00:00:00\", \" Open\": 2002.0, \" High\": 2050.0, \" Low\": 2002.0, \" Close\": 2038.0, \" Volume\": 49990, \"Price_Change\": 0.017982017982017984, \"Mean_Score\": -0.13333329777778502, \"Percent_of_PosSent\": 0.5, \"Close_roll\": 2019.2, \"Price_Change_roll\": 0.0026145605524128895, \"Mean_Score_roll\": 0.3066666088889004, \"Percent_of_PosSent_roll\": 0.8}, {\"Date\": \"2021-02-11T00:00:00\", \" Open\": 2038.0, \" High\": 2050.0, \" Low\": 2038.0, \" Close\": 2040.0, \" Volume\": 18850, \"Price_Change\": 0.0009813542688910696, \"Mean_Score\": -0.3846153560157813, \"Percent_of_PosSent\": 0.0, \"Close_roll\": 2024.8, \"Price_Change_roll\": 0.0026118264310667255, \"Mean_Score_roll\": 0.1097435616857394, \"Percent_of_PosSent_roll\": 0.6}, {\"Date\": \"2021-02-15T00:00:00\", \" Open\": 2040.0, \" High\": 2080.0, \" Low\": 2040.0, \" Close\": 2040.0, \" Volume\": 12130, \"Price_Change\": 0.0, \"Mean_Score\": -0.33333327777778704, \"Percent_of_PosSent\": 0.0, \"Close_roll\": 2027.6, \"Price_Change_roll\": 0.0012201763316631467, \"Mean_Score_roll\": -0.07692306986982282, \"Percent_of_PosSent_roll\": 0.4}, {\"Date\": \"2021-02-16T00:00:00\", \" Open\": 2040.0, \" High\": 2058.0, \" Low\": 2040.0, \" Close\": 2046.0, \" Volume\": 9325, \"Price_Change\": 0.0029411764705882353, \"Mean_Score\": -0.19999993000001948, \"Percent_of_PosSent\": 0.6666666666666666, \"Close_roll\": 2032.8, \"Price_Change_roll\": 0.0024007117244974766, \"Mean_Score_roll\": -0.23692303186983152, \"Percent_of_PosSent_roll\": 0.3333333333333333}, {\"Date\": \"2021-02-17T00:00:00\", \" Open\": 2052.0, \" High\": 2052.0, \" Low\": 2036.0, \" Close\": 2050.0, \" Volume\": 34810, \"Price_Change\": -0.0009746588693957114, \"Mean_Score\": -0.19999993000001948, \"Percent_of_PosSent\": 0.6666666666666666, \"Close_roll\": 2042.8, \"Price_Change_roll\": 0.004185977970420315, \"Mean_Score_roll\": -0.2502563583142784, \"Percent_of_PosSent_roll\": 0.36666666666666664}, {\"Date\": \"2021-02-18T00:00:00\", \" Open\": 2050.0, \" High\": 2060.0, \" Low\": 2030.0, \" Close\": 2030.0, \" Volume\": 56415, \"Price_Change\": -0.00975609756097561, \"Mean_Score\": -0.19999993000001948, \"Percent_of_PosSent\": 0.6666666666666666, \"Close_roll\": 2041.2, \"Price_Change_roll\": -0.001361645138178404, \"Mean_Score_roll\": -0.2635896847587253, \"Percent_of_PosSent_roll\": 0.4}, {\"Date\": \"2021-02-19T00:00:00\", \" Open\": 2030.0, \" High\": 2048.0, \" Low\": 2020.0, \" Close\": 2048.0, \" Volume\": 28930, \"Price_Change\": 0.008866995073891626, \"Mean_Score\": 0.99999950000025, \"Percent_of_PosSent\": 1.0, \"Close_roll\": 2042.8, \"Price_Change_roll\": 0.00021548302282170737, \"Mean_Score_roll\": 0.01333328644448093, \"Percent_of_PosSent_roll\": 0.6}, {\"Date\": \"2021-02-22T00:00:00\", \" Open\": 2048.0, \" High\": 2050.0, \" Low\": 2034.0, \" Close\": 2036.0, \" Volume\": 23825, \"Price_Change\": -0.005859375, \"Mean_Score\": 0.99999950000025, \"Percent_of_PosSent\": 1.0, \"Close_roll\": 2042.0, \"Price_Change_roll\": -0.0009563919771782926, \"Mean_Score_roll\": 0.2799998420000883, \"Percent_of_PosSent_roll\": 0.8}, {\"Date\": \"2021-02-23T00:00:00\", \" Open\": 2036.0, \" High\": 2036.0, \" Low\": 1977.0, \" Close\": 1977.0, \" Volume\": 74935, \"Price_Change\": -0.028978388998035363, \"Mean_Score\": 0.799999440000512, \"Percent_of_PosSent\": 1.0, \"Close_roll\": 2028.2, \"Price_Change_roll\": -0.007340305070903013, \"Mean_Score_roll\": 0.47999971600019464, \"Percent_of_PosSent_roll\": 0.8666666666666666}, {\"Date\": \"2021-02-24T00:00:00\", \" Open\": 2026.0, \" High\": 2026.0, \" Low\": 1985.0, \" Close\": 1985.0, \" Volume\": 68170, \"Price_Change\": -0.020236920039486673, \"Mean_Score\": 0.5238094361300271, \"Percent_of_PosSent\": 1.0, \"Close_roll\": 2015.2, \"Price_Change_roll\": -0.011192757304921206, \"Mean_Score_roll\": 0.624761589226204, \"Percent_of_PosSent_roll\": 0.9333333333333332}, {\"Date\": \"2021-02-26T00:00:00\", \" Open\": 2010.0, \" High\": 2026.0, \" Low\": 1996.0, \" Close\": 2026.0, \" Volume\": 177525, \"Price_Change\": 0.007960199004975124, \"Mean_Score\": 0.6111110539814872, \"Percent_of_PosSent\": 1.0, \"Close_roll\": 2014.4, \"Price_Change_roll\": -0.007649497991731058, \"Mean_Score_roll\": 0.7869837860225053, \"Percent_of_PosSent_roll\": 1.0}, {\"Date\": \"2021-03-01T00:00:00\", \" Open\": 2026.0, \" High\": 2026.0, \" Low\": 2004.0, \" Close\": 2026.0, \" Volume\": 39490, \"Price_Change\": 0.0, \"Mean_Score\": 0.5999999700000015, \"Percent_of_PosSent\": 1.0, \"Close_roll\": 2010.0, \"Price_Change_roll\": -0.009422897006509385, \"Mean_Score_roll\": 0.7069838800224556, \"Percent_of_PosSent_roll\": 1.0}, {\"Date\": \"2021-03-02T00:00:00\", \" Open\": 2028.0, \" High\": 2028.0, \" Low\": 1994.0, \" Close\": 1995.0, \" Volume\": 69430, \"Price_Change\": -0.016272189349112426, \"Mean_Score\": 0.5999999700000015, \"Percent_of_PosSent\": 1.0, \"Close_roll\": 2001.8, \"Price_Change_roll\": -0.011505459876331869, \"Mean_Score_roll\": 0.6269839740224059, \"Percent_of_PosSent_roll\": 1.0}, {\"Date\": \"2021-03-03T00:00:00\", \" Open\": 2028.0, \" High\": 2028.0, \" Low\": 2000.0, \" Close\": 2002.0, \" Volume\": 13790, \"Price_Change\": -0.01282051282051282, \"Mean_Score\": 0.39031337556513396, \"Percent_of_PosSent\": 0.6666666666666666, \"Close_roll\": 2006.8, \"Price_Change_roll\": -0.00827388464082736, \"Mean_Score_roll\": 0.5450467611353302, \"Percent_of_PosSent_roll\": 0.9333333333333333}, {\"Date\": \"2021-03-04T00:00:00\", \" Open\": 2000.0, \" High\": 2012.0, \" Low\": 2000.0, \" Close\": 2000.0, \" Volume\": 34355, \"Price_Change\": 0.0, \"Mean_Score\": 0.5172413614744358, \"Percent_of_PosSent\": 1.0, \"Close_roll\": 2009.8, \"Price_Change_roll\": -0.0042265006329300255, \"Mean_Score_roll\": 0.5437331462042121, \"Percent_of_PosSent_roll\": 0.9333333333333333}, {\"Date\": \"2021-03-05T00:00:00\", \" Open\": 1987.0, \" High\": 2002.0, \" Low\": 1985.0, \" Close\": 1992.0, \" Volume\": 58935, \"Price_Change\": 0.0025163563160543532, \"Mean_Score\": -0.99999950000025, \"Percent_of_PosSent\": 0.0, \"Close_roll\": 2003.0, \"Price_Change_roll\": -0.005315269170714179, \"Mean_Score_roll\": 0.2215110354078646, \"Percent_of_PosSent_roll\": 0.7333333333333333}, {\"Date\": \"2021-03-08T00:00:00\", \" Open\": 1992.0, \" High\": 2000.0, \" Low\": 1985.0, \" Close\": 1991.0, \" Volume\": 43485, \"Price_Change\": -0.000502008032128514, \"Mean_Score\": 0.199999960000008, \"Percent_of_PosSent\": 1.0, \"Close_roll\": 1996.0, \"Price_Change_roll\": -0.005415670777139882, \"Mean_Score_roll\": 0.14151103340786592, \"Percent_of_PosSent_roll\": 0.7333333333333333}, {\"Date\": \"2021-03-09T00:00:00\", \" Open\": 1991.0, \" High\": 1992.0, \" Low\": 1965.0, \" Close\": 1965.0, \" Volume\": 57615, \"Price_Change\": -0.013058764439979909, \"Mean_Score\": 0.4444443256173145, \"Percent_of_PosSent\": 0.5, \"Close_roll\": 1990.0, \"Price_Change_roll\": -0.004772985795313379, \"Mean_Score_roll\": 0.1103999045313285, \"Percent_of_PosSent_roll\": 0.6333333333333333}, {\"Date\": \"2021-03-10T00:00:00\", \" Open\": 1975.0, \" High\": 2018.0, \" Low\": 1955.0, \" Close\": 2018.0, \" Volume\": 39105, \"Price_Change\": 0.021772151898734177, \"Mean_Score\": 0.42857139795918586, \"Percent_of_PosSent\": 1.0, \"Close_roll\": 1993.2, \"Price_Change_roll\": 0.0021455471485360205, \"Mean_Score_roll\": 0.11805150901013887, \"Percent_of_PosSent_roll\": 0.7}, {\"Date\": \"2021-03-11T00:00:00\", \" Open\": 2008.0, \" High\": 2012.0, \" Low\": 1962.0, \" Close\": 1968.0, \" Volume\": 75160, \"Price_Change\": -0.0199203187250996, \"Mean_Score\": 0.42857139795918586, \"Percent_of_PosSent\": 1.0, \"Close_roll\": 1986.8, \"Price_Change_roll\": -0.0018385165964838995, \"Mean_Score_roll\": 0.10031751630708889, \"Percent_of_PosSent_roll\": 0.7}, {\"Date\": \"2021-03-12T00:00:00\", \" Open\": 1969.0, \" High\": 2010.0, \" Low\": 1953.0, \" Close\": 1960.0, \" Volume\": 35680, \"Price_Change\": -0.0045708481462671405, \"Mean_Score\": -0.8947367950138528, \"Percent_of_PosSent\": 0.0, \"Close_roll\": 1980.4, \"Price_Change_roll\": -0.003255957488948198, \"Mean_Score_roll\": 0.12137005730436834, \"Percent_of_PosSent_roll\": 0.7}, {\"Date\": \"2021-03-15T00:00:00\", \" Open\": 1952.0, \" High\": 1980.0, \" Low\": 1940.0, \" Close\": 1980.0, \" Volume\": 53070, \"Price_Change\": 0.014344262295081968, \"Mean_Score\": 0.6666663611112547, \"Percent_of_PosSent\": 1.0, \"Close_roll\": 1978.2, \"Price_Change_roll\": -0.0002867034235061024, \"Mean_Score_roll\": 0.2147033375266177, \"Percent_of_PosSent_roll\": 0.7}, {\"Date\": \"2021-03-16T00:00:00\", \" Open\": 1978.0, \" High\": 1990.0, \" Low\": 1952.0, \" Close\": 1980.0, \" Volume\": 58115, \"Price_Change\": 0.0010111223458038423, \"Mean_Score\": 0.6666663611112547, \"Percent_of_PosSent\": 1.0, \"Close_roll\": 1981.2, \"Price_Change_roll\": 0.002527273933650648, \"Mean_Score_roll\": 0.2591477446254057, \"Percent_of_PosSent_roll\": 0.8}, {\"Date\": \"2021-03-17T00:00:00\", \" Open\": 1990.0, \" High\": 1990.0, \" Low\": 1930.0, \" Close\": 1930.0, \" Volume\": 35420, \"Price_Change\": -0.03015075376884422, \"Mean_Score\": 0.6666663611112547, \"Percent_of_PosSent\": 1.0, \"Close_roll\": 1963.6, \"Price_Change_roll\": -0.007857307199865032, \"Mean_Score_roll\": 0.3067667372558195, \"Percent_of_PosSent_roll\": 0.8}, {\"Date\": \"2021-03-18T00:00:00\", \" Open\": 1978.0, \" High\": 1978.0, \" Low\": 1940.0, \" Close\": 1940.0, \" Volume\": 21950, \"Price_Change\": -0.019211324570273004, \"Mean_Score\": -0.05882352595155729, \"Percent_of_PosSent\": 0.0, \"Close_roll\": 1958.0, \"Price_Change_roll\": -0.007715508368899712, \"Mean_Score_roll\": 0.20928775247367085, \"Percent_of_PosSent_roll\": 0.6}, {\"Date\": \"2021-03-19T00:00:00\", \" Open\": 1976.0, \" High\": 1976.0, \" Low\": 1870.0, \" Close\": 1870.0, \" Volume\": 76560, \"Price_Change\": -0.053643724696356275, \"Mean_Score\": -0.19607840186467218, \"Percent_of_PosSent\": 0.0, \"Close_roll\": 1940.0, \"Price_Change_roll\": -0.01753008367891754, \"Mean_Score_roll\": 0.34901943110350697, \"Percent_of_PosSent_roll\": 0.6}, {\"Date\": \"2021-03-22T00:00:00\", \" Open\": 1910.0, \" High\": 1936.0, \" Low\": 1900.0, \" Close\": 1930.0, \" Volume\": 26460, \"Price_Change\": 0.010471204188481676, \"Mean_Score\": 0.07263157676232694, \"Percent_of_PosSent\": 1.0, \"Close_roll\": 1930.0, \"Price_Change_roll\": -0.018304695300237598, \"Mean_Score_roll\": 0.23021247423372143, \"Percent_of_PosSent_roll\": 0.6}, {\"Date\": \"2021-03-23T00:00:00\", \" Open\": 1932.0, \" High\": 1932.0, \" Low\": 1909.0, \" Close\": 1912.0, \" Volume\": 36025, \"Price_Change\": -0.010351966873706004, \"Mean_Score\": 0.5294117335640156, \"Percent_of_PosSent\": 1.0, \"Close_roll\": 1916.4, \"Price_Change_roll\": -0.020577313144139565, \"Mean_Score_roll\": 0.2027615487242736, \"Percent_of_PosSent_roll\": 0.6}, {\"Date\": \"2021-03-24T00:00:00\", \" Open\": 1913.0, \" High\": 1924.0, \" Low\": 1902.0, \" Close\": 1910.0, \" Volume\": 65400, \"Price_Change\": -0.0015682174594877157, \"Mean_Score\": 0.5294117335640156, \"Percent_of_PosSent\": 1.0, \"Close_roll\": 1912.4, \"Price_Change_roll\": -0.014860805882268267, \"Mean_Score_roll\": 0.1753106232148258, \"Percent_of_PosSent_roll\": 0.6}, {\"Date\": \"2021-03-25T00:00:00\", \" Open\": 1910.0, \" High\": 1913.0, \" Low\": 1900.0, \" Close\": 1900.0, \" Volume\": 39930, \"Price_Change\": -0.005235602094240838, \"Mean_Score\": 0.5294117335640156, \"Percent_of_PosSent\": 1.0, \"Close_roll\": 1904.4, \"Price_Change_roll\": -0.01206566138706183, \"Mean_Score_roll\": 0.2929576751179404, \"Percent_of_PosSent_roll\": 0.8}, {\"Date\": \"2021-03-26T00:00:00\", \" Open\": 1915.0, \" High\": 1918.0, \" Low\": 1900.0, \" Close\": 1900.0, \" Volume\": 32385, \"Price_Change\": -0.007832898172323759, \"Mean_Score\": -0.6666664166667707, \"Percent_of_PosSent\": 0.0, \"Close_roll\": 1910.4, \"Price_Change_roll\": -0.002903496082255328, \"Mean_Score_roll\": 0.19884007215752067, \"Percent_of_PosSent_roll\": 0.8}, {\"Date\": \"2021-03-29T00:00:00\", \" Open\": 1900.0, \" High\": 1932.0, \" Low\": 1891.0, \" Close\": 1910.0, \" Volume\": 28865, \"Price_Change\": 0.005263157894736842, \"Mean_Score\": -0.0476190408163275, \"Percent_of_PosSent\": 0.0, \"Close_roll\": 1906.4, \"Price_Change_roll\": -0.003945105341004295, \"Mean_Score_roll\": 0.1747899486417898, \"Percent_of_PosSent_roll\": 0.6}, {\"Date\": \"2021-03-30T00:00:00\", \" Open\": 1905.0, \" High\": 1912.0, \" Low\": 1900.0, \" Close\": 1901.0, \" Volume\": 18120, \"Price_Change\": -0.002099737532808399, \"Mean_Score\": 0.7532048306831939, \"Percent_of_PosSent\": 1.0, \"Close_roll\": 1904.2, \"Price_Change_roll\": -0.0022946594728247742, \"Mean_Score_roll\": 0.21954856806562545, \"Percent_of_PosSent_roll\": 0.6}, {\"Date\": \"2021-03-31T00:00:00\", \" Open\": 1929.0, \" High\": 1929.0, \" Low\": 1880.0, \" Close\": 1880.0, \" Volume\": 62840, \"Price_Change\": -0.025401762571280455, \"Mean_Score\": 0.7532048306831939, \"Percent_of_PosSent\": 1.0, \"Close_roll\": 1898.2, \"Price_Change_roll\": -0.007061368495183322, \"Mean_Score_roll\": 0.2643071874894611, \"Percent_of_PosSent_roll\": 0.6}, {\"Date\": \"2021-04-05T00:00:00\", \" Open\": 1895.0, \" High\": 1896.0, \" Low\": 1833.0, \" Close\": 1840.0, \" Volume\": 74150, \"Price_Change\": -0.029023746701846966, \"Mean_Score\": 0.7532048306831939, \"Percent_of_PosSent\": 1.0, \"Close_roll\": 1886.2, \"Price_Change_roll\": -0.011818997416704547, \"Mean_Score_roll\": 0.3090658069132967, \"Percent_of_PosSent_roll\": 0.6}, {\"Date\": \"2021-04-06T00:00:00\", \" Open\": 1872.0, \" High\": 1875.0, \" Low\": 1841.0, \" Close\": 1843.0, \" Volume\": 31410, \"Price_Change\": -0.015491452991452992, \"Mean_Score\": 0.7532048306831939, \"Percent_of_PosSent\": 1.0, \"Close_roll\": 1874.8, \"Price_Change_roll\": -0.013350708380530393, \"Mean_Score_roll\": 0.5930400563832896, \"Percent_of_PosSent_roll\": 0.8}, {\"Date\": \"2021-04-07T00:00:00\", \" Open\": 1845.0, \" High\": 1845.0, \" Low\": 1825.0, \" Close\": 1838.0, \" Volume\": 54105, \"Price_Change\": -0.003794037940379404, \"Mean_Score\": -0.23809517233562089, \"Percent_of_PosSent\": 0.0, \"Close_roll\": 1860.4, \"Price_Change_roll\": -0.015162147547553642, \"Mean_Score_roll\": 0.5549448300794311, \"Percent_of_PosSent_roll\": 0.8}, {\"Date\": \"2021-04-08T00:00:00\", \" Open\": 1852.0, \" High\": 1857.0, \" Low\": 1830.0, \" Close\": 1830.0, \" Volume\": 53225, \"Price_Change\": -0.011879049676025918, \"Mean_Score\": -0.23809517233562089, \"Percent_of_PosSent\": 0.0, \"Close_roll\": 1846.2, \"Price_Change_roll\": -0.017118009976197147, \"Mean_Score_roll\": 0.35668482947566804, \"Percent_of_PosSent_roll\": 0.6}, {\"Date\": \"2021-04-12T00:00:00\", \" Open\": 1832.0, \" High\": 1848.0, \" Low\": 1820.0, \" Close\": 1825.0, \" Volume\": 37000, \"Price_Change\": -0.003820960698689956, \"Mean_Score\": -0.23809517233562089, \"Percent_of_PosSent\": 0.0, \"Close_roll\": 1835.2, \"Price_Change_roll\": -0.012801849601679047, \"Mean_Score_roll\": 0.15842482887190507, \"Percent_of_PosSent_roll\": 0.4}, {\"Date\": \"2021-04-13T00:00:00\", \" Open\": 1825.0, \" High\": 1826.0, \" Low\": 1805.0, \" Close\": 1825.0, \" Volume\": 52435, \"Price_Change\": 0.0, \"Mean_Score\": -0.23809517233562089, \"Percent_of_PosSent\": 0.0, \"Close_roll\": 1832.2, \"Price_Change_roll\": -0.006997100261309654, \"Mean_Score_roll\": -0.03983517173185787, \"Percent_of_PosSent_roll\": 0.2}, {\"Date\": \"2021-04-14T00:00:00\", \" Open\": 1830.0, \" High\": 1844.0, \" Low\": 1825.0, \" Close\": 1843.0, \" Volume\": 49010, \"Price_Change\": 0.007103825136612022, \"Mean_Score\": -0.1428571224489825, \"Percent_of_PosSent\": 0.0, \"Close_roll\": 1832.2, \"Price_Change_roll\": -0.002478044635696651, \"Mean_Score_roll\": -0.21904756235829312, \"Percent_of_PosSent_roll\": 0.0}, {\"Date\": \"2021-04-15T00:00:00\", \" Open\": 1843.0, \" High\": 1843.0, \" Low\": 1832.0, \" Close\": 1835.0, \" Volume\": 47885, \"Price_Change\": -0.004340748779164406, \"Mean_Score\": -0.1428571224489825, \"Percent_of_PosSent\": 0.0, \"Close_roll\": 1831.6, \"Price_Change_roll\": -0.0025873868034536514, \"Mean_Score_roll\": -0.19999995238096546, \"Percent_of_PosSent_roll\": 0.0}, {\"Date\": \"2021-04-16T00:00:00\", \" Open\": 1836.0, \" High\": 1850.0, \" Low\": 1835.0, \" Close\": 1850.0, \" Volume\": 34925, \"Price_Change\": 0.007625272331154684, \"Mean_Score\": -0.1428571224489825, \"Percent_of_PosSent\": 0.0, \"Close_roll\": 1835.6, \"Price_Change_roll\": 0.001313477597982469, \"Mean_Score_roll\": -0.18095234240363778, \"Percent_of_PosSent_roll\": 0.0}, {\"Date\": \"2021-04-19T00:00:00\", \" Open\": 1850.0, \" High\": 1850.0, \" Low\": 1841.0, \" Close\": 1850.0, \" Volume\": 41300, \"Price_Change\": 0.0, \"Mean_Score\": 0.33333322222225925, \"Percent_of_PosSent\": 0.3333333333333333, \"Close_roll\": 1840.6, \"Price_Change_roll\": 0.00207766973772046, \"Mean_Score_roll\": -0.06666666349206174, \"Percent_of_PosSent_roll\": 0.06666666666666667}, {\"Date\": \"2021-04-20T00:00:00\", \" Open\": 1855.0, \" High\": 1880.0, \" Low\": 1851.0, \" Close\": 1864.0, \" Volume\": 67460, \"Price_Change\": 0.004851752021563342, \"Mean_Score\": 2.7777763894620833e-08, \"Percent_of_PosSent\": 0.5, \"Close_roll\": 1848.4, \"Price_Change_roll\": 0.0030480201420331286, \"Mean_Score_roll\": -0.019047623469384795, \"Percent_of_PosSent_roll\": 0.16666666666666666}, {\"Date\": \"2021-04-21T00:00:00\", \" Open\": 1867.0, \" High\": 1873.0, \" Low\": 1853.0, \" Close\": 1866.0, \" Volume\": 60065, \"Price_Change\": -0.0005356186395286556, \"Mean_Score\": 0.07692307100591762, \"Percent_of_PosSent\": 1.0, \"Close_roll\": 1853.0, \"Price_Change_roll\": 0.001520131386804993, \"Mean_Score_roll\": 0.024908415221595228, \"Percent_of_PosSent_roll\": 0.36666666666666664}, {\"Date\": \"2021-04-22T00:00:00\", \" Open\": 1870.0, \" High\": 1877.0, \" Low\": 1860.0, \" Close\": 1866.0, \" Volume\": 24180, \"Price_Change\": -0.0021390374331550803, \"Mean_Score\": 0.33333322222225925, \"Percent_of_PosSent\": 1.0, \"Close_roll\": 1859.2, \"Price_Change_roll\": 0.001960473656006858, \"Mean_Score_roll\": 0.12014648415584359, \"Percent_of_PosSent_roll\": 0.5666666666666667}, {\"Date\": \"2021-04-23T00:00:00\", \" Open\": 1866.0, \" High\": 1877.0, \" Low\": 1866.0, \" Close\": 1870.0, \" Volume\": 28220, \"Price_Change\": 0.0021436227224008574, \"Mean_Score\": 0.9999996666667778, \"Percent_of_PosSent\": 1.0, \"Close_roll\": 1863.2, \"Price_Change_roll\": 0.0008641437342560929, \"Mean_Score_roll\": 0.34871784197899564, \"Percent_of_PosSent_roll\": 0.7666666666666666}, {\"Date\": \"2021-04-26T00:00:00\", \" Open\": 1877.0, \" High\": 1920.0, \" Low\": 1871.0, \" Close\": 1920.0, \" Volume\": 19185, \"Price_Change\": 0.02290889717634523, \"Mean_Score\": 0.9999996666667778, \"Percent_of_PosSent\": 1.0, \"Close_roll\": 1877.2, \"Price_Change_roll\": 0.00544592316952514, \"Mean_Score_roll\": 0.4820511308678993, \"Percent_of_PosSent_roll\": 0.9}, {\"Date\": \"2021-04-27T00:00:00\", \" Open\": 1914.0, \" High\": 1915.0, \" Low\": 1896.0, \" Close\": 1900.0, \" Volume\": 33155, \"Price_Change\": -0.0073145245559038665, \"Mean_Score\": 0.9999996666667778, \"Percent_of_PosSent\": 1.0, \"Close_roll\": 1884.4, \"Price_Change_roll\": 0.003012667854031697, \"Mean_Score_roll\": 0.6820510586457021, \"Percent_of_PosSent_roll\": 1.0}, {\"Date\": \"2021-04-28T00:00:00\", \" Open\": 1901.0, \" High\": 1919.0, \" Low\": 1883.0, \" Close\": 1886.0, \" Volume\": 49115, \"Price_Change\": -0.007890583903208837, \"Mean_Score\": 0.5142856236734857, \"Percent_of_PosSent\": 1.0, \"Close_roll\": 1888.4, \"Price_Change_roll\": 0.0015416748012956605, \"Mean_Score_roll\": 0.7695235691792157, \"Percent_of_PosSent_roll\": 1.0}, {\"Date\": \"2021-04-29T00:00:00\", \" Open\": 1900.0, \" High\": 1900.0, \" Low\": 1871.0, \" Close\": 1886.0, \" Volume\": 28735, \"Price_Change\": -0.007368421052631579, \"Mean_Score\": 0.0, \"Percent_of_PosSent\": 0.0, \"Close_roll\": 1892.4, \"Price_Change_roll\": 0.0004957980774003606, \"Mean_Score_roll\": 0.7028569247347638, \"Percent_of_PosSent_roll\": 0.8}, {\"Date\": \"2021-04-30T00:00:00\", \" Open\": 1890.0, \" High\": 1900.0, \" Low\": 1833.0, \" Close\": 1833.0, \" Volume\": 115730, \"Price_Change\": -0.03015873015873016, \"Mean_Score\": 0.0, \"Percent_of_PosSent\": 0.0, \"Close_roll\": 1885.0, \"Price_Change_roll\": -0.0059646724988258425, \"Mean_Score_roll\": 0.5028569914014083, \"Percent_of_PosSent_roll\": 0.6}, {\"Date\": \"2021-05-03T00:00:00\", \" Open\": 1839.0, \" High\": 1850.0, \" Low\": 1830.0, \" Close\": 1830.0, \" Volume\": 33175, \"Price_Change\": -0.004893964110929853, \"Mean_Score\": 0.0, \"Percent_of_PosSent\": 0.0, \"Close_roll\": 1867.0, \"Price_Change_roll\": -0.011525244756280858, \"Mean_Score_roll\": 0.3028570580680528, \"Percent_of_PosSent_roll\": 0.39999999999999997}, {\"Date\": \"2021-05-04T00:00:00\", \" Open\": 1854.0, \" High\": 1854.0, \" Low\": 1825.0, \" Close\": 1825.0, \" Volume\": 56320, \"Price_Change\": -0.01564185544768069, \"Mean_Score\": 0.0, \"Percent_of_PosSent\": 0.0, \"Close_roll\": 1852.0, \"Price_Change_roll\": -0.013190710934636224, \"Mean_Score_roll\": 0.10285712473469719, \"Percent_of_PosSent_roll\": 0.2}, {\"Date\": \"2021-05-05T00:00:00\", \" Open\": 1825.0, \" High\": 1849.0, \" Low\": 1825.0, \" Close\": 1834.0, \" Volume\": 28205, \"Price_Change\": 0.004931506849315068, \"Mean_Score\": 0.2327921884683355, \"Percent_of_PosSent\": 0.625, \"Close_roll\": 1841.6, \"Price_Change_roll\": -0.010626292784131445, \"Mean_Score_roll\": 0.046558437693667146, \"Percent_of_PosSent_roll\": 0.125}, {\"Date\": \"2021-05-06T00:00:00\", \" Open\": 1843.0, \" High\": 1845.0, \" Low\": 1810.0, \" Close\": 1810.0, \" Volume\": 43965, \"Price_Change\": -0.017905588714053174, \"Mean_Score\": 0.2327921884683355, \"Percent_of_PosSent\": 0.625, \"Close_roll\": 1826.4, \"Price_Change_roll\": -0.01273372631641576, \"Mean_Score_roll\": 0.09311687538733424, \"Percent_of_PosSent_roll\": 0.25}, {\"Date\": \"2021-05-07T00:00:00\", \" Open\": 1812.0, \" High\": 1840.0, \" Low\": 1812.0, \" Close\": 1831.0, \" Volume\": 19520, \"Price_Change\": 0.010485651214128035, \"Mean_Score\": 0.2327921884683355, \"Percent_of_PosSent\": 0.625, \"Close_roll\": 1826.0, \"Price_Change_roll\": -0.004604850041844123, \"Mean_Score_roll\": 0.13967531308100134, \"Percent_of_PosSent_roll\": 0.375}, {\"Date\": \"2021-05-10T00:00:00\", \" Open\": 1835.0, \" High\": 1868.0, \" Low\": 1835.0, \" Close\": 1859.0, \" Volume\": 32220, \"Price_Change\": 0.013079019073569483, \"Mean_Score\": 0.21428568367347375, \"Percent_of_PosSent\": 0.5, \"Close_roll\": 1831.8, \"Price_Change_roll\": -0.0010102534049442557, \"Mean_Score_roll\": 0.1825324498156961, \"Percent_of_PosSent_roll\": 0.475}, {\"Date\": \"2021-05-11T00:00:00\", \" Open\": 1860.0, \" High\": 1870.0, \" Low\": 1846.0, \" Close\": 1860.0, \" Volume\": 40005, \"Price_Change\": 0.0, \"Mean_Score\": 0.1428571224489825, \"Percent_of_PosSent\": 1.0, \"Close_roll\": 1838.8, \"Price_Change_roll\": 0.0021181176845918824, \"Mean_Score_roll\": 0.21110387430549257, \"Percent_of_PosSent_roll\": 0.675}, {\"Date\": \"2021-05-12T00:00:00\", \" Open\": 1865.0, \" High\": 1865.0, \" Low\": 1810.0, \" Close\": 1829.0, \" Volume\": 57890, \"Price_Change\": -0.0193029490616622, \"Mean_Score\": 0.4999999375000079, \"Percent_of_PosSent\": 1.0, \"Close_roll\": 1837.8, \"Price_Change_roll\": -0.002728773497603571, \"Mean_Score_roll\": 0.2645454241118271, \"Percent_of_PosSent_roll\": 0.75}, {\"Date\": \"2021-05-14T00:00:00\", \" Open\": 1825.0, \" High\": 1826.0, \" Low\": 1801.0, \" Close\": 1811.0, \" Volume\": 84970, \"Price_Change\": -0.007671232876712329, \"Mean_Score\": 0.4999999375000079, \"Percent_of_PosSent\": 1.0, \"Close_roll\": 1838.0, \"Price_Change_roll\": -0.000681902330135402, \"Mean_Score_roll\": 0.31798697391816155, \"Percent_of_PosSent_roll\": 0.825}, {\"Date\": \"2021-05-17T00:00:00\", \" Open\": 1820.0, \" High\": 1844.0, \" Low\": 1820.0, \" Close\": 1831.0, \" Volume\": 36930, \"Price_Change\": 0.006043956043956044, \"Mean_Score\": 0.0, \"Percent_of_PosSent\": 0.0, \"Close_roll\": 1838.0, \"Price_Change_roll\": -0.0015702413641698006, \"Mean_Score_roll\": 0.2714285362244945, \"Percent_of_PosSent_roll\": 0.7}, {\"Date\": \"2021-05-18T00:00:00\", \" Open\": 1830.0, \" High\": 1847.0, \" Low\": 1812.0, \" Close\": 1847.0, \" Volume\": 24015, \"Price_Change\": 0.009289617486338797, \"Mean_Score\": 0.41481479315500824, \"Percent_of_PosSent\": 1.0, \"Close_roll\": 1835.6, \"Price_Change_roll\": -0.002328121681615937, \"Mean_Score_roll\": 0.3115343581208013, \"Percent_of_PosSent_roll\": 0.8}, {\"Date\": \"2021-05-19T00:00:00\", \" Open\": 1846.0, \" High\": 1868.0, \" Low\": 1830.0, \" Close\": 1861.0, \" Volume\": 16010, \"Price_Change\": 0.008125677139761646, \"Mean_Score\": 0.9999990000010001, \"Percent_of_PosSent\": 1.0, \"Close_roll\": 1835.8, \"Price_Change_roll\": -0.0007029862536636078, \"Mean_Score_roll\": 0.4829627336312049, \"Percent_of_PosSent_roll\": 0.8}, {\"Date\": \"2021-05-20T00:00:00\", \" Open\": 1867.0, \" High\": 1867.0, \" Low\": 1850.0, \" Close\": 1850.0, \" Volume\": 26970, \"Price_Change\": -0.009105516871987145, \"Mean_Score\": -0.11538460650887643, \"Percent_of_PosSent\": 0.0, \"Close_roll\": 1840.0, \"Price_Change_roll\": 0.0013365001842714035, \"Mean_Score_roll\": 0.359885824829428, \"Percent_of_PosSent_roll\": 0.6}, {\"Date\": \"2021-05-21T00:00:00\", \" Open\": 1850.0, \" High\": 1852.0, \" Low\": 1820.0, \" Close\": 1820.0, \" Volume\": 50715, \"Price_Change\": -0.016216216216216217, \"Mean_Score\": -0.11538460650887643, \"Percent_of_PosSent\": 0.0, \"Close_roll\": 1841.8, \"Price_Change_roll\": -0.00037249648362937466, \"Mean_Score_roll\": 0.23680891602765114, \"Percent_of_PosSent_roll\": 0.4}, {\"Date\": \"2021-05-24T00:00:00\", \" Open\": 1820.0, \" High\": 1850.0, \" Low\": 1796.0, \" Close\": 1796.0, \" Volume\": 56120, \"Price_Change\": -0.013186813186813187, \"Mean_Score\": -0.11538460650887643, \"Percent_of_PosSent\": 0.0, \"Close_roll\": 1834.8, \"Price_Change_roll\": -0.004218650329783221, \"Mean_Score_roll\": 0.21373199472587584, \"Percent_of_PosSent_roll\": 0.4}, {\"Date\": \"2021-05-25T00:00:00\", \" Open\": 1820.0, \" High\": 1825.0, \" Low\": 1800.0, \" Close\": 1800.0, \" Volume\": 50930, \"Price_Change\": -0.01098901098901099, \"Mean_Score\": -0.11538460650887643, \"Percent_of_PosSent\": 0.0, \"Close_roll\": 1825.4, \"Price_Change_roll\": -0.008274376024853178, \"Mean_Score_roll\": 0.10769211479309893, \"Percent_of_PosSent_roll\": 0.2}, {\"Date\": \"2021-05-26T00:00:00\", \" Open\": 1800.0, \" High\": 1857.0, \" Low\": 1800.0, \" Close\": 1835.0, \" Volume\": 35215, \"Price_Change\": 0.019444444444444445, \"Mean_Score\": -0.42857139795918586, \"Percent_of_PosSent\": 0.0, \"Close_roll\": 1820.2, \"Price_Change_roll\": -0.006010622563916619, \"Mean_Score_roll\": -0.17802196479893828, \"Percent_of_PosSent_roll\": 0.0}, {\"Date\": \"2021-05-27T00:00:00\", \" Open\": 1839.0, \" High\": 1892.0, \" Low\": 1833.0, \" Close\": 1850.0, \" Volume\": 457640, \"Price_Change\": 0.005981511691136488, \"Mean_Score\": -0.399999980000001, \"Percent_of_PosSent\": 0.0, \"Close_roll\": 1820.2, \"Price_Change_roll\": -0.0029932168512918932, \"Mean_Score_roll\": -0.2349450394971632, \"Percent_of_PosSent_roll\": 0.0}, {\"Date\": \"2021-05-28T00:00:00\", \" Open\": 1850.0, \" High\": 1855.0, \" Low\": 1807.0, \" Close\": 1811.0, \" Volume\": 151345, \"Price_Change\": -0.02108108108108108, \"Mean_Score\": 0.599999940000006, \"Percent_of_PosSent\": 1.0, \"Close_roll\": 1818.4, \"Price_Change_roll\": -0.003966189824264866, \"Mean_Score_roll\": -0.09186813019538671, \"Percent_of_PosSent_roll\": 0.2}, {\"Date\": \"2021-05-31T00:00:00\", \" Open\": 1838.0, \" High\": 1838.0, \" Low\": 1805.0, \" Close\": 1806.0, \" Volume\": 62230, \"Price_Change\": -0.017410228509249184, \"Mean_Score\": 0.599999940000006, \"Percent_of_PosSent\": 1.0, \"Close_roll\": 1820.4, \"Price_Change_roll\": -0.004810872888752066, \"Mean_Score_roll\": 0.05120877910638979, \"Percent_of_PosSent_roll\": 0.4}, {\"Date\": \"2021-06-01T00:00:00\", \" Open\": 1815.0, \" High\": 1828.0, \" Low\": 1811.0, \" Close\": 1827.0, \" Volume\": 21945, \"Price_Change\": 0.006611570247933884, \"Mean_Score\": 0.599999940000006, \"Percent_of_PosSent\": 1.0, \"Close_roll\": 1825.8, \"Price_Change_roll\": -0.001290756641363091, \"Mean_Score_roll\": 0.1942856884081663, \"Percent_of_PosSent_roll\": 0.6}, {\"Date\": \"2021-06-02T00:00:00\", \" Open\": 1836.0, \" High\": 1845.0, \" Low\": 1825.0, \" Close\": 1835.0, \" Volume\": 72820, \"Price_Change\": -0.0005446623093681918, \"Mean_Score\": 0.399999770000121, \"Percent_of_PosSent\": 0.5, \"Close_roll\": 1825.8, \"Price_Change_roll\": -0.005288577992125619, \"Mean_Score_roll\": 0.3599999220000277, \"Percent_of_PosSent_roll\": 0.7}, {\"Date\": \"2021-06-03T00:00:00\", \" Open\": 1835.0, \" High\": 1838.0, \" Low\": 1811.0, \" Close\": 1811.0, \" Volume\": 83060, \"Price_Change\": -0.013079019073569483, \"Mean_Score\": -0.9999998333333611, \"Percent_of_PosSent\": 0.0, \"Close_roll\": 1818.0, \"Price_Change_roll\": -0.009100684145066812, \"Mean_Score_roll\": 0.23999995133335567, \"Percent_of_PosSent_roll\": 0.7}, {\"Date\": \"2021-06-04T00:00:00\", \" Open\": 1838.0, \" High\": 1841.0, \" Low\": 1835.0, \" Close\": 1840.0, \" Volume\": 74505, \"Price_Change\": 0.001088139281828074, \"Mean_Score\": -0.9999998333333611, \"Percent_of_PosSent\": 0.0, \"Close_roll\": 1823.8, \"Price_Change_roll\": -0.004666840072484981, \"Mean_Score_roll\": -0.08000000333331778, \"Percent_of_PosSent_roll\": 0.5}, {\"Date\": \"2021-06-07T00:00:00\", \" Open\": 1843.0, \" High\": 1864.0, \" Low\": 1840.0, \" Close\": 1840.0, \" Volume\": 60275, \"Price_Change\": -0.0016277807921866521, \"Mean_Score\": -0.9999998333333611, \"Percent_of_PosSent\": 0.0, \"Close_roll\": 1830.6, \"Price_Change_roll\": -0.0015103505290724748, \"Mean_Score_roll\": -0.3999999579999912, \"Percent_of_PosSent_roll\": 0.3}, {\"Date\": \"2021-06-08T00:00:00\", \" Open\": 1850.0, \" High\": 1865.0, \" Low\": 1809.0, \" Close\": 1809.0, \" Volume\": 46835, \"Price_Change\": -0.02216216216216216, \"Mean_Score\": 0.599999880000024, \"Percent_of_PosSent\": 1.0, \"Close_roll\": 1827.0, \"Price_Change_roll\": -0.007265097011091684, \"Mean_Score_roll\": -0.39999996999998766, \"Percent_of_PosSent_roll\": 0.3}, {\"Date\": \"2021-06-09T00:00:00\", \" Open\": 1846.0, \" High\": 1846.0, \" Low\": 1820.0, \" Close\": 1820.0, \" Volume\": 56910, \"Price_Change\": -0.014084507042253521, \"Mean_Score\": 0.599999880000024, \"Percent_of_PosSent\": 1.0, \"Close_roll\": 1824.0, \"Price_Change_roll\": -0.00997306595766875, \"Mean_Score_roll\": -0.359999948000007, \"Percent_of_PosSent_roll\": 0.4}, {\"Date\": \"2021-06-10T00:00:00\", \" Open\": 1829.0, \" High\": 1845.0, \" Low\": 1820.0, \" Close\": 1820.0, \" Volume\": 37500, \"Price_Change\": -0.004920721705850191, \"Mean_Score\": 0.599999880000024, \"Percent_of_PosSent\": 1.0, \"Close_roll\": 1825.8, \"Price_Change_roll\": -0.008341406484124892, \"Mean_Score_roll\": -0.040000005333329966, \"Percent_of_PosSent_roll\": 0.6}, {\"Date\": \"2021-06-11T00:00:00\", \" Open\": 1825.0, \" High\": 1850.0, \" Low\": 1812.0, \" Close\": 1841.0, \" Volume\": 189270, \"Price_Change\": 0.008767123287671232, \"Mean_Score\": 0.9999996666667778, \"Percent_of_PosSent\": 1.0, \"Close_roll\": 1826.0, \"Price_Change_roll\": -0.00680560968295626, \"Mean_Score_roll\": 0.3599998946666978, \"Percent_of_PosSent_roll\": 0.8}, {\"Date\": \"2021-06-14T00:00:00\", \" Open\": 1857.0, \" High\": 1895.0, \" Low\": 1845.0, \" Close\": 1895.0, \" Volume\": 104460, \"Price_Change\": 0.02046311254711901, \"Mean_Score\": -0.8888888072174816, \"Percent_of_PosSent\": 0.0, \"Close_roll\": 1837.0, \"Price_Change_roll\": -0.0023874310150951276, \"Mean_Score_roll\": 0.38222209988987366, \"Percent_of_PosSent_roll\": 0.8}, {\"Date\": \"2021-06-15T00:00:00\", \" Open\": 1895.0, \" High\": 1899.0, \" Low\": 1880.0, \" Close\": 1890.0, \" Volume\": 51265, \"Price_Change\": -0.002638522427440633, \"Mean_Score\": 0.7614034635518648, \"Percent_of_PosSent\": 1.0, \"Close_roll\": 1853.2, \"Price_Change_roll\": 0.0015172969318491775, \"Mean_Score_roll\": 0.4145028166002419, \"Percent_of_PosSent_roll\": 0.8}, {\"Date\": \"2021-06-16T00:00:00\", \" Open\": 1896.0, \" High\": 1899.0, \" Low\": 1871.0, \" Close\": 1878.0, \" Volume\": 41720, \"Price_Change\": -0.00949367088607595, \"Mean_Score\": -0.4999999375000079, \"Percent_of_PosSent\": 0.0, \"Close_roll\": 1864.8, \"Price_Change_roll\": 0.0024354641630846916, \"Mean_Score_roll\": 0.19450285310023546, \"Percent_of_PosSent_roll\": 0.6}, {\"Date\": \"2021-06-17T00:00:00\", \" Open\": 1879.0, \" High\": 1880.0, \" Low\": 1840.0, \" Close\": 1840.0, \" Volume\": 63740, \"Price_Change\": -0.020755721128259713, \"Mean_Score\": 0.2727272479338866, \"Percent_of_PosSent\": 1.0, \"Close_roll\": 1868.8, \"Price_Change_roll\": -0.0007315357213972126, \"Mean_Score_roll\": 0.129048326687008, \"Percent_of_PosSent_roll\": 0.6}, {\"Date\": \"2021-06-18T00:00:00\", \" Open\": 1856.0, \" High\": 1860.0, \" Low\": 1815.0, \" Close\": 1815.0, \" Volume\": 168515, \"Price_Change\": -0.02209051724137931, \"Mean_Score\": 0.49999987500003124, \"Percent_of_PosSent\": 1.0, \"Close_roll\": 1863.6, \"Price_Change_roll\": -0.00690306382720732, \"Mean_Score_roll\": 0.02904836835365867, \"Percent_of_PosSent_roll\": 0.6}, {\"Date\": \"2021-06-21T00:00:00\", \" Open\": 1835.0, \" High\": 1840.0, \" Low\": 1815.0, \" Close\": 1819.0, \" Volume\": 48730, \"Price_Change\": -0.008719346049046322, \"Mean_Score\": 0.9999998333333611, \"Percent_of_PosSent\": 1.0, \"Close_roll\": 1848.4, \"Price_Change_roll\": -0.012739555546440387, \"Mean_Score_roll\": 0.40682609646382717, \"Percent_of_PosSent_roll\": 0.8}, {\"Date\": \"2021-06-22T00:00:00\", \" Open\": 1830.0, \" High\": 1831.0, \" Low\": 1815.0, \" Close\": 1819.0, \" Volume\": 76390, \"Price_Change\": -0.006010928961748634, \"Mean_Score\": -2.1666654392848983e-07, \"Percent_of_PosSent\": 0.5, \"Close_roll\": 1834.2, \"Price_Change_roll\": -0.013414036853301985, \"Mean_Score_roll\": 0.2545453604201454, \"Percent_of_PosSent_roll\": 0.7}, {\"Date\": \"2021-06-23T00:00:00\", \" Open\": 1830.0, \" High\": 1845.0, \" Low\": 1821.0, \" Close\": 1840.0, \" Volume\": 45790, \"Price_Change\": 0.00546448087431694, \"Mean_Score\": -2.1666654392848983e-07, \"Percent_of_PosSent\": 0.5, \"Close_roll\": 1826.6, \"Price_Change_roll\": -0.010422406501223409, \"Mean_Score_roll\": 0.35454530458683825, \"Percent_of_PosSent_roll\": 0.8}, {\"Date\": \"2021-06-24T00:00:00\", \" Open\": 1850.0, \" High\": 1850.0, \" Low\": 1830.0, \" Close\": 1830.0, \" Volume\": 65455, \"Price_Change\": -0.010810810810810811, \"Mean_Score\": 0.14927884740973948, \"Percent_of_PosSent\": 0.5, \"Close_roll\": 1824.6, \"Price_Change_roll\": -0.008433424437733627, \"Mean_Score_roll\": 0.32985562448200884, \"Percent_of_PosSent_roll\": 0.7}, {\"Date\": \"2021-06-25T00:00:00\", \" Open\": 1831.0, \" High\": 1853.0, \" Low\": 1831.0, \" Close\": 1853.0, \" Volume\": 35875, \"Price_Change\": 0.012015292190060076, \"Mean_Score\": 0.14927884740973948, \"Percent_of_PosSent\": 0.5, \"Close_roll\": 1832.2, \"Price_Change_roll\": -0.001612262551445752, \"Mean_Score_roll\": 0.2597114189639505, \"Percent_of_PosSent_roll\": 0.6}, {\"Date\": \"2021-06-28T00:00:00\", \" Open\": 1855.0, \" High\": 1857.0, \" Low\": 1831.0, \" Close\": 1840.0, \" Volume\": 52485, \"Price_Change\": -0.008086253369272238, \"Mean_Score\": 0.7333333170370374, \"Percent_of_PosSent\": 1.0, \"Close_roll\": 1836.4, \"Price_Change_roll\": -0.001485644015490935, \"Mean_Score_roll\": 0.20637811570468573, \"Percent_of_PosSent_roll\": 0.6}, {\"Date\": \"2021-06-29T00:00:00\", \" Open\": 1840.0, \" High\": 1841.0, \" Low\": 1820.0, \" Close\": 1830.0, \" Volume\": 83960, \"Price_Change\": -0.005434782608695652, \"Mean_Score\": -0.6874999382812558, \"Percent_of_PosSent\": 0.0, \"Close_roll\": 1838.6, \"Price_Change_roll\": -0.0013704147448803388, \"Mean_Score_roll\": 0.06887817138174339, \"Percent_of_PosSent_roll\": 0.5}, {\"Date\": \"2021-06-30T00:00:00\", \" Open\": 1835.0, \" High\": 1849.0, \" Low\": 1835.0, \" Close\": 1840.0, \" Volume\": 43460, \"Price_Change\": 0.0027247956403269754, \"Mean_Score\": -0.5222221898765452, \"Percent_of_PosSent\": 0.0, \"Close_roll\": 1838.6, \"Price_Change_roll\": -0.0019183517916783316, \"Mean_Score_roll\": -0.03556622326025689, \"Percent_of_PosSent_roll\": 0.4}, {\"Date\": \"2021-07-01T00:00:00\", \" Open\": 1841.0, \" High\": 1874.0, \" Low\": 1841.0, \" Close\": 1870.0, \" Volume\": 59520, \"Price_Change\": 0.015752308527973928, \"Mean_Score\": -0.9999997500000625, \"Percent_of_PosSent\": 0.0, \"Close_roll\": 1846.6, \"Price_Change_roll\": 0.0033942720760786168, \"Mean_Score_roll\": -0.26542194274221725, \"Percent_of_PosSent_roll\": 0.3}, {\"Date\": \"2021-07-02T00:00:00\", \" Open\": 1870.0, \" High\": 1890.0, \" Low\": 1870.0, \" Close\": 1885.0, \" Volume\": 59650, \"Price_Change\": 0.008021390374331552, \"Mean_Score\": -0.031249999023437534, \"Percent_of_PosSent\": 0.0, \"Close_roll\": 1853.0, \"Price_Change_roll\": 0.0025954917129329116, \"Mean_Score_roll\": -0.3015277120288527, \"Percent_of_PosSent_roll\": 0.2}, {\"Date\": \"2021-07-05T00:00:00\", \" Open\": 1888.0, \" High\": 1940.0, \" Low\": 1888.0, \" Close\": 1920.0, \" Volume\": 67190, \"Price_Change\": 0.01694915254237288, \"Mean_Score\": -0.031249999023437534, \"Percent_of_PosSent\": 0.0, \"Close_roll\": 1869.0, \"Price_Change_roll\": 0.007602572895261936, \"Mean_Score_roll\": -0.4544443752409477, \"Percent_of_PosSent_roll\": 0.0}, {\"Date\": \"2021-07-06T00:00:00\", \" Open\": 1940.0, \" High\": 1988.0, \" Low\": 1939.0, \" Close\": 1964.0, \" Volume\": 88235, \"Price_Change\": 0.012371134020618556, \"Mean_Score\": -0.5555554938271674, \"Percent_of_PosSent\": 0.0, \"Close_roll\": 1895.8, \"Price_Change_roll\": 0.011163756221124779, \"Mean_Score_roll\": -0.4280554863501299, \"Percent_of_PosSent_roll\": 0.0}, {\"Date\": \"2021-07-07T00:00:00\", \" Open\": 1964.0, \" High\": 1964.0, \" Low\": 1932.0, \" Close\": 1932.0, \" Volume\": 64790, \"Price_Change\": -0.016293279022403257, \"Mean_Score\": 0.37777769148150253, \"Percent_of_PosSent\": 1.0, \"Close_roll\": 1914.2, \"Price_Change_roll\": 0.007360141288578731, \"Mean_Score_roll\": -0.24805551007852045, \"Percent_of_PosSent_roll\": 0.2}, {\"Date\": \"2021-07-08T00:00:00\", \" Open\": 1932.0, \" High\": 1970.0, \" Low\": 1932.0, \" Close\": 1970.0, \" Volume\": 55080, \"Price_Change\": 0.019668737060041408, \"Mean_Score\": 0.37777769148150253, \"Percent_of_PosSent\": 1.0, \"Close_roll\": 1934.2, \"Price_Change_roll\": 0.008143426994992226, \"Mean_Score_roll\": 0.027499978217792553, \"Percent_of_PosSent_roll\": 0.4}, {\"Date\": \"2021-07-09T00:00:00\", \" Open\": 1965.0, \" High\": 1965.0, \" Low\": 1936.0, \" Close\": 1965.0, \" Volume\": 58425, \"Price_Change\": 0.0, \"Mean_Score\": 0.37777769148150253, \"Percent_of_PosSent\": 1.0, \"Close_roll\": 1950.2, \"Price_Change_roll\": 0.0065391489201259145, \"Mean_Score_roll\": 0.10930551631878056, \"Percent_of_PosSent_roll\": 0.6}, {\"Date\": \"2021-07-12T00:00:00\", \" Open\": 1965.0, \" High\": 1989.0, \" Low\": 1953.0, \" Close\": 1983.0, \" Volume\": 95555, \"Price_Change\": 0.00916030534351145, \"Mean_Score\": 0.37777769148150253, \"Percent_of_PosSent\": 1.0, \"Close_roll\": 1962.8, \"Price_Change_roll\": 0.00498137948035363, \"Mean_Score_roll\": 0.19111105441976856, \"Percent_of_PosSent_roll\": 0.8}, {\"Date\": \"2021-07-13T00:00:00\", \" Open\": 1978.0, \" High\": 1987.0, \" Low\": 1972.0, \" Close\": 1979.0, \" Volume\": 83865, \"Price_Change\": 0.0005055611729019212, \"Mean_Score\": 0.13602540621738707, \"Percent_of_PosSent\": 0.5, \"Close_roll\": 1965.8, \"Price_Change_roll\": 0.002608264910810303, \"Mean_Score_roll\": 0.32942723442867944, \"Percent_of_PosSent_roll\": 0.9}, {\"Date\": \"2021-07-14T00:00:00\", \" Open\": 1976.0, \" High\": 1979.0, \" Low\": 1971.0, \" Close\": 1974.0, \" Volume\": 36060, \"Price_Change\": -0.0010121457489878543, \"Mean_Score\": 0.13602540621738707, \"Percent_of_PosSent\": 0.5, \"Close_roll\": 1974.2, \"Price_Change_roll\": 0.005664491565493384, \"Mean_Score_roll\": 0.28107677737585635, \"Percent_of_PosSent_roll\": 0.8}, {\"Date\": \"2021-07-15T00:00:00\", \" Open\": 1974.0, \" High\": 1978.0, \" Low\": 1933.0, \" Close\": 1933.0, \" Volume\": 45870, \"Price_Change\": -0.02077001013171226, \"Mean_Score\": 0.13602540621738707, \"Percent_of_PosSent\": 0.5, \"Close_roll\": 1966.8, \"Price_Change_roll\": -0.0024232578728573505, \"Mean_Score_roll\": 0.23272632032303328, \"Percent_of_PosSent_roll\": 0.7}, {\"Date\": \"2021-07-16T00:00:00\", \" Open\": 1950.0, \" High\": 1950.0, \" Low\": 1933.0, \" Close\": 1941.0, \" Volume\": 45340, \"Price_Change\": -0.004615384615384616, \"Mean_Score\": 0.13602540621738707, \"Percent_of_PosSent\": 0.5, \"Close_roll\": 1962.0, \"Price_Change_roll\": -0.0033463347959342736, \"Mean_Score_roll\": 0.1843758632702102, \"Percent_of_PosSent_roll\": 0.6}]}}, {\"mode\": \"vega-lite\"});\n",
       "</script>"
      ],
      "text/plain": [
       "alt.RepeatChart(...)"
      ]
     },
     "execution_count": 37,
     "metadata": {},
     "output_type": "execute_result"
    }
   ],
   "source": [
    "import altair as alt\n",
    "\n",
    "\n",
    "alt.Chart(forplot).mark_line().encode(\n",
    "    alt.X(alt.repeat(\"column\"), type='temporal'),\n",
    "    alt.Y(alt.repeat(\"row\"), type='quantitative', scale=alt.Scale(zero = False))\n",
    ").properties(\n",
    "    width=700,\n",
    "    height=200\n",
    ").repeat(\n",
    "    row=[' Close', 'Mean_Score_roll'],\n",
    "    column=['Date']\n",
    ").interactive(\n",
    "  bind_y = False\n",
    ")"
   ]
  },
  {
   "cell_type": "code",
   "execution_count": 38,
   "id": "2f6b5287",
   "metadata": {
    "scrolled": false
   },
   "outputs": [
    {
     "data": {
      "text/html": [
       "\n",
       "<div id=\"altair-viz-9e65770a073d435888a2dba20253469d\"></div>\n",
       "<script type=\"text/javascript\">\n",
       "  (function(spec, embedOpt){\n",
       "    let outputDiv = document.currentScript.previousElementSibling;\n",
       "    if (outputDiv.id !== \"altair-viz-9e65770a073d435888a2dba20253469d\") {\n",
       "      outputDiv = document.getElementById(\"altair-viz-9e65770a073d435888a2dba20253469d\");\n",
       "    }\n",
       "    const paths = {\n",
       "      \"vega\": \"https://cdn.jsdelivr.net/npm//vega@5?noext\",\n",
       "      \"vega-lib\": \"https://cdn.jsdelivr.net/npm//vega-lib?noext\",\n",
       "      \"vega-lite\": \"https://cdn.jsdelivr.net/npm//vega-lite@4.8.1?noext\",\n",
       "      \"vega-embed\": \"https://cdn.jsdelivr.net/npm//vega-embed@6?noext\",\n",
       "    };\n",
       "\n",
       "    function loadScript(lib) {\n",
       "      return new Promise(function(resolve, reject) {\n",
       "        var s = document.createElement('script');\n",
       "        s.src = paths[lib];\n",
       "        s.async = true;\n",
       "        s.onload = () => resolve(paths[lib]);\n",
       "        s.onerror = () => reject(`Error loading script: ${paths[lib]}`);\n",
       "        document.getElementsByTagName(\"head\")[0].appendChild(s);\n",
       "      });\n",
       "    }\n",
       "\n",
       "    function showError(err) {\n",
       "      outputDiv.innerHTML = `<div class=\"error\" style=\"color:red;\">${err}</div>`;\n",
       "      throw err;\n",
       "    }\n",
       "\n",
       "    function displayChart(vegaEmbed) {\n",
       "      vegaEmbed(outputDiv, spec, embedOpt)\n",
       "        .catch(err => showError(`Javascript Error: ${err.message}<br>This usually means there's a typo in your chart specification. See the javascript console for the full traceback.`));\n",
       "    }\n",
       "\n",
       "    if(typeof define === \"function\" && define.amd) {\n",
       "      requirejs.config({paths});\n",
       "      require([\"vega-embed\"], displayChart, err => showError(`Error loading script: ${err.message}`));\n",
       "    } else if (typeof vegaEmbed === \"function\") {\n",
       "      displayChart(vegaEmbed);\n",
       "    } else {\n",
       "      loadScript(\"vega\")\n",
       "        .then(() => loadScript(\"vega-lite\"))\n",
       "        .then(() => loadScript(\"vega-embed\"))\n",
       "        .catch(showError)\n",
       "        .then(() => displayChart(vegaEmbed));\n",
       "    }\n",
       "  })({\"config\": {\"view\": {\"continuousWidth\": 400, \"continuousHeight\": 300}}, \"repeat\": {\"column\": [\"Date\"], \"row\": [\" Close\", \"Price_Change_roll\", \"Percent_of_PosSent_roll\"]}, \"spec\": {\"data\": {\"name\": \"data-782eab08da07a7ec39e105bfded9db6c\"}, \"mark\": \"line\", \"encoding\": {\"x\": {\"type\": \"temporal\", \"field\": {\"repeat\": \"column\"}}, \"y\": {\"type\": \"quantitative\", \"field\": {\"repeat\": \"row\"}, \"scale\": {\"zero\": false}}}, \"height\": 200, \"selection\": {\"selector002\": {\"type\": \"interval\", \"bind\": \"scales\", \"encodings\": [\"x\"]}}, \"width\": 700}, \"$schema\": \"https://vega.github.io/schema/vega-lite/v4.8.1.json\", \"datasets\": {\"data-782eab08da07a7ec39e105bfded9db6c\": [{\"Date\": \"2019-01-02T00:00:00\", \" Open\": 1920.0, \" High\": 1920.0, \" Low\": 1890.0, \" Close\": 1900.0, \" Volume\": 6610, \"Price_Change\": -0.010416666666666666, \"Mean_Score\": -0.49999987500003124, \"Percent_of_PosSent\": 0.0, \"Close_roll\": 1900.0, \"Price_Change_roll\": -0.010416666666666666, \"Mean_Score_roll\": -0.49999987500003124, \"Percent_of_PosSent_roll\": 0.0}, {\"Date\": \"2019-01-03T00:00:00\", \" Open\": 1900.0, \" High\": 1905.0, \" Low\": 1885.0, \" Close\": 1889.0, \" Volume\": 28555, \"Price_Change\": -0.005789473684210527, \"Mean_Score\": -0.49999987500003124, \"Percent_of_PosSent\": 0.0, \"Close_roll\": 1894.5, \"Price_Change_roll\": -0.008103070175438596, \"Mean_Score_roll\": -0.49999987500003124, \"Percent_of_PosSent_roll\": 0.0}, {\"Date\": \"2019-01-04T00:00:00\", \" Open\": 1885.0, \" High\": 1913.0, \" Low\": 1872.0, \" Close\": 1872.0, \" Volume\": 13870, \"Price_Change\": -0.006896551724137931, \"Mean_Score\": -0.49999987500003124, \"Percent_of_PosSent\": 0.0, \"Close_roll\": 1887.0, \"Price_Change_roll\": -0.0077008973583383745, \"Mean_Score_roll\": -0.49999987500003124, \"Percent_of_PosSent_roll\": 0.0}, {\"Date\": \"2019-01-07T00:00:00\", \" Open\": 1873.0, \" High\": 1936.0, \" Low\": 1860.0, \" Close\": 1860.0, \" Volume\": 26780, \"Price_Change\": -0.0069407367859049655, \"Mean_Score\": -0.49999987500003124, \"Percent_of_PosSent\": 0.0, \"Close_roll\": 1880.25, \"Price_Change_roll\": -0.007510857215230022, \"Mean_Score_roll\": -0.49999987500003124, \"Percent_of_PosSent_roll\": 0.0}, {\"Date\": \"2019-01-08T00:00:00\", \" Open\": 1880.0, \" High\": 1899.0, \" Low\": 1860.0, \" Close\": 1860.0, \" Volume\": 30960, \"Price_Change\": -0.010638297872340425, \"Mean_Score\": -0.49999987500003124, \"Percent_of_PosSent\": 0.0, \"Close_roll\": 1876.2, \"Price_Change_roll\": -0.008136345346652103, \"Mean_Score_roll\": -0.49999987500003124, \"Percent_of_PosSent_roll\": 0.0}, {\"Date\": \"2019-01-09T00:00:00\", \" Open\": 1890.0, \" High\": 1935.0, \" Low\": 1861.0, \" Close\": 1930.0, \" Volume\": 53305, \"Price_Change\": 0.021164021164021163, \"Mean_Score\": -0.49999987500003124, \"Percent_of_PosSent\": 0.0, \"Close_roll\": 1882.2, \"Price_Change_roll\": -0.0018202077805145379, \"Mean_Score_roll\": -0.49999987500003124, \"Percent_of_PosSent_roll\": 0.0}, {\"Date\": \"2019-01-10T00:00:00\", \" Open\": 1930.0, \" High\": 2020.0, \" Low\": 1920.0, \" Close\": 2020.0, \" Volume\": 59135, \"Price_Change\": 0.046632124352331605, \"Mean_Score\": 0.9999998333333611, \"Percent_of_PosSent\": 1.0, \"Close_roll\": 1908.4, \"Price_Change_roll\": 0.008664111826793889, \"Mean_Score_roll\": -0.19999993333335275, \"Percent_of_PosSent_roll\": 0.2}, {\"Date\": \"2019-01-11T00:00:00\", \" Open\": 2000.0, \" High\": 2016.0, \" Low\": 1960.0, \" Close\": 2016.0, \" Volume\": 28240, \"Price_Change\": 0.008, \"Mean_Score\": 0.9999998333333611, \"Percent_of_PosSent\": 1.0, \"Close_roll\": 1937.2, \"Price_Change_roll\": 0.011643422171621474, \"Mean_Score_roll\": 0.10000000833332567, \"Percent_of_PosSent_roll\": 0.4}, {\"Date\": \"2019-01-14T00:00:00\", \" Open\": 2016.0, \" High\": 2100.0, \" Low\": 1990.0, \" Close\": 2060.0, \" Volume\": 88165, \"Price_Change\": 0.021825396825396824, \"Mean_Score\": 0.9999998333333611, \"Percent_of_PosSent\": 1.0, \"Close_roll\": 1977.2, \"Price_Change_roll\": 0.017396648893881834, \"Mean_Score_roll\": 0.3999999500000041, \"Percent_of_PosSent_roll\": 0.6}, {\"Date\": \"2019-01-15T00:00:00\", \" Open\": 2060.0, \" High\": 2094.0, \" Low\": 2038.0, \" Close\": 2086.0, \" Volume\": 40780, \"Price_Change\": 0.01262135922330097, \"Mean_Score\": 0.9999998333333611, \"Percent_of_PosSent\": 1.0, \"Close_roll\": 2022.4, \"Price_Change_roll\": 0.02204858031301011, \"Mean_Score_roll\": 0.6999998916666825, \"Percent_of_PosSent_roll\": 0.8}, {\"Date\": \"2019-01-16T00:00:00\", \" Open\": 2086.0, \" High\": 2086.0, \" Low\": 2036.0, \" Close\": 2038.0, \" Volume\": 13080, \"Price_Change\": -0.023010546500479387, \"Mean_Score\": 0.9999998333333611, \"Percent_of_PosSent\": 1.0, \"Close_roll\": 2044.0, \"Price_Change_roll\": 0.01321366678011, \"Mean_Score_roll\": 0.9999998333333611, \"Percent_of_PosSent_roll\": 1.0}, {\"Date\": \"2019-01-17T00:00:00\", \" Open\": 2040.0, \" High\": 2100.0, \" Low\": 2040.0, \" Close\": 2080.0, \" Volume\": 59330, \"Price_Change\": 0.0196078431372549, \"Mean_Score\": -0.6249999609375024, \"Percent_of_PosSent\": 0.0, \"Close_roll\": 2056.0, \"Price_Change_roll\": 0.00780881053709466, \"Mean_Score_roll\": 0.6749998744791884, \"Percent_of_PosSent_roll\": 0.8}, {\"Date\": \"2019-01-18T00:00:00\", \" Open\": 2062.0, \" High\": 2096.0, \" Low\": 2062.0, \" Close\": 2092.0, \" Volume\": 28355, \"Price_Change\": 0.014548981571290009, \"Mean_Score\": -0.6249999609375024, \"Percent_of_PosSent\": 0.0, \"Close_roll\": 2071.2, \"Price_Change_roll\": 0.009118606851352662, \"Mean_Score_roll\": 0.3499999156250157, \"Percent_of_PosSent_roll\": 0.6}, {\"Date\": \"2019-01-21T00:00:00\", \" Open\": 2092.0, \" High\": 2098.0, \" Low\": 2060.0, \" Close\": 2080.0, \" Volume\": 14750, \"Price_Change\": -0.0057361376673040155, \"Mean_Score\": -0.6249999609375024, \"Percent_of_PosSent\": 0.0, \"Close_roll\": 2075.2, \"Price_Change_roll\": 0.0036062999528124946, \"Mean_Score_roll\": 0.02499995677084297, \"Percent_of_PosSent_roll\": 0.4}, {\"Date\": \"2019-01-22T00:00:00\", \" Open\": 2080.0, \" High\": 2094.0, \" Low\": 2052.0, \" Close\": 2094.0, \" Volume\": 21855, \"Price_Change\": 0.006730769230769231, \"Mean_Score\": 0.33333329629630043, \"Percent_of_PosSent\": 1.0, \"Close_roll\": 2076.8, \"Price_Change_roll\": 0.002428181954306147, \"Mean_Score_roll\": -0.10833335063656917, \"Percent_of_PosSent_roll\": 0.4}, {\"Date\": \"2019-01-23T00:00:00\", \" Open\": 2088.0, \" High\": 2110.0, \" Low\": 2060.0, \" Close\": 2100.0, \" Volume\": 55630, \"Price_Change\": 0.005747126436781609, \"Mean_Score\": 0.33333329629630043, \"Percent_of_PosSent\": 1.0, \"Close_roll\": 2089.2, \"Price_Change_roll\": 0.008179716541758347, \"Mean_Score_roll\": -0.2416666580439813, \"Percent_of_PosSent_roll\": 0.4}, {\"Date\": \"2019-01-24T00:00:00\", \" Open\": 2100.0, \" High\": 2132.0, \" Low\": 2096.0, \" Close\": 2116.0, \" Volume\": 70255, \"Price_Change\": 0.007619047619047619, \"Mean_Score\": 0.02631578808864273, \"Percent_of_PosSent\": 0.5, \"Close_roll\": 2096.4, \"Price_Change_roll\": 0.005781957438116889, \"Mean_Score_roll\": -0.11140350823875225, \"Percent_of_PosSent_roll\": 0.5}, {\"Date\": \"2019-01-25T00:00:00\", \" Open\": 2100.0, \" High\": 2130.0, \" Low\": 2092.0, \" Close\": 2120.0, \" Volume\": 43830, \"Price_Change\": 0.009523809523809525, \"Mean_Score\": 0.02631578808864273, \"Percent_of_PosSent\": 0.5, \"Close_roll\": 2102.0, \"Price_Change_roll\": 0.004776923028620793, \"Mean_Score_roll\": 0.01885964156647678, \"Percent_of_PosSent_roll\": 0.6}, {\"Date\": \"2019-01-28T00:00:00\", \" Open\": 2120.0, \" High\": 2160.0, \" Low\": 2118.0, \" Close\": 2142.0, \" Volume\": 51785, \"Price_Change\": 0.010377358490566037, \"Mean_Score\": 0.02631578808864273, \"Percent_of_PosSent\": 0.5, \"Close_roll\": 2114.4, \"Price_Change_roll\": 0.007999622260194803, \"Mean_Score_roll\": 0.1491227913717058, \"Percent_of_PosSent_roll\": 0.7}, {\"Date\": \"2019-01-29T00:00:00\", \" Open\": 2142.0, \" High\": 2154.0, \" Low\": 2112.0, \" Close\": 2150.0, \" Volume\": 31875, \"Price_Change\": 0.003734827264239029, \"Mean_Score\": 0.1428571224489825, \"Percent_of_PosSent\": 1.0, \"Close_roll\": 2125.6, \"Price_Change_roll\": 0.007400433866888762, \"Mean_Score_roll\": 0.11102755660224221, \"Percent_of_PosSent_roll\": 0.7}, {\"Date\": \"2019-01-30T00:00:00\", \" Open\": 2110.0, \" High\": 2148.0, \" Low\": 2070.0, \" Close\": 2086.0, \" Volume\": 42660, \"Price_Change\": -0.011374407582938388, \"Mean_Score\": -0.2380952040816375, \"Percent_of_PosSent\": 0.0, \"Close_roll\": 2122.8, \"Price_Change_roll\": 0.0039761270629447626, \"Mean_Score_roll\": -0.0032581434733453705, \"Percent_of_PosSent_roll\": 0.5}, {\"Date\": \"2019-01-31T00:00:00\", \" Open\": 2084.0, \" High\": 2086.0, \" Low\": 2020.0, \" Close\": 2020.0, \" Volume\": 92925, \"Price_Change\": -0.030710172744721688, \"Mean_Score\": -0.24999996875000394, \"Percent_of_PosSent\": 0.0, \"Close_roll\": 2103.6, \"Price_Change_roll\": -0.003689717009809098, \"Mean_Score_roll\": -0.0585212948410747, \"Percent_of_PosSent_roll\": 0.4}, {\"Date\": \"2019-02-01T00:00:00\", \" Open\": 2020.0, \" High\": 2090.0, \" Low\": 2020.0, \" Close\": 2070.0, \" Volume\": 32170, \"Price_Change\": 0.024752475247524754, \"Mean_Score\": -0.9999996250001562, \"Percent_of_PosSent\": 0.0, \"Close_roll\": 2093.6, \"Price_Change_roll\": -0.0006439838650660522, \"Mean_Score_roll\": -0.2637843774588345, \"Percent_of_PosSent_roll\": 0.3}, {\"Date\": \"2019-02-04T00:00:00\", \" Open\": 2060.0, \" High\": 2068.0, \" Low\": 2020.0, \" Close\": 2030.0, \" Volume\": 54815, \"Price_Change\": -0.014563106796116505, \"Mean_Score\": -0.9999996250001562, \"Percent_of_PosSent\": 0.0, \"Close_roll\": 2071.2, \"Price_Change_roll\": -0.005632076922402561, \"Mean_Score_roll\": -0.4690474600765942, \"Percent_of_PosSent_roll\": 0.2}, {\"Date\": \"2019-02-06T00:00:00\", \" Open\": 2048.0, \" High\": 2118.0, \" Low\": 2018.0, \" Close\": 2018.0, \" Volume\": 20240, \"Price_Change\": -0.0146484375, \"Mean_Score\": -0.9999996250001562, \"Percent_of_PosSent\": 0.0, \"Close_roll\": 2044.8, \"Price_Change_roll\": -0.009308729875250367, \"Mean_Score_roll\": -0.697618809566422, \"Percent_of_PosSent_roll\": 0.0}, {\"Date\": \"2019-02-07T00:00:00\", \" Open\": 2022.0, \" High\": 2050.0, \" Low\": 2004.0, \" Close\": 2016.0, \" Volume\": 37480, \"Price_Change\": -0.002967359050445104, \"Mean_Score\": 0.0, \"Percent_of_PosSent\": 0.0, \"Close_roll\": 2030.8, \"Price_Change_roll\": -0.00762732016875171, \"Mean_Score_roll\": -0.6499997687500945, \"Percent_of_PosSent_roll\": 0.0}, {\"Date\": \"2019-02-08T00:00:00\", \" Open\": 2010.0, \" High\": 2034.0, \" Low\": 2002.0, \" Close\": 2030.0, \" Volume\": 25755, \"Price_Change\": 0.009950248756218905, \"Mean_Score\": 0.0, \"Percent_of_PosSent\": 0.0, \"Close_roll\": 2032.8, \"Price_Change_roll\": 0.0005047641314364088, \"Mean_Score_roll\": -0.5999997750000936, \"Percent_of_PosSent_roll\": 0.0}, {\"Date\": \"2019-02-11T00:00:00\", \" Open\": 2020.0, \" High\": 2040.0, \" Low\": 1980.0, \" Close\": 1980.0, \" Volume\": 36970, \"Price_Change\": -0.019801980198019802, \"Mean_Score\": 0.0, \"Percent_of_PosSent\": 0.0, \"Close_roll\": 2014.8, \"Price_Change_roll\": -0.008406126957672502, \"Mean_Score_roll\": -0.39999985000006244, \"Percent_of_PosSent_roll\": 0.0}, {\"Date\": \"2019-02-12T00:00:00\", \" Open\": 1983.0, \" High\": 2014.0, \" Low\": 1956.0, \" Close\": 1956.0, \" Volume\": 38525, \"Price_Change\": -0.01361573373676248, \"Mean_Score\": 0.0, \"Percent_of_PosSent\": 0.0, \"Close_roll\": 2000.0, \"Price_Change_roll\": -0.008216652345801698, \"Mean_Score_roll\": -0.19999992500003122, \"Percent_of_PosSent_roll\": 0.0}, {\"Date\": \"2019-02-13T00:00:00\", \" Open\": 1968.0, \" High\": 1972.0, \" Low\": 1920.0, \" Close\": 1920.0, \" Volume\": 41850, \"Price_Change\": -0.024390243902439025, \"Mean_Score\": 0.4285713673469475, \"Percent_of_PosSent\": 1.0, \"Close_roll\": 1980.4, \"Price_Change_roll\": -0.010165013626289503, \"Mean_Score_roll\": 0.08571427346938951, \"Percent_of_PosSent_roll\": 0.2}, {\"Date\": \"2019-02-14T00:00:00\", \" Open\": 1988.0, \" High\": 1989.0, \" Low\": 1908.0, \" Close\": 1908.0, \" Volume\": 20410, \"Price_Change\": -0.04024144869215292, \"Mean_Score\": 0.161764679822668, \"Percent_of_PosSent\": 0.5, \"Close_roll\": 1958.8, \"Price_Change_roll\": -0.017619831554631066, \"Mean_Score_roll\": 0.1180672094339231, \"Percent_of_PosSent_roll\": 0.3}, {\"Date\": \"2019-02-15T00:00:00\", \" Open\": 1930.0, \" High\": 1983.0, \" Low\": 1890.0, \" Close\": 1890.0, \" Volume\": 33925, \"Price_Change\": -0.02072538860103627, \"Mean_Score\": 0.161764679822668, \"Percent_of_PosSent\": 0.5, \"Close_roll\": 1930.8, \"Price_Change_roll\": -0.0237549590260821, \"Mean_Score_roll\": 0.1504201453984567, \"Percent_of_PosSent_roll\": 0.4}, {\"Date\": \"2019-02-18T00:00:00\", \" Open\": 1900.0, \" High\": 1938.0, \" Low\": 1880.0, \" Close\": 1880.0, \" Volume\": 80920, \"Price_Change\": -0.010526315789473684, \"Mean_Score\": 0.161764679822668, \"Percent_of_PosSent\": 0.5, \"Close_roll\": 1910.8, \"Price_Change_roll\": -0.02189982614437288, \"Mean_Score_roll\": 0.1827730813629903, \"Percent_of_PosSent_roll\": 0.5}, {\"Date\": \"2019-02-19T00:00:00\", \" Open\": 1880.0, \" High\": 1900.0, \" Low\": 1851.0, \" Close\": 1851.0, \" Volume\": 57795, \"Price_Change\": -0.015425531914893617, \"Mean_Score\": 0.7368415927982845, \"Percent_of_PosSent\": 1.0, \"Close_roll\": 1889.8, \"Price_Change_roll\": -0.022261785779999106, \"Mean_Score_roll\": 0.33014139992264724, \"Percent_of_PosSent_roll\": 0.7}, {\"Date\": \"2019-02-20T00:00:00\", \" Open\": 1860.0, \" High\": 1905.0, \" Low\": 1855.0, \" Close\": 1866.0, \" Volume\": 68195, \"Price_Change\": 0.0032258064516129032, \"Mean_Score\": 0.7368415927982845, \"Percent_of_PosSent\": 1.0, \"Close_roll\": 1879.0, \"Price_Change_roll\": -0.01673857570918872, \"Mean_Score_roll\": 0.39179544501291463, \"Percent_of_PosSent_roll\": 0.7}, {\"Date\": \"2019-02-21T00:00:00\", \" Open\": 1899.0, \" High\": 1899.0, \" Low\": 1871.0, \" Close\": 1890.0, \" Volume\": 61780, \"Price_Change\": -0.004739336492890996, \"Mean_Score\": 0.7368415927982845, \"Percent_of_PosSent\": 1.0, \"Close_roll\": 1875.4, \"Price_Change_roll\": -0.009638153269336334, \"Mean_Score_roll\": 0.506810827608038, \"Percent_of_PosSent_roll\": 0.8}, {\"Date\": \"2019-02-22T00:00:00\", \" Open\": 1889.0, \" High\": 1907.0, \" Low\": 1889.0, \" Close\": 1901.0, \" Volume\": 19350, \"Price_Change\": 0.006352567496029645, \"Mean_Score\": 0.7368415927982845, \"Percent_of_PosSent\": 1.0, \"Close_roll\": 1877.6, \"Price_Change_roll\": -0.004222562049923151, \"Mean_Score_roll\": 0.6218262102031612, \"Percent_of_PosSent_roll\": 0.9}, {\"Date\": \"2019-02-26T00:00:00\", \" Open\": 1919.0, \" High\": 1919.0, \" Low\": 1862.0, \" Close\": 1900.0, \" Volume\": 40995, \"Price_Change\": -0.009900990099009901, \"Mean_Score\": 0.7368415927982845, \"Percent_of_PosSent\": 1.0, \"Close_roll\": 1881.6, \"Price_Change_roll\": -0.004097496911830395, \"Mean_Score_roll\": 0.7368415927982845, \"Percent_of_PosSent_roll\": 1.0}, {\"Date\": \"2019-02-27T00:00:00\", \" Open\": 1900.0, \" High\": 1911.0, \" Low\": 1885.0, \" Close\": 1896.0, \" Volume\": 37005, \"Price_Change\": -0.002105263157894737, \"Mean_Score\": 0.6969696619222545, \"Percent_of_PosSent\": 1.0, \"Close_roll\": 1890.6, \"Price_Change_roll\": -0.0014334431604306186, \"Mean_Score_roll\": 0.7288672066230786, \"Percent_of_PosSent_roll\": 1.0}, {\"Date\": \"2019-02-28T00:00:00\", \" Open\": 1896.0, \" High\": 1900.0, \" Low\": 1862.0, \" Close\": 1900.0, \" Volume\": 58605, \"Price_Change\": 0.002109704641350211, \"Mean_Score\": 0.6969696619222545, \"Percent_of_PosSent\": 1.0, \"Close_roll\": 1897.4, \"Price_Change_roll\": -0.001656663522483157, \"Mean_Score_roll\": 0.7208928204478726, \"Percent_of_PosSent_roll\": 1.0}, {\"Date\": \"2019-03-01T00:00:00\", \" Open\": 1900.0, \" High\": 1909.0, \" Low\": 1880.0, \" Close\": 1903.0, \" Volume\": 32450, \"Price_Change\": 0.0015789473684210526, \"Mean_Score\": 0.6969696619222545, \"Percent_of_PosSent\": 1.0, \"Close_roll\": 1900.0, \"Price_Change_roll\": -0.0003930067502207474, \"Mean_Score_roll\": 0.7129184342726665, \"Percent_of_PosSent_roll\": 1.0}, {\"Date\": \"2019-03-04T00:00:00\", \" Open\": 1890.0, \" High\": 1890.0, \" Low\": 1863.0, \" Close\": 1870.0, \" Volume\": 53805, \"Price_Change\": -0.010582010582010581, \"Mean_Score\": 0.6969696619222545, \"Percent_of_PosSent\": 1.0, \"Close_roll\": 1893.8, \"Price_Change_roll\": -0.0037799223658287933, \"Mean_Score_roll\": 0.7049440480974606, \"Percent_of_PosSent_roll\": 1.0}, {\"Date\": \"2019-03-05T00:00:00\", \" Open\": 1868.0, \" High\": 1899.0, \" Low\": 1868.0, \" Close\": 1879.0, \" Volume\": 23530, \"Price_Change\": 0.005888650963597431, \"Mean_Score\": 0.6969696619222545, \"Percent_of_PosSent\": 1.0, \"Close_roll\": 1889.6, \"Price_Change_roll\": -0.0006219941533073264, \"Mean_Score_roll\": 0.6969696619222545, \"Percent_of_PosSent_roll\": 1.0}, {\"Date\": \"2019-03-06T00:00:00\", \" Open\": 1899.0, \" High\": 1899.0, \" Low\": 1875.0, \" Close\": 1879.0, \" Volume\": 26435, \"Price_Change\": -0.010531858873091101, \"Mean_Score\": 0.6969696619222545, \"Percent_of_PosSent\": 1.0, \"Close_roll\": 1886.2, \"Price_Change_roll\": -0.0023073132963465992, \"Mean_Score_roll\": 0.6969696619222545, \"Percent_of_PosSent_roll\": 1.0}, {\"Date\": \"2019-03-07T00:00:00\", \" Open\": 1908.0, \" High\": 1917.0, \" Low\": 1878.0, \" Close\": 1912.0, \" Volume\": 23680, \"Price_Change\": 0.0020964360587002098, \"Mean_Score\": 0.6969696619222545, \"Percent_of_PosSent\": 1.0, \"Close_roll\": 1888.6, \"Price_Change_roll\": -0.0023099670128765995, \"Mean_Score_roll\": 0.6969696619222545, \"Percent_of_PosSent_roll\": 1.0}, {\"Date\": \"2019-03-08T00:00:00\", \" Open\": 1913.0, \" High\": 1936.0, \" Low\": 1913.0, \" Close\": 1923.0, \" Volume\": 11290, \"Price_Change\": 0.005227391531625719, \"Mean_Score\": 0.6969696619222545, \"Percent_of_PosSent\": 1.0, \"Close_roll\": 1892.6, \"Price_Change_roll\": -0.0015802781802356659, \"Mean_Score_roll\": 0.6969696619222545, \"Percent_of_PosSent_roll\": 1.0}, {\"Date\": \"2019-03-11T00:00:00\", \" Open\": 1923.0, \" High\": 1925.0, \" Low\": 1900.0, \" Close\": 1900.0, \" Volume\": 27290, \"Price_Change\": -0.011960478419136765, \"Mean_Score\": 0.6969696619222545, \"Percent_of_PosSent\": 1.0, \"Close_roll\": 1898.6, \"Price_Change_roll\": -0.0018559717476609027, \"Mean_Score_roll\": 0.6969696619222545, \"Percent_of_PosSent_roll\": 1.0}, {\"Date\": \"2019-03-12T00:00:00\", \" Open\": 1890.0, \" High\": 1910.0, \" Low\": 1865.0, \" Close\": 1878.0, \" Volume\": 35130, \"Price_Change\": -0.006349206349206349, \"Mean_Score\": 0.6969696619222545, \"Percent_of_PosSent\": 1.0, \"Close_roll\": 1898.4, \"Price_Change_roll\": -0.004303543210221658, \"Mean_Score_roll\": 0.6969696619222545, \"Percent_of_PosSent_roll\": 1.0}, {\"Date\": \"2019-03-13T00:00:00\", \" Open\": 1905.0, \" High\": 1905.0, \" Low\": 1851.0, \" Close\": 1851.0, \" Volume\": 44120, \"Price_Change\": -0.028346456692913385, \"Mean_Score\": 0.6969696619222545, \"Percent_of_PosSent\": 1.0, \"Close_roll\": 1892.8, \"Price_Change_roll\": -0.007866462774186114, \"Mean_Score_roll\": 0.6969696619222545, \"Percent_of_PosSent_roll\": 1.0}, {\"Date\": \"2019-03-14T00:00:00\", \" Open\": 1900.0, \" High\": 1930.0, \" Low\": 1860.0, \" Close\": 1930.0, \" Volume\": 26470, \"Price_Change\": 0.015789473684210527, \"Mean_Score\": 0.6969696619222545, \"Percent_of_PosSent\": 1.0, \"Close_roll\": 1896.4, \"Price_Change_roll\": -0.005127855249084052, \"Mean_Score_roll\": 0.6969696619222545, \"Percent_of_PosSent_roll\": 1.0}, {\"Date\": \"2019-03-15T00:00:00\", \" Open\": 1929.0, \" High\": 1947.0, \" Low\": 1896.0, \" Close\": 1916.0, \" Volume\": 179480, \"Price_Change\": -0.00673924313115604, \"Mean_Score\": 0.49480891782501196, \"Percent_of_PosSent\": 1.0, \"Close_roll\": 1895.0, \"Price_Change_roll\": -0.007521182181640404, \"Mean_Score_roll\": 0.656537513102806, \"Percent_of_PosSent_roll\": 1.0}, {\"Date\": \"2019-03-18T00:00:00\", \" Open\": 1906.0, \" High\": 1962.0, \" Low\": 1906.0, \" Close\": 1960.0, \" Volume\": 30425, \"Price_Change\": 0.02833158447009444, \"Mean_Score\": 0.49480891782501196, \"Percent_of_PosSent\": 1.0, \"Close_roll\": 1907.0, \"Price_Change_roll\": 0.0005372303962058372, \"Mean_Score_roll\": 0.6161053642833575, \"Percent_of_PosSent_roll\": 1.0}, {\"Date\": \"2019-03-19T00:00:00\", \" Open\": 1940.0, \" High\": 1987.0, \" Low\": 1940.0, \" Close\": 1987.0, \" Volume\": 32780, \"Price_Change\": 0.02422680412371134, \"Mean_Score\": 0.49480891782501196, \"Percent_of_PosSent\": 1.0, \"Close_roll\": 1928.8, \"Price_Change_roll\": 0.006652432490789376, \"Mean_Score_roll\": 0.5756732154639089, \"Percent_of_PosSent_roll\": 1.0}, {\"Date\": \"2019-03-20T00:00:00\", \" Open\": 1972.0, \" High\": 1979.0, \" Low\": 1937.0, \" Close\": 1937.0, \" Volume\": 14330, \"Price_Change\": -0.017748478701825558, \"Mean_Score\": 0.49480891782501196, \"Percent_of_PosSent\": 1.0, \"Close_roll\": 1946.0, \"Price_Change_roll\": 0.008772028089006942, \"Mean_Score_roll\": 0.5352410666444605, \"Percent_of_PosSent_roll\": 1.0}, {\"Date\": \"2019-03-21T00:00:00\", \" Open\": 1936.0, \" High\": 1980.0, \" Low\": 1936.0, \" Close\": 1972.0, \" Volume\": 18790, \"Price_Change\": 0.01859504132231405, \"Mean_Score\": 0.34999999125000025, \"Percent_of_PosSent\": 1.0, \"Close_roll\": 1954.4, \"Price_Change_roll\": 0.009333141616627646, \"Mean_Score_roll\": 0.4658471325100096, \"Percent_of_PosSent_roll\": 1.0}, {\"Date\": \"2019-03-22T00:00:00\", \" Open\": 1972.0, \" High\": 1996.0, \" Low\": 1951.0, \" Close\": 1996.0, \" Volume\": 23970, \"Price_Change\": 0.012170385395537525, \"Mean_Score\": 0.6666661481486502, \"Percent_of_PosSent\": 1.0, \"Close_roll\": 1970.4, \"Price_Change_roll\": 0.01311506732196636, \"Mean_Score_roll\": 0.5002185785747373, \"Percent_of_PosSent_roll\": 1.0}, {\"Date\": \"2019-03-25T00:00:00\", \" Open\": 1990.0, \" High\": 1999.0, \" Low\": 1930.0, \" Close\": 1999.0, \" Volume\": 22300, \"Price_Change\": 0.004522613065326633, \"Mean_Score\": 0.8235292927335851, \"Percent_of_PosSent\": 1.0, \"Close_roll\": 1978.2, \"Price_Change_roll\": 0.008353273041012797, \"Mean_Score_roll\": 0.5659626535564519, \"Percent_of_PosSent_roll\": 1.0}, {\"Date\": \"2019-03-26T00:00:00\", \" Open\": 1996.0, \" High\": 1998.0, \" Low\": 1941.0, \" Close\": 1947.0, \" Volume\": 25400, \"Price_Change\": -0.024549098196392786, \"Mean_Score\": 0.8235292927335851, \"Percent_of_PosSent\": 1.0, \"Close_roll\": 1970.2, \"Price_Change_roll\": -0.0014019074230080275, \"Mean_Score_roll\": 0.6317067285381666, \"Percent_of_PosSent_roll\": 1.0}, {\"Date\": \"2019-03-27T00:00:00\", \" Open\": 1945.0, \" High\": 1990.0, \" Low\": 1939.0, \" Close\": 1945.0, \" Volume\": 12350, \"Price_Change\": 0.0, \"Mean_Score\": 0.8235292927335851, \"Percent_of_PosSent\": 1.0, \"Close_roll\": 1971.8, \"Price_Change_roll\": 0.002147788317357084, \"Mean_Score_roll\": 0.6974508035198812, \"Percent_of_PosSent_roll\": 1.0}, {\"Date\": \"2019-03-28T00:00:00\", \" Open\": 1940.0, \" High\": 1977.0, \" Low\": 1910.0, \" Close\": 1950.0, \" Volume\": 13130, \"Price_Change\": 0.005154639175257732, \"Mean_Score\": 0.8235292927335851, \"Percent_of_PosSent\": 1.0, \"Close_roll\": 1967.4, \"Price_Change_roll\": -0.0005402921120541795, \"Mean_Score_roll\": 0.7921566638165982, \"Percent_of_PosSent_roll\": 1.0}, {\"Date\": \"2019-03-29T00:00:00\", \" Open\": 1950.0, \" High\": 1979.0, \" Low\": 1930.0, \" Close\": 1938.0, \" Volume\": 34500, \"Price_Change\": -0.006153846153846154, \"Mean_Score\": 0.8235292927335851, \"Percent_of_PosSent\": 1.0, \"Close_roll\": 1955.8, \"Price_Change_roll\": -0.004205138421930915, \"Mean_Score_roll\": 0.823529292733585, \"Percent_of_PosSent_roll\": 1.0}, {\"Date\": \"2019-04-01T00:00:00\", \" Open\": 1938.0, \" High\": 1950.0, \" Low\": 1910.0, \" Close\": 1918.0, \" Volume\": 14910, \"Price_Change\": -0.010319917440660475, \"Mean_Score\": 0.0, \"Percent_of_PosSent\": 0.0, \"Close_roll\": 1939.6, \"Price_Change_roll\": -0.007173644523128337, \"Mean_Score_roll\": 0.6588234341868681, \"Percent_of_PosSent_roll\": 0.8}, {\"Date\": \"2019-04-02T00:00:00\", \" Open\": 1918.0, \" High\": 1929.0, \" Low\": 1901.0, \" Close\": 1922.0, \" Volume\": 15080, \"Price_Change\": 0.0020855057351407717, \"Mean_Score\": 0.0, \"Percent_of_PosSent\": 0.0, \"Close_roll\": 1934.6, \"Price_Change_roll\": -0.0018467237368216254, \"Mean_Score_roll\": 0.4941175756401511, \"Percent_of_PosSent_roll\": 0.6}, {\"Date\": \"2019-04-03T00:00:00\", \" Open\": 1922.0, \" High\": 1955.0, \" Low\": 1895.0, \" Close\": 1955.0, \" Volume\": 27260, \"Price_Change\": 0.01716961498439126, \"Mean_Score\": 0.0, \"Percent_of_PosSent\": 0.0, \"Close_roll\": 1936.6, \"Price_Change_roll\": 0.0015871992600566265, \"Mean_Score_roll\": 0.32941171709343403, \"Percent_of_PosSent_roll\": 0.4}, {\"Date\": \"2019-04-04T00:00:00\", \" Open\": 1935.0, \" High\": 1955.0, \" Low\": 1912.0, \" Close\": 1920.0, \" Volume\": 32575, \"Price_Change\": -0.007751937984496124, \"Mean_Score\": 0.9999999285714337, \"Percent_of_PosSent\": 1.0, \"Close_roll\": 1930.6, \"Price_Change_roll\": -0.0009941161718941447, \"Mean_Score_roll\": 0.3647058442610038, \"Percent_of_PosSent_roll\": 0.4}, {\"Date\": \"2019-04-05T00:00:00\", \" Open\": 1943.0, \" High\": 1943.0, \" Low\": 1908.0, \" Close\": 1908.0, \" Volume\": 15565, \"Price_Change\": -0.018013381369016986, \"Mean_Score\": 0.9999999285714337, \"Percent_of_PosSent\": 1.0, \"Close_roll\": 1924.6, \"Price_Change_roll\": -0.0033660232149283114, \"Mean_Score_roll\": 0.39999997142857346, \"Percent_of_PosSent_roll\": 0.4}, {\"Date\": \"2019-04-08T00:00:00\", \" Open\": 1908.0, \" High\": 1936.0, \" Low\": 1900.0, \" Close\": 1923.0, \" Volume\": 23010, \"Price_Change\": 0.007861635220125786, \"Mean_Score\": 0.9999999285714337, \"Percent_of_PosSent\": 1.0, \"Close_roll\": 1925.6, \"Price_Change_roll\": 0.000270287317228941, \"Mean_Score_roll\": 0.5999999571428603, \"Percent_of_PosSent_roll\": 0.6}, {\"Date\": \"2019-04-10T00:00:00\", \" Open\": 1923.0, \" High\": 1923.0, \" Low\": 1900.0, \" Close\": 1910.0, \" Volume\": 39640, \"Price_Change\": -0.006760270410816433, \"Mean_Score\": 0.9999999285714337, \"Percent_of_PosSent\": 1.0, \"Close_roll\": 1923.2, \"Price_Change_roll\": -0.0014988679119625, \"Mean_Score_roll\": 0.7999999428571469, \"Percent_of_PosSent_roll\": 0.8}, {\"Date\": \"2019-04-11T00:00:00\", \" Open\": 1910.0, \" High\": 1920.0, \" Low\": 1894.0, \" Close\": 1894.0, \" Volume\": 19650, \"Price_Change\": -0.008376963350785341, \"Mean_Score\": 0.0, \"Percent_of_PosSent\": 0.0, \"Close_roll\": 1911.0, \"Price_Change_roll\": -0.00660818357899782, \"Mean_Score_roll\": 0.7999999428571469, \"Percent_of_PosSent_roll\": 0.8}, {\"Date\": \"2019-04-12T00:00:00\", \" Open\": 1894.0, \" High\": 1920.0, \" Low\": 1890.0, \" Close\": 1890.0, \" Volume\": 19140, \"Price_Change\": -0.0021119324181626186, \"Mean_Score\": -0.99999980000004, \"Percent_of_PosSent\": 0.0, \"Close_roll\": 1905.0, \"Price_Change_roll\": -0.005480182465731119, \"Mean_Score_roll\": 0.3999999971428522, \"Percent_of_PosSent_roll\": 0.6}, {\"Date\": \"2019-04-15T00:00:00\", \" Open\": 1891.0, \" High\": 1915.0, \" Low\": 1879.0, \" Close\": 1884.0, \" Volume\": 21655, \"Price_Change\": -0.0037017451084082496, \"Mean_Score\": -0.99999950000025, \"Percent_of_PosSent\": 0.0, \"Close_roll\": 1900.2, \"Price_Change_roll\": -0.002617855213609371, \"Mean_Score_roll\": 1.1142851550349774e-07, \"Percent_of_PosSent_roll\": 0.4}, {\"Date\": \"2019-04-16T00:00:00\", \" Open\": 1884.0, \" High\": 1910.0, \" Low\": 1866.0, \" Close\": 1866.0, \" Volume\": 22450, \"Price_Change\": -0.009554140127388535, \"Mean_Score\": -0.99999950000025, \"Percent_of_PosSent\": 0.0, \"Close_roll\": 1888.8, \"Price_Change_roll\": -0.006101010283112235, \"Mean_Score_roll\": -0.39999977428582123, \"Percent_of_PosSent_roll\": 0.2}, {\"Date\": \"2019-04-17T00:00:00\", \" Open\": 1866.0, \" High\": 1905.0, \" Low\": 1865.0, \" Close\": 1865.0, \" Volume\": 15535, \"Price_Change\": -0.0005359056806002144, \"Mean_Score\": -0.99999950000025, \"Percent_of_PosSent\": 0.0, \"Close_roll\": 1879.8, \"Price_Change_roll\": -0.004856137337068992, \"Mean_Score_roll\": -0.799999660000158, \"Percent_of_PosSent_roll\": 0.0}, {\"Date\": \"2019-04-22T00:00:00\", \" Open\": 1865.0, \" High\": 1890.0, \" Low\": 1859.0, \" Close\": 1878.0, \" Volume\": 9405, \"Price_Change\": 0.006970509383378016, \"Mean_Score\": -0.99999950000025, \"Percent_of_PosSent\": 0.0, \"Close_roll\": 1876.6, \"Price_Change_roll\": -0.0017866427902363206, \"Mean_Score_roll\": -0.9999995600002081, \"Percent_of_PosSent_roll\": 0.0}, {\"Date\": \"2019-04-23T00:00:00\", \" Open\": 1860.0, \" High\": 1864.0, \" Low\": 1830.0, \" Close\": 1830.0, \" Volume\": 51425, \"Price_Change\": -0.016129032258064516, \"Mean_Score\": -0.99999950000025, \"Percent_of_PosSent\": 0.0, \"Close_roll\": 1864.6, \"Price_Change_roll\": -0.0045900627582167, \"Mean_Score_roll\": -0.99999950000025, \"Percent_of_PosSent_roll\": 0.0}, {\"Date\": \"2019-04-24T00:00:00\", \" Open\": 1831.0, \" High\": 1874.0, \" Low\": 1790.0, \" Close\": 1790.0, \" Volume\": 71455, \"Price_Change\": -0.02239213544511196, \"Mean_Score\": 0.4285713673469475, \"Percent_of_PosSent\": 1.0, \"Close_roll\": 1845.8, \"Price_Change_roll\": -0.008328140825557443, \"Mean_Score_roll\": -0.7142853265308104, \"Percent_of_PosSent_roll\": 0.2}, {\"Date\": \"2019-04-25T00:00:00\", \" Open\": 1790.0, \" High\": 1837.0, \" Low\": 1755.0, \" Close\": 1780.0, \" Volume\": 53280, \"Price_Change\": -0.00558659217877095, \"Mean_Score\": 0.4285713673469475, \"Percent_of_PosSent\": 1.0, \"Close_roll\": 1828.6, \"Price_Change_roll\": -0.007534631235833926, \"Mean_Score_roll\": -0.42857115306137095, \"Percent_of_PosSent_roll\": 0.4}, {\"Date\": \"2019-04-26T00:00:00\", \" Open\": 1780.0, \" High\": 1780.0, \" Low\": 1762.0, \" Close\": 1766.0, \" Volume\": 36495, \"Price_Change\": -0.007865168539325843, \"Mean_Score\": 0.3124999804687512, \"Percent_of_PosSent\": 0.5, \"Close_roll\": 1808.8, \"Price_Change_roll\": -0.009000483807579052, \"Mean_Score_roll\": -0.16607125696757072, \"Percent_of_PosSent_roll\": 0.5}, {\"Date\": \"2019-04-29T00:00:00\", \" Open\": 1771.0, \" High\": 1840.0, \" Low\": 1771.0, \" Close\": 1800.0, \" Volume\": 40465, \"Price_Change\": 0.01637492941840768, \"Mean_Score\": 0.7499999531250029, \"Percent_of_PosSent\": 1.0, \"Close_roll\": 1793.2, \"Price_Change_roll\": -0.007119599800573117, \"Mean_Score_roll\": 0.18392863365747983, \"Percent_of_PosSent_roll\": 0.7}, {\"Date\": \"2019-04-30T00:00:00\", \" Open\": 1802.0, \" High\": 1829.0, \" Low\": 1780.0, \" Close\": 1780.0, \" Volume\": 35080, \"Price_Change\": -0.01220865704772475, \"Mean_Score\": 0.7499999531250029, \"Percent_of_PosSent\": 1.0, \"Close_roll\": 1783.2, \"Price_Change_roll\": -0.006335524758505166, \"Mean_Score_roll\": 0.5339285242825305, \"Percent_of_PosSent_roll\": 0.9}, {\"Date\": \"2019-05-02T00:00:00\", \" Open\": 1790.0, \" High\": 1810.0, \" Low\": 1790.0, \" Close\": 1799.0, \" Volume\": 41010, \"Price_Change\": 0.005027932960893855, \"Mean_Score\": 0.7499999531250029, \"Percent_of_PosSent\": 1.0, \"Close_roll\": 1785.0, \"Price_Change_roll\": -0.0008515110773040027, \"Mean_Score_roll\": 0.5982142414381415, \"Percent_of_PosSent_roll\": 0.9}, {\"Date\": \"2019-05-03T00:00:00\", \" Open\": 1804.0, \" High\": 1828.0, \" Low\": 1796.0, \" Close\": 1800.0, \" Volume\": 70210, \"Price_Change\": -0.0022172949002217295, \"Mean_Score\": 0.5555551975312003, \"Percent_of_PosSent\": 1.0, \"Close_roll\": 1789.0, \"Price_Change_roll\": -0.00017765162159415863, \"Mean_Score_roll\": 0.623611007474992, \"Percent_of_PosSent_roll\": 0.9}, {\"Date\": \"2019-05-06T00:00:00\", \" Open\": 1839.0, \" High\": 1865.0, \" Low\": 1838.0, \" Close\": 1865.0, \" Volume\": 60855, \"Price_Change\": 0.014138118542686243, \"Mean_Score\": 0.5555551975312003, \"Percent_of_PosSent\": 1.0, \"Close_roll\": 1808.8, \"Price_Change_roll\": 0.004223005794808258, \"Mean_Score_roll\": 0.6722220508874819, \"Percent_of_PosSent_roll\": 1.0}, {\"Date\": \"2019-05-07T00:00:00\", \" Open\": 1868.0, \" High\": 1998.0, \" Low\": 1868.0, \" Close\": 1990.0, \" Volume\": 174715, \"Price_Change\": 0.06531049250535331, \"Mean_Score\": 0.0, \"Percent_of_PosSent\": 0.0, \"Close_roll\": 1846.8, \"Price_Change_roll\": 0.014010118412197386, \"Mean_Score_roll\": 0.5222220602624812, \"Percent_of_PosSent_roll\": 0.8}, {\"Date\": \"2019-05-08T00:00:00\", \" Open\": 1999.0, \" High\": 2000.0, \" Low\": 1961.0, \" Close\": 1999.0, \" Volume\": 130400, \"Price_Change\": 0.0, \"Mean_Score\": 0.0, \"Percent_of_PosSent\": 0.0, \"Close_roll\": 1890.6, \"Price_Change_roll\": 0.01645184982174234, \"Mean_Score_roll\": 0.37222206963748067, \"Percent_of_PosSent_roll\": 0.6}, {\"Date\": \"2019-05-09T00:00:00\", \" Open\": 1988.0, \" High\": 2010.0, \" Low\": 1972.0, \" Close\": 1999.0, \" Volume\": 101190, \"Price_Change\": 0.005533199195171026, \"Mean_Score\": 0.9999999333333378, \"Percent_of_PosSent\": 1.0, \"Close_roll\": 1930.6, \"Price_Change_roll\": 0.01655290306859777, \"Mean_Score_roll\": 0.42222206567914766, \"Percent_of_PosSent_roll\": 0.6}, {\"Date\": \"2019-05-10T00:00:00\", \" Open\": 2000.0, \" High\": 2012.0, \" Low\": 1975.0, \" Close\": 1995.0, \" Volume\": 90365, \"Price_Change\": -0.0025, \"Mean_Score\": 0.9999999333333378, \"Percent_of_PosSent\": 1.0, \"Close_roll\": 1969.6, \"Price_Change_roll\": 0.01649636204864212, \"Mean_Score_roll\": 0.5111110128395752, \"Percent_of_PosSent_roll\": 0.6}, {\"Date\": \"2019-05-14T00:00:00\", \" Open\": 2000.0, \" High\": 2012.0, \" Low\": 1975.0, \" Close\": 1998.0, \" Volume\": 105330, \"Price_Change\": -0.001, \"Mean_Score\": 0.9999999333333378, \"Percent_of_PosSent\": 1.0, \"Close_roll\": 1996.2, \"Price_Change_roll\": 0.013468738340104869, \"Mean_Score_roll\": 0.5999999600000028, \"Percent_of_PosSent_roll\": 0.6}, {\"Date\": \"2019-05-15T00:00:00\", \" Open\": 1995.0, \" High\": 2018.0, \" Low\": 1981.0, \" Close\": 1985.0, \" Volume\": 61555, \"Price_Change\": -0.005012531328320802, \"Mean_Score\": 0.9999999333333378, \"Percent_of_PosSent\": 1.0, \"Close_roll\": 1995.2, \"Price_Change_roll\": -0.0005958664266299551, \"Mean_Score_roll\": 0.7999999466666703, \"Percent_of_PosSent_roll\": 0.8}, {\"Date\": \"2019-05-16T00:00:00\", \" Open\": 1945.0, \" High\": 1984.0, \" Low\": 1930.0, \" Close\": 1950.0, \" Volume\": 39885, \"Price_Change\": 0.002570694087403599, \"Mean_Score\": -0.199999960000008, \"Percent_of_PosSent\": 0.0, \"Close_roll\": 1985.4, \"Price_Change_roll\": -8.172760914923532e-05, \"Mean_Score_roll\": 0.7599999546666687, \"Percent_of_PosSent_roll\": 0.8}, {\"Date\": \"2019-05-17T00:00:00\", \" Open\": 1930.0, \" High\": 2000.0, \" Low\": 1930.0, \" Close\": 1999.0, \" Volume\": 76295, \"Price_Change\": 0.035751295336787565, \"Mean_Score\": -0.199999960000008, \"Percent_of_PosSent\": 0.0, \"Close_roll\": 1985.4, \"Price_Change_roll\": 0.005961891619174073, \"Mean_Score_roll\": 0.5199999759999995, \"Percent_of_PosSent_roll\": 0.6}, {\"Date\": \"2019-05-20T00:00:00\", \" Open\": 1987.0, \" High\": 2022.0, \" Low\": 1974.0, \" Close\": 2018.0, \" Volume\": 39425, \"Price_Change\": 0.01560140915953699, \"Mean_Score\": -0.199999960000008, \"Percent_of_PosSent\": 0.0, \"Close_roll\": 1990.0, \"Price_Change_roll\": 0.009582173451081472, \"Mean_Score_roll\": 0.27999999733333036, \"Percent_of_PosSent_roll\": 0.4}, {\"Date\": \"2019-05-21T00:00:00\", \" Open\": 2018.0, \" High\": 2114.0, \" Low\": 2000.0, \" Close\": 2114.0, \" Volume\": 134350, \"Price_Change\": 0.04757185332011893, \"Mean_Score\": 0.33333322222225925, \"Percent_of_PosSent\": 1.0, \"Close_roll\": 2013.2, \"Price_Change_roll\": 0.019296544115105257, \"Mean_Score_roll\": 0.1466666551111146, \"Percent_of_PosSent_roll\": 0.4}, {\"Date\": \"2019-05-22T00:00:00\", \" Open\": 2070.0, \" High\": 2152.0, \" Low\": 2070.0, \" Close\": 2150.0, \" Volume\": 88375, \"Price_Change\": 0.03864734299516908, \"Mean_Score\": 0.0142856743367481, \"Percent_of_PosSent\": 0.25, \"Close_roll\": 2046.2, \"Price_Change_roll\": 0.028028518979803234, \"Mean_Score_roll\": -0.050476196688203336, \"Percent_of_PosSent_roll\": 0.25}, {\"Date\": \"2019-05-23T00:00:00\", \" Open\": 2100.0, \" High\": 2150.0, \" Low\": 2090.0, \" Close\": 2100.0, \" Volume\": 94195, \"Price_Change\": 0.0, \"Mean_Score\": 0.0142856743367481, \"Percent_of_PosSent\": 0.25, \"Close_roll\": 2076.2, \"Price_Change_roll\": 0.027514380162322515, \"Mean_Score_roll\": -0.007619069820852115, \"Percent_of_PosSent_roll\": 0.3}, {\"Date\": \"2019-05-24T00:00:00\", \" Open\": 2050.0, \" High\": 2102.0, \" Low\": 2050.0, \" Close\": 2088.0, \" Volume\": 73395, \"Price_Change\": 0.018536585365853658, \"Mean_Score\": 0.0142856743367481, \"Percent_of_PosSent\": 0.25, \"Close_roll\": 2094.0, \"Price_Change_roll\": 0.02407143816813573, \"Mean_Score_roll\": 0.035238057046499106, \"Percent_of_PosSent_roll\": 0.35}, {\"Date\": \"2019-05-27T00:00:00\", \" Open\": 2062.0, \" High\": 2110.0, \" Low\": 2062.0, \" Close\": 2080.0, \" Volume\": 31290, \"Price_Change\": 0.008729388942774006, \"Mean_Score\": -0.4999999375000079, \"Percent_of_PosSent\": 0.0, \"Close_roll\": 2106.4, \"Price_Change_roll\": 0.022697034124783133, \"Mean_Score_roll\": -0.024761938453500866, \"Percent_of_PosSent_roll\": 0.35}, {\"Date\": \"2019-05-28T00:00:00\", \" Open\": 2064.0, \" High\": 2168.0, \" Low\": 2064.0, \" Close\": 2112.0, \" Volume\": 199340, \"Price_Change\": 0.023255813953488372, \"Mean_Score\": -0.4999999375000079, \"Percent_of_PosSent\": 0.0, \"Close_roll\": 2106.0, \"Price_Change_roll\": 0.017833826251457026, \"Mean_Score_roll\": -0.1914285703979543, \"Percent_of_PosSent_roll\": 0.15}, {\"Date\": \"2019-05-29T00:00:00\", \" Open\": 2140.0, \" High\": 2186.0, \" Low\": 2134.0, \" Close\": 2176.0, \" Volume\": 61135, \"Price_Change\": 0.016822429906542057, \"Mean_Score\": 0.2857142653061239, \"Percent_of_PosSent\": 1.0, \"Close_roll\": 2111.2, \"Price_Change_roll\": 0.01346884363373162, \"Mean_Score_roll\": -0.13714285220407912, \"Percent_of_PosSent_roll\": 0.3}, {\"Date\": \"2019-05-30T00:00:00\", \" Open\": 2192.0, \" High\": 2230.0, \" Low\": 2128.0, \" Close\": 2210.0, \" Volume\": 81405, \"Price_Change\": 0.008211678832116789, \"Mean_Score\": 0.2857142653061239, \"Percent_of_PosSent\": 1.0, \"Close_roll\": 2133.2, \"Price_Change_roll\": 0.015111179400154976, \"Mean_Score_roll\": -0.08285713401020396, \"Percent_of_PosSent_roll\": 0.45}, {\"Date\": \"2019-05-31T00:00:00\", \" Open\": 2220.0, \" High\": 2238.0, \" Low\": 2170.0, \" Close\": 2170.0, \" Volume\": 82375, \"Price_Change\": -0.02252252252252252, \"Mean_Score\": 0.27930400612625295, \"Percent_of_PosSent\": 1.0, \"Close_roll\": 2149.6, \"Price_Change_roll\": 0.006899357822479741, \"Mean_Score_roll\": -0.02985346765230299, \"Percent_of_PosSent_roll\": 0.6}, {\"Date\": \"2019-06-03T00:00:00\", \" Open\": 2170.0, \" High\": 2260.0, \" Low\": 2166.0, \" Close\": 2260.0, \" Volume\": 72535, \"Price_Change\": 0.041474654377880185, \"Mean_Score\": 0.27930400612625295, \"Percent_of_PosSent\": 1.0, \"Close_roll\": 2185.6, \"Price_Change_roll\": 0.013448410909500977, \"Mean_Score_roll\": 0.12600732107294918, \"Percent_of_PosSent_roll\": 0.8}, {\"Date\": \"2019-06-04T00:00:00\", \" Open\": 2268.0, \" High\": 2298.0, \" Low\": 2202.0, \" Close\": 2294.0, \" Volume\": 98100, \"Price_Change\": 0.01146384479717813, \"Mean_Score\": 0.27930400612625295, \"Percent_of_PosSent\": 1.0, \"Close_roll\": 2222.0, \"Price_Change_roll\": 0.011090017078238928, \"Mean_Score_roll\": 0.2818681097982013, \"Percent_of_PosSent_roll\": 1.0}, {\"Date\": \"2019-06-06T00:00:00\", \" Open\": 2294.0, \" High\": 2308.0, \" Low\": 2250.0, \" Close\": 2274.0, \" Volume\": 50600, \"Price_Change\": -0.008718395815170008, \"Mean_Score\": 0.27930400612625295, \"Percent_of_PosSent\": 1.0, \"Close_roll\": 2241.6, \"Price_Change_roll\": 0.0059818519338965155, \"Mean_Score_roll\": 0.28058605796222713, \"Percent_of_PosSent_roll\": 1.0}, {\"Date\": \"2019-06-07T00:00:00\", \" Open\": 2230.0, \" High\": 2272.0, \" Low\": 2230.0, \" Close\": 2240.0, \" Volume\": 30235, \"Price_Change\": 0.004484304932735426, \"Mean_Score\": 0.27930400612625295, \"Percent_of_PosSent\": 1.0, \"Close_roll\": 2247.6, \"Price_Change_roll\": 0.005236377154020243, \"Mean_Score_roll\": 0.27930400612625295, \"Percent_of_PosSent_roll\": 1.0}, {\"Date\": \"2019-06-10T00:00:00\", \" Open\": 2234.0, \" High\": 2244.0, \" Low\": 2226.0, \" Close\": 2226.0, \" Volume\": 11005, \"Price_Change\": -0.0035810205908683975, \"Mean_Score\": 0.9999990000010001, \"Percent_of_PosSent\": 1.0, \"Close_roll\": 2258.8, \"Price_Change_roll\": 0.009024677540351068, \"Mean_Score_roll\": 0.42344300490120246, \"Percent_of_PosSent_roll\": 1.0}, {\"Date\": \"2019-06-11T00:00:00\", \" Open\": 2230.0, \" High\": 2244.0, \" Low\": 2200.0, \" Close\": 2200.0, \" Volume\": 47025, \"Price_Change\": -0.013452914798206279, \"Mean_Score\": 0.9999990000010001, \"Percent_of_PosSent\": 1.0, \"Close_roll\": 2246.8, \"Price_Change_roll\": -0.001960836294866225, \"Mean_Score_roll\": 0.5675820036761519, \"Percent_of_PosSent_roll\": 1.0}, {\"Date\": \"2019-06-13T00:00:00\", \" Open\": 2238.0, \" High\": 2274.0, \" Low\": 2172.0, \" Close\": 2220.0, \" Volume\": 91470, \"Price_Change\": -0.00804289544235925, \"Mean_Score\": 0.9999990000010001, \"Percent_of_PosSent\": 1.0, \"Close_roll\": 2232.0, \"Price_Change_roll\": -0.0058621843427737, \"Mean_Score_roll\": 0.7117210024511011, \"Percent_of_PosSent_roll\": 1.0}, {\"Date\": \"2019-06-14T00:00:00\", \" Open\": 2230.0, \" High\": 2240.0, \" Low\": 2190.0, \" Close\": 2220.0, \" Volume\": 53835, \"Price_Change\": -0.004484304932735426, \"Mean_Score\": 0.9999990000010001, \"Percent_of_PosSent\": 1.0, \"Close_roll\": 2221.2, \"Price_Change_roll\": -0.005015366166286785, \"Mean_Score_roll\": 0.8558600012260508, \"Percent_of_PosSent_roll\": 1.0}, {\"Date\": \"2019-06-17T00:00:00\", \" Open\": 2202.0, \" High\": 2238.0, \" Low\": 2122.0, \" Close\": 2162.0, \" Volume\": 33015, \"Price_Change\": -0.018165304268846504, \"Mean_Score\": 0.0, \"Percent_of_PosSent\": 0.0, \"Close_roll\": 2205.6, \"Price_Change_roll\": -0.00954528800660317, \"Mean_Score_roll\": 0.7999992000008, \"Percent_of_PosSent_roll\": 0.8}, {\"Date\": \"2019-06-18T00:00:00\", \" Open\": 2144.0, \" High\": 2200.0, \" Low\": 2144.0, \" Close\": 2200.0, \" Volume\": 33680, \"Price_Change\": 0.026119402985074626, \"Mean_Score\": 0.3714285107483095, \"Percent_of_PosSent\": 1.0, \"Close_roll\": 2200.4, \"Price_Change_roll\": -0.003605203291414565, \"Mean_Score_roll\": 0.6742851021502619, \"Percent_of_PosSent_roll\": 0.8}, {\"Date\": \"2019-06-19T00:00:00\", \" Open\": 2220.0, \" High\": 2260.0, \" Low\": 2202.0, \" Close\": 2260.0, \" Volume\": 61520, \"Price_Change\": 0.018018018018018018, \"Mean_Score\": 0.33333322222225925, \"Percent_of_PosSent\": 1.0, \"Close_roll\": 2212.4, \"Price_Change_roll\": 0.0026889832718302933, \"Mean_Score_roll\": 0.5409519465945138, \"Percent_of_PosSent_roll\": 0.8}, {\"Date\": \"2019-06-20T00:00:00\", \" Open\": 2260.0, \" High\": 2260.0, \" Low\": 2208.0, \" Close\": 2214.0, \" Volume\": 39960, \"Price_Change\": -0.020353982300884955, \"Mean_Score\": 0.3282051116765296, \"Percent_of_PosSent\": 0.6666666666666666, \"Close_roll\": 2211.2, \"Price_Change_roll\": 0.0002267659001251518, \"Mean_Score_roll\": 0.4065931689296197, \"Percent_of_PosSent_roll\": 0.7333333333333333}, {\"Date\": \"2019-06-21T00:00:00\", \" Open\": 2228.0, \" High\": 2230.0, \" Low\": 2204.0, \" Close\": 2230.0, \" Volume\": 48175, \"Price_Change\": 0.0008976660682226212, \"Mean_Score\": 0.3282051116765296, \"Percent_of_PosSent\": 0.6666666666666666, \"Close_roll\": 2213.2, \"Price_Change_roll\": 0.0013031601003167617, \"Mean_Score_roll\": 0.2722343912647256, \"Percent_of_PosSent_roll\": 0.6666666666666666}, {\"Date\": \"2019-06-24T00:00:00\", \" Open\": 2218.0, \" High\": 2230.0, \" Low\": 2182.0, \" Close\": 2208.0, \" Volume\": 37315, \"Price_Change\": -0.004508566275924256, \"Mean_Score\": 0.9115383798117341, \"Percent_of_PosSent\": 1.0, \"Close_roll\": 2222.4, \"Price_Change_roll\": 0.004034507698901212, \"Mean_Score_roll\": 0.45454206722707247, \"Percent_of_PosSent_roll\": 0.8666666666666666}, {\"Date\": \"2019-06-25T00:00:00\", \" Open\": 2208.0, \" High\": 2228.0, \" Low\": 2192.0, \" Close\": 2200.0, \" Volume\": 39070, \"Price_Change\": -0.0036231884057971015, \"Mean_Score\": 0.9115383798117341, \"Percent_of_PosSent\": 1.0, \"Close_roll\": 2222.4, \"Price_Change_roll\": -0.0019140105792731343, \"Mean_Score_roll\": 0.5625640410397573, \"Percent_of_PosSent_roll\": 0.8666666666666666}, {\"Date\": \"2019-06-26T00:00:00\", \" Open\": 2210.0, \" High\": 2268.0, \" Low\": 2202.0, \" Close\": 2260.0, \" Volume\": 56000, \"Price_Change\": 0.02262443438914027, \"Mean_Score\": 0.9115383798117341, \"Percent_of_PosSent\": 1.0, \"Close_roll\": 2222.4, \"Price_Change_roll\": -0.0009927273050486837, \"Mean_Score_roll\": 0.6782050725576523, \"Percent_of_PosSent_roll\": 0.8666666666666666}, {\"Date\": \"2019-06-27T00:00:00\", \" Open\": 2240.0, \" High\": 2280.0, \" Low\": 2240.0, \" Close\": 2280.0, \" Volume\": 64360, \"Price_Change\": 0.017857142857142856, \"Mean_Score\": 0.9115383798117341, \"Percent_of_PosSent\": 1.0, \"Close_roll\": 2235.6, \"Price_Change_roll\": 0.006649497726556879, \"Mean_Score_roll\": 0.7948717261846932, \"Percent_of_PosSent_roll\": 0.9333333333333333}, {\"Date\": \"2019-06-28T00:00:00\", \" Open\": 2260.0, \" High\": 2270.0, \" Low\": 2232.0, \" Close\": 2262.0, \" Volume\": 135600, \"Price_Change\": 0.0008849557522123894, \"Mean_Score\": 0.9115383798117341, \"Percent_of_PosSent\": 1.0, \"Close_roll\": 2242.0, \"Price_Change_roll\": 0.006646955663354832, \"Mean_Score_roll\": 0.9115383798117342, \"Percent_of_PosSent_roll\": 1.0}, {\"Date\": \"2019-07-01T00:00:00\", \" Open\": 2262.0, \" High\": 2268.0, \" Low\": 2224.0, \" Close\": 2230.0, \" Volume\": 44705, \"Price_Change\": -0.014146772767462422, \"Mean_Score\": 0.9115383798117341, \"Percent_of_PosSent\": 1.0, \"Close_roll\": 2246.4, \"Price_Change_roll\": 0.004719314365047199, \"Mean_Score_roll\": 0.911538379811734, \"Percent_of_PosSent_roll\": 1.0}, {\"Date\": \"2019-07-02T00:00:00\", \" Open\": 2254.0, \" High\": 2270.0, \" Low\": 2214.0, \" Close\": 2220.0, \" Volume\": 41340, \"Price_Change\": -0.015084294587400177, \"Mean_Score\": 0.6835016161276127, \"Percent_of_PosSent\": 1.0, \"Close_roll\": 2250.4, \"Price_Change_roll\": 0.002427093128726584, \"Mean_Score_roll\": 0.8659310270749099, \"Percent_of_PosSent_roll\": 1.0}, {\"Date\": \"2019-07-03T00:00:00\", \" Open\": 2216.0, \" High\": 2238.0, \" Low\": 2214.0, \" Close\": 2236.0, \" Volume\": 56875, \"Price_Change\": 0.009025270758122744, \"Mean_Score\": 0.6835016161276127, \"Percent_of_PosSent\": 1.0, \"Close_roll\": 2245.6, \"Price_Change_roll\": -0.00029273959747692127, \"Mean_Score_roll\": 0.8203236743380856, \"Percent_of_PosSent_roll\": 1.0}, {\"Date\": \"2019-07-04T00:00:00\", \" Open\": 2236.0, \" High\": 2276.0, \" Low\": 2234.0, \" Close\": 2258.0, \" Volume\": 56690, \"Price_Change\": 0.009838998211091235, \"Mean_Score\": 0.6835016161276127, \"Percent_of_PosSent\": 1.0, \"Close_roll\": 2241.2, \"Price_Change_roll\": -0.0018963685266872453, \"Mean_Score_roll\": 0.7747163216012612, \"Percent_of_PosSent_roll\": 1.0}, {\"Date\": \"2019-07-05T00:00:00\", \" Open\": 2260.0, \" High\": 2260.0, \" Low\": 2236.0, \" Close\": 2258.0, \" Volume\": 32970, \"Price_Change\": -0.0008849557522123894, \"Mean_Score\": 0.9999998989899094, \"Percent_of_PosSent\": 1.0, \"Close_roll\": 2240.4, \"Price_Change_roll\": -0.002250350827572201, \"Mean_Score_roll\": 0.7924086254368963, \"Percent_of_PosSent_roll\": 1.0}, {\"Date\": \"2019-07-08T00:00:00\", \" Open\": 2262.0, \" High\": 2262.0, \" Low\": 2178.0, \" Close\": 2196.0, \" Volume\": 34545, \"Price_Change\": -0.029177718832891247, \"Mean_Score\": 0.9999998989899094, \"Percent_of_PosSent\": 1.0, \"Close_roll\": 2233.6, \"Price_Change_roll\": -0.005256540040657965, \"Mean_Score_roll\": 0.8101009292725314, \"Percent_of_PosSent_roll\": 1.0}, {\"Date\": \"2019-07-09T00:00:00\", \" Open\": 2164.0, \" High\": 2164.0, \" Low\": 2112.0, \" Close\": 2132.0, \" Volume\": 62390, \"Price_Change\": -0.014787430683918669, \"Mean_Score\": 0.33333327777778704, \"Percent_of_PosSent\": 1.0, \"Close_roll\": 2216.0, \"Price_Change_roll\": -0.005197167259961664, \"Mean_Score_roll\": 0.7400672616025663, \"Percent_of_PosSent_roll\": 1.0}, {\"Date\": \"2019-07-10T00:00:00\", \" Open\": 2132.0, \" High\": 2174.0, \" Low\": 2132.0, \" Close\": 2174.0, \" Volume\": 64300, \"Price_Change\": 0.019699812382739212, \"Mean_Score\": 0.33333327777778704, \"Percent_of_PosSent\": 1.0, \"Close_roll\": 2203.6, \"Price_Change_roll\": -0.00306225893503837, \"Mean_Score_roll\": 0.6700335939326012, \"Percent_of_PosSent_roll\": 1.0}, {\"Date\": \"2019-07-11T00:00:00\", \" Open\": 2172.0, \" High\": 2220.0, \" Low\": 2152.0, \" Close\": 2200.0, \" Volume\": 83625, \"Price_Change\": 0.01289134438305709, \"Mean_Score\": 0.33333327777778704, \"Percent_of_PosSent\": 1.0, \"Close_roll\": 2192.0, \"Price_Change_roll\": -0.002451789700645199, \"Mean_Score_roll\": 0.5999999262626361, \"Percent_of_PosSent_roll\": 1.0}, {\"Date\": \"2019-07-12T00:00:00\", \" Open\": 2200.0, \" High\": 2240.0, \" Low\": 2112.0, \" Close\": 2200.0, \" Volume\": 38080, \"Price_Change\": 0.0, \"Mean_Score\": 0.33333327777778704, \"Percent_of_PosSent\": 1.0, \"Close_roll\": 2180.4, \"Price_Change_roll\": -0.0022747985502027217, \"Mean_Score_roll\": 0.4666666020202115, \"Percent_of_PosSent_roll\": 1.0}, {\"Date\": \"2019-07-15T00:00:00\", \" Open\": 2184.0, \" High\": 2242.0, \" Low\": 2184.0, \" Close\": 2232.0, \" Volume\": 76655, \"Price_Change\": 0.02197802197802198, \"Mean_Score\": -0.9999990000010001, \"Percent_of_PosSent\": 0.0, \"Close_roll\": 2187.6, \"Price_Change_roll\": 0.007956349611979923, \"Mean_Score_roll\": 0.06666682222202962, \"Percent_of_PosSent_roll\": 0.8}, {\"Date\": \"2019-07-16T00:00:00\", \" Open\": 2240.0, \" High\": 2246.0, \" Low\": 2140.0, \" Close\": 2140.0, \" Volume\": 54560, \"Price_Change\": -0.044642857142857144, \"Mean_Score\": -0.9999990000010001, \"Percent_of_PosSent\": 0.0, \"Close_roll\": 2189.2, \"Price_Change_roll\": 0.0019852643201922287, \"Mean_Score_roll\": -0.1999996333337278, \"Percent_of_PosSent_roll\": 0.6}, {\"Date\": \"2019-07-17T00:00:00\", \" Open\": 2142.0, \" High\": 2208.0, \" Low\": 2142.0, \" Close\": 2180.0, \" Volume\": 19070, \"Price_Change\": 0.017740429505135387, \"Mean_Score\": 0.33666663811666947, \"Percent_of_PosSent\": 1.0, \"Close_roll\": 2190.4, \"Price_Change_roll\": 0.0015933877446714637, \"Mean_Score_roll\": -0.1993329612659513, \"Percent_of_PosSent_roll\": 0.6}, {\"Date\": \"2019-07-18T00:00:00\", \" Open\": 2212.0, \" High\": 2232.0, \" Low\": 2182.0, \" Close\": 2230.0, \" Volume\": 50580, \"Price_Change\": 0.0081374321880651, \"Mean_Score\": 0.33666663811666947, \"Percent_of_PosSent\": 1.0, \"Close_roll\": 2196.4, \"Price_Change_roll\": 0.0006426053056730656, \"Mean_Score_roll\": -0.1986662891981748, \"Percent_of_PosSent_roll\": 0.6}, {\"Date\": \"2019-07-19T00:00:00\", \" Open\": 2238.0, \" High\": 2260.0, \" Low\": 2220.0, \" Close\": 2244.0, \" Volume\": 94360, \"Price_Change\": 0.002680965147453083, \"Mean_Score\": 0.33666663811666947, \"Percent_of_PosSent\": 1.0, \"Close_roll\": 2205.2, \"Price_Change_roll\": 0.0011787983351636822, \"Mean_Score_roll\": -0.19799961713039832, \"Percent_of_PosSent_roll\": 0.6}, {\"Date\": \"2019-07-22T00:00:00\", \" Open\": 2212.0, \" High\": 2238.0, \" Low\": 2204.0, \" Close\": 2216.0, \" Volume\": 18860, \"Price_Change\": 0.0018083182640144665, \"Mean_Score\": 0.33666663811666947, \"Percent_of_PosSent\": 1.0, \"Close_roll\": 2202.0, \"Price_Change_roll\": -0.00285514240763782, \"Mean_Score_roll\": 0.06933351049313556, \"Percent_of_PosSent_roll\": 0.8}, {\"Date\": \"2019-07-23T00:00:00\", \" Open\": 2180.0, \" High\": 2214.0, \" Low\": 2180.0, \" Close\": 2180.0, \" Volume\": 17355, \"Price_Change\": 0.0, \"Mean_Score\": 0.35294116608996573, \"Percent_of_PosSent\": 1.0, \"Close_roll\": 2210.0, \"Price_Change_roll\": 0.006073429020933607, \"Mean_Score_roll\": 0.3399215437113287, \"Percent_of_PosSent_roll\": 1.0}, {\"Date\": \"2019-07-24T00:00:00\", \" Open\": 2180.0, \" High\": 2200.0, \" Low\": 2174.0, \" Close\": 2190.0, \" Volume\": 32240, \"Price_Change\": 0.0045871559633027525, \"Mean_Score\": 0.35294116608996573, \"Percent_of_PosSent\": 1.0, \"Close_roll\": 2212.0, \"Price_Change_roll\": 0.0034427743125670803, \"Mean_Score_roll\": 0.343176449305988, \"Percent_of_PosSent_roll\": 1.0}, {\"Date\": \"2019-07-25T00:00:00\", \" Open\": 2200.0, \" High\": 2236.0, \" Low\": 2176.0, \" Close\": 2236.0, \" Volume\": 68780, \"Price_Change\": 0.016363636363636365, \"Mean_Score\": 0.35294116608996573, \"Percent_of_PosSent\": 1.0, \"Close_roll\": 2213.2, \"Price_Change_roll\": 0.005088015147681334, \"Mean_Score_roll\": 0.3464313549006472, \"Percent_of_PosSent_roll\": 1.0}, {\"Date\": \"2019-07-26T00:00:00\", \" Open\": 2234.0, \" High\": 2236.0, \" Low\": 2204.0, \" Close\": 2220.0, \" Volume\": 37345, \"Price_Change\": -0.006266786034019696, \"Mean_Score\": 0.35294116608996573, \"Percent_of_PosSent\": 1.0, \"Close_roll\": 2208.4, \"Price_Change_roll\": 0.0032984649113867773, \"Mean_Score_roll\": 0.3496862604953065, \"Percent_of_PosSent_roll\": 1.0}, {\"Date\": \"2019-07-29T00:00:00\", \" Open\": 2210.0, \" High\": 2260.0, \" Low\": 2190.0, \" Close\": 2260.0, \" Volume\": 26095, \"Price_Change\": 0.02262443438914027, \"Mean_Score\": 0.35294116608996573, \"Percent_of_PosSent\": 1.0, \"Close_roll\": 2217.2, \"Price_Change_roll\": 0.007461688136411938, \"Mean_Score_roll\": 0.35294116608996573, \"Percent_of_PosSent_roll\": 1.0}, {\"Date\": \"2019-07-30T00:00:00\", \" Open\": 2200.0, \" High\": 2244.0, \" Low\": 2190.0, \" Close\": 2190.0, \" Volume\": 36335, \"Price_Change\": -0.004545454545454545, \"Mean_Score\": 0.35294116608996573, \"Percent_of_PosSent\": 1.0, \"Close_roll\": 2219.2, \"Price_Change_roll\": 0.00655259722732103, \"Mean_Score_roll\": 0.35294116608996573, \"Percent_of_PosSent_roll\": 1.0}, {\"Date\": \"2019-07-31T00:00:00\", \" Open\": 2192.0, \" High\": 2216.0, \" Low\": 2148.0, \" Close\": 2148.0, \" Volume\": 90425, \"Price_Change\": -0.020072992700729927, \"Mean_Score\": 0.2499999875000006, \"Percent_of_PosSent\": 0.5, \"Close_roll\": 2210.8, \"Price_Change_roll\": 0.0016205674945144939, \"Mean_Score_roll\": 0.33235293037197267, \"Percent_of_PosSent_roll\": 0.9}, {\"Date\": \"2019-08-01T00:00:00\", \" Open\": 2152.0, \" High\": 2152.0, \" Low\": 2060.0, \" Close\": 2098.0, \" Volume\": 49005, \"Price_Change\": -0.02509293680297398, \"Mean_Score\": 0.0, \"Percent_of_PosSent\": 0.0, \"Close_roll\": 2183.2, \"Price_Change_roll\": -0.006670747138807576, \"Mean_Score_roll\": 0.26176469715397954, \"Percent_of_PosSent_roll\": 0.7}, {\"Date\": \"2019-08-02T00:00:00\", \" Open\": 2098.0, \" High\": 2116.0, \" Low\": 2058.0, \" Close\": 2100.0, \" Volume\": 26305, \"Price_Change\": 0.0009532888465204957, \"Mean_Score\": 0.49999950000050003, \"Percent_of_PosSent\": 0.5, \"Close_roll\": 2159.2, \"Price_Change_roll\": -0.0052267321626995366, \"Mean_Score_roll\": 0.2911763639360864, \"Percent_of_PosSent_roll\": 0.6}, {\"Date\": \"2019-08-05T00:00:00\", \" Open\": 2100.0, \" High\": 2100.0, \" Low\": 1984.0, \" Close\": 1984.0, \" Volume\": 63700, \"Price_Change\": -0.05523809523809524, \"Mean_Score\": 0.49999950000050003, \"Percent_of_PosSent\": 0.5, \"Close_roll\": 2104.0, \"Price_Change_roll\": -0.020799238088146637, \"Mean_Score_roll\": 0.3205880307181933, \"Percent_of_PosSent_roll\": 0.5}, {\"Date\": \"2019-08-06T00:00:00\", \" Open\": 1980.0, \" High\": 1990.0, \" Low\": 1935.0, \" Close\": 1954.0, \" Volume\": 54710, \"Price_Change\": -0.013131313131313131, \"Mean_Score\": -0.199999960000008, \"Percent_of_PosSent\": 0.0, \"Close_roll\": 2056.8, \"Price_Change_roll\": -0.022516409805318355, \"Mean_Score_roll\": 0.20999980550019853, \"Percent_of_PosSent_roll\": 0.3}, {\"Date\": \"2019-08-07T00:00:00\", \" Open\": 1980.0, \" High\": 1994.0, \" Low\": 1943.0, \" Close\": 1960.0, \" Volume\": 38660, \"Price_Change\": -0.010101010101010102, \"Mean_Score\": 0.22424240233241818, \"Percent_of_PosSent\": 1.0, \"Close_roll\": 2019.2, \"Price_Change_roll\": -0.02052201328537439, \"Mean_Score_roll\": 0.20484828846668207, \"Percent_of_PosSent_roll\": 0.4}, {\"Date\": \"2019-08-08T00:00:00\", \" Open\": 1980.0, \" High\": 2030.0, \" Low\": 1971.0, \" Close\": 1971.0, \" Volume\": 92355, \"Price_Change\": -0.004545454545454545, \"Mean_Score\": 0.4999999375000079, \"Percent_of_PosSent\": 1.0, \"Close_roll\": 1993.8, \"Price_Change_roll\": -0.016412516833870502, \"Mean_Score_roll\": 0.3048482759666836, \"Percent_of_PosSent_roll\": 0.6}, {\"Date\": \"2019-08-09T00:00:00\", \" Open\": 1973.0, \" High\": 2022.0, \" Low\": 1950.0, \" Close\": 1950.0, \" Volume\": 27180, \"Price_Change\": -0.011657374556512924, \"Mean_Score\": 0.4999999375000079, \"Percent_of_PosSent\": 1.0, \"Close_roll\": 1963.8, \"Price_Change_roll\": -0.018934649514477188, \"Mean_Score_roll\": 0.30484836346658517, \"Percent_of_PosSent_roll\": 0.7}, {\"Date\": \"2019-08-13T00:00:00\", \" Open\": 1976.0, \" High\": 1976.0, \" Low\": 1891.0, \" Close\": 1965.0, \" Volume\": 87545, \"Price_Change\": -0.005566801619433198, \"Mean_Score\": 0.4999999375000079, \"Percent_of_PosSent\": 1.0, \"Close_roll\": 1960.0, \"Price_Change_roll\": -0.00900039079074478, \"Mean_Score_roll\": 0.3048484509664868, \"Percent_of_PosSent_roll\": 0.8}, {\"Date\": \"2019-08-14T00:00:00\", \" Open\": 1955.0, \" High\": 2000.0, \" Low\": 1910.0, \" Close\": 1959.0, \" Volume\": 44115, \"Price_Change\": 0.0020460358056265983, \"Mean_Score\": 0.4999999375000079, \"Percent_of_PosSent\": 1.0, \"Close_roll\": 1961.0, \"Price_Change_roll\": -0.005964921003356832, \"Mean_Score_roll\": 0.4448484304664899, \"Percent_of_PosSent_roll\": 1.0}, {\"Date\": \"2019-08-15T00:00:00\", \" Open\": 1960.0, \" High\": 1980.0, \" Low\": 1910.0, \" Close\": 1960.0, \" Volume\": 46675, \"Price_Change\": 0.0, \"Mean_Score\": 0.4999999375000079, \"Percent_of_PosSent\": 1.0, \"Close_roll\": 1961.0, \"Price_Change_roll\": -0.003944718983154813, \"Mean_Score_roll\": 0.4999999375000079, \"Percent_of_PosSent_roll\": 1.0}, {\"Date\": \"2019-08-16T00:00:00\", \" Open\": 1960.0, \" High\": 1988.0, \" Low\": 1915.0, \" Close\": 1915.0, \" Volume\": 48505, \"Price_Change\": -0.02295918367346939, \"Mean_Score\": 0.7333332844444478, \"Percent_of_PosSent\": 1.0, \"Close_roll\": 1949.8, \"Price_Change_roll\": -0.007627464808757781, \"Mean_Score_roll\": 0.5466666068888959, \"Percent_of_PosSent_roll\": 1.0}, {\"Date\": \"2019-08-19T00:00:00\", \" Open\": 1918.0, \" High\": 1948.0, \" Low\": 1880.0, \" Close\": 1900.0, \" Volume\": 59080, \"Price_Change\": -0.009384775808133473, \"Mean_Score\": 0.899999793333393, \"Percent_of_PosSent\": 1.0, \"Close_roll\": 1939.8, \"Price_Change_roll\": -0.0071729450590818904, \"Mean_Score_roll\": 0.6266665780555728, \"Percent_of_PosSent_roll\": 1.0}, {\"Date\": \"2019-08-20T00:00:00\", \" Open\": 1930.0, \" High\": 1930.0, \" Low\": 1883.0, \" Close\": 1900.0, \" Volume\": 59930, \"Price_Change\": -0.015544041450777202, \"Mean_Score\": 0.8989898292717448, \"Percent_of_PosSent\": 1.0, \"Close_roll\": 1926.8, \"Price_Change_roll\": -0.009168393025350692, \"Mean_Score_roll\": 0.7064645564099202, \"Percent_of_PosSent_roll\": 1.0}, {\"Date\": \"2019-08-22T00:00:00\", \" Open\": 1900.0, \" High\": 1939.0, \" Low\": 1894.0, \" Close\": 1900.0, \" Volume\": 97455, \"Price_Change\": 0.0, \"Mean_Score\": 0.0, \"Percent_of_PosSent\": 0.0, \"Close_roll\": 1915.0, \"Price_Change_roll\": -0.009577600186476012, \"Mean_Score_roll\": 0.6064645689099187, \"Percent_of_PosSent_roll\": 0.8}, {\"Date\": \"2019-08-23T00:00:00\", \" Open\": 1890.0, \" High\": 1900.0, \" Low\": 1890.0, \" Close\": 1899.0, \" Volume\": 47525, \"Price_Change\": 0.004761904761904762, \"Mean_Score\": 0.0, \"Percent_of_PosSent\": 0.0, \"Close_roll\": 1902.8, \"Price_Change_roll\": -0.00862521923409506, \"Mean_Score_roll\": 0.5064645814099171, \"Percent_of_PosSent_roll\": 0.6}, {\"Date\": \"2019-08-27T00:00:00\", \" Open\": 1899.0, \" High\": 1919.0, \" Low\": 1880.0, \" Close\": 1880.0, \" Volume\": 114375, \"Price_Change\": -0.010005265929436546, \"Mean_Score\": 0.33333322222225925, \"Percent_of_PosSent\": 1.0, \"Close_roll\": 1895.8, \"Price_Change_roll\": -0.00603443568528849, \"Mean_Score_roll\": 0.42646456896547935, \"Percent_of_PosSent_roll\": 0.6}, {\"Date\": \"2019-08-28T00:00:00\", \" Open\": 1909.0, \" High\": 1909.0, \" Low\": 1880.0, \" Close\": 1900.0, \" Volume\": 34140, \"Price_Change\": -0.004714510214772132, \"Mean_Score\": -0.1999999900000005, \"Percent_of_PosSent\": 0.0, \"Close_roll\": 1895.8, \"Price_Change_roll\": -0.0051003825666162215, \"Mean_Score_roll\": 0.2064646122988007, \"Percent_of_PosSent_roll\": 0.4}, {\"Date\": \"2019-08-29T00:00:00\", \" Open\": 1900.0, \" High\": 1924.0, \" Low\": 1890.0, \" Close\": 1924.0, \" Volume\": 36325, \"Price_Change\": 0.01263157894736842, \"Mean_Score\": -0.1999999900000005, \"Percent_of_PosSent\": 0.0, \"Close_roll\": 1900.6, \"Price_Change_roll\": 0.0005347415130129024, \"Mean_Score_roll\": -0.013333351555548345, \"Percent_of_PosSent_roll\": 0.2}, {\"Date\": \"2019-08-30T00:00:00\", \" Open\": 1901.0, \" High\": 2030.0, \" Low\": 1901.0, \" Close\": 2030.0, \" Volume\": 97255, \"Price_Change\": 0.067859021567596, \"Mean_Score\": -0.1999999900000005, \"Percent_of_PosSent\": 0.0, \"Close_roll\": 1926.6, \"Price_Change_roll\": 0.014106545826532101, \"Mean_Score_roll\": -0.05333334955554845, \"Percent_of_PosSent_roll\": 0.2}, {\"Date\": \"2019-09-02T00:00:00\", \" Open\": 1951.0, \" High\": 2010.0, \" Low\": 1951.0, \" Close\": 2010.0, \" Volume\": 22585, \"Price_Change\": 0.030240902101486417, \"Mean_Score\": -0.1999999900000005, \"Percent_of_PosSent\": 0.0, \"Close_roll\": 1948.8, \"Price_Change_roll\": 0.019202345294448434, \"Mean_Score_roll\": -0.09333334755554853, \"Percent_of_PosSent_roll\": 0.2}, {\"Date\": \"2019-09-03T00:00:00\", \" Open\": 2008.0, \" High\": 2008.0, \" Low\": 1972.0, \" Close\": 1988.0, \" Volume\": 13660, \"Price_Change\": -0.0099601593625498, \"Mean_Score\": -0.1999999900000005, \"Percent_of_PosSent\": 0.0, \"Close_roll\": 1970.4, \"Price_Change_roll\": 0.01921136660782578, \"Mean_Score_roll\": -0.1999999900000005, \"Percent_of_PosSent_roll\": 0.0}, {\"Date\": \"2019-09-04T00:00:00\", \" Open\": 1998.0, \" High\": 1998.0, \" Low\": 1922.0, \" Close\": 1922.0, \" Volume\": 46705, \"Price_Change\": -0.03803803803803804, \"Mean_Score\": -0.1999999900000005, \"Percent_of_PosSent\": 0.0, \"Close_roll\": 1974.8, \"Price_Change_roll\": 0.012546661043172602, \"Mean_Score_roll\": -0.19999999000000052, \"Percent_of_PosSent_roll\": 0.0}, {\"Date\": \"2019-09-05T00:00:00\", \" Open\": 1925.0, \" High\": 1939.0, \" Low\": 1900.0, \" Close\": 1900.0, \" Volume\": 71855, \"Price_Change\": -0.012987012987012988, \"Mean_Score\": -0.1999999900000005, \"Percent_of_PosSent\": 0.0, \"Close_roll\": 1970.0, \"Price_Change_roll\": 0.0074229426562963195, \"Mean_Score_roll\": -0.19999999000000052, \"Percent_of_PosSent_roll\": 0.0}, {\"Date\": \"2019-09-06T00:00:00\", \" Open\": 1950.0, \" High\": 1954.0, \" Low\": 1910.0, \" Close\": 1947.0, \" Volume\": 33120, \"Price_Change\": -0.0015384615384615385, \"Mean_Score\": -0.1999999900000005, \"Percent_of_PosSent\": 0.0, \"Close_roll\": 1953.4, \"Price_Change_roll\": -0.006456553964915191, \"Mean_Score_roll\": -0.1999999900000005, \"Percent_of_PosSent_roll\": 0.0}, {\"Date\": \"2019-09-09T00:00:00\", \" Open\": 1947.0, \" High\": 1980.0, \" Low\": 1937.0, \" Close\": 1980.0, \" Volume\": 29055, \"Price_Change\": 0.01694915254237288, \"Mean_Score\": -0.1999999900000005, \"Percent_of_PosSent\": 0.0, \"Close_roll\": 1947.4, \"Price_Change_roll\": -0.009114903876737896, \"Mean_Score_roll\": -0.1999999900000005, \"Percent_of_PosSent_roll\": 0.0}, {\"Date\": \"2019-09-10T00:00:00\", \" Open\": 1960.0, \" High\": 1985.0, \" Low\": 1960.0, \" Close\": 1970.0, \" Volume\": 30525, \"Price_Change\": 0.00510204081632653, \"Mean_Score\": -0.1999999900000005, \"Percent_of_PosSent\": 0.0, \"Close_roll\": 1943.8, \"Price_Change_roll\": -0.006102463840962631, \"Mean_Score_roll\": -0.19999999000000052, \"Percent_of_PosSent_roll\": 0.0}, {\"Date\": \"2019-09-11T00:00:00\", \" Open\": 1970.0, \" High\": 1990.0, \" Low\": 1935.0, \" Close\": 1940.0, \" Volume\": 50800, \"Price_Change\": -0.015228426395939087, \"Mean_Score\": -0.1999999900000005, \"Percent_of_PosSent\": 0.0, \"Close_roll\": 1947.4, \"Price_Change_roll\": -0.0015405415125428403, \"Mean_Score_roll\": -0.19999999000000052, \"Percent_of_PosSent_roll\": 0.0}, {\"Date\": \"2019-09-12T00:00:00\", \" Open\": 1935.0, \" High\": 1966.0, \" Low\": 1935.0, \" Close\": 1935.0, \" Volume\": 14790, \"Price_Change\": 0.0, \"Mean_Score\": -0.1999999900000005, \"Percent_of_PosSent\": 0.0, \"Close_roll\": 1954.4, \"Price_Change_roll\": 0.0010568610848597573, \"Mean_Score_roll\": -0.1999999900000005, \"Percent_of_PosSent_roll\": 0.0}, {\"Date\": \"2019-09-13T00:00:00\", \" Open\": 1938.0, \" High\": 1969.0, \" Low\": 1938.0, \" Close\": 1968.0, \" Volume\": 25825, \"Price_Change\": 0.015479876160990712, \"Mean_Score\": 0.6444444088888909, \"Percent_of_PosSent\": 0.6666666666666666, \"Close_roll\": 1958.6, \"Price_Change_roll\": 0.004460528624750207, \"Mean_Score_roll\": -0.031111110222222217, \"Percent_of_PosSent_roll\": 0.13333333333333333}, {\"Date\": \"2019-09-16T00:00:00\", \" Open\": 1955.0, \" High\": 1961.0, \" Low\": 1930.0, \" Close\": 1949.0, \" Volume\": 24025, \"Price_Change\": -0.003069053708439898, \"Mean_Score\": 0.0, \"Percent_of_PosSent\": 0.0, \"Close_roll\": 1952.4, \"Price_Change_roll\": 0.0004568873745876517, \"Mean_Score_roll\": 0.008888887777777882, \"Percent_of_PosSent_roll\": 0.13333333333333333}, {\"Date\": \"2019-09-17T00:00:00\", \" Open\": 1931.0, \" High\": 1970.0, \" Low\": 1931.0, \" Close\": 1970.0, \" Volume\": 35570, \"Price_Change\": 0.02019678922837908, \"Mean_Score\": 0.0, \"Percent_of_PosSent\": 0.0, \"Close_roll\": 1952.4, \"Price_Change_roll\": 0.0034758370569981612, \"Mean_Score_roll\": 0.04888888577777798, \"Percent_of_PosSent_roll\": 0.13333333333333333}, {\"Date\": \"2019-09-18T00:00:00\", \" Open\": 1969.0, \" High\": 1969.0, \" Low\": 1935.0, \" Close\": 1935.0, \" Volume\": 18990, \"Price_Change\": -0.017267648552564754, \"Mean_Score\": 0.0, \"Percent_of_PosSent\": 0.0, \"Close_roll\": 1951.4, \"Price_Change_roll\": 0.003067992625673027, \"Mean_Score_roll\": 0.08888888377777808, \"Percent_of_PosSent_roll\": 0.13333333333333333}, {\"Date\": \"2019-09-19T00:00:00\", \" Open\": 1945.0, \" High\": 1945.0, \" Low\": 1890.0, \" Close\": 1890.0, \" Volume\": 92025, \"Price_Change\": -0.028277634961439587, \"Mean_Score\": 0.0, \"Percent_of_PosSent\": 0.0, \"Close_roll\": 1942.4, \"Price_Change_roll\": -0.0025875343666148893, \"Mean_Score_roll\": 0.12888888177777819, \"Percent_of_PosSent_roll\": 0.13333333333333333}, {\"Date\": \"2019-09-20T00:00:00\", \" Open\": 1900.0, \" High\": 1924.0, \" Low\": 1892.0, \" Close\": 1910.0, \" Volume\": 62160, \"Price_Change\": 0.005263157894736842, \"Mean_Score\": 0.0, \"Percent_of_PosSent\": 0.0, \"Close_roll\": 1930.8, \"Price_Change_roll\": -0.0046308780198656635, \"Mean_Score_roll\": 0.0, \"Percent_of_PosSent_roll\": 0.0}, {\"Date\": \"2019-09-23T00:00:00\", \" Open\": 1910.0, \" High\": 1910.0, \" Low\": 1884.0, \" Close\": 1884.0, \" Volume\": 15495, \"Price_Change\": -0.013612565445026177, \"Mean_Score\": 0.0, \"Percent_of_PosSent\": 0.0, \"Close_roll\": 1917.8, \"Price_Change_roll\": -0.00673958036718292, \"Mean_Score_roll\": 0.0, \"Percent_of_PosSent_roll\": 0.0}, {\"Date\": \"2019-09-24T00:00:00\", \" Open\": 1892.0, \" High\": 1892.0, \" Low\": 1826.0, \" Close\": 1826.0, \" Volume\": 57960, \"Price_Change\": -0.03488372093023256, \"Mean_Score\": 0.0, \"Percent_of_PosSent\": 0.0, \"Close_roll\": 1889.0, \"Price_Change_roll\": -0.017755682398905247, \"Mean_Score_roll\": 0.0, \"Percent_of_PosSent_roll\": 0.0}, {\"Date\": \"2019-09-25T00:00:00\", \" Open\": 1860.0, \" High\": 1878.0, \" Low\": 1832.0, \" Close\": 1853.0, \" Volume\": 38765, \"Price_Change\": -0.003763440860215054, \"Mean_Score\": -0.028985526517534055, \"Percent_of_PosSent\": 0.5, \"Close_roll\": 1872.6, \"Price_Change_roll\": -0.015054840860435306, \"Mean_Score_roll\": -0.005797105303506811, \"Percent_of_PosSent_roll\": 0.1}, {\"Date\": \"2019-09-26T00:00:00\", \" Open\": 1845.0, \" High\": 1869.0, \" Low\": 1827.0, \" Close\": 1857.0, \" Volume\": 63940, \"Price_Change\": 0.0065040650406504065, \"Mean_Score\": 0.5555554938271674, \"Percent_of_PosSent\": 1.0, \"Close_roll\": 1866.0, \"Price_Change_roll\": -0.008098500860017307, \"Mean_Score_roll\": 0.10531399346192667, \"Percent_of_PosSent_roll\": 0.3}, {\"Date\": \"2019-09-27T00:00:00\", \" Open\": 1868.0, \" High\": 1869.0, \" Low\": 1833.0, \" Close\": 1835.0, \" Volume\": 63215, \"Price_Change\": -0.017665952890792293, \"Mean_Score\": 0.5555554938271674, \"Percent_of_PosSent\": 1.0, \"Close_roll\": 1851.0, \"Price_Change_roll\": -0.012684323017123134, \"Mean_Score_roll\": 0.21642509222736014, \"Percent_of_PosSent_roll\": 0.5}, {\"Date\": \"2019-09-30T00:00:00\", \" Open\": 1835.0, \" High\": 1859.0, \" Low\": 1827.0, \" Close\": 1830.0, \" Volume\": 31260, \"Price_Change\": -0.0027247956403269754, \"Mean_Score\": 0.24999996875000394, \"Percent_of_PosSent\": 1.0, \"Close_roll\": 1840.2, \"Price_Change_roll\": -0.010506769056183295, \"Mean_Score_roll\": 0.2664250859773609, \"Percent_of_PosSent_roll\": 0.7}, {\"Date\": \"2019-10-01T00:00:00\", \" Open\": 1830.0, \" High\": 1834.0, \" Low\": 1826.0, \" Close\": 1828.0, \" Volume\": 22840, \"Price_Change\": -0.001092896174863388, \"Mean_Score\": -0.23809520011338475, \"Percent_of_PosSent\": 0.0, \"Close_roll\": 1840.6, \"Price_Change_roll\": -0.003748604105109461, \"Mean_Score_roll\": 0.21880604595468398, \"Percent_of_PosSent_roll\": 0.7}, {\"Date\": \"2019-10-02T00:00:00\", \" Open\": 1826.0, \" High\": 1826.0, \" Low\": 1785.0, \" Close\": 1793.0, \" Volume\": 59395, \"Price_Change\": -0.018072289156626505, \"Mean_Score\": -0.23809520011338475, \"Percent_of_PosSent\": 0.0, \"Close_roll\": 1828.6, \"Price_Change_roll\": -0.006610373764391751, \"Mean_Score_roll\": 0.17698411123551386, \"Percent_of_PosSent_roll\": 0.6}, {\"Date\": \"2019-10-03T00:00:00\", \" Open\": 1800.0, \" High\": 1800.0, \" Low\": 1756.0, \" Close\": 1770.0, \" Volume\": 19515, \"Price_Change\": -0.016666666666666666, \"Mean_Score\": -0.23809520011338475, \"Percent_of_PosSent\": 0.0, \"Close_roll\": 1811.2, \"Price_Change_roll\": -0.011244520105855168, \"Mean_Score_roll\": 0.018253972447403417, \"Percent_of_PosSent_roll\": 0.4}, {\"Date\": \"2019-10-04T00:00:00\", \" Open\": 1770.0, \" High\": 1783.0, \" Low\": 1765.0, \" Close\": 1783.0, \" Volume\": 31875, \"Price_Change\": 0.007344632768361582, \"Mean_Score\": -0.24999993750001562, \"Percent_of_PosSent\": 0.0, \"Close_roll\": 1800.8, \"Price_Change_roll\": -0.006242402974024392, \"Mean_Score_roll\": -0.14285711381803318, \"Percent_of_PosSent_roll\": 0.2}, {\"Date\": \"2019-10-07T00:00:00\", \" Open\": 1784.0, \" High\": 1799.0, \" Low\": 1784.0, \" Close\": 1798.0, \" Volume\": 14925, \"Price_Change\": 0.007847533632286996, \"Mean_Score\": -0.24999993750001562, \"Percent_of_PosSent\": 0.0, \"Close_roll\": 1794.4, \"Price_Change_roll\": -0.004127937119501598, \"Mean_Score_roll\": -0.2428570950680371, \"Percent_of_PosSent_roll\": 0.0}, {\"Date\": \"2019-10-08T00:00:00\", \" Open\": 1800.0, \" High\": 1819.0, \" Low\": 1791.0, \" Close\": 1794.0, \" Volume\": 29725, \"Price_Change\": -0.0033333333333333335, \"Mean_Score\": 0.6363636074380178, \"Percent_of_PosSent\": 1.0, \"Close_roll\": 1787.6, \"Price_Change_roll\": -0.004576024551195586, \"Mean_Score_roll\": -0.06796533355775661, \"Percent_of_PosSent_roll\": 0.2}, {\"Date\": \"2019-10-09T00:00:00\", \" Open\": 1798.0, \" High\": 1818.0, \" Low\": 1789.0, \" Close\": 1810.0, \" Volume\": 36370, \"Price_Change\": 0.006674082313681869, \"Mean_Score\": 0.6363636074380178, \"Percent_of_PosSent\": 1.0, \"Close_roll\": 1791.0, \"Price_Change_roll\": 0.0003732497428660886, \"Mean_Score_roll\": 0.1069264279525239, \"Percent_of_PosSent_roll\": 0.4}, {\"Date\": \"2019-10-10T00:00:00\", \" Open\": 1806.0, \" High\": 1816.0, \" Low\": 1806.0, \" Close\": 1813.0, \" Volume\": 28860, \"Price_Change\": 0.003875968992248062, \"Mean_Score\": 0.6363636074380178, \"Percent_of_PosSent\": 1.0, \"Close_roll\": 1799.6, \"Price_Change_roll\": 0.0044817768746490344, \"Mean_Score_roll\": 0.28181818946280435, \"Percent_of_PosSent_roll\": 0.6}, {\"Date\": \"2019-10-11T00:00:00\", \" Open\": 1820.0, \" High\": 1823.0, \" Low\": 1812.0, \" Close\": 1818.0, \" Volume\": 17100, \"Price_Change\": -0.001098901098901099, \"Mean_Score\": 0.6363636074380178, \"Percent_of_PosSent\": 1.0, \"Close_roll\": 1806.6, \"Price_Change_roll\": 0.002793070101196498, \"Mean_Score_roll\": 0.45909089845041107, \"Percent_of_PosSent_roll\": 0.8}, {\"Date\": \"2019-10-14T00:00:00\", \" Open\": 1820.0, \" High\": 1855.0, \" Low\": 1820.0, \" Close\": 1844.0, \" Volume\": 23575, \"Price_Change\": 0.013186813186813187, \"Mean_Score\": 0.6363636074380178, \"Percent_of_PosSent\": 1.0, \"Close_roll\": 1815.8, \"Price_Change_roll\": 0.003860926012101737, \"Mean_Score_roll\": 0.6363636074380178, \"Percent_of_PosSent_roll\": 1.0}, {\"Date\": \"2019-10-15T00:00:00\", \" Open\": 1845.0, \" High\": 1845.0, \" Low\": 1826.0, \" Close\": 1838.0, \" Volume\": 44880, \"Price_Change\": -0.003794037940379404, \"Mean_Score\": 0.6363636074380178, \"Percent_of_PosSent\": 1.0, \"Close_roll\": 1824.6, \"Price_Change_roll\": 0.0037687850906925223, \"Mean_Score_roll\": 0.6363636074380178, \"Percent_of_PosSent_roll\": 1.0}, {\"Date\": \"2019-10-16T00:00:00\", \" Open\": 1837.0, \" High\": 1870.0, \" Low\": 1836.0, \" Close\": 1840.0, \" Volume\": 77485, \"Price_Change\": 0.001633097441480675, \"Mean_Score\": 0.6363636074380178, \"Percent_of_PosSent\": 1.0, \"Close_roll\": 1830.6, \"Price_Change_roll\": 0.0027605881162522834, \"Mean_Score_roll\": 0.6363636074380177, \"Percent_of_PosSent_roll\": 1.0}, {\"Date\": \"2019-10-17T00:00:00\", \" Open\": 1840.0, \" High\": 1875.0, \" Low\": 1840.0, \" Close\": 1870.0, \" Volume\": 40030, \"Price_Change\": 0.016304347826086956, \"Mean_Score\": 0.13311081505626082, \"Percent_of_PosSent\": 0.3333333333333333, \"Close_roll\": 1842.0, \"Price_Change_roll\": 0.005246263883020063, \"Mean_Score_roll\": 0.5357130489616664, \"Percent_of_PosSent_roll\": 0.8666666666666666}, {\"Date\": \"2019-10-18T00:00:00\", \" Open\": 1871.0, \" High\": 1878.0, \" Low\": 1870.0, \" Close\": 1875.0, \" Volume\": 85515, \"Price_Change\": 0.002137894174238375, \"Mean_Score\": 0.13311081505626082, \"Percent_of_PosSent\": 0.3333333333333333, \"Close_roll\": 1853.4, \"Price_Change_roll\": 0.005893622937647957, \"Mean_Score_roll\": 0.43506249048531503, \"Percent_of_PosSent_roll\": 0.7333333333333333}, {\"Date\": \"2019-10-21T00:00:00\", \" Open\": 1879.0, \" High\": 1890.0, \" Low\": 1867.0, \" Close\": 1890.0, \" Volume\": 14775, \"Price_Change\": 0.005854177754124534, \"Mean_Score\": 0.13311081505626082, \"Percent_of_PosSent\": 0.3333333333333333, \"Close_roll\": 1862.6, \"Price_Change_roll\": 0.004427095851110227, \"Mean_Score_roll\": 0.3344119320089636, \"Percent_of_PosSent_roll\": 0.6}, {\"Date\": \"2019-10-22T00:00:00\", \" Open\": 1890.0, \" High\": 1900.0, \" Low\": 1873.0, \" Close\": 1896.0, \" Volume\": 23825, \"Price_Change\": 0.0031746031746031746, \"Mean_Score\": 0.13311081505626082, \"Percent_of_PosSent\": 0.3333333333333333, \"Close_roll\": 1874.2, \"Price_Change_roll\": 0.005820824074106742, \"Mean_Score_roll\": 0.2337613735326122, \"Percent_of_PosSent_roll\": 0.4666666666666666}, {\"Date\": \"2019-10-23T00:00:00\", \" Open\": 1880.0, \" High\": 1920.0, \" Low\": 1880.0, \" Close\": 1920.0, \" Volume\": 48935, \"Price_Change\": 0.02127659574468085, \"Mean_Score\": 0.13311081505626082, \"Percent_of_PosSent\": 0.3333333333333333, \"Close_roll\": 1890.2, \"Price_Change_roll\": 0.009749523734746777, \"Mean_Score_roll\": 0.13311081505626082, \"Percent_of_PosSent_roll\": 0.3333333333333333}, {\"Date\": \"2019-10-24T00:00:00\", \" Open\": 1918.0, \" High\": 1920.0, \" Low\": 1901.0, \" Close\": 1920.0, \" Volume\": 39330, \"Price_Change\": 0.0010427528675703858, \"Mean_Score\": 0.13311081505626082, \"Percent_of_PosSent\": 0.3333333333333333, \"Close_roll\": 1900.2, \"Price_Change_roll\": 0.006697204743043464, \"Mean_Score_roll\": 0.13311081505626082, \"Percent_of_PosSent_roll\": 0.3333333333333333}, {\"Date\": \"2019-10-25T00:00:00\", \" Open\": 1902.0, \" High\": 1915.0, \" Low\": 1891.0, \" Close\": 1915.0, \" Volume\": 35130, \"Price_Change\": 0.006834910620399579, \"Mean_Score\": 0.13311081505626082, \"Percent_of_PosSent\": 0.3333333333333333, \"Close_roll\": 1908.2, \"Price_Change_roll\": 0.007636608032275704, \"Mean_Score_roll\": 0.13311081505626082, \"Percent_of_PosSent_roll\": 0.3333333333333333}, {\"Date\": \"2019-10-28T00:00:00\", \" Open\": 1901.0, \" High\": 1901.0, \" Low\": 1865.0, \" Close\": 1865.0, \" Volume\": 33450, \"Price_Change\": -0.01893740136770121, \"Mean_Score\": 0.36666664972222296, \"Percent_of_PosSent\": 1.0, \"Close_roll\": 1903.2, \"Price_Change_roll\": 0.0026782922079105556, \"Mean_Score_roll\": 0.17982198198945323, \"Percent_of_PosSent_roll\": 0.4666666666666666}, {\"Date\": \"2019-10-29T00:00:00\", \" Open\": 1865.0, \" High\": 1865.0, \" Low\": 1843.0, \" Close\": 1850.0, \" Volume\": 80240, \"Price_Change\": -0.00804289544235925, \"Mean_Score\": 0.36666664972222296, \"Percent_of_PosSent\": 1.0, \"Close_roll\": 1894.0, \"Price_Change_roll\": 0.0004347924845180703, \"Mean_Score_roll\": 0.22653314892264564, \"Percent_of_PosSent_roll\": 0.6}, {\"Date\": \"2019-10-30T00:00:00\", \" Open\": 1843.0, \" High\": 1850.0, \" Low\": 1835.0, \" Close\": 1835.0, \" Volume\": 38745, \"Price_Change\": -0.004340748779164406, \"Mean_Score\": 0.36666664972222296, \"Percent_of_PosSent\": 1.0, \"Close_roll\": 1877.0, \"Price_Change_roll\": -0.004688676420250981, \"Mean_Score_roll\": 0.2732443158558381, \"Percent_of_PosSent_roll\": 0.7333333333333333}, {\"Date\": \"2019-10-31T00:00:00\", \" Open\": 1844.0, \" High\": 1850.0, \" Low\": 1820.0, \" Close\": 1824.0, \" Volume\": 28230, \"Price_Change\": -0.010845986984815618, \"Mean_Score\": 0.36666664972222296, \"Percent_of_PosSent\": 1.0, \"Close_roll\": 1857.8, \"Price_Change_roll\": -0.007066424390728182, \"Mean_Score_roll\": 0.3199554827890305, \"Percent_of_PosSent_roll\": 0.8666666666666668}, {\"Date\": \"2019-11-04T00:00:00\", \" Open\": 1840.0, \" High\": 1860.0, \" Low\": 1834.0, \" Close\": 1846.0, \" Volume\": 50690, \"Price_Change\": 0.003260869565217391, \"Mean_Score\": 0.36666664972222296, \"Percent_of_PosSent\": 1.0, \"Close_roll\": 1844.0, \"Price_Change_roll\": -0.007781232601764619, \"Mean_Score_roll\": 0.36666664972222296, \"Percent_of_PosSent_roll\": 1.0}, {\"Date\": \"2019-11-05T00:00:00\", \" Open\": 1863.0, \" High\": 1879.0, \" Low\": 1855.0, \" Close\": 1868.0, \" Volume\": 66540, \"Price_Change\": 0.0026838432635534087, \"Mean_Score\": 0.7416666187847254, \"Percent_of_PosSent\": 1.0, \"Close_roll\": 1844.6, \"Price_Change_roll\": -0.003456983675513695, \"Mean_Score_roll\": 0.4416666435347235, \"Percent_of_PosSent_roll\": 1.0}, {\"Date\": \"2019-11-06T00:00:00\", \" Open\": 1880.0, \" High\": 1886.0, \" Low\": 1824.0, \" Close\": 1824.0, \" Volume\": 30380, \"Price_Change\": -0.029787234042553193, \"Mean_Score\": 0.7416666187847254, \"Percent_of_PosSent\": 1.0, \"Close_roll\": 1839.4, \"Price_Change_roll\": -0.007805851395552484, \"Mean_Score_roll\": 0.516666637347224, \"Percent_of_PosSent_roll\": 1.0}, {\"Date\": \"2019-11-07T00:00:00\", \" Open\": 1860.0, \" High\": 1870.0, \" Low\": 1844.0, \" Close\": 1870.0, \" Volume\": 16580, \"Price_Change\": 0.005376344086021506, \"Mean_Score\": 0.8888883456795171, \"Percent_of_PosSent\": 1.0, \"Close_roll\": 1846.4, \"Price_Change_roll\": -0.005862432822515301, \"Mean_Score_roll\": 0.6211109765386827, \"Percent_of_PosSent_roll\": 1.0}, {\"Date\": \"2019-11-08T00:00:00\", \" Open\": 1887.0, \" High\": 1915.0, \" Low\": 1868.0, \" Close\": 1900.0, \" Volume\": 38070, \"Price_Change\": 0.00688924218335983, \"Mean_Score\": 0.9999990000010001, \"Percent_of_PosSent\": 1.0, \"Close_roll\": 1861.6, \"Price_Change_roll\": -0.0023153869888802117, \"Mean_Score_roll\": 0.7477774465944382, \"Percent_of_PosSent_roll\": 1.0}, {\"Date\": \"2019-11-11T00:00:00\", \" Open\": 1905.0, \" High\": 1929.0, \" Low\": 1870.0, \" Close\": 1870.0, \" Volume\": 25445, \"Price_Change\": -0.01837270341207349, \"Mean_Score\": 0.33888885826038423, \"Percent_of_PosSent\": 0.5, \"Close_roll\": 1866.4, \"Price_Change_roll\": -0.006642101584338388, \"Mean_Score_roll\": 0.7422218883020705, \"Percent_of_PosSent_roll\": 0.9}, {\"Date\": \"2019-11-12T00:00:00\", \" Open\": 1918.0, \" High\": 1918.0, \" Low\": 1881.0, \" Close\": 1910.0, \" Volume\": 20060, \"Price_Change\": -0.004171011470281543, \"Mean_Score\": 0.33888885826038423, \"Percent_of_PosSent\": 0.5, \"Close_roll\": 1874.8, \"Price_Change_roll\": -0.008013072531105378, \"Mean_Score_roll\": 0.6616663361972023, \"Percent_of_PosSent_roll\": 0.8}, {\"Date\": \"2019-11-13T00:00:00\", \" Open\": 1908.0, \" High\": 1909.0, \" Low\": 1865.0, \" Close\": 1870.0, \" Volume\": 52990, \"Price_Change\": -0.019916142557651992, \"Mean_Score\": 0.33888885826038423, \"Percent_of_PosSent\": 0.5, \"Close_roll\": 1884.0, \"Price_Change_roll\": -0.006038854234125137, \"Mean_Score_roll\": 0.581110784092334, \"Percent_of_PosSent_roll\": 0.7}, {\"Date\": \"2019-11-14T00:00:00\", \" Open\": 1874.0, \" High\": 1929.0, \" Low\": 1874.0, \" Close\": 1928.0, \" Volume\": 34320, \"Price_Change\": 0.0288153681963714, \"Mean_Score\": 0.8888887422839831, \"Percent_of_PosSent\": 1.0, \"Close_roll\": 1895.6, \"Price_Change_roll\": -0.0013510494120551595, \"Mean_Score_roll\": 0.5811108634132272, \"Percent_of_PosSent_roll\": 0.7}, {\"Date\": \"2019-11-15T00:00:00\", \" Open\": 1935.0, \" High\": 1935.0, \" Low\": 1904.0, \" Close\": 1917.0, \" Volume\": 32380, \"Price_Change\": -0.009302325581395349, \"Mean_Score\": 0.14285713265306196, \"Percent_of_PosSent\": 1.0, \"Close_roll\": 1899.0, \"Price_Change_roll\": -0.004589362965006194, \"Mean_Score_roll\": 0.40968248994363954, \"Percent_of_PosSent_roll\": 0.7}, {\"Date\": \"2019-11-18T00:00:00\", \" Open\": 1917.0, \" High\": 1919.0, \" Low\": 1881.0, \" Close\": 1910.0, \" Volume\": 20495, \"Price_Change\": -0.0036515388628064684, \"Mean_Score\": 0.14285713265306196, \"Percent_of_PosSent\": 1.0, \"Close_roll\": 1907.0, \"Price_Change_roll\": -0.0016451300551527902, \"Mean_Score_roll\": 0.37047614482217506, \"Percent_of_PosSent_roll\": 0.8}, {\"Date\": \"2019-11-19T00:00:00\", \" Open\": 1910.0, \" High\": 1954.0, \" Low\": 1910.0, \" Close\": 1929.0, \" Volume\": 51840, \"Price_Change\": 0.009947643979057591, \"Mean_Score\": 0.8999998766666846, \"Percent_of_PosSent\": 1.0, \"Close_roll\": 1910.8, \"Price_Change_roll\": 0.0011786010347150367, \"Mean_Score_roll\": 0.4826983485034352, \"Percent_of_PosSent_roll\": 0.9}, {\"Date\": \"2019-11-20T00:00:00\", \" Open\": 1900.0, \" High\": 1917.0, \" Low\": 1885.0, \" Close\": 1900.0, \" Volume\": 33345, \"Price_Change\": 0.0, \"Mean_Score\": 0.7999999200000081, \"Percent_of_PosSent\": 1.0, \"Close_roll\": 1916.8, \"Price_Change_roll\": 0.005161829546245435, \"Mean_Score_roll\": 0.5749205608513599, \"Percent_of_PosSent_roll\": 1.0}, {\"Date\": \"2019-11-21T00:00:00\", \" Open\": 1907.0, \" High\": 1948.0, \" Low\": 1901.0, \" Close\": 1937.0, \" Volume\": 97940, \"Price_Change\": 0.015731515469323543, \"Mean_Score\": 0.7999999200000081, \"Percent_of_PosSent\": 1.0, \"Close_roll\": 1918.6, \"Price_Change_roll\": 0.0025450590008358636, \"Mean_Score_roll\": 0.557142796394565, \"Percent_of_PosSent_roll\": 1.0}, {\"Date\": \"2019-11-22T00:00:00\", \" Open\": 1937.0, \" High\": 1950.0, \" Low\": 1910.0, \" Close\": 1942.0, \" Volume\": 44580, \"Price_Change\": 0.002581311306143521, \"Mean_Score\": 0.7999999200000081, \"Percent_of_PosSent\": 1.0, \"Close_roll\": 1923.6, \"Price_Change_roll\": 0.004921786378343637, \"Mean_Score_roll\": 0.6885713538639541, \"Percent_of_PosSent_roll\": 1.0}, {\"Date\": \"2019-11-25T00:00:00\", \" Open\": 1935.0, \" High\": 1945.0, \" Low\": 1905.0, \" Close\": 1945.0, \" Volume\": 28650, \"Price_Change\": 0.00516795865633075, \"Mean_Score\": 0.7999999200000081, \"Percent_of_PosSent\": 1.0, \"Close_roll\": 1930.6, \"Price_Change_roll\": 0.00668568588217108, \"Mean_Score_roll\": 0.8199999113333434, \"Percent_of_PosSent_roll\": 1.0}, {\"Date\": \"2019-11-26T00:00:00\", \" Open\": 1945.0, \" High\": 1950.0, \" Low\": 1900.0, \" Close\": 1950.0, \" Volume\": 100935, \"Price_Change\": 0.002570694087403599, \"Mean_Score\": 0.7999999200000081, \"Percent_of_PosSent\": 1.0, \"Close_roll\": 1934.8, \"Price_Change_roll\": 0.005210295903840282, \"Mean_Score_roll\": 0.7999999200000081, \"Percent_of_PosSent_roll\": 1.0}, {\"Date\": \"2019-11-27T00:00:00\", \" Open\": 1930.0, \" High\": 1947.0, \" Low\": 1894.0, \" Close\": 1894.0, \" Volume\": 37720, \"Price_Change\": -0.01865284974093264, \"Mean_Score\": 0.7999999200000081, \"Percent_of_PosSent\": 1.0, \"Close_roll\": 1933.6, \"Price_Change_roll\": 0.0014797259556537546, \"Mean_Score_roll\": 0.7999999200000081, \"Percent_of_PosSent_roll\": 1.0}, {\"Date\": \"2019-11-28T00:00:00\", \" Open\": 1897.0, \" High\": 1930.0, \" Low\": 1897.0, \" Close\": 1930.0, \" Volume\": 23630, \"Price_Change\": 0.01739588824459673, \"Mean_Score\": 0.14285713265306196, \"Percent_of_PosSent\": 1.0, \"Close_roll\": 1932.2, \"Price_Change_roll\": 0.001812600510708392, \"Mean_Score_roll\": 0.6685713625306189, \"Percent_of_PosSent_roll\": 1.0}, {\"Date\": \"2019-11-29T00:00:00\", \" Open\": 1900.0, \" High\": 1940.0, \" Low\": 1900.0, \" Close\": 1940.0, \" Volume\": 39520, \"Price_Change\": 0.021052631578947368, \"Mean_Score\": 0.14285713265306196, \"Percent_of_PosSent\": 1.0, \"Close_roll\": 1931.8, \"Price_Change_roll\": 0.005506864565269161, \"Mean_Score_roll\": 0.5371428050612296, \"Percent_of_PosSent_roll\": 1.0}, {\"Date\": \"2019-12-02T00:00:00\", \" Open\": 1944.0, \" High\": 1980.0, \" Low\": 1933.0, \" Close\": 1980.0, \" Volume\": 60055, \"Price_Change\": 0.018518518518518517, \"Mean_Score\": -0.16666665277777895, \"Percent_of_PosSent\": 0.0, \"Close_roll\": 1938.8, \"Price_Change_roll\": 0.008176976537706715, \"Mean_Score_roll\": 0.3438094905056722, \"Percent_of_PosSent_roll\": 0.8}, {\"Date\": \"2019-12-03T00:00:00\", \" Open\": 1979.0, \" High\": 1980.0, \" Low\": 1931.0, \" Close\": 1980.0, \" Volume\": 38385, \"Price_Change\": 0.0005053057099545225, \"Mean_Score\": -0.16666665277777895, \"Percent_of_PosSent\": 0.0, \"Close_roll\": 1944.8, \"Price_Change_roll\": 0.0077638988622168986, \"Mean_Score_roll\": 0.1504761759501148, \"Percent_of_PosSent_roll\": 0.6}, {\"Date\": \"2019-12-04T00:00:00\", \" Open\": 1980.0, \" High\": 1980.0, \" Low\": 1934.0, \" Close\": 1934.0, \" Volume\": 29915, \"Price_Change\": -0.023232323232323233, \"Mean_Score\": -0.16666665277777895, \"Percent_of_PosSent\": 0.0, \"Close_roll\": 1952.8, \"Price_Change_roll\": 0.006848004163938781, \"Mean_Score_roll\": -0.04285713860544259, \"Percent_of_PosSent_roll\": 0.4}, {\"Date\": \"2019-12-05T00:00:00\", \" Open\": 1935.0, \" High\": 1970.0, \" Low\": 1935.0, \" Close\": 1935.0, \" Volume\": 23210, \"Price_Change\": 0.0, \"Mean_Score\": -0.16666665277777895, \"Percent_of_PosSent\": 0.0, \"Close_roll\": 1953.8, \"Price_Change_roll\": 0.003368826515019436, \"Mean_Score_roll\": -0.10476189569161076, \"Percent_of_PosSent_roll\": 0.2}, {\"Date\": \"2019-12-06T00:00:00\", \" Open\": 1934.0, \" High\": 1950.0, \" Low\": 1934.0, \" Close\": 1944.0, \" Volume\": 9400, \"Price_Change\": 0.005170630816959669, \"Mean_Score\": -0.16666665277777895, \"Percent_of_PosSent\": 0.0, \"Close_roll\": 1954.6, \"Price_Change_roll\": 0.0001924263626218961, \"Mean_Score_roll\": -0.16666665277777898, \"Percent_of_PosSent_roll\": 0.0}, {\"Date\": \"2019-12-09T00:00:00\", \" Open\": 1944.0, \" High\": 1944.0, \" Low\": 1934.0, \" Close\": 1937.0, \" Volume\": 7135, \"Price_Change\": -0.00360082304526749, \"Mean_Score\": 0.7499996439396738, \"Percent_of_PosSent\": 0.75, \"Close_roll\": 1946.0, \"Price_Change_roll\": -0.004231441950135305, \"Mean_Score_roll\": 0.016666606565711596, \"Percent_of_PosSent_roll\": 0.15}, {\"Date\": \"2019-12-10T00:00:00\", \" Open\": 1931.0, \" High\": 1946.0, \" Low\": 1930.0, \" Close\": 1930.0, \" Volume\": 12185, \"Price_Change\": -0.0005178663904712584, \"Mean_Score\": 0.7499996439396738, \"Percent_of_PosSent\": 0.75, \"Close_roll\": 1936.0, \"Price_Change_roll\": -0.004436076370220462, \"Mean_Score_roll\": 0.19999986590920216, \"Percent_of_PosSent_roll\": 0.3}, {\"Date\": \"2019-12-11T00:00:00\", \" Open\": 1936.0, \" High\": 1980.0, \" Low\": 1933.0, \" Close\": 1980.0, \" Volume\": 27260, \"Price_Change\": 0.022727272727272728, \"Mean_Score\": 0.7499996439396738, \"Percent_of_PosSent\": 0.75, \"Close_roll\": 1945.2, \"Price_Change_roll\": 0.0047558428216987305, \"Mean_Score_roll\": 0.3833331252526927, \"Percent_of_PosSent_roll\": 0.45}, {\"Date\": \"2019-12-12T00:00:00\", \" Open\": 1940.0, \" High\": 1965.0, \" Low\": 1934.0, \" Close\": 1934.0, \" Volume\": 60305, \"Price_Change\": -0.003092783505154639, \"Mean_Score\": 0.7499996439396738, \"Percent_of_PosSent\": 0.75, \"Close_roll\": 1945.0, \"Price_Change_roll\": 0.004137286120667803, \"Mean_Score_roll\": 0.5666663845961832, \"Percent_of_PosSent_roll\": 0.6}, {\"Date\": \"2019-12-13T00:00:00\", \" Open\": 1978.0, \" High\": 1980.0, \" Low\": 1940.0, \" Close\": 1978.0, \" Volume\": 38855, \"Price_Change\": 0.0, \"Mean_Score\": 0.7499996439396738, \"Percent_of_PosSent\": 0.75, \"Close_roll\": 1951.8, \"Price_Change_roll\": 0.0031031599572758687, \"Mean_Score_roll\": 0.7499996439396738, \"Percent_of_PosSent_roll\": 0.75}, {\"Date\": \"2019-12-16T00:00:00\", \" Open\": 1978.0, \" High\": 1978.0, \" Low\": 1935.0, \" Close\": 1935.0, \" Volume\": 21660, \"Price_Change\": -0.021739130434782608, \"Mean_Score\": 0.7499996439396738, \"Percent_of_PosSent\": 0.75, \"Close_roll\": 1951.4, \"Price_Change_roll\": -0.0005245015206271547, \"Mean_Score_roll\": 0.7499996439396739, \"Percent_of_PosSent_roll\": 0.75}, {\"Date\": \"2019-12-17T00:00:00\", \" Open\": 1935.0, \" High\": 1980.0, \" Low\": 1935.0, \" Close\": 1980.0, \" Volume\": 30800, \"Price_Change\": 0.023255813953488372, \"Mean_Score\": 0.7499996439396738, \"Percent_of_PosSent\": 0.75, \"Close_roll\": 1961.4, \"Price_Change_roll\": 0.004230234548164772, \"Mean_Score_roll\": 0.7499996439396738, \"Percent_of_PosSent_roll\": 0.75}, {\"Date\": \"2019-12-18T00:00:00\", \" Open\": 1980.0, \" High\": 2042.0, \" Low\": 1945.0, \" Close\": 2042.0, \" Volume\": 80120, \"Price_Change\": 0.031313131313131314, \"Mean_Score\": 0.49999987500003124, \"Percent_of_PosSent\": 1.0, \"Close_roll\": 1973.8, \"Price_Change_roll\": 0.005947406265336489, \"Mean_Score_roll\": 0.6999996901517453, \"Percent_of_PosSent_roll\": 0.8}, {\"Date\": \"2019-12-19T00:00:00\", \" Open\": 2000.0, \" High\": 2038.0, \" Low\": 1975.0, \" Close\": 2000.0, \" Volume\": 29920, \"Price_Change\": 0.0, \"Mean_Score\": 0.49999987500003124, \"Percent_of_PosSent\": 1.0, \"Close_roll\": 1987.0, \"Price_Change_roll\": 0.0065659629663674165, \"Mean_Score_roll\": 0.6499997363638167, \"Percent_of_PosSent_roll\": 0.85}, {\"Date\": \"2019-12-20T00:00:00\", \" Open\": 2040.0, \" High\": 2044.0, \" Low\": 2000.0, \" Close\": 2016.0, \" Volume\": 172845, \"Price_Change\": -0.011764705882352941, \"Mean_Score\": 0.49999987500003124, \"Percent_of_PosSent\": 1.0, \"Close_roll\": 1994.6, \"Price_Change_roll\": 0.0042130217898968285, \"Mean_Score_roll\": 0.5999997825758883, \"Percent_of_PosSent_roll\": 0.9}, {\"Date\": \"2019-12-23T00:00:00\", \" Open\": 2012.0, \" High\": 2030.0, \" Low\": 1996.0, \" Close\": 2012.0, \" Volume\": 31625, \"Price_Change\": 0.0, \"Mean_Score\": 0.49999987500003124, \"Percent_of_PosSent\": 1.0, \"Close_roll\": 2010.0, \"Price_Change_roll\": 0.00856084787685335, \"Mean_Score_roll\": 0.5499998287879598, \"Percent_of_PosSent_roll\": 0.95}, {\"Date\": \"2019-12-26T00:00:00\", \" Open\": 2016.0, \" High\": 2016.0, \" Low\": 1986.0, \" Close\": 1997.0, \" Volume\": 12270, \"Price_Change\": -0.009424603174603174, \"Mean_Score\": 0.49999987500003124, \"Percent_of_PosSent\": 1.0, \"Close_roll\": 2013.4, \"Price_Change_roll\": 0.0020247644512350403, \"Mean_Score_roll\": 0.49999987500003124, \"Percent_of_PosSent_roll\": 1.0}, {\"Date\": \"2019-12-27T00:00:00\", \" Open\": 1998.0, \" High\": 2030.0, \" Low\": 1998.0, \" Close\": 2020.0, \" Volume\": 35090, \"Price_Change\": 0.011011011011011011, \"Mean_Score\": 0.49999987500003124, \"Percent_of_PosSent\": 1.0, \"Close_roll\": 2009.0, \"Price_Change_roll\": -0.00203565960918902, \"Mean_Score_roll\": 0.49999987500003124, \"Percent_of_PosSent_roll\": 1.0}, {\"Date\": \"2020-01-02T00:00:00\", \" Open\": 2000.0, \" High\": 2048.0, \" Low\": 1990.0, \" Close\": 2048.0, \" Volume\": 18055, \"Price_Change\": 0.024, \"Mean_Score\": 0.49999987500003124, \"Percent_of_PosSent\": 1.0, \"Close_roll\": 2018.6, \"Price_Change_roll\": 0.0027643403908109805, \"Mean_Score_roll\": 0.49999987500003124, \"Percent_of_PosSent_roll\": 1.0}, {\"Date\": \"2020-01-03T00:00:00\", \" Open\": 2026.0, \" High\": 2030.0, \" Low\": 2002.0, \" Close\": 2020.0, \" Volume\": 30520, \"Price_Change\": -0.0029615004935834156, \"Mean_Score\": 0.49999987500003124, \"Percent_of_PosSent\": 1.0, \"Close_roll\": 2019.4, \"Price_Change_roll\": 0.004524981468564886, \"Mean_Score_roll\": 0.49999987500003124, \"Percent_of_PosSent_roll\": 1.0}, {\"Date\": \"2020-01-06T00:00:00\", \" Open\": 2004.0, \" High\": 2044.0, \" Low\": 1996.0, \" Close\": 2034.0, \" Volume\": 9630, \"Price_Change\": 0.014970059880239521, \"Mean_Score\": -0.7499999062500118, \"Percent_of_PosSent\": 0.0, \"Close_roll\": 2023.8, \"Price_Change_roll\": 0.00751899344461279, \"Mean_Score_roll\": 0.24999991875002267, \"Percent_of_PosSent_roll\": 0.8}, {\"Date\": \"2020-01-07T00:00:00\", \" Open\": 2026.0, \" High\": 2034.0, \" Low\": 2008.0, \" Close\": 2008.0, \" Volume\": 40395, \"Price_Change\": -0.008884501480750246, \"Mean_Score\": -0.7499999062500118, \"Percent_of_PosSent\": 0.0, \"Close_roll\": 2026.0, \"Price_Change_roll\": 0.007627013783383374, \"Mean_Score_roll\": -3.749998593871595e-08, \"Percent_of_PosSent_roll\": 0.6}, {\"Date\": \"2020-01-08T00:00:00\", \" Open\": 2010.0, \" High\": 2024.0, \" Low\": 2002.0, \" Close\": 2020.0, \" Volume\": 30980, \"Price_Change\": 0.004975124378109453, \"Mean_Score\": -0.7499999062500118, \"Percent_of_PosSent\": 0.0, \"Close_roll\": 2026.0, \"Price_Change_roll\": 0.006419836456803063, \"Mean_Score_roll\": -0.24999999374999454, \"Percent_of_PosSent_roll\": 0.4}, {\"Date\": \"2020-01-09T00:00:00\", \" Open\": 2010.0, \" High\": 2032.0, \" Low\": 2004.0, \" Close\": 2030.0, \" Volume\": 37870, \"Price_Change\": 0.009950248756218905, \"Mean_Score\": -0.7499999062500118, \"Percent_of_PosSent\": 0.0, \"Close_roll\": 2022.4, \"Price_Change_roll\": 0.0036098862080468446, \"Mean_Score_roll\": -0.49999995000000313, \"Percent_of_PosSent_roll\": 0.2}, {\"Date\": \"2020-01-10T00:00:00\", \" Open\": 2030.0, \" High\": 2030.0, \" Low\": 1980.0, \" Close\": 1980.0, \" Volume\": 119775, \"Price_Change\": -0.024630541871921183, \"Mean_Score\": -0.7499999062500118, \"Percent_of_PosSent\": 0.0, \"Close_roll\": 2014.4, \"Price_Change_roll\": -0.0007239220676207088, \"Mean_Score_roll\": -0.7499999062500118, \"Percent_of_PosSent_roll\": 0.0}, {\"Date\": \"2020-01-14T00:00:00\", \" Open\": 1980.0, \" High\": 2048.0, \" Low\": 1978.0, \" Close\": 2042.0, \" Volume\": 85795, \"Price_Change\": 0.031313131313131314, \"Mean_Score\": -0.7499999062500118, \"Percent_of_PosSent\": 0.0, \"Close_roll\": 2016.0, \"Price_Change_roll\": 0.0025446922189576496, \"Mean_Score_roll\": -0.7499999062500118, \"Percent_of_PosSent_roll\": 0.0}, {\"Date\": \"2020-01-15T00:00:00\", \" Open\": 1996.0, \" High\": 2066.0, \" Low\": 1996.0, \" Close\": 2062.0, \" Volume\": 93230, \"Price_Change\": 0.033066132264529056, \"Mean_Score\": -0.7499999062500118, \"Percent_of_PosSent\": 0.0, \"Close_roll\": 2026.8, \"Price_Change_roll\": 0.01093481896801351, \"Mean_Score_roll\": -0.7499999062500118, \"Percent_of_PosSent_roll\": 0.0}, {\"Date\": \"2020-01-16T00:00:00\", \" Open\": 2062.0, \" High\": 2062.0, \" Low\": 2004.0, \" Close\": 2044.0, \" Volume\": 54105, \"Price_Change\": -0.008729388942774006, \"Mean_Score\": -0.7499999062500118, \"Percent_of_PosSent\": 0.0, \"Close_roll\": 2031.6, \"Price_Change_roll\": 0.008193916303836818, \"Mean_Score_roll\": -0.7499999062500118, \"Percent_of_PosSent_roll\": 0.0}, {\"Date\": \"2020-01-17T00:00:00\", \" Open\": 2050.0, \" High\": 2098.0, \" Low\": 2036.0, \" Close\": 2098.0, \" Volume\": 29495, \"Price_Change\": 0.023414634146341463, \"Mean_Score\": 0.0, \"Percent_of_PosSent\": 0.0, \"Close_roll\": 2045.2, \"Price_Change_roll\": 0.01088679338186133, \"Mean_Score_roll\": -0.5999999250000094, \"Percent_of_PosSent_roll\": 0.0}, {\"Date\": \"2020-01-20T00:00:00\", \" Open\": 2084.0, \" High\": 2084.0, \" Low\": 2042.0, \" Close\": 2046.0, \" Volume\": 61615, \"Price_Change\": -0.018234165067178502, \"Mean_Score\": 0.0, \"Percent_of_PosSent\": 0.0, \"Close_roll\": 2058.4, \"Price_Change_roll\": 0.012166068742809868, \"Mean_Score_roll\": -0.44999994375000707, \"Percent_of_PosSent_roll\": 0.0}, {\"Date\": \"2020-01-21T00:00:00\", \" Open\": 2046.0, \" High\": 2046.0, \" Low\": 2026.0, \" Close\": 2036.0, \" Volume\": 33275, \"Price_Change\": -0.004887585532746823, \"Mean_Score\": 0.0, \"Percent_of_PosSent\": 0.0, \"Close_roll\": 2057.2, \"Price_Change_roll\": 0.004925925373634238, \"Mean_Score_roll\": -0.2999999625000047, \"Percent_of_PosSent_roll\": 0.0}, {\"Date\": \"2020-01-22T00:00:00\", \" Open\": 2008.0, \" High\": 2056.0, \" Low\": 1973.0, \" Close\": 1973.0, \" Volume\": 94275, \"Price_Change\": -0.01743027888446215, \"Mean_Score\": 0.0, \"Percent_of_PosSent\": 0.0, \"Close_roll\": 2039.4, \"Price_Change_roll\": -0.005173356856164003, \"Mean_Score_roll\": -0.14999998125000233, \"Percent_of_PosSent_roll\": 0.0}, {\"Date\": \"2020-01-23T00:00:00\", \" Open\": 1980.0, \" High\": 2028.0, \" Low\": 1972.0, \" Close\": 2004.0, \" Volume\": 30270, \"Price_Change\": 0.012121212121212121, \"Mean_Score\": 0.0, \"Percent_of_PosSent\": 0.0, \"Close_roll\": 2031.4, \"Price_Change_roll\": -0.0010032366433667772, \"Mean_Score_roll\": 2.2204460492503132e-17, \"Percent_of_PosSent_roll\": 0.0}, {\"Date\": \"2020-01-24T00:00:00\", \" Open\": 2004.0, \" High\": 2048.0, \" Low\": 1990.0, \" Close\": 2004.0, \" Volume\": 17235, \"Price_Change\": 0.0, \"Mean_Score\": 0.9999998750000157, \"Percent_of_PosSent\": 1.0, \"Close_roll\": 2012.6, \"Price_Change_roll\": -0.005686163472635069, \"Mean_Score_roll\": 0.19999997500000316, \"Percent_of_PosSent_roll\": 0.2}, {\"Date\": \"2020-01-27T00:00:00\", \" Open\": 2004.0, \" High\": 2020.0, \" Low\": 1995.0, \" Close\": 2002.0, \" Volume\": 3210, \"Price_Change\": -0.000998003992015968, \"Mean_Score\": 0.9999998750000157, \"Percent_of_PosSent\": 1.0, \"Close_roll\": 2003.8, \"Price_Change_roll\": -0.002238931257602563, \"Mean_Score_roll\": 0.3999999500000063, \"Percent_of_PosSent_roll\": 0.4}, {\"Date\": \"2020-01-28T00:00:00\", \" Open\": 2000.0, \" High\": 2008.0, \" Low\": 1962.0, \" Close\": 1962.0, \" Volume\": 17075, \"Price_Change\": -0.019, \"Mean_Score\": 0.9999998750000157, \"Percent_of_PosSent\": 1.0, \"Close_roll\": 1989.0, \"Price_Change_roll\": -0.005061414151053198, \"Mean_Score_roll\": 0.5999999250000094, \"Percent_of_PosSent_roll\": 0.6}, {\"Date\": \"2020-01-29T00:00:00\", \" Open\": 1962.0, \" High\": 1998.0, \" Low\": 1960.0, \" Close\": 1970.0, \" Volume\": 14600, \"Price_Change\": 0.004077471967380225, \"Mean_Score\": 0.9999998750000157, \"Percent_of_PosSent\": 1.0, \"Close_roll\": 1988.4, \"Price_Change_roll\": -0.000759863980684723, \"Mean_Score_roll\": 0.7999999000000126, \"Percent_of_PosSent_roll\": 0.8}, {\"Date\": \"2020-01-30T00:00:00\", \" Open\": 1971.0, \" High\": 1996.0, \" Low\": 1960.0, \" Close\": 1960.0, \" Volume\": 14095, \"Price_Change\": -0.005580923389142567, \"Mean_Score\": 0.9999998750000157, \"Percent_of_PosSent\": 1.0, \"Close_roll\": 1979.6, \"Price_Change_roll\": -0.00430029108275566, \"Mean_Score_roll\": 0.9999998750000157, \"Percent_of_PosSent_roll\": 1.0}, {\"Date\": \"2020-01-31T00:00:00\", \" Open\": 1961.0, \" High\": 1995.0, \" Low\": 1890.0, \" Close\": 1890.0, \" Volume\": 53990, \"Price_Change\": -0.03620601733809281, \"Mean_Score\": 0.9999998750000157, \"Percent_of_PosSent\": 1.0, \"Close_roll\": 1956.8, \"Price_Change_roll\": -0.011541494550374223, \"Mean_Score_roll\": 0.9999998750000157, \"Percent_of_PosSent_roll\": 1.0}, {\"Date\": \"2020-02-03T00:00:00\", \" Open\": 1890.0, \" High\": 1900.0, \" Low\": 1862.0, \" Close\": 1900.0, \" Volume\": 20205, \"Price_Change\": 0.005291005291005291, \"Mean_Score\": 0.3461538184582534, \"Percent_of_PosSent\": 0.6666666666666666, \"Close_roll\": 1936.4, \"Price_Change_roll\": -0.010283692693769973, \"Mean_Score_roll\": 0.8692306636916634, \"Percent_of_PosSent_roll\": 0.9333333333333333}, {\"Date\": \"2020-02-04T00:00:00\", \" Open\": 1920.0, \" High\": 1980.0, \" Low\": 1893.0, \" Close\": 1930.0, \" Volume\": 53740, \"Price_Change\": 0.005208333333333333, \"Mean_Score\": 0.3461538184582534, \"Percent_of_PosSent\": 0.6666666666666666, \"Close_roll\": 1930.0, \"Price_Change_roll\": -0.005442026027103305, \"Mean_Score_roll\": 0.7384614523833108, \"Percent_of_PosSent_roll\": 0.8666666666666666}, {\"Date\": \"2020-02-05T00:00:00\", \" Open\": 1960.0, \" High\": 1974.0, \" Low\": 1955.0, \" Close\": 1962.0, \" Volume\": 16320, \"Price_Change\": 0.0010204081632653062, \"Mean_Score\": 0.24999996875000394, \"Percent_of_PosSent\": 1.0, \"Close_roll\": 1928.4, \"Price_Change_roll\": -0.006053438787926289, \"Mean_Score_roll\": 0.5884614711333085, \"Percent_of_PosSent_roll\": 0.8666666666666666}, {\"Date\": \"2020-02-06T00:00:00\", \" Open\": 1963.0, \" High\": 1998.0, \" Low\": 1962.0, \" Close\": 1990.0, \" Volume\": 21935, \"Price_Change\": 0.013754457463066735, \"Mean_Score\": 0.0, \"Percent_of_PosSent\": 0.0, \"Close_roll\": 1934.4, \"Price_Change_roll\": -0.0021863626174844276, \"Mean_Score_roll\": 0.3884614961333053, \"Percent_of_PosSent_roll\": 0.6666666666666666}, {\"Date\": \"2020-02-07T00:00:00\", \" Open\": 1990.0, \" High\": 2008.0, \" Low\": 1970.0, \" Close\": 1980.0, \" Volume\": 30785, \"Price_Change\": -0.005025125628140704, \"Mean_Score\": 0.0, \"Percent_of_PosSent\": 0.0, \"Close_roll\": 1952.4, \"Price_Change_roll\": 0.004049815724505993, \"Mean_Score_roll\": 0.18846152113330217, \"Percent_of_PosSent_roll\": 0.4666666666666666}, {\"Date\": \"2020-02-10T00:00:00\", \" Open\": 1980.0, \" High\": 1999.0, \" Low\": 1970.0, \" Close\": 1986.0, \" Volume\": 24800, \"Price_Change\": 0.0030303030303030303, \"Mean_Score\": 0.33333322222225925, \"Percent_of_PosSent\": 1.0, \"Close_roll\": 1969.6, \"Price_Change_roll\": 0.0035976752723655423, \"Mean_Score_roll\": 0.18589740188610332, \"Percent_of_PosSent_roll\": 0.5333333333333334}, {\"Date\": \"2020-02-11T00:00:00\", \" Open\": 1993.0, \" High\": 2006.0, \" Low\": 1986.0, \" Close\": 2006.0, \" Volume\": 21230, \"Price_Change\": 0.006522829904666332, \"Mean_Score\": 0.33333322222225925, \"Percent_of_PosSent\": 1.0, \"Close_roll\": 1984.8, \"Price_Change_roll\": 0.0038605745866321416, \"Mean_Score_roll\": 0.18333328263890453, \"Percent_of_PosSent_roll\": 0.6}, {\"Date\": \"2020-02-12T00:00:00\", \" Open\": 1999.0, \" High\": 2000.0, \" Low\": 1965.0, \" Close\": 2000.0, \" Volume\": 42775, \"Price_Change\": 0.0005002501250625312, \"Mean_Score\": 0.9999998333333611, \"Percent_of_PosSent\": 1.0, \"Close_roll\": 1992.4, \"Price_Change_roll\": 0.0037565429789915864, \"Mean_Score_roll\": 0.3333332555555759, \"Percent_of_PosSent_roll\": 0.6}, {\"Date\": \"2020-02-13T00:00:00\", \" Open\": 2008.0, \" High\": 2008.0, \" Low\": 1990.0, \" Close\": 1996.0, \" Volume\": 15630, \"Price_Change\": -0.00597609561752988, \"Mean_Score\": 0.9999998333333611, \"Percent_of_PosSent\": 1.0, \"Close_roll\": 1993.6, \"Price_Change_roll\": -0.00018956763712773671, \"Mean_Score_roll\": 0.5333332222222482, \"Percent_of_PosSent_roll\": 0.8}, {\"Date\": \"2020-02-14T00:00:00\", \" Open\": 2006.0, \" High\": 2006.0, \" Low\": 1944.0, \" Close\": 1944.0, \" Volume\": 32555, \"Price_Change\": -0.03090727816550349, \"Mean_Score\": 0.9999998333333611, \"Percent_of_PosSent\": 1.0, \"Close_roll\": 1986.4, \"Price_Change_roll\": -0.005365998144600294, \"Mean_Score_roll\": 0.7333331888889203, \"Percent_of_PosSent_roll\": 1.0}, {\"Date\": \"2020-02-17T00:00:00\", \" Open\": 1948.0, \" High\": 1968.0, \" Low\": 1936.0, \" Close\": 1936.0, \" Volume\": 9560, \"Price_Change\": -0.006160164271047228, \"Mean_Score\": 0.9999998333333611, \"Percent_of_PosSent\": 1.0, \"Close_roll\": 1976.4, \"Price_Change_roll\": -0.007204091604870346, \"Mean_Score_roll\": 0.8666665111111407, \"Percent_of_PosSent_roll\": 1.0}, {\"Date\": \"2020-02-18T00:00:00\", \" Open\": 1964.0, \" High\": 1964.0, \" Low\": 1936.0, \" Close\": 1937.0, \" Volume\": 33050, \"Price_Change\": -0.01374745417515275, \"Mean_Score\": 0.0, \"Percent_of_PosSent\": 0.0, \"Close_roll\": 1962.6, \"Price_Change_roll\": -0.011258148420834163, \"Mean_Score_roll\": 0.799999866666689, \"Percent_of_PosSent_roll\": 0.8}, {\"Date\": \"2020-02-19T00:00:00\", \" Open\": 1935.0, \" High\": 1949.0, \" Low\": 1918.0, \" Close\": 1919.0, \" Volume\": 30440, \"Price_Change\": -0.008268733850129198, \"Mean_Score\": 0.0, \"Percent_of_PosSent\": 0.0, \"Close_roll\": 1946.4, \"Price_Change_roll\": -0.013011945215872508, \"Mean_Score_roll\": 0.5999999000000167, \"Percent_of_PosSent_roll\": 0.6}, {\"Date\": \"2020-02-20T00:00:00\", \" Open\": 1919.0, \" High\": 1925.0, \" Low\": 1895.0, \" Close\": 1895.0, \" Volume\": 32910, \"Price_Change\": -0.012506513809275664, \"Mean_Score\": 0.0, \"Percent_of_PosSent\": 0.0, \"Close_roll\": 1926.2, \"Price_Change_roll\": -0.014318028854221666, \"Mean_Score_roll\": 0.39999993333334444, \"Percent_of_PosSent_roll\": 0.39999999999999997}, {\"Date\": \"2020-02-21T00:00:00\", \" Open\": 1896.0, \" High\": 1929.0, \" Low\": 1889.0, \" Close\": 1889.0, \" Volume\": 51895, \"Price_Change\": -0.003691983122362869, \"Mean_Score\": 0.0, \"Percent_of_PosSent\": 0.0, \"Close_roll\": 1915.2, \"Price_Change_roll\": -0.00887496984559354, \"Mean_Score_roll\": 0.19999996666667225, \"Percent_of_PosSent_roll\": 0.2}, {\"Date\": \"2020-02-24T00:00:00\", \" Open\": 1885.0, \" High\": 1917.0, \" Low\": 1880.0, \" Close\": 1881.0, \" Volume\": 44595, \"Price_Change\": -0.002122015915119363, \"Mean_Score\": 0.0, \"Percent_of_PosSent\": 0.0, \"Close_roll\": 1904.2, \"Price_Change_roll\": -0.008067340174407968, \"Mean_Score_roll\": 2.2204460492503132e-17, \"Percent_of_PosSent_roll\": 0.0}, {\"Date\": \"2020-02-26T00:00:00\", \" Open\": 1864.0, \" High\": 1914.0, \" Low\": 1809.0, \" Close\": 1826.0, \" Volume\": 116015, \"Price_Change\": -0.0203862660944206, \"Mean_Score\": 0.0, \"Percent_of_PosSent\": 0.0, \"Close_roll\": 1882.0, \"Price_Change_roll\": -0.009395102558261537, \"Mean_Score_roll\": 2.2204460492503132e-17, \"Percent_of_PosSent_roll\": 0.0}, {\"Date\": \"2020-02-27T00:00:00\", \" Open\": 1826.0, \" High\": 1863.0, \" Low\": 1812.0, \" Close\": 1830.0, \" Volume\": 42560, \"Price_Change\": 0.002190580503833516, \"Mean_Score\": 0.33333322222225925, \"Percent_of_PosSent\": 1.0, \"Close_roll\": 1864.2, \"Price_Change_roll\": -0.0073032396874689945, \"Mean_Score_roll\": 0.06666664444445188, \"Percent_of_PosSent_roll\": 0.2}, {\"Date\": \"2020-02-28T00:00:00\", \" Open\": 1829.0, \" High\": 1829.0, \" Low\": 1779.0, \" Close\": 1779.0, \" Volume\": 89350, \"Price_Change\": -0.02733734281027884, \"Mean_Score\": 0.33333322222225925, \"Percent_of_PosSent\": 1.0, \"Close_roll\": 1841.0, \"Price_Change_roll\": -0.010269405487669631, \"Mean_Score_roll\": 0.13333328888890372, \"Percent_of_PosSent_roll\": 0.4}, {\"Date\": \"2020-03-02T00:00:00\", \" Open\": 1780.0, \" High\": 1829.0, \" Low\": 1742.0, \" Close\": 1800.0, \" Volume\": 83045, \"Price_Change\": 0.011235955056179775, \"Mean_Score\": 0.33333322222225925, \"Percent_of_PosSent\": 1.0, \"Close_roll\": 1823.2, \"Price_Change_roll\": -0.007283817851961101, \"Mean_Score_roll\": 0.19999993333335558, \"Percent_of_PosSent_roll\": 0.6}, {\"Date\": \"2020-03-03T00:00:00\", \" Open\": 1878.0, \" High\": 1878.0, \" Low\": 1817.0, \" Close\": 1830.0, \" Volume\": 46110, \"Price_Change\": -0.025559105431309903, \"Mean_Score\": 0.16666665277777895, \"Percent_of_PosSent\": 1.0, \"Close_roll\": 1813.0, \"Price_Change_roll\": -0.011971235755199209, \"Mean_Score_roll\": 0.23333326388891135, \"Percent_of_PosSent_roll\": 0.8}, {\"Date\": \"2020-03-04T00:00:00\", \" Open\": 1830.0, \" High\": 1854.0, \" Low\": 1817.0, \" Close\": 1850.0, \" Volume\": 42950, \"Price_Change\": 0.01092896174863388, \"Mean_Score\": 0.16666665277777895, \"Percent_of_PosSent\": 1.0, \"Close_roll\": 1817.8, \"Price_Change_roll\": -0.0057081901865883135, \"Mean_Score_roll\": 0.26666659444446716, \"Percent_of_PosSent_roll\": 1.0}, {\"Date\": \"2020-03-05T00:00:00\", \" Open\": 1850.0, \" High\": 1889.0, \" Low\": 1841.0, \" Close\": 1841.0, \" Volume\": 45250, \"Price_Change\": -0.004864864864864865, \"Mean_Score\": 0.16666665277777895, \"Percent_of_PosSent\": 1.0, \"Close_roll\": 1820.0, \"Price_Change_roll\": -0.00711927926032799, \"Mean_Score_roll\": 0.2333332805555711, \"Percent_of_PosSent_roll\": 1.0}, {\"Date\": \"2020-03-06T00:00:00\", \" Open\": 1825.0, \" High\": 1841.0, \" Low\": 1819.0, \" Close\": 1831.0, \" Volume\": 26235, \"Price_Change\": 0.0032876712328767125, \"Mean_Score\": -0.599999880000024, \"Percent_of_PosSent\": 0.0, \"Close_roll\": 1830.4, \"Price_Change_roll\": -0.0009942764516968788, \"Mean_Score_roll\": 0.04666666011111444, \"Percent_of_PosSent_roll\": 0.8}, {\"Date\": \"2020-03-09T00:00:00\", \" Open\": 1818.0, \" High\": 1821.0, \" Low\": 1750.0, \" Close\": 1750.0, \" Volume\": 27545, \"Price_Change\": -0.0374037403740374, \"Mean_Score\": -0.599999880000024, \"Percent_of_PosSent\": 0.0, \"Close_roll\": 1820.4, \"Price_Change_roll\": -0.010722215537740314, \"Mean_Score_roll\": -0.13999996033334222, \"Percent_of_PosSent_roll\": 0.6}, {\"Date\": \"2020-03-10T00:00:00\", \" Open\": 1751.0, \" High\": 1751.0, \" Low\": 1702.0, \" Close\": 1732.0, \" Volume\": 59705, \"Price_Change\": -0.010850942318675044, \"Mean_Score\": -0.599999880000024, \"Percent_of_PosSent\": 0.0, \"Close_roll\": 1800.8, \"Price_Change_roll\": -0.007780582915213344, \"Mean_Score_roll\": -0.29333326688890277, \"Percent_of_PosSent_roll\": 0.4}, {\"Date\": \"2020-03-11T00:00:00\", \" Open\": 1736.0, \" High\": 1783.0, \" Low\": 1736.0, \" Close\": 1750.0, \" Volume\": 28470, \"Price_Change\": 0.008064516129032258, \"Mean_Score\": -0.599999880000024, \"Percent_of_PosSent\": 0.0, \"Close_roll\": 1780.8, \"Price_Change_roll\": -0.008353472039133666, \"Mean_Score_roll\": -0.44666657344446337, \"Percent_of_PosSent_roll\": 0.2}, {\"Date\": \"2020-03-12T00:00:00\", \" Open\": 1750.0, \" High\": 1779.0, \" Low\": 1702.0, \" Close\": 1739.0, \" Volume\": 115820, \"Price_Change\": -0.006285714285714286, \"Mean_Score\": -0.599999880000024, \"Percent_of_PosSent\": 0.0, \"Close_roll\": 1760.4, \"Price_Change_roll\": -0.008637641923303551, \"Mean_Score_roll\": -0.599999880000024, \"Percent_of_PosSent_roll\": 0.0}, {\"Date\": \"2020-03-13T00:00:00\", \" Open\": 1690.0, \" High\": 1853.0, \" Low\": 1590.0, \" Close\": 1830.0, \" Volume\": 158395, \"Price_Change\": 0.08284023668639054, \"Mean_Score\": -0.599999880000024, \"Percent_of_PosSent\": 0.0, \"Close_roll\": 1760.2, \"Price_Change_roll\": 0.0072728711673992145, \"Mean_Score_roll\": -0.599999880000024, \"Percent_of_PosSent_roll\": 0.0}, {\"Date\": \"2020-03-16T00:00:00\", \" Open\": 1792.0, \" High\": 1920.0, \" Low\": 1681.0, \" Close\": 1920.0, \" Volume\": 94525, \"Price_Change\": 0.07142857142857142, \"Mean_Score\": 0.0, \"Percent_of_PosSent\": 0.0, \"Close_roll\": 1794.2, \"Price_Change_roll\": 0.02903933352792098, \"Mean_Score_roll\": -0.47999990400001913, \"Percent_of_PosSent_roll\": 0.0}, {\"Date\": \"2020-03-19T00:00:00\", \" Open\": 1740.0, \" High\": 1899.0, \" Low\": 1706.0, \" Close\": 1745.0, \" Volume\": 107305, \"Price_Change\": 0.0028735632183908046, \"Mean_Score\": 0.7142856632653098, \"Percent_of_PosSent\": 1.0, \"Close_roll\": 1796.8, \"Price_Change_roll\": 0.03178423463533415, \"Mean_Score_roll\": -0.2171427953469524, \"Percent_of_PosSent_roll\": 0.2}, {\"Date\": \"2020-03-20T00:00:00\", \" Open\": 1745.0, \" High\": 1769.0, \" Low\": 1650.0, \" Close\": 1658.0, \" Volume\": 102600, \"Price_Change\": -0.0498567335243553, \"Mean_Score\": 0.7142856632653098, \"Percent_of_PosSent\": 1.0, \"Close_roll\": 1778.4, \"Price_Change_roll\": 0.020199984704656636, \"Mean_Score_roll\": 0.04571431330611435, \"Percent_of_PosSent_roll\": 0.4}, {\"Date\": \"2020-03-23T00:00:00\", \" Open\": 1650.0, \" High\": 1850.0, \" Low\": 1650.0, \" Close\": 1850.0, \" Volume\": 85175, \"Price_Change\": 0.12121212121212122, \"Mean_Score\": -0.23809521863189914, \"Percent_of_PosSent\": 0.0, \"Close_roll\": 1800.6, \"Price_Change_roll\": 0.045699551804223734, \"Mean_Score_roll\": 0.11809524557973931, \"Percent_of_PosSent_roll\": 0.4}, {\"Date\": \"2020-03-24T00:00:00\", \" Open\": 1840.0, \" High\": 1890.0, \" Low\": 1760.0, \" Close\": 1816.0, \" Volume\": 64945, \"Price_Change\": -0.013043478260869565, \"Mean_Score\": -0.23809521863189914, \"Percent_of_PosSent\": 0.0, \"Close_roll\": 1797.8, \"Price_Change_roll\": 0.026522808814771714, \"Mean_Score_roll\": 0.1904761778533643, \"Percent_of_PosSent_roll\": 0.4}, {\"Date\": \"2020-03-25T00:00:00\", \" Open\": 1837.0, \" High\": 1885.0, \" Low\": 1820.0, \" Close\": 1840.0, \" Volume\": 46540, \"Price_Change\": 0.001633097441480675, \"Mean_Score\": -0.23809521863189914, \"Percent_of_PosSent\": 0.0, \"Close_roll\": 1781.8, \"Price_Change_roll\": 0.012563714017353567, \"Mean_Score_roll\": 0.14285713412698448, \"Percent_of_PosSent_roll\": 0.4}, {\"Date\": \"2020-03-26T00:00:00\", \" Open\": 1840.0, \" High\": 1980.0, \" Low\": 1840.0, \" Close\": 1930.0, \" Volume\": 123430, \"Price_Change\": 0.04891304347826087, \"Mean_Score\": 0.16666668055554515, \"Percent_of_PosSent\": 0.3333333333333333, \"Close_roll\": 1818.8, \"Price_Change_roll\": 0.02177161006932758, \"Mean_Score_roll\": 0.033333337585031535, \"Percent_of_PosSent_roll\": 0.26666666666666666}, {\"Date\": \"2020-03-27T00:00:00\", \" Open\": 1950.0, \" High\": 1976.0, \" Low\": 1908.0, \" Close\": 1949.0, \" Volume\": 95365, \"Price_Change\": -0.0005128205128205128, \"Mean_Score\": 0.16666668055554515, \"Percent_of_PosSent\": 0.3333333333333333, \"Close_roll\": 1877.0, \"Price_Change_roll\": 0.031640392671634536, \"Mean_Score_roll\": -0.0761904589569214, \"Percent_of_PosSent_roll\": 0.13333333333333333}, {\"Date\": \"2020-03-30T00:00:00\", \" Open\": 1910.0, \" High\": 1949.0, \" Low\": 1910.0, \" Close\": 1912.0, \" Volume\": 56105, \"Price_Change\": 0.0010471204188481676, \"Mean_Score\": 0.16666668055554515, \"Percent_of_PosSent\": 0.3333333333333333, \"Close_roll\": 1889.4, \"Price_Change_roll\": 0.007607392512979929, \"Mean_Score_roll\": 0.00476192088056746, \"Percent_of_PosSent_roll\": 0.2}, {\"Date\": \"2020-03-31T00:00:00\", \" Open\": 1916.0, \" High\": 1949.0, \" Low\": 1913.0, \" Close\": 1930.0, \" Volume\": 77700, \"Price_Change\": 0.007306889352818371, \"Mean_Score\": 0.16666668055554515, \"Percent_of_PosSent\": 0.3333333333333333, \"Close_roll\": 1912.2, \"Price_Change_roll\": 0.011677466035717515, \"Mean_Score_roll\": 0.08571430071805633, \"Percent_of_PosSent_roll\": 0.26666666666666666}, {\"Date\": \"2020-04-01T00:00:00\", \" Open\": 1912.0, \" High\": 2000.0, \" Low\": 1912.0, \" Close\": 2000.0, \" Volume\": 79425, \"Price_Change\": 0.04602510460251046, \"Mean_Score\": 0.16666668055554515, \"Percent_of_PosSent\": 0.3333333333333333, \"Close_roll\": 1944.2, \"Price_Change_roll\": 0.020555867467923473, \"Mean_Score_roll\": 0.16666668055554518, \"Percent_of_PosSent_roll\": 0.3333333333333333}, {\"Date\": \"2020-04-02T00:00:00\", \" Open\": 2000.0, \" High\": 2000.0, \" Low\": 1973.0, \" Close\": 2000.0, \" Volume\": 52545, \"Price_Change\": 0.0, \"Mean_Score\": 0.16666668055554515, \"Percent_of_PosSent\": 0.3333333333333333, \"Close_roll\": 1958.2, \"Price_Change_roll\": 0.010773258772271298, \"Mean_Score_roll\": 0.16666668055554518, \"Percent_of_PosSent_roll\": 0.3333333333333333}, {\"Date\": \"2020-04-03T00:00:00\", \" Open\": 2006.0, \" High\": 2050.0, \" Low\": 1978.0, \" Close\": 2050.0, \" Volume\": 109870, \"Price_Change\": 0.02193419740777667, \"Mean_Score\": 0.16666668055554515, \"Percent_of_PosSent\": 0.3333333333333333, \"Close_roll\": 1978.4, \"Price_Change_roll\": 0.015262662356390733, \"Mean_Score_roll\": 0.16666668055554518, \"Percent_of_PosSent_roll\": 0.3333333333333333}, {\"Date\": \"2020-04-06T00:00:00\", \" Open\": 2050.0, \" High\": 2300.0, \" Low\": 2050.0, \" Close\": 2300.0, \" Volume\": 116125, \"Price_Change\": 0.12195121951219512, \"Mean_Score\": 0.16666668055554515, \"Percent_of_PosSent\": 0.3333333333333333, \"Close_roll\": 2056.0, \"Price_Change_roll\": 0.03944348217506012, \"Mean_Score_roll\": 0.16666668055554518, \"Percent_of_PosSent_roll\": 0.3333333333333333}, {\"Date\": \"2020-04-07T00:00:00\", \" Open\": 2280.0, \" High\": 2280.0, \" Low\": 2130.0, \" Close\": 2194.0, \" Volume\": 90795, \"Price_Change\": -0.037719298245614034, \"Mean_Score\": 0.13333304000032534, \"Percent_of_PosSent\": 0.3333333333333333, \"Close_roll\": 2108.8, \"Price_Change_roll\": 0.03043824465537364, \"Mean_Score_roll\": 0.15999995244450121, \"Percent_of_PosSent_roll\": 0.3333333333333333}, {\"Date\": \"2020-04-08T00:00:00\", \" Open\": 2186.0, \" High\": 2186.0, \" Low\": 2104.0, \" Close\": 2160.0, \" Volume\": 80825, \"Price_Change\": -0.011893870082342177, \"Mean_Score\": -0.16923075852071065, \"Percent_of_PosSent\": 0.5, \"Close_roll\": 2140.8, \"Price_Change_roll\": 0.018854449718403114, \"Mean_Score_roll\": 0.09282046462925005, \"Percent_of_PosSent_roll\": 0.36666666666666664}, {\"Date\": \"2020-04-13T00:00:00\", \" Open\": 2200.0, \" High\": 2238.0, \" Low\": 2160.0, \" Close\": 2224.0, \" Volume\": 54465, \"Price_Change\": 0.01090909090909091, \"Mean_Score\": 0.9999998571428775, \"Percent_of_PosSent\": 1.0, \"Close_roll\": 2185.6, \"Price_Change_roll\": 0.021036267900221294, \"Mean_Score_roll\": 0.25948709994671654, \"Percent_of_PosSent_roll\": 0.5}, {\"Date\": \"2020-04-14T00:00:00\", \" Open\": 2220.0, \" High\": 2258.0, \" Low\": 2200.0, \" Close\": 2230.0, \" Volume\": 117540, \"Price_Change\": 0.0045045045045045045, \"Mean_Score\": 0.9999998571428775, \"Percent_of_PosSent\": 1.0, \"Close_roll\": 2221.6, \"Price_Change_roll\": 0.017550329319566866, \"Mean_Score_roll\": 0.426153735264183, \"Percent_of_PosSent_roll\": 0.6333333333333333}, {\"Date\": \"2020-04-15T00:00:00\", \" Open\": 2206.0, \" High\": 2242.0, \" Low\": 2170.0, \" Close\": 2206.0, \" Volume\": 145220, \"Price_Change\": 0.0, \"Mean_Score\": 0.9999998571428775, \"Percent_of_PosSent\": 1.0, \"Close_roll\": 2202.8, \"Price_Change_roll\": -0.00683991458287216, \"Mean_Score_roll\": 0.5928203705816495, \"Percent_of_PosSent_roll\": 0.7666666666666666}, {\"Date\": \"2020-04-16T00:00:00\", \" Open\": 2190.0, \" High\": 2190.0, \" Low\": 2100.0, \" Close\": 2100.0, \" Volume\": 107800, \"Price_Change\": -0.0410958904109589, \"Mean_Score\": 0.9999998571428775, \"Percent_of_PosSent\": 1.0, \"Close_roll\": 2184.0, \"Price_Change_roll\": -0.0075152330159411335, \"Mean_Score_roll\": 0.76615373401016, \"Percent_of_PosSent_roll\": 0.9}, {\"Date\": \"2020-04-17T00:00:00\", \" Open\": 2150.0, \" High\": 2230.0, \" Low\": 2100.0, \" Close\": 2230.0, \" Volume\": 51470, \"Price_Change\": 0.037209302325581395, \"Mean_Score\": 0.9999998571428775, \"Percent_of_PosSent\": 1.0, \"Close_roll\": 2198.0, \"Price_Change_roll\": 0.0023054014656435804, \"Mean_Score_roll\": 0.9999998571428776, \"Percent_of_PosSent_roll\": 1.0}, {\"Date\": \"2020-04-20T00:00:00\", \" Open\": 2220.0, \" High\": 2220.0, \" Low\": 2154.0, \" Close\": 2180.0, \" Volume\": 37850, \"Price_Change\": -0.018018018018018018, \"Mean_Score\": 0.9999998571428775, \"Percent_of_PosSent\": 1.0, \"Close_roll\": 2189.2, \"Price_Change_roll\": -0.0034800203197782043, \"Mean_Score_roll\": 0.9999998571428776, \"Percent_of_PosSent_roll\": 1.0}, {\"Date\": \"2020-04-21T00:00:00\", \" Open\": 2160.0, \" High\": 2176.0, \" Low\": 2106.0, \" Close\": 2106.0, \" Volume\": 49340, \"Price_Change\": -0.025, \"Mean_Score\": 0.5076753259209821, \"Percent_of_PosSent\": 0.75, \"Close_roll\": 2164.4, \"Price_Change_roll\": -0.009380921220679106, \"Mean_Score_roll\": 0.9015349508984984, \"Percent_of_PosSent_roll\": 0.95}, {\"Date\": \"2020-04-22T00:00:00\", \" Open\": 2096.0, \" High\": 2192.0, \" Low\": 2096.0, \" Close\": 2168.0, \" Volume\": 69205, \"Price_Change\": 0.03435114503816794, \"Mean_Score\": 0.5076753259209821, \"Percent_of_PosSent\": 0.75, \"Close_roll\": 2156.8, \"Price_Change_roll\": -0.002510692213045518, \"Mean_Score_roll\": 0.8030700446541192, \"Percent_of_PosSent_roll\": 0.9}, {\"Date\": \"2020-04-23T00:00:00\", \" Open\": 2200.0, \" High\": 2220.0, \" Low\": 2174.0, \" Close\": 2200.0, \" Volume\": 47735, \"Price_Change\": 0.0, \"Mean_Score\": 0.5076753259209821, \"Percent_of_PosSent\": 0.75, \"Close_roll\": 2176.8, \"Price_Change_roll\": 0.005708485869146263, \"Mean_Score_roll\": 0.7046051384097403, \"Percent_of_PosSent_roll\": 0.85}, {\"Date\": \"2020-04-24T00:00:00\", \" Open\": 2200.0, \" High\": 2216.0, \" Low\": 2172.0, \" Close\": 2208.0, \" Volume\": 54135, \"Price_Change\": 0.0036363636363636364, \"Mean_Score\": 0.5076753259209821, \"Percent_of_PosSent\": 0.75, \"Close_roll\": 2172.4, \"Price_Change_roll\": -0.0010061018686972891, \"Mean_Score_roll\": 0.6061402321653613, \"Percent_of_PosSent_roll\": 0.8}, {\"Date\": \"2020-04-27T00:00:00\", \" Open\": 2208.0, \" High\": 2248.0, \" Low\": 2156.0, \" Close\": 2210.0, \" Volume\": 62340, \"Price_Change\": 0.0009057971014492754, \"Mean_Score\": 0.5076753259209821, \"Percent_of_PosSent\": 0.75, \"Close_roll\": 2178.4, \"Price_Change_roll\": 0.0027786611551961693, \"Mean_Score_roll\": 0.5076753259209821, \"Percent_of_PosSent_roll\": 0.75}, {\"Date\": \"2020-04-28T00:00:00\", \" Open\": 2210.0, \" High\": 2268.0, \" Low\": 2210.0, \" Close\": 2258.0, \" Volume\": 23120, \"Price_Change\": 0.02171945701357466, \"Mean_Score\": 0.5076753259209821, \"Percent_of_PosSent\": 0.75, \"Close_roll\": 2208.8, \"Price_Change_roll\": 0.012122552557911103, \"Mean_Score_roll\": 0.5076753259209821, \"Percent_of_PosSent_roll\": 0.75}, {\"Date\": \"2020-04-29T00:00:00\", \" Open\": 2258.0, \" High\": 2258.0, \" Low\": 2186.0, \" Close\": 2230.0, \" Volume\": 26950, \"Price_Change\": -0.012400354295837024, \"Mean_Score\": 0.6124999204687632, \"Percent_of_PosSent\": 1.0, \"Close_roll\": 2221.2, \"Price_Change_roll\": 0.0027722526911101095, \"Mean_Score_roll\": 0.5286402448305383, \"Percent_of_PosSent_roll\": 0.8}, {\"Date\": \"2020-04-30T00:00:00\", \" Open\": 2250.0, \" High\": 2256.0, \" Low\": 2196.0, \" Close\": 2196.0, \" Volume\": 64440, \"Price_Change\": -0.024, \"Mean_Score\": -0.07692307100591762, \"Percent_of_PosSent\": 0.0, \"Close_roll\": 2220.4, \"Price_Change_roll\": -0.0020277473088898905, \"Mean_Score_roll\": 0.41172056544515845, \"Percent_of_PosSent_roll\": 0.65}, {\"Date\": \"2020-05-04T00:00:00\", \" Open\": 2196.0, \" High\": 2258.0, \" Low\": 2182.0, \" Close\": 2258.0, \" Volume\": 38705, \"Price_Change\": 0.028233151183970857, \"Mean_Score\": -0.07692307100591762, \"Percent_of_PosSent\": 0.0, \"Close_roll\": 2230.4, \"Price_Change_roll\": 0.0028916102006315537, \"Mean_Score_roll\": 0.29480088605977844, \"Percent_of_PosSent_roll\": 0.5}, {\"Date\": \"2020-05-05T00:00:00\", \" Open\": 2214.0, \" High\": 2300.0, \" Low\": 2214.0, \" Close\": 2300.0, \" Volume\": 73225, \"Price_Change\": 0.03884372177055104, \"Mean_Score\": -0.07692307100591762, \"Percent_of_PosSent\": 0.0, \"Close_roll\": 2248.4, \"Price_Change_roll\": 0.010479195134451906, \"Mean_Score_roll\": 0.1778812066743985, \"Percent_of_PosSent_roll\": 0.35}, {\"Date\": \"2020-05-06T00:00:00\", \" Open\": 2296.0, \" High\": 2296.0, \" Low\": 2230.0, \" Close\": 2242.0, \" Volume\": 82890, \"Price_Change\": -0.023519163763066203, \"Mean_Score\": -0.07692307100591762, \"Percent_of_PosSent\": 0.0, \"Close_roll\": 2245.2, \"Price_Change_roll\": 0.0014314709791237335, \"Mean_Score_roll\": 0.06096152728901857, \"Percent_of_PosSent_roll\": 0.2}, {\"Date\": \"2020-05-07T00:00:00\", \" Open\": 2242.0, \" High\": 2258.0, \" Low\": 2202.0, \" Close\": 2202.0, \" Volume\": 89210, \"Price_Change\": -0.01784121320249777, \"Mean_Score\": 0.10434472065295053, \"Percent_of_PosSent\": 1.0, \"Close_roll\": 2239.6, \"Price_Change_roll\": 0.0003432991977915842, \"Mean_Score_roll\": -0.04066951267414397, \"Percent_of_PosSent_roll\": 0.2}, {\"Date\": \"2020-05-08T00:00:00\", \" Open\": 2202.0, \" High\": 2240.0, \" Low\": 2150.0, \" Close\": 2150.0, \" Volume\": 103990, \"Price_Change\": -0.023614895549500452, \"Mean_Score\": 0.0, \"Percent_of_PosSent\": 0.0, \"Close_roll\": 2230.4, \"Price_Change_roll\": 0.0004203200878914938, \"Mean_Score_roll\": -0.02528489847296045, \"Percent_of_PosSent_roll\": 0.2}, {\"Date\": \"2020-05-11T00:00:00\", \" Open\": 2150.0, \" High\": 2202.0, \" Low\": 2080.0, \" Close\": 2080.0, \" Volume\": 108490, \"Price_Change\": -0.03255813953488372, \"Mean_Score\": -0.11111110185185272, \"Percent_of_PosSent\": 0.0, \"Close_roll\": 2194.8, \"Price_Change_roll\": -0.01173793805587942, \"Mean_Score_roll\": -0.03212250464214746, \"Percent_of_PosSent_roll\": 0.2}, {\"Date\": \"2020-05-12T00:00:00\", \" Open\": 2100.0, \" High\": 2160.0, \" Low\": 2062.0, \" Close\": 2130.0, \" Volume\": 103755, \"Price_Change\": 0.014285714285714285, \"Mean_Score\": -0.11111110185185272, \"Percent_of_PosSent\": 0.0, \"Close_roll\": 2160.8, \"Price_Change_roll\": -0.01664953955284677, \"Mean_Score_roll\": -0.03896011081133448, \"Percent_of_PosSent_roll\": 0.2}, {\"Date\": \"2020-05-13T00:00:00\", \" Open\": 2128.0, \" High\": 2150.0, \" Low\": 2104.0, \" Close\": 2104.0, \" Volume\": 63965, \"Price_Change\": -0.011278195488721804, \"Mean_Score\": -0.11111110185185272, \"Percent_of_PosSent\": 0.0, \"Close_roll\": 2133.2, \"Price_Change_roll\": -0.01420134589797789, \"Mean_Score_roll\": -0.0457977169805215, \"Percent_of_PosSent_roll\": 0.2}, {\"Date\": \"2020-05-14T00:00:00\", \" Open\": 2130.0, \" High\": 2182.0, \" Low\": 2112.0, \" Close\": 2170.0, \" Volume\": 113215, \"Price_Change\": 0.018779342723004695, \"Mean_Score\": -0.7999997733334009, \"Percent_of_PosSent\": 0.0, \"Close_roll\": 2126.8, \"Price_Change_roll\": -0.006877234712877399, \"Mean_Score_roll\": -0.22666661577779176, \"Percent_of_PosSent_roll\": 0.0}, {\"Date\": \"2020-05-15T00:00:00\", \" Open\": 2176.0, \" High\": 2242.0, \" Low\": 2176.0, \" Close\": 2220.0, \" Volume\": 72445, \"Price_Change\": 0.02022058823529412, \"Mean_Score\": -0.7999997733334009, \"Percent_of_PosSent\": 0.0, \"Close_roll\": 2140.8, \"Price_Change_roll\": 0.0018898620440815153, \"Mean_Score_roll\": -0.38666657044447195, \"Percent_of_PosSent_roll\": 0.0}, {\"Date\": \"2020-05-18T00:00:00\", \" Open\": 2224.0, \" High\": 2224.0, \" Low\": 2160.0, \" Close\": 2218.0, \" Volume\": 20585, \"Price_Change\": -0.002697841726618705, \"Mean_Score\": 0.39999996000000404, \"Percent_of_PosSent\": 1.0, \"Close_roll\": 2168.4, \"Price_Change_roll\": 0.007861921605734519, \"Mean_Score_roll\": -0.2844443580741006, \"Percent_of_PosSent_roll\": 0.2}, {\"Date\": \"2020-05-19T00:00:00\", \" Open\": 2220.0, \" High\": 2226.0, \" Low\": 2174.0, \" Close\": 2212.0, \" Volume\": 29305, \"Price_Change\": -0.0036036036036036037, \"Mean_Score\": 0.39999996000000404, \"Percent_of_PosSent\": 1.0, \"Close_roll\": 2184.8, \"Price_Change_roll\": 0.00428405802787094, \"Mean_Score_roll\": -0.18222214570372927, \"Percent_of_PosSent_roll\": 0.4}, {\"Date\": \"2020-05-20T00:00:00\", \" Open\": 2182.0, \" High\": 2276.0, \" Low\": 2182.0, \" Close\": 2276.0, \" Volume\": 90945, \"Price_Change\": 0.04307974335472044, \"Mean_Score\": -0.33333327777778704, \"Percent_of_PosSent\": 0.0, \"Close_roll\": 2219.2, \"Price_Change_roll\": 0.015155645796559388, \"Mean_Score_roll\": -0.2266665808889161, \"Percent_of_PosSent_roll\": 0.4}, {\"Date\": \"2020-05-21T00:00:00\", \" Open\": 2232.0, \" High\": 2280.0, \" Low\": 2232.0, \" Close\": 2270.0, \" Volume\": 103905, \"Price_Change\": 0.017025089605734768, \"Mean_Score\": -0.33333327777778704, \"Percent_of_PosSent\": 0.0, \"Close_roll\": 2239.2, \"Price_Change_roll\": 0.014804795173105404, \"Mean_Score_roll\": -0.13333328177779336, \"Percent_of_PosSent_roll\": 0.4}, {\"Date\": \"2020-05-22T00:00:00\", \" Open\": 2284.0, \" High\": 2290.0, \" Low\": 2200.0, \" Close\": 2232.0, \" Volume\": 91900, \"Price_Change\": -0.02276707530647986, \"Mean_Score\": 0.43333330777777934, \"Percent_of_PosSent\": 1.0, \"Close_roll\": 2241.6, \"Price_Change_roll\": 0.0062072624647506085, \"Mean_Score_roll\": 0.11333333444444268, \"Percent_of_PosSent_roll\": 0.6}, {\"Date\": \"2020-05-26T00:00:00\", \" Open\": 2220.0, \" High\": 2260.0, \" Low\": 2182.0, \" Close\": 2250.0, \" Volume\": 84020, \"Price_Change\": 0.013513513513513514, \"Mean_Score\": 0.43333330777777934, \"Percent_of_PosSent\": 1.0, \"Close_roll\": 2248.0, \"Price_Change_roll\": 0.009449533512777051, \"Mean_Score_roll\": 0.12000000399999775, \"Percent_of_PosSent_roll\": 0.6}, {\"Date\": \"2020-05-27T00:00:00\", \" Open\": 2274.0, \" High\": 2280.0, \" Low\": 2190.0, \" Close\": 2220.0, \" Volume\": 139440, \"Price_Change\": -0.023746701846965697, \"Mean_Score\": 0.43333330777777934, \"Percent_of_PosSent\": 1.0, \"Close_roll\": 2249.6, \"Price_Change_roll\": 0.005420913864104633, \"Mean_Score_roll\": 0.1266666735555528, \"Percent_of_PosSent_roll\": 0.6}, {\"Date\": \"2020-05-28T00:00:00\", \" Open\": 2220.0, \" High\": 2220.0, \" Low\": 2190.0, \" Close\": 2200.0, \" Volume\": 67095, \"Price_Change\": -0.009009009009009009, \"Mean_Score\": 0.6666665555555741, \"Percent_of_PosSent\": 1.0, \"Close_roll\": 2234.4, \"Price_Change_roll\": -0.004996836608641257, \"Mean_Score_roll\": 0.326666640222225, \"Percent_of_PosSent_roll\": 0.8}, {\"Date\": \"2020-05-29T00:00:00\", \" Open\": 2190.0, \" High\": 2294.0, \" Low\": 2180.0, \" Close\": 2294.0, \" Volume\": 596745, \"Price_Change\": 0.047488584474885846, \"Mean_Score\": 0.5147058459486762, \"Percent_of_PosSent\": 1.0, \"Close_roll\": 2239.2, \"Price_Change_roll\": 0.0010958623651889585, \"Mean_Score_roll\": 0.49627446496751765, \"Percent_of_PosSent_roll\": 1.0}, {\"Date\": \"2020-06-01T00:00:00\", \" Open\": 2260.0, \" High\": 2270.0, \" Low\": 2228.0, \" Close\": 2244.0, \" Volume\": 38165, \"Price_Change\": -0.007079646017699115, \"Mean_Score\": 0.5147058459486762, \"Percent_of_PosSent\": 1.0, \"Close_roll\": 2241.6, \"Price_Change_roll\": 0.004233348222945107, \"Mean_Score_roll\": 0.512548972601697, \"Percent_of_PosSent_roll\": 1.0}, {\"Date\": \"2020-06-02T00:00:00\", \" Open\": 2258.0, \" High\": 2258.0, \" Low\": 2180.0, \" Close\": 2192.0, \" Volume\": 154120, \"Price_Change\": -0.029229406554472984, \"Mean_Score\": -0.46666663555555765, \"Percent_of_PosSent\": 0.0, \"Close_roll\": 2230.0, \"Price_Change_roll\": -0.004315235790652192, \"Mean_Score_roll\": 0.3325489839350297, \"Percent_of_PosSent_roll\": 0.8}, {\"Date\": \"2020-06-03T00:00:00\", \" Open\": 2236.0, \" High\": 2250.0, \" Low\": 2174.0, \" Close\": 2176.0, \" Volume\": 102375, \"Price_Change\": -0.026833631484794274, \"Mean_Score\": -0.46666663555555765, \"Percent_of_PosSent\": 0.0, \"Close_roll\": 2221.2, \"Price_Change_roll\": -0.004932621718217908, \"Mean_Score_roll\": 0.15254899526836227, \"Percent_of_PosSent_roll\": 0.6}, {\"Date\": \"2020-06-04T00:00:00\", \" Open\": 2150.0, \" High\": 2200.0, \" Low\": 2130.0, \" Close\": 2200.0, \" Volume\": 113740, \"Price_Change\": 0.023255813953488372, \"Mean_Score\": -0.46666663555555765, \"Percent_of_PosSent\": 0.0, \"Close_roll\": 2221.2, \"Price_Change_roll\": 0.0015203428742815688, \"Mean_Score_roll\": -0.0741176429538641, \"Percent_of_PosSent_roll\": 0.4}, {\"Date\": \"2020-06-05T00:00:00\", \" Open\": 2200.0, \" High\": 2200.0, \" Low\": 2168.0, \" Close\": 2170.0, \" Volume\": 112210, \"Price_Change\": -0.013636363636363636, \"Mean_Score\": -0.46666663555555765, \"Percent_of_PosSent\": 0.0, \"Close_roll\": 2196.4, \"Price_Change_roll\": -0.010704646747968328, \"Mean_Score_roll\": -0.2703921392547109, \"Percent_of_PosSent_roll\": 0.2}, {\"Date\": \"2020-06-08T00:00:00\", \" Open\": 2170.0, \" High\": 2186.0, \" Low\": 2106.0, \" Close\": 2120.0, \" Volume\": 83580, \"Price_Change\": -0.02304147465437788, \"Mean_Score\": -0.46666663555555765, \"Percent_of_PosSent\": 0.0, \"Close_roll\": 2171.6, \"Price_Change_roll\": -0.013897012475304083, \"Mean_Score_roll\": -0.46666663555555765, \"Percent_of_PosSent_roll\": 0.0}, {\"Date\": \"2020-06-09T00:00:00\", \" Open\": 2120.0, \" High\": 2170.0, \" Low\": 2110.0, \" Close\": 2170.0, \" Volume\": 62675, \"Price_Change\": 0.02358490566037736, \"Mean_Score\": 0.9999997750000512, \"Percent_of_PosSent\": 1.0, \"Close_roll\": 2167.2, \"Price_Change_roll\": -0.0033341500323340128, \"Mean_Score_roll\": -0.17333335344443587, \"Percent_of_PosSent_roll\": 0.2}, {\"Date\": \"2020-06-10T00:00:00\", \" Open\": 2162.0, \" High\": 2174.0, \" Low\": 2122.0, \" Close\": 2160.0, \" Volume\": 70995, \"Price_Change\": -0.0009250693802035153, \"Mean_Score\": 0.9999997750000512, \"Percent_of_PosSent\": 1.0, \"Close_roll\": 2164.0, \"Price_Change_roll\": 0.0018475623885841398, \"Mean_Score_roll\": 0.11999992866668592, \"Percent_of_PosSent_roll\": 0.4}, {\"Date\": \"2020-06-11T00:00:00\", \" Open\": 2176.0, \" High\": 2218.0, \" Low\": 2140.0, \" Close\": 2218.0, \" Volume\": 59540, \"Price_Change\": 0.019301470588235295, \"Mean_Score\": -0.9999997500000625, \"Percent_of_PosSent\": 0.0, \"Close_roll\": 2167.6, \"Price_Change_roll\": 0.0010566937155335244, \"Mean_Score_roll\": 0.013333305777784932, \"Percent_of_PosSent_roll\": 0.4}, {\"Date\": \"2020-06-15T00:00:00\", \" Open\": 2220.0, \" High\": 2220.0, \" Low\": 2160.0, \" Close\": 2160.0, \" Volume\": 104630, \"Price_Change\": -0.02702702702702703, \"Mean_Score\": -0.9999997500000625, \"Percent_of_PosSent\": 0.0, \"Close_roll\": 2165.6, \"Price_Change_roll\": -0.0016214389625991547, \"Mean_Score_roll\": -0.093333317111116, \"Percent_of_PosSent_roll\": 0.4}, {\"Date\": \"2020-06-16T00:00:00\", \" Open\": 2160.0, \" High\": 2182.0, \" Low\": 2122.0, \" Close\": 2160.0, \" Volume\": 73315, \"Price_Change\": 0.0, \"Mean_Score\": -0.9999997500000625, \"Percent_of_PosSent\": 0.0, \"Close_roll\": 2173.6, \"Price_Change_roll\": 0.002986855968276422, \"Mean_Score_roll\": -0.19999994000001697, \"Percent_of_PosSent_roll\": 0.4}, {\"Date\": \"2020-06-17T00:00:00\", \" Open\": 2170.0, \" High\": 2204.0, \" Low\": 2160.0, \" Close\": 2186.0, \" Volume\": 53130, \"Price_Change\": 0.007373271889400922, \"Mean_Score\": -0.9999997500000625, \"Percent_of_PosSent\": 0.0, \"Close_roll\": 2176.8, \"Price_Change_roll\": -0.0002554707859188654, \"Mean_Score_roll\": -0.5999998450000397, \"Percent_of_PosSent_roll\": 0.2}, {\"Date\": \"2020-06-18T00:00:00\", \" Open\": 2190.0, \" High\": 2224.0, \" Low\": 2162.0, \" Close\": 2206.0, \" Volume\": 74305, \"Price_Change\": 0.0073059360730593605, \"Mean_Score\": -0.9999997500000625, \"Percent_of_PosSent\": 0.0, \"Close_roll\": 2186.0, \"Price_Change_roll\": 0.0013907303047337098, \"Mean_Score_roll\": -0.9999997500000625, \"Percent_of_PosSent_roll\": 0.0}, {\"Date\": \"2020-06-19T00:00:00\", \" Open\": 2200.0, \" High\": 2200.0, \" Low\": 2126.0, \" Close\": 2154.0, \" Volume\": 360295, \"Price_Change\": -0.02090909090909091, \"Mean_Score\": -0.9999997500000625, \"Percent_of_PosSent\": 0.0, \"Close_roll\": 2173.2, \"Price_Change_roll\": -0.006651381994731531, \"Mean_Score_roll\": -0.9999997500000625, \"Percent_of_PosSent_roll\": 0.0}, {\"Date\": \"2020-06-22T00:00:00\", \" Open\": 2156.0, \" High\": 2182.0, \" Low\": 2130.0, \" Close\": 2130.0, \" Volume\": 59650, \"Price_Change\": -0.012059369202226345, \"Mean_Score\": 0.5555555246913597, \"Percent_of_PosSent\": 1.0, \"Close_roll\": 2167.2, \"Price_Change_roll\": -0.003657850429771395, \"Mean_Score_roll\": -0.6888886950617781, \"Percent_of_PosSent_roll\": 0.2}, {\"Date\": \"2020-06-23T00:00:00\", \" Open\": 2132.0, \" High\": 2144.0, \" Low\": 2072.0, \" Close\": 2140.0, \" Volume\": 100675, \"Price_Change\": 0.00375234521575985, \"Mean_Score\": 0.36538454400889203, \"Percent_of_PosSent\": 1.0, \"Close_roll\": 2163.2, \"Price_Change_roll\": -0.0029073813866194245, \"Mean_Score_roll\": -0.4158118362599871, \"Percent_of_PosSent_roll\": 0.4}, {\"Date\": \"2020-06-24T00:00:00\", \" Open\": 2130.0, \" High\": 2130.0, \" Low\": 2082.0, \" Close\": 2094.0, \" Volume\": 54995, \"Price_Change\": -0.016901408450704224, \"Mean_Score\": 0.36538454400889203, \"Percent_of_PosSent\": 1.0, \"Close_roll\": 2144.8, \"Price_Change_roll\": -0.007762317454640453, \"Mean_Score_roll\": -0.14273497745819622, \"Percent_of_PosSent_roll\": 0.6}, {\"Date\": \"2020-06-25T00:00:00\", \" Open\": 2096.0, \" High\": 2096.0, \" Low\": 2050.0, \" Close\": 2058.0, \" Volume\": 74045, \"Price_Change\": -0.01812977099236641, \"Mean_Score\": 0.36538454400889203, \"Percent_of_PosSent\": 1.0, \"Close_roll\": 2115.2, \"Price_Change_roll\": -0.012849458867725608, \"Mean_Score_roll\": 0.13034188134359467, \"Percent_of_PosSent_roll\": 0.8}, {\"Date\": \"2020-06-26T00:00:00\", \" Open\": 2058.0, \" High\": 2130.0, \" Low\": 2050.0, \" Close\": 2130.0, \" Volume\": 63010, \"Price_Change\": 0.03498542274052478, \"Mean_Score\": 0.36538454400889203, \"Percent_of_PosSent\": 1.0, \"Close_roll\": 2110.4, \"Price_Change_roll\": -0.0016705561378024688, \"Mean_Score_roll\": 0.4034187401453856, \"Percent_of_PosSent_roll\": 1.0}, {\"Date\": \"2020-06-29T00:00:00\", \" Open\": 2110.0, \" High\": 2112.0, \" Low\": 2054.0, \" Close\": 2088.0, \" Volume\": 51585, \"Price_Change\": -0.01042654028436019, \"Mean_Score\": -0.33333322222225925, \"Percent_of_PosSent\": 0.0, \"Close_roll\": 2102.0, \"Price_Change_roll\": -0.0013439903542292377, \"Mean_Score_roll\": 0.2256409907626618, \"Percent_of_PosSent_roll\": 0.8}, {\"Date\": \"2020-06-30T00:00:00\", \" Open\": 2082.0, \" High\": 2100.0, \" Low\": 2060.0, \" Close\": 2070.0, \" Volume\": 124920, \"Price_Change\": -0.005763688760806916, \"Mean_Score\": -0.33333322222225925, \"Percent_of_PosSent\": 0.0, \"Close_roll\": 2088.0, \"Price_Change_roll\": -0.0032471971495425913, \"Mean_Score_roll\": 0.08589743751643156, \"Percent_of_PosSent_roll\": 0.6}, {\"Date\": \"2020-07-01T00:00:00\", \" Open\": 2100.0, \" High\": 2128.0, \" Low\": 2074.0, \" Close\": 2100.0, \" Volume\": 45385, \"Price_Change\": 0.0, \"Mean_Score\": 0.14285713265306196, \"Percent_of_PosSent\": 1.0, \"Close_roll\": 2089.2, \"Price_Change_roll\": 0.00013308454059825383, \"Mean_Score_roll\": 0.041391955245265524, \"Percent_of_PosSent_roll\": 0.6}, {\"Date\": \"2020-07-02T00:00:00\", \" Open\": 2100.0, \" High\": 2130.0, \" Low\": 2072.0, \" Close\": 2120.0, \" Volume\": 172030, \"Price_Change\": 0.009523809523809525, \"Mean_Score\": 0.2083332975694496, \"Percent_of_PosSent\": 0.5, \"Close_roll\": 2101.6, \"Price_Change_roll\": 0.005663800643833441, \"Mean_Score_roll\": 0.009981705957377041, \"Percent_of_PosSent_roll\": 0.5}, {\"Date\": \"2020-07-03T00:00:00\", \" Open\": 2130.0, \" High\": 2150.0, \" Low\": 2090.0, \" Close\": 2110.0, \" Volume\": 46745, \"Price_Change\": -0.009389671361502348, \"Mean_Score\": 0.0, \"Percent_of_PosSent\": 0.0, \"Close_roll\": 2097.6, \"Price_Change_roll\": -0.0032112181765719854, \"Mean_Score_roll\": -0.06309520284440137, \"Percent_of_PosSent_roll\": 0.3}, {\"Date\": \"2020-07-06T00:00:00\", \" Open\": 2120.0, \" High\": 2150.0, \" Low\": 2092.0, \" Close\": 2140.0, \" Volume\": 128895, \"Price_Change\": 0.009433962264150943, \"Mean_Score\": 0.0, \"Percent_of_PosSent\": 0.0, \"Close_roll\": 2108.0, \"Price_Change_roll\": 0.0007608823331302413, \"Mean_Score_roll\": 0.0035714416000504844, \"Percent_of_PosSent_roll\": 0.3}, {\"Date\": \"2020-07-07T00:00:00\", \" Open\": 2140.0, \" High\": 2146.0, \" Low\": 2062.0, \" Close\": 2062.0, \" Volume\": 80985, \"Price_Change\": -0.03644859813084112, \"Mean_Score\": 0.7499999062500118, \"Percent_of_PosSent\": 1.0, \"Close_roll\": 2106.4, \"Price_Change_roll\": -0.0053760995408766, \"Mean_Score_roll\": 0.2202380672945047, \"Percent_of_PosSent_roll\": 0.5}, {\"Date\": \"2020-07-08T00:00:00\", \" Open\": 2090.0, \" High\": 2110.0, \" Low\": 2064.0, \" Close\": 2096.0, \" Volume\": 73590, \"Price_Change\": 0.0028708133971291866, \"Mean_Score\": 0.7499999062500118, \"Percent_of_PosSent\": 1.0, \"Close_roll\": 2105.6, \"Price_Change_roll\": -0.004801936861450763, \"Mean_Score_roll\": 0.34166662201389464, \"Percent_of_PosSent_roll\": 0.5}, {\"Date\": \"2020-07-09T00:00:00\", \" Open\": 2100.0, \" High\": 2102.0, \" Low\": 2066.0, \" Close\": 2066.0, \" Volume\": 46665, \"Price_Change\": -0.01619047619047619, \"Mean_Score\": 0.7499999062500118, \"Percent_of_PosSent\": 1.0, \"Close_roll\": 2094.8, \"Price_Change_roll\": -0.009944794004307905, \"Mean_Score_roll\": 0.44999994375000707, \"Percent_of_PosSent_roll\": 0.6}, {\"Date\": \"2020-07-10T00:00:00\", \" Open\": 2092.0, \" High\": 2092.0, \" Low\": 2070.0, \" Close\": 2076.0, \" Volume\": 44640, \"Price_Change\": -0.0076481835564053535, \"Mean_Score\": 0.7499999062500118, \"Percent_of_PosSent\": 1.0, \"Close_roll\": 2088.0, \"Price_Change_roll\": -0.009596496443288506, \"Mean_Score_roll\": 0.5999999250000094, \"Percent_of_PosSent_roll\": 0.8}, {\"Date\": \"2020-07-13T00:00:00\", \" Open\": 2082.0, \" High\": 2090.0, \" Low\": 2068.0, \" Close\": 2080.0, \" Volume\": 32835, \"Price_Change\": -0.0009606147934678194, \"Mean_Score\": -0.32142849872450685, \"Percent_of_PosSent\": 0.0, \"Close_roll\": 2076.0, \"Price_Change_roll\": -0.011675411854812258, \"Mean_Score_roll\": 0.5357142252551081, \"Percent_of_PosSent_roll\": 0.8}, {\"Date\": \"2020-07-14T00:00:00\", \" Open\": 2080.0, \" High\": 2084.0, \" Low\": 2062.0, \" Close\": 2062.0, \" Volume\": 28710, \"Price_Change\": -0.008653846153846154, \"Mean_Score\": 0.5384614970414233, \"Percent_of_PosSent\": 1.0, \"Close_roll\": 2076.0, \"Price_Change_roll\": -0.006116461459413265, \"Mean_Score_roll\": 0.4934065434133904, \"Percent_of_PosSent_roll\": 0.8}, {\"Date\": \"2020-07-15T00:00:00\", \" Open\": 2072.0, \" High\": 2094.0, \" Low\": 1980.0, \" Close\": 2006.0, \" Volume\": 113080, \"Price_Change\": -0.03185328185328185, \"Mean_Score\": 0.5384614970414233, \"Percent_of_PosSent\": 1.0, \"Close_roll\": 2058.0, \"Price_Change_roll\": -0.013061280509495472, \"Mean_Score_roll\": 0.45109886157167267, \"Percent_of_PosSent_roll\": 0.8}, {\"Date\": \"2020-07-16T00:00:00\", \" Open\": 2030.0, \" High\": 2066.0, \" Low\": 2026.0, \" Close\": 2066.0, \" Volume\": 23545, \"Price_Change\": 0.017733990147783252, \"Mean_Score\": 0.5384614970414233, \"Percent_of_PosSent\": 1.0, \"Close_roll\": 2058.0, \"Price_Change_roll\": -0.006276387241843584, \"Mean_Score_roll\": 0.408791179729955, \"Percent_of_PosSent_roll\": 0.8}, {\"Date\": \"2020-07-17T00:00:00\", \" Open\": 2066.0, \" High\": 2078.0, \" Low\": 2038.0, \" Close\": 2078.0, \" Volume\": 48330, \"Price_Change\": 0.005808325266214908, \"Mean_Score\": 0.5384614970414233, \"Percent_of_PosSent\": 1.0, \"Close_roll\": 2058.4, \"Price_Change_roll\": -0.003585085477319532, \"Mean_Score_roll\": 0.3664834978882373, \"Percent_of_PosSent_roll\": 0.8}, {\"Date\": \"2020-07-20T00:00:00\", \" Open\": 2080.0, \" High\": 2126.0, \" Low\": 2080.0, \" Close\": 2114.0, \" Volume\": 41515, \"Price_Change\": 0.016346153846153847, \"Mean_Score\": 0.3846153550295881, \"Percent_of_PosSent\": 1.0, \"Close_roll\": 2065.2, \"Price_Change_roll\": -0.00012373174939519921, \"Mean_Score_roll\": 0.5076922686390564, \"Percent_of_PosSent_roll\": 1.0}, {\"Date\": \"2020-07-21T00:00:00\", \" Open\": 2110.0, \" High\": 2114.0, \" Low\": 2090.0, \" Close\": 2090.0, \" Volume\": 25880, \"Price_Change\": -0.009478672985781991, \"Mean_Score\": -0.33333322222225925, \"Percent_of_PosSent\": 0.0, \"Close_roll\": 2070.8, \"Price_Change_roll\": -0.0002886971157823666, \"Mean_Score_roll\": 0.33333332478631983, \"Percent_of_PosSent_roll\": 0.8}, {\"Date\": \"2020-07-22T00:00:00\", \" Open\": 2090.0, \" High\": 2130.0, \" Low\": 2090.0, \" Close\": 2110.0, \" Volume\": 64890, \"Price_Change\": 0.009569377990430622, \"Mean_Score\": -0.33333322222225925, \"Percent_of_PosSent\": 0.0, \"Close_roll\": 2091.6, \"Price_Change_roll\": 0.007995834852960128, \"Mean_Score_roll\": 0.15897438093358326, \"Percent_of_PosSent_roll\": 0.6}, {\"Date\": \"2020-07-23T00:00:00\", \" Open\": 2120.0, \" High\": 2120.0, \" Low\": 2030.0, \" Close\": 2116.0, \" Volume\": 47400, \"Price_Change\": -0.0018867924528301887, \"Mean_Score\": -0.33333322222225925, \"Percent_of_PosSent\": 0.0, \"Close_roll\": 2101.6, \"Price_Change_roll\": 0.0040716783328374395, \"Mean_Score_roll\": -0.015384562919153244, \"Percent_of_PosSent_roll\": 0.4}, {\"Date\": \"2020-07-24T00:00:00\", \" Open\": 2116.0, \" High\": 2116.0, \" Low\": 2054.0, \" Close\": 2090.0, \" Volume\": 22105, \"Price_Change\": -0.012287334593572778, \"Mean_Score\": -0.33333322222225925, \"Percent_of_PosSent\": 0.0, \"Close_roll\": 2104.0, \"Price_Change_roll\": 0.0004525463608799029, \"Mean_Score_roll\": -0.18974350677188975, \"Percent_of_PosSent_roll\": 0.2}, {\"Date\": \"2020-07-27T00:00:00\", \" Open\": 2100.0, \" High\": 2110.0, \" Low\": 2006.0, \" Close\": 2010.0, \" Volume\": 47340, \"Price_Change\": -0.04285714285714286, \"Mean_Score\": 0.07692307100591762, \"Percent_of_PosSent\": 1.0, \"Close_roll\": 2083.2, \"Price_Change_roll\": -0.011388112979779439, \"Mean_Score_roll\": -0.25128196357662386, \"Percent_of_PosSent_roll\": 0.2}, {\"Date\": \"2020-07-28T00:00:00\", \" Open\": 2000.0, \" High\": 2024.0, \" Low\": 1942.0, \" Close\": 2000.0, \" Volume\": 62200, \"Price_Change\": 0.0, \"Mean_Score\": -0.14814813091564, \"Percent_of_PosSent\": 0.3333333333333333, \"Close_roll\": 2065.2, \"Price_Change_roll\": -0.00949237838262304, \"Mean_Score_roll\": -0.2142449453153, \"Percent_of_PosSent_roll\": 0.26666666666666666}, {\"Date\": \"2020-07-29T00:00:00\", \" Open\": 2000.0, \" High\": 2026.0, \" Low\": 1991.0, \" Close\": 2020.0, \" Volume\": 20385, \"Price_Change\": 0.01, \"Mean_Score\": 0.4444444182716065, \"Percent_of_PosSent\": 1.0, \"Close_roll\": 2047.2, \"Price_Change_roll\": -0.009406253980709165, \"Mean_Score_roll\": -0.05868941721652685, \"Percent_of_PosSent_roll\": 0.4666666666666666}, {\"Date\": \"2020-07-30T00:00:00\", \" Open\": 2020.0, \" High\": 2078.0, \" Low\": 2008.0, \" Close\": 2064.0, \" Volume\": 126200, \"Price_Change\": 0.02178217821782178, \"Mean_Score\": 0.0, \"Percent_of_PosSent\": 0.0, \"Close_roll\": 2036.8, \"Price_Change_roll\": -0.004672459846578771, \"Mean_Score_roll\": 0.007977227227924998, \"Percent_of_PosSent_roll\": 0.4666666666666666}, {\"Date\": \"2020-08-03T00:00:00\", \" Open\": 2054.0, \" High\": 2054.0, \" Low\": 2004.0, \" Close\": 2014.0, \" Volume\": 51895, \"Price_Change\": -0.019474196689386564, \"Mean_Score\": 0.0, \"Percent_of_PosSent\": 0.0, \"Close_roll\": 2021.6, \"Price_Change_roll\": -0.006109832265741527, \"Mean_Score_roll\": 0.07464387167237685, \"Percent_of_PosSent_roll\": 0.4666666666666666}, {\"Date\": \"2020-08-04T00:00:00\", \" Open\": 2054.0, \" High\": 2080.0, \" Low\": 2028.0, \" Close\": 2070.0, \" Volume\": 86565, \"Price_Change\": 0.007789678675754625, \"Mean_Score\": -0.3333333111111126, \"Percent_of_PosSent\": 0.0, \"Close_roll\": 2033.6, \"Price_Change_roll\": 0.0040195320408379686, \"Mean_Score_roll\": -0.00740740475102919, \"Percent_of_PosSent_roll\": 0.26666666666666666}, {\"Date\": \"2020-08-05T00:00:00\", \" Open\": 2096.0, \" High\": 2116.0, \" Low\": 2094.0, \" Close\": 2106.0, \" Volume\": 70160, \"Price_Change\": 0.004770992366412214, \"Mean_Score\": -0.045454541322314426, \"Percent_of_PosSent\": 0.0, \"Close_roll\": 2054.8, \"Price_Change_roll\": 0.004973730514120411, \"Mean_Score_roll\": 0.013131313167635925, \"Percent_of_PosSent_roll\": 0.2}, {\"Date\": \"2020-08-06T00:00:00\", \" Open\": 2120.0, \" High\": 2124.0, \" Low\": 2106.0, \" Close\": 2118.0, \" Volume\": 66005, \"Price_Change\": -0.0009433962264150943, \"Mean_Score\": -0.1999999900000005, \"Percent_of_PosSent\": 0.0, \"Close_roll\": 2074.4, \"Price_Change_roll\": 0.0027850512688373926, \"Mean_Score_roll\": -0.11575756848668547, \"Percent_of_PosSent_roll\": 0.0}, {\"Date\": \"2020-08-07T00:00:00\", \" Open\": 2120.0, \" High\": 2158.0, \" Low\": 2102.0, \" Close\": 2120.0, \" Volume\": 49715, \"Price_Change\": 0.0, \"Mean_Score\": -0.06666666222222252, \"Percent_of_PosSent\": 0.0, \"Close_roll\": 2085.6, \"Price_Change_roll\": -0.0015713843747269638, \"Mean_Score_roll\": -0.12909090093113, \"Percent_of_PosSent_roll\": 0.0}, {\"Date\": \"2020-08-10T00:00:00\", \" Open\": 2110.0, \" High\": 2200.0, \" Low\": 2110.0, \" Close\": 2200.0, \" Volume\": 38720, \"Price_Change\": 0.04265402843601896, \"Mean_Score\": -0.16666665277777895, \"Percent_of_PosSent\": 0.0, \"Close_roll\": 2122.8, \"Price_Change_roll\": 0.010854260650354141, \"Mean_Score_roll\": -0.16242423148668578, \"Percent_of_PosSent_roll\": 0.0}, {\"Date\": \"2020-08-11T00:00:00\", \" Open\": 2198.0, \" High\": 2198.0, \" Low\": 2154.0, \" Close\": 2180.0, \" Volume\": 37170, \"Price_Change\": -0.00818926296633303, \"Mean_Score\": -0.16666665277777895, \"Percent_of_PosSent\": 0.0, \"Close_roll\": 2144.8, \"Price_Change_roll\": 0.0076584723219366106, \"Mean_Score_roll\": -0.12909089982001903, \"Percent_of_PosSent_roll\": 0.0}, {\"Date\": \"2020-08-12T00:00:00\", \" Open\": 2116.0, \" High\": 2172.0, \" Low\": 2116.0, \" Close\": 2164.0, \" Volume\": 43775, \"Price_Change\": 0.022684310018903593, \"Mean_Score\": -0.16666665277777895, \"Percent_of_PosSent\": 0.0, \"Close_roll\": 2156.4, \"Price_Change_roll\": 0.011241135852434886, \"Mean_Score_roll\": -0.15333332211111195, \"Percent_of_PosSent_roll\": 0.0}, {\"Date\": \"2020-08-13T00:00:00\", \" Open\": 2164.0, \" High\": 2164.0, \" Low\": 2108.0, \" Close\": 2148.0, \" Volume\": 57875, \"Price_Change\": -0.0073937153419593345, \"Mean_Score\": 0.49999987500003124, \"Percent_of_PosSent\": 1.0, \"Close_roll\": 2162.4, \"Price_Change_roll\": 0.009951072029326038, \"Mean_Score_roll\": -0.013333349111105609, \"Percent_of_PosSent_roll\": 0.2}, {\"Date\": \"2020-08-14T00:00:00\", \" Open\": 2112.0, \" High\": 2148.0, \" Low\": 2112.0, \" Close\": 2136.0, \" Volume\": 42365, \"Price_Change\": 0.011363636363636364, \"Mean_Score\": 0.49999987500003124, \"Percent_of_PosSent\": 1.0, \"Close_roll\": 2165.6, \"Price_Change_roll\": 0.01222379930205331, \"Mean_Score_roll\": 0.09999995833334516, \"Percent_of_PosSent_roll\": 0.4}, {\"Date\": \"2020-08-17T00:00:00\", \" Open\": 2136.0, \" High\": 2140.0, \" Low\": 2116.0, \" Close\": 2118.0, \" Volume\": 12945, \"Price_Change\": -0.008426966292134831, \"Mean_Score\": 0.49999987500003124, \"Percent_of_PosSent\": 1.0, \"Close_roll\": 2149.2, \"Price_Change_roll\": 0.002007600356422552, \"Mean_Score_roll\": 0.23333326388890718, \"Percent_of_PosSent_roll\": 0.6}, {\"Date\": \"2020-08-18T00:00:00\", \" Open\": 2148.0, \" High\": 2148.0, \" Low\": 2118.0, \" Close\": 2130.0, \" Volume\": 30890, \"Price_Change\": -0.008379888268156424, \"Mean_Score\": 0.6923076390532585, \"Percent_of_PosSent\": 1.0, \"Close_roll\": 2139.2, \"Price_Change_roll\": 0.0019694752960578736, \"Mean_Score_roll\": 0.4051281222551147, \"Percent_of_PosSent_roll\": 0.8}, {\"Date\": \"2020-08-19T00:00:00\", \" Open\": 2130.0, \" High\": 2148.0, \" Low\": 2130.0, \" Close\": 2130.0, \" Volume\": 37640, \"Price_Change\": 0.0, \"Mean_Score\": 0.7142856632653098, \"Percent_of_PosSent\": 1.0, \"Close_roll\": 2132.4, \"Price_Change_roll\": -0.0025673867077228452, \"Mean_Score_roll\": 0.5813185854637325, \"Percent_of_PosSent_roll\": 1.0}, {\"Date\": \"2020-08-20T00:00:00\", \" Open\": 2130.0, \" High\": 2138.0, \" Low\": 2102.0, \" Close\": 2112.0, \" Volume\": 40420, \"Price_Change\": -0.008450704225352112, \"Mean_Score\": -0.4666665881481622, \"Percent_of_PosSent\": 0.0, \"Close_roll\": 2125.2, \"Price_Change_roll\": -0.002778784484401401, \"Mean_Score_roll\": 0.3879852928340938, \"Percent_of_PosSent_roll\": 0.8}, {\"Date\": \"2020-08-24T00:00:00\", \" Open\": 2128.0, \" High\": 2128.0, \" Low\": 2098.0, \" Close\": 2100.0, \" Volume\": 38440, \"Price_Change\": -0.013157894736842105, \"Mean_Score\": -0.4666665881481622, \"Percent_of_PosSent\": 0.0, \"Close_roll\": 2118.0, \"Price_Change_roll\": -0.007683090704497094, \"Mean_Score_roll\": 0.19465200020445508, \"Percent_of_PosSent_roll\": 0.6}, {\"Date\": \"2020-08-25T00:00:00\", \" Open\": 2096.0, \" High\": 2114.0, \" Low\": 2070.0, \" Close\": 2110.0, \" Volume\": 43045, \"Price_Change\": 0.006679389312977099, \"Mean_Score\": -0.9999990000010001, \"Percent_of_PosSent\": 0.0, \"Close_roll\": 2116.4, \"Price_Change_roll\": -0.004661819583474709, \"Mean_Score_roll\": -0.10534777479575119, \"Percent_of_PosSent_roll\": 0.4}, {\"Date\": \"2020-08-26T00:00:00\", \" Open\": 2108.0, \" High\": 2140.0, \" Low\": 2076.0, \" Close\": 2130.0, \" Volume\": 32055, \"Price_Change\": 0.010436432637571158, \"Mean_Score\": -0.23188402735770272, \"Percent_of_PosSent\": 0.0, \"Close_roll\": 2116.4, \"Price_Change_roll\": -0.0008985554023291917, \"Mean_Score_roll\": -0.2901861080779434, \"Percent_of_PosSent_roll\": 0.2}, {\"Date\": \"2020-08-27T00:00:00\", \" Open\": 2140.0, \" High\": 2146.0, \" Low\": 2114.0, \" Close\": 2134.0, \" Volume\": 42770, \"Price_Change\": -0.002803738317757009, \"Mean_Score\": -0.23188402735770272, \"Percent_of_PosSent\": 0.0, \"Close_roll\": 2117.2, \"Price_Change_roll\": -0.0014593030658805934, \"Mean_Score_roll\": -0.47942004620254597, \"Percent_of_PosSent_roll\": 0.0}, {\"Date\": \"2020-08-28T00:00:00\", \" Open\": 2126.0, \" High\": 2132.0, \" Low\": 2082.0, \" Close\": 2088.0, \" Volume\": 133135, \"Price_Change\": -0.017873941674506115, \"Mean_Score\": -0.33333322222225925, \"Percent_of_PosSent\": 0.0, \"Close_roll\": 2112.4, \"Price_Change_roll\": -0.003343950555711394, \"Mean_Score_roll\": -0.4527533730173654, \"Percent_of_PosSent_roll\": 0.0}, {\"Date\": \"2020-09-01T00:00:00\", \" Open\": 2090.0, \" High\": 2126.0, \" Low\": 2030.0, \" Close\": 2030.0, \" Volume\": 78900, \"Price_Change\": -0.028708133971291867, \"Mean_Score\": -0.33333322222225925, \"Percent_of_PosSent\": 0.0, \"Close_roll\": 2098.4, \"Price_Change_roll\": -0.006453998402601346, \"Mean_Score_roll\": -0.4260866998321847, \"Percent_of_PosSent_roll\": 0.0}, {\"Date\": \"2020-09-02T00:00:00\", \" Open\": 2046.0, \" High\": 2068.0, \" Low\": 2036.0, \" Close\": 2050.0, \" Volume\": 30770, \"Price_Change\": 0.0019550342130987292, \"Mean_Score\": -0.33333322222225925, \"Percent_of_PosSent\": 0.0, \"Close_roll\": 2086.4, \"Price_Change_roll\": -0.00739886942257702, \"Mean_Score_roll\": -0.29275354427643663, \"Percent_of_PosSent_roll\": 0.0}, {\"Date\": \"2020-09-03T00:00:00\", \" Open\": 2050.0, \" High\": 2090.0, \" Low\": 2030.0, \" Close\": 2090.0, \" Volume\": 38920, \"Price_Change\": 0.01951219512195122, \"Mean_Score\": 0.36218486345314627, \"Percent_of_PosSent\": 1.0, \"Close_roll\": 2078.4, \"Price_Change_roll\": -0.005583716925701007, \"Mean_Score_roll\": -0.17393976611426684, \"Percent_of_PosSent_roll\": 0.2}, {\"Date\": \"2020-09-04T00:00:00\", \" Open\": 2088.0, \" High\": 2088.0, \" Low\": 2034.0, \" Close\": 2040.0, \" Volume\": 68320, \"Price_Change\": -0.022988505747126436, \"Mean_Score\": 0.6666665555555741, \"Percent_of_PosSent\": 1.0, \"Close_roll\": 2059.6, \"Price_Change_roll\": -0.009620670411574894, \"Mean_Score_roll\": 0.005770350468388541, \"Percent_of_PosSent_roll\": 0.4}, {\"Date\": \"2020-09-07T00:00:00\", \" Open\": 2046.0, \" High\": 2106.0, \" Low\": 2046.0, \" Close\": 2088.0, \" Volume\": 33800, \"Price_Change\": 0.020527859237536656, \"Mean_Score\": -0.24715908189404734, \"Percent_of_PosSent\": 0.0, \"Close_roll\": 2059.6, \"Price_Change_roll\": -0.0019403102291663393, \"Mean_Score_roll\": 0.023005178534030935, \"Percent_of_PosSent_roll\": 0.4}, {\"Date\": \"2020-09-08T00:00:00\", \" Open\": 2106.0, \" High\": 2130.0, \" Low\": 2090.0, \" Close\": 2120.0, \" Volume\": 31635, \"Price_Change\": 0.006647673314339981, \"Mean_Score\": -0.24715908189404734, \"Percent_of_PosSent\": 0.0, \"Close_roll\": 2077.6, \"Price_Change_roll\": 0.00513085122796003, \"Mean_Score_roll\": 0.04024000659967332, \"Percent_of_PosSent_roll\": 0.4}, {\"Date\": \"2020-09-09T00:00:00\", \" Open\": 2134.0, \" High\": 2134.0, \" Low\": 2090.0, \" Close\": 2132.0, \" Volume\": 21160, \"Price_Change\": -0.0009372071227741331, \"Mean_Score\": 0.19999998000000202, \"Percent_of_PosSent\": 1.0, \"Close_roll\": 2094.0, \"Price_Change_roll\": 0.004552402960785458, \"Mean_Score_roll\": 0.1469066470441256, \"Percent_of_PosSent_roll\": 0.6}, {\"Date\": \"2020-09-10T00:00:00\", \" Open\": 2130.0, \" High\": 2134.0, \" Low\": 2080.0, \" Close\": 2080.0, \" Volume\": 29750, \"Price_Change\": -0.023474178403755867, \"Mean_Score\": 0.8181817438016598, \"Percent_of_PosSent\": 1.0, \"Close_roll\": 2092.0, \"Price_Change_roll\": -0.00404487174435596, \"Mean_Score_roll\": 0.23810602311382825, \"Percent_of_PosSent_roll\": 0.6}, {\"Date\": \"2020-09-11T00:00:00\", \" Open\": 2080.0, \" High\": 2118.0, \" Low\": 2078.0, \" Close\": 2080.0, \" Volume\": 43230, \"Price_Change\": 0.0, \"Mean_Score\": 0.7499999062500118, \"Percent_of_PosSent\": 1.0, \"Close_roll\": 2100.0, \"Price_Change_roll\": 0.0005528294050693272, \"Mean_Score_roll\": 0.2547726932527158, \"Percent_of_PosSent_roll\": 0.6}, {\"Date\": \"2020-09-14T00:00:00\", \" Open\": 2076.0, \" High\": 2128.0, \" Low\": 2076.0, \" Close\": 2126.0, \" Volume\": 29650, \"Price_Change\": 0.024084778420038536, \"Mean_Score\": 0.8153408839989031, \"Percent_of_PosSent\": 1.0, \"Close_roll\": 2107.6, \"Price_Change_roll\": 0.0012642132415697032, \"Mean_Score_roll\": 0.46727268643130593, \"Percent_of_PosSent_roll\": 0.8}, {\"Date\": \"2020-09-15T00:00:00\", \" Open\": 2124.0, \" High\": 2124.0, \" Low\": 2064.0, \" Close\": 2074.0, \" Volume\": 32850, \"Price_Change\": -0.023540489642184557, \"Mean_Score\": 0.8153408839989031, \"Percent_of_PosSent\": 1.0, \"Close_roll\": 2098.4, \"Price_Change_roll\": -0.0047734193497352044, \"Mean_Score_roll\": 0.679772679609896, \"Percent_of_PosSent_roll\": 1.0}, {\"Date\": \"2020-09-16T00:00:00\", \" Open\": 2078.0, \" High\": 2080.0, \" Low\": 2062.0, \" Close\": 2062.0, \" Volume\": 30375, \"Price_Change\": -0.007699711260827719, \"Mean_Score\": 0.22580644432882438, \"Percent_of_PosSent\": 1.0, \"Close_roll\": 2084.4, \"Price_Change_roll\": -0.006125920177345921, \"Mean_Score_roll\": 0.6849339724756605, \"Percent_of_PosSent_roll\": 1.0}, {\"Date\": \"2020-09-17T00:00:00\", \" Open\": 2062.0, \" High\": 2100.0, \" Low\": 2054.0, \" Close\": 2090.0, \" Volume\": 40050, \"Price_Change\": 0.013579049466537343, \"Mean_Score\": 0.2333746810467034, \"Percent_of_PosSent\": 1.0, \"Close_roll\": 2086.4, \"Price_Change_roll\": 0.0012847253967127208, \"Mean_Score_roll\": 0.5679725599246692, \"Percent_of_PosSent_roll\": 1.0}, {\"Date\": \"2020-09-18T00:00:00\", \" Open\": 2098.0, \" High\": 2140.0, \" Low\": 2080.0, \" Close\": 2140.0, \" Volume\": 42110, \"Price_Change\": 0.02001906577693041, \"Mean_Score\": 0.9999990000010001, \"Percent_of_PosSent\": 1.0, \"Close_roll\": 2098.4, \"Price_Change_roll\": 0.005288538552098803, \"Mean_Score_roll\": 0.6179723786748669, \"Percent_of_PosSent_roll\": 1.0}, {\"Date\": \"2020-09-21T00:00:00\", \" Open\": 2118.0, \" High\": 2130.0, \" Low\": 2110.0, \" Close\": 2114.0, \" Volume\": 12615, \"Price_Change\": -0.0018885741265344666, \"Mean_Score\": 0.6666665555555741, \"Percent_of_PosSent\": 1.0, \"Close_roll\": 2096.0, \"Price_Change_roll\": 9.386804278420247e-05, \"Mean_Score_roll\": 0.588237512986201, \"Percent_of_PosSent_roll\": 1.0}, {\"Date\": \"2020-09-22T00:00:00\", \" Open\": 2114.0, \" High\": 2114.0, \" Low\": 2080.0, \" Close\": 2080.0, \" Volume\": 20830, \"Price_Change\": -0.01608325449385052, \"Mean_Score\": 0.1428571224489825, \"Percent_of_PosSent\": 1.0, \"Close_roll\": 2097.2, \"Price_Change_roll\": 0.0015853150724510095, \"Mean_Score_roll\": 0.45374076067621694, \"Percent_of_PosSent_roll\": 1.0}, {\"Date\": \"2020-09-23T00:00:00\", \" Open\": 2124.0, \" High\": 2124.0, \" Low\": 2082.0, \" Close\": 2100.0, \" Volume\": 29260, \"Price_Change\": -0.011299435028248588, \"Mean_Score\": 0.020707081459287218, \"Percent_of_PosSent\": 0.5, \"Close_roll\": 2104.8, \"Price_Change_roll\": 0.0008653703189668357, \"Mean_Score_roll\": 0.4127208881023095, \"Percent_of_PosSent_roll\": 0.9}, {\"Date\": \"2020-09-24T00:00:00\", \" Open\": 2090.0, \" High\": 2120.0, \" Low\": 2076.0, \" Close\": 2120.0, \" Volume\": 20915, \"Price_Change\": 0.014354066985645933, \"Mean_Score\": 0.7163636961441674, \"Percent_of_PosSent\": 1.0, \"Close_roll\": 2110.8, \"Price_Change_roll\": 0.0010203738227885536, \"Mean_Score_roll\": 0.5093186911218023, \"Percent_of_PosSent_roll\": 0.9}, {\"Date\": \"2020-09-25T00:00:00\", \" Open\": 2120.0, \" High\": 2136.0, \" Low\": 2090.0, \" Close\": 2120.0, \" Volume\": 45095, \"Price_Change\": 0.0, \"Mean_Score\": 0.05384611874261461, \"Percent_of_PosSent\": 0.25, \"Close_roll\": 2106.8, \"Price_Change_roll\": -0.0029834393325975286, \"Mean_Score_roll\": 0.32008811487012523, \"Percent_of_PosSent_roll\": 0.75}, {\"Date\": \"2020-09-28T00:00:00\", \" Open\": 2112.0, \" High\": 2112.0, \" Low\": 2086.0, \" Close\": 2086.0, \" Volume\": 19395, \"Price_Change\": -0.01231060606060606, \"Mean_Score\": 0.42690054927804727, \"Percent_of_PosSent\": 1.0, \"Close_roll\": 2101.2, \"Price_Change_roll\": -0.0050678457194118474, \"Mean_Score_roll\": 0.27213491361461983, \"Percent_of_PosSent_roll\": 0.75}, {\"Date\": \"2020-09-29T00:00:00\", \" Open\": 2088.0, \" High\": 2118.0, \" Low\": 2080.0, \" Close\": 2088.0, \" Volume\": 29785, \"Price_Change\": 0.0, \"Mean_Score\": 0.2640827885259063, \"Percent_of_PosSent\": 0.7777777777777778, \"Close_roll\": 2102.8, \"Price_Change_roll\": -0.0018511948206417432, \"Mean_Score_roll\": 0.2963800468300046, \"Percent_of_PosSent_roll\": 0.7055555555555555}, {\"Date\": \"2020-09-30T00:00:00\", \" Open\": 2098.0, \" High\": 2136.0, \" Low\": 2080.0, \" Close\": 2080.0, \" Volume\": 44815, \"Price_Change\": -0.008579599618684462, \"Mean_Score\": 0.0, \"Percent_of_PosSent\": 0.0, \"Close_roll\": 2098.8, \"Price_Change_roll\": -0.001307227738728918, \"Mean_Score_roll\": 0.29223863053814714, \"Percent_of_PosSent_roll\": 0.6055555555555555}, {\"Date\": \"2020-10-01T00:00:00\", \" Open\": 2080.0, \" High\": 2118.0, \" Low\": 2080.0, \" Close\": 2100.0, \" Volume\": 6665, \"Price_Change\": 0.009615384615384616, \"Mean_Score\": 0.0, \"Percent_of_PosSent\": 0.0, \"Close_roll\": 2094.8, \"Price_Change_roll\": -0.002254964212781181, \"Mean_Score_roll\": 0.14896589130931365, \"Percent_of_PosSent_roll\": 0.40555555555555556}, {\"Date\": \"2020-10-02T00:00:00\", \" Open\": 2112.0, \" High\": 2120.0, \" Low\": 2080.0, \" Close\": 2120.0, \" Volume\": 33985, \"Price_Change\": 0.003787878787878788, \"Mean_Score\": 0.5999998966666845, \"Percent_of_PosSent\": 1.0, \"Close_roll\": 2094.8, \"Price_Change_roll\": -0.0014973884552054238, \"Mean_Score_roll\": 0.25819664689412763, \"Percent_of_PosSent_roll\": 0.5555555555555556}, {\"Date\": \"2020-10-05T00:00:00\", \" Open\": 2124.0, \" High\": 2124.0, \" Low\": 2052.0, \" Close\": 2052.0, \" Volume\": 30455, \"Price_Change\": -0.03389830508474576, \"Mean_Score\": 0.5999998966666845, \"Percent_of_PosSent\": 1.0, \"Close_roll\": 2088.0, \"Price_Change_roll\": -0.005814928260033364, \"Mean_Score_roll\": 0.2928165163718551, \"Percent_of_PosSent_roll\": 0.5555555555555556}, {\"Date\": \"2020-10-06T00:00:00\", \" Open\": 2060.0, \" High\": 2100.0, \" Low\": 2040.0, \" Close\": 2040.0, \" Volume\": 26420, \"Price_Change\": -0.009708737864077669, \"Mean_Score\": 0.12614379147955734, \"Percent_of_PosSent\": 0.6666666666666666, \"Close_roll\": 2078.4, \"Price_Change_roll\": -0.007756675832848897, \"Mean_Score_roll\": 0.2652287169625853, \"Percent_of_PosSent_roll\": 0.5333333333333333}, {\"Date\": \"2020-10-07T00:00:00\", \" Open\": 2040.0, \" High\": 2084.0, \" Low\": 2000.0, \" Close\": 2000.0, \" Volume\": 56275, \"Price_Change\": -0.0196078431372549, \"Mean_Score\": 0.0, \"Percent_of_PosSent\": 0.0, \"Close_roll\": 2062.4, \"Price_Change_roll\": -0.009962324536562987, \"Mean_Score_roll\": 0.2652287169625853, \"Percent_of_PosSent_roll\": 0.5333333333333333}, {\"Date\": \"2020-10-08T00:00:00\", \" Open\": 2040.0, \" High\": 2070.0, \" Low\": 2010.0, \" Close\": 2052.0, \" Volume\": 55150, \"Price_Change\": 0.0058823529411764705, \"Mean_Score\": 0.0, \"Percent_of_PosSent\": 0.0, \"Close_roll\": 2052.8, \"Price_Change_roll\": -0.010708930871404615, \"Mean_Score_roll\": 0.2652287169625853, \"Percent_of_PosSent_roll\": 0.5333333333333333}, {\"Date\": \"2020-10-09T00:00:00\", \" Open\": 2070.0, \" High\": 2070.0, \" Low\": 2016.0, \" Close\": 2050.0, \" Volume\": 32735, \"Price_Change\": -0.00966183574879227, \"Mean_Score\": 0.0, \"Percent_of_PosSent\": 0.0, \"Close_roll\": 2038.8, \"Price_Change_roll\": -0.013398873778738826, \"Mean_Score_roll\": 0.1452287376292484, \"Percent_of_PosSent_roll\": 0.3333333333333333}, {\"Date\": \"2020-10-12T00:00:00\", \" Open\": 2050.0, \" High\": 2060.0, \" Low\": 2002.0, \" Close\": 2002.0, \" Volume\": 77050, \"Price_Change\": -0.023414634146341463, \"Mean_Score\": 0.3333333111111126, \"Percent_of_PosSent\": 1.0, \"Close_roll\": 2028.8, \"Price_Change_roll\": -0.011302139591057967, \"Mean_Score_roll\": 0.09189542051813401, \"Percent_of_PosSent_roll\": 0.3333333333333333}, {\"Date\": \"2020-10-13T00:00:00\", \" Open\": 2008.0, \" High\": 2048.0, \" Low\": 2002.0, \" Close\": 2002.0, \" Volume\": 42065, \"Price_Change\": -0.00298804780876494, \"Mean_Score\": 0.3333333111111126, \"Percent_of_PosSent\": 1.0, \"Close_roll\": 2021.2, \"Price_Change_roll\": -0.00995800157999542, \"Mean_Score_roll\": 0.13333332444444507, \"Percent_of_PosSent_roll\": 0.4}, {\"Date\": \"2020-10-14T00:00:00\", \" Open\": 2002.0, \" High\": 2044.0, \" Low\": 1996.0, \" Close\": 2010.0, \" Volume\": 83645, \"Price_Change\": 0.003996003996003996, \"Mean_Score\": 0.19191917334966002, \"Percent_of_PosSent\": 1.0, \"Close_roll\": 2023.2, \"Price_Change_roll\": -0.005237232153343643, \"Mean_Score_roll\": 0.17171715911437707, \"Percent_of_PosSent_roll\": 0.6}, {\"Date\": \"2020-10-15T00:00:00\", \" Open\": 2010.0, \" High\": 2028.0, \" Low\": 2002.0, \" Close\": 2010.0, \" Volume\": 59315, \"Price_Change\": 0.0, \"Mean_Score\": 0.39590955271283773, \"Percent_of_PosSent\": 0.5, \"Close_roll\": 2014.8, \"Price_Change_roll\": -0.006413702741578936, \"Mean_Score_roll\": 0.2508990696569446, \"Percent_of_PosSent_roll\": 0.7}, {\"Date\": \"2020-10-16T00:00:00\", \" Open\": 2022.0, \" High\": 2036.0, \" Low\": 1992.0, \" Close\": 1992.0, \" Volume\": 84550, \"Price_Change\": -0.01483679525222552, \"Mean_Score\": 0.39590955271283773, \"Percent_of_PosSent\": 0.5, \"Close_roll\": 2003.2, \"Price_Change_roll\": -0.007448694642265587, \"Mean_Score_roll\": 0.33008098019951215, \"Percent_of_PosSent_roll\": 0.8}, {\"Date\": \"2020-10-19T00:00:00\", \" Open\": 1998.0, \" High\": 2008.0, \" Low\": 1998.0, \" Close\": 2002.0, \" Volume\": 56810, \"Price_Change\": 0.002002002002002002, \"Mean_Score\": 0.39590955271283773, \"Percent_of_PosSent\": 0.5, \"Close_roll\": 2003.2, \"Price_Change_roll\": -0.0023653674125968934, \"Mean_Score_roll\": 0.3425962285198572, \"Percent_of_PosSent_roll\": 0.7}, {\"Date\": \"2020-10-20T00:00:00\", \" Open\": 2004.0, \" High\": 2016.0, \" Low\": 2000.0, \" Close\": 2006.0, \" Volume\": 74050, \"Price_Change\": 0.000998003992015968, \"Mean_Score\": -0.1151515022589546, \"Percent_of_PosSent\": 0.3333333333333333, \"Close_roll\": 2004.0, \"Price_Change_roll\": -0.0015681570524407116, \"Mean_Score_roll\": 0.2528992658458437, \"Percent_of_PosSent_roll\": 0.5666666666666667}, {\"Date\": \"2020-10-21T00:00:00\", \" Open\": 2028.0, \" High\": 2028.0, \" Low\": 2006.0, \" Close\": 2010.0, \" Volume\": 114020, \"Price_Change\": -0.008875739644970414, \"Mean_Score\": -0.1151515022589546, \"Percent_of_PosSent\": 0.3333333333333333, \"Close_roll\": 2004.0, \"Price_Change_roll\": -0.004142505780635594, \"Mean_Score_roll\": 0.19148513072412082, \"Percent_of_PosSent_roll\": 0.4333333333333333}, {\"Date\": \"2020-10-22T00:00:00\", \" Open\": 2014.0, \" High\": 2058.0, \" Low\": 2014.0, \" Close\": 2038.0, \" Volume\": 87975, \"Price_Change\": 0.011916583912611719, \"Mean_Score\": -0.1151515022589546, \"Percent_of_PosSent\": 0.3333333333333333, \"Close_roll\": 2009.6, \"Price_Change_roll\": -0.0017591889981132505, \"Mean_Score_roll\": 0.08927291972976234, \"Percent_of_PosSent_roll\": 0.4}, {\"Date\": \"2020-10-23T00:00:00\", \" Open\": 2060.0, \" High\": 2096.0, \" Low\": 2018.0, \" Close\": 2020.0, \" Volume\": 77775, \"Price_Change\": -0.019417475728155338, \"Mean_Score\": 0.16666661111112963, \"Percent_of_PosSent\": 0.5, \"Close_roll\": 2015.2, \"Price_Change_roll\": -0.002675325093299214, \"Mean_Score_roll\": 0.04342433140942074, \"Percent_of_PosSent_roll\": 0.4}, {\"Date\": \"2020-10-26T00:00:00\", \" Open\": 2040.0, \" High\": 2050.0, \" Low\": 2024.0, \" Close\": 2034.0, \" Volume\": 29435, \"Price_Change\": -0.0029411764705882353, \"Mean_Score\": 0.5921052243190239, \"Percent_of_PosSent\": 1.0, \"Close_roll\": 2021.6, \"Price_Change_roll\": -0.003663960787817261, \"Mean_Score_roll\": 0.08266346573065797, \"Percent_of_PosSent_roll\": 0.5}, {\"Date\": \"2020-10-27T00:00:00\", \" Open\": 2060.0, \" High\": 2080.0, \" Low\": 2040.0, \" Close\": 2050.0, \" Volume\": 89300, \"Price_Change\": -0.0048543689320388345, \"Mean_Score\": 0.5921052243190239, \"Percent_of_PosSent\": 1.0, \"Close_roll\": 2030.4, \"Price_Change_roll\": -0.0048344353726282215, \"Mean_Score_roll\": 0.2241148110462537, \"Percent_of_PosSent_roll\": 0.6333333333333333}, {\"Date\": \"2020-10-28T00:00:00\", \" Open\": 2080.0, \" High\": 2100.0, \" Low\": 2052.0, \" Close\": 2100.0, \" Volume\": 99525, \"Price_Change\": 0.009615384615384616, \"Mean_Score\": 0.5921052243190239, \"Percent_of_PosSent\": 1.0, \"Close_roll\": 2048.4, \"Price_Change_roll\": -0.0011362105205572157, \"Mean_Score_roll\": 0.36556615636184936, \"Percent_of_PosSent_roll\": 0.7666666666666667}, {\"Date\": \"2020-10-29T00:00:00\", \" Open\": 2060.0, \" High\": 2098.0, \" Low\": 2054.0, \" Close\": 2060.0, \" Volume\": 43425, \"Price_Change\": 0.0, \"Mean_Score\": 0.49999987500003124, \"Percent_of_PosSent\": 1.0, \"Close_roll\": 2052.8, \"Price_Change_roll\": -0.0035195273030795594, \"Mean_Score_roll\": 0.48859643181364654, \"Percent_of_PosSent_roll\": 0.9}, {\"Date\": \"2020-10-30T00:00:00\", \" Open\": 2060.0, \" High\": 2096.0, \" Low\": 2030.0, \" Close\": 2030.0, \" Volume\": 58950, \"Price_Change\": -0.014563106796116505, \"Mean_Score\": 0.49999987500003124, \"Percent_of_PosSent\": 1.0, \"Close_roll\": 2054.8, \"Price_Change_roll\": -0.0025486535166717927, \"Mean_Score_roll\": 0.5552630845914269, \"Percent_of_PosSent_roll\": 1.0}, {\"Date\": \"2020-11-03T00:00:00\", \" Open\": 2032.0, \" High\": 2082.0, \" Low\": 2012.0, \" Close\": 2020.0, \" Volume\": 56460, \"Price_Change\": -0.005905511811023622, \"Mean_Score\": 0.49999987500003124, \"Percent_of_PosSent\": 1.0, \"Close_roll\": 2052.0, \"Price_Change_roll\": -0.0031415205847588703, \"Mean_Score_roll\": 0.5368420147276283, \"Percent_of_PosSent_roll\": 1.0}, {\"Date\": \"2020-11-04T00:00:00\", \" Open\": 2044.0, \" High\": 2044.0, \" Low\": 2002.0, \" Close\": 2002.0, \" Volume\": 103295, \"Price_Change\": -0.02054794520547945, \"Mean_Score\": 0.0187590204893708, \"Percent_of_PosSent\": 0.6666666666666666, \"Close_roll\": 2042.4, \"Price_Change_roll\": -0.006280235839446993, \"Mean_Score_roll\": 0.4221727739616977, \"Percent_of_PosSent_roll\": 0.9333333333333333}, {\"Date\": \"2020-11-05T00:00:00\", \" Open\": 2034.0, \" High\": 2078.0, \" Low\": 2014.0, \" Close\": 2014.0, \" Volume\": 52595, \"Price_Change\": -0.00983284169124877, \"Mean_Score\": 0.7142856632653098, \"Percent_of_PosSent\": 1.0, \"Close_roll\": 2025.2, \"Price_Change_roll\": -0.01016988110077367, \"Mean_Score_roll\": 0.44660886175095493, \"Percent_of_PosSent_roll\": 0.9333333333333333}, {\"Date\": \"2020-11-06T00:00:00\", \" Open\": 2046.0, \" High\": 2076.0, \" Low\": 2018.0, \" Close\": 2068.0, \" Volume\": 111870, \"Price_Change\": 0.010752688172043012, \"Mean_Score\": 0.3333333148148158, \"Percent_of_PosSent\": 1.0, \"Close_roll\": 2026.8, \"Price_Change_roll\": -0.008019343466365068, \"Mean_Score_roll\": 0.4132755497139118, \"Percent_of_PosSent_roll\": 0.9333333333333333}, {\"Date\": \"2020-11-09T00:00:00\", \" Open\": 2072.0, \" High\": 2108.0, \" Low\": 2068.0, \" Close\": 2100.0, \" Volume\": 93910, \"Price_Change\": 0.013513513513513514, \"Mean_Score\": 0.3333333148148158, \"Percent_of_PosSent\": 1.0, \"Close_roll\": 2040.8, \"Price_Change_roll\": -0.002404019404439064, \"Mean_Score_roll\": 0.37994223767686874, \"Percent_of_PosSent_roll\": 0.9333333333333333}, {\"Date\": \"2020-11-10T00:00:00\", \" Open\": 2100.0, \" High\": 2102.0, \" Low\": 2020.0, \" Close\": 2030.0, \" Volume\": 109925, \"Price_Change\": -0.03333333333333333, \"Mean_Score\": 0.6568627075483809, \"Percent_of_PosSent\": 1.0, \"Close_roll\": 2042.8, \"Price_Change_roll\": -0.007889583708901006, \"Mean_Score_roll\": 0.41131480418653865, \"Percent_of_PosSent_roll\": 0.9333333333333333}, {\"Date\": \"2020-11-11T00:00:00\", \" Open\": 2044.0, \" High\": 2076.0, \" Low\": 2024.0, \" Close\": 2040.0, \" Volume\": 120015, \"Price_Change\": -0.0019569471624266144, \"Mean_Score\": 0.3666666281481522, \"Percent_of_PosSent\": 1.0, \"Close_roll\": 2050.4, \"Price_Change_roll\": -0.0041713841002904385, \"Mean_Score_roll\": 0.4808963257182949, \"Percent_of_PosSent_roll\": 1.0}, {\"Date\": \"2020-11-13T00:00:00\", \" Open\": 2060.0, \" High\": 2060.0, \" Low\": 1980.0, \" Close\": 1992.0, \" Volume\": 175465, \"Price_Change\": -0.03300970873786408, \"Mean_Score\": 0.3666666281481522, \"Percent_of_PosSent\": 1.0, \"Close_roll\": 2046.0, \"Price_Change_roll\": -0.0088067575096135, \"Mean_Score_roll\": 0.4113725186948634, \"Percent_of_PosSent_roll\": 1.0}, {\"Date\": \"2020-11-16T00:00:00\", \" Open\": 2012.0, \" High\": 2030.0, \" Low\": 1992.0, \" Close\": 2020.0, \" Volume\": 57170, \"Price_Change\": 0.003976143141153081, \"Mean_Score\": 0.2815249158052481, \"Percent_of_PosSent\": 1.0, \"Close_roll\": 2036.4, \"Price_Change_roll\": -0.010162066515791487, \"Mean_Score_roll\": 0.4010108388929499, \"Percent_of_PosSent_roll\": 1.0}, {\"Date\": \"2020-11-17T00:00:00\", \" Open\": 2006.0, \" High\": 2030.0, \" Low\": 2006.0, \" Close\": 2028.0, \" Volume\": 68965, \"Price_Change\": 0.010967098703888335, \"Mean_Score\": 0.29032257127991706, \"Percent_of_PosSent\": 1.0, \"Close_roll\": 2022.0, \"Price_Change_roll\": -0.010671349477716524, \"Mean_Score_roll\": 0.39240869018597013, \"Percent_of_PosSent_roll\": 1.0}, {\"Date\": \"2020-11-18T00:00:00\", \" Open\": 2020.0, \" High\": 2026.0, \" Low\": 2002.0, \" Close\": 2016.0, \" Volume\": 75775, \"Price_Change\": -0.0019801980198019802, \"Mean_Score\": 0.399999770000121, \"Percent_of_PosSent\": 0.5, \"Close_roll\": 2019.2, \"Price_Change_roll\": -0.004400722415010253, \"Mean_Score_roll\": 0.3410361026763181, \"Percent_of_PosSent_roll\": 0.9}, {\"Date\": \"2020-11-19T00:00:00\", \" Open\": 2018.0, \" High\": 2040.0, \" Low\": 2006.0, \" Close\": 2006.0, \" Volume\": 72635, \"Price_Change\": -0.005946481665014866, \"Mean_Score\": 0.23958330967882235, \"Percent_of_PosSent\": 0.5, \"Close_roll\": 2012.4, \"Price_Change_roll\": -0.005198629315527903, \"Mean_Score_roll\": 0.31561943898245215, \"Percent_of_PosSent_roll\": 0.8}, {\"Date\": \"2020-11-20T00:00:00\", \" Open\": 2026.0, \" High\": 2048.0, \" Low\": 2008.0, \" Close\": 2008.0, \" Volume\": 96810, \"Price_Change\": -0.008884501480750246, \"Mean_Score\": 0.41535347415081103, \"Percent_of_PosSent\": 1.0, \"Close_roll\": 2015.6, \"Price_Change_roll\": -0.0003735878641051356, \"Mean_Score_roll\": 0.32535680818298396, \"Percent_of_PosSent_roll\": 0.8}, {\"Date\": \"2020-11-23T00:00:00\", \" Open\": 2028.0, \" High\": 2050.0, \" Low\": 2014.0, \" Close\": 2048.0, \" Volume\": 61410, \"Price_Change\": 0.009861932938856016, \"Mean_Score\": 0.41535347415081103, \"Percent_of_PosSent\": 1.0, \"Close_roll\": 2021.2, \"Price_Change_roll\": 0.0008035700954354514, \"Mean_Score_roll\": 0.35212251985209647, \"Percent_of_PosSent_roll\": 0.8}, {\"Date\": \"2020-11-24T00:00:00\", \" Open\": 2046.0, \" High\": 2048.0, \" Low\": 2002.0, \" Close\": 2002.0, \" Volume\": 93980, \"Price_Change\": -0.021505376344086023, \"Mean_Score\": 0.24387805710331997, \"Percent_of_PosSent\": 1.0, \"Close_roll\": 2016.0, \"Price_Change_roll\": -0.00569092491415942, \"Mean_Score_roll\": 0.3428336170167771, \"Percent_of_PosSent_roll\": 0.8}, {\"Date\": \"2020-11-25T00:00:00\", \" Open\": 2018.0, \" High\": 2018.0, \" Low\": 1998.0, \" Close\": 2000.0, \" Volume\": 77890, \"Price_Change\": -0.008919722497522299, \"Mean_Score\": 0.24387805710331997, \"Percent_of_PosSent\": 1.0, \"Close_roll\": 2012.8, \"Price_Change_roll\": -0.007078829809703484, \"Mean_Score_roll\": 0.3116092744374169, \"Percent_of_PosSent_roll\": 0.9}, {\"Date\": \"2020-11-26T00:00:00\", \" Open\": 2000.0, \" High\": 2020.0, \" Low\": 2000.0, \" Close\": 2014.0, \" Volume\": 117545, \"Price_Change\": 0.007, \"Mean_Score\": 0.5777777169135867, \"Percent_of_PosSent\": 1.0, \"Close_roll\": 2014.4, \"Price_Change_roll\": -0.004489533476700511, \"Mean_Score_roll\": 0.3792481558843698, \"Percent_of_PosSent_roll\": 1.0}, {\"Date\": \"2020-11-27T00:00:00\", \" Open\": 2000.0, \" High\": 2014.0, \" Low\": 1948.0, \" Close\": 1948.0, \" Volume\": 532510, \"Price_Change\": -0.026, \"Mean_Score\": 0.24999996875000394, \"Percent_of_PosSent\": 1.0, \"Close_roll\": 2002.4, \"Price_Change_roll\": -0.007912633180550462, \"Mean_Score_roll\": 0.34617745480420836, \"Percent_of_PosSent_roll\": 1.0}, {\"Date\": \"2020-12-01T00:00:00\", \" Open\": 1950.0, \" High\": 1980.0, \" Low\": 1920.0, \" Close\": 1970.0, \" Volume\": 126220, \"Price_Change\": 0.010256410256410256, \"Mean_Score\": 0.04761903476946515, \"Percent_of_PosSent\": 0.5, \"Close_roll\": 1986.8, \"Price_Change_roll\": -0.007833737717039614, \"Mean_Score_roll\": 0.27263056692793913, \"Percent_of_PosSent_roll\": 0.9}, {\"Date\": \"2020-12-02T00:00:00\", \" Open\": 1972.0, \" High\": 2016.0, \" Low\": 1972.0, \" Close\": 2000.0, \" Volume\": 94425, \"Price_Change\": 0.014198782961460446, \"Mean_Score\": 0.07692307100591762, \"Percent_of_PosSent\": 1.0, \"Close_roll\": 1986.4, \"Price_Change_roll\": -0.00069290585593032, \"Mean_Score_roll\": 0.2392395697084587, \"Percent_of_PosSent_roll\": 0.9}, {\"Date\": \"2020-12-03T00:00:00\", \" Open\": 2010.0, \" High\": 2038.0, \" Low\": 1995.0, \" Close\": 2030.0, \" Volume\": 92825, \"Price_Change\": 0.009950248756218905, \"Mean_Score\": 0.599999880000024, \"Percent_of_PosSent\": 1.0, \"Close_roll\": 1992.4, \"Price_Change_roll\": 0.003081088394817921, \"Mean_Score_roll\": 0.3104639342877995, \"Percent_of_PosSent_roll\": 0.9}, {\"Date\": \"2020-12-04T00:00:00\", \" Open\": 2010.0, \" High\": 2046.0, \" Low\": 2010.0, \" Close\": 2046.0, \" Volume\": 52535, \"Price_Change\": 0.01791044776119403, \"Mean_Score\": 0.33126933149939236, \"Percent_of_PosSent\": 1.0, \"Close_roll\": 1998.8, \"Price_Change_roll\": 0.005263177947056727, \"Mean_Score_roll\": 0.26116225720496067, \"Percent_of_PosSent_roll\": 0.9}, {\"Date\": \"2020-12-07T00:00:00\", \" Open\": 2040.0, \" High\": 2052.0, \" Low\": 2024.0, \" Close\": 2040.0, \" Volume\": 72830, \"Price_Change\": 0.0, \"Mean_Score\": 0.585185156598081, \"Percent_of_PosSent\": 1.0, \"Close_roll\": 2017.2, \"Price_Change_roll\": 0.010463177947056725, \"Mean_Score_roll\": 0.3281992947745761, \"Percent_of_PosSent_roll\": 0.9}, {\"Date\": \"2020-12-09T00:00:00\", \" Open\": 2040.0, \" High\": 2050.0, \" Low\": 2024.0, \" Close\": 2046.0, \" Volume\": 50300, \"Price_Change\": 0.0029411764705882353, \"Mean_Score\": 0.17111110253827205, \"Percent_of_PosSent\": 1.0, \"Close_roll\": 2032.4, \"Price_Change_roll\": 0.009000131189892322, \"Mean_Score_roll\": 0.35289770832833744, \"Percent_of_PosSent_roll\": 1.0}, {\"Date\": \"2020-12-10T00:00:00\", \" Open\": 2046.0, \" High\": 2050.0, \" Low\": 2030.0, \" Close\": 2042.0, \" Volume\": 60180, \"Price_Change\": -0.0019550342130987292, \"Mean_Score\": 0.17111110253827205, \"Percent_of_PosSent\": 1.0, \"Close_roll\": 2040.8, \"Price_Change_roll\": 0.005769367754980487, \"Mean_Score_roll\": 0.3717353146348083, \"Percent_of_PosSent_roll\": 1.0}, {\"Date\": \"2020-12-11T00:00:00\", \" Open\": 2046.0, \" High\": 2056.0, \" Low\": 2024.0, \" Close\": 2036.0, \" Volume\": 69340, \"Price_Change\": -0.004887585532746823, \"Mean_Score\": 0.17111110253827205, \"Percent_of_PosSent\": 1.0, \"Close_roll\": 2042.0, \"Price_Change_roll\": 0.002801800897187342, \"Mean_Score_roll\": 0.28595755914245796, \"Percent_of_PosSent_roll\": 1.0}, {\"Date\": \"2020-12-14T00:00:00\", \" Open\": 2040.0, \" High\": 2050.0, \" Low\": 2030.0, \" Close\": 2038.0, \" Volume\": 38195, \"Price_Change\": -0.000980392156862745, \"Mean_Score\": 0.1274509688100741, \"Percent_of_PosSent\": 0.3333333333333333, \"Close_roll\": 2040.4, \"Price_Change_roll\": -0.0009763670864240138, \"Mean_Score_roll\": 0.24519388660459432, \"Percent_of_PosSent_roll\": 0.8666666666666666}, {\"Date\": \"2020-12-15T00:00:00\", \" Open\": 2040.0, \" High\": 2048.0, \" Low\": 1980.0, \" Close\": 2030.0, \" Volume\": 96550, \"Price_Change\": -0.004901960784313725, \"Mean_Score\": 0.39999996000000404, \"Percent_of_PosSent\": 1.0, \"Close_roll\": 2038.4, \"Price_Change_roll\": -0.001956759243286759, \"Mean_Score_roll\": 0.2081568472849789, \"Percent_of_PosSent_roll\": 0.8666666666666666}, {\"Date\": \"2020-12-16T00:00:00\", \" Open\": 2030.0, \" High\": 2040.0, \" Low\": 2000.0, \" Close\": 2000.0, \" Volume\": 97890, \"Price_Change\": -0.014778325123152709, \"Mean_Score\": 0.7499998687500239, \"Percent_of_PosSent\": 1.0, \"Close_roll\": 2029.2, \"Price_Change_roll\": -0.005500659562034948, \"Mean_Score_roll\": 0.32393460052732925, \"Percent_of_PosSent_roll\": 0.8666666666666666}, {\"Date\": \"2020-12-17T00:00:00\", \" Open\": 2010.0, \" High\": 2040.0, \" Low\": 2010.0, \" Close\": 2040.0, \" Volume\": 23270, \"Price_Change\": 0.014925373134328358, \"Mean_Score\": 0.7499998687500239, \"Percent_of_PosSent\": 1.0, \"Close_roll\": 2028.8, \"Price_Change_roll\": -0.00212457809254953, \"Mean_Score_roll\": 0.4397123537696796, \"Percent_of_PosSent_roll\": 0.8666666666666666}, {\"Date\": \"2020-12-18T00:00:00\", \" Open\": 2038.0, \" High\": 2100.0, \" Low\": 2012.0, \" Close\": 2100.0, \" Volume\": 198105, \"Price_Change\": 0.03042198233562316, \"Mean_Score\": 0.5833333090277788, \"Percent_of_PosSent\": 1.0, \"Close_roll\": 2041.6, \"Price_Change_roll\": 0.004937335481124466, \"Mean_Score_roll\": 0.522156795067581, \"Percent_of_PosSent_roll\": 0.8666666666666666}, {\"Date\": \"2020-12-21T00:00:00\", \" Open\": 2092.0, \" High\": 2092.0, \" Low\": 2040.0, \" Close\": 2060.0, \" Volume\": 24225, \"Price_Change\": -0.015296367112810707, \"Mean_Score\": -0.24999996875000394, \"Percent_of_PosSent\": 0.0, \"Close_roll\": 2046.0, \"Price_Change_roll\": 0.002074140489934874, \"Mean_Score_roll\": 0.4466666075555653, \"Percent_of_PosSent_roll\": 0.8}, {\"Date\": \"2020-12-22T00:00:00\", \" Open\": 2060.0, \" High\": 2060.0, \" Low\": 2022.0, \" Close\": 2034.0, \" Volume\": 39865, \"Price_Change\": -0.01262135922330097, \"Mean_Score\": -0.24999996875000394, \"Percent_of_PosSent\": 0.0, \"Close_roll\": 2046.8, \"Price_Change_roll\": 0.000530260802137425, \"Mean_Score_roll\": 0.31666662180556376, \"Percent_of_PosSent_roll\": 0.6}, {\"Date\": \"2020-12-23T00:00:00\", \" Open\": 2034.0, \" High\": 2058.0, \" Low\": 2010.0, \" Close\": 2010.0, \" Volume\": 42680, \"Price_Change\": -0.011799410029498525, \"Mean_Score\": 0.24999996875000394, \"Percent_of_PosSent\": 1.0, \"Close_roll\": 2048.8, \"Price_Change_roll\": 0.0011260438208682618, \"Mean_Score_roll\": 0.21666664180555978, \"Percent_of_PosSent_roll\": 0.6}, {\"Date\": \"2020-12-28T00:00:00\", \" Open\": 2022.0, \" High\": 2032.0, \" Low\": 2012.0, \" Close\": 2032.0, \" Volume\": 18315, \"Price_Change\": 0.004945598417408506, \"Mean_Score\": -0.9999997500000625, \"Percent_of_PosSent\": 0.0, \"Close_roll\": 2047.2, \"Price_Change_roll\": -0.0008699111225157086, \"Mean_Score_roll\": -0.13333328194445748, \"Percent_of_PosSent_roll\": 0.39999999999999997}, {\"Date\": \"2020-12-29T00:00:00\", \" Open\": 2032.0, \" High\": 2042.0, \" Low\": 2022.0, \" Close\": 2030.0, \" Volume\": 42755, \"Price_Change\": -0.000984251968503937, \"Mean_Score\": -0.9999997500000625, \"Percent_of_PosSent\": 0.0, \"Close_roll\": 2033.2, \"Price_Change_roll\": -0.007151157983341127, \"Mean_Score_roll\": -0.44999989375002575, \"Percent_of_PosSent_roll\": 0.2}, {\"Date\": \"2021-01-04T00:00:00\", \" Open\": 2030.0, \" High\": 2070.0, \" Low\": 2018.0, \" Close\": 2018.0, \" Volume\": 37670, \"Price_Change\": -0.005911330049261084, \"Mean_Score\": 0.33333329629630043, \"Percent_of_PosSent\": 1.0, \"Close_roll\": 2024.8, \"Price_Change_roll\": -0.005274150570631203, \"Mean_Score_roll\": -0.33333324074076487, \"Percent_of_PosSent_roll\": 0.4}, {\"Date\": \"2021-01-05T00:00:00\", \" Open\": 2020.0, \" High\": 2026.0, \" Low\": 2010.0, \" Close\": 2020.0, \" Volume\": 70200, \"Price_Change\": 0.0, \"Mean_Score\": 0.33333329629630043, \"Percent_of_PosSent\": 1.0, \"Close_roll\": 2022.0, \"Price_Change_roll\": -0.0027498787259710093, \"Mean_Score_roll\": -0.216666587731504, \"Percent_of_PosSent_roll\": 0.6}, {\"Date\": \"2021-01-06T00:00:00\", \" Open\": 2020.0, \" High\": 2020.0, \" Low\": 1997.0, \" Close\": 1997.0, \" Volume\": 58680, \"Price_Change\": -0.011386138613861386, \"Mean_Score\": 0.33333329629630043, \"Percent_of_PosSent\": 1.0, \"Close_roll\": 2019.4, \"Price_Change_roll\": -0.0026672244428435814, \"Mean_Score_roll\": -0.1999999222222447, \"Percent_of_PosSent_roll\": 0.6}, {\"Date\": \"2021-01-07T00:00:00\", \" Open\": 2010.0, \" High\": 2056.0, \" Low\": 2000.0, \" Close\": 2000.0, \" Volume\": 41020, \"Price_Change\": -0.004975124378109453, \"Mean_Score\": 0.33333329629630043, \"Percent_of_PosSent\": 1.0, \"Close_roll\": 2013.0, \"Price_Change_roll\": -0.004651369001947172, \"Mean_Score_roll\": 0.0666666870370279, \"Percent_of_PosSent_roll\": 0.8}, {\"Date\": \"2021-01-08T00:00:00\", \" Open\": 2020.0, \" High\": 2028.0, \" Low\": 2004.0, \" Close\": 2020.0, \" Volume\": 102040, \"Price_Change\": 0.0, \"Mean_Score\": 0.33333329629630043, \"Percent_of_PosSent\": 1.0, \"Close_roll\": 2011.0, \"Price_Change_roll\": -0.004454518608246386, \"Mean_Score_roll\": 0.3333332962963005, \"Percent_of_PosSent_roll\": 1.0}, {\"Date\": \"2021-01-11T00:00:00\", \" Open\": 2030.0, \" High\": 2094.0, \" Low\": 2030.0, \" Close\": 2040.0, \" Volume\": 113750, \"Price_Change\": 0.0049261083743842365, \"Mean_Score\": 0.33333329629630043, \"Percent_of_PosSent\": 1.0, \"Close_roll\": 2015.4, \"Price_Change_roll\": -0.002287030923517322, \"Mean_Score_roll\": 0.3333332962963005, \"Percent_of_PosSent_roll\": 1.0}, {\"Date\": \"2021-01-12T00:00:00\", \" Open\": 2046.0, \" High\": 2064.0, \" Low\": 2020.0, \" Close\": 2020.0, \" Volume\": 77145, \"Price_Change\": -0.01270772238514174, \"Mean_Score\": 0.9999997500000625, \"Percent_of_PosSent\": 1.0, \"Close_roll\": 2015.4, \"Price_Change_roll\": -0.004828575400545669, \"Mean_Score_roll\": 0.4666665870370529, \"Percent_of_PosSent_roll\": 1.0}, {\"Date\": \"2021-01-13T00:00:00\", \" Open\": 2050.0, \" High\": 2050.0, \" Low\": 2018.0, \" Close\": 2046.0, \" Volume\": 45180, \"Price_Change\": -0.001951219512195122, \"Mean_Score\": 0.49999987500003124, \"Percent_of_PosSent\": 1.0, \"Close_roll\": 2025.2, \"Price_Change_roll\": -0.002941591580212417, \"Mean_Score_roll\": 0.49999990277779904, \"Percent_of_PosSent_roll\": 1.0}, {\"Date\": \"2021-01-14T00:00:00\", \" Open\": 2026.0, \" High\": 2130.0, \" Low\": 2024.0, \" Close\": 2130.0, \" Volume\": 191380, \"Price_Change\": 0.05133267522211254, \"Mean_Score\": 0.599999880000024, \"Percent_of_PosSent\": 1.0, \"Close_roll\": 2051.2, \"Price_Change_roll\": 0.008319968339831983, \"Mean_Score_roll\": 0.5533332195185438, \"Percent_of_PosSent_roll\": 1.0}, {\"Date\": \"2021-01-15T00:00:00\", \" Open\": 2128.0, \" High\": 2128.0, \" Low\": 2090.0, \" Close\": 2100.0, \" Volume\": 33605, \"Price_Change\": -0.013157894736842105, \"Mean_Score\": 0.1428571224489825, \"Percent_of_PosSent\": 1.0, \"Close_roll\": 2067.2, \"Price_Change_roll\": 0.005688389392463559, \"Mean_Score_roll\": 0.5152379847490802, \"Percent_of_PosSent_roll\": 1.0}, {\"Date\": \"2021-01-18T00:00:00\", \" Open\": 2102.0, \" High\": 2118.0, \" Low\": 2100.0, \" Close\": 2100.0, \" Volume\": 25090, \"Price_Change\": -0.0009514747859181732, \"Mean_Score\": 0.1428571224489825, \"Percent_of_PosSent\": 1.0, \"Close_roll\": 2079.2, \"Price_Change_roll\": 0.0045128727604030775, \"Mean_Score_roll\": 0.47714274997961653, \"Percent_of_PosSent_roll\": 1.0}, {\"Date\": \"2021-01-19T00:00:00\", \" Open\": 2082.0, \" High\": 2106.0, \" Low\": 2060.0, \" Close\": 2060.0, \" Volume\": 78785, \"Price_Change\": -0.010566762728146013, \"Mean_Score\": 0.7313342811253661, \"Percent_of_PosSent\": 1.0, \"Close_roll\": 2087.2, \"Price_Change_roll\": 0.004941064691802223, \"Mean_Score_roll\": 0.4234096562046773, \"Percent_of_PosSent_roll\": 1.0}, {\"Date\": \"2021-01-20T00:00:00\", \" Open\": 2062.0, \" High\": 2120.0, \" Low\": 2060.0, \" Close\": 2100.0, \" Volume\": 51695, \"Price_Change\": 0.01842870999030068, \"Mean_Score\": 0.33333322222225925, \"Percent_of_PosSent\": 1.0, \"Close_roll\": 2098.0, \"Price_Change_roll\": 0.009017050592301384, \"Mean_Score_roll\": 0.390076325649123, \"Percent_of_PosSent_roll\": 1.0}, {\"Date\": \"2021-01-21T00:00:00\", \" Open\": 2100.0, \" High\": 2108.0, \" Low\": 2070.0, \" Close\": 2100.0, \" Volume\": 69900, \"Price_Change\": 0.0, \"Mean_Score\": 0.41666657986113353, \"Percent_of_PosSent\": 1.0, \"Close_roll\": 2092.0, \"Price_Change_roll\": -0.0012494844521211232, \"Mean_Score_roll\": 0.3534096656213448, \"Percent_of_PosSent_roll\": 1.0}, {\"Date\": \"2021-01-22T00:00:00\", \" Open\": 2100.0, \" High\": 2102.0, \" Low\": 2060.0, \" Close\": 2060.0, \" Volume\": 47890, \"Price_Change\": -0.01904761904761905, \"Mean_Score\": 0.9999996666667778, \"Percent_of_PosSent\": 1.0, \"Close_roll\": 2084.0, \"Price_Change_roll\": -0.002427429314276512, \"Mean_Score_roll\": 0.5248381744649039, \"Percent_of_PosSent_roll\": 1.0}, {\"Date\": \"2021-01-25T00:00:00\", \" Open\": 2062.0, \" High\": 2064.0, \" Low\": 2030.0, \" Close\": 2044.0, \" Volume\": 35065, \"Price_Change\": -0.008729388942774006, \"Mean_Score\": 0.17647057785467188, \"Percent_of_PosSent\": 1.0, \"Close_roll\": 2072.8, \"Price_Change_roll\": -0.003983012145647678, \"Mean_Score_roll\": 0.5315608655460418, \"Percent_of_PosSent_roll\": 1.0}, {\"Date\": \"2021-01-26T00:00:00\", \" Open\": 2044.0, \" High\": 2044.0, \" Low\": 2010.0, \" Close\": 2010.0, \" Volume\": 43055, \"Price_Change\": -0.016634050880626222, \"Mean_Score\": 0.17647057785467188, \"Percent_of_PosSent\": 1.0, \"Close_roll\": 2062.8, \"Price_Change_roll\": -0.00519646977614372, \"Mean_Score_roll\": 0.4205881248919029, \"Percent_of_PosSent_roll\": 1.0}, {\"Date\": \"2021-01-27T00:00:00\", \" Open\": 2018.0, \" High\": 2020.0, \" Low\": 1998.0, \" Close\": 2004.0, \" Volume\": 72845, \"Price_Change\": -0.006937561942517344, \"Mean_Score\": 0.17647057785467188, \"Percent_of_PosSent\": 1.0, \"Close_roll\": 2043.6, \"Price_Change_roll\": -0.010269724162707324, \"Mean_Score_roll\": 0.3892155960183854, \"Percent_of_PosSent_roll\": 1.0}, {\"Date\": \"2021-01-28T00:00:00\", \" Open\": 2004.0, \" High\": 2014.0, \" Low\": 1995.0, \" Close\": 2014.0, \" Volume\": 64500, \"Price_Change\": 0.00499001996007984, \"Mean_Score\": 0.17647057785467188, \"Percent_of_PosSent\": 1.0, \"Close_roll\": 2026.4, \"Price_Change_roll\": -0.009271720170691358, \"Mean_Score_roll\": 0.34117639561709306, \"Percent_of_PosSent_roll\": 1.0}, {\"Date\": \"2021-01-29T00:00:00\", \" Open\": 2000.0, \" High\": 2014.0, \" Low\": 1941.0, \" Close\": 1941.0, \" Volume\": 161185, \"Price_Change\": -0.0295, \"Mean_Score\": 0.17647057785467188, \"Percent_of_PosSent\": 1.0, \"Close_roll\": 2002.6, \"Price_Change_roll\": -0.011362196361167547, \"Mean_Score_roll\": 0.17647057785467193, \"Percent_of_PosSent_roll\": 1.0}, {\"Date\": \"2021-02-01T00:00:00\", \" Open\": 1985.0, \" High\": 2020.0, \" Low\": 1984.0, \" Close\": 2020.0, \" Volume\": 36260, \"Price_Change\": 0.017632241813602016, \"Mean_Score\": 0.17647057785467188, \"Percent_of_PosSent\": 1.0, \"Close_roll\": 1997.8, \"Price_Change_roll\": -0.006089870209892342, \"Mean_Score_roll\": 0.17647057785467193, \"Percent_of_PosSent_roll\": 1.0}, {\"Date\": \"2021-02-02T00:00:00\", \" Open\": 2018.0, \" High\": 2046.0, \" Low\": 2000.0, \" Close\": 2046.0, \" Volume\": 49530, \"Price_Change\": 0.013875123885034688, \"Mean_Score\": 0.6754385599671713, \"Percent_of_PosSent\": 1.0, \"Close_roll\": 2005.0, \"Price_Change_roll\": 1.1964743239839537e-05, \"Mean_Score_roll\": 0.2762641742771718, \"Percent_of_PosSent_roll\": 1.0}, {\"Date\": \"2021-02-03T00:00:00\", \" Open\": 2044.0, \" High\": 2044.0, \" Low\": 2002.0, \" Close\": 2002.0, \" Volume\": 73340, \"Price_Change\": -0.02054794520547945, \"Mean_Score\": 0.99999950000025, \"Percent_of_PosSent\": 1.0, \"Close_roll\": 2004.6, \"Price_Change_roll\": -0.002710111909352582, \"Mean_Score_roll\": 0.44096995870628747, \"Percent_of_PosSent_roll\": 1.0}, {\"Date\": \"2021-02-04T00:00:00\", \" Open\": 2010.0, \" High\": 2020.0, \" Low\": 2006.0, \" Close\": 2012.0, \" Volume\": 19875, \"Price_Change\": 0.0009950248756218905, \"Mean_Score\": 0.599999880000024, \"Percent_of_PosSent\": 1.0, \"Close_roll\": 2004.2, \"Price_Change_roll\": -0.003509110926244172, \"Mean_Score_roll\": 0.5256758191353579, \"Percent_of_PosSent_roll\": 1.0}, {\"Date\": \"2021-02-05T00:00:00\", \" Open\": 2012.0, \" High\": 2040.0, \" Low\": 2010.0, \" Close\": 2026.0, \" Volume\": 43245, \"Price_Change\": 0.006958250497017893, \"Mean_Score\": 0.599999880000024, \"Percent_of_PosSent\": 1.0, \"Close_roll\": 2021.2, \"Price_Change_roll\": 0.003782539173159406, \"Mean_Score_roll\": 0.6103816795644283, \"Percent_of_PosSent_roll\": 1.0}, {\"Date\": \"2021-02-08T00:00:00\", \" Open\": 2026.0, \" High\": 2030.0, \" Low\": 2016.0, \" Close\": 2020.0, \" Volume\": 38970, \"Price_Change\": -0.0029615004935834156, \"Mean_Score\": 0.599999880000024, \"Percent_of_PosSent\": 1.0, \"Close_roll\": 2021.2, \"Price_Change_roll\": -0.00033620928827767974, \"Mean_Score_roll\": 0.6950875399934987, \"Percent_of_PosSent_roll\": 1.0}, {\"Date\": \"2021-02-09T00:00:00\", \" Open\": 2020.0, \" High\": 2026.0, \" Low\": 2000.0, \" Close\": 2000.0, \" Volume\": 54445, \"Price_Change\": -0.009900990099009901, \"Mean_Score\": -0.13333329777778502, \"Percent_of_PosSent\": 0.5, \"Close_roll\": 2012.0, \"Price_Change_roll\": -0.005091432085086597, \"Mean_Score_roll\": 0.5333331684445074, \"Percent_of_PosSent_roll\": 0.9}, {\"Date\": \"2021-02-10T00:00:00\", \" Open\": 2002.0, \" High\": 2050.0, \" Low\": 2002.0, \" Close\": 2038.0, \" Volume\": 49990, \"Price_Change\": 0.017982017982017984, \"Mean_Score\": -0.13333329777778502, \"Percent_of_PosSent\": 0.5, \"Close_roll\": 2019.2, \"Price_Change_roll\": 0.0026145605524128895, \"Mean_Score_roll\": 0.3066666088889004, \"Percent_of_PosSent_roll\": 0.8}, {\"Date\": \"2021-02-11T00:00:00\", \" Open\": 2038.0, \" High\": 2050.0, \" Low\": 2038.0, \" Close\": 2040.0, \" Volume\": 18850, \"Price_Change\": 0.0009813542688910696, \"Mean_Score\": -0.3846153560157813, \"Percent_of_PosSent\": 0.0, \"Close_roll\": 2024.8, \"Price_Change_roll\": 0.0026118264310667255, \"Mean_Score_roll\": 0.1097435616857394, \"Percent_of_PosSent_roll\": 0.6}, {\"Date\": \"2021-02-15T00:00:00\", \" Open\": 2040.0, \" High\": 2080.0, \" Low\": 2040.0, \" Close\": 2040.0, \" Volume\": 12130, \"Price_Change\": 0.0, \"Mean_Score\": -0.33333327777778704, \"Percent_of_PosSent\": 0.0, \"Close_roll\": 2027.6, \"Price_Change_roll\": 0.0012201763316631467, \"Mean_Score_roll\": -0.07692306986982282, \"Percent_of_PosSent_roll\": 0.4}, {\"Date\": \"2021-02-16T00:00:00\", \" Open\": 2040.0, \" High\": 2058.0, \" Low\": 2040.0, \" Close\": 2046.0, \" Volume\": 9325, \"Price_Change\": 0.0029411764705882353, \"Mean_Score\": -0.19999993000001948, \"Percent_of_PosSent\": 0.6666666666666666, \"Close_roll\": 2032.8, \"Price_Change_roll\": 0.0024007117244974766, \"Mean_Score_roll\": -0.23692303186983152, \"Percent_of_PosSent_roll\": 0.3333333333333333}, {\"Date\": \"2021-02-17T00:00:00\", \" Open\": 2052.0, \" High\": 2052.0, \" Low\": 2036.0, \" Close\": 2050.0, \" Volume\": 34810, \"Price_Change\": -0.0009746588693957114, \"Mean_Score\": -0.19999993000001948, \"Percent_of_PosSent\": 0.6666666666666666, \"Close_roll\": 2042.8, \"Price_Change_roll\": 0.004185977970420315, \"Mean_Score_roll\": -0.2502563583142784, \"Percent_of_PosSent_roll\": 0.36666666666666664}, {\"Date\": \"2021-02-18T00:00:00\", \" Open\": 2050.0, \" High\": 2060.0, \" Low\": 2030.0, \" Close\": 2030.0, \" Volume\": 56415, \"Price_Change\": -0.00975609756097561, \"Mean_Score\": -0.19999993000001948, \"Percent_of_PosSent\": 0.6666666666666666, \"Close_roll\": 2041.2, \"Price_Change_roll\": -0.001361645138178404, \"Mean_Score_roll\": -0.2635896847587253, \"Percent_of_PosSent_roll\": 0.4}, {\"Date\": \"2021-02-19T00:00:00\", \" Open\": 2030.0, \" High\": 2048.0, \" Low\": 2020.0, \" Close\": 2048.0, \" Volume\": 28930, \"Price_Change\": 0.008866995073891626, \"Mean_Score\": 0.99999950000025, \"Percent_of_PosSent\": 1.0, \"Close_roll\": 2042.8, \"Price_Change_roll\": 0.00021548302282170737, \"Mean_Score_roll\": 0.01333328644448093, \"Percent_of_PosSent_roll\": 0.6}, {\"Date\": \"2021-02-22T00:00:00\", \" Open\": 2048.0, \" High\": 2050.0, \" Low\": 2034.0, \" Close\": 2036.0, \" Volume\": 23825, \"Price_Change\": -0.005859375, \"Mean_Score\": 0.99999950000025, \"Percent_of_PosSent\": 1.0, \"Close_roll\": 2042.0, \"Price_Change_roll\": -0.0009563919771782926, \"Mean_Score_roll\": 0.2799998420000883, \"Percent_of_PosSent_roll\": 0.8}, {\"Date\": \"2021-02-23T00:00:00\", \" Open\": 2036.0, \" High\": 2036.0, \" Low\": 1977.0, \" Close\": 1977.0, \" Volume\": 74935, \"Price_Change\": -0.028978388998035363, \"Mean_Score\": 0.799999440000512, \"Percent_of_PosSent\": 1.0, \"Close_roll\": 2028.2, \"Price_Change_roll\": -0.007340305070903013, \"Mean_Score_roll\": 0.47999971600019464, \"Percent_of_PosSent_roll\": 0.8666666666666666}, {\"Date\": \"2021-02-24T00:00:00\", \" Open\": 2026.0, \" High\": 2026.0, \" Low\": 1985.0, \" Close\": 1985.0, \" Volume\": 68170, \"Price_Change\": -0.020236920039486673, \"Mean_Score\": 0.5238094361300271, \"Percent_of_PosSent\": 1.0, \"Close_roll\": 2015.2, \"Price_Change_roll\": -0.011192757304921206, \"Mean_Score_roll\": 0.624761589226204, \"Percent_of_PosSent_roll\": 0.9333333333333332}, {\"Date\": \"2021-02-26T00:00:00\", \" Open\": 2010.0, \" High\": 2026.0, \" Low\": 1996.0, \" Close\": 2026.0, \" Volume\": 177525, \"Price_Change\": 0.007960199004975124, \"Mean_Score\": 0.6111110539814872, \"Percent_of_PosSent\": 1.0, \"Close_roll\": 2014.4, \"Price_Change_roll\": -0.007649497991731058, \"Mean_Score_roll\": 0.7869837860225053, \"Percent_of_PosSent_roll\": 1.0}, {\"Date\": \"2021-03-01T00:00:00\", \" Open\": 2026.0, \" High\": 2026.0, \" Low\": 2004.0, \" Close\": 2026.0, \" Volume\": 39490, \"Price_Change\": 0.0, \"Mean_Score\": 0.5999999700000015, \"Percent_of_PosSent\": 1.0, \"Close_roll\": 2010.0, \"Price_Change_roll\": -0.009422897006509385, \"Mean_Score_roll\": 0.7069838800224556, \"Percent_of_PosSent_roll\": 1.0}, {\"Date\": \"2021-03-02T00:00:00\", \" Open\": 2028.0, \" High\": 2028.0, \" Low\": 1994.0, \" Close\": 1995.0, \" Volume\": 69430, \"Price_Change\": -0.016272189349112426, \"Mean_Score\": 0.5999999700000015, \"Percent_of_PosSent\": 1.0, \"Close_roll\": 2001.8, \"Price_Change_roll\": -0.011505459876331869, \"Mean_Score_roll\": 0.6269839740224059, \"Percent_of_PosSent_roll\": 1.0}, {\"Date\": \"2021-03-03T00:00:00\", \" Open\": 2028.0, \" High\": 2028.0, \" Low\": 2000.0, \" Close\": 2002.0, \" Volume\": 13790, \"Price_Change\": -0.01282051282051282, \"Mean_Score\": 0.39031337556513396, \"Percent_of_PosSent\": 0.6666666666666666, \"Close_roll\": 2006.8, \"Price_Change_roll\": -0.00827388464082736, \"Mean_Score_roll\": 0.5450467611353302, \"Percent_of_PosSent_roll\": 0.9333333333333333}, {\"Date\": \"2021-03-04T00:00:00\", \" Open\": 2000.0, \" High\": 2012.0, \" Low\": 2000.0, \" Close\": 2000.0, \" Volume\": 34355, \"Price_Change\": 0.0, \"Mean_Score\": 0.5172413614744358, \"Percent_of_PosSent\": 1.0, \"Close_roll\": 2009.8, \"Price_Change_roll\": -0.0042265006329300255, \"Mean_Score_roll\": 0.5437331462042121, \"Percent_of_PosSent_roll\": 0.9333333333333333}, {\"Date\": \"2021-03-05T00:00:00\", \" Open\": 1987.0, \" High\": 2002.0, \" Low\": 1985.0, \" Close\": 1992.0, \" Volume\": 58935, \"Price_Change\": 0.0025163563160543532, \"Mean_Score\": -0.99999950000025, \"Percent_of_PosSent\": 0.0, \"Close_roll\": 2003.0, \"Price_Change_roll\": -0.005315269170714179, \"Mean_Score_roll\": 0.2215110354078646, \"Percent_of_PosSent_roll\": 0.7333333333333333}, {\"Date\": \"2021-03-08T00:00:00\", \" Open\": 1992.0, \" High\": 2000.0, \" Low\": 1985.0, \" Close\": 1991.0, \" Volume\": 43485, \"Price_Change\": -0.000502008032128514, \"Mean_Score\": 0.199999960000008, \"Percent_of_PosSent\": 1.0, \"Close_roll\": 1996.0, \"Price_Change_roll\": -0.005415670777139882, \"Mean_Score_roll\": 0.14151103340786592, \"Percent_of_PosSent_roll\": 0.7333333333333333}, {\"Date\": \"2021-03-09T00:00:00\", \" Open\": 1991.0, \" High\": 1992.0, \" Low\": 1965.0, \" Close\": 1965.0, \" Volume\": 57615, \"Price_Change\": -0.013058764439979909, \"Mean_Score\": 0.4444443256173145, \"Percent_of_PosSent\": 0.5, \"Close_roll\": 1990.0, \"Price_Change_roll\": -0.004772985795313379, \"Mean_Score_roll\": 0.1103999045313285, \"Percent_of_PosSent_roll\": 0.6333333333333333}, {\"Date\": \"2021-03-10T00:00:00\", \" Open\": 1975.0, \" High\": 2018.0, \" Low\": 1955.0, \" Close\": 2018.0, \" Volume\": 39105, \"Price_Change\": 0.021772151898734177, \"Mean_Score\": 0.42857139795918586, \"Percent_of_PosSent\": 1.0, \"Close_roll\": 1993.2, \"Price_Change_roll\": 0.0021455471485360205, \"Mean_Score_roll\": 0.11805150901013887, \"Percent_of_PosSent_roll\": 0.7}, {\"Date\": \"2021-03-11T00:00:00\", \" Open\": 2008.0, \" High\": 2012.0, \" Low\": 1962.0, \" Close\": 1968.0, \" Volume\": 75160, \"Price_Change\": -0.0199203187250996, \"Mean_Score\": 0.42857139795918586, \"Percent_of_PosSent\": 1.0, \"Close_roll\": 1986.8, \"Price_Change_roll\": -0.0018385165964838995, \"Mean_Score_roll\": 0.10031751630708889, \"Percent_of_PosSent_roll\": 0.7}, {\"Date\": \"2021-03-12T00:00:00\", \" Open\": 1969.0, \" High\": 2010.0, \" Low\": 1953.0, \" Close\": 1960.0, \" Volume\": 35680, \"Price_Change\": -0.0045708481462671405, \"Mean_Score\": -0.8947367950138528, \"Percent_of_PosSent\": 0.0, \"Close_roll\": 1980.4, \"Price_Change_roll\": -0.003255957488948198, \"Mean_Score_roll\": 0.12137005730436834, \"Percent_of_PosSent_roll\": 0.7}, {\"Date\": \"2021-03-15T00:00:00\", \" Open\": 1952.0, \" High\": 1980.0, \" Low\": 1940.0, \" Close\": 1980.0, \" Volume\": 53070, \"Price_Change\": 0.014344262295081968, \"Mean_Score\": 0.6666663611112547, \"Percent_of_PosSent\": 1.0, \"Close_roll\": 1978.2, \"Price_Change_roll\": -0.0002867034235061024, \"Mean_Score_roll\": 0.2147033375266177, \"Percent_of_PosSent_roll\": 0.7}, {\"Date\": \"2021-03-16T00:00:00\", \" Open\": 1978.0, \" High\": 1990.0, \" Low\": 1952.0, \" Close\": 1980.0, \" Volume\": 58115, \"Price_Change\": 0.0010111223458038423, \"Mean_Score\": 0.6666663611112547, \"Percent_of_PosSent\": 1.0, \"Close_roll\": 1981.2, \"Price_Change_roll\": 0.002527273933650648, \"Mean_Score_roll\": 0.2591477446254057, \"Percent_of_PosSent_roll\": 0.8}, {\"Date\": \"2021-03-17T00:00:00\", \" Open\": 1990.0, \" High\": 1990.0, \" Low\": 1930.0, \" Close\": 1930.0, \" Volume\": 35420, \"Price_Change\": -0.03015075376884422, \"Mean_Score\": 0.6666663611112547, \"Percent_of_PosSent\": 1.0, \"Close_roll\": 1963.6, \"Price_Change_roll\": -0.007857307199865032, \"Mean_Score_roll\": 0.3067667372558195, \"Percent_of_PosSent_roll\": 0.8}, {\"Date\": \"2021-03-18T00:00:00\", \" Open\": 1978.0, \" High\": 1978.0, \" Low\": 1940.0, \" Close\": 1940.0, \" Volume\": 21950, \"Price_Change\": -0.019211324570273004, \"Mean_Score\": -0.05882352595155729, \"Percent_of_PosSent\": 0.0, \"Close_roll\": 1958.0, \"Price_Change_roll\": -0.007715508368899712, \"Mean_Score_roll\": 0.20928775247367085, \"Percent_of_PosSent_roll\": 0.6}, {\"Date\": \"2021-03-19T00:00:00\", \" Open\": 1976.0, \" High\": 1976.0, \" Low\": 1870.0, \" Close\": 1870.0, \" Volume\": 76560, \"Price_Change\": -0.053643724696356275, \"Mean_Score\": -0.19607840186467218, \"Percent_of_PosSent\": 0.0, \"Close_roll\": 1940.0, \"Price_Change_roll\": -0.01753008367891754, \"Mean_Score_roll\": 0.34901943110350697, \"Percent_of_PosSent_roll\": 0.6}, {\"Date\": \"2021-03-22T00:00:00\", \" Open\": 1910.0, \" High\": 1936.0, \" Low\": 1900.0, \" Close\": 1930.0, \" Volume\": 26460, \"Price_Change\": 0.010471204188481676, \"Mean_Score\": 0.07263157676232694, \"Percent_of_PosSent\": 1.0, \"Close_roll\": 1930.0, \"Price_Change_roll\": -0.018304695300237598, \"Mean_Score_roll\": 0.23021247423372143, \"Percent_of_PosSent_roll\": 0.6}, {\"Date\": \"2021-03-23T00:00:00\", \" Open\": 1932.0, \" High\": 1932.0, \" Low\": 1909.0, \" Close\": 1912.0, \" Volume\": 36025, \"Price_Change\": -0.010351966873706004, \"Mean_Score\": 0.5294117335640156, \"Percent_of_PosSent\": 1.0, \"Close_roll\": 1916.4, \"Price_Change_roll\": -0.020577313144139565, \"Mean_Score_roll\": 0.2027615487242736, \"Percent_of_PosSent_roll\": 0.6}, {\"Date\": \"2021-03-24T00:00:00\", \" Open\": 1913.0, \" High\": 1924.0, \" Low\": 1902.0, \" Close\": 1910.0, \" Volume\": 65400, \"Price_Change\": -0.0015682174594877157, \"Mean_Score\": 0.5294117335640156, \"Percent_of_PosSent\": 1.0, \"Close_roll\": 1912.4, \"Price_Change_roll\": -0.014860805882268267, \"Mean_Score_roll\": 0.1753106232148258, \"Percent_of_PosSent_roll\": 0.6}, {\"Date\": \"2021-03-25T00:00:00\", \" Open\": 1910.0, \" High\": 1913.0, \" Low\": 1900.0, \" Close\": 1900.0, \" Volume\": 39930, \"Price_Change\": -0.005235602094240838, \"Mean_Score\": 0.5294117335640156, \"Percent_of_PosSent\": 1.0, \"Close_roll\": 1904.4, \"Price_Change_roll\": -0.01206566138706183, \"Mean_Score_roll\": 0.2929576751179404, \"Percent_of_PosSent_roll\": 0.8}, {\"Date\": \"2021-03-26T00:00:00\", \" Open\": 1915.0, \" High\": 1918.0, \" Low\": 1900.0, \" Close\": 1900.0, \" Volume\": 32385, \"Price_Change\": -0.007832898172323759, \"Mean_Score\": -0.6666664166667707, \"Percent_of_PosSent\": 0.0, \"Close_roll\": 1910.4, \"Price_Change_roll\": -0.002903496082255328, \"Mean_Score_roll\": 0.19884007215752067, \"Percent_of_PosSent_roll\": 0.8}, {\"Date\": \"2021-03-29T00:00:00\", \" Open\": 1900.0, \" High\": 1932.0, \" Low\": 1891.0, \" Close\": 1910.0, \" Volume\": 28865, \"Price_Change\": 0.005263157894736842, \"Mean_Score\": -0.0476190408163275, \"Percent_of_PosSent\": 0.0, \"Close_roll\": 1906.4, \"Price_Change_roll\": -0.003945105341004295, \"Mean_Score_roll\": 0.1747899486417898, \"Percent_of_PosSent_roll\": 0.6}, {\"Date\": \"2021-03-30T00:00:00\", \" Open\": 1905.0, \" High\": 1912.0, \" Low\": 1900.0, \" Close\": 1901.0, \" Volume\": 18120, \"Price_Change\": -0.002099737532808399, \"Mean_Score\": 0.7532048306831939, \"Percent_of_PosSent\": 1.0, \"Close_roll\": 1904.2, \"Price_Change_roll\": -0.0022946594728247742, \"Mean_Score_roll\": 0.21954856806562545, \"Percent_of_PosSent_roll\": 0.6}, {\"Date\": \"2021-03-31T00:00:00\", \" Open\": 1929.0, \" High\": 1929.0, \" Low\": 1880.0, \" Close\": 1880.0, \" Volume\": 62840, \"Price_Change\": -0.025401762571280455, \"Mean_Score\": 0.7532048306831939, \"Percent_of_PosSent\": 1.0, \"Close_roll\": 1898.2, \"Price_Change_roll\": -0.007061368495183322, \"Mean_Score_roll\": 0.2643071874894611, \"Percent_of_PosSent_roll\": 0.6}, {\"Date\": \"2021-04-05T00:00:00\", \" Open\": 1895.0, \" High\": 1896.0, \" Low\": 1833.0, \" Close\": 1840.0, \" Volume\": 74150, \"Price_Change\": -0.029023746701846966, \"Mean_Score\": 0.7532048306831939, \"Percent_of_PosSent\": 1.0, \"Close_roll\": 1886.2, \"Price_Change_roll\": -0.011818997416704547, \"Mean_Score_roll\": 0.3090658069132967, \"Percent_of_PosSent_roll\": 0.6}, {\"Date\": \"2021-04-06T00:00:00\", \" Open\": 1872.0, \" High\": 1875.0, \" Low\": 1841.0, \" Close\": 1843.0, \" Volume\": 31410, \"Price_Change\": -0.015491452991452992, \"Mean_Score\": 0.7532048306831939, \"Percent_of_PosSent\": 1.0, \"Close_roll\": 1874.8, \"Price_Change_roll\": -0.013350708380530393, \"Mean_Score_roll\": 0.5930400563832896, \"Percent_of_PosSent_roll\": 0.8}, {\"Date\": \"2021-04-07T00:00:00\", \" Open\": 1845.0, \" High\": 1845.0, \" Low\": 1825.0, \" Close\": 1838.0, \" Volume\": 54105, \"Price_Change\": -0.003794037940379404, \"Mean_Score\": -0.23809517233562089, \"Percent_of_PosSent\": 0.0, \"Close_roll\": 1860.4, \"Price_Change_roll\": -0.015162147547553642, \"Mean_Score_roll\": 0.5549448300794311, \"Percent_of_PosSent_roll\": 0.8}, {\"Date\": \"2021-04-08T00:00:00\", \" Open\": 1852.0, \" High\": 1857.0, \" Low\": 1830.0, \" Close\": 1830.0, \" Volume\": 53225, \"Price_Change\": -0.011879049676025918, \"Mean_Score\": -0.23809517233562089, \"Percent_of_PosSent\": 0.0, \"Close_roll\": 1846.2, \"Price_Change_roll\": -0.017118009976197147, \"Mean_Score_roll\": 0.35668482947566804, \"Percent_of_PosSent_roll\": 0.6}, {\"Date\": \"2021-04-12T00:00:00\", \" Open\": 1832.0, \" High\": 1848.0, \" Low\": 1820.0, \" Close\": 1825.0, \" Volume\": 37000, \"Price_Change\": -0.003820960698689956, \"Mean_Score\": -0.23809517233562089, \"Percent_of_PosSent\": 0.0, \"Close_roll\": 1835.2, \"Price_Change_roll\": -0.012801849601679047, \"Mean_Score_roll\": 0.15842482887190507, \"Percent_of_PosSent_roll\": 0.4}, {\"Date\": \"2021-04-13T00:00:00\", \" Open\": 1825.0, \" High\": 1826.0, \" Low\": 1805.0, \" Close\": 1825.0, \" Volume\": 52435, \"Price_Change\": 0.0, \"Mean_Score\": -0.23809517233562089, \"Percent_of_PosSent\": 0.0, \"Close_roll\": 1832.2, \"Price_Change_roll\": -0.006997100261309654, \"Mean_Score_roll\": -0.03983517173185787, \"Percent_of_PosSent_roll\": 0.2}, {\"Date\": \"2021-04-14T00:00:00\", \" Open\": 1830.0, \" High\": 1844.0, \" Low\": 1825.0, \" Close\": 1843.0, \" Volume\": 49010, \"Price_Change\": 0.007103825136612022, \"Mean_Score\": -0.1428571224489825, \"Percent_of_PosSent\": 0.0, \"Close_roll\": 1832.2, \"Price_Change_roll\": -0.002478044635696651, \"Mean_Score_roll\": -0.21904756235829312, \"Percent_of_PosSent_roll\": 0.0}, {\"Date\": \"2021-04-15T00:00:00\", \" Open\": 1843.0, \" High\": 1843.0, \" Low\": 1832.0, \" Close\": 1835.0, \" Volume\": 47885, \"Price_Change\": -0.004340748779164406, \"Mean_Score\": -0.1428571224489825, \"Percent_of_PosSent\": 0.0, \"Close_roll\": 1831.6, \"Price_Change_roll\": -0.0025873868034536514, \"Mean_Score_roll\": -0.19999995238096546, \"Percent_of_PosSent_roll\": 0.0}, {\"Date\": \"2021-04-16T00:00:00\", \" Open\": 1836.0, \" High\": 1850.0, \" Low\": 1835.0, \" Close\": 1850.0, \" Volume\": 34925, \"Price_Change\": 0.007625272331154684, \"Mean_Score\": -0.1428571224489825, \"Percent_of_PosSent\": 0.0, \"Close_roll\": 1835.6, \"Price_Change_roll\": 0.001313477597982469, \"Mean_Score_roll\": -0.18095234240363778, \"Percent_of_PosSent_roll\": 0.0}, {\"Date\": \"2021-04-19T00:00:00\", \" Open\": 1850.0, \" High\": 1850.0, \" Low\": 1841.0, \" Close\": 1850.0, \" Volume\": 41300, \"Price_Change\": 0.0, \"Mean_Score\": 0.33333322222225925, \"Percent_of_PosSent\": 0.3333333333333333, \"Close_roll\": 1840.6, \"Price_Change_roll\": 0.00207766973772046, \"Mean_Score_roll\": -0.06666666349206174, \"Percent_of_PosSent_roll\": 0.06666666666666667}, {\"Date\": \"2021-04-20T00:00:00\", \" Open\": 1855.0, \" High\": 1880.0, \" Low\": 1851.0, \" Close\": 1864.0, \" Volume\": 67460, \"Price_Change\": 0.004851752021563342, \"Mean_Score\": 2.7777763894620833e-08, \"Percent_of_PosSent\": 0.5, \"Close_roll\": 1848.4, \"Price_Change_roll\": 0.0030480201420331286, \"Mean_Score_roll\": -0.019047623469384795, \"Percent_of_PosSent_roll\": 0.16666666666666666}, {\"Date\": \"2021-04-21T00:00:00\", \" Open\": 1867.0, \" High\": 1873.0, \" Low\": 1853.0, \" Close\": 1866.0, \" Volume\": 60065, \"Price_Change\": -0.0005356186395286556, \"Mean_Score\": 0.07692307100591762, \"Percent_of_PosSent\": 1.0, \"Close_roll\": 1853.0, \"Price_Change_roll\": 0.001520131386804993, \"Mean_Score_roll\": 0.024908415221595228, \"Percent_of_PosSent_roll\": 0.36666666666666664}, {\"Date\": \"2021-04-22T00:00:00\", \" Open\": 1870.0, \" High\": 1877.0, \" Low\": 1860.0, \" Close\": 1866.0, \" Volume\": 24180, \"Price_Change\": -0.0021390374331550803, \"Mean_Score\": 0.33333322222225925, \"Percent_of_PosSent\": 1.0, \"Close_roll\": 1859.2, \"Price_Change_roll\": 0.001960473656006858, \"Mean_Score_roll\": 0.12014648415584359, \"Percent_of_PosSent_roll\": 0.5666666666666667}, {\"Date\": \"2021-04-23T00:00:00\", \" Open\": 1866.0, \" High\": 1877.0, \" Low\": 1866.0, \" Close\": 1870.0, \" Volume\": 28220, \"Price_Change\": 0.0021436227224008574, \"Mean_Score\": 0.9999996666667778, \"Percent_of_PosSent\": 1.0, \"Close_roll\": 1863.2, \"Price_Change_roll\": 0.0008641437342560929, \"Mean_Score_roll\": 0.34871784197899564, \"Percent_of_PosSent_roll\": 0.7666666666666666}, {\"Date\": \"2021-04-26T00:00:00\", \" Open\": 1877.0, \" High\": 1920.0, \" Low\": 1871.0, \" Close\": 1920.0, \" Volume\": 19185, \"Price_Change\": 0.02290889717634523, \"Mean_Score\": 0.9999996666667778, \"Percent_of_PosSent\": 1.0, \"Close_roll\": 1877.2, \"Price_Change_roll\": 0.00544592316952514, \"Mean_Score_roll\": 0.4820511308678993, \"Percent_of_PosSent_roll\": 0.9}, {\"Date\": \"2021-04-27T00:00:00\", \" Open\": 1914.0, \" High\": 1915.0, \" Low\": 1896.0, \" Close\": 1900.0, \" Volume\": 33155, \"Price_Change\": -0.0073145245559038665, \"Mean_Score\": 0.9999996666667778, \"Percent_of_PosSent\": 1.0, \"Close_roll\": 1884.4, \"Price_Change_roll\": 0.003012667854031697, \"Mean_Score_roll\": 0.6820510586457021, \"Percent_of_PosSent_roll\": 1.0}, {\"Date\": \"2021-04-28T00:00:00\", \" Open\": 1901.0, \" High\": 1919.0, \" Low\": 1883.0, \" Close\": 1886.0, \" Volume\": 49115, \"Price_Change\": -0.007890583903208837, \"Mean_Score\": 0.5142856236734857, \"Percent_of_PosSent\": 1.0, \"Close_roll\": 1888.4, \"Price_Change_roll\": 0.0015416748012956605, \"Mean_Score_roll\": 0.7695235691792157, \"Percent_of_PosSent_roll\": 1.0}, {\"Date\": \"2021-04-29T00:00:00\", \" Open\": 1900.0, \" High\": 1900.0, \" Low\": 1871.0, \" Close\": 1886.0, \" Volume\": 28735, \"Price_Change\": -0.007368421052631579, \"Mean_Score\": 0.0, \"Percent_of_PosSent\": 0.0, \"Close_roll\": 1892.4, \"Price_Change_roll\": 0.0004957980774003606, \"Mean_Score_roll\": 0.7028569247347638, \"Percent_of_PosSent_roll\": 0.8}, {\"Date\": \"2021-04-30T00:00:00\", \" Open\": 1890.0, \" High\": 1900.0, \" Low\": 1833.0, \" Close\": 1833.0, \" Volume\": 115730, \"Price_Change\": -0.03015873015873016, \"Mean_Score\": 0.0, \"Percent_of_PosSent\": 0.0, \"Close_roll\": 1885.0, \"Price_Change_roll\": -0.0059646724988258425, \"Mean_Score_roll\": 0.5028569914014083, \"Percent_of_PosSent_roll\": 0.6}, {\"Date\": \"2021-05-03T00:00:00\", \" Open\": 1839.0, \" High\": 1850.0, \" Low\": 1830.0, \" Close\": 1830.0, \" Volume\": 33175, \"Price_Change\": -0.004893964110929853, \"Mean_Score\": 0.0, \"Percent_of_PosSent\": 0.0, \"Close_roll\": 1867.0, \"Price_Change_roll\": -0.011525244756280858, \"Mean_Score_roll\": 0.3028570580680528, \"Percent_of_PosSent_roll\": 0.39999999999999997}, {\"Date\": \"2021-05-04T00:00:00\", \" Open\": 1854.0, \" High\": 1854.0, \" Low\": 1825.0, \" Close\": 1825.0, \" Volume\": 56320, \"Price_Change\": -0.01564185544768069, \"Mean_Score\": 0.0, \"Percent_of_PosSent\": 0.0, \"Close_roll\": 1852.0, \"Price_Change_roll\": -0.013190710934636224, \"Mean_Score_roll\": 0.10285712473469719, \"Percent_of_PosSent_roll\": 0.2}, {\"Date\": \"2021-05-05T00:00:00\", \" Open\": 1825.0, \" High\": 1849.0, \" Low\": 1825.0, \" Close\": 1834.0, \" Volume\": 28205, \"Price_Change\": 0.004931506849315068, \"Mean_Score\": 0.2327921884683355, \"Percent_of_PosSent\": 0.625, \"Close_roll\": 1841.6, \"Price_Change_roll\": -0.010626292784131445, \"Mean_Score_roll\": 0.046558437693667146, \"Percent_of_PosSent_roll\": 0.125}, {\"Date\": \"2021-05-06T00:00:00\", \" Open\": 1843.0, \" High\": 1845.0, \" Low\": 1810.0, \" Close\": 1810.0, \" Volume\": 43965, \"Price_Change\": -0.017905588714053174, \"Mean_Score\": 0.2327921884683355, \"Percent_of_PosSent\": 0.625, \"Close_roll\": 1826.4, \"Price_Change_roll\": -0.01273372631641576, \"Mean_Score_roll\": 0.09311687538733424, \"Percent_of_PosSent_roll\": 0.25}, {\"Date\": \"2021-05-07T00:00:00\", \" Open\": 1812.0, \" High\": 1840.0, \" Low\": 1812.0, \" Close\": 1831.0, \" Volume\": 19520, \"Price_Change\": 0.010485651214128035, \"Mean_Score\": 0.2327921884683355, \"Percent_of_PosSent\": 0.625, \"Close_roll\": 1826.0, \"Price_Change_roll\": -0.004604850041844123, \"Mean_Score_roll\": 0.13967531308100134, \"Percent_of_PosSent_roll\": 0.375}, {\"Date\": \"2021-05-10T00:00:00\", \" Open\": 1835.0, \" High\": 1868.0, \" Low\": 1835.0, \" Close\": 1859.0, \" Volume\": 32220, \"Price_Change\": 0.013079019073569483, \"Mean_Score\": 0.21428568367347375, \"Percent_of_PosSent\": 0.5, \"Close_roll\": 1831.8, \"Price_Change_roll\": -0.0010102534049442557, \"Mean_Score_roll\": 0.1825324498156961, \"Percent_of_PosSent_roll\": 0.475}, {\"Date\": \"2021-05-11T00:00:00\", \" Open\": 1860.0, \" High\": 1870.0, \" Low\": 1846.0, \" Close\": 1860.0, \" Volume\": 40005, \"Price_Change\": 0.0, \"Mean_Score\": 0.1428571224489825, \"Percent_of_PosSent\": 1.0, \"Close_roll\": 1838.8, \"Price_Change_roll\": 0.0021181176845918824, \"Mean_Score_roll\": 0.21110387430549257, \"Percent_of_PosSent_roll\": 0.675}, {\"Date\": \"2021-05-12T00:00:00\", \" Open\": 1865.0, \" High\": 1865.0, \" Low\": 1810.0, \" Close\": 1829.0, \" Volume\": 57890, \"Price_Change\": -0.0193029490616622, \"Mean_Score\": 0.4999999375000079, \"Percent_of_PosSent\": 1.0, \"Close_roll\": 1837.8, \"Price_Change_roll\": -0.002728773497603571, \"Mean_Score_roll\": 0.2645454241118271, \"Percent_of_PosSent_roll\": 0.75}, {\"Date\": \"2021-05-14T00:00:00\", \" Open\": 1825.0, \" High\": 1826.0, \" Low\": 1801.0, \" Close\": 1811.0, \" Volume\": 84970, \"Price_Change\": -0.007671232876712329, \"Mean_Score\": 0.4999999375000079, \"Percent_of_PosSent\": 1.0, \"Close_roll\": 1838.0, \"Price_Change_roll\": -0.000681902330135402, \"Mean_Score_roll\": 0.31798697391816155, \"Percent_of_PosSent_roll\": 0.825}, {\"Date\": \"2021-05-17T00:00:00\", \" Open\": 1820.0, \" High\": 1844.0, \" Low\": 1820.0, \" Close\": 1831.0, \" Volume\": 36930, \"Price_Change\": 0.006043956043956044, \"Mean_Score\": 0.0, \"Percent_of_PosSent\": 0.0, \"Close_roll\": 1838.0, \"Price_Change_roll\": -0.0015702413641698006, \"Mean_Score_roll\": 0.2714285362244945, \"Percent_of_PosSent_roll\": 0.7}, {\"Date\": \"2021-05-18T00:00:00\", \" Open\": 1830.0, \" High\": 1847.0, \" Low\": 1812.0, \" Close\": 1847.0, \" Volume\": 24015, \"Price_Change\": 0.009289617486338797, \"Mean_Score\": 0.41481479315500824, \"Percent_of_PosSent\": 1.0, \"Close_roll\": 1835.6, \"Price_Change_roll\": -0.002328121681615937, \"Mean_Score_roll\": 0.3115343581208013, \"Percent_of_PosSent_roll\": 0.8}, {\"Date\": \"2021-05-19T00:00:00\", \" Open\": 1846.0, \" High\": 1868.0, \" Low\": 1830.0, \" Close\": 1861.0, \" Volume\": 16010, \"Price_Change\": 0.008125677139761646, \"Mean_Score\": 0.9999990000010001, \"Percent_of_PosSent\": 1.0, \"Close_roll\": 1835.8, \"Price_Change_roll\": -0.0007029862536636078, \"Mean_Score_roll\": 0.4829627336312049, \"Percent_of_PosSent_roll\": 0.8}, {\"Date\": \"2021-05-20T00:00:00\", \" Open\": 1867.0, \" High\": 1867.0, \" Low\": 1850.0, \" Close\": 1850.0, \" Volume\": 26970, \"Price_Change\": -0.009105516871987145, \"Mean_Score\": -0.11538460650887643, \"Percent_of_PosSent\": 0.0, \"Close_roll\": 1840.0, \"Price_Change_roll\": 0.0013365001842714035, \"Mean_Score_roll\": 0.359885824829428, \"Percent_of_PosSent_roll\": 0.6}, {\"Date\": \"2021-05-21T00:00:00\", \" Open\": 1850.0, \" High\": 1852.0, \" Low\": 1820.0, \" Close\": 1820.0, \" Volume\": 50715, \"Price_Change\": -0.016216216216216217, \"Mean_Score\": -0.11538460650887643, \"Percent_of_PosSent\": 0.0, \"Close_roll\": 1841.8, \"Price_Change_roll\": -0.00037249648362937466, \"Mean_Score_roll\": 0.23680891602765114, \"Percent_of_PosSent_roll\": 0.4}, {\"Date\": \"2021-05-24T00:00:00\", \" Open\": 1820.0, \" High\": 1850.0, \" Low\": 1796.0, \" Close\": 1796.0, \" Volume\": 56120, \"Price_Change\": -0.013186813186813187, \"Mean_Score\": -0.11538460650887643, \"Percent_of_PosSent\": 0.0, \"Close_roll\": 1834.8, \"Price_Change_roll\": -0.004218650329783221, \"Mean_Score_roll\": 0.21373199472587584, \"Percent_of_PosSent_roll\": 0.4}, {\"Date\": \"2021-05-25T00:00:00\", \" Open\": 1820.0, \" High\": 1825.0, \" Low\": 1800.0, \" Close\": 1800.0, \" Volume\": 50930, \"Price_Change\": -0.01098901098901099, \"Mean_Score\": -0.11538460650887643, \"Percent_of_PosSent\": 0.0, \"Close_roll\": 1825.4, \"Price_Change_roll\": -0.008274376024853178, \"Mean_Score_roll\": 0.10769211479309893, \"Percent_of_PosSent_roll\": 0.2}, {\"Date\": \"2021-05-26T00:00:00\", \" Open\": 1800.0, \" High\": 1857.0, \" Low\": 1800.0, \" Close\": 1835.0, \" Volume\": 35215, \"Price_Change\": 0.019444444444444445, \"Mean_Score\": -0.42857139795918586, \"Percent_of_PosSent\": 0.0, \"Close_roll\": 1820.2, \"Price_Change_roll\": -0.006010622563916619, \"Mean_Score_roll\": -0.17802196479893828, \"Percent_of_PosSent_roll\": 0.0}, {\"Date\": \"2021-05-27T00:00:00\", \" Open\": 1839.0, \" High\": 1892.0, \" Low\": 1833.0, \" Close\": 1850.0, \" Volume\": 457640, \"Price_Change\": 0.005981511691136488, \"Mean_Score\": -0.399999980000001, \"Percent_of_PosSent\": 0.0, \"Close_roll\": 1820.2, \"Price_Change_roll\": -0.0029932168512918932, \"Mean_Score_roll\": -0.2349450394971632, \"Percent_of_PosSent_roll\": 0.0}, {\"Date\": \"2021-05-28T00:00:00\", \" Open\": 1850.0, \" High\": 1855.0, \" Low\": 1807.0, \" Close\": 1811.0, \" Volume\": 151345, \"Price_Change\": -0.02108108108108108, \"Mean_Score\": 0.599999940000006, \"Percent_of_PosSent\": 1.0, \"Close_roll\": 1818.4, \"Price_Change_roll\": -0.003966189824264866, \"Mean_Score_roll\": -0.09186813019538671, \"Percent_of_PosSent_roll\": 0.2}, {\"Date\": \"2021-05-31T00:00:00\", \" Open\": 1838.0, \" High\": 1838.0, \" Low\": 1805.0, \" Close\": 1806.0, \" Volume\": 62230, \"Price_Change\": -0.017410228509249184, \"Mean_Score\": 0.599999940000006, \"Percent_of_PosSent\": 1.0, \"Close_roll\": 1820.4, \"Price_Change_roll\": -0.004810872888752066, \"Mean_Score_roll\": 0.05120877910638979, \"Percent_of_PosSent_roll\": 0.4}, {\"Date\": \"2021-06-01T00:00:00\", \" Open\": 1815.0, \" High\": 1828.0, \" Low\": 1811.0, \" Close\": 1827.0, \" Volume\": 21945, \"Price_Change\": 0.006611570247933884, \"Mean_Score\": 0.599999940000006, \"Percent_of_PosSent\": 1.0, \"Close_roll\": 1825.8, \"Price_Change_roll\": -0.001290756641363091, \"Mean_Score_roll\": 0.1942856884081663, \"Percent_of_PosSent_roll\": 0.6}, {\"Date\": \"2021-06-02T00:00:00\", \" Open\": 1836.0, \" High\": 1845.0, \" Low\": 1825.0, \" Close\": 1835.0, \" Volume\": 72820, \"Price_Change\": -0.0005446623093681918, \"Mean_Score\": 0.399999770000121, \"Percent_of_PosSent\": 0.5, \"Close_roll\": 1825.8, \"Price_Change_roll\": -0.005288577992125619, \"Mean_Score_roll\": 0.3599999220000277, \"Percent_of_PosSent_roll\": 0.7}, {\"Date\": \"2021-06-03T00:00:00\", \" Open\": 1835.0, \" High\": 1838.0, \" Low\": 1811.0, \" Close\": 1811.0, \" Volume\": 83060, \"Price_Change\": -0.013079019073569483, \"Mean_Score\": -0.9999998333333611, \"Percent_of_PosSent\": 0.0, \"Close_roll\": 1818.0, \"Price_Change_roll\": -0.009100684145066812, \"Mean_Score_roll\": 0.23999995133335567, \"Percent_of_PosSent_roll\": 0.7}, {\"Date\": \"2021-06-04T00:00:00\", \" Open\": 1838.0, \" High\": 1841.0, \" Low\": 1835.0, \" Close\": 1840.0, \" Volume\": 74505, \"Price_Change\": 0.001088139281828074, \"Mean_Score\": -0.9999998333333611, \"Percent_of_PosSent\": 0.0, \"Close_roll\": 1823.8, \"Price_Change_roll\": -0.004666840072484981, \"Mean_Score_roll\": -0.08000000333331778, \"Percent_of_PosSent_roll\": 0.5}, {\"Date\": \"2021-06-07T00:00:00\", \" Open\": 1843.0, \" High\": 1864.0, \" Low\": 1840.0, \" Close\": 1840.0, \" Volume\": 60275, \"Price_Change\": -0.0016277807921866521, \"Mean_Score\": -0.9999998333333611, \"Percent_of_PosSent\": 0.0, \"Close_roll\": 1830.6, \"Price_Change_roll\": -0.0015103505290724748, \"Mean_Score_roll\": -0.3999999579999912, \"Percent_of_PosSent_roll\": 0.3}, {\"Date\": \"2021-06-08T00:00:00\", \" Open\": 1850.0, \" High\": 1865.0, \" Low\": 1809.0, \" Close\": 1809.0, \" Volume\": 46835, \"Price_Change\": -0.02216216216216216, \"Mean_Score\": 0.599999880000024, \"Percent_of_PosSent\": 1.0, \"Close_roll\": 1827.0, \"Price_Change_roll\": -0.007265097011091684, \"Mean_Score_roll\": -0.39999996999998766, \"Percent_of_PosSent_roll\": 0.3}, {\"Date\": \"2021-06-09T00:00:00\", \" Open\": 1846.0, \" High\": 1846.0, \" Low\": 1820.0, \" Close\": 1820.0, \" Volume\": 56910, \"Price_Change\": -0.014084507042253521, \"Mean_Score\": 0.599999880000024, \"Percent_of_PosSent\": 1.0, \"Close_roll\": 1824.0, \"Price_Change_roll\": -0.00997306595766875, \"Mean_Score_roll\": -0.359999948000007, \"Percent_of_PosSent_roll\": 0.4}, {\"Date\": \"2021-06-10T00:00:00\", \" Open\": 1829.0, \" High\": 1845.0, \" Low\": 1820.0, \" Close\": 1820.0, \" Volume\": 37500, \"Price_Change\": -0.004920721705850191, \"Mean_Score\": 0.599999880000024, \"Percent_of_PosSent\": 1.0, \"Close_roll\": 1825.8, \"Price_Change_roll\": -0.008341406484124892, \"Mean_Score_roll\": -0.040000005333329966, \"Percent_of_PosSent_roll\": 0.6}, {\"Date\": \"2021-06-11T00:00:00\", \" Open\": 1825.0, \" High\": 1850.0, \" Low\": 1812.0, \" Close\": 1841.0, \" Volume\": 189270, \"Price_Change\": 0.008767123287671232, \"Mean_Score\": 0.9999996666667778, \"Percent_of_PosSent\": 1.0, \"Close_roll\": 1826.0, \"Price_Change_roll\": -0.00680560968295626, \"Mean_Score_roll\": 0.3599998946666978, \"Percent_of_PosSent_roll\": 0.8}, {\"Date\": \"2021-06-14T00:00:00\", \" Open\": 1857.0, \" High\": 1895.0, \" Low\": 1845.0, \" Close\": 1895.0, \" Volume\": 104460, \"Price_Change\": 0.02046311254711901, \"Mean_Score\": -0.8888888072174816, \"Percent_of_PosSent\": 0.0, \"Close_roll\": 1837.0, \"Price_Change_roll\": -0.0023874310150951276, \"Mean_Score_roll\": 0.38222209988987366, \"Percent_of_PosSent_roll\": 0.8}, {\"Date\": \"2021-06-15T00:00:00\", \" Open\": 1895.0, \" High\": 1899.0, \" Low\": 1880.0, \" Close\": 1890.0, \" Volume\": 51265, \"Price_Change\": -0.002638522427440633, \"Mean_Score\": 0.7614034635518648, \"Percent_of_PosSent\": 1.0, \"Close_roll\": 1853.2, \"Price_Change_roll\": 0.0015172969318491775, \"Mean_Score_roll\": 0.4145028166002419, \"Percent_of_PosSent_roll\": 0.8}, {\"Date\": \"2021-06-16T00:00:00\", \" Open\": 1896.0, \" High\": 1899.0, \" Low\": 1871.0, \" Close\": 1878.0, \" Volume\": 41720, \"Price_Change\": -0.00949367088607595, \"Mean_Score\": -0.4999999375000079, \"Percent_of_PosSent\": 0.0, \"Close_roll\": 1864.8, \"Price_Change_roll\": 0.0024354641630846916, \"Mean_Score_roll\": 0.19450285310023546, \"Percent_of_PosSent_roll\": 0.6}, {\"Date\": \"2021-06-17T00:00:00\", \" Open\": 1879.0, \" High\": 1880.0, \" Low\": 1840.0, \" Close\": 1840.0, \" Volume\": 63740, \"Price_Change\": -0.020755721128259713, \"Mean_Score\": 0.2727272479338866, \"Percent_of_PosSent\": 1.0, \"Close_roll\": 1868.8, \"Price_Change_roll\": -0.0007315357213972126, \"Mean_Score_roll\": 0.129048326687008, \"Percent_of_PosSent_roll\": 0.6}, {\"Date\": \"2021-06-18T00:00:00\", \" Open\": 1856.0, \" High\": 1860.0, \" Low\": 1815.0, \" Close\": 1815.0, \" Volume\": 168515, \"Price_Change\": -0.02209051724137931, \"Mean_Score\": 0.49999987500003124, \"Percent_of_PosSent\": 1.0, \"Close_roll\": 1863.6, \"Price_Change_roll\": -0.00690306382720732, \"Mean_Score_roll\": 0.02904836835365867, \"Percent_of_PosSent_roll\": 0.6}, {\"Date\": \"2021-06-21T00:00:00\", \" Open\": 1835.0, \" High\": 1840.0, \" Low\": 1815.0, \" Close\": 1819.0, \" Volume\": 48730, \"Price_Change\": -0.008719346049046322, \"Mean_Score\": 0.9999998333333611, \"Percent_of_PosSent\": 1.0, \"Close_roll\": 1848.4, \"Price_Change_roll\": -0.012739555546440387, \"Mean_Score_roll\": 0.40682609646382717, \"Percent_of_PosSent_roll\": 0.8}, {\"Date\": \"2021-06-22T00:00:00\", \" Open\": 1830.0, \" High\": 1831.0, \" Low\": 1815.0, \" Close\": 1819.0, \" Volume\": 76390, \"Price_Change\": -0.006010928961748634, \"Mean_Score\": -2.1666654392848983e-07, \"Percent_of_PosSent\": 0.5, \"Close_roll\": 1834.2, \"Price_Change_roll\": -0.013414036853301985, \"Mean_Score_roll\": 0.2545453604201454, \"Percent_of_PosSent_roll\": 0.7}, {\"Date\": \"2021-06-23T00:00:00\", \" Open\": 1830.0, \" High\": 1845.0, \" Low\": 1821.0, \" Close\": 1840.0, \" Volume\": 45790, \"Price_Change\": 0.00546448087431694, \"Mean_Score\": -2.1666654392848983e-07, \"Percent_of_PosSent\": 0.5, \"Close_roll\": 1826.6, \"Price_Change_roll\": -0.010422406501223409, \"Mean_Score_roll\": 0.35454530458683825, \"Percent_of_PosSent_roll\": 0.8}, {\"Date\": \"2021-06-24T00:00:00\", \" Open\": 1850.0, \" High\": 1850.0, \" Low\": 1830.0, \" Close\": 1830.0, \" Volume\": 65455, \"Price_Change\": -0.010810810810810811, \"Mean_Score\": 0.14927884740973948, \"Percent_of_PosSent\": 0.5, \"Close_roll\": 1824.6, \"Price_Change_roll\": -0.008433424437733627, \"Mean_Score_roll\": 0.32985562448200884, \"Percent_of_PosSent_roll\": 0.7}, {\"Date\": \"2021-06-25T00:00:00\", \" Open\": 1831.0, \" High\": 1853.0, \" Low\": 1831.0, \" Close\": 1853.0, \" Volume\": 35875, \"Price_Change\": 0.012015292190060076, \"Mean_Score\": 0.14927884740973948, \"Percent_of_PosSent\": 0.5, \"Close_roll\": 1832.2, \"Price_Change_roll\": -0.001612262551445752, \"Mean_Score_roll\": 0.2597114189639505, \"Percent_of_PosSent_roll\": 0.6}, {\"Date\": \"2021-06-28T00:00:00\", \" Open\": 1855.0, \" High\": 1857.0, \" Low\": 1831.0, \" Close\": 1840.0, \" Volume\": 52485, \"Price_Change\": -0.008086253369272238, \"Mean_Score\": 0.7333333170370374, \"Percent_of_PosSent\": 1.0, \"Close_roll\": 1836.4, \"Price_Change_roll\": -0.001485644015490935, \"Mean_Score_roll\": 0.20637811570468573, \"Percent_of_PosSent_roll\": 0.6}, {\"Date\": \"2021-06-29T00:00:00\", \" Open\": 1840.0, \" High\": 1841.0, \" Low\": 1820.0, \" Close\": 1830.0, \" Volume\": 83960, \"Price_Change\": -0.005434782608695652, \"Mean_Score\": -0.6874999382812558, \"Percent_of_PosSent\": 0.0, \"Close_roll\": 1838.6, \"Price_Change_roll\": -0.0013704147448803388, \"Mean_Score_roll\": 0.06887817138174339, \"Percent_of_PosSent_roll\": 0.5}, {\"Date\": \"2021-06-30T00:00:00\", \" Open\": 1835.0, \" High\": 1849.0, \" Low\": 1835.0, \" Close\": 1840.0, \" Volume\": 43460, \"Price_Change\": 0.0027247956403269754, \"Mean_Score\": -0.5222221898765452, \"Percent_of_PosSent\": 0.0, \"Close_roll\": 1838.6, \"Price_Change_roll\": -0.0019183517916783316, \"Mean_Score_roll\": -0.03556622326025689, \"Percent_of_PosSent_roll\": 0.4}, {\"Date\": \"2021-07-01T00:00:00\", \" Open\": 1841.0, \" High\": 1874.0, \" Low\": 1841.0, \" Close\": 1870.0, \" Volume\": 59520, \"Price_Change\": 0.015752308527973928, \"Mean_Score\": -0.9999997500000625, \"Percent_of_PosSent\": 0.0, \"Close_roll\": 1846.6, \"Price_Change_roll\": 0.0033942720760786168, \"Mean_Score_roll\": -0.26542194274221725, \"Percent_of_PosSent_roll\": 0.3}, {\"Date\": \"2021-07-02T00:00:00\", \" Open\": 1870.0, \" High\": 1890.0, \" Low\": 1870.0, \" Close\": 1885.0, \" Volume\": 59650, \"Price_Change\": 0.008021390374331552, \"Mean_Score\": -0.031249999023437534, \"Percent_of_PosSent\": 0.0, \"Close_roll\": 1853.0, \"Price_Change_roll\": 0.0025954917129329116, \"Mean_Score_roll\": -0.3015277120288527, \"Percent_of_PosSent_roll\": 0.2}, {\"Date\": \"2021-07-05T00:00:00\", \" Open\": 1888.0, \" High\": 1940.0, \" Low\": 1888.0, \" Close\": 1920.0, \" Volume\": 67190, \"Price_Change\": 0.01694915254237288, \"Mean_Score\": -0.031249999023437534, \"Percent_of_PosSent\": 0.0, \"Close_roll\": 1869.0, \"Price_Change_roll\": 0.007602572895261936, \"Mean_Score_roll\": -0.4544443752409477, \"Percent_of_PosSent_roll\": 0.0}, {\"Date\": \"2021-07-06T00:00:00\", \" Open\": 1940.0, \" High\": 1988.0, \" Low\": 1939.0, \" Close\": 1964.0, \" Volume\": 88235, \"Price_Change\": 0.012371134020618556, \"Mean_Score\": -0.5555554938271674, \"Percent_of_PosSent\": 0.0, \"Close_roll\": 1895.8, \"Price_Change_roll\": 0.011163756221124779, \"Mean_Score_roll\": -0.4280554863501299, \"Percent_of_PosSent_roll\": 0.0}, {\"Date\": \"2021-07-07T00:00:00\", \" Open\": 1964.0, \" High\": 1964.0, \" Low\": 1932.0, \" Close\": 1932.0, \" Volume\": 64790, \"Price_Change\": -0.016293279022403257, \"Mean_Score\": 0.37777769148150253, \"Percent_of_PosSent\": 1.0, \"Close_roll\": 1914.2, \"Price_Change_roll\": 0.007360141288578731, \"Mean_Score_roll\": -0.24805551007852045, \"Percent_of_PosSent_roll\": 0.2}, {\"Date\": \"2021-07-08T00:00:00\", \" Open\": 1932.0, \" High\": 1970.0, \" Low\": 1932.0, \" Close\": 1970.0, \" Volume\": 55080, \"Price_Change\": 0.019668737060041408, \"Mean_Score\": 0.37777769148150253, \"Percent_of_PosSent\": 1.0, \"Close_roll\": 1934.2, \"Price_Change_roll\": 0.008143426994992226, \"Mean_Score_roll\": 0.027499978217792553, \"Percent_of_PosSent_roll\": 0.4}, {\"Date\": \"2021-07-09T00:00:00\", \" Open\": 1965.0, \" High\": 1965.0, \" Low\": 1936.0, \" Close\": 1965.0, \" Volume\": 58425, \"Price_Change\": 0.0, \"Mean_Score\": 0.37777769148150253, \"Percent_of_PosSent\": 1.0, \"Close_roll\": 1950.2, \"Price_Change_roll\": 0.0065391489201259145, \"Mean_Score_roll\": 0.10930551631878056, \"Percent_of_PosSent_roll\": 0.6}, {\"Date\": \"2021-07-12T00:00:00\", \" Open\": 1965.0, \" High\": 1989.0, \" Low\": 1953.0, \" Close\": 1983.0, \" Volume\": 95555, \"Price_Change\": 0.00916030534351145, \"Mean_Score\": 0.37777769148150253, \"Percent_of_PosSent\": 1.0, \"Close_roll\": 1962.8, \"Price_Change_roll\": 0.00498137948035363, \"Mean_Score_roll\": 0.19111105441976856, \"Percent_of_PosSent_roll\": 0.8}, {\"Date\": \"2021-07-13T00:00:00\", \" Open\": 1978.0, \" High\": 1987.0, \" Low\": 1972.0, \" Close\": 1979.0, \" Volume\": 83865, \"Price_Change\": 0.0005055611729019212, \"Mean_Score\": 0.13602540621738707, \"Percent_of_PosSent\": 0.5, \"Close_roll\": 1965.8, \"Price_Change_roll\": 0.002608264910810303, \"Mean_Score_roll\": 0.32942723442867944, \"Percent_of_PosSent_roll\": 0.9}, {\"Date\": \"2021-07-14T00:00:00\", \" Open\": 1976.0, \" High\": 1979.0, \" Low\": 1971.0, \" Close\": 1974.0, \" Volume\": 36060, \"Price_Change\": -0.0010121457489878543, \"Mean_Score\": 0.13602540621738707, \"Percent_of_PosSent\": 0.5, \"Close_roll\": 1974.2, \"Price_Change_roll\": 0.005664491565493384, \"Mean_Score_roll\": 0.28107677737585635, \"Percent_of_PosSent_roll\": 0.8}, {\"Date\": \"2021-07-15T00:00:00\", \" Open\": 1974.0, \" High\": 1978.0, \" Low\": 1933.0, \" Close\": 1933.0, \" Volume\": 45870, \"Price_Change\": -0.02077001013171226, \"Mean_Score\": 0.13602540621738707, \"Percent_of_PosSent\": 0.5, \"Close_roll\": 1966.8, \"Price_Change_roll\": -0.0024232578728573505, \"Mean_Score_roll\": 0.23272632032303328, \"Percent_of_PosSent_roll\": 0.7}, {\"Date\": \"2021-07-16T00:00:00\", \" Open\": 1950.0, \" High\": 1950.0, \" Low\": 1933.0, \" Close\": 1941.0, \" Volume\": 45340, \"Price_Change\": -0.004615384615384616, \"Mean_Score\": 0.13602540621738707, \"Percent_of_PosSent\": 0.5, \"Close_roll\": 1962.0, \"Price_Change_roll\": -0.0033463347959342736, \"Mean_Score_roll\": 0.1843758632702102, \"Percent_of_PosSent_roll\": 0.6}]}}, {\"mode\": \"vega-lite\"});\n",
       "</script>"
      ],
      "text/plain": [
       "alt.RepeatChart(...)"
      ]
     },
     "execution_count": 38,
     "metadata": {},
     "output_type": "execute_result"
    }
   ],
   "source": [
    "import altair as alt\n",
    "\n",
    "\n",
    "alt.Chart(forplot).mark_line().encode(\n",
    "    alt.X(alt.repeat(\"column\"), type='temporal'),\n",
    "    alt.Y(alt.repeat(\"row\"), type='quantitative', scale=alt.Scale(zero = False))\n",
    ").properties(\n",
    "    width=700,\n",
    "    height=200\n",
    ").repeat(\n",
    "    row=[' Close', 'Price_Change_roll', 'Percent_of_PosSent_roll'],\n",
    "    column=['Date']\n",
    ").interactive(\n",
    "  bind_y = False\n",
    ")"
   ]
  },
  {
   "cell_type": "code",
   "execution_count": 39,
   "id": "50613b5c",
   "metadata": {},
   "outputs": [
    {
     "data": {
      "image/png": "[encoded data removed]",
      "text/plain": [
       "<Figure size 288x288 with 1 Axes>"
      ]
     },
     "metadata": {
      "needs_background": "light"
     },
     "output_type": "display_data"
    }
   ],
   "source": [
    "import matplotlib.pyplot as plt\n",
    "\n",
    "plt.matshow(forplot[['Price_Change_roll', 'Percent_of_PosSent_roll']].corr())\n",
    "plt.show()"
   ]
  },
  {
   "cell_type": "code",
   "execution_count": 40,
   "id": "b39c1471",
   "metadata": {},
   "outputs": [
    {
     "data": {
      "image/png": "[encoded data removed]",
      "text/plain": [
       "<Figure size 432x288 with 2 Axes>"
      ]
     },
     "metadata": {
      "needs_background": "light"
     },
     "output_type": "display_data"
    }
   ],
   "source": [
    "import seaborn as sns\n",
    "\n",
    "corr = forplot[['Price_Change', 'Percent_of_PosSent']].corr()\n",
    "ax = sns.heatmap(\n",
    "    corr, \n",
    "    vmin=-1, vmax=1, center=0,\n",
    "    cmap=sns.diverging_palette(20, 220, n=200),\n",
    "    square=True\n",
    ")\n",
    "ax.set_xticklabels(\n",
    "    ax.get_xticklabels(),\n",
    "    rotation=45,\n",
    "    horizontalalignment='right'\n",
    ");"
   ]
  },
  {
   "cell_type": "code",
   "execution_count": 41,
   "id": "342e831e",
   "metadata": {},
   "outputs": [
    {
     "data": {
      "text/html": [
       "<div>\n",
       "<style scoped>\n",
       "    .dataframe tbody tr th:only-of-type {\n",
       "        vertical-align: middle;\n",
       "    }\n",
       "\n",
       "    .dataframe tbody tr th {\n",
       "        vertical-align: top;\n",
       "    }\n",
       "\n",
       "    .dataframe thead th {\n",
       "        text-align: right;\n",
       "    }\n",
       "</style>\n",
       "<table border=\"1\" class=\"dataframe\">\n",
       "  <thead>\n",
       "    <tr style=\"text-align: right;\">\n",
       "      <th></th>\n",
       "      <th>Price_Change</th>\n",
       "      <th>Percent_of_PosSent</th>\n",
       "    </tr>\n",
       "  </thead>\n",
       "  <tbody>\n",
       "    <tr>\n",
       "      <th>Price_Change</th>\n",
       "      <td>1.000000</td>\n",
       "      <td>-0.056378</td>\n",
       "    </tr>\n",
       "    <tr>\n",
       "      <th>Percent_of_PosSent</th>\n",
       "      <td>-0.056378</td>\n",
       "      <td>1.000000</td>\n",
       "    </tr>\n",
       "  </tbody>\n",
       "</table>\n",
       "</div>"
      ],
      "text/plain": [
       "                    Price_Change  Percent_of_PosSent\n",
       "Price_Change            1.000000           -0.056378\n",
       "Percent_of_PosSent     -0.056378            1.000000"
      ]
     },
     "execution_count": 41,
     "metadata": {},
     "output_type": "execute_result"
    }
   ],
   "source": [
    "forplot[['Price_Change', 'Percent_of_PosSent']].corr()"
   ]
  },
  {
   "cell_type": "code",
   "execution_count": 42,
   "id": "31a2341c",
   "metadata": {},
   "outputs": [],
   "source": [
    "to_roll_list = [' Close', 'Price_Change','Mean_Score', 'Percent_of_PosSent']\n",
    "roll_col = ['Close_roll', 'Price_Change_roll', 'Mean_Score_roll', 'Percent_of_PosSent_roll']\n",
    "\n",
    "for i in range(len(to_roll_list)):\n",
    "    forplot[roll_col[i]] = forplot[to_roll_list[i]].rolling(6, min_periods=1).mean()"
   ]
  },
  {
   "cell_type": "code",
   "execution_count": 43,
   "id": "835aa118",
   "metadata": {
    "scrolled": true
   },
   "outputs": [
    {
     "data": {
      "text/html": [
       "<div>\n",
       "<style scoped>\n",
       "    .dataframe tbody tr th:only-of-type {\n",
       "        vertical-align: middle;\n",
       "    }\n",
       "\n",
       "    .dataframe tbody tr th {\n",
       "        vertical-align: top;\n",
       "    }\n",
       "\n",
       "    .dataframe thead th {\n",
       "        text-align: right;\n",
       "    }\n",
       "</style>\n",
       "<table border=\"1\" class=\"dataframe\">\n",
       "  <thead>\n",
       "    <tr style=\"text-align: right;\">\n",
       "      <th></th>\n",
       "      <th>Price_Change</th>\n",
       "      <th>Percent_of_PosSent_roll</th>\n",
       "    </tr>\n",
       "  </thead>\n",
       "  <tbody>\n",
       "    <tr>\n",
       "      <th>Price_Change</th>\n",
       "      <td>1.000000</td>\n",
       "      <td>-0.052313</td>\n",
       "    </tr>\n",
       "    <tr>\n",
       "      <th>Percent_of_PosSent_roll</th>\n",
       "      <td>-0.052313</td>\n",
       "      <td>1.000000</td>\n",
       "    </tr>\n",
       "  </tbody>\n",
       "</table>\n",
       "</div>"
      ],
      "text/plain": [
       "                         Price_Change  Percent_of_PosSent_roll\n",
       "Price_Change                 1.000000                -0.052313\n",
       "Percent_of_PosSent_roll     -0.052313                 1.000000"
      ]
     },
     "execution_count": 43,
     "metadata": {},
     "output_type": "execute_result"
    }
   ],
   "source": [
    "forplot[['Price_Change', 'Percent_of_PosSent_roll']].corr()"
   ]
  },
  {
   "cell_type": "code",
   "execution_count": 44,
   "id": "329c51a5",
   "metadata": {},
   "outputs": [
    {
     "data": {
      "text/html": [
       "<div>\n",
       "<style scoped>\n",
       "    .dataframe tbody tr th:only-of-type {\n",
       "        vertical-align: middle;\n",
       "    }\n",
       "\n",
       "    .dataframe tbody tr th {\n",
       "        vertical-align: top;\n",
       "    }\n",
       "\n",
       "    .dataframe thead th {\n",
       "        text-align: right;\n",
       "    }\n",
       "</style>\n",
       "<table border=\"1\" class=\"dataframe\">\n",
       "  <thead>\n",
       "    <tr style=\"text-align: right;\">\n",
       "      <th></th>\n",
       "      <th>Price_Change</th>\n",
       "      <th>forward_roll</th>\n",
       "    </tr>\n",
       "  </thead>\n",
       "  <tbody>\n",
       "    <tr>\n",
       "      <th>Price_Change</th>\n",
       "      <td>1.000000</td>\n",
       "      <td>-0.041518</td>\n",
       "    </tr>\n",
       "    <tr>\n",
       "      <th>forward_roll</th>\n",
       "      <td>-0.041518</td>\n",
       "      <td>1.000000</td>\n",
       "    </tr>\n",
       "  </tbody>\n",
       "</table>\n",
       "</div>"
      ],
      "text/plain": [
       "              Price_Change  forward_roll\n",
       "Price_Change      1.000000     -0.041518\n",
       "forward_roll     -0.041518      1.000000"
      ]
     },
     "execution_count": 44,
     "metadata": {},
     "output_type": "execute_result"
    }
   ],
   "source": [
    "indexer = pd.api.indexers.FixedForwardWindowIndexer(window_size=3)\n",
    "forplot['forward_roll']=forplot['Percent_of_PosSent'].rolling(window=indexer, min_periods=1).mean()\n",
    "forplot[['Price_Change', 'forward_roll']].corr()"
   ]
  },
  {
   "cell_type": "code",
   "execution_count": 45,
   "id": "bd135f84",
   "metadata": {},
   "outputs": [
    {
     "data": {
      "text/plain": [
       "-0.041518120944601514"
      ]
     },
     "execution_count": 45,
     "metadata": {},
     "output_type": "execute_result"
    }
   ],
   "source": [
    "forplot[['Price_Change', 'forward_roll']].corr().iloc[0,1]"
   ]
  },
  {
   "cell_type": "code",
   "execution_count": 46,
   "id": "d5e57843",
   "metadata": {},
   "outputs": [
    {
     "name": "stdout",
     "output_type": "stream",
     "text": [
      "0 -0.05637773637058947\n",
      "1 -0.048896222864156014\n",
      "2 -0.042196048281025515\n",
      "3 -0.037137600618790546\n",
      "4 -0.04319221326858486\n",
      "5 -0.05231306353826276\n",
      "6 -0.05569116648779619\n",
      "7 -0.050482196509196824\n",
      "8 -0.041477790858417726\n",
      "9 -0.04065264439497579\n",
      "10 -0.03565885273141342\n",
      "11 -0.027263544863625335\n",
      "12 -0.02478148055803486\n",
      "13 -0.03315260012716575\n",
      "14 -0.03839468025764615\n",
      "15 -0.03492147344380059\n",
      "16 -0.03576595823097626\n",
      "17 -0.03972518851513273\n",
      "18 -0.04160054171649043\n"
     ]
    }
   ],
   "source": [
    "for i in range(1,20):\n",
    "    forplot['Percent_of_PosSent_roll']=forplot['Percent_of_PosSent'].rolling(i, min_periods=1).mean()\n",
    "    back = forplot[['Price_Change', 'Percent_of_PosSent_roll']].corr().iloc[0,1]\n",
    "    print(i-1, back)"
   ]
  },
  {
   "cell_type": "code",
   "execution_count": 47,
   "id": "a78fd2d5",
   "metadata": {},
   "outputs": [
    {
     "name": "stdout",
     "output_type": "stream",
     "text": [
      "0 -0.05637773637058947\n",
      "1 -0.045693547822893386\n",
      "2 -0.041518120944601514\n",
      "3 -0.02895105335849429\n",
      "4 -0.029837304109434186\n",
      "5 -0.03672061055530147\n",
      "6 -0.04098662296776161\n",
      "7 -0.03900263370225251\n",
      "8 -0.04088513162467848\n",
      "9 -0.040837883830970825\n",
      "10 -0.03682324559778428\n",
      "11 -0.039137818443709324\n",
      "12 -0.04537954720628512\n",
      "13 -0.046763077943449666\n",
      "14 -0.05118935275067958\n",
      "15 -0.04314856463534302\n",
      "16 -0.04102869433669232\n",
      "17 -0.03273367398353933\n",
      "18 -0.022328717458293103\n"
     ]
    }
   ],
   "source": [
    "for i in range(1,20):\n",
    "    indexer = pd.api.indexers.FixedForwardWindowIndexer(window_size=i)\n",
    "    forplot['forward_roll']= forplot['Percent_of_PosSent'].rolling(window=indexer, min_periods=1).mean()\n",
    "    forward = forplot[['Price_Change', 'forward_roll']].corr().iloc[0,1]\n",
    "    print(i-1, forward)\n",
    "    "
   ]
  },
  {
   "cell_type": "markdown",
   "id": "3fb7f608",
   "metadata": {},
   "source": [
    "# Feature Engineering for SVM and KNN tuning"
   ]
  },
  {
   "cell_type": "code",
   "execution_count": 48,
   "id": "92dc844d",
   "metadata": {
    "scrolled": false
   },
   "outputs": [],
   "source": [
    "FE_df = forplot.drop(columns=[' Open', ' High', ' Low', 'forward_roll', \n",
    "                         'Close_roll', 'Price_Change_roll', 'Percent_of_PosSent_roll'])"
   ]
  },
  {
   "cell_type": "code",
   "execution_count": 49,
   "id": "c1af4225",
   "metadata": {},
   "outputs": [
    {
     "data": {
      "text/html": [
       "<div>\n",
       "<style scoped>\n",
       "    .dataframe tbody tr th:only-of-type {\n",
       "        vertical-align: middle;\n",
       "    }\n",
       "\n",
       "    .dataframe tbody tr th {\n",
       "        vertical-align: top;\n",
       "    }\n",
       "\n",
       "    .dataframe thead th {\n",
       "        text-align: right;\n",
       "    }\n",
       "</style>\n",
       "<table border=\"1\" class=\"dataframe\">\n",
       "  <thead>\n",
       "    <tr style=\"text-align: right;\">\n",
       "      <th></th>\n",
       "      <th>Date</th>\n",
       "      <th>Close</th>\n",
       "      <th>Volume</th>\n",
       "      <th>Price_Change</th>\n",
       "      <th>Mean_Score</th>\n",
       "      <th>Percent_of_PosSent</th>\n",
       "      <th>Mean_Score_roll</th>\n",
       "    </tr>\n",
       "  </thead>\n",
       "  <tbody>\n",
       "    <tr>\n",
       "      <th>0</th>\n",
       "      <td>2019-01-02</td>\n",
       "      <td>1900.0</td>\n",
       "      <td>6610</td>\n",
       "      <td>-0.010417</td>\n",
       "      <td>-0.500000</td>\n",
       "      <td>0.0</td>\n",
       "      <td>-0.500000</td>\n",
       "    </tr>\n",
       "    <tr>\n",
       "      <th>1</th>\n",
       "      <td>2019-01-03</td>\n",
       "      <td>1889.0</td>\n",
       "      <td>28555</td>\n",
       "      <td>-0.005789</td>\n",
       "      <td>-0.500000</td>\n",
       "      <td>0.0</td>\n",
       "      <td>-0.500000</td>\n",
       "    </tr>\n",
       "    <tr>\n",
       "      <th>2</th>\n",
       "      <td>2019-01-04</td>\n",
       "      <td>1872.0</td>\n",
       "      <td>13870</td>\n",
       "      <td>-0.006897</td>\n",
       "      <td>-0.500000</td>\n",
       "      <td>0.0</td>\n",
       "      <td>-0.500000</td>\n",
       "    </tr>\n",
       "    <tr>\n",
       "      <th>3</th>\n",
       "      <td>2019-01-07</td>\n",
       "      <td>1860.0</td>\n",
       "      <td>26780</td>\n",
       "      <td>-0.006941</td>\n",
       "      <td>-0.500000</td>\n",
       "      <td>0.0</td>\n",
       "      <td>-0.500000</td>\n",
       "    </tr>\n",
       "    <tr>\n",
       "      <th>4</th>\n",
       "      <td>2019-01-08</td>\n",
       "      <td>1860.0</td>\n",
       "      <td>30960</td>\n",
       "      <td>-0.010638</td>\n",
       "      <td>-0.500000</td>\n",
       "      <td>0.0</td>\n",
       "      <td>-0.500000</td>\n",
       "    </tr>\n",
       "    <tr>\n",
       "      <th>...</th>\n",
       "      <td>...</td>\n",
       "      <td>...</td>\n",
       "      <td>...</td>\n",
       "      <td>...</td>\n",
       "      <td>...</td>\n",
       "      <td>...</td>\n",
       "      <td>...</td>\n",
       "    </tr>\n",
       "    <tr>\n",
       "      <th>613</th>\n",
       "      <td>2021-07-12</td>\n",
       "      <td>1983.0</td>\n",
       "      <td>95555</td>\n",
       "      <td>0.009160</td>\n",
       "      <td>0.377778</td>\n",
       "      <td>1.0</td>\n",
       "      <td>0.154051</td>\n",
       "    </tr>\n",
       "    <tr>\n",
       "      <th>614</th>\n",
       "      <td>2021-07-13</td>\n",
       "      <td>1979.0</td>\n",
       "      <td>83865</td>\n",
       "      <td>0.000506</td>\n",
       "      <td>0.136025</td>\n",
       "      <td>0.5</td>\n",
       "      <td>0.181930</td>\n",
       "    </tr>\n",
       "    <tr>\n",
       "      <th>615</th>\n",
       "      <td>2021-07-14</td>\n",
       "      <td>1974.0</td>\n",
       "      <td>36060</td>\n",
       "      <td>-0.001012</td>\n",
       "      <td>0.136025</td>\n",
       "      <td>0.5</td>\n",
       "      <td>0.297194</td>\n",
       "    </tr>\n",
       "    <tr>\n",
       "      <th>616</th>\n",
       "      <td>2021-07-15</td>\n",
       "      <td>1933.0</td>\n",
       "      <td>45870</td>\n",
       "      <td>-0.020770</td>\n",
       "      <td>0.136025</td>\n",
       "      <td>0.5</td>\n",
       "      <td>0.256902</td>\n",
       "    </tr>\n",
       "    <tr>\n",
       "      <th>617</th>\n",
       "      <td>2021-07-16</td>\n",
       "      <td>1941.0</td>\n",
       "      <td>45340</td>\n",
       "      <td>-0.004615</td>\n",
       "      <td>0.136025</td>\n",
       "      <td>0.5</td>\n",
       "      <td>0.216610</td>\n",
       "    </tr>\n",
       "  </tbody>\n",
       "</table>\n",
       "<p>618 rows × 7 columns</p>\n",
       "</div>"
      ],
      "text/plain": [
       "          Date   Close   Volume  Price_Change  Mean_Score  Percent_of_PosSent  \\\n",
       "0   2019-01-02  1900.0     6610     -0.010417   -0.500000                 0.0   \n",
       "1   2019-01-03  1889.0    28555     -0.005789   -0.500000                 0.0   \n",
       "2   2019-01-04  1872.0    13870     -0.006897   -0.500000                 0.0   \n",
       "3   2019-01-07  1860.0    26780     -0.006941   -0.500000                 0.0   \n",
       "4   2019-01-08  1860.0    30960     -0.010638   -0.500000                 0.0   \n",
       "..         ...     ...      ...           ...         ...                 ...   \n",
       "613 2021-07-12  1983.0    95555      0.009160    0.377778                 1.0   \n",
       "614 2021-07-13  1979.0    83865      0.000506    0.136025                 0.5   \n",
       "615 2021-07-14  1974.0    36060     -0.001012    0.136025                 0.5   \n",
       "616 2021-07-15  1933.0    45870     -0.020770    0.136025                 0.5   \n",
       "617 2021-07-16  1941.0    45340     -0.004615    0.136025                 0.5   \n",
       "\n",
       "     Mean_Score_roll  \n",
       "0          -0.500000  \n",
       "1          -0.500000  \n",
       "2          -0.500000  \n",
       "3          -0.500000  \n",
       "4          -0.500000  \n",
       "..               ...  \n",
       "613         0.154051  \n",
       "614         0.181930  \n",
       "615         0.297194  \n",
       "616         0.256902  \n",
       "617         0.216610  \n",
       "\n",
       "[618 rows x 7 columns]"
      ]
     },
     "execution_count": 49,
     "metadata": {},
     "output_type": "execute_result"
    }
   ],
   "source": [
    "FE_df"
   ]
  },
  {
   "cell_type": "code",
   "execution_count": 50,
   "id": "48fb0372",
   "metadata": {},
   "outputs": [],
   "source": [
    "FE_df['Stock_T5'] = FE_df[' Close'].shift(periods=-5).ffill()"
   ]
  },
  {
   "cell_type": "code",
   "execution_count": 51,
   "id": "7928f5b1",
   "metadata": {},
   "outputs": [
    {
     "data": {
      "text/html": [
       "<div>\n",
       "<style scoped>\n",
       "    .dataframe tbody tr th:only-of-type {\n",
       "        vertical-align: middle;\n",
       "    }\n",
       "\n",
       "    .dataframe tbody tr th {\n",
       "        vertical-align: top;\n",
       "    }\n",
       "\n",
       "    .dataframe thead th {\n",
       "        text-align: right;\n",
       "    }\n",
       "</style>\n",
       "<table border=\"1\" class=\"dataframe\">\n",
       "  <thead>\n",
       "    <tr style=\"text-align: right;\">\n",
       "      <th></th>\n",
       "      <th>Close</th>\n",
       "      <th>Stock_T5</th>\n",
       "    </tr>\n",
       "  </thead>\n",
       "  <tbody>\n",
       "    <tr>\n",
       "      <th>0</th>\n",
       "      <td>1900.0</td>\n",
       "      <td>1930.0</td>\n",
       "    </tr>\n",
       "    <tr>\n",
       "      <th>1</th>\n",
       "      <td>1889.0</td>\n",
       "      <td>2020.0</td>\n",
       "    </tr>\n",
       "    <tr>\n",
       "      <th>2</th>\n",
       "      <td>1872.0</td>\n",
       "      <td>2016.0</td>\n",
       "    </tr>\n",
       "    <tr>\n",
       "      <th>3</th>\n",
       "      <td>1860.0</td>\n",
       "      <td>2060.0</td>\n",
       "    </tr>\n",
       "    <tr>\n",
       "      <th>4</th>\n",
       "      <td>1860.0</td>\n",
       "      <td>2086.0</td>\n",
       "    </tr>\n",
       "    <tr>\n",
       "      <th>5</th>\n",
       "      <td>1930.0</td>\n",
       "      <td>2038.0</td>\n",
       "    </tr>\n",
       "    <tr>\n",
       "      <th>6</th>\n",
       "      <td>2020.0</td>\n",
       "      <td>2080.0</td>\n",
       "    </tr>\n",
       "    <tr>\n",
       "      <th>7</th>\n",
       "      <td>2016.0</td>\n",
       "      <td>2092.0</td>\n",
       "    </tr>\n",
       "    <tr>\n",
       "      <th>8</th>\n",
       "      <td>2060.0</td>\n",
       "      <td>2080.0</td>\n",
       "    </tr>\n",
       "    <tr>\n",
       "      <th>9</th>\n",
       "      <td>2086.0</td>\n",
       "      <td>2094.0</td>\n",
       "    </tr>\n",
       "  </tbody>\n",
       "</table>\n",
       "</div>"
      ],
      "text/plain": [
       "    Close  Stock_T5\n",
       "0  1900.0    1930.0\n",
       "1  1889.0    2020.0\n",
       "2  1872.0    2016.0\n",
       "3  1860.0    2060.0\n",
       "4  1860.0    2086.0\n",
       "5  1930.0    2038.0\n",
       "6  2020.0    2080.0\n",
       "7  2016.0    2092.0\n",
       "8  2060.0    2080.0\n",
       "9  2086.0    2094.0"
      ]
     },
     "execution_count": 51,
     "metadata": {},
     "output_type": "execute_result"
    }
   ],
   "source": [
    "FE_df[[' Close', 'Stock_T5']].head(10)"
   ]
  },
  {
   "cell_type": "code",
   "execution_count": 52,
   "id": "d1e70843",
   "metadata": {},
   "outputs": [],
   "source": [
    "move = [] \n",
    "for i in range(len(FE_df)):\n",
    "    GL = (FE_df['Stock_T5'][i]-FE_df[' Close'][i])/FE_df['Stock_T5'][i]\n",
    "    if GL > 0.01:\n",
    "        move.append('Up')\n",
    "    elif GL < -0.01:\n",
    "        move.append('Down')\n",
    "    else:\n",
    "        move.append('Stay')\n",
    "        \n",
    "FE_df['Movement'] = move"
   ]
  },
  {
   "cell_type": "code",
   "execution_count": 53,
   "id": "0a5fc8dc",
   "metadata": {},
   "outputs": [
    {
     "data": {
      "text/html": [
       "<div>\n",
       "<style scoped>\n",
       "    .dataframe tbody tr th:only-of-type {\n",
       "        vertical-align: middle;\n",
       "    }\n",
       "\n",
       "    .dataframe tbody tr th {\n",
       "        vertical-align: top;\n",
       "    }\n",
       "\n",
       "    .dataframe thead th {\n",
       "        text-align: right;\n",
       "    }\n",
       "</style>\n",
       "<table border=\"1\" class=\"dataframe\">\n",
       "  <thead>\n",
       "    <tr style=\"text-align: right;\">\n",
       "      <th></th>\n",
       "      <th>Date</th>\n",
       "      <th>Close</th>\n",
       "      <th>Stock_T5</th>\n",
       "    </tr>\n",
       "  </thead>\n",
       "  <tbody>\n",
       "    <tr>\n",
       "      <th>0</th>\n",
       "      <td>2019-01-02</td>\n",
       "      <td>1900.0</td>\n",
       "      <td>1930.0</td>\n",
       "    </tr>\n",
       "    <tr>\n",
       "      <th>1</th>\n",
       "      <td>2019-01-03</td>\n",
       "      <td>1889.0</td>\n",
       "      <td>2020.0</td>\n",
       "    </tr>\n",
       "    <tr>\n",
       "      <th>2</th>\n",
       "      <td>2019-01-04</td>\n",
       "      <td>1872.0</td>\n",
       "      <td>2016.0</td>\n",
       "    </tr>\n",
       "    <tr>\n",
       "      <th>3</th>\n",
       "      <td>2019-01-07</td>\n",
       "      <td>1860.0</td>\n",
       "      <td>2060.0</td>\n",
       "    </tr>\n",
       "    <tr>\n",
       "      <th>4</th>\n",
       "      <td>2019-01-08</td>\n",
       "      <td>1860.0</td>\n",
       "      <td>2086.0</td>\n",
       "    </tr>\n",
       "    <tr>\n",
       "      <th>5</th>\n",
       "      <td>2019-01-09</td>\n",
       "      <td>1930.0</td>\n",
       "      <td>2038.0</td>\n",
       "    </tr>\n",
       "    <tr>\n",
       "      <th>6</th>\n",
       "      <td>2019-01-10</td>\n",
       "      <td>2020.0</td>\n",
       "      <td>2080.0</td>\n",
       "    </tr>\n",
       "    <tr>\n",
       "      <th>7</th>\n",
       "      <td>2019-01-11</td>\n",
       "      <td>2016.0</td>\n",
       "      <td>2092.0</td>\n",
       "    </tr>\n",
       "    <tr>\n",
       "      <th>8</th>\n",
       "      <td>2019-01-14</td>\n",
       "      <td>2060.0</td>\n",
       "      <td>2080.0</td>\n",
       "    </tr>\n",
       "    <tr>\n",
       "      <th>9</th>\n",
       "      <td>2019-01-15</td>\n",
       "      <td>2086.0</td>\n",
       "      <td>2094.0</td>\n",
       "    </tr>\n",
       "  </tbody>\n",
       "</table>\n",
       "</div>"
      ],
      "text/plain": [
       "        Date   Close  Stock_T5\n",
       "0 2019-01-02  1900.0    1930.0\n",
       "1 2019-01-03  1889.0    2020.0\n",
       "2 2019-01-04  1872.0    2016.0\n",
       "3 2019-01-07  1860.0    2060.0\n",
       "4 2019-01-08  1860.0    2086.0\n",
       "5 2019-01-09  1930.0    2038.0\n",
       "6 2019-01-10  2020.0    2080.0\n",
       "7 2019-01-11  2016.0    2092.0\n",
       "8 2019-01-14  2060.0    2080.0\n",
       "9 2019-01-15  2086.0    2094.0"
      ]
     },
     "execution_count": 53,
     "metadata": {},
     "output_type": "execute_result"
    }
   ],
   "source": [
    "FE_df[['Date', ' Close', 'Stock_T5']][:10]"
   ]
  },
  {
   "cell_type": "code",
   "execution_count": null,
   "id": "d3a56d05",
   "metadata": {},
   "outputs": [],
   "source": []
  },
  {
   "cell_type": "markdown",
   "id": "81b7dedb",
   "metadata": {},
   "source": [
    "## Feature Engineering with PSEI prices "
   ]
  },
  {
   "cell_type": "code",
   "execution_count": 54,
   "id": "ead02fae",
   "metadata": {},
   "outputs": [],
   "source": [
    "PSEI_prices = pd.read_csv(\"HistoricalPrices.csv\")"
   ]
  },
  {
   "cell_type": "code",
   "execution_count": 55,
   "id": "21c3b0ab",
   "metadata": {},
   "outputs": [
    {
     "data": {
      "text/plain": [
       "['Date', ' Open', ' High', ' Low', ' Close']"
      ]
     },
     "execution_count": 55,
     "metadata": {},
     "output_type": "execute_result"
    }
   ],
   "source": [
    "list(PSEI_prices.columns)"
   ]
  },
  {
   "cell_type": "code",
   "execution_count": 56,
   "id": "80443fb9",
   "metadata": {},
   "outputs": [],
   "source": [
    "#Normalized Stock Price Change = stock_delta_price - psei_delta_price"
   ]
  },
  {
   "cell_type": "code",
   "execution_count": 57,
   "id": "f2aa5b69",
   "metadata": {},
   "outputs": [
    {
     "data": {
      "text/html": [
       "<div>\n",
       "<style scoped>\n",
       "    .dataframe tbody tr th:only-of-type {\n",
       "        vertical-align: middle;\n",
       "    }\n",
       "\n",
       "    .dataframe tbody tr th {\n",
       "        vertical-align: top;\n",
       "    }\n",
       "\n",
       "    .dataframe thead th {\n",
       "        text-align: right;\n",
       "    }\n",
       "</style>\n",
       "<table border=\"1\" class=\"dataframe\">\n",
       "  <thead>\n",
       "    <tr style=\"text-align: right;\">\n",
       "      <th></th>\n",
       "      <th>Date</th>\n",
       "      <th>Open</th>\n",
       "      <th>High</th>\n",
       "      <th>Low</th>\n",
       "      <th>Close</th>\n",
       "    </tr>\n",
       "  </thead>\n",
       "  <tbody>\n",
       "    <tr>\n",
       "      <th>0</th>\n",
       "      <td>07/23/21</td>\n",
       "      <td>6600.88</td>\n",
       "      <td>6611.31</td>\n",
       "      <td>6461.75</td>\n",
       "      <td>6520.74</td>\n",
       "    </tr>\n",
       "    <tr>\n",
       "      <th>1</th>\n",
       "      <td>07/22/21</td>\n",
       "      <td>6496.97</td>\n",
       "      <td>6586.01</td>\n",
       "      <td>6496.97</td>\n",
       "      <td>6576.62</td>\n",
       "    </tr>\n",
       "    <tr>\n",
       "      <th>2</th>\n",
       "      <td>07/21/21</td>\n",
       "      <td>6611.67</td>\n",
       "      <td>6611.67</td>\n",
       "      <td>6451.12</td>\n",
       "      <td>6476.21</td>\n",
       "    </tr>\n",
       "    <tr>\n",
       "      <th>3</th>\n",
       "      <td>07/19/21</td>\n",
       "      <td>6665.54</td>\n",
       "      <td>6665.54</td>\n",
       "      <td>6510.43</td>\n",
       "      <td>6587.20</td>\n",
       "    </tr>\n",
       "    <tr>\n",
       "      <th>4</th>\n",
       "      <td>07/16/21</td>\n",
       "      <td>6743.78</td>\n",
       "      <td>6783.91</td>\n",
       "      <td>6653.53</td>\n",
       "      <td>6693.83</td>\n",
       "    </tr>\n",
       "    <tr>\n",
       "      <th>...</th>\n",
       "      <td>...</td>\n",
       "      <td>...</td>\n",
       "      <td>...</td>\n",
       "      <td>...</td>\n",
       "      <td>...</td>\n",
       "    </tr>\n",
       "    <tr>\n",
       "      <th>617</th>\n",
       "      <td>01/08/19</td>\n",
       "      <td>7820.26</td>\n",
       "      <td>7826.08</td>\n",
       "      <td>7702.12</td>\n",
       "      <td>7702.12</td>\n",
       "    </tr>\n",
       "    <tr>\n",
       "      <th>618</th>\n",
       "      <td>01/07/19</td>\n",
       "      <td>7800.88</td>\n",
       "      <td>7900.70</td>\n",
       "      <td>7787.66</td>\n",
       "      <td>7787.66</td>\n",
       "    </tr>\n",
       "    <tr>\n",
       "      <th>619</th>\n",
       "      <td>01/04/19</td>\n",
       "      <td>7657.18</td>\n",
       "      <td>7801.50</td>\n",
       "      <td>7657.18</td>\n",
       "      <td>7761.11</td>\n",
       "    </tr>\n",
       "    <tr>\n",
       "      <th>620</th>\n",
       "      <td>01/03/19</td>\n",
       "      <td>7507.48</td>\n",
       "      <td>7680.60</td>\n",
       "      <td>7490.28</td>\n",
       "      <td>7680.60</td>\n",
       "    </tr>\n",
       "    <tr>\n",
       "      <th>621</th>\n",
       "      <td>01/02/19</td>\n",
       "      <td>7496.57</td>\n",
       "      <td>7540.26</td>\n",
       "      <td>7465.76</td>\n",
       "      <td>7489.20</td>\n",
       "    </tr>\n",
       "  </tbody>\n",
       "</table>\n",
       "<p>622 rows × 5 columns</p>\n",
       "</div>"
      ],
      "text/plain": [
       "         Date     Open     High      Low    Close\n",
       "0    07/23/21  6600.88  6611.31  6461.75  6520.74\n",
       "1    07/22/21  6496.97  6586.01  6496.97  6576.62\n",
       "2    07/21/21  6611.67  6611.67  6451.12  6476.21\n",
       "3    07/19/21  6665.54  6665.54  6510.43  6587.20\n",
       "4    07/16/21  6743.78  6783.91  6653.53  6693.83\n",
       "..        ...      ...      ...      ...      ...\n",
       "617  01/08/19  7820.26  7826.08  7702.12  7702.12\n",
       "618  01/07/19  7800.88  7900.70  7787.66  7787.66\n",
       "619  01/04/19  7657.18  7801.50  7657.18  7761.11\n",
       "620  01/03/19  7507.48  7680.60  7490.28  7680.60\n",
       "621  01/02/19  7496.57  7540.26  7465.76  7489.20\n",
       "\n",
       "[622 rows x 5 columns]"
      ]
     },
     "execution_count": 57,
     "metadata": {},
     "output_type": "execute_result"
    }
   ],
   "source": [
    "PSEI_prices"
   ]
  },
  {
   "cell_type": "code",
   "execution_count": 58,
   "id": "ac35b02c",
   "metadata": {},
   "outputs": [],
   "source": [
    "PSEI_prices['PSEI_T5'] = PSEI_prices[' Close'].shift(periods=-5).ffill()"
   ]
  },
  {
   "cell_type": "code",
   "execution_count": 59,
   "id": "76c8571d",
   "metadata": {},
   "outputs": [
    {
     "name": "stderr",
     "output_type": "stream",
     "text": [
      "/Users/nillethmaeannvpontino/opt/anaconda3/lib/python3.7/site-packages/pandas/core/frame.py:5042: SettingWithCopyWarning: \n",
      "A value is trying to be set on a copy of a slice from a DataFrame\n",
      "\n",
      "See the caveats in the documentation: https://pandas.pydata.org/pandas-docs/stable/user_guide/indexing.html#returning-a-view-versus-a-copy\n",
      "  errors=errors,\n",
      "/Users/nillethmaeannvpontino/opt/anaconda3/lib/python3.7/site-packages/pandas/core/frame.py:3607: SettingWithCopyWarning: \n",
      "A value is trying to be set on a copy of a slice from a DataFrame.\n",
      "Try using .loc[row_indexer,col_indexer] = value instead\n",
      "\n",
      "See the caveats in the documentation: https://pandas.pydata.org/pandas-docs/stable/user_guide/indexing.html#returning-a-view-versus-a-copy\n",
      "  self._set_item(key, value)\n"
     ]
    }
   ],
   "source": [
    "PSEI_prices = PSEI_prices[['Date', ' Close', 'PSEI_T5']]\n",
    "PSEI_prices.rename(columns={' Close': 'PSEI_Close'}, inplace=True)\n",
    "PSEI_prices['Date'] = pd.to_datetime(PSEI_prices['Date'])"
   ]
  },
  {
   "cell_type": "code",
   "execution_count": 60,
   "id": "831f6019",
   "metadata": {},
   "outputs": [
    {
     "data": {
      "text/html": [
       "<div>\n",
       "<style scoped>\n",
       "    .dataframe tbody tr th:only-of-type {\n",
       "        vertical-align: middle;\n",
       "    }\n",
       "\n",
       "    .dataframe tbody tr th {\n",
       "        vertical-align: top;\n",
       "    }\n",
       "\n",
       "    .dataframe thead th {\n",
       "        text-align: right;\n",
       "    }\n",
       "</style>\n",
       "<table border=\"1\" class=\"dataframe\">\n",
       "  <thead>\n",
       "    <tr style=\"text-align: right;\">\n",
       "      <th></th>\n",
       "      <th>Date</th>\n",
       "      <th>PSEI_Close</th>\n",
       "      <th>PSEI_T5</th>\n",
       "    </tr>\n",
       "  </thead>\n",
       "  <tbody>\n",
       "    <tr>\n",
       "      <th>0</th>\n",
       "      <td>2021-07-23</td>\n",
       "      <td>6520.74</td>\n",
       "      <td>6727.93</td>\n",
       "    </tr>\n",
       "    <tr>\n",
       "      <th>1</th>\n",
       "      <td>2021-07-22</td>\n",
       "      <td>6576.62</td>\n",
       "      <td>6835.41</td>\n",
       "    </tr>\n",
       "    <tr>\n",
       "      <th>2</th>\n",
       "      <td>2021-07-21</td>\n",
       "      <td>6476.21</td>\n",
       "      <td>6795.13</td>\n",
       "    </tr>\n",
       "    <tr>\n",
       "      <th>3</th>\n",
       "      <td>2021-07-19</td>\n",
       "      <td>6587.20</td>\n",
       "      <td>6913.87</td>\n",
       "    </tr>\n",
       "    <tr>\n",
       "      <th>4</th>\n",
       "      <td>2021-07-16</td>\n",
       "      <td>6693.83</td>\n",
       "      <td>6834.92</td>\n",
       "    </tr>\n",
       "    <tr>\n",
       "      <th>...</th>\n",
       "      <td>...</td>\n",
       "      <td>...</td>\n",
       "      <td>...</td>\n",
       "    </tr>\n",
       "    <tr>\n",
       "      <th>617</th>\n",
       "      <td>2019-01-08</td>\n",
       "      <td>7702.12</td>\n",
       "      <td>7489.20</td>\n",
       "    </tr>\n",
       "    <tr>\n",
       "      <th>618</th>\n",
       "      <td>2019-01-07</td>\n",
       "      <td>7787.66</td>\n",
       "      <td>7489.20</td>\n",
       "    </tr>\n",
       "    <tr>\n",
       "      <th>619</th>\n",
       "      <td>2019-01-04</td>\n",
       "      <td>7761.11</td>\n",
       "      <td>7489.20</td>\n",
       "    </tr>\n",
       "    <tr>\n",
       "      <th>620</th>\n",
       "      <td>2019-01-03</td>\n",
       "      <td>7680.60</td>\n",
       "      <td>7489.20</td>\n",
       "    </tr>\n",
       "    <tr>\n",
       "      <th>621</th>\n",
       "      <td>2019-01-02</td>\n",
       "      <td>7489.20</td>\n",
       "      <td>7489.20</td>\n",
       "    </tr>\n",
       "  </tbody>\n",
       "</table>\n",
       "<p>622 rows × 3 columns</p>\n",
       "</div>"
      ],
      "text/plain": [
       "          Date  PSEI_Close  PSEI_T5\n",
       "0   2021-07-23     6520.74  6727.93\n",
       "1   2021-07-22     6576.62  6835.41\n",
       "2   2021-07-21     6476.21  6795.13\n",
       "3   2021-07-19     6587.20  6913.87\n",
       "4   2021-07-16     6693.83  6834.92\n",
       "..         ...         ...      ...\n",
       "617 2019-01-08     7702.12  7489.20\n",
       "618 2019-01-07     7787.66  7489.20\n",
       "619 2019-01-04     7761.11  7489.20\n",
       "620 2019-01-03     7680.60  7489.20\n",
       "621 2019-01-02     7489.20  7489.20\n",
       "\n",
       "[622 rows x 3 columns]"
      ]
     },
     "execution_count": 60,
     "metadata": {},
     "output_type": "execute_result"
    }
   ],
   "source": [
    "PSEI_prices"
   ]
  },
  {
   "cell_type": "code",
   "execution_count": 61,
   "id": "84ee90e1",
   "metadata": {
    "scrolled": true
   },
   "outputs": [],
   "source": [
    "FE_df = FE_df.merge(PSEI_prices, how='left', on='Date')"
   ]
  },
  {
   "cell_type": "code",
   "execution_count": 62,
   "id": "0d348390",
   "metadata": {},
   "outputs": [
    {
     "data": {
      "text/html": [
       "<div>\n",
       "<style scoped>\n",
       "    .dataframe tbody tr th:only-of-type {\n",
       "        vertical-align: middle;\n",
       "    }\n",
       "\n",
       "    .dataframe tbody tr th {\n",
       "        vertical-align: top;\n",
       "    }\n",
       "\n",
       "    .dataframe thead th {\n",
       "        text-align: right;\n",
       "    }\n",
       "</style>\n",
       "<table border=\"1\" class=\"dataframe\">\n",
       "  <thead>\n",
       "    <tr style=\"text-align: right;\">\n",
       "      <th></th>\n",
       "      <th>Date</th>\n",
       "      <th>Close</th>\n",
       "      <th>Volume</th>\n",
       "      <th>Price_Change</th>\n",
       "      <th>Mean_Score</th>\n",
       "      <th>Percent_of_PosSent</th>\n",
       "      <th>Mean_Score_roll</th>\n",
       "      <th>Stock_T5</th>\n",
       "      <th>Movement</th>\n",
       "      <th>PSEI_Close</th>\n",
       "      <th>PSEI_T5</th>\n",
       "    </tr>\n",
       "  </thead>\n",
       "  <tbody>\n",
       "    <tr>\n",
       "      <th>0</th>\n",
       "      <td>2019-01-02</td>\n",
       "      <td>1900.0</td>\n",
       "      <td>6610</td>\n",
       "      <td>-0.010417</td>\n",
       "      <td>-0.500000</td>\n",
       "      <td>0.0</td>\n",
       "      <td>-0.500000</td>\n",
       "      <td>1930.0</td>\n",
       "      <td>Up</td>\n",
       "      <td>7489.20</td>\n",
       "      <td>7489.20</td>\n",
       "    </tr>\n",
       "    <tr>\n",
       "      <th>1</th>\n",
       "      <td>2019-01-03</td>\n",
       "      <td>1889.0</td>\n",
       "      <td>28555</td>\n",
       "      <td>-0.005789</td>\n",
       "      <td>-0.500000</td>\n",
       "      <td>0.0</td>\n",
       "      <td>-0.500000</td>\n",
       "      <td>2020.0</td>\n",
       "      <td>Up</td>\n",
       "      <td>7680.60</td>\n",
       "      <td>7489.20</td>\n",
       "    </tr>\n",
       "    <tr>\n",
       "      <th>2</th>\n",
       "      <td>2019-01-04</td>\n",
       "      <td>1872.0</td>\n",
       "      <td>13870</td>\n",
       "      <td>-0.006897</td>\n",
       "      <td>-0.500000</td>\n",
       "      <td>0.0</td>\n",
       "      <td>-0.500000</td>\n",
       "      <td>2016.0</td>\n",
       "      <td>Up</td>\n",
       "      <td>7761.11</td>\n",
       "      <td>7489.20</td>\n",
       "    </tr>\n",
       "    <tr>\n",
       "      <th>3</th>\n",
       "      <td>2019-01-07</td>\n",
       "      <td>1860.0</td>\n",
       "      <td>26780</td>\n",
       "      <td>-0.006941</td>\n",
       "      <td>-0.500000</td>\n",
       "      <td>0.0</td>\n",
       "      <td>-0.500000</td>\n",
       "      <td>2060.0</td>\n",
       "      <td>Up</td>\n",
       "      <td>7787.66</td>\n",
       "      <td>7489.20</td>\n",
       "    </tr>\n",
       "    <tr>\n",
       "      <th>4</th>\n",
       "      <td>2019-01-08</td>\n",
       "      <td>1860.0</td>\n",
       "      <td>30960</td>\n",
       "      <td>-0.010638</td>\n",
       "      <td>-0.500000</td>\n",
       "      <td>0.0</td>\n",
       "      <td>-0.500000</td>\n",
       "      <td>2086.0</td>\n",
       "      <td>Up</td>\n",
       "      <td>7702.12</td>\n",
       "      <td>7489.20</td>\n",
       "    </tr>\n",
       "    <tr>\n",
       "      <th>...</th>\n",
       "      <td>...</td>\n",
       "      <td>...</td>\n",
       "      <td>...</td>\n",
       "      <td>...</td>\n",
       "      <td>...</td>\n",
       "      <td>...</td>\n",
       "      <td>...</td>\n",
       "      <td>...</td>\n",
       "      <td>...</td>\n",
       "      <td>...</td>\n",
       "      <td>...</td>\n",
       "    </tr>\n",
       "    <tr>\n",
       "      <th>613</th>\n",
       "      <td>2021-07-12</td>\n",
       "      <td>1983.0</td>\n",
       "      <td>95555</td>\n",
       "      <td>0.009160</td>\n",
       "      <td>0.377778</td>\n",
       "      <td>1.0</td>\n",
       "      <td>0.154051</td>\n",
       "      <td>1941.0</td>\n",
       "      <td>Down</td>\n",
       "      <td>6913.87</td>\n",
       "      <td>7036.38</td>\n",
       "    </tr>\n",
       "    <tr>\n",
       "      <th>614</th>\n",
       "      <td>2021-07-13</td>\n",
       "      <td>1979.0</td>\n",
       "      <td>83865</td>\n",
       "      <td>0.000506</td>\n",
       "      <td>0.136025</td>\n",
       "      <td>0.5</td>\n",
       "      <td>0.181930</td>\n",
       "      <td>1941.0</td>\n",
       "      <td>Down</td>\n",
       "      <td>6795.13</td>\n",
       "      <td>6992.43</td>\n",
       "    </tr>\n",
       "    <tr>\n",
       "      <th>615</th>\n",
       "      <td>2021-07-14</td>\n",
       "      <td>1974.0</td>\n",
       "      <td>36060</td>\n",
       "      <td>-0.001012</td>\n",
       "      <td>0.136025</td>\n",
       "      <td>0.5</td>\n",
       "      <td>0.297194</td>\n",
       "      <td>1941.0</td>\n",
       "      <td>Down</td>\n",
       "      <td>6835.41</td>\n",
       "      <td>6943.00</td>\n",
       "    </tr>\n",
       "    <tr>\n",
       "      <th>616</th>\n",
       "      <td>2021-07-15</td>\n",
       "      <td>1933.0</td>\n",
       "      <td>45870</td>\n",
       "      <td>-0.020770</td>\n",
       "      <td>0.136025</td>\n",
       "      <td>0.5</td>\n",
       "      <td>0.256902</td>\n",
       "      <td>1941.0</td>\n",
       "      <td>Stay</td>\n",
       "      <td>6727.93</td>\n",
       "      <td>6924.99</td>\n",
       "    </tr>\n",
       "    <tr>\n",
       "      <th>617</th>\n",
       "      <td>2021-07-16</td>\n",
       "      <td>1941.0</td>\n",
       "      <td>45340</td>\n",
       "      <td>-0.004615</td>\n",
       "      <td>0.136025</td>\n",
       "      <td>0.5</td>\n",
       "      <td>0.216610</td>\n",
       "      <td>1941.0</td>\n",
       "      <td>Stay</td>\n",
       "      <td>6693.83</td>\n",
       "      <td>6834.92</td>\n",
       "    </tr>\n",
       "  </tbody>\n",
       "</table>\n",
       "<p>618 rows × 11 columns</p>\n",
       "</div>"
      ],
      "text/plain": [
       "          Date   Close   Volume  Price_Change  Mean_Score  Percent_of_PosSent  \\\n",
       "0   2019-01-02  1900.0     6610     -0.010417   -0.500000                 0.0   \n",
       "1   2019-01-03  1889.0    28555     -0.005789   -0.500000                 0.0   \n",
       "2   2019-01-04  1872.0    13870     -0.006897   -0.500000                 0.0   \n",
       "3   2019-01-07  1860.0    26780     -0.006941   -0.500000                 0.0   \n",
       "4   2019-01-08  1860.0    30960     -0.010638   -0.500000                 0.0   \n",
       "..         ...     ...      ...           ...         ...                 ...   \n",
       "613 2021-07-12  1983.0    95555      0.009160    0.377778                 1.0   \n",
       "614 2021-07-13  1979.0    83865      0.000506    0.136025                 0.5   \n",
       "615 2021-07-14  1974.0    36060     -0.001012    0.136025                 0.5   \n",
       "616 2021-07-15  1933.0    45870     -0.020770    0.136025                 0.5   \n",
       "617 2021-07-16  1941.0    45340     -0.004615    0.136025                 0.5   \n",
       "\n",
       "     Mean_Score_roll  Stock_T5 Movement  PSEI_Close  PSEI_T5  \n",
       "0          -0.500000    1930.0       Up     7489.20  7489.20  \n",
       "1          -0.500000    2020.0       Up     7680.60  7489.20  \n",
       "2          -0.500000    2016.0       Up     7761.11  7489.20  \n",
       "3          -0.500000    2060.0       Up     7787.66  7489.20  \n",
       "4          -0.500000    2086.0       Up     7702.12  7489.20  \n",
       "..               ...       ...      ...         ...      ...  \n",
       "613         0.154051    1941.0     Down     6913.87  7036.38  \n",
       "614         0.181930    1941.0     Down     6795.13  6992.43  \n",
       "615         0.297194    1941.0     Down     6835.41  6943.00  \n",
       "616         0.256902    1941.0     Stay     6727.93  6924.99  \n",
       "617         0.216610    1941.0     Stay     6693.83  6834.92  \n",
       "\n",
       "[618 rows x 11 columns]"
      ]
     },
     "execution_count": 62,
     "metadata": {},
     "output_type": "execute_result"
    }
   ],
   "source": [
    "FE_df"
   ]
  },
  {
   "cell_type": "code",
   "execution_count": null,
   "id": "2f7527fd",
   "metadata": {},
   "outputs": [],
   "source": []
  },
  {
   "cell_type": "code",
   "execution_count": 63,
   "id": "9d626e3a",
   "metadata": {},
   "outputs": [],
   "source": [
    "normalized_move = []\n",
    "normalized_change = []\n",
    "\n",
    "for i in range(len(FE_df)):\n",
    "    GL_Stock = (FE_df['Stock_T5'][i]-FE_df[' Close'][i])/FE_df['Stock_T5'][i]\n",
    "    GL_PSEI = (FE_df['PSEI_T5'][i]-FE_df['PSEI_Close'][i])/FE_df['PSEI_T5'][i]\n",
    "    \n",
    "    normalized = GL_Stock - GL_PSEI\n",
    "    normalized_change.append(normalized)\n",
    "    \n",
    "    if normalized > 0.01:\n",
    "        normalized_move.append('Up')\n",
    "    elif normalized <= 0.01:\n",
    "        normalized_move.append('Down')\n",
    "    else:\n",
    "        normalized_move.append('Stay')\n",
    "        \n",
    "FE_df['Normalized_Change'] = normalized_change        \n",
    "FE_df['Normalized_Movement'] = normalized_move"
   ]
  },
  {
   "cell_type": "code",
   "execution_count": 64,
   "id": "2ca16f25",
   "metadata": {},
   "outputs": [
    {
     "data": {
      "text/html": [
       "<div>\n",
       "<style scoped>\n",
       "    .dataframe tbody tr th:only-of-type {\n",
       "        vertical-align: middle;\n",
       "    }\n",
       "\n",
       "    .dataframe tbody tr th {\n",
       "        vertical-align: top;\n",
       "    }\n",
       "\n",
       "    .dataframe thead th {\n",
       "        text-align: right;\n",
       "    }\n",
       "</style>\n",
       "<table border=\"1\" class=\"dataframe\">\n",
       "  <thead>\n",
       "    <tr style=\"text-align: right;\">\n",
       "      <th></th>\n",
       "      <th>Date</th>\n",
       "      <th>Close</th>\n",
       "      <th>Volume</th>\n",
       "      <th>Price_Change</th>\n",
       "      <th>Mean_Score</th>\n",
       "      <th>Percent_of_PosSent</th>\n",
       "      <th>Mean_Score_roll</th>\n",
       "      <th>Stock_T5</th>\n",
       "      <th>Movement</th>\n",
       "      <th>PSEI_Close</th>\n",
       "      <th>PSEI_T5</th>\n",
       "      <th>Normalized_Change</th>\n",
       "      <th>Normalized_Movement</th>\n",
       "    </tr>\n",
       "  </thead>\n",
       "  <tbody>\n",
       "    <tr>\n",
       "      <th>0</th>\n",
       "      <td>2019-01-02</td>\n",
       "      <td>1900.0</td>\n",
       "      <td>6610</td>\n",
       "      <td>-0.010417</td>\n",
       "      <td>-0.500000</td>\n",
       "      <td>0.0</td>\n",
       "      <td>-0.500000</td>\n",
       "      <td>1930.0</td>\n",
       "      <td>Up</td>\n",
       "      <td>7489.20</td>\n",
       "      <td>7489.20</td>\n",
       "      <td>0.015544</td>\n",
       "      <td>Up</td>\n",
       "    </tr>\n",
       "    <tr>\n",
       "      <th>1</th>\n",
       "      <td>2019-01-03</td>\n",
       "      <td>1889.0</td>\n",
       "      <td>28555</td>\n",
       "      <td>-0.005789</td>\n",
       "      <td>-0.500000</td>\n",
       "      <td>0.0</td>\n",
       "      <td>-0.500000</td>\n",
       "      <td>2020.0</td>\n",
       "      <td>Up</td>\n",
       "      <td>7680.60</td>\n",
       "      <td>7489.20</td>\n",
       "      <td>0.090408</td>\n",
       "      <td>Up</td>\n",
       "    </tr>\n",
       "    <tr>\n",
       "      <th>2</th>\n",
       "      <td>2019-01-04</td>\n",
       "      <td>1872.0</td>\n",
       "      <td>13870</td>\n",
       "      <td>-0.006897</td>\n",
       "      <td>-0.500000</td>\n",
       "      <td>0.0</td>\n",
       "      <td>-0.500000</td>\n",
       "      <td>2016.0</td>\n",
       "      <td>Up</td>\n",
       "      <td>7761.11</td>\n",
       "      <td>7489.20</td>\n",
       "      <td>0.107736</td>\n",
       "      <td>Up</td>\n",
       "    </tr>\n",
       "    <tr>\n",
       "      <th>3</th>\n",
       "      <td>2019-01-07</td>\n",
       "      <td>1860.0</td>\n",
       "      <td>26780</td>\n",
       "      <td>-0.006941</td>\n",
       "      <td>-0.500000</td>\n",
       "      <td>0.0</td>\n",
       "      <td>-0.500000</td>\n",
       "      <td>2060.0</td>\n",
       "      <td>Up</td>\n",
       "      <td>7787.66</td>\n",
       "      <td>7489.20</td>\n",
       "      <td>0.136939</td>\n",
       "      <td>Up</td>\n",
       "    </tr>\n",
       "    <tr>\n",
       "      <th>4</th>\n",
       "      <td>2019-01-08</td>\n",
       "      <td>1860.0</td>\n",
       "      <td>30960</td>\n",
       "      <td>-0.010638</td>\n",
       "      <td>-0.500000</td>\n",
       "      <td>0.0</td>\n",
       "      <td>-0.500000</td>\n",
       "      <td>2086.0</td>\n",
       "      <td>Up</td>\n",
       "      <td>7702.12</td>\n",
       "      <td>7489.20</td>\n",
       "      <td>0.136772</td>\n",
       "      <td>Up</td>\n",
       "    </tr>\n",
       "    <tr>\n",
       "      <th>...</th>\n",
       "      <td>...</td>\n",
       "      <td>...</td>\n",
       "      <td>...</td>\n",
       "      <td>...</td>\n",
       "      <td>...</td>\n",
       "      <td>...</td>\n",
       "      <td>...</td>\n",
       "      <td>...</td>\n",
       "      <td>...</td>\n",
       "      <td>...</td>\n",
       "      <td>...</td>\n",
       "      <td>...</td>\n",
       "      <td>...</td>\n",
       "    </tr>\n",
       "    <tr>\n",
       "      <th>613</th>\n",
       "      <td>2021-07-12</td>\n",
       "      <td>1983.0</td>\n",
       "      <td>95555</td>\n",
       "      <td>0.009160</td>\n",
       "      <td>0.377778</td>\n",
       "      <td>1.0</td>\n",
       "      <td>0.154051</td>\n",
       "      <td>1941.0</td>\n",
       "      <td>Down</td>\n",
       "      <td>6913.87</td>\n",
       "      <td>7036.38</td>\n",
       "      <td>-0.039049</td>\n",
       "      <td>Down</td>\n",
       "    </tr>\n",
       "    <tr>\n",
       "      <th>614</th>\n",
       "      <td>2021-07-13</td>\n",
       "      <td>1979.0</td>\n",
       "      <td>83865</td>\n",
       "      <td>0.000506</td>\n",
       "      <td>0.136025</td>\n",
       "      <td>0.5</td>\n",
       "      <td>0.181930</td>\n",
       "      <td>1941.0</td>\n",
       "      <td>Down</td>\n",
       "      <td>6795.13</td>\n",
       "      <td>6992.43</td>\n",
       "      <td>-0.047794</td>\n",
       "      <td>Down</td>\n",
       "    </tr>\n",
       "    <tr>\n",
       "      <th>615</th>\n",
       "      <td>2021-07-14</td>\n",
       "      <td>1974.0</td>\n",
       "      <td>36060</td>\n",
       "      <td>-0.001012</td>\n",
       "      <td>0.136025</td>\n",
       "      <td>0.5</td>\n",
       "      <td>0.297194</td>\n",
       "      <td>1941.0</td>\n",
       "      <td>Down</td>\n",
       "      <td>6835.41</td>\n",
       "      <td>6943.00</td>\n",
       "      <td>-0.032498</td>\n",
       "      <td>Down</td>\n",
       "    </tr>\n",
       "    <tr>\n",
       "      <th>616</th>\n",
       "      <td>2021-07-15</td>\n",
       "      <td>1933.0</td>\n",
       "      <td>45870</td>\n",
       "      <td>-0.020770</td>\n",
       "      <td>0.136025</td>\n",
       "      <td>0.5</td>\n",
       "      <td>0.256902</td>\n",
       "      <td>1941.0</td>\n",
       "      <td>Stay</td>\n",
       "      <td>6727.93</td>\n",
       "      <td>6924.99</td>\n",
       "      <td>-0.024335</td>\n",
       "      <td>Down</td>\n",
       "    </tr>\n",
       "    <tr>\n",
       "      <th>617</th>\n",
       "      <td>2021-07-16</td>\n",
       "      <td>1941.0</td>\n",
       "      <td>45340</td>\n",
       "      <td>-0.004615</td>\n",
       "      <td>0.136025</td>\n",
       "      <td>0.5</td>\n",
       "      <td>0.216610</td>\n",
       "      <td>1941.0</td>\n",
       "      <td>Stay</td>\n",
       "      <td>6693.83</td>\n",
       "      <td>6834.92</td>\n",
       "      <td>-0.020643</td>\n",
       "      <td>Down</td>\n",
       "    </tr>\n",
       "  </tbody>\n",
       "</table>\n",
       "<p>618 rows × 13 columns</p>\n",
       "</div>"
      ],
      "text/plain": [
       "          Date   Close   Volume  Price_Change  Mean_Score  Percent_of_PosSent  \\\n",
       "0   2019-01-02  1900.0     6610     -0.010417   -0.500000                 0.0   \n",
       "1   2019-01-03  1889.0    28555     -0.005789   -0.500000                 0.0   \n",
       "2   2019-01-04  1872.0    13870     -0.006897   -0.500000                 0.0   \n",
       "3   2019-01-07  1860.0    26780     -0.006941   -0.500000                 0.0   \n",
       "4   2019-01-08  1860.0    30960     -0.010638   -0.500000                 0.0   \n",
       "..         ...     ...      ...           ...         ...                 ...   \n",
       "613 2021-07-12  1983.0    95555      0.009160    0.377778                 1.0   \n",
       "614 2021-07-13  1979.0    83865      0.000506    0.136025                 0.5   \n",
       "615 2021-07-14  1974.0    36060     -0.001012    0.136025                 0.5   \n",
       "616 2021-07-15  1933.0    45870     -0.020770    0.136025                 0.5   \n",
       "617 2021-07-16  1941.0    45340     -0.004615    0.136025                 0.5   \n",
       "\n",
       "     Mean_Score_roll  Stock_T5 Movement  PSEI_Close  PSEI_T5  \\\n",
       "0          -0.500000    1930.0       Up     7489.20  7489.20   \n",
       "1          -0.500000    2020.0       Up     7680.60  7489.20   \n",
       "2          -0.500000    2016.0       Up     7761.11  7489.20   \n",
       "3          -0.500000    2060.0       Up     7787.66  7489.20   \n",
       "4          -0.500000    2086.0       Up     7702.12  7489.20   \n",
       "..               ...       ...      ...         ...      ...   \n",
       "613         0.154051    1941.0     Down     6913.87  7036.38   \n",
       "614         0.181930    1941.0     Down     6795.13  6992.43   \n",
       "615         0.297194    1941.0     Down     6835.41  6943.00   \n",
       "616         0.256902    1941.0     Stay     6727.93  6924.99   \n",
       "617         0.216610    1941.0     Stay     6693.83  6834.92   \n",
       "\n",
       "     Normalized_Change Normalized_Movement  \n",
       "0             0.015544                  Up  \n",
       "1             0.090408                  Up  \n",
       "2             0.107736                  Up  \n",
       "3             0.136939                  Up  \n",
       "4             0.136772                  Up  \n",
       "..                 ...                 ...  \n",
       "613          -0.039049                Down  \n",
       "614          -0.047794                Down  \n",
       "615          -0.032498                Down  \n",
       "616          -0.024335                Down  \n",
       "617          -0.020643                Down  \n",
       "\n",
       "[618 rows x 13 columns]"
      ]
     },
     "execution_count": 64,
     "metadata": {},
     "output_type": "execute_result"
    }
   ],
   "source": [
    "FE_df"
   ]
  },
  {
   "cell_type": "code",
   "execution_count": 65,
   "id": "01e9353a",
   "metadata": {},
   "outputs": [],
   "source": [
    "#Normalize loudness\n",
    "from sklearn.preprocessing import MinMaxScaler\n",
    "from sklearn.preprocessing import StandardScaler\n",
    "from sklearn.preprocessing import RobustScaler\n",
    "#also try Robust Scaler -> for substantial number of outliers\n",
    "scaler = StandardScaler()\n",
    "\n",
    "FE_df['Normalized_Close'] = scaler.fit_transform(FE_df[[' Close']])\n",
    "FE_df['PSEI_Normalized_Close'] = scaler.fit_transform(FE_df[['PSEI_Close']])\n",
    "FE_df['Normalized_Volume'] = scaler.fit_transform(FE_df[[' Volume']])"
   ]
  },
  {
   "cell_type": "code",
   "execution_count": 66,
   "id": "8ace7828",
   "metadata": {},
   "outputs": [
    {
     "data": {
      "text/html": [
       "<div>\n",
       "<style scoped>\n",
       "    .dataframe tbody tr th:only-of-type {\n",
       "        vertical-align: middle;\n",
       "    }\n",
       "\n",
       "    .dataframe tbody tr th {\n",
       "        vertical-align: top;\n",
       "    }\n",
       "\n",
       "    .dataframe thead th {\n",
       "        text-align: right;\n",
       "    }\n",
       "</style>\n",
       "<table border=\"1\" class=\"dataframe\">\n",
       "  <thead>\n",
       "    <tr style=\"text-align: right;\">\n",
       "      <th></th>\n",
       "      <th>Date</th>\n",
       "      <th>Close</th>\n",
       "      <th>Volume</th>\n",
       "      <th>Price_Change</th>\n",
       "      <th>Mean_Score</th>\n",
       "      <th>Percent_of_PosSent</th>\n",
       "      <th>Mean_Score_roll</th>\n",
       "      <th>Stock_T5</th>\n",
       "      <th>Movement</th>\n",
       "      <th>PSEI_Close</th>\n",
       "      <th>PSEI_T5</th>\n",
       "      <th>Normalized_Change</th>\n",
       "      <th>Normalized_Movement</th>\n",
       "      <th>Normalized_Close</th>\n",
       "      <th>PSEI_Normalized_Close</th>\n",
       "      <th>Normalized_Volume</th>\n",
       "    </tr>\n",
       "  </thead>\n",
       "  <tbody>\n",
       "  </tbody>\n",
       "</table>\n",
       "</div>"
      ],
      "text/plain": [
       "Empty DataFrame\n",
       "Columns: [Date,  Close,  Volume, Price_Change, Mean_Score, Percent_of_PosSent, Mean_Score_roll, Stock_T5, Movement, PSEI_Close, PSEI_T5, Normalized_Change, Normalized_Movement, Normalized_Close, PSEI_Normalized_Close, Normalized_Volume]\n",
       "Index: []"
      ]
     },
     "execution_count": 66,
     "metadata": {},
     "output_type": "execute_result"
    }
   ],
   "source": [
    "FE_df[FE_df['Normalized_Movement']==\"Stay\"]"
   ]
  },
  {
   "cell_type": "code",
   "execution_count": null,
   "id": "991b0ca5",
   "metadata": {},
   "outputs": [],
   "source": []
  },
  {
   "cell_type": "markdown",
   "id": "6e697ee2",
   "metadata": {},
   "source": [
    "# Classification model (SVM)"
   ]
  },
  {
   "cell_type": "markdown",
   "id": "7e5c2764",
   "metadata": {},
   "source": [
    "### SVM"
   ]
  },
  {
   "cell_type": "code",
   "execution_count": 67,
   "id": "990b621a",
   "metadata": {},
   "outputs": [],
   "source": [
    "from sklearn.svm import SVC #supportvectorclassifier\n",
    "from sklearn.model_selection import train_test_split, cross_val_score\n",
    "from sklearn.metrics import accuracy_score,roc_curve, auc, confusion_matrix, classification_report"
   ]
  },
  {
   "cell_type": "code",
   "execution_count": 76,
   "id": "a5dcbd9f",
   "metadata": {},
   "outputs": [],
   "source": [
    "# https://scikit-learn.org/stable/auto_examples/svm/plot_iris_svc.html#sphx-glr-auto-examples-svm-plot-iris-svc-py\n",
    "def make_meshgrid(x, y, h=.02):\n",
    "    \"\"\"Create a mesh of points to plot in\n",
    "\n",
    "    Parameters\n",
    "    ----------\n",
    "    x: data to base x-axis meshgrid on\n",
    "    y: data to base y-axis meshgrid on\n",
    "    h: stepsize for meshgrid, optional\n",
    "\n",
    "    Returns\n",
    "    -------\n",
    "    xx, yy : ndarray\n",
    "    \"\"\"\n",
    "    xmgn= (x.max()-x.min())*0.25\n",
    "    ymgn = (y.max()-y.min())*0.25\n",
    "    \n",
    "    x_min, x_max = x.min() - xmgn, x.max() + xmgn\n",
    "    y_min, y_max = y.min() - ymgn, y.max() + ymgn\n",
    "    \n",
    "    xx, yy = np.meshgrid(np.arange(x_min, x_max, h),\n",
    "                         np.arange(y_min, y_max, h))\n",
    "    return xx, yy\n",
    "\n",
    "\n",
    "def plot_contours(ax, clf, xx, yy, xlims,ylims, **params):\n",
    "    \"\"\"Plot the decision boundaries for a classifier.\n",
    "\n",
    "    Parameters\n",
    "    ----------\n",
    "    ax: matplotlib axes object\n",
    "    clf: a classifier\n",
    "    xx: meshgrid ndarray\n",
    "    yy: meshgrid ndarray\n",
    "    params: dictionary of params to pass to contourf, optional\n",
    "    \"\"\"\n",
    "    Z = clf.predict(np.c_[xx.ravel(), yy.ravel()])\n",
    "    Z = Z.reshape(xx.shape)\n",
    "    out = ax.contourf(xx, yy, Z, **params)\n",
    "    ax.set_ylim(ylims)\n",
    "    ax.set_xlim(xlims)\n",
    "    \n",
    "    return out\n",
    "\n",
    "#visualize support vectors\n",
    "def plot_vector_bounds(X,svm_model):\n",
    "    fig,ax=plt.subplots()\n",
    "\n",
    "    X0 = X.to_numpy()[:, 0]\n",
    "    X1 = X.to_numpy()[:, 1]\n",
    "    xx, yy = make_meshgrid(X0, X1)\n",
    "\n",
    "    plot_contours(ax, svm_model, xx, yy, [0,1],[0,1],\n",
    "                      cmap=plt.cm.coolwarm, alpha=0.8)\n",
    "    ax.scatter(X0, X1, c=y,cmap=plt.cm.coolwarm, s=20, edgecolors='k')"
   ]
  },
  {
   "cell_type": "code",
   "execution_count": 77,
   "id": "c2c5df1b",
   "metadata": {},
   "outputs": [
    {
     "name": "stdout",
     "output_type": "stream",
     "text": [
      "Shape of X_Train:(494, 4)\n",
      "Shape of y_Train:(494,)\n",
      "Shape of X_Test:(124, 4)\n",
      "Shape of y_Test:(124,)\n"
     ]
    }
   ],
   "source": [
    "# create feature matrix (X)\n",
    "feature_cols = ['Normalized_Close', 'Mean_Score', 'PSEI_Normalized_Close', 'Percent_of_PosSent']\n",
    "X = FE_df[feature_cols]\n",
    "y = FE_df['Normalized_Movement']\n",
    "\n",
    "# creating training set, test set and checking shapes \n",
    "X_train,X_test,Y_train,Y_test = train_test_split(X,y, test_size=0.2)\n",
    "print(\"Shape of X_Train:\"+str(X_train.shape))\n",
    "print(\"Shape of y_Train:\"+str(Y_train.shape))\n",
    "print(\"Shape of X_Test:\"+str(X_test.shape))\n",
    "print(\"Shape of y_Test:\"+str(Y_test.shape))"
   ]
  },
  {
   "cell_type": "markdown",
   "id": "58fe218a",
   "metadata": {},
   "source": [
    "### Linear SVM"
   ]
  },
  {
   "cell_type": "code",
   "execution_count": 78,
   "id": "e395d726",
   "metadata": {},
   "outputs": [],
   "source": [
    "svm_model1 = SVC(kernel='linear')\n",
    "pred1 = svm_model1.fit(X_train, Y_train) "
   ]
  },
  {
   "cell_type": "code",
   "execution_count": 79,
   "id": "6c7dba6b",
   "metadata": {},
   "outputs": [
    {
     "name": "stdout",
     "output_type": "stream",
     "text": [
      "              precision    recall  f1-score   support\n",
      "\n",
      "        Down       0.63      1.00      0.78       391\n",
      "          Up       0.00      0.00      0.00       227\n",
      "\n",
      "    accuracy                           0.63       618\n",
      "   macro avg       0.32      0.50      0.39       618\n",
      "weighted avg       0.40      0.63      0.49       618\n",
      "\n"
     ]
    },
    {
     "name": "stderr",
     "output_type": "stream",
     "text": [
      "/Users/nillethmaeannvpontino/opt/anaconda3/lib/python3.7/site-packages/sklearn/metrics/_classification.py:1248: UndefinedMetricWarning: Precision and F-score are ill-defined and being set to 0.0 in labels with no predicted samples. Use `zero_division` parameter to control this behavior.\n",
      "  _warn_prf(average, modifier, msg_start, len(result))\n",
      "/Users/nillethmaeannvpontino/opt/anaconda3/lib/python3.7/site-packages/sklearn/metrics/_classification.py:1248: UndefinedMetricWarning: Precision and F-score are ill-defined and being set to 0.0 in labels with no predicted samples. Use `zero_division` parameter to control this behavior.\n",
      "  _warn_prf(average, modifier, msg_start, len(result))\n",
      "/Users/nillethmaeannvpontino/opt/anaconda3/lib/python3.7/site-packages/sklearn/metrics/_classification.py:1248: UndefinedMetricWarning: Precision and F-score are ill-defined and being set to 0.0 in labels with no predicted samples. Use `zero_division` parameter to control this behavior.\n",
      "  _warn_prf(average, modifier, msg_start, len(result))\n"
     ]
    }
   ],
   "source": [
    "#show classification\n",
    "print(classification_report(y,svm_model1.predict(X)))"
   ]
  },
  {
   "cell_type": "markdown",
   "id": "de19c884",
   "metadata": {},
   "source": [
    "## Tuning the SVM model"
   ]
  },
  {
   "cell_type": "markdown",
   "id": "f5e607d1",
   "metadata": {},
   "source": [
    "### Polynomial kernel"
   ]
  },
  {
   "cell_type": "code",
   "execution_count": 80,
   "id": "61b980c8",
   "metadata": {},
   "outputs": [],
   "source": [
    "#polynomial kernel\n",
    "svm_model2 = SVC(kernel='poly', degree=8, gamma=\"auto\")\n",
    "pred2 = svm_model2.fit(X, y) "
   ]
  },
  {
   "cell_type": "code",
   "execution_count": 81,
   "id": "b039deae",
   "metadata": {},
   "outputs": [
    {
     "name": "stdout",
     "output_type": "stream",
     "text": [
      "              precision    recall  f1-score   support\n",
      "\n",
      "        Down       0.67      0.98      0.80       391\n",
      "          Up       0.84      0.19      0.30       227\n",
      "\n",
      "    accuracy                           0.69       618\n",
      "   macro avg       0.76      0.58      0.55       618\n",
      "weighted avg       0.74      0.69      0.62       618\n",
      "\n"
     ]
    }
   ],
   "source": [
    "#show classification\n",
    "print(classification_report(y,svm_model2.predict(X)))"
   ]
  },
  {
   "cell_type": "markdown",
   "id": "bab8ea17",
   "metadata": {},
   "source": [
    "### SVM-RBF (yielded highest accuracy results)"
   ]
  },
  {
   "cell_type": "code",
   "execution_count": 82,
   "id": "761c46c6",
   "metadata": {},
   "outputs": [],
   "source": [
    "#radial kernel\n",
    "svm_model3 = SVC(kernel='rbf', gamma=\"auto\")\n",
    "pred3 = svm_model3.fit(X, y) "
   ]
  },
  {
   "cell_type": "code",
   "execution_count": 83,
   "id": "640936aa",
   "metadata": {},
   "outputs": [
    {
     "name": "stdout",
     "output_type": "stream",
     "text": [
      "              precision    recall  f1-score   support\n",
      "\n",
      "        Down       0.65      0.99      0.79       391\n",
      "          Up       0.86      0.08      0.15       227\n",
      "\n",
      "    accuracy                           0.66       618\n",
      "   macro avg       0.75      0.54      0.47       618\n",
      "weighted avg       0.73      0.66      0.55       618\n",
      "\n"
     ]
    }
   ],
   "source": [
    "#show classification\n",
    "print(classification_report(y,svm_model3.predict(X)))"
   ]
  },
  {
   "cell_type": "code",
   "execution_count": 93,
   "id": "ecb9d39c",
   "metadata": {},
   "outputs": [
    {
     "name": "stdout",
     "output_type": "stream",
     "text": [
      "              precision    recall  f1-score   support\n",
      "\n",
      "        Down       0.64      1.00      0.78        78\n",
      "          Up       1.00      0.07      0.12        46\n",
      "\n",
      "    accuracy                           0.65       124\n",
      "   macro avg       0.82      0.53      0.45       124\n",
      "weighted avg       0.78      0.65      0.54       124\n",
      "\n"
     ]
    }
   ],
   "source": [
    "#out of sample\n",
    "print(classification_report(Y_test,svm_model3.predict(X_test)))"
   ]
  },
  {
   "cell_type": "code",
   "execution_count": 94,
   "id": "53027707",
   "metadata": {},
   "outputs": [
    {
     "name": "stdout",
     "output_type": "stream",
     "text": [
      "              precision    recall  f1-score   support\n",
      "\n",
      "        Down       0.65      0.99      0.79       313\n",
      "          Up       0.83      0.08      0.15       181\n",
      "\n",
      "    accuracy                           0.66       494\n",
      "   macro avg       0.74      0.54      0.47       494\n",
      "weighted avg       0.72      0.66      0.55       494\n",
      "\n"
     ]
    }
   ],
   "source": [
    "#only sample\n",
    "print(classification_report(Y_train,svm_model3.predict(X_train)))"
   ]
  },
  {
   "cell_type": "code",
   "execution_count": 96,
   "id": "4a629c05",
   "metadata": {},
   "outputs": [
    {
     "data": {
      "text/plain": [
       "(array([121.,   0.,   0.,   0.,   0.,   0.,   0.,   0.,   0.,   3.]),\n",
       " array([0. , 0.1, 0.2, 0.3, 0.4, 0.5, 0.6, 0.7, 0.8, 0.9, 1. ]),\n",
       " <BarContainer object of 10 artists>)"
      ]
     },
     "execution_count": 96,
     "metadata": {},
     "output_type": "execute_result"
    },
    {
     "data": {
      "image/png": "[encoded data removed]",
      "text/plain": [
       "<Figure size 432x288 with 1 Axes>"
      ]
     },
     "metadata": {
      "needs_background": "light"
     },
     "output_type": "display_data"
    }
   ],
   "source": [
    "plt.hist(svm_model3.predict(X_test))"
   ]
  },
  {
   "cell_type": "code",
   "execution_count": 97,
   "id": "ceecc153",
   "metadata": {},
   "outputs": [
    {
     "data": {
      "text/plain": [
       "(array([46.,  0.,  0.,  0.,  0.,  0.,  0.,  0.,  0., 78.]),\n",
       " array([0. , 0.1, 0.2, 0.3, 0.4, 0.5, 0.6, 0.7, 0.8, 0.9, 1. ]),\n",
       " <BarContainer object of 10 artists>)"
      ]
     },
     "execution_count": 97,
     "metadata": {},
     "output_type": "execute_result"
    },
    {
     "data": {
      "image/png": "[encoded data removed]",
      "text/plain": [
       "<Figure size 432x288 with 1 Axes>"
      ]
     },
     "metadata": {
      "needs_background": "light"
     },
     "output_type": "display_data"
    }
   ],
   "source": [
    "plt.hist(Y_test)"
   ]
  },
  {
   "cell_type": "code",
   "execution_count": 84,
   "id": "0127ef56",
   "metadata": {},
   "outputs": [
    {
     "name": "stdout",
     "output_type": "stream",
     "text": [
      "[[388   3]\n",
      " [209  18]]\n"
     ]
    }
   ],
   "source": [
    "print(confusion_matrix(y,svm_model3.predict(X)))"
   ]
  },
  {
   "cell_type": "code",
   "execution_count": 85,
   "id": "488f15e8",
   "metadata": {},
   "outputs": [],
   "source": [
    "cnf_matrix = confusion_matrix(y,svm_model3.predict(X))\n",
    "\n",
    "FP = cnf_matrix.sum(axis=0) - np.diag(cnf_matrix)  \n",
    "FN = cnf_matrix.sum(axis=1) - np.diag(cnf_matrix)\n",
    "TP = np.diag(cnf_matrix)\n",
    "TN = cnf_matrix.sum() - (FP + FN + TP)\n",
    "\n",
    "FP = FP.astype(float)\n",
    "FN = FN.astype(float)\n",
    "TP = TP.astype(float)\n",
    "TN = TN.astype(float)\n",
    "\n",
    "# Sensitivity, hit rate, recall, or true positive rate\n",
    "TPR = TP/(TP+FN)\n",
    "# Specificity or true negative rate\n",
    "TNR = TN/(TN+FP) \n",
    "# Precision or positive predictive value\n",
    "PPV = TP/(TP+FP)\n",
    "# Negative predictive value\n",
    "NPV = TN/(TN+FN)\n",
    "# Fall out or false positive rate\n",
    "FPR = FP/(FP+TN)\n",
    "# False negative rate\n",
    "FNR = FN/(TP+FN)\n",
    "# False discovery rate\n",
    "FDR = FP/(TP+FP)\n",
    "# Overall accuracy\n",
    "ACC = (TP+TN)/(TP+FP+FN+TN)"
   ]
  },
  {
   "cell_type": "code",
   "execution_count": 86,
   "id": "643cec5f",
   "metadata": {},
   "outputs": [
    {
     "data": {
      "text/plain": [
       "array([0.99232737, 0.07929515])"
      ]
     },
     "execution_count": 86,
     "metadata": {},
     "output_type": "execute_result"
    }
   ],
   "source": [
    "TPR"
   ]
  },
  {
   "cell_type": "code",
   "execution_count": 87,
   "id": "36a0c94a",
   "metadata": {},
   "outputs": [
    {
     "data": {
      "text/plain": [
       "array([0.07929515, 0.99232737])"
      ]
     },
     "execution_count": 87,
     "metadata": {},
     "output_type": "execute_result"
    }
   ],
   "source": [
    "TNR"
   ]
  },
  {
   "cell_type": "code",
   "execution_count": 88,
   "id": "d2945d35",
   "metadata": {},
   "outputs": [
    {
     "data": {
      "text/plain": [
       "array([0.92070485, 0.00767263])"
      ]
     },
     "execution_count": 88,
     "metadata": {},
     "output_type": "execute_result"
    }
   ],
   "source": [
    "FPR"
   ]
  },
  {
   "cell_type": "code",
   "execution_count": 89,
   "id": "99ea0fba",
   "metadata": {},
   "outputs": [
    {
     "data": {
      "text/plain": [
       "array([0.00767263, 0.92070485])"
      ]
     },
     "execution_count": 89,
     "metadata": {},
     "output_type": "execute_result"
    }
   ],
   "source": [
    "FNR"
   ]
  },
  {
   "cell_type": "markdown",
   "id": "f113182b",
   "metadata": {},
   "source": [
    "### Sigmoid"
   ]
  },
  {
   "cell_type": "code",
   "execution_count": 91,
   "id": "3929bc9a",
   "metadata": {},
   "outputs": [],
   "source": [
    "#sigmoid\n",
    "svm_model4 = SVC(kernel='sigmoid', gamma=\"auto\")\n",
    "pred4 = svm_model4.fit(X, y) "
   ]
  },
  {
   "cell_type": "code",
   "execution_count": 92,
   "id": "05d11208",
   "metadata": {},
   "outputs": [
    {
     "name": "stdout",
     "output_type": "stream",
     "text": [
      "              precision    recall  f1-score   support\n",
      "\n",
      "        Down       0.60      0.71      0.65       391\n",
      "          Up       0.28      0.19      0.23       227\n",
      "\n",
      "    accuracy                           0.52       618\n",
      "   macro avg       0.44      0.45      0.44       618\n",
      "weighted avg       0.48      0.52      0.50       618\n",
      "\n"
     ]
    }
   ],
   "source": [
    "#show classification\n",
    "print(classification_report(y,svm_model4.predict(X)))"
   ]
  },
  {
   "cell_type": "markdown",
   "id": "eb79e250",
   "metadata": {},
   "source": [
    "### Tuning the hyperparameters"
   ]
  },
  {
   "cell_type": "code",
   "execution_count": 98,
   "id": "6dc684fe",
   "metadata": {},
   "outputs": [
    {
     "name": "stdout",
     "output_type": "stream",
     "text": [
      "Fitting 5 folds for each of 48 candidates, totalling 240 fits\n",
      "[CV] END .........................C=0.1, gamma=1, kernel=rbf; total time=   0.0s\n",
      "[CV] END .........................C=0.1, gamma=1, kernel=rbf; total time=   0.0s\n",
      "[CV] END .........................C=0.1, gamma=1, kernel=rbf; total time=   0.0s\n",
      "[CV] END .........................C=0.1, gamma=1, kernel=rbf; total time=   0.0s\n",
      "[CV] END .........................C=0.1, gamma=1, kernel=rbf; total time=   0.0s\n",
      "[CV] END ........................C=0.1, gamma=1, kernel=poly; total time=   0.0s\n",
      "[CV] END ........................C=0.1, gamma=1, kernel=poly; total time=   0.0s\n",
      "[CV] END ........................C=0.1, gamma=1, kernel=poly; total time=   0.0s\n",
      "[CV] END ........................C=0.1, gamma=1, kernel=poly; total time=   0.0s\n",
      "[CV] END ........................C=0.1, gamma=1, kernel=poly; total time=   0.0s\n",
      "[CV] END .....................C=0.1, gamma=1, kernel=sigmoid; total time=   0.0s\n",
      "[CV] END .....................C=0.1, gamma=1, kernel=sigmoid; total time=   0.0s\n",
      "[CV] END .....................C=0.1, gamma=1, kernel=sigmoid; total time=   0.0s\n",
      "[CV] END .....................C=0.1, gamma=1, kernel=sigmoid; total time=   0.0s\n",
      "[CV] END .....................C=0.1, gamma=1, kernel=sigmoid; total time=   0.0s\n",
      "[CV] END .......................C=0.1, gamma=0.1, kernel=rbf; total time=   0.0s\n",
      "[CV] END .......................C=0.1, gamma=0.1, kernel=rbf; total time=   0.0s\n",
      "[CV] END .......................C=0.1, gamma=0.1, kernel=rbf; total time=   0.0s\n",
      "[CV] END .......................C=0.1, gamma=0.1, kernel=rbf; total time=   0.0s\n",
      "[CV] END .......................C=0.1, gamma=0.1, kernel=rbf; total time=   0.0s\n",
      "[CV] END ......................C=0.1, gamma=0.1, kernel=poly; total time=   0.0s\n",
      "[CV] END ......................C=0.1, gamma=0.1, kernel=poly; total time=   0.0s\n",
      "[CV] END ......................C=0.1, gamma=0.1, kernel=poly; total time=   0.0s\n",
      "[CV] END ......................C=0.1, gamma=0.1, kernel=poly; total time=   0.0s\n",
      "[CV] END ......................C=0.1, gamma=0.1, kernel=poly; total time=   0.1s\n",
      "[CV] END ...................C=0.1, gamma=0.1, kernel=sigmoid; total time=   0.0s\n",
      "[CV] END ...................C=0.1, gamma=0.1, kernel=sigmoid; total time=   0.1s\n",
      "[CV] END ...................C=0.1, gamma=0.1, kernel=sigmoid; total time=   0.1s\n",
      "[CV] END ...................C=0.1, gamma=0.1, kernel=sigmoid; total time=   0.0s\n",
      "[CV] END ...................C=0.1, gamma=0.1, kernel=sigmoid; total time=   0.4s\n",
      "[CV] END ......................C=0.1, gamma=0.01, kernel=rbf; total time=   0.2s\n",
      "[CV] END ......................C=0.1, gamma=0.01, kernel=rbf; total time=   0.1s\n",
      "[CV] END ......................C=0.1, gamma=0.01, kernel=rbf; total time=   0.1s\n",
      "[CV] END ......................C=0.1, gamma=0.01, kernel=rbf; total time=   0.1s\n",
      "[CV] END ......................C=0.1, gamma=0.01, kernel=rbf; total time=   0.1s\n",
      "[CV] END .....................C=0.1, gamma=0.01, kernel=poly; total time=   0.0s\n",
      "[CV] END .....................C=0.1, gamma=0.01, kernel=poly; total time=   0.0s\n",
      "[CV] END .....................C=0.1, gamma=0.01, kernel=poly; total time=   0.0s\n",
      "[CV] END .....................C=0.1, gamma=0.01, kernel=poly; total time=   0.0s\n",
      "[CV] END .....................C=0.1, gamma=0.01, kernel=poly; total time=   0.1s\n",
      "[CV] END ..................C=0.1, gamma=0.01, kernel=sigmoid; total time=   0.1s\n",
      "[CV] END ..................C=0.1, gamma=0.01, kernel=sigmoid; total time=   0.0s\n",
      "[CV] END ..................C=0.1, gamma=0.01, kernel=sigmoid; total time=   0.0s\n",
      "[CV] END ..................C=0.1, gamma=0.01, kernel=sigmoid; total time=   0.0s\n",
      "[CV] END ..................C=0.1, gamma=0.01, kernel=sigmoid; total time=   0.0s\n",
      "[CV] END .....................C=0.1, gamma=0.001, kernel=rbf; total time=   0.0s\n",
      "[CV] END .....................C=0.1, gamma=0.001, kernel=rbf; total time=   0.0s\n",
      "[CV] END .....................C=0.1, gamma=0.001, kernel=rbf; total time=   0.0s\n",
      "[CV] END .....................C=0.1, gamma=0.001, kernel=rbf; total time=   0.0s\n",
      "[CV] END .....................C=0.1, gamma=0.001, kernel=rbf; total time=   0.0s\n",
      "[CV] END ....................C=0.1, gamma=0.001, kernel=poly; total time=   0.0s\n",
      "[CV] END ....................C=0.1, gamma=0.001, kernel=poly; total time=   0.0s\n",
      "[CV] END ....................C=0.1, gamma=0.001, kernel=poly; total time=   0.0s\n",
      "[CV] END ....................C=0.1, gamma=0.001, kernel=poly; total time=   0.0s\n",
      "[CV] END ....................C=0.1, gamma=0.001, kernel=poly; total time=   0.0s\n",
      "[CV] END .................C=0.1, gamma=0.001, kernel=sigmoid; total time=   0.0s\n",
      "[CV] END .................C=0.1, gamma=0.001, kernel=sigmoid; total time=   0.0s\n",
      "[CV] END .................C=0.1, gamma=0.001, kernel=sigmoid; total time=   0.0s\n",
      "[CV] END .................C=0.1, gamma=0.001, kernel=sigmoid; total time=   0.0s\n",
      "[CV] END .................C=0.1, gamma=0.001, kernel=sigmoid; total time=   0.0s\n",
      "[CV] END ...........................C=1, gamma=1, kernel=rbf; total time=   0.0s\n",
      "[CV] END ...........................C=1, gamma=1, kernel=rbf; total time=   0.0s\n",
      "[CV] END ...........................C=1, gamma=1, kernel=rbf; total time=   0.0s\n",
      "[CV] END ...........................C=1, gamma=1, kernel=rbf; total time=   0.0s\n",
      "[CV] END ...........................C=1, gamma=1, kernel=rbf; total time=   0.0s\n",
      "[CV] END ..........................C=1, gamma=1, kernel=poly; total time=   0.1s\n",
      "[CV] END ..........................C=1, gamma=1, kernel=poly; total time=   0.1s\n",
      "[CV] END ..........................C=1, gamma=1, kernel=poly; total time=   0.1s\n",
      "[CV] END ..........................C=1, gamma=1, kernel=poly; total time=   0.1s\n",
      "[CV] END ..........................C=1, gamma=1, kernel=poly; total time=   0.1s\n",
      "[CV] END .......................C=1, gamma=1, kernel=sigmoid; total time=   0.0s\n",
      "[CV] END .......................C=1, gamma=1, kernel=sigmoid; total time=   0.0s\n",
      "[CV] END .......................C=1, gamma=1, kernel=sigmoid; total time=   0.0s\n",
      "[CV] END .......................C=1, gamma=1, kernel=sigmoid; total time=   0.0s\n",
      "[CV] END .......................C=1, gamma=1, kernel=sigmoid; total time=   0.0s\n",
      "[CV] END .........................C=1, gamma=0.1, kernel=rbf; total time=   0.0s\n",
      "[CV] END .........................C=1, gamma=0.1, kernel=rbf; total time=   0.0s\n",
      "[CV] END .........................C=1, gamma=0.1, kernel=rbf; total time=   0.0s\n",
      "[CV] END .........................C=1, gamma=0.1, kernel=rbf; total time=   0.0s\n",
      "[CV] END .........................C=1, gamma=0.1, kernel=rbf; total time=   0.0s\n",
      "[CV] END ........................C=1, gamma=0.1, kernel=poly; total time=   0.0s\n",
      "[CV] END ........................C=1, gamma=0.1, kernel=poly; total time=   0.0s\n",
      "[CV] END ........................C=1, gamma=0.1, kernel=poly; total time=   0.0s\n",
      "[CV] END ........................C=1, gamma=0.1, kernel=poly; total time=   0.0s\n",
      "[CV] END ........................C=1, gamma=0.1, kernel=poly; total time=   0.0s\n",
      "[CV] END .....................C=1, gamma=0.1, kernel=sigmoid; total time=   0.0s\n",
      "[CV] END .....................C=1, gamma=0.1, kernel=sigmoid; total time=   0.0s\n",
      "[CV] END .....................C=1, gamma=0.1, kernel=sigmoid; total time=   0.0s\n",
      "[CV] END .....................C=1, gamma=0.1, kernel=sigmoid; total time=   0.0s\n",
      "[CV] END .....................C=1, gamma=0.1, kernel=sigmoid; total time=   0.0s\n",
      "[CV] END ........................C=1, gamma=0.01, kernel=rbf; total time=   0.0s\n",
      "[CV] END ........................C=1, gamma=0.01, kernel=rbf; total time=   0.0s\n",
      "[CV] END ........................C=1, gamma=0.01, kernel=rbf; total time=   0.1s\n",
      "[CV] END ........................C=1, gamma=0.01, kernel=rbf; total time=   0.1s\n",
      "[CV] END ........................C=1, gamma=0.01, kernel=rbf; total time=   0.0s\n",
      "[CV] END .......................C=1, gamma=0.01, kernel=poly; total time=   0.0s\n",
      "[CV] END .......................C=1, gamma=0.01, kernel=poly; total time=   0.1s\n",
      "[CV] END .......................C=1, gamma=0.01, kernel=poly; total time=   0.0s\n",
      "[CV] END .......................C=1, gamma=0.01, kernel=poly; total time=   0.1s\n",
      "[CV] END .......................C=1, gamma=0.01, kernel=poly; total time=   0.0s\n",
      "[CV] END ....................C=1, gamma=0.01, kernel=sigmoid; total time=   0.0s\n",
      "[CV] END ....................C=1, gamma=0.01, kernel=sigmoid; total time=   0.1s\n",
      "[CV] END ....................C=1, gamma=0.01, kernel=sigmoid; total time=   0.0s\n",
      "[CV] END ....................C=1, gamma=0.01, kernel=sigmoid; total time=   0.0s\n"
     ]
    },
    {
     "name": "stdout",
     "output_type": "stream",
     "text": [
      "[CV] END ....................C=1, gamma=0.01, kernel=sigmoid; total time=   0.0s\n",
      "[CV] END .......................C=1, gamma=0.001, kernel=rbf; total time=   0.0s\n",
      "[CV] END .......................C=1, gamma=0.001, kernel=rbf; total time=   0.0s\n",
      "[CV] END .......................C=1, gamma=0.001, kernel=rbf; total time=   0.0s\n",
      "[CV] END .......................C=1, gamma=0.001, kernel=rbf; total time=   0.0s\n",
      "[CV] END .......................C=1, gamma=0.001, kernel=rbf; total time=   0.0s\n",
      "[CV] END ......................C=1, gamma=0.001, kernel=poly; total time=   0.0s\n",
      "[CV] END ......................C=1, gamma=0.001, kernel=poly; total time=   0.0s\n",
      "[CV] END ......................C=1, gamma=0.001, kernel=poly; total time=   0.1s\n",
      "[CV] END ......................C=1, gamma=0.001, kernel=poly; total time=   0.1s\n",
      "[CV] END ......................C=1, gamma=0.001, kernel=poly; total time=   0.0s\n",
      "[CV] END ...................C=1, gamma=0.001, kernel=sigmoid; total time=   0.0s\n",
      "[CV] END ...................C=1, gamma=0.001, kernel=sigmoid; total time=   0.0s\n",
      "[CV] END ...................C=1, gamma=0.001, kernel=sigmoid; total time=   0.0s\n",
      "[CV] END ...................C=1, gamma=0.001, kernel=sigmoid; total time=   0.0s\n",
      "[CV] END ...................C=1, gamma=0.001, kernel=sigmoid; total time=   0.1s\n",
      "[CV] END ..........................C=10, gamma=1, kernel=rbf; total time=   0.1s\n",
      "[CV] END ..........................C=10, gamma=1, kernel=rbf; total time=   0.1s\n",
      "[CV] END ..........................C=10, gamma=1, kernel=rbf; total time=   0.1s\n",
      "[CV] END ..........................C=10, gamma=1, kernel=rbf; total time=   0.0s\n",
      "[CV] END ..........................C=10, gamma=1, kernel=rbf; total time=   0.0s\n",
      "[CV] END .........................C=10, gamma=1, kernel=poly; total time=   0.5s\n",
      "[CV] END .........................C=10, gamma=1, kernel=poly; total time=   0.5s\n",
      "[CV] END .........................C=10, gamma=1, kernel=poly; total time=   0.8s\n",
      "[CV] END .........................C=10, gamma=1, kernel=poly; total time=   1.0s\n",
      "[CV] END .........................C=10, gamma=1, kernel=poly; total time=   0.8s\n",
      "[CV] END ......................C=10, gamma=1, kernel=sigmoid; total time=   0.0s\n",
      "[CV] END ......................C=10, gamma=1, kernel=sigmoid; total time=   0.0s\n",
      "[CV] END ......................C=10, gamma=1, kernel=sigmoid; total time=   0.0s\n",
      "[CV] END ......................C=10, gamma=1, kernel=sigmoid; total time=   0.0s\n",
      "[CV] END ......................C=10, gamma=1, kernel=sigmoid; total time=   0.0s\n",
      "[CV] END ........................C=10, gamma=0.1, kernel=rbf; total time=   0.1s\n",
      "[CV] END ........................C=10, gamma=0.1, kernel=rbf; total time=   0.0s\n",
      "[CV] END ........................C=10, gamma=0.1, kernel=rbf; total time=   0.0s\n",
      "[CV] END ........................C=10, gamma=0.1, kernel=rbf; total time=   0.0s\n",
      "[CV] END ........................C=10, gamma=0.1, kernel=rbf; total time=   0.0s\n",
      "[CV] END .......................C=10, gamma=0.1, kernel=poly; total time=   0.1s\n",
      "[CV] END .......................C=10, gamma=0.1, kernel=poly; total time=   0.0s\n",
      "[CV] END .......................C=10, gamma=0.1, kernel=poly; total time=   0.0s\n",
      "[CV] END .......................C=10, gamma=0.1, kernel=poly; total time=   0.0s\n",
      "[CV] END .......................C=10, gamma=0.1, kernel=poly; total time=   0.0s\n",
      "[CV] END ....................C=10, gamma=0.1, kernel=sigmoid; total time=   0.0s\n",
      "[CV] END ....................C=10, gamma=0.1, kernel=sigmoid; total time=   0.0s\n",
      "[CV] END ....................C=10, gamma=0.1, kernel=sigmoid; total time=   0.0s\n",
      "[CV] END ....................C=10, gamma=0.1, kernel=sigmoid; total time=   0.0s\n",
      "[CV] END ....................C=10, gamma=0.1, kernel=sigmoid; total time=   0.0s\n",
      "[CV] END .......................C=10, gamma=0.01, kernel=rbf; total time=   0.1s\n",
      "[CV] END .......................C=10, gamma=0.01, kernel=rbf; total time=   0.1s\n",
      "[CV] END .......................C=10, gamma=0.01, kernel=rbf; total time=   0.1s\n",
      "[CV] END .......................C=10, gamma=0.01, kernel=rbf; total time=   0.0s\n",
      "[CV] END .......................C=10, gamma=0.01, kernel=rbf; total time=   0.0s\n",
      "[CV] END ......................C=10, gamma=0.01, kernel=poly; total time=   0.0s\n",
      "[CV] END ......................C=10, gamma=0.01, kernel=poly; total time=   0.0s\n",
      "[CV] END ......................C=10, gamma=0.01, kernel=poly; total time=   0.0s\n",
      "[CV] END ......................C=10, gamma=0.01, kernel=poly; total time=   0.0s\n",
      "[CV] END ......................C=10, gamma=0.01, kernel=poly; total time=   0.0s\n",
      "[CV] END ...................C=10, gamma=0.01, kernel=sigmoid; total time=   0.0s\n",
      "[CV] END ...................C=10, gamma=0.01, kernel=sigmoid; total time=   0.0s\n",
      "[CV] END ...................C=10, gamma=0.01, kernel=sigmoid; total time=   0.1s\n",
      "[CV] END ...................C=10, gamma=0.01, kernel=sigmoid; total time=   0.0s\n",
      "[CV] END ...................C=10, gamma=0.01, kernel=sigmoid; total time=   0.0s\n",
      "[CV] END ......................C=10, gamma=0.001, kernel=rbf; total time=   0.0s\n",
      "[CV] END ......................C=10, gamma=0.001, kernel=rbf; total time=   0.0s\n",
      "[CV] END ......................C=10, gamma=0.001, kernel=rbf; total time=   0.0s\n",
      "[CV] END ......................C=10, gamma=0.001, kernel=rbf; total time=   0.0s\n",
      "[CV] END ......................C=10, gamma=0.001, kernel=rbf; total time=   0.0s\n",
      "[CV] END .....................C=10, gamma=0.001, kernel=poly; total time=   0.0s\n",
      "[CV] END .....................C=10, gamma=0.001, kernel=poly; total time=   0.1s\n",
      "[CV] END .....................C=10, gamma=0.001, kernel=poly; total time=   0.0s\n",
      "[CV] END .....................C=10, gamma=0.001, kernel=poly; total time=   0.0s\n",
      "[CV] END .....................C=10, gamma=0.001, kernel=poly; total time=   0.0s\n",
      "[CV] END ..................C=10, gamma=0.001, kernel=sigmoid; total time=   0.0s\n",
      "[CV] END ..................C=10, gamma=0.001, kernel=sigmoid; total time=   0.2s\n",
      "[CV] END ..................C=10, gamma=0.001, kernel=sigmoid; total time=   0.1s\n",
      "[CV] END ..................C=10, gamma=0.001, kernel=sigmoid; total time=   0.1s\n",
      "[CV] END ..................C=10, gamma=0.001, kernel=sigmoid; total time=   0.1s\n",
      "[CV] END .........................C=100, gamma=1, kernel=rbf; total time=   0.2s\n",
      "[CV] END .........................C=100, gamma=1, kernel=rbf; total time=   0.1s\n",
      "[CV] END .........................C=100, gamma=1, kernel=rbf; total time=   0.1s\n",
      "[CV] END .........................C=100, gamma=1, kernel=rbf; total time=   0.1s\n",
      "[CV] END .........................C=100, gamma=1, kernel=rbf; total time=   0.2s\n",
      "[CV] END ........................C=100, gamma=1, kernel=poly; total time=   5.2s\n",
      "[CV] END ........................C=100, gamma=1, kernel=poly; total time=   7.8s\n",
      "[CV] END ........................C=100, gamma=1, kernel=poly; total time=   1.4s\n",
      "[CV] END ........................C=100, gamma=1, kernel=poly; total time=   3.4s\n",
      "[CV] END ........................C=100, gamma=1, kernel=poly; total time=   5.8s\n",
      "[CV] END .....................C=100, gamma=1, kernel=sigmoid; total time=   0.0s\n",
      "[CV] END .....................C=100, gamma=1, kernel=sigmoid; total time=   0.0s\n",
      "[CV] END .....................C=100, gamma=1, kernel=sigmoid; total time=   0.0s\n",
      "[CV] END .....................C=100, gamma=1, kernel=sigmoid; total time=   0.0s\n",
      "[CV] END .....................C=100, gamma=1, kernel=sigmoid; total time=   0.0s\n",
      "[CV] END .......................C=100, gamma=0.1, kernel=rbf; total time=   0.0s\n",
      "[CV] END .......................C=100, gamma=0.1, kernel=rbf; total time=   0.0s\n",
      "[CV] END .......................C=100, gamma=0.1, kernel=rbf; total time=   0.0s\n",
      "[CV] END .......................C=100, gamma=0.1, kernel=rbf; total time=   0.0s\n",
      "[CV] END .......................C=100, gamma=0.1, kernel=rbf; total time=   0.1s\n",
      "[CV] END ......................C=100, gamma=0.1, kernel=poly; total time=   0.0s\n",
      "[CV] END ......................C=100, gamma=0.1, kernel=poly; total time=   0.0s\n",
      "[CV] END ......................C=100, gamma=0.1, kernel=poly; total time=   0.0s\n",
      "[CV] END ......................C=100, gamma=0.1, kernel=poly; total time=   0.0s\n",
      "[CV] END ......................C=100, gamma=0.1, kernel=poly; total time=   0.0s\n",
      "[CV] END ...................C=100, gamma=0.1, kernel=sigmoid; total time=   0.0s\n",
      "[CV] END ...................C=100, gamma=0.1, kernel=sigmoid; total time=   0.0s\n",
      "[CV] END ...................C=100, gamma=0.1, kernel=sigmoid; total time=   0.0s\n",
      "[CV] END ...................C=100, gamma=0.1, kernel=sigmoid; total time=   0.0s\n"
     ]
    },
    {
     "name": "stdout",
     "output_type": "stream",
     "text": [
      "[CV] END ...................C=100, gamma=0.1, kernel=sigmoid; total time=   0.0s\n",
      "[CV] END ......................C=100, gamma=0.01, kernel=rbf; total time=   0.1s\n",
      "[CV] END ......................C=100, gamma=0.01, kernel=rbf; total time=   0.0s\n",
      "[CV] END ......................C=100, gamma=0.01, kernel=rbf; total time=   0.0s\n",
      "[CV] END ......................C=100, gamma=0.01, kernel=rbf; total time=   0.0s\n",
      "[CV] END ......................C=100, gamma=0.01, kernel=rbf; total time=   0.0s\n",
      "[CV] END .....................C=100, gamma=0.01, kernel=poly; total time=   0.0s\n",
      "[CV] END .....................C=100, gamma=0.01, kernel=poly; total time=   0.0s\n",
      "[CV] END .....................C=100, gamma=0.01, kernel=poly; total time=   0.0s\n",
      "[CV] END .....................C=100, gamma=0.01, kernel=poly; total time=   0.0s\n",
      "[CV] END .....................C=100, gamma=0.01, kernel=poly; total time=   0.0s\n",
      "[CV] END ..................C=100, gamma=0.01, kernel=sigmoid; total time=   0.0s\n",
      "[CV] END ..................C=100, gamma=0.01, kernel=sigmoid; total time=   0.0s\n",
      "[CV] END ..................C=100, gamma=0.01, kernel=sigmoid; total time=   0.0s\n",
      "[CV] END ..................C=100, gamma=0.01, kernel=sigmoid; total time=   0.0s\n",
      "[CV] END ..................C=100, gamma=0.01, kernel=sigmoid; total time=   0.0s\n",
      "[CV] END .....................C=100, gamma=0.001, kernel=rbf; total time=   0.0s\n",
      "[CV] END .....................C=100, gamma=0.001, kernel=rbf; total time=   0.0s\n",
      "[CV] END .....................C=100, gamma=0.001, kernel=rbf; total time=   0.0s\n",
      "[CV] END .....................C=100, gamma=0.001, kernel=rbf; total time=   0.0s\n",
      "[CV] END .....................C=100, gamma=0.001, kernel=rbf; total time=   0.0s\n",
      "[CV] END ....................C=100, gamma=0.001, kernel=poly; total time=   0.1s\n",
      "[CV] END ....................C=100, gamma=0.001, kernel=poly; total time=   0.0s\n",
      "[CV] END ....................C=100, gamma=0.001, kernel=poly; total time=   0.0s\n",
      "[CV] END ....................C=100, gamma=0.001, kernel=poly; total time=   0.0s\n",
      "[CV] END ....................C=100, gamma=0.001, kernel=poly; total time=   0.0s\n",
      "[CV] END .................C=100, gamma=0.001, kernel=sigmoid; total time=   0.0s\n",
      "[CV] END .................C=100, gamma=0.001, kernel=sigmoid; total time=   0.0s\n",
      "[CV] END .................C=100, gamma=0.001, kernel=sigmoid; total time=   0.0s\n",
      "[CV] END .................C=100, gamma=0.001, kernel=sigmoid; total time=   0.0s\n",
      "[CV] END .................C=100, gamma=0.001, kernel=sigmoid; total time=   0.0s\n"
     ]
    },
    {
     "data": {
      "text/plain": [
       "GridSearchCV(estimator=SVC(),\n",
       "             param_grid={'C': [0.1, 1, 10, 100], 'gamma': [1, 0.1, 0.01, 0.001],\n",
       "                         'kernel': ['rbf', 'poly', 'sigmoid']},\n",
       "             verbose=2)"
      ]
     },
     "execution_count": 98,
     "metadata": {},
     "output_type": "execute_result"
    }
   ],
   "source": [
    "from sklearn.model_selection import GridSearchCV\n",
    "param_grid = {'C': [0.1,1, 10, 100], 'gamma': [1,0.1,0.01,0.001],'kernel': ['rbf', 'poly', 'sigmoid']}\n",
    "grid = GridSearchCV(SVC(),param_grid,refit=True,verbose=2)\n",
    "grid.fit(X_train,Y_train)"
   ]
  },
  {
   "cell_type": "code",
   "execution_count": 99,
   "id": "f304ff3e",
   "metadata": {},
   "outputs": [
    {
     "name": "stdout",
     "output_type": "stream",
     "text": [
      "SVC(C=10, gamma=1)\n"
     ]
    }
   ],
   "source": [
    "print(grid.best_estimator_)"
   ]
  },
  {
   "cell_type": "code",
   "execution_count": 100,
   "id": "7a8e4111",
   "metadata": {},
   "outputs": [
    {
     "name": "stdout",
     "output_type": "stream",
     "text": [
      "[[61 17]\n",
      " [28 18]]\n",
      "              precision    recall  f1-score   support\n",
      "\n",
      "        Down       0.69      0.78      0.73        78\n",
      "          Up       0.51      0.39      0.44        46\n",
      "\n",
      "    accuracy                           0.64       124\n",
      "   macro avg       0.60      0.59      0.59       124\n",
      "weighted avg       0.62      0.64      0.62       124\n",
      "\n"
     ]
    }
   ],
   "source": [
    "grid_predictions = grid.predict(X_test)\n",
    "print(confusion_matrix(Y_test,grid_predictions))\n",
    "print(classification_report(Y_test,grid_predictions))"
   ]
  }
 ],
 "metadata": {
  "kernelspec": {
   "display_name": "Python 3",
   "language": "python",
   "name": "python3"
  },
  "language_info": {
   "codemirror_mode": {
    "name": "ipython",
    "version": 3
   },
   "file_extension": ".py",
   "mimetype": "text/x-python",
   "name": "python",
   "nbconvert_exporter": "python",
   "pygments_lexer": "ipython3",
   "version": "3.7.10"
  }
 },
 "nbformat": 4,
 "nbformat_minor": 5
}
